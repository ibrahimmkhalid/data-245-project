{
 "cells": [
  {
   "cell_type": "code",
   "execution_count": 21,
   "id": "b6b3e9aa",
   "metadata": {},
   "outputs": [],
   "source": [
    "import pandas as pd\n",
    "import numpy as np\n",
    "import time\n",
    "from sklearn.metrics import accuracy_score, precision_score, recall_score, f1_score\n",
    "\n",
    "BENCMARK_ITER_N = 1\n",
    "\n",
    "benchmark_results = pd.DataFrame(\n",
    "    columns=[\n",
    "        \"model\",\n",
    "        \"Data size\",\n",
    "        \"accuracy\",\n",
    "        \"precision\",\n",
    "        \"recall\",\n",
    "        \"f1\",\n",
    "        \"time per data per iter\",\n",
    "    ]\n",
    ")\n",
    "\n",
    "def benchmarkAndUpdateResult(X_test, y_test, model, model_name):\n",
    "    \"\"\"\n",
    "    Benchmark the model and update the results dataframe\n",
    "\n",
    "    Parameters\n",
    "    ----------\n",
    "    X_test : The test data\n",
    "    y_test : The actual test labels\n",
    "    model : The model to be benchmarked, must have the predict method\n",
    "    model_name : The name of the model\n",
    "    \"\"\"\n",
    "    global benchmark_results\n",
    "    data_size = np.shape(X_test)[0]\n",
    "    y_pred = model.predict(X_test)\n",
    "    accuracy = accuracy_score(y_test, y_pred)\n",
    "    precision = precision_score(y_test, y_pred)\n",
    "    recall = recall_score(y_test, y_pred)\n",
    "    f1 = f1_score(y_test, y_pred)\n",
    "    iter_n = BENCMARK_ITER_N\n",
    "    start = time.time()\n",
    "    for _ in range(iter_n):  # benchmark\n",
    "        for j in range(data_size):  # simulating real time data\n",
    "            model.predict(X_test[j : j + 1])\n",
    "    end = time.time()\n",
    "    time_per_data_per_iter = (end - start) / data_size / iter_n\n",
    "    benchmark_results.loc[len(benchmark_results)] = [\n",
    "        model_name,\n",
    "        data_size,\n",
    "        accuracy,\n",
    "        precision,\n",
    "        recall,\n",
    "        f1,\n",
    "        time_per_data_per_iter,\n",
    "    ]\n",
    "    print(f\"{model_name} benchmark done\")"
   ]
  },
  {
   "cell_type": "code",
   "execution_count": 22,
   "id": "63d81448",
   "metadata": {},
   "outputs": [
    {
     "name": "stdout",
     "output_type": "stream",
     "text": [
      "SVM benchmark done\n"
     ]
    }
   ],
   "source": [
    "# sample binary classification, replace wiht the actual code for the project\n",
    "from sklearn.svm import SVC\n",
    "from sklearn.model_selection import train_test_split\n",
    "from sklearn.datasets import load_iris\n",
    "\n",
    "iris = load_iris()\n",
    "X = iris.data\n",
    "y = iris.target\n",
    "X = X[y != 0]\n",
    "y = y[y != 0]\n",
    "df = pd.DataFrame(X, columns=iris.feature_names)\n",
    "df[\"class\"] = y\n",
    "X = df.drop(columns=[\"class\"])\n",
    "y = df[\"class\"]\n",
    "X_train, X_test, y_train, y_test = train_test_split(X, y, test_size=0.2)\n",
    "\n",
    "model = SVC()\n",
    "model.fit(X_train, y_train)\n",
    "\n",
    "### Add the following line when you are confident in the model you developed\n",
    "benchmarkAndUpdateResult(X_test, y_test, model, \"SVM\")"
   ]
  },
  {
   "cell_type": "code",
   "execution_count": 23,
   "id": "bb23ea54",
   "metadata": {},
   "outputs": [
    {
     "data": {
      "text/html": [
       "<div>\n",
       "<style scoped>\n",
       "    .dataframe tbody tr th:only-of-type {\n",
       "        vertical-align: middle;\n",
       "    }\n",
       "\n",
       "    .dataframe tbody tr th {\n",
       "        vertical-align: top;\n",
       "    }\n",
       "\n",
       "    .dataframe thead th {\n",
       "        text-align: right;\n",
       "    }\n",
       "</style>\n",
       "<table border=\"1\" class=\"dataframe\">\n",
       "  <thead>\n",
       "    <tr style=\"text-align: right;\">\n",
       "      <th></th>\n",
       "      <th>model</th>\n",
       "      <th>Data size</th>\n",
       "      <th>accuracy</th>\n",
       "      <th>precision</th>\n",
       "      <th>recall</th>\n",
       "      <th>f1</th>\n",
       "      <th>time per data per iter</th>\n",
       "    </tr>\n",
       "  </thead>\n",
       "  <tbody>\n",
       "    <tr>\n",
       "      <th>0</th>\n",
       "      <td>SVM</td>\n",
       "      <td>20</td>\n",
       "      <td>0.9</td>\n",
       "      <td>1.0</td>\n",
       "      <td>0.833333</td>\n",
       "      <td>0.909091</td>\n",
       "      <td>0.00049</td>\n",
       "    </tr>\n",
       "  </tbody>\n",
       "</table>\n",
       "</div>"
      ],
      "text/plain": [
       "  model  Data size  accuracy  precision    recall        f1  \\\n",
       "0   SVM         20       0.9        1.0  0.833333  0.909091   \n",
       "\n",
       "   time per data per iter  \n",
       "0                 0.00049  "
      ]
     },
     "metadata": {},
     "output_type": "display_data"
    }
   ],
   "source": [
    "display(benchmark_results)"
   ]
  }
 ],
 "metadata": {
  "kernelspec": {
   "display_name": "Python 3 (ipykernel)",
   "language": "python",
   "name": "python3"
  },
  "language_info": {
   "codemirror_mode": {
    "name": "ipython",
    "version": 3
   },
   "file_extension": ".py",
   "mimetype": "text/x-python",
   "name": "python",
   "nbconvert_exporter": "python",
   "pygments_lexer": "ipython3",
   "version": "3.10.12"
  }
 },
 "nbformat": 4,
 "nbformat_minor": 5
}
