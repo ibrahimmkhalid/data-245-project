{
 "cells": [
  {
   "cell_type": "code",
   "execution_count": 19,
   "id": "69fb128c",
   "metadata": {},
   "outputs": [],
   "source": [
    "import pandas as pd\n",
    "from sklearn.linear_model import LogisticRegression\n",
    "import matplotlib.pyplot as plt\n",
    "import seaborn as sns\n",
    "import numpy as np\n",
    "from sklearn.preprocessing import StandardScaler\n",
    "from sklearn.decomposition import PCA\n",
    "from sklearn.model_selection import train_test_split\n",
    "from sklearn.model_selection import GridSearchCV\n",
    "from sklearn.svm import SVC\n",
    "from sklearn.metrics import accuracy_score, classification_report, precision_score, recall_score, f1_score\n",
    "import time"
   ]
  },
  {
   "cell_type": "code",
   "execution_count": 20,
   "id": "52ec8e38",
   "metadata": {},
   "outputs": [],
   "source": [
    "pd.set_option(\"display.width\", 10000)\n",
    "pd.set_option(\"display.max_rows\", 500)\n",
    "pd.set_option(\"display.max_columns\", 500)\n",
    "pd.set_option(\"display.max_colwidth\", None)\n",
    "\n",
    "TESTING = False\n",
    "TESTING_SIZE = 0.01\n",
    "BENCMARK_ITER_N = 10\n",
    "random_state = 245\n",
    "\n",
    "benchmark_results = pd.DataFrame(\n",
    "    columns=[\n",
    "        \"Model\",\n",
    "        \"Dataset\",\n",
    "        \"Info\",\n",
    "        \"Data size\",\n",
    "        \"Accuracy\",\n",
    "        \"Precision\",\n",
    "        \"Recall\",\n",
    "        \"F1\",\n",
    "        \"Time per data per iter\",\n",
    "    ]\n",
    ")\n",
    "\n",
    "\n",
    "def benchmarkAndUpdateResult(df, model, model_name, dataset_name, info, pipeline_fn, **pipeline_kwargs):\n",
    "    global benchmark_results\n",
    "    df_ = pipeline_fn(df=df, **pipeline_kwargs)\n",
    "    X = df_[df_.columns[:-1]]\n",
    "    y = df_[df_.columns[-1]]\n",
    "    data_size = np.shape(X)[0]\n",
    "    y_pred = model.predict(X)\n",
    "    accuracy = accuracy_score(y, y_pred)\n",
    "    precision = precision_score(y, y_pred)\n",
    "    recall = recall_score(y, y_pred)\n",
    "    f1 = f1_score(y, y_pred)\n",
    "    iter_n = BENCMARK_ITER_N\n",
    "    start = time.perf_counter_ns()\n",
    "    for _ in range(iter_n):  # benchmark\n",
    "        df_ = pipeline_fn(df=df, **pipeline_kwargs)\n",
    "        X = df_[df_.columns[:-1]]\n",
    "        model.predict(X)\n",
    "    end = time.perf_counter_ns()\n",
    "    time_per_data_per_iter = (end - start) / data_size / iter_n\n",
    "    benchmark_results.loc[len(benchmark_results)] = [\n",
    "        model_name,\n",
    "        dataset_name,\n",
    "        info,\n",
    "        data_size,\n",
    "        accuracy,\n",
    "        precision,\n",
    "        recall,\n",
    "        f1,\n",
    "        time_per_data_per_iter,\n",
    "    ]\n",
    "    print(classification_report(y, y_pred))\n",
    "    print()\n",
    "    print(f\"Model: {model_name}\")\n",
    "    print(f\"Data size: {data_size}\")\n",
    "    print(f\"Accuracy: {accuracy}\")\n",
    "    print(f\"Precision: {precision}\")\n",
    "    print(f\"Recall: {recall}\")\n",
    "    print(f\"F1: {f1}\")\n",
    "    print(f\"Time per data per iter: {time_per_data_per_iter}\")"
   ]
  },
  {
   "cell_type": "code",
   "execution_count": 21,
   "id": "dafed65f",
   "metadata": {},
   "outputs": [],
   "source": [
    "def test_train_val_split(df, random_state=random_state):\n",
    "    X_train, X_tmp, y_train, y_tmp = train_test_split(\n",
    "        df.iloc[:, :-1], df.iloc[:, -1], test_size=0.3, random_state=random_state\n",
    "    )\n",
    "    X_val, X_test, y_val, y_test = train_test_split(\n",
    "        X_tmp, y_tmp, test_size=0.5, random_state=random_state\n",
    "    )\n",
    "    return X_train, X_val, X_test, y_train, y_val, y_test"
   ]
  },
  {
   "cell_type": "code",
   "execution_count": 22,
   "id": "5db8635f",
   "metadata": {},
   "outputs": [
    {
     "name": "stdout",
     "output_type": "stream",
     "text": [
      "Known Attacks Path: C:\\Users\\harsh\\OneDrive\\Desktop\\study work\\DATA 245 -ml\\Project\\data\\data\\probe_known_attacks_small.csv\n",
      "Similar Attacks Path: C:\\Users\\harsh\\OneDrive\\Desktop\\study work\\DATA 245 -ml\\Project\\data\\data\\probe_similar_attacks_small.csv\n",
      "New Attacks Path: C:\\Users\\harsh\\OneDrive\\Desktop\\study work\\DATA 245 -ml\\Project\\data\\data\\probe_new_attacks_small.csv\n"
     ]
    }
   ],
   "source": [
    "# Base path for the data files on your local system\n",
    "prepend_path = BASE_PATH\n",
    "\n",
    "# Define the paths to the files\n",
    "known_attacks_path = f\"{prepend_path}\\probe_known_attacks_small.csv\"\n",
    "similar_attacks_path = f\"{prepend_path}\\probe_similar_attacks_small.csv\"\n",
    "new_attacks_path = f\"{prepend_path}\\probe_new_attacks_small.csv\"\n",
    "\n",
    "# Example to print the paths (optional, for debugging purposes)\n",
    "print(\"Known Attacks Path:\", known_attacks_path)\n",
    "print(\"Similar Attacks Path:\", similar_attacks_path)\n",
    "print(\"New Attacks Path:\", new_attacks_path)\n"
   ]
  },
  {
   "cell_type": "code",
   "execution_count": 23,
   "id": "332640bb",
   "metadata": {},
   "outputs": [],
   "source": [
    "df = pd.read_csv(known_attacks_path, low_memory=False)"
   ]
  },
  {
   "cell_type": "code",
   "execution_count": 24,
   "id": "18297501",
   "metadata": {},
   "outputs": [
    {
     "data": {
      "text/plain": [
       "(85060, 51)"
      ]
     },
     "execution_count": 24,
     "metadata": {},
     "output_type": "execute_result"
    }
   ],
   "source": [
    "if TESTING:\n",
    "    df = df.sample(frac=TESTING_SIZE, random_state=random_state)\n",
    "    df.reset_index(drop=True, inplace=True)\n",
    "df.shape"
   ]
  },
  {
   "cell_type": "code",
   "execution_count": 25,
   "id": "4cdd9813",
   "metadata": {},
   "outputs": [
    {
     "data": {
      "text/plain": [
       "Index(['ip_type', 'ip_len', 'ip_id', 'ip_offset', 'ip_RF', 'ip_DF', 'ip_MF', 'ip_proto', 'ip_checksum', 'udp_sport', 'udp_dport', 'udp_len', 'udp_chk', 'icmp_type', 'icmp_code', 'icmp_chk', 'tcp_sport', 'tcp_dport', 'tcp_seq', 'tcp_ack', 'tcp_ffyn', 'tcp_fsyn', 'tcp_frst', 'tcp_fpush', 'tcp_fack', 'tcp_furg', 'fr_length', 'conn_status', 'count_fr_src_dst', 'count_fr_dst_src', 'count_serv_src_dst', 'count_serv_dst_src', 'num_bytes_src_dst', 'num_bytes_dst_src', 'num_bytes_serv_src_dst', 'num_bytes_serv_dst_src', 'num_pushed_src_dst', 'num_pushed_dst_src', 'num_syn_fin_src_dst', 'num_syn_fin_dst_src', 'num_fin_src_dst', 'num_fin_dst_src', 'num_ack_src_dst', 'num_ack_dst_src', 'num_syn_src_dst', 'num_syn_dst_src', 'num_rst_src_dst', 'num_rst_dst_src', 'first_packet', 'first_serv_packet', 'class'], dtype='object')"
      ]
     },
     "execution_count": 25,
     "metadata": {},
     "output_type": "execute_result"
    }
   ],
   "source": [
    "df.columns"
   ]
  },
  {
   "cell_type": "code",
   "execution_count": 26,
   "id": "31c9ed06",
   "metadata": {},
   "outputs": [
    {
     "data": {
      "text/html": [
       "<div>\n",
       "<style scoped>\n",
       "    .dataframe tbody tr th:only-of-type {\n",
       "        vertical-align: middle;\n",
       "    }\n",
       "\n",
       "    .dataframe tbody tr th {\n",
       "        vertical-align: top;\n",
       "    }\n",
       "\n",
       "    .dataframe thead th {\n",
       "        text-align: right;\n",
       "    }\n",
       "</style>\n",
       "<table border=\"1\" class=\"dataframe\">\n",
       "  <thead>\n",
       "    <tr style=\"text-align: right;\">\n",
       "      <th></th>\n",
       "      <th>ip_type</th>\n",
       "      <th>ip_len</th>\n",
       "      <th>ip_id</th>\n",
       "      <th>ip_offset</th>\n",
       "      <th>ip_RF</th>\n",
       "      <th>ip_DF</th>\n",
       "      <th>ip_MF</th>\n",
       "      <th>ip_proto</th>\n",
       "      <th>ip_checksum</th>\n",
       "      <th>udp_sport</th>\n",
       "      <th>udp_dport</th>\n",
       "      <th>udp_len</th>\n",
       "      <th>udp_chk</th>\n",
       "      <th>icmp_type</th>\n",
       "      <th>icmp_code</th>\n",
       "      <th>icmp_chk</th>\n",
       "      <th>tcp_sport</th>\n",
       "      <th>tcp_dport</th>\n",
       "      <th>tcp_seq</th>\n",
       "      <th>tcp_ack</th>\n",
       "      <th>tcp_ffyn</th>\n",
       "      <th>tcp_fsyn</th>\n",
       "      <th>tcp_frst</th>\n",
       "      <th>tcp_fpush</th>\n",
       "      <th>tcp_fack</th>\n",
       "      <th>tcp_furg</th>\n",
       "      <th>fr_length</th>\n",
       "      <th>conn_status</th>\n",
       "      <th>count_fr_src_dst</th>\n",
       "      <th>count_fr_dst_src</th>\n",
       "      <th>count_serv_src_dst</th>\n",
       "      <th>count_serv_dst_src</th>\n",
       "      <th>num_bytes_src_dst</th>\n",
       "      <th>num_bytes_dst_src</th>\n",
       "      <th>num_bytes_serv_src_dst</th>\n",
       "      <th>num_bytes_serv_dst_src</th>\n",
       "      <th>num_pushed_src_dst</th>\n",
       "      <th>num_pushed_dst_src</th>\n",
       "      <th>num_syn_fin_src_dst</th>\n",
       "      <th>num_syn_fin_dst_src</th>\n",
       "      <th>num_fin_src_dst</th>\n",
       "      <th>num_fin_dst_src</th>\n",
       "      <th>num_ack_src_dst</th>\n",
       "      <th>num_ack_dst_src</th>\n",
       "      <th>num_syn_src_dst</th>\n",
       "      <th>num_syn_dst_src</th>\n",
       "      <th>num_rst_src_dst</th>\n",
       "      <th>num_rst_dst_src</th>\n",
       "      <th>first_packet</th>\n",
       "      <th>first_serv_packet</th>\n",
       "      <th>class</th>\n",
       "    </tr>\n",
       "  </thead>\n",
       "  <tbody>\n",
       "    <tr>\n",
       "      <th>0</th>\n",
       "      <td>0</td>\n",
       "      <td>552</td>\n",
       "      <td>13968</td>\n",
       "      <td>0</td>\n",
       "      <td>0</td>\n",
       "      <td>0</td>\n",
       "      <td>0</td>\n",
       "      <td>6</td>\n",
       "      <td>49165</td>\n",
       "      <td>0</td>\n",
       "      <td>0</td>\n",
       "      <td>0</td>\n",
       "      <td>0</td>\n",
       "      <td>0</td>\n",
       "      <td>0</td>\n",
       "      <td>0</td>\n",
       "      <td>80</td>\n",
       "      <td>54640</td>\n",
       "      <td>2925601313</td>\n",
       "      <td>2784850843</td>\n",
       "      <td>0</td>\n",
       "      <td>0</td>\n",
       "      <td>0</td>\n",
       "      <td>0</td>\n",
       "      <td>1</td>\n",
       "      <td>0</td>\n",
       "      <td>512</td>\n",
       "      <td>6</td>\n",
       "      <td>416</td>\n",
       "      <td>579</td>\n",
       "      <td>416</td>\n",
       "      <td>579</td>\n",
       "      <td>5121</td>\n",
       "      <td>65535</td>\n",
       "      <td>5121</td>\n",
       "      <td>65535</td>\n",
       "      <td>1</td>\n",
       "      <td>0</td>\n",
       "      <td>0</td>\n",
       "      <td>0</td>\n",
       "      <td>0</td>\n",
       "      <td>0</td>\n",
       "      <td>415</td>\n",
       "      <td>579</td>\n",
       "      <td>1</td>\n",
       "      <td>1</td>\n",
       "      <td>0</td>\n",
       "      <td>0</td>\n",
       "      <td>0</td>\n",
       "      <td>0</td>\n",
       "      <td>normal</td>\n",
       "    </tr>\n",
       "    <tr>\n",
       "      <th>1</th>\n",
       "      <td>0</td>\n",
       "      <td>552</td>\n",
       "      <td>13969</td>\n",
       "      <td>0</td>\n",
       "      <td>0</td>\n",
       "      <td>0</td>\n",
       "      <td>0</td>\n",
       "      <td>6</td>\n",
       "      <td>49164</td>\n",
       "      <td>0</td>\n",
       "      <td>0</td>\n",
       "      <td>0</td>\n",
       "      <td>0</td>\n",
       "      <td>0</td>\n",
       "      <td>0</td>\n",
       "      <td>0</td>\n",
       "      <td>80</td>\n",
       "      <td>54640</td>\n",
       "      <td>2925601825</td>\n",
       "      <td>2784850843</td>\n",
       "      <td>0</td>\n",
       "      <td>0</td>\n",
       "      <td>0</td>\n",
       "      <td>0</td>\n",
       "      <td>1</td>\n",
       "      <td>0</td>\n",
       "      <td>512</td>\n",
       "      <td>6</td>\n",
       "      <td>416</td>\n",
       "      <td>580</td>\n",
       "      <td>416</td>\n",
       "      <td>580</td>\n",
       "      <td>5121</td>\n",
       "      <td>65535</td>\n",
       "      <td>5121</td>\n",
       "      <td>65535</td>\n",
       "      <td>1</td>\n",
       "      <td>0</td>\n",
       "      <td>0</td>\n",
       "      <td>0</td>\n",
       "      <td>0</td>\n",
       "      <td>0</td>\n",
       "      <td>415</td>\n",
       "      <td>580</td>\n",
       "      <td>1</td>\n",
       "      <td>1</td>\n",
       "      <td>0</td>\n",
       "      <td>0</td>\n",
       "      <td>0</td>\n",
       "      <td>0</td>\n",
       "      <td>normal</td>\n",
       "    </tr>\n",
       "    <tr>\n",
       "      <th>2</th>\n",
       "      <td>0</td>\n",
       "      <td>40</td>\n",
       "      <td>25941</td>\n",
       "      <td>0</td>\n",
       "      <td>0</td>\n",
       "      <td>0</td>\n",
       "      <td>0</td>\n",
       "      <td>6</td>\n",
       "      <td>44274</td>\n",
       "      <td>0</td>\n",
       "      <td>0</td>\n",
       "      <td>0</td>\n",
       "      <td>0</td>\n",
       "      <td>0</td>\n",
       "      <td>0</td>\n",
       "      <td>0</td>\n",
       "      <td>58502</td>\n",
       "      <td>80</td>\n",
       "      <td>0</td>\n",
       "      <td>394780220</td>\n",
       "      <td>0</td>\n",
       "      <td>0</td>\n",
       "      <td>0</td>\n",
       "      <td>0</td>\n",
       "      <td>1</td>\n",
       "      <td>0</td>\n",
       "      <td>6</td>\n",
       "      <td>1</td>\n",
       "      <td>1</td>\n",
       "      <td>0</td>\n",
       "      <td>1</td>\n",
       "      <td>0</td>\n",
       "      <td>6</td>\n",
       "      <td>0</td>\n",
       "      <td>6</td>\n",
       "      <td>0</td>\n",
       "      <td>0</td>\n",
       "      <td>0</td>\n",
       "      <td>0</td>\n",
       "      <td>0</td>\n",
       "      <td>0</td>\n",
       "      <td>0</td>\n",
       "      <td>1</td>\n",
       "      <td>0</td>\n",
       "      <td>0</td>\n",
       "      <td>0</td>\n",
       "      <td>0</td>\n",
       "      <td>0</td>\n",
       "      <td>1</td>\n",
       "      <td>1</td>\n",
       "      <td>attack</td>\n",
       "    </tr>\n",
       "    <tr>\n",
       "      <th>3</th>\n",
       "      <td>0</td>\n",
       "      <td>52</td>\n",
       "      <td>56525</td>\n",
       "      <td>0</td>\n",
       "      <td>0</td>\n",
       "      <td>1</td>\n",
       "      <td>0</td>\n",
       "      <td>6</td>\n",
       "      <td>56195</td>\n",
       "      <td>0</td>\n",
       "      <td>0</td>\n",
       "      <td>0</td>\n",
       "      <td>0</td>\n",
       "      <td>0</td>\n",
       "      <td>0</td>\n",
       "      <td>0</td>\n",
       "      <td>56069</td>\n",
       "      <td>80</td>\n",
       "      <td>7130052</td>\n",
       "      <td>2926006578</td>\n",
       "      <td>0</td>\n",
       "      <td>0</td>\n",
       "      <td>0</td>\n",
       "      <td>0</td>\n",
       "      <td>1</td>\n",
       "      <td>0</td>\n",
       "      <td>12</td>\n",
       "      <td>6</td>\n",
       "      <td>31</td>\n",
       "      <td>37</td>\n",
       "      <td>31</td>\n",
       "      <td>37</td>\n",
       "      <td>500</td>\n",
       "      <td>16916</td>\n",
       "      <td>500</td>\n",
       "      <td>16916</td>\n",
       "      <td>1</td>\n",
       "      <td>0</td>\n",
       "      <td>0</td>\n",
       "      <td>0</td>\n",
       "      <td>0</td>\n",
       "      <td>0</td>\n",
       "      <td>30</td>\n",
       "      <td>37</td>\n",
       "      <td>1</td>\n",
       "      <td>1</td>\n",
       "      <td>0</td>\n",
       "      <td>0</td>\n",
       "      <td>0</td>\n",
       "      <td>0</td>\n",
       "      <td>normal</td>\n",
       "    </tr>\n",
       "    <tr>\n",
       "      <th>4</th>\n",
       "      <td>0</td>\n",
       "      <td>52</td>\n",
       "      <td>27415</td>\n",
       "      <td>0</td>\n",
       "      <td>0</td>\n",
       "      <td>1</td>\n",
       "      <td>0</td>\n",
       "      <td>6</td>\n",
       "      <td>19834</td>\n",
       "      <td>0</td>\n",
       "      <td>0</td>\n",
       "      <td>0</td>\n",
       "      <td>0</td>\n",
       "      <td>0</td>\n",
       "      <td>0</td>\n",
       "      <td>0</td>\n",
       "      <td>54640</td>\n",
       "      <td>80</td>\n",
       "      <td>2784850843</td>\n",
       "      <td>2925599265</td>\n",
       "      <td>0</td>\n",
       "      <td>0</td>\n",
       "      <td>0</td>\n",
       "      <td>0</td>\n",
       "      <td>1</td>\n",
       "      <td>0</td>\n",
       "      <td>12</td>\n",
       "      <td>6</td>\n",
       "      <td>417</td>\n",
       "      <td>580</td>\n",
       "      <td>417</td>\n",
       "      <td>580</td>\n",
       "      <td>5133</td>\n",
       "      <td>65535</td>\n",
       "      <td>5133</td>\n",
       "      <td>65535</td>\n",
       "      <td>1</td>\n",
       "      <td>0</td>\n",
       "      <td>0</td>\n",
       "      <td>0</td>\n",
       "      <td>0</td>\n",
       "      <td>0</td>\n",
       "      <td>416</td>\n",
       "      <td>580</td>\n",
       "      <td>1</td>\n",
       "      <td>1</td>\n",
       "      <td>0</td>\n",
       "      <td>0</td>\n",
       "      <td>0</td>\n",
       "      <td>0</td>\n",
       "      <td>normal</td>\n",
       "    </tr>\n",
       "  </tbody>\n",
       "</table>\n",
       "</div>"
      ],
      "text/plain": [
       "   ip_type  ip_len  ip_id  ip_offset  ip_RF  ip_DF  ip_MF  ip_proto  ip_checksum  udp_sport  udp_dport  udp_len  udp_chk  icmp_type  icmp_code  icmp_chk  tcp_sport  tcp_dport     tcp_seq     tcp_ack  tcp_ffyn  tcp_fsyn  tcp_frst  tcp_fpush  tcp_fack  tcp_furg  fr_length  conn_status  count_fr_src_dst  count_fr_dst_src  count_serv_src_dst  count_serv_dst_src  num_bytes_src_dst  num_bytes_dst_src  num_bytes_serv_src_dst  num_bytes_serv_dst_src  num_pushed_src_dst  num_pushed_dst_src  num_syn_fin_src_dst  num_syn_fin_dst_src  num_fin_src_dst  num_fin_dst_src  num_ack_src_dst  num_ack_dst_src  num_syn_src_dst  num_syn_dst_src  num_rst_src_dst  num_rst_dst_src  first_packet  first_serv_packet   class\n",
       "0        0     552  13968          0      0      0      0         6        49165          0          0        0        0          0          0         0         80      54640  2925601313  2784850843         0         0         0          0         1         0        512            6               416               579                 416                 579               5121              65535                    5121                   65535                   1                   0                    0                    0                0                0              415              579                1                1                0                0             0                  0  normal\n",
       "1        0     552  13969          0      0      0      0         6        49164          0          0        0        0          0          0         0         80      54640  2925601825  2784850843         0         0         0          0         1         0        512            6               416               580                 416                 580               5121              65535                    5121                   65535                   1                   0                    0                    0                0                0              415              580                1                1                0                0             0                  0  normal\n",
       "2        0      40  25941          0      0      0      0         6        44274          0          0        0        0          0          0         0      58502         80           0   394780220         0         0         0          0         1         0          6            1                 1                 0                   1                   0                  6                  0                       6                       0                   0                   0                    0                    0                0                0                1                0                0                0                0                0             1                  1  attack\n",
       "3        0      52  56525          0      0      1      0         6        56195          0          0        0        0          0          0         0      56069         80     7130052  2926006578         0         0         0          0         1         0         12            6                31                37                  31                  37                500              16916                     500                   16916                   1                   0                    0                    0                0                0               30               37                1                1                0                0             0                  0  normal\n",
       "4        0      52  27415          0      0      1      0         6        19834          0          0        0        0          0          0         0      54640         80  2784850843  2925599265         0         0         0          0         1         0         12            6               417               580                 417                 580               5133              65535                    5133                   65535                   1                   0                    0                    0                0                0              416              580                1                1                0                0             0                  0  normal"
      ]
     },
     "execution_count": 26,
     "metadata": {},
     "output_type": "execute_result"
    }
   ],
   "source": [
    "df.head()"
   ]
  },
  {
   "cell_type": "code",
   "execution_count": 27,
   "id": "36bc9fd8",
   "metadata": {},
   "outputs": [
    {
     "data": {
      "text/html": [
       "<div>\n",
       "<style scoped>\n",
       "    .dataframe tbody tr th:only-of-type {\n",
       "        vertical-align: middle;\n",
       "    }\n",
       "\n",
       "    .dataframe tbody tr th {\n",
       "        vertical-align: top;\n",
       "    }\n",
       "\n",
       "    .dataframe thead th {\n",
       "        text-align: right;\n",
       "    }\n",
       "</style>\n",
       "<table border=\"1\" class=\"dataframe\">\n",
       "  <thead>\n",
       "    <tr style=\"text-align: right;\">\n",
       "      <th></th>\n",
       "      <th>ip_type</th>\n",
       "      <th>ip_len</th>\n",
       "      <th>ip_id</th>\n",
       "      <th>ip_offset</th>\n",
       "      <th>ip_RF</th>\n",
       "      <th>ip_DF</th>\n",
       "      <th>ip_MF</th>\n",
       "      <th>ip_proto</th>\n",
       "      <th>ip_checksum</th>\n",
       "      <th>udp_sport</th>\n",
       "      <th>udp_dport</th>\n",
       "      <th>udp_len</th>\n",
       "      <th>udp_chk</th>\n",
       "      <th>icmp_type</th>\n",
       "      <th>icmp_code</th>\n",
       "      <th>icmp_chk</th>\n",
       "      <th>tcp_sport</th>\n",
       "      <th>tcp_dport</th>\n",
       "      <th>tcp_seq</th>\n",
       "      <th>tcp_ack</th>\n",
       "      <th>tcp_ffyn</th>\n",
       "      <th>tcp_fsyn</th>\n",
       "      <th>tcp_frst</th>\n",
       "      <th>tcp_fpush</th>\n",
       "      <th>tcp_fack</th>\n",
       "      <th>tcp_furg</th>\n",
       "      <th>fr_length</th>\n",
       "      <th>conn_status</th>\n",
       "      <th>count_fr_src_dst</th>\n",
       "      <th>count_fr_dst_src</th>\n",
       "      <th>count_serv_src_dst</th>\n",
       "      <th>count_serv_dst_src</th>\n",
       "      <th>num_bytes_src_dst</th>\n",
       "      <th>num_bytes_dst_src</th>\n",
       "      <th>num_bytes_serv_src_dst</th>\n",
       "      <th>num_bytes_serv_dst_src</th>\n",
       "      <th>num_pushed_src_dst</th>\n",
       "      <th>num_pushed_dst_src</th>\n",
       "      <th>num_syn_fin_src_dst</th>\n",
       "      <th>num_syn_fin_dst_src</th>\n",
       "      <th>num_fin_src_dst</th>\n",
       "      <th>num_fin_dst_src</th>\n",
       "      <th>num_ack_src_dst</th>\n",
       "      <th>num_ack_dst_src</th>\n",
       "      <th>num_syn_src_dst</th>\n",
       "      <th>num_syn_dst_src</th>\n",
       "      <th>num_rst_src_dst</th>\n",
       "      <th>num_rst_dst_src</th>\n",
       "      <th>first_packet</th>\n",
       "      <th>first_serv_packet</th>\n",
       "      <th>class</th>\n",
       "    </tr>\n",
       "  </thead>\n",
       "  <tbody>\n",
       "    <tr>\n",
       "      <th>count</th>\n",
       "      <td>85060.000000</td>\n",
       "      <td>85060.000000</td>\n",
       "      <td>85060.000000</td>\n",
       "      <td>85060.0</td>\n",
       "      <td>85060.0</td>\n",
       "      <td>85060.000000</td>\n",
       "      <td>85060.0</td>\n",
       "      <td>85060.000000</td>\n",
       "      <td>85060.000000</td>\n",
       "      <td>85060.000000</td>\n",
       "      <td>85060.000000</td>\n",
       "      <td>85060.000000</td>\n",
       "      <td>85060.000000</td>\n",
       "      <td>85060.000000</td>\n",
       "      <td>85060.000000</td>\n",
       "      <td>85060.000000</td>\n",
       "      <td>85060.000000</td>\n",
       "      <td>85060.000000</td>\n",
       "      <td>8.506000e+04</td>\n",
       "      <td>8.506000e+04</td>\n",
       "      <td>85060.000000</td>\n",
       "      <td>85060.000000</td>\n",
       "      <td>85060.000000</td>\n",
       "      <td>85060.000000</td>\n",
       "      <td>85060.000000</td>\n",
       "      <td>85060.000000</td>\n",
       "      <td>85060.000000</td>\n",
       "      <td>85060.000000</td>\n",
       "      <td>85060.000000</td>\n",
       "      <td>85060.000000</td>\n",
       "      <td>85060.000000</td>\n",
       "      <td>85060.000000</td>\n",
       "      <td>85060.000000</td>\n",
       "      <td>85060.000000</td>\n",
       "      <td>85060.000000</td>\n",
       "      <td>85060.000000</td>\n",
       "      <td>85060.000000</td>\n",
       "      <td>85060.000000</td>\n",
       "      <td>85060.000000</td>\n",
       "      <td>85060.000000</td>\n",
       "      <td>85060.000000</td>\n",
       "      <td>85060.000000</td>\n",
       "      <td>85060.000000</td>\n",
       "      <td>85060.000000</td>\n",
       "      <td>85060.000000</td>\n",
       "      <td>85060.000000</td>\n",
       "      <td>85060.000000</td>\n",
       "      <td>85060.000000</td>\n",
       "      <td>85060.000000</td>\n",
       "      <td>85060.000000</td>\n",
       "      <td>85060</td>\n",
       "    </tr>\n",
       "    <tr>\n",
       "      <th>unique</th>\n",
       "      <td>NaN</td>\n",
       "      <td>NaN</td>\n",
       "      <td>NaN</td>\n",
       "      <td>NaN</td>\n",
       "      <td>NaN</td>\n",
       "      <td>NaN</td>\n",
       "      <td>NaN</td>\n",
       "      <td>NaN</td>\n",
       "      <td>NaN</td>\n",
       "      <td>NaN</td>\n",
       "      <td>NaN</td>\n",
       "      <td>NaN</td>\n",
       "      <td>NaN</td>\n",
       "      <td>NaN</td>\n",
       "      <td>NaN</td>\n",
       "      <td>NaN</td>\n",
       "      <td>NaN</td>\n",
       "      <td>NaN</td>\n",
       "      <td>NaN</td>\n",
       "      <td>NaN</td>\n",
       "      <td>NaN</td>\n",
       "      <td>NaN</td>\n",
       "      <td>NaN</td>\n",
       "      <td>NaN</td>\n",
       "      <td>NaN</td>\n",
       "      <td>NaN</td>\n",
       "      <td>NaN</td>\n",
       "      <td>NaN</td>\n",
       "      <td>NaN</td>\n",
       "      <td>NaN</td>\n",
       "      <td>NaN</td>\n",
       "      <td>NaN</td>\n",
       "      <td>NaN</td>\n",
       "      <td>NaN</td>\n",
       "      <td>NaN</td>\n",
       "      <td>NaN</td>\n",
       "      <td>NaN</td>\n",
       "      <td>NaN</td>\n",
       "      <td>NaN</td>\n",
       "      <td>NaN</td>\n",
       "      <td>NaN</td>\n",
       "      <td>NaN</td>\n",
       "      <td>NaN</td>\n",
       "      <td>NaN</td>\n",
       "      <td>NaN</td>\n",
       "      <td>NaN</td>\n",
       "      <td>NaN</td>\n",
       "      <td>NaN</td>\n",
       "      <td>NaN</td>\n",
       "      <td>NaN</td>\n",
       "      <td>2</td>\n",
       "    </tr>\n",
       "    <tr>\n",
       "      <th>top</th>\n",
       "      <td>NaN</td>\n",
       "      <td>NaN</td>\n",
       "      <td>NaN</td>\n",
       "      <td>NaN</td>\n",
       "      <td>NaN</td>\n",
       "      <td>NaN</td>\n",
       "      <td>NaN</td>\n",
       "      <td>NaN</td>\n",
       "      <td>NaN</td>\n",
       "      <td>NaN</td>\n",
       "      <td>NaN</td>\n",
       "      <td>NaN</td>\n",
       "      <td>NaN</td>\n",
       "      <td>NaN</td>\n",
       "      <td>NaN</td>\n",
       "      <td>NaN</td>\n",
       "      <td>NaN</td>\n",
       "      <td>NaN</td>\n",
       "      <td>NaN</td>\n",
       "      <td>NaN</td>\n",
       "      <td>NaN</td>\n",
       "      <td>NaN</td>\n",
       "      <td>NaN</td>\n",
       "      <td>NaN</td>\n",
       "      <td>NaN</td>\n",
       "      <td>NaN</td>\n",
       "      <td>NaN</td>\n",
       "      <td>NaN</td>\n",
       "      <td>NaN</td>\n",
       "      <td>NaN</td>\n",
       "      <td>NaN</td>\n",
       "      <td>NaN</td>\n",
       "      <td>NaN</td>\n",
       "      <td>NaN</td>\n",
       "      <td>NaN</td>\n",
       "      <td>NaN</td>\n",
       "      <td>NaN</td>\n",
       "      <td>NaN</td>\n",
       "      <td>NaN</td>\n",
       "      <td>NaN</td>\n",
       "      <td>NaN</td>\n",
       "      <td>NaN</td>\n",
       "      <td>NaN</td>\n",
       "      <td>NaN</td>\n",
       "      <td>NaN</td>\n",
       "      <td>NaN</td>\n",
       "      <td>NaN</td>\n",
       "      <td>NaN</td>\n",
       "      <td>NaN</td>\n",
       "      <td>NaN</td>\n",
       "      <td>normal</td>\n",
       "    </tr>\n",
       "    <tr>\n",
       "      <th>freq</th>\n",
       "      <td>NaN</td>\n",
       "      <td>NaN</td>\n",
       "      <td>NaN</td>\n",
       "      <td>NaN</td>\n",
       "      <td>NaN</td>\n",
       "      <td>NaN</td>\n",
       "      <td>NaN</td>\n",
       "      <td>NaN</td>\n",
       "      <td>NaN</td>\n",
       "      <td>NaN</td>\n",
       "      <td>NaN</td>\n",
       "      <td>NaN</td>\n",
       "      <td>NaN</td>\n",
       "      <td>NaN</td>\n",
       "      <td>NaN</td>\n",
       "      <td>NaN</td>\n",
       "      <td>NaN</td>\n",
       "      <td>NaN</td>\n",
       "      <td>NaN</td>\n",
       "      <td>NaN</td>\n",
       "      <td>NaN</td>\n",
       "      <td>NaN</td>\n",
       "      <td>NaN</td>\n",
       "      <td>NaN</td>\n",
       "      <td>NaN</td>\n",
       "      <td>NaN</td>\n",
       "      <td>NaN</td>\n",
       "      <td>NaN</td>\n",
       "      <td>NaN</td>\n",
       "      <td>NaN</td>\n",
       "      <td>NaN</td>\n",
       "      <td>NaN</td>\n",
       "      <td>NaN</td>\n",
       "      <td>NaN</td>\n",
       "      <td>NaN</td>\n",
       "      <td>NaN</td>\n",
       "      <td>NaN</td>\n",
       "      <td>NaN</td>\n",
       "      <td>NaN</td>\n",
       "      <td>NaN</td>\n",
       "      <td>NaN</td>\n",
       "      <td>NaN</td>\n",
       "      <td>NaN</td>\n",
       "      <td>NaN</td>\n",
       "      <td>NaN</td>\n",
       "      <td>NaN</td>\n",
       "      <td>NaN</td>\n",
       "      <td>NaN</td>\n",
       "      <td>NaN</td>\n",
       "      <td>NaN</td>\n",
       "      <td>48432</td>\n",
       "    </tr>\n",
       "    <tr>\n",
       "      <th>mean</th>\n",
       "      <td>0.754667</td>\n",
       "      <td>100.386174</td>\n",
       "      <td>31165.699577</td>\n",
       "      <td>0.0</td>\n",
       "      <td>0.0</td>\n",
       "      <td>0.363931</td>\n",
       "      <td>0.0</td>\n",
       "      <td>8.039925</td>\n",
       "      <td>33087.734246</td>\n",
       "      <td>7335.142699</td>\n",
       "      <td>4493.626499</td>\n",
       "      <td>7.966353</td>\n",
       "      <td>6440.783964</td>\n",
       "      <td>0.062168</td>\n",
       "      <td>0.054456</td>\n",
       "      <td>620.470245</td>\n",
       "      <td>27821.129226</td>\n",
       "      <td>13938.420973</td>\n",
       "      <td>1.471971e+09</td>\n",
       "      <td>1.008449e+09</td>\n",
       "      <td>0.553903</td>\n",
       "      <td>0.568152</td>\n",
       "      <td>0.527980</td>\n",
       "      <td>0.486151</td>\n",
       "      <td>0.913884</td>\n",
       "      <td>0.473360</td>\n",
       "      <td>65.945121</td>\n",
       "      <td>5.869821</td>\n",
       "      <td>405.885857</td>\n",
       "      <td>520.797084</td>\n",
       "      <td>328.958617</td>\n",
       "      <td>291.029732</td>\n",
       "      <td>10105.989772</td>\n",
       "      <td>28114.899694</td>\n",
       "      <td>8279.352187</td>\n",
       "      <td>17662.463144</td>\n",
       "      <td>40.784376</td>\n",
       "      <td>44.620327</td>\n",
       "      <td>36.238349</td>\n",
       "      <td>74.642147</td>\n",
       "      <td>83.044075</td>\n",
       "      <td>19.918340</td>\n",
       "      <td>162.481060</td>\n",
       "      <td>265.684047</td>\n",
       "      <td>113.913144</td>\n",
       "      <td>30.737621</td>\n",
       "      <td>37.778486</td>\n",
       "      <td>140.026957</td>\n",
       "      <td>0.003492</td>\n",
       "      <td>0.089560</td>\n",
       "      <td>NaN</td>\n",
       "    </tr>\n",
       "    <tr>\n",
       "      <th>std</th>\n",
       "      <td>5.925130</td>\n",
       "      <td>191.572060</td>\n",
       "      <td>19906.379891</td>\n",
       "      <td>0.0</td>\n",
       "      <td>0.0</td>\n",
       "      <td>0.481132</td>\n",
       "      <td>0.0</td>\n",
       "      <td>4.450021</td>\n",
       "      <td>18710.567547</td>\n",
       "      <td>17846.337785</td>\n",
       "      <td>13369.749481</td>\n",
       "      <td>21.495346</td>\n",
       "      <td>15363.667022</td>\n",
       "      <td>0.491994</td>\n",
       "      <td>0.400504</td>\n",
       "      <td>4495.728132</td>\n",
       "      <td>24382.931287</td>\n",
       "      <td>20878.971872</td>\n",
       "      <td>1.419588e+09</td>\n",
       "      <td>1.377824e+09</td>\n",
       "      <td>0.820632</td>\n",
       "      <td>0.819572</td>\n",
       "      <td>0.821924</td>\n",
       "      <td>0.822284</td>\n",
       "      <td>0.710662</td>\n",
       "      <td>0.821969</td>\n",
       "      <td>190.189264</td>\n",
       "      <td>4.249343</td>\n",
       "      <td>1235.773115</td>\n",
       "      <td>1367.500610</td>\n",
       "      <td>1956.456315</td>\n",
       "      <td>1413.383988</td>\n",
       "      <td>17353.336438</td>\n",
       "      <td>41288.108509</td>\n",
       "      <td>17651.159114</td>\n",
       "      <td>29433.799558</td>\n",
       "      <td>1117.698208</td>\n",
       "      <td>1485.625396</td>\n",
       "      <td>786.401261</td>\n",
       "      <td>1124.563326</td>\n",
       "      <td>1294.569237</td>\n",
       "      <td>968.524034</td>\n",
       "      <td>1637.743817</td>\n",
       "      <td>1173.387641</td>\n",
       "      <td>1556.568989</td>\n",
       "      <td>1363.660077</td>\n",
       "      <td>1310.832438</td>\n",
       "      <td>666.280141</td>\n",
       "      <td>0.058987</td>\n",
       "      <td>0.285552</td>\n",
       "      <td>NaN</td>\n",
       "    </tr>\n",
       "    <tr>\n",
       "      <th>min</th>\n",
       "      <td>0.000000</td>\n",
       "      <td>28.000000</td>\n",
       "      <td>0.000000</td>\n",
       "      <td>0.0</td>\n",
       "      <td>0.0</td>\n",
       "      <td>0.000000</td>\n",
       "      <td>0.0</td>\n",
       "      <td>1.000000</td>\n",
       "      <td>0.000000</td>\n",
       "      <td>0.000000</td>\n",
       "      <td>0.000000</td>\n",
       "      <td>0.000000</td>\n",
       "      <td>0.000000</td>\n",
       "      <td>0.000000</td>\n",
       "      <td>0.000000</td>\n",
       "      <td>0.000000</td>\n",
       "      <td>0.000000</td>\n",
       "      <td>0.000000</td>\n",
       "      <td>0.000000e+00</td>\n",
       "      <td>0.000000e+00</td>\n",
       "      <td>0.000000</td>\n",
       "      <td>0.000000</td>\n",
       "      <td>0.000000</td>\n",
       "      <td>0.000000</td>\n",
       "      <td>0.000000</td>\n",
       "      <td>0.000000</td>\n",
       "      <td>0.000000</td>\n",
       "      <td>1.000000</td>\n",
       "      <td>0.000000</td>\n",
       "      <td>0.000000</td>\n",
       "      <td>0.000000</td>\n",
       "      <td>0.000000</td>\n",
       "      <td>0.000000</td>\n",
       "      <td>0.000000</td>\n",
       "      <td>0.000000</td>\n",
       "      <td>0.000000</td>\n",
       "      <td>0.000000</td>\n",
       "      <td>0.000000</td>\n",
       "      <td>0.000000</td>\n",
       "      <td>0.000000</td>\n",
       "      <td>0.000000</td>\n",
       "      <td>0.000000</td>\n",
       "      <td>0.000000</td>\n",
       "      <td>0.000000</td>\n",
       "      <td>0.000000</td>\n",
       "      <td>0.000000</td>\n",
       "      <td>0.000000</td>\n",
       "      <td>0.000000</td>\n",
       "      <td>0.000000</td>\n",
       "      <td>0.000000</td>\n",
       "      <td>NaN</td>\n",
       "    </tr>\n",
       "    <tr>\n",
       "      <th>25%</th>\n",
       "      <td>0.000000</td>\n",
       "      <td>40.000000</td>\n",
       "      <td>14018.000000</td>\n",
       "      <td>0.0</td>\n",
       "      <td>0.0</td>\n",
       "      <td>0.000000</td>\n",
       "      <td>0.0</td>\n",
       "      <td>6.000000</td>\n",
       "      <td>16980.000000</td>\n",
       "      <td>0.000000</td>\n",
       "      <td>0.000000</td>\n",
       "      <td>0.000000</td>\n",
       "      <td>0.000000</td>\n",
       "      <td>0.000000</td>\n",
       "      <td>0.000000</td>\n",
       "      <td>0.000000</td>\n",
       "      <td>80.000000</td>\n",
       "      <td>80.000000</td>\n",
       "      <td>0.000000e+00</td>\n",
       "      <td>0.000000e+00</td>\n",
       "      <td>0.000000</td>\n",
       "      <td>0.000000</td>\n",
       "      <td>0.000000</td>\n",
       "      <td>0.000000</td>\n",
       "      <td>0.000000</td>\n",
       "      <td>0.000000</td>\n",
       "      <td>6.000000</td>\n",
       "      <td>2.000000</td>\n",
       "      <td>39.000000</td>\n",
       "      <td>38.000000</td>\n",
       "      <td>5.000000</td>\n",
       "      <td>2.000000</td>\n",
       "      <td>813.000000</td>\n",
       "      <td>18.000000</td>\n",
       "      <td>30.000000</td>\n",
       "      <td>0.000000</td>\n",
       "      <td>0.000000</td>\n",
       "      <td>0.000000</td>\n",
       "      <td>0.000000</td>\n",
       "      <td>0.000000</td>\n",
       "      <td>0.000000</td>\n",
       "      <td>0.000000</td>\n",
       "      <td>1.000000</td>\n",
       "      <td>1.000000</td>\n",
       "      <td>1.000000</td>\n",
       "      <td>0.000000</td>\n",
       "      <td>0.000000</td>\n",
       "      <td>0.000000</td>\n",
       "      <td>0.000000</td>\n",
       "      <td>0.000000</td>\n",
       "      <td>NaN</td>\n",
       "    </tr>\n",
       "    <tr>\n",
       "      <th>50%</th>\n",
       "      <td>0.000000</td>\n",
       "      <td>52.000000</td>\n",
       "      <td>31076.500000</td>\n",
       "      <td>0.0</td>\n",
       "      <td>0.0</td>\n",
       "      <td>0.000000</td>\n",
       "      <td>0.0</td>\n",
       "      <td>6.000000</td>\n",
       "      <td>34049.500000</td>\n",
       "      <td>0.000000</td>\n",
       "      <td>0.000000</td>\n",
       "      <td>0.000000</td>\n",
       "      <td>0.000000</td>\n",
       "      <td>0.000000</td>\n",
       "      <td>0.000000</td>\n",
       "      <td>0.000000</td>\n",
       "      <td>36378.000000</td>\n",
       "      <td>1057.000000</td>\n",
       "      <td>1.237088e+09</td>\n",
       "      <td>0.000000e+00</td>\n",
       "      <td>0.000000</td>\n",
       "      <td>0.000000</td>\n",
       "      <td>0.000000</td>\n",
       "      <td>0.000000</td>\n",
       "      <td>1.000000</td>\n",
       "      <td>0.000000</td>\n",
       "      <td>12.000000</td>\n",
       "      <td>6.000000</td>\n",
       "      <td>250.000000</td>\n",
       "      <td>301.000000</td>\n",
       "      <td>94.000000</td>\n",
       "      <td>56.000000</td>\n",
       "      <td>3989.000000</td>\n",
       "      <td>343.500000</td>\n",
       "      <td>1377.500000</td>\n",
       "      <td>125.000000</td>\n",
       "      <td>0.000000</td>\n",
       "      <td>0.000000</td>\n",
       "      <td>0.000000</td>\n",
       "      <td>0.000000</td>\n",
       "      <td>0.000000</td>\n",
       "      <td>0.000000</td>\n",
       "      <td>11.000000</td>\n",
       "      <td>77.000000</td>\n",
       "      <td>1.000000</td>\n",
       "      <td>1.000000</td>\n",
       "      <td>0.000000</td>\n",
       "      <td>2.000000</td>\n",
       "      <td>0.000000</td>\n",
       "      <td>0.000000</td>\n",
       "      <td>NaN</td>\n",
       "    </tr>\n",
       "    <tr>\n",
       "      <th>75%</th>\n",
       "      <td>0.000000</td>\n",
       "      <td>60.000000</td>\n",
       "      <td>48434.500000</td>\n",
       "      <td>0.0</td>\n",
       "      <td>0.0</td>\n",
       "      <td>1.000000</td>\n",
       "      <td>0.0</td>\n",
       "      <td>6.000000</td>\n",
       "      <td>47231.000000</td>\n",
       "      <td>0.000000</td>\n",
       "      <td>0.000000</td>\n",
       "      <td>0.000000</td>\n",
       "      <td>0.000000</td>\n",
       "      <td>0.000000</td>\n",
       "      <td>0.000000</td>\n",
       "      <td>0.000000</td>\n",
       "      <td>50326.000000</td>\n",
       "      <td>33354.000000</td>\n",
       "      <td>2.578381e+09</td>\n",
       "      <td>2.032205e+09</td>\n",
       "      <td>1.000000</td>\n",
       "      <td>1.000000</td>\n",
       "      <td>1.000000</td>\n",
       "      <td>1.000000</td>\n",
       "      <td>1.000000</td>\n",
       "      <td>1.000000</td>\n",
       "      <td>20.000000</td>\n",
       "      <td>8.000000</td>\n",
       "      <td>651.000000</td>\n",
       "      <td>763.000000</td>\n",
       "      <td>461.000000</td>\n",
       "      <td>386.000000</td>\n",
       "      <td>9528.000000</td>\n",
       "      <td>59434.750000</td>\n",
       "      <td>5046.000000</td>\n",
       "      <td>33812.000000</td>\n",
       "      <td>3.000000</td>\n",
       "      <td>0.000000</td>\n",
       "      <td>0.000000</td>\n",
       "      <td>0.000000</td>\n",
       "      <td>2.000000</td>\n",
       "      <td>1.000000</td>\n",
       "      <td>135.000000</td>\n",
       "      <td>384.000000</td>\n",
       "      <td>3.000000</td>\n",
       "      <td>2.000000</td>\n",
       "      <td>0.000000</td>\n",
       "      <td>78.000000</td>\n",
       "      <td>0.000000</td>\n",
       "      <td>0.000000</td>\n",
       "      <td>NaN</td>\n",
       "    </tr>\n",
       "    <tr>\n",
       "      <th>max</th>\n",
       "      <td>192.000000</td>\n",
       "      <td>4108.000000</td>\n",
       "      <td>65535.000000</td>\n",
       "      <td>0.0</td>\n",
       "      <td>0.0</td>\n",
       "      <td>1.000000</td>\n",
       "      <td>0.0</td>\n",
       "      <td>17.000000</td>\n",
       "      <td>65534.000000</td>\n",
       "      <td>63399.000000</td>\n",
       "      <td>65024.000000</td>\n",
       "      <td>200.000000</td>\n",
       "      <td>65533.000000</td>\n",
       "      <td>14.000000</td>\n",
       "      <td>3.000000</td>\n",
       "      <td>65030.000000</td>\n",
       "      <td>65389.000000</td>\n",
       "      <td>65389.000000</td>\n",
       "      <td>4.294916e+09</td>\n",
       "      <td>4.294913e+09</td>\n",
       "      <td>2.000000</td>\n",
       "      <td>2.000000</td>\n",
       "      <td>2.000000</td>\n",
       "      <td>2.000000</td>\n",
       "      <td>2.000000</td>\n",
       "      <td>2.000000</td>\n",
       "      <td>4068.000000</td>\n",
       "      <td>15.000000</td>\n",
       "      <td>66329.000000</td>\n",
       "      <td>65799.000000</td>\n",
       "      <td>155647.000000</td>\n",
       "      <td>86070.000000</td>\n",
       "      <td>140123.000000</td>\n",
       "      <td>262140.000000</td>\n",
       "      <td>135204.000000</td>\n",
       "      <td>262140.000000</td>\n",
       "      <td>79380.000000</td>\n",
       "      <td>131070.000000</td>\n",
       "      <td>65535.000000</td>\n",
       "      <td>125971.000000</td>\n",
       "      <td>65556.000000</td>\n",
       "      <td>65536.000000</td>\n",
       "      <td>130773.000000</td>\n",
       "      <td>65976.000000</td>\n",
       "      <td>131072.000000</td>\n",
       "      <td>95251.000000</td>\n",
       "      <td>65535.000000</td>\n",
       "      <td>65538.000000</td>\n",
       "      <td>1.000000</td>\n",
       "      <td>1.000000</td>\n",
       "      <td>NaN</td>\n",
       "    </tr>\n",
       "  </tbody>\n",
       "</table>\n",
       "</div>"
      ],
      "text/plain": [
       "             ip_type        ip_len         ip_id  ip_offset    ip_RF         ip_DF    ip_MF      ip_proto   ip_checksum     udp_sport     udp_dport       udp_len       udp_chk     icmp_type     icmp_code      icmp_chk     tcp_sport     tcp_dport       tcp_seq       tcp_ack      tcp_ffyn      tcp_fsyn      tcp_frst     tcp_fpush      tcp_fack      tcp_furg     fr_length   conn_status  count_fr_src_dst  count_fr_dst_src  count_serv_src_dst  count_serv_dst_src  num_bytes_src_dst  num_bytes_dst_src  num_bytes_serv_src_dst  num_bytes_serv_dst_src  num_pushed_src_dst  num_pushed_dst_src  num_syn_fin_src_dst  num_syn_fin_dst_src  num_fin_src_dst  num_fin_dst_src  num_ack_src_dst  num_ack_dst_src  num_syn_src_dst  num_syn_dst_src  num_rst_src_dst  num_rst_dst_src  first_packet  first_serv_packet   class\n",
       "count   85060.000000  85060.000000  85060.000000    85060.0  85060.0  85060.000000  85060.0  85060.000000  85060.000000  85060.000000  85060.000000  85060.000000  85060.000000  85060.000000  85060.000000  85060.000000  85060.000000  85060.000000  8.506000e+04  8.506000e+04  85060.000000  85060.000000  85060.000000  85060.000000  85060.000000  85060.000000  85060.000000  85060.000000      85060.000000      85060.000000        85060.000000        85060.000000       85060.000000       85060.000000            85060.000000            85060.000000        85060.000000        85060.000000         85060.000000         85060.000000     85060.000000     85060.000000     85060.000000     85060.000000     85060.000000     85060.000000     85060.000000     85060.000000  85060.000000       85060.000000   85060\n",
       "unique           NaN           NaN           NaN        NaN      NaN           NaN      NaN           NaN           NaN           NaN           NaN           NaN           NaN           NaN           NaN           NaN           NaN           NaN           NaN           NaN           NaN           NaN           NaN           NaN           NaN           NaN           NaN           NaN               NaN               NaN                 NaN                 NaN                NaN                NaN                     NaN                     NaN                 NaN                 NaN                  NaN                  NaN              NaN              NaN              NaN              NaN              NaN              NaN              NaN              NaN           NaN                NaN       2\n",
       "top              NaN           NaN           NaN        NaN      NaN           NaN      NaN           NaN           NaN           NaN           NaN           NaN           NaN           NaN           NaN           NaN           NaN           NaN           NaN           NaN           NaN           NaN           NaN           NaN           NaN           NaN           NaN           NaN               NaN               NaN                 NaN                 NaN                NaN                NaN                     NaN                     NaN                 NaN                 NaN                  NaN                  NaN              NaN              NaN              NaN              NaN              NaN              NaN              NaN              NaN           NaN                NaN  normal\n",
       "freq             NaN           NaN           NaN        NaN      NaN           NaN      NaN           NaN           NaN           NaN           NaN           NaN           NaN           NaN           NaN           NaN           NaN           NaN           NaN           NaN           NaN           NaN           NaN           NaN           NaN           NaN           NaN           NaN               NaN               NaN                 NaN                 NaN                NaN                NaN                     NaN                     NaN                 NaN                 NaN                  NaN                  NaN              NaN              NaN              NaN              NaN              NaN              NaN              NaN              NaN           NaN                NaN   48432\n",
       "mean        0.754667    100.386174  31165.699577        0.0      0.0      0.363931      0.0      8.039925  33087.734246   7335.142699   4493.626499      7.966353   6440.783964      0.062168      0.054456    620.470245  27821.129226  13938.420973  1.471971e+09  1.008449e+09      0.553903      0.568152      0.527980      0.486151      0.913884      0.473360     65.945121      5.869821        405.885857        520.797084          328.958617          291.029732       10105.989772       28114.899694             8279.352187            17662.463144           40.784376           44.620327            36.238349            74.642147        83.044075        19.918340       162.481060       265.684047       113.913144        30.737621        37.778486       140.026957      0.003492           0.089560     NaN\n",
       "std         5.925130    191.572060  19906.379891        0.0      0.0      0.481132      0.0      4.450021  18710.567547  17846.337785  13369.749481     21.495346  15363.667022      0.491994      0.400504   4495.728132  24382.931287  20878.971872  1.419588e+09  1.377824e+09      0.820632      0.819572      0.821924      0.822284      0.710662      0.821969    190.189264      4.249343       1235.773115       1367.500610         1956.456315         1413.383988       17353.336438       41288.108509            17651.159114            29433.799558         1117.698208         1485.625396           786.401261          1124.563326      1294.569237       968.524034      1637.743817      1173.387641      1556.568989      1363.660077      1310.832438       666.280141      0.058987           0.285552     NaN\n",
       "min         0.000000     28.000000      0.000000        0.0      0.0      0.000000      0.0      1.000000      0.000000      0.000000      0.000000      0.000000      0.000000      0.000000      0.000000      0.000000      0.000000      0.000000  0.000000e+00  0.000000e+00      0.000000      0.000000      0.000000      0.000000      0.000000      0.000000      0.000000      1.000000          0.000000          0.000000            0.000000            0.000000           0.000000           0.000000                0.000000                0.000000            0.000000            0.000000             0.000000             0.000000         0.000000         0.000000         0.000000         0.000000         0.000000         0.000000         0.000000         0.000000      0.000000           0.000000     NaN\n",
       "25%         0.000000     40.000000  14018.000000        0.0      0.0      0.000000      0.0      6.000000  16980.000000      0.000000      0.000000      0.000000      0.000000      0.000000      0.000000      0.000000     80.000000     80.000000  0.000000e+00  0.000000e+00      0.000000      0.000000      0.000000      0.000000      0.000000      0.000000      6.000000      2.000000         39.000000         38.000000            5.000000            2.000000         813.000000          18.000000               30.000000                0.000000            0.000000            0.000000             0.000000             0.000000         0.000000         0.000000         1.000000         1.000000         1.000000         0.000000         0.000000         0.000000      0.000000           0.000000     NaN\n",
       "50%         0.000000     52.000000  31076.500000        0.0      0.0      0.000000      0.0      6.000000  34049.500000      0.000000      0.000000      0.000000      0.000000      0.000000      0.000000      0.000000  36378.000000   1057.000000  1.237088e+09  0.000000e+00      0.000000      0.000000      0.000000      0.000000      1.000000      0.000000     12.000000      6.000000        250.000000        301.000000           94.000000           56.000000        3989.000000         343.500000             1377.500000              125.000000            0.000000            0.000000             0.000000             0.000000         0.000000         0.000000        11.000000        77.000000         1.000000         1.000000         0.000000         2.000000      0.000000           0.000000     NaN\n",
       "75%         0.000000     60.000000  48434.500000        0.0      0.0      1.000000      0.0      6.000000  47231.000000      0.000000      0.000000      0.000000      0.000000      0.000000      0.000000      0.000000  50326.000000  33354.000000  2.578381e+09  2.032205e+09      1.000000      1.000000      1.000000      1.000000      1.000000      1.000000     20.000000      8.000000        651.000000        763.000000          461.000000          386.000000        9528.000000       59434.750000             5046.000000            33812.000000            3.000000            0.000000             0.000000             0.000000         2.000000         1.000000       135.000000       384.000000         3.000000         2.000000         0.000000        78.000000      0.000000           0.000000     NaN\n",
       "max       192.000000   4108.000000  65535.000000        0.0      0.0      1.000000      0.0     17.000000  65534.000000  63399.000000  65024.000000    200.000000  65533.000000     14.000000      3.000000  65030.000000  65389.000000  65389.000000  4.294916e+09  4.294913e+09      2.000000      2.000000      2.000000      2.000000      2.000000      2.000000   4068.000000     15.000000      66329.000000      65799.000000       155647.000000        86070.000000      140123.000000      262140.000000           135204.000000           262140.000000        79380.000000       131070.000000         65535.000000        125971.000000     65556.000000     65536.000000    130773.000000     65976.000000    131072.000000     95251.000000     65535.000000     65538.000000      1.000000           1.000000     NaN"
      ]
     },
     "execution_count": 27,
     "metadata": {},
     "output_type": "execute_result"
    }
   ],
   "source": [
    "df.describe(include=\"all\")"
   ]
  },
  {
   "cell_type": "markdown",
   "id": "7c6098a7",
   "metadata": {},
   "source": [
    "It seems as though ip_RF, ip_MF, and ip_offset do not contain any valuable information. They can be removed"
   ]
  },
  {
   "cell_type": "code",
   "execution_count": 28,
   "id": "61b3a361",
   "metadata": {},
   "outputs": [],
   "source": [
    "df = df.drop(columns=[\"ip_RF\", \"ip_MF\", \"ip_offset\"])"
   ]
  },
  {
   "cell_type": "code",
   "execution_count": 29,
   "id": "368b6fc2",
   "metadata": {},
   "outputs": [
    {
     "data": {
      "text/plain": [
       "Index(['ip_type', 'ip_len', 'ip_id', 'ip_DF', 'ip_proto', 'ip_checksum', 'udp_sport', 'udp_dport', 'udp_len', 'udp_chk', 'icmp_type', 'icmp_code', 'icmp_chk', 'tcp_sport', 'tcp_dport', 'tcp_seq', 'tcp_ack', 'tcp_ffyn', 'tcp_fsyn', 'tcp_frst', 'tcp_fpush', 'tcp_fack', 'tcp_furg', 'fr_length', 'conn_status', 'count_fr_src_dst', 'count_fr_dst_src', 'count_serv_src_dst', 'count_serv_dst_src', 'num_bytes_src_dst', 'num_bytes_dst_src', 'num_bytes_serv_src_dst', 'num_bytes_serv_dst_src', 'num_pushed_src_dst', 'num_pushed_dst_src', 'num_syn_fin_src_dst', 'num_syn_fin_dst_src', 'num_fin_src_dst', 'num_fin_dst_src', 'num_ack_src_dst', 'num_ack_dst_src', 'num_syn_src_dst', 'num_syn_dst_src', 'num_rst_src_dst', 'num_rst_dst_src', 'first_packet', 'first_serv_packet', 'class'], dtype='object')"
      ]
     },
     "execution_count": 29,
     "metadata": {},
     "output_type": "execute_result"
    }
   ],
   "source": [
    "df.columns"
   ]
  },
  {
   "cell_type": "code",
   "execution_count": 30,
   "id": "45c257fa",
   "metadata": {},
   "outputs": [
    {
     "name": "stdout",
     "output_type": "stream",
     "text": [
      "normal    48432\n",
      "attack    36628\n",
      "Name: class, dtype: int64\n",
      "normal    56.938632\n",
      "attack    43.061368\n",
      "Name: class, dtype: float64\n"
     ]
    }
   ],
   "source": [
    "print(df[\"class\"].value_counts())\n",
    "print(df[\"class\"].value_counts(normalize=True) * 100)"
   ]
  },
  {
   "cell_type": "code",
   "execution_count": 31,
   "id": "b57a7bfb",
   "metadata": {},
   "outputs": [
    {
     "data": {
      "text/plain": [
       "ip_type                    int64\n",
       "ip_len                     int64\n",
       "ip_id                      int64\n",
       "ip_DF                      int64\n",
       "ip_proto                   int64\n",
       "ip_checksum                int64\n",
       "udp_sport                  int64\n",
       "udp_dport                  int64\n",
       "udp_len                    int64\n",
       "udp_chk                    int64\n",
       "icmp_type                  int64\n",
       "icmp_code                  int64\n",
       "icmp_chk                   int64\n",
       "tcp_sport                  int64\n",
       "tcp_dport                  int64\n",
       "tcp_seq                    int64\n",
       "tcp_ack                    int64\n",
       "tcp_ffyn                   int64\n",
       "tcp_fsyn                   int64\n",
       "tcp_frst                   int64\n",
       "tcp_fpush                  int64\n",
       "tcp_fack                   int64\n",
       "tcp_furg                   int64\n",
       "fr_length                  int64\n",
       "conn_status                int64\n",
       "count_fr_src_dst           int64\n",
       "count_fr_dst_src           int64\n",
       "count_serv_src_dst         int64\n",
       "count_serv_dst_src         int64\n",
       "num_bytes_src_dst          int64\n",
       "num_bytes_dst_src          int64\n",
       "num_bytes_serv_src_dst     int64\n",
       "num_bytes_serv_dst_src     int64\n",
       "num_pushed_src_dst         int64\n",
       "num_pushed_dst_src         int64\n",
       "num_syn_fin_src_dst        int64\n",
       "num_syn_fin_dst_src        int64\n",
       "num_fin_src_dst            int64\n",
       "num_fin_dst_src            int64\n",
       "num_ack_src_dst            int64\n",
       "num_ack_dst_src            int64\n",
       "num_syn_src_dst            int64\n",
       "num_syn_dst_src            int64\n",
       "num_rst_src_dst            int64\n",
       "num_rst_dst_src            int64\n",
       "first_packet               int64\n",
       "first_serv_packet          int64\n",
       "class                     object\n",
       "dtype: object"
      ]
     },
     "execution_count": 31,
     "metadata": {},
     "output_type": "execute_result"
    }
   ],
   "source": [
    "df.dtypes"
   ]
  },
  {
   "cell_type": "code",
   "execution_count": 32,
   "id": "15fcff91",
   "metadata": {},
   "outputs": [
    {
     "data": {
      "text/plain": [
       "0      83516\n",
       "40      1528\n",
       "192       16\n",
       "Name: ip_type, dtype: int64"
      ]
     },
     "execution_count": 32,
     "metadata": {},
     "output_type": "execute_result"
    }
   ],
   "source": [
    "df[\"ip_type\"].value_counts()"
   ]
  },
  {
   "cell_type": "code",
   "execution_count": 33,
   "id": "9b8ce454",
   "metadata": {},
   "outputs": [],
   "source": [
    "df[\"class\"] = df[\"class\"].replace({\"normal\": 0, \"attack\": 1})"
   ]
  },
  {
   "cell_type": "code",
   "execution_count": 34,
   "id": "bab49396",
   "metadata": {},
   "outputs": [],
   "source": [
    "df = df.astype(float)"
   ]
  },
  {
   "cell_type": "code",
   "execution_count": 35,
   "id": "56842aaf",
   "metadata": {},
   "outputs": [],
   "source": [
    "corr = df.corr()"
   ]
  },
  {
   "cell_type": "code",
   "execution_count": 36,
   "id": "c239308b",
   "metadata": {},
   "outputs": [
    {
     "data": {
      "image/png": "[encoded data removed]",
      "text/plain": [
       "<Figure size 1500x1200 with 2 Axes>"
      ]
     },
     "metadata": {},
     "output_type": "display_data"
    }
   ],
   "source": [
    "plt.figure(figsize=(15, 12))\n",
    "sns.heatmap(corr, cmap=\"Blues\")\n",
    "plt.show()"
   ]
  },
  {
   "cell_type": "code",
   "execution_count": 37,
   "id": "8b03645b",
   "metadata": {},
   "outputs": [
    {
     "data": {
      "text/plain": [
       "class                     1.000000\n",
       "tcp_sport                 0.376711\n",
       "first_serv_packet         0.288401\n",
       "tcp_fsyn                  0.183862\n",
       "tcp_ffyn                  0.179369\n",
       "udp_sport                 0.159150\n",
       "num_rst_dst_src           0.148479\n",
       "tcp_furg                  0.081623\n",
       "ip_id                     0.070370\n",
       "ip_proto                  0.068846\n",
       "tcp_fpush                 0.068064\n",
       "udp_chk                   0.050838\n",
       "udp_dport                 0.043169\n",
       "num_syn_fin_dst_src       0.032562\n",
       "num_syn_src_dst           0.023503\n",
       "num_fin_src_dst           0.018179\n",
       "count_fr_dst_src          0.016557\n",
       "num_syn_fin_src_dst       0.010139\n",
       "num_pushed_src_dst       -0.005405\n",
       "num_pushed_dst_src       -0.006834\n",
       "num_fin_dst_src          -0.008403\n",
       "num_rst_src_dst          -0.008925\n",
       "count_serv_src_dst       -0.010181\n",
       "ip_checksum              -0.015762\n",
       "num_syn_dst_src          -0.017306\n",
       "count_fr_src_dst         -0.018505\n",
       "first_packet             -0.032560\n",
       "num_ack_dst_src          -0.042007\n",
       "num_ack_src_dst          -0.055285\n",
       "count_serv_dst_src       -0.058866\n",
       "icmp_type                -0.076590\n",
       "tcp_seq                  -0.082221\n",
       "tcp_frst                 -0.089140\n",
       "ip_type                  -0.098455\n",
       "icmp_chk                 -0.106911\n",
       "icmp_code                -0.115398\n",
       "num_bytes_serv_src_dst   -0.205258\n",
       "conn_status              -0.217683\n",
       "udp_len                  -0.244732\n",
       "fr_length                -0.249022\n",
       "ip_len                   -0.265645\n",
       "num_bytes_src_dst        -0.275082\n",
       "tcp_dport                -0.302774\n",
       "ip_DF                    -0.305169\n",
       "tcp_fack                 -0.406649\n",
       "tcp_ack                  -0.456281\n",
       "num_bytes_serv_dst_src   -0.520069\n",
       "num_bytes_dst_src        -0.535816\n",
       "Name: class, dtype: float64"
      ]
     },
     "execution_count": 37,
     "metadata": {},
     "output_type": "execute_result"
    }
   ],
   "source": [
    "corr[\"class\"].sort_values(ascending=False)"
   ]
  },
  {
   "cell_type": "markdown",
   "id": "ba0f28df",
   "metadata": {},
   "source": [
    "The target feature does not seem to have very strong correlations with any particular feature."
   ]
  },
  {
   "cell_type": "code",
   "execution_count": 38,
   "id": "80670942",
   "metadata": {},
   "outputs": [],
   "source": [
    "# remove all features with an absolute correlation of less than 0.1\n",
    "cols_corr_gt1 = corr[\"class\"][abs(corr[\"class\"]) > 0.1].index"
   ]
  },
  {
   "cell_type": "code",
   "execution_count": 39,
   "id": "b91cff26",
   "metadata": {},
   "outputs": [
    {
     "name": "stdout",
     "output_type": "stream",
     "text": [
      "Index(['ip_len', 'ip_DF', 'udp_sport', 'udp_len', 'icmp_code', 'icmp_chk', 'tcp_sport', 'tcp_dport', 'tcp_ack', 'tcp_ffyn', 'tcp_fsyn', 'tcp_fack', 'fr_length', 'conn_status', 'num_bytes_src_dst', 'num_bytes_dst_src', 'num_bytes_serv_src_dst', 'num_bytes_serv_dst_src', 'num_rst_dst_src', 'first_serv_packet', 'class'], dtype='object')\n",
      "21\n"
     ]
    }
   ],
   "source": [
    "print(cols_corr_gt1)\n",
    "print(len(cols_corr_gt1))"
   ]
  },
  {
   "cell_type": "code",
   "execution_count": 40,
   "id": "0378af67",
   "metadata": {},
   "outputs": [
    {
     "data": {
      "image/png": "[encoded data removed]",
      "text/plain": [
       "<Figure size 640x480 with 1 Axes>"
      ]
     },
     "metadata": {},
     "output_type": "display_data"
    }
   ],
   "source": [
    "X = df.drop(columns=[\"class\"])\n",
    "\n",
    "scaler = StandardScaler()\n",
    "X_scaled = scaler.fit_transform(X)\n",
    "\n",
    "pca = PCA(n_components=len(df.columns) - 1)\n",
    "X_pca = pca.fit_transform(X_scaled)\n",
    "\n",
    "pca_cumsum = pca.explained_variance_ratio_.cumsum()\n",
    "plt.plot(pca_cumsum)\n",
    "plt.xlabel(\"Number of components\")\n",
    "plt.ylabel(\"Cumulative explained variance\")\n",
    "plt.title(\"Cumulative explained variance vs Number of components\")\n",
    "plt.grid()\n",
    "plt.xticks(range(0, len(df.columns) - 1, 2))\n",
    "plt.show()"
   ]
  },
  {
   "cell_type": "markdown",
   "id": "8efeeab5",
   "metadata": {},
   "source": [
    "- at n=27, we have 95% of the variance explained"
   ]
  },
  {
   "cell_type": "code",
   "execution_count": 41,
   "id": "3689f280",
   "metadata": {},
   "outputs": [
    {
     "data": {
      "image/png": "[encoded data removed]",
      "text/plain": [
       "<Figure size 640x480 with 1 Axes>"
      ]
     },
     "metadata": {},
     "output_type": "display_data"
    }
   ],
   "source": [
    "X_gt1 = df[cols_corr_gt1]\n",
    "X_gt1 = X_gt1.drop(columns=[\"class\"])\n",
    "\n",
    "scaler_gt1 = StandardScaler()\n",
    "X_gt1_scaled = scaler_gt1.fit_transform(X_gt1)\n",
    "\n",
    "pca_corr_gt1 = PCA(n_components=len(cols_corr_gt1) - 1)\n",
    "X_gt1_pca = pca_corr_gt1.fit_transform(X_gt1_scaled)\n",
    "\n",
    "pca_cumsum = pca_corr_gt1.explained_variance_ratio_.cumsum()\n",
    "plt.plot(pca_cumsum)\n",
    "plt.xlabel(\"Number of components with |correlation| > 0.1\")\n",
    "plt.ylabel(\"Cumulative explained variance\")\n",
    "plt.title(\n",
    "    \"Cumulative explained variance vs Number of components with |correlation| > 0.1\"\n",
    ")\n",
    "plt.grid()\n",
    "plt.xticks(range(0, len(cols_corr_gt1) - 1, 2))\n",
    "plt.show()"
   ]
  },
  {
   "cell_type": "markdown",
   "id": "64added9",
   "metadata": {},
   "source": [
    "- at n=10 of the selected features, we have 95% of the variance explained"
   ]
  },
  {
   "cell_type": "markdown",
   "id": "704963c5",
   "metadata": {},
   "source": [
    "# Modelling"
   ]
  },
  {
   "cell_type": "code",
   "execution_count": 42,
   "id": "ffbe16f9",
   "metadata": {},
   "outputs": [],
   "source": [
    "_, _, __X__, _, _, __y__ = test_train_val_split(df)\n",
    "df_known_attacks = pd.DataFrame(__X__)\n",
    "df_known_attacks[\"class\"] = __y__\n",
    "df_known_attacks.reset_index(drop=True, inplace=True)"
   ]
  },
  {
   "cell_type": "code",
   "execution_count": 43,
   "id": "a7dcb8a0",
   "metadata": {},
   "outputs": [],
   "source": [
    "df_similar_attacks = pd.read_csv(similar_attacks_path, low_memory=False)\n",
    "df_similar_attacks = df_similar_attacks.drop(columns=[\"ip_RF\", \"ip_MF\", \"ip_offset\"])\n",
    "df_similar_attacks[\"class\"] = df_similar_attacks[\"class\"].replace({\"normal\": 0, \"attack\": 1})\n",
    "\n",
    "df_new_attacks = pd.read_csv(new_attacks_path, low_memory=False)\n",
    "df_new_attacks = df_new_attacks.drop(columns=[\"ip_RF\", \"ip_MF\", \"ip_offset\"])\n",
    "df_new_attacks[\"class\"] = df_new_attacks[\"class\"].replace({\"normal\": 0, \"attack\": 1})"
   ]
  },
  {
   "cell_type": "code",
   "execution_count": 44,
   "id": "25d947ef",
   "metadata": {},
   "outputs": [],
   "source": [
    "if TESTING:\n",
    "    df_similar_attacks = df_similar_attacks.sample(frac=TESTING_SIZE, random_state=random_state)\n",
    "    df_similar_attacks.reset_index(drop=True, inplace=True)\n",
    "    df_new_attacks = df_new_attacks.sample(frac=TESTING_SIZE, random_state=random_state)\n",
    "    df_new_attacks.reset_index(drop=True, inplace=True)"
   ]
  },
  {
   "cell_type": "code",
   "execution_count": 45,
   "id": "5de59b0e",
   "metadata": {},
   "outputs": [],
   "source": [
    "def pipeline_scaled(**kwargs):\n",
    "    if \"df\" not in kwargs or \"scaler\" not in kwargs:\n",
    "        raise ValueError(\"df and scaler must be passed as keyword arguments for pipeline_scaled\")\n",
    "    df = kwargs[\"df\"]\n",
    "    scaler = kwargs[\"scaler\"]\n",
    "\n",
    "    df_ = df.drop(columns=[\"class\"])\n",
    "    df_ = scaler.transform(df_)\n",
    "    df_ = pd.DataFrame(df_, columns=df.columns[:-1])\n",
    "    df_[\"class\"] = df[\"class\"]\n",
    "    return df_"
   ]
  },
  {
   "cell_type": "code",
   "execution_count": 46,
   "id": "fb0a3017",
   "metadata": {},
   "outputs": [],
   "source": [
    "def pipeline_corr_gt1_scaled(**kwargs):\n",
    "    if \"df\" not in kwargs or \"scaler\" not in kwargs or \"cols\" not in kwargs:\n",
    "        raise ValueError(\"df, scaler, and cols must be passed as keyword arguments for pipeline_corr_gt1_scaled\")\n",
    "    df = kwargs[\"df\"]\n",
    "    scaler = kwargs[\"scaler\"]\n",
    "    cols = kwargs[\"cols\"]\n",
    "\n",
    "    df_ = df[cols]\n",
    "    df_ = df_.drop(columns=[\"class\"])\n",
    "    df_ = scaler.transform(df_)\n",
    "    df_ = pd.DataFrame(df_, columns=cols[:-1])\n",
    "    df_[\"class\"] = df[\"class\"]\n",
    "    return df_"
   ]
  },
  {
   "cell_type": "code",
   "execution_count": 47,
   "id": "85aa6215",
   "metadata": {},
   "outputs": [],
   "source": [
    "def pipeline_pca(**kwargs):\n",
    "    if \"df\" not in kwargs or \"scaler\" not in kwargs or \"pca\" not in kwargs:\n",
    "        raise ValueError(\"df, scaler, and pca must be passed as keyword arguments for pipeline_pca\")\n",
    "    df = kwargs[\"df\"]\n",
    "    scaler = kwargs[\"scaler\"]\n",
    "    pca = kwargs[\"pca\"]\n",
    "\n",
    "    df_ = df.drop(columns=[\"class\"])\n",
    "    df_ = scaler.transform(df_)\n",
    "    df_ = pca.transform(df_)\n",
    "    df_ = df_[:, :27]\n",
    "    df_ = pd.DataFrame(df_)\n",
    "    df_[\"class\"] = df[\"class\"]\n",
    "    return df_"
   ]
  },
  {
   "cell_type": "code",
   "execution_count": 48,
   "id": "3779cf45",
   "metadata": {},
   "outputs": [],
   "source": [
    "def pipeline_corr_gt1_pca(**kwargs):\n",
    "    if \"df\" not in kwargs or \"scaler\" not in kwargs or \"cols\" not in kwargs or \"pca\" not in kwargs:\n",
    "        raise ValueError(\"df, scaler, cols, and pca must be passed as keyword arguments for pipeline_corr_gt1_pca\")\n",
    "    df = kwargs[\"df\"]\n",
    "    scaler = kwargs[\"scaler\"]\n",
    "    cols = kwargs[\"cols\"]\n",
    "    pca = kwargs[\"pca\"]\n",
    "\n",
    "    df_ = df[cols]\n",
    "    df_ = df_.drop(columns=[\"class\"])\n",
    "    df_ = scaler.transform(df_)\n",
    "    df_ = pca.transform(df_)\n",
    "    df_ = df_[:, :10]\n",
    "    df_ = pd.DataFrame(df_)\n",
    "    df_[\"class\"] = df[\"class\"]\n",
    "    return df_"
   ]
  },
  {
   "cell_type": "markdown",
   "id": "f7e5bf51",
   "metadata": {},
   "source": [
    "## Logistic Regression"
   ]
  },
  {
   "cell_type": "code",
   "execution_count": 49,
   "id": "260914d8",
   "metadata": {},
   "outputs": [],
   "source": [
    "log_param_grid = {\n",
    "    'C': [0.01, 0.1, 1, 10, 100],  # Regularization strength\n",
    "    'solver': ['newton-cg', 'lbfgs', 'liblinear', 'sag', 'saga'],  # Algorithm to use in the optimization problem\n",
    "    'penalty': ['l1', 'l2', 'elasticnet', 'none']  # Norm used in the penalization\n",
    "}"
   ]
  },
  {
   "cell_type": "code",
   "execution_count": 50,
   "id": "fe9a3d3b",
   "metadata": {},
   "outputs": [],
   "source": [
    "verbose = 3\n",
    "cv = 3\n",
    "n_jobs = None"
   ]
  },
  {
   "cell_type": "markdown",
   "id": "e68b75aa",
   "metadata": {},
   "source": [
    "### All features scaled"
   ]
  },
  {
   "cell_type": "code",
   "execution_count": 51,
   "id": "2055b375",
   "metadata": {},
   "outputs": [
    {
     "data": {
      "text/html": [
       "<div>\n",
       "<style scoped>\n",
       "    .dataframe tbody tr th:only-of-type {\n",
       "        vertical-align: middle;\n",
       "    }\n",
       "\n",
       "    .dataframe tbody tr th {\n",
       "        vertical-align: top;\n",
       "    }\n",
       "\n",
       "    .dataframe thead th {\n",
       "        text-align: right;\n",
       "    }\n",
       "</style>\n",
       "<table border=\"1\" class=\"dataframe\">\n",
       "  <thead>\n",
       "    <tr style=\"text-align: right;\">\n",
       "      <th></th>\n",
       "      <th>ip_type</th>\n",
       "      <th>ip_len</th>\n",
       "      <th>ip_id</th>\n",
       "      <th>ip_DF</th>\n",
       "      <th>ip_proto</th>\n",
       "      <th>ip_checksum</th>\n",
       "      <th>udp_sport</th>\n",
       "      <th>udp_dport</th>\n",
       "      <th>udp_len</th>\n",
       "      <th>udp_chk</th>\n",
       "      <th>icmp_type</th>\n",
       "      <th>icmp_code</th>\n",
       "      <th>icmp_chk</th>\n",
       "      <th>tcp_sport</th>\n",
       "      <th>tcp_dport</th>\n",
       "      <th>tcp_seq</th>\n",
       "      <th>tcp_ack</th>\n",
       "      <th>tcp_ffyn</th>\n",
       "      <th>tcp_fsyn</th>\n",
       "      <th>tcp_frst</th>\n",
       "      <th>tcp_fpush</th>\n",
       "      <th>tcp_fack</th>\n",
       "      <th>tcp_furg</th>\n",
       "      <th>fr_length</th>\n",
       "      <th>conn_status</th>\n",
       "      <th>count_fr_src_dst</th>\n",
       "      <th>count_fr_dst_src</th>\n",
       "      <th>count_serv_src_dst</th>\n",
       "      <th>count_serv_dst_src</th>\n",
       "      <th>num_bytes_src_dst</th>\n",
       "      <th>num_bytes_dst_src</th>\n",
       "      <th>num_bytes_serv_src_dst</th>\n",
       "      <th>num_bytes_serv_dst_src</th>\n",
       "      <th>num_pushed_src_dst</th>\n",
       "      <th>num_pushed_dst_src</th>\n",
       "      <th>num_syn_fin_src_dst</th>\n",
       "      <th>num_syn_fin_dst_src</th>\n",
       "      <th>num_fin_src_dst</th>\n",
       "      <th>num_fin_dst_src</th>\n",
       "      <th>num_ack_src_dst</th>\n",
       "      <th>num_ack_dst_src</th>\n",
       "      <th>num_syn_src_dst</th>\n",
       "      <th>num_syn_dst_src</th>\n",
       "      <th>num_rst_src_dst</th>\n",
       "      <th>num_rst_dst_src</th>\n",
       "      <th>first_packet</th>\n",
       "      <th>first_serv_packet</th>\n",
       "      <th>class</th>\n",
       "    </tr>\n",
       "  </thead>\n",
       "  <tbody>\n",
       "    <tr>\n",
       "      <th>0</th>\n",
       "      <td>-0.127368</td>\n",
       "      <td>2.357424</td>\n",
       "      <td>-0.863934</td>\n",
       "      <td>-0.756411</td>\n",
       "      <td>-0.458411</td>\n",
       "      <td>0.859266</td>\n",
       "      <td>-0.411019</td>\n",
       "      <td>-0.336106</td>\n",
       "      <td>-0.37061</td>\n",
       "      <td>-0.419224</td>\n",
       "      <td>-0.12636</td>\n",
       "      <td>-0.135969</td>\n",
       "      <td>-0.138014</td>\n",
       "      <td>-1.137734</td>\n",
       "      <td>1.949417</td>\n",
       "      <td>1.023986</td>\n",
       "      <td>1.289289</td>\n",
       "      <td>-0.674975</td>\n",
       "      <td>-0.693234</td>\n",
       "      <td>-0.642375</td>\n",
       "      <td>-0.591224</td>\n",
       "      <td>0.121177</td>\n",
       "      <td>-0.575889</td>\n",
       "      <td>2.345335</td>\n",
       "      <td>0.030635</td>\n",
       "      <td>0.008185</td>\n",
       "      <td>0.042562</td>\n",
       "      <td>0.044490</td>\n",
       "      <td>0.203746</td>\n",
       "      <td>-0.287266</td>\n",
       "      <td>0.906322</td>\n",
       "      <td>-0.178933</td>\n",
       "      <td>1.626457</td>\n",
       "      <td>-0.035595</td>\n",
       "      <td>-0.030035</td>\n",
       "      <td>-0.046082</td>\n",
       "      <td>-0.066375</td>\n",
       "      <td>-0.064148</td>\n",
       "      <td>-0.020566</td>\n",
       "      <td>0.154188</td>\n",
       "      <td>0.267020</td>\n",
       "      <td>-0.072540</td>\n",
       "      <td>-0.021807</td>\n",
       "      <td>-0.02882</td>\n",
       "      <td>-0.210164</td>\n",
       "      <td>-0.059194</td>\n",
       "      <td>-0.313641</td>\n",
       "      <td>0.0</td>\n",
       "    </tr>\n",
       "    <tr>\n",
       "      <th>1</th>\n",
       "      <td>-0.127368</td>\n",
       "      <td>2.357424</td>\n",
       "      <td>-0.863884</td>\n",
       "      <td>-0.756411</td>\n",
       "      <td>-0.458411</td>\n",
       "      <td>0.859213</td>\n",
       "      <td>-0.411019</td>\n",
       "      <td>-0.336106</td>\n",
       "      <td>-0.37061</td>\n",
       "      <td>-0.419224</td>\n",
       "      <td>-0.12636</td>\n",
       "      <td>-0.135969</td>\n",
       "      <td>-0.138014</td>\n",
       "      <td>-1.137734</td>\n",
       "      <td>1.949417</td>\n",
       "      <td>1.023987</td>\n",
       "      <td>1.289289</td>\n",
       "      <td>-0.674975</td>\n",
       "      <td>-0.693234</td>\n",
       "      <td>-0.642375</td>\n",
       "      <td>-0.591224</td>\n",
       "      <td>0.121177</td>\n",
       "      <td>-0.575889</td>\n",
       "      <td>2.345335</td>\n",
       "      <td>0.030635</td>\n",
       "      <td>0.008185</td>\n",
       "      <td>0.043293</td>\n",
       "      <td>0.044490</td>\n",
       "      <td>0.204454</td>\n",
       "      <td>-0.287266</td>\n",
       "      <td>0.906322</td>\n",
       "      <td>-0.178933</td>\n",
       "      <td>1.626457</td>\n",
       "      <td>-0.035595</td>\n",
       "      <td>-0.030035</td>\n",
       "      <td>-0.046082</td>\n",
       "      <td>-0.066375</td>\n",
       "      <td>-0.064148</td>\n",
       "      <td>-0.020566</td>\n",
       "      <td>0.154188</td>\n",
       "      <td>0.267872</td>\n",
       "      <td>-0.072540</td>\n",
       "      <td>-0.021807</td>\n",
       "      <td>-0.02882</td>\n",
       "      <td>-0.210164</td>\n",
       "      <td>-0.059194</td>\n",
       "      <td>-0.313641</td>\n",
       "      <td>0.0</td>\n",
       "    </tr>\n",
       "    <tr>\n",
       "      <th>2</th>\n",
       "      <td>-0.127368</td>\n",
       "      <td>-0.315216</td>\n",
       "      <td>-0.262465</td>\n",
       "      <td>-0.756411</td>\n",
       "      <td>-0.458411</td>\n",
       "      <td>0.597862</td>\n",
       "      <td>-0.411019</td>\n",
       "      <td>-0.336106</td>\n",
       "      <td>-0.37061</td>\n",
       "      <td>-0.419224</td>\n",
       "      <td>-0.12636</td>\n",
       "      <td>-0.135969</td>\n",
       "      <td>-0.138014</td>\n",
       "      <td>1.258300</td>\n",
       "      <td>-0.663754</td>\n",
       "      <td>-1.036906</td>\n",
       "      <td>-0.445392</td>\n",
       "      <td>-0.674975</td>\n",
       "      <td>-0.693234</td>\n",
       "      <td>-0.642375</td>\n",
       "      <td>-0.591224</td>\n",
       "      <td>0.121177</td>\n",
       "      <td>-0.575889</td>\n",
       "      <td>-0.315189</td>\n",
       "      <td>-1.146024</td>\n",
       "      <td>-0.327640</td>\n",
       "      <td>-0.380841</td>\n",
       "      <td>-0.167630</td>\n",
       "      <td>-0.205911</td>\n",
       "      <td>-0.582023</td>\n",
       "      <td>-0.680948</td>\n",
       "      <td>-0.468717</td>\n",
       "      <td>-0.600078</td>\n",
       "      <td>-0.036490</td>\n",
       "      <td>-0.030035</td>\n",
       "      <td>-0.046082</td>\n",
       "      <td>-0.066375</td>\n",
       "      <td>-0.064148</td>\n",
       "      <td>-0.020566</td>\n",
       "      <td>-0.098600</td>\n",
       "      <td>-0.226426</td>\n",
       "      <td>-0.073183</td>\n",
       "      <td>-0.022541</td>\n",
       "      <td>-0.02882</td>\n",
       "      <td>-0.210164</td>\n",
       "      <td>16.893706</td>\n",
       "      <td>3.188363</td>\n",
       "      <td>1.0</td>\n",
       "    </tr>\n",
       "    <tr>\n",
       "      <th>3</th>\n",
       "      <td>-0.127368</td>\n",
       "      <td>-0.252576</td>\n",
       "      <td>1.273936</td>\n",
       "      <td>1.322033</td>\n",
       "      <td>-0.458411</td>\n",
       "      <td>1.234992</td>\n",
       "      <td>-0.411019</td>\n",
       "      <td>-0.336106</td>\n",
       "      <td>-0.37061</td>\n",
       "      <td>-0.419224</td>\n",
       "      <td>-0.12636</td>\n",
       "      <td>-0.135969</td>\n",
       "      <td>-0.138014</td>\n",
       "      <td>1.158517</td>\n",
       "      <td>-0.663754</td>\n",
       "      <td>-1.031884</td>\n",
       "      <td>1.391738</td>\n",
       "      <td>-0.674975</td>\n",
       "      <td>-0.693234</td>\n",
       "      <td>-0.642375</td>\n",
       "      <td>-0.591224</td>\n",
       "      <td>0.121177</td>\n",
       "      <td>-0.575889</td>\n",
       "      <td>-0.283641</td>\n",
       "      <td>0.030635</td>\n",
       "      <td>-0.303363</td>\n",
       "      <td>-0.353784</td>\n",
       "      <td>-0.152296</td>\n",
       "      <td>-0.179733</td>\n",
       "      <td>-0.553556</td>\n",
       "      <td>-0.271239</td>\n",
       "      <td>-0.440730</td>\n",
       "      <td>-0.025361</td>\n",
       "      <td>-0.035595</td>\n",
       "      <td>-0.030035</td>\n",
       "      <td>-0.046082</td>\n",
       "      <td>-0.066375</td>\n",
       "      <td>-0.064148</td>\n",
       "      <td>-0.020566</td>\n",
       "      <td>-0.080893</td>\n",
       "      <td>-0.194893</td>\n",
       "      <td>-0.072540</td>\n",
       "      <td>-0.021807</td>\n",
       "      <td>-0.02882</td>\n",
       "      <td>-0.210164</td>\n",
       "      <td>-0.059194</td>\n",
       "      <td>-0.313641</td>\n",
       "      <td>0.0</td>\n",
       "    </tr>\n",
       "    <tr>\n",
       "      <th>4</th>\n",
       "      <td>-0.127368</td>\n",
       "      <td>-0.252576</td>\n",
       "      <td>-0.188418</td>\n",
       "      <td>1.322033</td>\n",
       "      <td>-0.458411</td>\n",
       "      <td>-0.708360</td>\n",
       "      <td>-0.411019</td>\n",
       "      <td>-0.336106</td>\n",
       "      <td>-0.37061</td>\n",
       "      <td>-0.419224</td>\n",
       "      <td>-0.12636</td>\n",
       "      <td>-0.135969</td>\n",
       "      <td>-0.138014</td>\n",
       "      <td>1.099910</td>\n",
       "      <td>-0.663754</td>\n",
       "      <td>0.924837</td>\n",
       "      <td>1.391442</td>\n",
       "      <td>-0.674975</td>\n",
       "      <td>-0.693234</td>\n",
       "      <td>-0.642375</td>\n",
       "      <td>-0.591224</td>\n",
       "      <td>0.121177</td>\n",
       "      <td>-0.575889</td>\n",
       "      <td>-0.283641</td>\n",
       "      <td>0.030635</td>\n",
       "      <td>0.008994</td>\n",
       "      <td>0.043293</td>\n",
       "      <td>0.045001</td>\n",
       "      <td>0.204454</td>\n",
       "      <td>-0.286574</td>\n",
       "      <td>0.906322</td>\n",
       "      <td>-0.178253</td>\n",
       "      <td>1.626457</td>\n",
       "      <td>-0.035595</td>\n",
       "      <td>-0.030035</td>\n",
       "      <td>-0.046082</td>\n",
       "      <td>-0.066375</td>\n",
       "      <td>-0.064148</td>\n",
       "      <td>-0.020566</td>\n",
       "      <td>0.154799</td>\n",
       "      <td>0.267872</td>\n",
       "      <td>-0.072540</td>\n",
       "      <td>-0.021807</td>\n",
       "      <td>-0.02882</td>\n",
       "      <td>-0.210164</td>\n",
       "      <td>-0.059194</td>\n",
       "      <td>-0.313641</td>\n",
       "      <td>0.0</td>\n",
       "    </tr>\n",
       "  </tbody>\n",
       "</table>\n",
       "</div>"
      ],
      "text/plain": [
       "    ip_type    ip_len     ip_id     ip_DF  ip_proto  ip_checksum  udp_sport  udp_dport  udp_len   udp_chk  icmp_type  icmp_code  icmp_chk  tcp_sport  tcp_dport   tcp_seq   tcp_ack  tcp_ffyn  tcp_fsyn  tcp_frst  tcp_fpush  tcp_fack  tcp_furg  fr_length  conn_status  count_fr_src_dst  count_fr_dst_src  count_serv_src_dst  count_serv_dst_src  num_bytes_src_dst  num_bytes_dst_src  num_bytes_serv_src_dst  num_bytes_serv_dst_src  num_pushed_src_dst  num_pushed_dst_src  num_syn_fin_src_dst  num_syn_fin_dst_src  num_fin_src_dst  num_fin_dst_src  num_ack_src_dst  num_ack_dst_src  num_syn_src_dst  num_syn_dst_src  num_rst_src_dst  num_rst_dst_src  first_packet  first_serv_packet  class\n",
       "0 -0.127368  2.357424 -0.863934 -0.756411 -0.458411     0.859266  -0.411019  -0.336106 -0.37061 -0.419224   -0.12636  -0.135969 -0.138014  -1.137734   1.949417  1.023986  1.289289 -0.674975 -0.693234 -0.642375  -0.591224  0.121177 -0.575889   2.345335     0.030635          0.008185          0.042562            0.044490            0.203746          -0.287266           0.906322               -0.178933                1.626457           -0.035595           -0.030035            -0.046082            -0.066375        -0.064148        -0.020566         0.154188         0.267020        -0.072540        -0.021807         -0.02882        -0.210164     -0.059194          -0.313641    0.0\n",
       "1 -0.127368  2.357424 -0.863884 -0.756411 -0.458411     0.859213  -0.411019  -0.336106 -0.37061 -0.419224   -0.12636  -0.135969 -0.138014  -1.137734   1.949417  1.023987  1.289289 -0.674975 -0.693234 -0.642375  -0.591224  0.121177 -0.575889   2.345335     0.030635          0.008185          0.043293            0.044490            0.204454          -0.287266           0.906322               -0.178933                1.626457           -0.035595           -0.030035            -0.046082            -0.066375        -0.064148        -0.020566         0.154188         0.267872        -0.072540        -0.021807         -0.02882        -0.210164     -0.059194          -0.313641    0.0\n",
       "2 -0.127368 -0.315216 -0.262465 -0.756411 -0.458411     0.597862  -0.411019  -0.336106 -0.37061 -0.419224   -0.12636  -0.135969 -0.138014   1.258300  -0.663754 -1.036906 -0.445392 -0.674975 -0.693234 -0.642375  -0.591224  0.121177 -0.575889  -0.315189    -1.146024         -0.327640         -0.380841           -0.167630           -0.205911          -0.582023          -0.680948               -0.468717               -0.600078           -0.036490           -0.030035            -0.046082            -0.066375        -0.064148        -0.020566        -0.098600        -0.226426        -0.073183        -0.022541         -0.02882        -0.210164     16.893706           3.188363    1.0\n",
       "3 -0.127368 -0.252576  1.273936  1.322033 -0.458411     1.234992  -0.411019  -0.336106 -0.37061 -0.419224   -0.12636  -0.135969 -0.138014   1.158517  -0.663754 -1.031884  1.391738 -0.674975 -0.693234 -0.642375  -0.591224  0.121177 -0.575889  -0.283641     0.030635         -0.303363         -0.353784           -0.152296           -0.179733          -0.553556          -0.271239               -0.440730               -0.025361           -0.035595           -0.030035            -0.046082            -0.066375        -0.064148        -0.020566        -0.080893        -0.194893        -0.072540        -0.021807         -0.02882        -0.210164     -0.059194          -0.313641    0.0\n",
       "4 -0.127368 -0.252576 -0.188418  1.322033 -0.458411    -0.708360  -0.411019  -0.336106 -0.37061 -0.419224   -0.12636  -0.135969 -0.138014   1.099910  -0.663754  0.924837  1.391442 -0.674975 -0.693234 -0.642375  -0.591224  0.121177 -0.575889  -0.283641     0.030635          0.008994          0.043293            0.045001            0.204454          -0.286574           0.906322               -0.178253                1.626457           -0.035595           -0.030035            -0.046082            -0.066375        -0.064148        -0.020566         0.154799         0.267872        -0.072540        -0.021807         -0.02882        -0.210164     -0.059194          -0.313641    0.0"
      ]
     },
     "execution_count": 51,
     "metadata": {},
     "output_type": "execute_result"
    }
   ],
   "source": [
    "df_scaled = pipeline_scaled(df=df, scaler=scaler)\n",
    "df_scaled.head()"
   ]
  },
  {
   "cell_type": "code",
   "execution_count": 52,
   "id": "69d5240a",
   "metadata": {},
   "outputs": [],
   "source": [
    "(\n",
    "    X_scaled_train,\n",
    "    X_scaled_val,\n",
    "    X_scaled_test,\n",
    "    y_scaled_train,\n",
    "    y_scaled_val,\n",
    "    y_scaled_test,\n",
    ") = test_train_val_split(df_scaled)"
   ]
  },
  {
   "cell_type": "code",
   "execution_count": 53,
   "id": "b310aa0a",
   "metadata": {},
   "outputs": [
    {
     "name": "stderr",
     "output_type": "stream",
     "text": [
      "c:\\Users\\harsh\\anaconda3\\Lib\\site-packages\\sklearn\\linear_model\\_logistic.py:460: ConvergenceWarning: lbfgs failed to converge (status=1):\n",
      "STOP: TOTAL NO. of ITERATIONS REACHED LIMIT.\n",
      "\n",
      "Increase the number of iterations (max_iter) or scale the data as shown in:\n",
      "    https://scikit-learn.org/stable/modules/preprocessing.html\n",
      "Please also refer to the documentation for alternative solver options:\n",
      "    https://scikit-learn.org/stable/modules/linear_model.html#logistic-regression\n",
      "  n_iter_i = _check_optimize_result(\n"
     ]
    },
    {
     "data": {
      "text/html": [
       "<style>#sk-container-id-1 {color: black;}#sk-container-id-1 pre{padding: 0;}#sk-container-id-1 div.sk-toggleable {background-color: white;}#sk-container-id-1 label.sk-toggleable__label {cursor: pointer;display: block;width: 100%;margin-bottom: 0;padding: 0.3em;box-sizing: border-box;text-align: center;}#sk-container-id-1 label.sk-toggleable__label-arrow:before {content: \"▸\";float: left;margin-right: 0.25em;color: #696969;}#sk-container-id-1 label.sk-toggleable__label-arrow:hover:before {color: black;}#sk-container-id-1 div.sk-estimator:hover label.sk-toggleable__label-arrow:before {color: black;}#sk-container-id-1 div.sk-toggleable__content {max-height: 0;max-width: 0;overflow: hidden;text-align: left;background-color: #f0f8ff;}#sk-container-id-1 div.sk-toggleable__content pre {margin: 0.2em;color: black;border-radius: 0.25em;background-color: #f0f8ff;}#sk-container-id-1 input.sk-toggleable__control:checked~div.sk-toggleable__content {max-height: 200px;max-width: 100%;overflow: auto;}#sk-container-id-1 input.sk-toggleable__control:checked~label.sk-toggleable__label-arrow:before {content: \"▾\";}#sk-container-id-1 div.sk-estimator input.sk-toggleable__control:checked~label.sk-toggleable__label {background-color: #d4ebff;}#sk-container-id-1 div.sk-label input.sk-toggleable__control:checked~label.sk-toggleable__label {background-color: #d4ebff;}#sk-container-id-1 input.sk-hidden--visually {border: 0;clip: rect(1px 1px 1px 1px);clip: rect(1px, 1px, 1px, 1px);height: 1px;margin: -1px;overflow: hidden;padding: 0;position: absolute;width: 1px;}#sk-container-id-1 div.sk-estimator {font-family: monospace;background-color: #f0f8ff;border: 1px dotted black;border-radius: 0.25em;box-sizing: border-box;margin-bottom: 0.5em;}#sk-container-id-1 div.sk-estimator:hover {background-color: #d4ebff;}#sk-container-id-1 div.sk-parallel-item::after {content: \"\";width: 100%;border-bottom: 1px solid gray;flex-grow: 1;}#sk-container-id-1 div.sk-label:hover label.sk-toggleable__label {background-color: #d4ebff;}#sk-container-id-1 div.sk-serial::before {content: \"\";position: absolute;border-left: 1px solid gray;box-sizing: border-box;top: 0;bottom: 0;left: 50%;z-index: 0;}#sk-container-id-1 div.sk-serial {display: flex;flex-direction: column;align-items: center;background-color: white;padding-right: 0.2em;padding-left: 0.2em;position: relative;}#sk-container-id-1 div.sk-item {position: relative;z-index: 1;}#sk-container-id-1 div.sk-parallel {display: flex;align-items: stretch;justify-content: center;background-color: white;position: relative;}#sk-container-id-1 div.sk-item::before, #sk-container-id-1 div.sk-parallel-item::before {content: \"\";position: absolute;border-left: 1px solid gray;box-sizing: border-box;top: 0;bottom: 0;left: 50%;z-index: -1;}#sk-container-id-1 div.sk-parallel-item {display: flex;flex-direction: column;z-index: 1;position: relative;background-color: white;}#sk-container-id-1 div.sk-parallel-item:first-child::after {align-self: flex-end;width: 50%;}#sk-container-id-1 div.sk-parallel-item:last-child::after {align-self: flex-start;width: 50%;}#sk-container-id-1 div.sk-parallel-item:only-child::after {width: 0;}#sk-container-id-1 div.sk-dashed-wrapped {border: 1px dashed gray;margin: 0 0.4em 0.5em 0.4em;box-sizing: border-box;padding-bottom: 0.4em;background-color: white;}#sk-container-id-1 div.sk-label label {font-family: monospace;font-weight: bold;display: inline-block;line-height: 1.2em;}#sk-container-id-1 div.sk-label-container {text-align: center;}#sk-container-id-1 div.sk-container {/* jupyter's `normalize.less` sets `[hidden] { display: none; }` but bootstrap.min.css set `[hidden] { display: none !important; }` so we also need the `!important` here to be able to override the default hidden behavior on the sphinx rendered scikit-learn.org. See: https://github.com/scikit-learn/scikit-learn/issues/21755 */display: inline-block !important;position: relative;}#sk-container-id-1 div.sk-text-repr-fallback {display: none;}</style><div id=\"sk-container-id-1\" class=\"sk-top-container\"><div class=\"sk-text-repr-fallback\"><pre>LogisticRegression(random_state=245)</pre><b>In a Jupyter environment, please rerun this cell to show the HTML representation or trust the notebook. <br />On GitHub, the HTML representation is unable to render, please try loading this page with nbviewer.org.</b></div><div class=\"sk-container\" hidden><div class=\"sk-item\"><div class=\"sk-estimator sk-toggleable\"><input class=\"sk-toggleable__control sk-hidden--visually\" id=\"sk-estimator-id-1\" type=\"checkbox\" checked><label for=\"sk-estimator-id-1\" class=\"sk-toggleable__label sk-toggleable__label-arrow\">LogisticRegression</label><div class=\"sk-toggleable__content\"><pre>LogisticRegression(random_state=245)</pre></div></div></div></div></div>"
      ],
      "text/plain": [
       "LogisticRegression(random_state=245)"
      ]
     },
     "execution_count": 53,
     "metadata": {},
     "output_type": "execute_result"
    }
   ],
   "source": [
    "log_scaled_baseline = LogisticRegression(random_state=random_state)\n",
    "log_scaled_baseline.fit(X_scaled_train, y_scaled_train)"
   ]
  },
  {
   "cell_type": "code",
   "execution_count": 54,
   "id": "795d3a3d",
   "metadata": {},
   "outputs": [
    {
     "name": "stdout",
     "output_type": "stream",
     "text": [
      "              precision    recall  f1-score   support\n",
      "\n",
      "         0.0       1.00      0.99      0.99      7154\n",
      "         1.0       0.99      1.00      0.99      5605\n",
      "\n",
      "    accuracy                           0.99     12759\n",
      "   macro avg       0.99      0.99      0.99     12759\n",
      "weighted avg       0.99      0.99      0.99     12759\n",
      "\n"
     ]
    }
   ],
   "source": [
    "print(classification_report(y_scaled_val, log_scaled_baseline.predict(X_scaled_val)))"
   ]
  },
  {
   "cell_type": "code",
   "execution_count": 55,
   "id": "38d535c6",
   "metadata": {},
   "outputs": [
    {
     "name": "stdout",
     "output_type": "stream",
     "text": [
      "Fitting 3 folds for each of 100 candidates, totalling 300 fits\n",
      "[CV 1/3] END C=0.01, penalty=l1, solver=newton-cg;, score=nan total time=   0.0s\n",
      "[CV 2/3] END C=0.01, penalty=l1, solver=newton-cg;, score=nan total time=   0.0s\n",
      "[CV 3/3] END C=0.01, penalty=l1, solver=newton-cg;, score=nan total time=   0.0s\n",
      "[CV 1/3] END ....C=0.01, penalty=l1, solver=lbfgs;, score=nan total time=   0.0s\n",
      "[CV 2/3] END ....C=0.01, penalty=l1, solver=lbfgs;, score=nan total time=   0.0s\n",
      "[CV 3/3] END ....C=0.01, penalty=l1, solver=lbfgs;, score=nan total time=   0.0s\n",
      "[CV 1/3] END C=0.01, penalty=l1, solver=liblinear;, score=0.980 total time=   0.0s\n",
      "[CV 2/3] END C=0.01, penalty=l1, solver=liblinear;, score=0.983 total time=   0.0s\n",
      "[CV 3/3] END C=0.01, penalty=l1, solver=liblinear;, score=0.978 total time=   0.0s\n",
      "[CV 1/3] END ......C=0.01, penalty=l1, solver=sag;, score=nan total time=   0.0s\n",
      "[CV 2/3] END ......C=0.01, penalty=l1, solver=sag;, score=nan total time=   0.0s\n",
      "[CV 3/3] END ......C=0.01, penalty=l1, solver=sag;, score=nan total time=   0.0s\n"
     ]
    },
    {
     "name": "stderr",
     "output_type": "stream",
     "text": [
      "c:\\Users\\harsh\\anaconda3\\Lib\\site-packages\\sklearn\\linear_model\\_sag.py:350: ConvergenceWarning: The max_iter was reached which means the coef_ did not converge\n",
      "  warnings.warn(\n"
     ]
    },
    {
     "name": "stdout",
     "output_type": "stream",
     "text": [
      "[CV 1/3] END ...C=0.01, penalty=l1, solver=saga;, score=0.981 total time=   0.3s\n"
     ]
    },
    {
     "name": "stderr",
     "output_type": "stream",
     "text": [
      "c:\\Users\\harsh\\anaconda3\\Lib\\site-packages\\sklearn\\linear_model\\_sag.py:350: ConvergenceWarning: The max_iter was reached which means the coef_ did not converge\n",
      "  warnings.warn(\n"
     ]
    },
    {
     "name": "stdout",
     "output_type": "stream",
     "text": [
      "[CV 2/3] END ...C=0.01, penalty=l1, solver=saga;, score=0.983 total time=   0.2s\n"
     ]
    },
    {
     "name": "stderr",
     "output_type": "stream",
     "text": [
      "c:\\Users\\harsh\\anaconda3\\Lib\\site-packages\\sklearn\\linear_model\\_sag.py:350: ConvergenceWarning: The max_iter was reached which means the coef_ did not converge\n",
      "  warnings.warn(\n"
     ]
    },
    {
     "name": "stdout",
     "output_type": "stream",
     "text": [
      "[CV 3/3] END ...C=0.01, penalty=l1, solver=saga;, score=0.978 total time=   0.2s\n",
      "[CV 1/3] END C=0.01, penalty=l2, solver=newton-cg;, score=0.985 total time=   0.0s\n",
      "[CV 2/3] END C=0.01, penalty=l2, solver=newton-cg;, score=0.986 total time=   0.0s\n",
      "[CV 3/3] END C=0.01, penalty=l2, solver=newton-cg;, score=0.984 total time=   0.0s\n",
      "[CV 1/3] END ..C=0.01, penalty=l2, solver=lbfgs;, score=0.985 total time=   0.0s\n",
      "[CV 2/3] END ..C=0.01, penalty=l2, solver=lbfgs;, score=0.986 total time=   0.0s\n",
      "[CV 3/3] END ..C=0.01, penalty=l2, solver=lbfgs;, score=0.984 total time=   0.0s\n",
      "[CV 1/3] END C=0.01, penalty=l2, solver=liblinear;, score=0.985 total time=   0.0s\n",
      "[CV 2/3] END C=0.01, penalty=l2, solver=liblinear;, score=0.985 total time=   0.0s\n",
      "[CV 3/3] END C=0.01, penalty=l2, solver=liblinear;, score=0.984 total time=   0.0s\n",
      "[CV 1/3] END ....C=0.01, penalty=l2, solver=sag;, score=0.985 total time=   0.1s\n",
      "[CV 2/3] END ....C=0.01, penalty=l2, solver=sag;, score=0.986 total time=   0.1s\n",
      "[CV 3/3] END ....C=0.01, penalty=l2, solver=sag;, score=0.984 total time=   0.1s\n"
     ]
    },
    {
     "name": "stderr",
     "output_type": "stream",
     "text": [
      "c:\\Users\\harsh\\anaconda3\\Lib\\site-packages\\sklearn\\linear_model\\_sag.py:350: ConvergenceWarning: The max_iter was reached which means the coef_ did not converge\n",
      "  warnings.warn(\n"
     ]
    },
    {
     "name": "stdout",
     "output_type": "stream",
     "text": [
      "[CV 1/3] END ...C=0.01, penalty=l2, solver=saga;, score=0.985 total time=   0.2s\n"
     ]
    },
    {
     "name": "stderr",
     "output_type": "stream",
     "text": [
      "c:\\Users\\harsh\\anaconda3\\Lib\\site-packages\\sklearn\\linear_model\\_sag.py:350: ConvergenceWarning: The max_iter was reached which means the coef_ did not converge\n",
      "  warnings.warn(\n"
     ]
    },
    {
     "name": "stdout",
     "output_type": "stream",
     "text": [
      "[CV 2/3] END ...C=0.01, penalty=l2, solver=saga;, score=0.986 total time=   0.2s\n"
     ]
    },
    {
     "name": "stderr",
     "output_type": "stream",
     "text": [
      "c:\\Users\\harsh\\anaconda3\\Lib\\site-packages\\sklearn\\linear_model\\_sag.py:350: ConvergenceWarning: The max_iter was reached which means the coef_ did not converge\n",
      "  warnings.warn(\n",
      "c:\\Users\\harsh\\anaconda3\\Lib\\site-packages\\sklearn\\linear_model\\_logistic.py:1183: FutureWarning: `penalty='none'`has been deprecated in 1.2 and will be removed in 1.4. To keep the past behaviour, set `penalty=None`.\n",
      "  warnings.warn(\n",
      "c:\\Users\\harsh\\anaconda3\\Lib\\site-packages\\sklearn\\linear_model\\_logistic.py:1193: UserWarning: Setting penalty=None will ignore the C and l1_ratio parameters\n",
      "  warnings.warn(\n"
     ]
    },
    {
     "name": "stdout",
     "output_type": "stream",
     "text": [
      "[CV 3/3] END ...C=0.01, penalty=l2, solver=saga;, score=0.984 total time=   0.2s\n",
      "[CV 1/3] END C=0.01, penalty=elasticnet, solver=newton-cg;, score=nan total time=   0.0s\n",
      "[CV 2/3] END C=0.01, penalty=elasticnet, solver=newton-cg;, score=nan total time=   0.0s\n",
      "[CV 3/3] END C=0.01, penalty=elasticnet, solver=newton-cg;, score=nan total time=   0.0s\n",
      "[CV 1/3] END C=0.01, penalty=elasticnet, solver=lbfgs;, score=nan total time=   0.0s\n",
      "[CV 2/3] END C=0.01, penalty=elasticnet, solver=lbfgs;, score=nan total time=   0.0s\n",
      "[CV 3/3] END C=0.01, penalty=elasticnet, solver=lbfgs;, score=nan total time=   0.0s\n",
      "[CV 1/3] END C=0.01, penalty=elasticnet, solver=liblinear;, score=nan total time=   0.0s\n",
      "[CV 2/3] END C=0.01, penalty=elasticnet, solver=liblinear;, score=nan total time=   0.0s\n",
      "[CV 3/3] END C=0.01, penalty=elasticnet, solver=liblinear;, score=nan total time=   0.0s\n",
      "[CV 1/3] END C=0.01, penalty=elasticnet, solver=sag;, score=nan total time=   0.0s\n",
      "[CV 2/3] END C=0.01, penalty=elasticnet, solver=sag;, score=nan total time=   0.0s\n",
      "[CV 3/3] END C=0.01, penalty=elasticnet, solver=sag;, score=nan total time=   0.0s\n",
      "[CV 1/3] END C=0.01, penalty=elasticnet, solver=saga;, score=nan total time=   0.0s\n",
      "[CV 2/3] END C=0.01, penalty=elasticnet, solver=saga;, score=nan total time=   0.0s\n",
      "[CV 3/3] END C=0.01, penalty=elasticnet, solver=saga;, score=nan total time=   0.0s\n"
     ]
    },
    {
     "name": "stderr",
     "output_type": "stream",
     "text": [
      "c:\\Users\\harsh\\anaconda3\\Lib\\site-packages\\scipy\\optimize\\_linesearch.py:457: LineSearchWarning: The line search algorithm did not converge\n",
      "  warn('The line search algorithm did not converge', LineSearchWarning)\n",
      "c:\\Users\\harsh\\anaconda3\\Lib\\site-packages\\scipy\\optimize\\_linesearch.py:306: LineSearchWarning: The line search algorithm did not converge\n",
      "  warn('The line search algorithm did not converge', LineSearchWarning)\n",
      "c:\\Users\\harsh\\anaconda3\\Lib\\site-packages\\sklearn\\utils\\optimize.py:211: ConvergenceWarning: newton-cg failed to converge. Increase the number of iterations.\n",
      "  warnings.warn(\n",
      "c:\\Users\\harsh\\anaconda3\\Lib\\site-packages\\sklearn\\linear_model\\_logistic.py:1183: FutureWarning: `penalty='none'`has been deprecated in 1.2 and will be removed in 1.4. To keep the past behaviour, set `penalty=None`.\n",
      "  warnings.warn(\n",
      "c:\\Users\\harsh\\anaconda3\\Lib\\site-packages\\sklearn\\linear_model\\_logistic.py:1193: UserWarning: Setting penalty=None will ignore the C and l1_ratio parameters\n",
      "  warnings.warn(\n",
      "c:\\Users\\harsh\\anaconda3\\Lib\\site-packages\\scipy\\optimize\\_linesearch.py:306: LineSearchWarning: The line search algorithm did not converge\n",
      "  warn('The line search algorithm did not converge', LineSearchWarning)\n",
      "c:\\Users\\harsh\\anaconda3\\Lib\\site-packages\\sklearn\\utils\\optimize.py:204: UserWarning: Line Search failed\n",
      "  warnings.warn(\"Line Search failed\")\n",
      "c:\\Users\\harsh\\anaconda3\\Lib\\site-packages\\sklearn\\linear_model\\_logistic.py:1183: FutureWarning: `penalty='none'`has been deprecated in 1.2 and will be removed in 1.4. To keep the past behaviour, set `penalty=None`.\n",
      "  warnings.warn(\n",
      "c:\\Users\\harsh\\anaconda3\\Lib\\site-packages\\sklearn\\linear_model\\_logistic.py:1193: UserWarning: Setting penalty=None will ignore the C and l1_ratio parameters\n",
      "  warnings.warn(\n"
     ]
    },
    {
     "name": "stdout",
     "output_type": "stream",
     "text": [
      "[CV 1/3] END C=0.01, penalty=none, solver=newton-cg;, score=0.561 total time=   4.1s\n",
      "[CV 2/3] END C=0.01, penalty=none, solver=newton-cg;, score=0.994 total time=   0.0s\n"
     ]
    },
    {
     "name": "stderr",
     "output_type": "stream",
     "text": [
      "c:\\Users\\harsh\\anaconda3\\Lib\\site-packages\\scipy\\optimize\\_linesearch.py:457: LineSearchWarning: The line search algorithm did not converge\n",
      "  warn('The line search algorithm did not converge', LineSearchWarning)\n",
      "c:\\Users\\harsh\\anaconda3\\Lib\\site-packages\\scipy\\optimize\\_linesearch.py:306: LineSearchWarning: The line search algorithm did not converge\n",
      "  warn('The line search algorithm did not converge', LineSearchWarning)\n",
      "c:\\Users\\harsh\\anaconda3\\Lib\\site-packages\\sklearn\\utils\\optimize.py:211: ConvergenceWarning: newton-cg failed to converge. Increase the number of iterations.\n",
      "  warnings.warn(\n",
      "c:\\Users\\harsh\\anaconda3\\Lib\\site-packages\\sklearn\\linear_model\\_logistic.py:1183: FutureWarning: `penalty='none'`has been deprecated in 1.2 and will be removed in 1.4. To keep the past behaviour, set `penalty=None`.\n",
      "  warnings.warn(\n",
      "c:\\Users\\harsh\\anaconda3\\Lib\\site-packages\\sklearn\\linear_model\\_logistic.py:1193: UserWarning: Setting penalty=None will ignore the C and l1_ratio parameters\n",
      "  warnings.warn(\n",
      "c:\\Users\\harsh\\anaconda3\\Lib\\site-packages\\sklearn\\linear_model\\_logistic.py:460: ConvergenceWarning: lbfgs failed to converge (status=1):\n",
      "STOP: TOTAL NO. of ITERATIONS REACHED LIMIT.\n",
      "\n",
      "Increase the number of iterations (max_iter) or scale the data as shown in:\n",
      "    https://scikit-learn.org/stable/modules/preprocessing.html\n",
      "Please also refer to the documentation for alternative solver options:\n",
      "    https://scikit-learn.org/stable/modules/linear_model.html#logistic-regression\n",
      "  n_iter_i = _check_optimize_result(\n",
      "c:\\Users\\harsh\\anaconda3\\Lib\\site-packages\\sklearn\\linear_model\\_logistic.py:1183: FutureWarning: `penalty='none'`has been deprecated in 1.2 and will be removed in 1.4. To keep the past behaviour, set `penalty=None`.\n",
      "  warnings.warn(\n",
      "c:\\Users\\harsh\\anaconda3\\Lib\\site-packages\\sklearn\\linear_model\\_logistic.py:1193: UserWarning: Setting penalty=None will ignore the C and l1_ratio parameters\n",
      "  warnings.warn(\n",
      "c:\\Users\\harsh\\anaconda3\\Lib\\site-packages\\sklearn\\linear_model\\_logistic.py:460: ConvergenceWarning: lbfgs failed to converge (status=1):\n",
      "STOP: TOTAL NO. of ITERATIONS REACHED LIMIT.\n",
      "\n",
      "Increase the number of iterations (max_iter) or scale the data as shown in:\n",
      "    https://scikit-learn.org/stable/modules/preprocessing.html\n",
      "Please also refer to the documentation for alternative solver options:\n",
      "    https://scikit-learn.org/stable/modules/linear_model.html#logistic-regression\n",
      "  n_iter_i = _check_optimize_result(\n",
      "c:\\Users\\harsh\\anaconda3\\Lib\\site-packages\\sklearn\\linear_model\\_logistic.py:1183: FutureWarning: `penalty='none'`has been deprecated in 1.2 and will be removed in 1.4. To keep the past behaviour, set `penalty=None`.\n",
      "  warnings.warn(\n",
      "c:\\Users\\harsh\\anaconda3\\Lib\\site-packages\\sklearn\\linear_model\\_logistic.py:1193: UserWarning: Setting penalty=None will ignore the C and l1_ratio parameters\n",
      "  warnings.warn(\n",
      "c:\\Users\\harsh\\anaconda3\\Lib\\site-packages\\sklearn\\linear_model\\_logistic.py:460: ConvergenceWarning: lbfgs failed to converge (status=1):\n",
      "STOP: TOTAL NO. of ITERATIONS REACHED LIMIT.\n",
      "\n",
      "Increase the number of iterations (max_iter) or scale the data as shown in:\n",
      "    https://scikit-learn.org/stable/modules/preprocessing.html\n",
      "Please also refer to the documentation for alternative solver options:\n",
      "    https://scikit-learn.org/stable/modules/linear_model.html#logistic-regression\n",
      "  n_iter_i = _check_optimize_result(\n",
      "c:\\Users\\harsh\\anaconda3\\Lib\\site-packages\\sklearn\\linear_model\\_logistic.py:1183: FutureWarning: `penalty='none'`has been deprecated in 1.2 and will be removed in 1.4. To keep the past behaviour, set `penalty=None`.\n",
      "  warnings.warn(\n",
      "c:\\Users\\harsh\\anaconda3\\Lib\\site-packages\\sklearn\\linear_model\\_logistic.py:1193: UserWarning: Setting penalty=None will ignore the C and l1_ratio parameters\n",
      "  warnings.warn(\n"
     ]
    },
    {
     "name": "stdout",
     "output_type": "stream",
     "text": [
      "[CV 3/3] END C=0.01, penalty=none, solver=newton-cg;, score=0.561 total time=   3.3s\n",
      "[CV 1/3] END C=0.01, penalty=none, solver=lbfgs;, score=0.992 total time=   0.0s\n",
      "[CV 2/3] END C=0.01, penalty=none, solver=lbfgs;, score=0.993 total time=   0.0s\n",
      "[CV 3/3] END C=0.01, penalty=none, solver=lbfgs;, score=0.992 total time=   0.0s\n",
      "[CV 1/3] END C=0.01, penalty=none, solver=liblinear;, score=nan total time=   0.0s\n",
      "[CV 2/3] END C=0.01, penalty=none, solver=liblinear;, score=nan total time=   0.0s\n",
      "[CV 3/3] END C=0.01, penalty=none, solver=liblinear;, score=nan total time=   0.0s\n"
     ]
    },
    {
     "name": "stderr",
     "output_type": "stream",
     "text": [
      "c:\\Users\\harsh\\anaconda3\\Lib\\site-packages\\sklearn\\linear_model\\_sag.py:350: ConvergenceWarning: The max_iter was reached which means the coef_ did not converge\n",
      "  warnings.warn(\n",
      "c:\\Users\\harsh\\anaconda3\\Lib\\site-packages\\sklearn\\linear_model\\_logistic.py:1183: FutureWarning: `penalty='none'`has been deprecated in 1.2 and will be removed in 1.4. To keep the past behaviour, set `penalty=None`.\n",
      "  warnings.warn(\n",
      "c:\\Users\\harsh\\anaconda3\\Lib\\site-packages\\sklearn\\linear_model\\_logistic.py:1193: UserWarning: Setting penalty=None will ignore the C and l1_ratio parameters\n",
      "  warnings.warn(\n"
     ]
    },
    {
     "name": "stdout",
     "output_type": "stream",
     "text": [
      "[CV 1/3] END ..C=0.01, penalty=none, solver=sag;, score=0.990 total time=   0.2s\n"
     ]
    },
    {
     "name": "stderr",
     "output_type": "stream",
     "text": [
      "c:\\Users\\harsh\\anaconda3\\Lib\\site-packages\\sklearn\\linear_model\\_sag.py:350: ConvergenceWarning: The max_iter was reached which means the coef_ did not converge\n",
      "  warnings.warn(\n",
      "c:\\Users\\harsh\\anaconda3\\Lib\\site-packages\\sklearn\\linear_model\\_logistic.py:1183: FutureWarning: `penalty='none'`has been deprecated in 1.2 and will be removed in 1.4. To keep the past behaviour, set `penalty=None`.\n",
      "  warnings.warn(\n",
      "c:\\Users\\harsh\\anaconda3\\Lib\\site-packages\\sklearn\\linear_model\\_logistic.py:1193: UserWarning: Setting penalty=None will ignore the C and l1_ratio parameters\n",
      "  warnings.warn(\n"
     ]
    },
    {
     "name": "stdout",
     "output_type": "stream",
     "text": [
      "[CV 2/3] END ..C=0.01, penalty=none, solver=sag;, score=0.990 total time=   0.1s\n"
     ]
    },
    {
     "name": "stderr",
     "output_type": "stream",
     "text": [
      "c:\\Users\\harsh\\anaconda3\\Lib\\site-packages\\sklearn\\linear_model\\_sag.py:350: ConvergenceWarning: The max_iter was reached which means the coef_ did not converge\n",
      "  warnings.warn(\n",
      "c:\\Users\\harsh\\anaconda3\\Lib\\site-packages\\sklearn\\linear_model\\_logistic.py:1183: FutureWarning: `penalty='none'`has been deprecated in 1.2 and will be removed in 1.4. To keep the past behaviour, set `penalty=None`.\n",
      "  warnings.warn(\n",
      "c:\\Users\\harsh\\anaconda3\\Lib\\site-packages\\sklearn\\linear_model\\_logistic.py:1193: UserWarning: Setting penalty=None will ignore the C and l1_ratio parameters\n",
      "  warnings.warn(\n"
     ]
    },
    {
     "name": "stdout",
     "output_type": "stream",
     "text": [
      "[CV 3/3] END ..C=0.01, penalty=none, solver=sag;, score=0.991 total time=   0.2s\n"
     ]
    },
    {
     "name": "stderr",
     "output_type": "stream",
     "text": [
      "c:\\Users\\harsh\\anaconda3\\Lib\\site-packages\\sklearn\\linear_model\\_sag.py:350: ConvergenceWarning: The max_iter was reached which means the coef_ did not converge\n",
      "  warnings.warn(\n",
      "c:\\Users\\harsh\\anaconda3\\Lib\\site-packages\\sklearn\\linear_model\\_logistic.py:1183: FutureWarning: `penalty='none'`has been deprecated in 1.2 and will be removed in 1.4. To keep the past behaviour, set `penalty=None`.\n",
      "  warnings.warn(\n",
      "c:\\Users\\harsh\\anaconda3\\Lib\\site-packages\\sklearn\\linear_model\\_logistic.py:1193: UserWarning: Setting penalty=None will ignore the C and l1_ratio parameters\n",
      "  warnings.warn(\n"
     ]
    },
    {
     "name": "stdout",
     "output_type": "stream",
     "text": [
      "[CV 1/3] END .C=0.01, penalty=none, solver=saga;, score=0.988 total time=   0.2s\n"
     ]
    },
    {
     "name": "stderr",
     "output_type": "stream",
     "text": [
      "c:\\Users\\harsh\\anaconda3\\Lib\\site-packages\\sklearn\\linear_model\\_sag.py:350: ConvergenceWarning: The max_iter was reached which means the coef_ did not converge\n",
      "  warnings.warn(\n",
      "c:\\Users\\harsh\\anaconda3\\Lib\\site-packages\\sklearn\\linear_model\\_logistic.py:1183: FutureWarning: `penalty='none'`has been deprecated in 1.2 and will be removed in 1.4. To keep the past behaviour, set `penalty=None`.\n",
      "  warnings.warn(\n",
      "c:\\Users\\harsh\\anaconda3\\Lib\\site-packages\\sklearn\\linear_model\\_logistic.py:1193: UserWarning: Setting penalty=None will ignore the C and l1_ratio parameters\n",
      "  warnings.warn(\n"
     ]
    },
    {
     "name": "stdout",
     "output_type": "stream",
     "text": [
      "[CV 2/3] END .C=0.01, penalty=none, solver=saga;, score=0.988 total time=   0.2s\n"
     ]
    },
    {
     "name": "stderr",
     "output_type": "stream",
     "text": [
      "c:\\Users\\harsh\\anaconda3\\Lib\\site-packages\\sklearn\\linear_model\\_sag.py:350: ConvergenceWarning: The max_iter was reached which means the coef_ did not converge\n",
      "  warnings.warn(\n"
     ]
    },
    {
     "name": "stdout",
     "output_type": "stream",
     "text": [
      "[CV 3/3] END .C=0.01, penalty=none, solver=saga;, score=0.989 total time=   0.2s\n",
      "[CV 1/3] END .C=0.1, penalty=l1, solver=newton-cg;, score=nan total time=   0.0s\n",
      "[CV 2/3] END .C=0.1, penalty=l1, solver=newton-cg;, score=nan total time=   0.0s\n",
      "[CV 3/3] END .C=0.1, penalty=l1, solver=newton-cg;, score=nan total time=   0.0s\n",
      "[CV 1/3] END .....C=0.1, penalty=l1, solver=lbfgs;, score=nan total time=   0.0s\n",
      "[CV 2/3] END .....C=0.1, penalty=l1, solver=lbfgs;, score=nan total time=   0.0s\n",
      "[CV 3/3] END .....C=0.1, penalty=l1, solver=lbfgs;, score=nan total time=   0.0s\n",
      "[CV 1/3] END C=0.1, penalty=l1, solver=liblinear;, score=0.992 total time=   0.0s\n",
      "[CV 2/3] END C=0.1, penalty=l1, solver=liblinear;, score=0.993 total time=   0.0s\n",
      "[CV 3/3] END C=0.1, penalty=l1, solver=liblinear;, score=0.992 total time=   0.0s\n",
      "[CV 1/3] END .......C=0.1, penalty=l1, solver=sag;, score=nan total time=   0.0s\n",
      "[CV 2/3] END .......C=0.1, penalty=l1, solver=sag;, score=nan total time=   0.0s\n",
      "[CV 3/3] END .......C=0.1, penalty=l1, solver=sag;, score=nan total time=   0.0s\n"
     ]
    },
    {
     "name": "stderr",
     "output_type": "stream",
     "text": [
      "c:\\Users\\harsh\\anaconda3\\Lib\\site-packages\\sklearn\\linear_model\\_sag.py:350: ConvergenceWarning: The max_iter was reached which means the coef_ did not converge\n",
      "  warnings.warn(\n"
     ]
    },
    {
     "name": "stdout",
     "output_type": "stream",
     "text": [
      "[CV 1/3] END ....C=0.1, penalty=l1, solver=saga;, score=0.988 total time=   0.3s\n"
     ]
    },
    {
     "name": "stderr",
     "output_type": "stream",
     "text": [
      "c:\\Users\\harsh\\anaconda3\\Lib\\site-packages\\sklearn\\linear_model\\_sag.py:350: ConvergenceWarning: The max_iter was reached which means the coef_ did not converge\n",
      "  warnings.warn(\n"
     ]
    },
    {
     "name": "stdout",
     "output_type": "stream",
     "text": [
      "[CV 2/3] END ....C=0.1, penalty=l1, solver=saga;, score=0.988 total time=   0.3s\n"
     ]
    },
    {
     "name": "stderr",
     "output_type": "stream",
     "text": [
      "c:\\Users\\harsh\\anaconda3\\Lib\\site-packages\\sklearn\\linear_model\\_sag.py:350: ConvergenceWarning: The max_iter was reached which means the coef_ did not converge\n",
      "  warnings.warn(\n"
     ]
    },
    {
     "name": "stdout",
     "output_type": "stream",
     "text": [
      "[CV 3/3] END ....C=0.1, penalty=l1, solver=saga;, score=0.988 total time=   0.3s\n",
      "[CV 1/3] END C=0.1, penalty=l2, solver=newton-cg;, score=0.990 total time=   0.0s\n",
      "[CV 2/3] END C=0.1, penalty=l2, solver=newton-cg;, score=0.991 total time=   0.0s\n",
      "[CV 3/3] END C=0.1, penalty=l2, solver=newton-cg;, score=0.991 total time=   0.0s\n",
      "[CV 1/3] END ...C=0.1, penalty=l2, solver=lbfgs;, score=0.990 total time=   0.0s\n",
      "[CV 2/3] END ...C=0.1, penalty=l2, solver=lbfgs;, score=0.991 total time=   0.0s\n",
      "[CV 3/3] END ...C=0.1, penalty=l2, solver=lbfgs;, score=0.991 total time=   0.0s\n",
      "[CV 1/3] END C=0.1, penalty=l2, solver=liblinear;, score=0.990 total time=   0.0s\n",
      "[CV 2/3] END C=0.1, penalty=l2, solver=liblinear;, score=0.990 total time=   0.0s\n",
      "[CV 3/3] END C=0.1, penalty=l2, solver=liblinear;, score=0.990 total time=   0.0s\n"
     ]
    },
    {
     "name": "stderr",
     "output_type": "stream",
     "text": [
      "c:\\Users\\harsh\\anaconda3\\Lib\\site-packages\\sklearn\\linear_model\\_sag.py:350: ConvergenceWarning: The max_iter was reached which means the coef_ did not converge\n",
      "  warnings.warn(\n"
     ]
    },
    {
     "name": "stdout",
     "output_type": "stream",
     "text": [
      "[CV 1/3] END .....C=0.1, penalty=l2, solver=sag;, score=0.989 total time=   0.1s\n"
     ]
    },
    {
     "name": "stderr",
     "output_type": "stream",
     "text": [
      "c:\\Users\\harsh\\anaconda3\\Lib\\site-packages\\sklearn\\linear_model\\_sag.py:350: ConvergenceWarning: The max_iter was reached which means the coef_ did not converge\n",
      "  warnings.warn(\n"
     ]
    },
    {
     "name": "stdout",
     "output_type": "stream",
     "text": [
      "[CV 2/3] END .....C=0.1, penalty=l2, solver=sag;, score=0.990 total time=   0.2s\n"
     ]
    },
    {
     "name": "stderr",
     "output_type": "stream",
     "text": [
      "c:\\Users\\harsh\\anaconda3\\Lib\\site-packages\\sklearn\\linear_model\\_sag.py:350: ConvergenceWarning: The max_iter was reached which means the coef_ did not converge\n",
      "  warnings.warn(\n"
     ]
    },
    {
     "name": "stdout",
     "output_type": "stream",
     "text": [
      "[CV 3/3] END .....C=0.1, penalty=l2, solver=sag;, score=0.990 total time=   0.2s\n"
     ]
    },
    {
     "name": "stderr",
     "output_type": "stream",
     "text": [
      "c:\\Users\\harsh\\anaconda3\\Lib\\site-packages\\sklearn\\linear_model\\_sag.py:350: ConvergenceWarning: The max_iter was reached which means the coef_ did not converge\n",
      "  warnings.warn(\n"
     ]
    },
    {
     "name": "stdout",
     "output_type": "stream",
     "text": [
      "[CV 1/3] END ....C=0.1, penalty=l2, solver=saga;, score=0.987 total time=   0.2s\n"
     ]
    },
    {
     "name": "stderr",
     "output_type": "stream",
     "text": [
      "c:\\Users\\harsh\\anaconda3\\Lib\\site-packages\\sklearn\\linear_model\\_sag.py:350: ConvergenceWarning: The max_iter was reached which means the coef_ did not converge\n",
      "  warnings.warn(\n"
     ]
    },
    {
     "name": "stdout",
     "output_type": "stream",
     "text": [
      "[CV 2/3] END ....C=0.1, penalty=l2, solver=saga;, score=0.987 total time=   0.2s\n"
     ]
    },
    {
     "name": "stderr",
     "output_type": "stream",
     "text": [
      "c:\\Users\\harsh\\anaconda3\\Lib\\site-packages\\sklearn\\linear_model\\_sag.py:350: ConvergenceWarning: The max_iter was reached which means the coef_ did not converge\n",
      "  warnings.warn(\n",
      "c:\\Users\\harsh\\anaconda3\\Lib\\site-packages\\sklearn\\linear_model\\_logistic.py:1183: FutureWarning: `penalty='none'`has been deprecated in 1.2 and will be removed in 1.4. To keep the past behaviour, set `penalty=None`.\n",
      "  warnings.warn(\n",
      "c:\\Users\\harsh\\anaconda3\\Lib\\site-packages\\sklearn\\linear_model\\_logistic.py:1193: UserWarning: Setting penalty=None will ignore the C and l1_ratio parameters\n",
      "  warnings.warn(\n"
     ]
    },
    {
     "name": "stdout",
     "output_type": "stream",
     "text": [
      "[CV 3/3] END ....C=0.1, penalty=l2, solver=saga;, score=0.988 total time=   0.2s\n",
      "[CV 1/3] END C=0.1, penalty=elasticnet, solver=newton-cg;, score=nan total time=   0.0s\n",
      "[CV 2/3] END C=0.1, penalty=elasticnet, solver=newton-cg;, score=nan total time=   0.0s\n",
      "[CV 3/3] END C=0.1, penalty=elasticnet, solver=newton-cg;, score=nan total time=   0.0s\n",
      "[CV 1/3] END C=0.1, penalty=elasticnet, solver=lbfgs;, score=nan total time=   0.0s\n",
      "[CV 2/3] END C=0.1, penalty=elasticnet, solver=lbfgs;, score=nan total time=   0.0s\n",
      "[CV 3/3] END C=0.1, penalty=elasticnet, solver=lbfgs;, score=nan total time=   0.0s\n",
      "[CV 1/3] END C=0.1, penalty=elasticnet, solver=liblinear;, score=nan total time=   0.0s\n",
      "[CV 2/3] END C=0.1, penalty=elasticnet, solver=liblinear;, score=nan total time=   0.0s\n",
      "[CV 3/3] END C=0.1, penalty=elasticnet, solver=liblinear;, score=nan total time=   0.0s\n",
      "[CV 1/3] END C=0.1, penalty=elasticnet, solver=sag;, score=nan total time=   0.0s\n",
      "[CV 2/3] END C=0.1, penalty=elasticnet, solver=sag;, score=nan total time=   0.0s\n",
      "[CV 3/3] END C=0.1, penalty=elasticnet, solver=sag;, score=nan total time=   0.0s\n",
      "[CV 1/3] END C=0.1, penalty=elasticnet, solver=saga;, score=nan total time=   0.0s\n",
      "[CV 2/3] END C=0.1, penalty=elasticnet, solver=saga;, score=nan total time=   0.0s\n",
      "[CV 3/3] END C=0.1, penalty=elasticnet, solver=saga;, score=nan total time=   0.0s\n"
     ]
    },
    {
     "name": "stderr",
     "output_type": "stream",
     "text": [
      "c:\\Users\\harsh\\anaconda3\\Lib\\site-packages\\scipy\\optimize\\_linesearch.py:457: LineSearchWarning: The line search algorithm did not converge\n",
      "  warn('The line search algorithm did not converge', LineSearchWarning)\n",
      "c:\\Users\\harsh\\anaconda3\\Lib\\site-packages\\scipy\\optimize\\_linesearch.py:306: LineSearchWarning: The line search algorithm did not converge\n",
      "  warn('The line search algorithm did not converge', LineSearchWarning)\n",
      "c:\\Users\\harsh\\anaconda3\\Lib\\site-packages\\sklearn\\utils\\optimize.py:211: ConvergenceWarning: newton-cg failed to converge. Increase the number of iterations.\n",
      "  warnings.warn(\n",
      "c:\\Users\\harsh\\anaconda3\\Lib\\site-packages\\sklearn\\linear_model\\_logistic.py:1183: FutureWarning: `penalty='none'`has been deprecated in 1.2 and will be removed in 1.4. To keep the past behaviour, set `penalty=None`.\n",
      "  warnings.warn(\n",
      "c:\\Users\\harsh\\anaconda3\\Lib\\site-packages\\sklearn\\linear_model\\_logistic.py:1193: UserWarning: Setting penalty=None will ignore the C and l1_ratio parameters\n",
      "  warnings.warn(\n",
      "c:\\Users\\harsh\\anaconda3\\Lib\\site-packages\\scipy\\optimize\\_linesearch.py:306: LineSearchWarning: The line search algorithm did not converge\n",
      "  warn('The line search algorithm did not converge', LineSearchWarning)\n",
      "c:\\Users\\harsh\\anaconda3\\Lib\\site-packages\\sklearn\\utils\\optimize.py:204: UserWarning: Line Search failed\n",
      "  warnings.warn(\"Line Search failed\")\n",
      "c:\\Users\\harsh\\anaconda3\\Lib\\site-packages\\sklearn\\linear_model\\_logistic.py:1183: FutureWarning: `penalty='none'`has been deprecated in 1.2 and will be removed in 1.4. To keep the past behaviour, set `penalty=None`.\n",
      "  warnings.warn(\n",
      "c:\\Users\\harsh\\anaconda3\\Lib\\site-packages\\sklearn\\linear_model\\_logistic.py:1193: UserWarning: Setting penalty=None will ignore the C and l1_ratio parameters\n",
      "  warnings.warn(\n"
     ]
    },
    {
     "name": "stdout",
     "output_type": "stream",
     "text": [
      "[CV 1/3] END C=0.1, penalty=none, solver=newton-cg;, score=0.561 total time=   4.0s\n",
      "[CV 2/3] END C=0.1, penalty=none, solver=newton-cg;, score=0.994 total time=   0.0s\n"
     ]
    },
    {
     "name": "stderr",
     "output_type": "stream",
     "text": [
      "c:\\Users\\harsh\\anaconda3\\Lib\\site-packages\\scipy\\optimize\\_linesearch.py:457: LineSearchWarning: The line search algorithm did not converge\n",
      "  warn('The line search algorithm did not converge', LineSearchWarning)\n",
      "c:\\Users\\harsh\\anaconda3\\Lib\\site-packages\\scipy\\optimize\\_linesearch.py:306: LineSearchWarning: The line search algorithm did not converge\n",
      "  warn('The line search algorithm did not converge', LineSearchWarning)\n",
      "c:\\Users\\harsh\\anaconda3\\Lib\\site-packages\\sklearn\\utils\\optimize.py:211: ConvergenceWarning: newton-cg failed to converge. Increase the number of iterations.\n",
      "  warnings.warn(\n",
      "c:\\Users\\harsh\\anaconda3\\Lib\\site-packages\\sklearn\\linear_model\\_logistic.py:1183: FutureWarning: `penalty='none'`has been deprecated in 1.2 and will be removed in 1.4. To keep the past behaviour, set `penalty=None`.\n",
      "  warnings.warn(\n",
      "c:\\Users\\harsh\\anaconda3\\Lib\\site-packages\\sklearn\\linear_model\\_logistic.py:1193: UserWarning: Setting penalty=None will ignore the C and l1_ratio parameters\n",
      "  warnings.warn(\n",
      "c:\\Users\\harsh\\anaconda3\\Lib\\site-packages\\sklearn\\linear_model\\_logistic.py:460: ConvergenceWarning: lbfgs failed to converge (status=1):\n",
      "STOP: TOTAL NO. of ITERATIONS REACHED LIMIT.\n",
      "\n",
      "Increase the number of iterations (max_iter) or scale the data as shown in:\n",
      "    https://scikit-learn.org/stable/modules/preprocessing.html\n",
      "Please also refer to the documentation for alternative solver options:\n",
      "    https://scikit-learn.org/stable/modules/linear_model.html#logistic-regression\n",
      "  n_iter_i = _check_optimize_result(\n",
      "c:\\Users\\harsh\\anaconda3\\Lib\\site-packages\\sklearn\\linear_model\\_logistic.py:1183: FutureWarning: `penalty='none'`has been deprecated in 1.2 and will be removed in 1.4. To keep the past behaviour, set `penalty=None`.\n",
      "  warnings.warn(\n",
      "c:\\Users\\harsh\\anaconda3\\Lib\\site-packages\\sklearn\\linear_model\\_logistic.py:1193: UserWarning: Setting penalty=None will ignore the C and l1_ratio parameters\n",
      "  warnings.warn(\n",
      "c:\\Users\\harsh\\anaconda3\\Lib\\site-packages\\sklearn\\linear_model\\_logistic.py:460: ConvergenceWarning: lbfgs failed to converge (status=1):\n",
      "STOP: TOTAL NO. of ITERATIONS REACHED LIMIT.\n",
      "\n",
      "Increase the number of iterations (max_iter) or scale the data as shown in:\n",
      "    https://scikit-learn.org/stable/modules/preprocessing.html\n",
      "Please also refer to the documentation for alternative solver options:\n",
      "    https://scikit-learn.org/stable/modules/linear_model.html#logistic-regression\n",
      "  n_iter_i = _check_optimize_result(\n",
      "c:\\Users\\harsh\\anaconda3\\Lib\\site-packages\\sklearn\\linear_model\\_logistic.py:1183: FutureWarning: `penalty='none'`has been deprecated in 1.2 and will be removed in 1.4. To keep the past behaviour, set `penalty=None`.\n",
      "  warnings.warn(\n",
      "c:\\Users\\harsh\\anaconda3\\Lib\\site-packages\\sklearn\\linear_model\\_logistic.py:1193: UserWarning: Setting penalty=None will ignore the C and l1_ratio parameters\n",
      "  warnings.warn(\n",
      "c:\\Users\\harsh\\anaconda3\\Lib\\site-packages\\sklearn\\linear_model\\_logistic.py:460: ConvergenceWarning: lbfgs failed to converge (status=1):\n",
      "STOP: TOTAL NO. of ITERATIONS REACHED LIMIT.\n",
      "\n",
      "Increase the number of iterations (max_iter) or scale the data as shown in:\n",
      "    https://scikit-learn.org/stable/modules/preprocessing.html\n",
      "Please also refer to the documentation for alternative solver options:\n",
      "    https://scikit-learn.org/stable/modules/linear_model.html#logistic-regression\n",
      "  n_iter_i = _check_optimize_result(\n",
      "c:\\Users\\harsh\\anaconda3\\Lib\\site-packages\\sklearn\\linear_model\\_logistic.py:1183: FutureWarning: `penalty='none'`has been deprecated in 1.2 and will be removed in 1.4. To keep the past behaviour, set `penalty=None`.\n",
      "  warnings.warn(\n",
      "c:\\Users\\harsh\\anaconda3\\Lib\\site-packages\\sklearn\\linear_model\\_logistic.py:1193: UserWarning: Setting penalty=None will ignore the C and l1_ratio parameters\n",
      "  warnings.warn(\n"
     ]
    },
    {
     "name": "stdout",
     "output_type": "stream",
     "text": [
      "[CV 3/3] END C=0.1, penalty=none, solver=newton-cg;, score=0.561 total time=   3.3s\n",
      "[CV 1/3] END .C=0.1, penalty=none, solver=lbfgs;, score=0.992 total time=   0.0s\n",
      "[CV 2/3] END .C=0.1, penalty=none, solver=lbfgs;, score=0.993 total time=   0.0s\n",
      "[CV 3/3] END .C=0.1, penalty=none, solver=lbfgs;, score=0.992 total time=   0.0s\n",
      "[CV 1/3] END C=0.1, penalty=none, solver=liblinear;, score=nan total time=   0.0s\n",
      "[CV 2/3] END C=0.1, penalty=none, solver=liblinear;, score=nan total time=   0.0s\n",
      "[CV 3/3] END C=0.1, penalty=none, solver=liblinear;, score=nan total time=   0.0s\n"
     ]
    },
    {
     "name": "stderr",
     "output_type": "stream",
     "text": [
      "c:\\Users\\harsh\\anaconda3\\Lib\\site-packages\\sklearn\\linear_model\\_sag.py:350: ConvergenceWarning: The max_iter was reached which means the coef_ did not converge\n",
      "  warnings.warn(\n",
      "c:\\Users\\harsh\\anaconda3\\Lib\\site-packages\\sklearn\\linear_model\\_logistic.py:1183: FutureWarning: `penalty='none'`has been deprecated in 1.2 and will be removed in 1.4. To keep the past behaviour, set `penalty=None`.\n",
      "  warnings.warn(\n",
      "c:\\Users\\harsh\\anaconda3\\Lib\\site-packages\\sklearn\\linear_model\\_logistic.py:1193: UserWarning: Setting penalty=None will ignore the C and l1_ratio parameters\n",
      "  warnings.warn(\n"
     ]
    },
    {
     "name": "stdout",
     "output_type": "stream",
     "text": [
      "[CV 1/3] END ...C=0.1, penalty=none, solver=sag;, score=0.990 total time=   0.2s\n"
     ]
    },
    {
     "name": "stderr",
     "output_type": "stream",
     "text": [
      "c:\\Users\\harsh\\anaconda3\\Lib\\site-packages\\sklearn\\linear_model\\_sag.py:350: ConvergenceWarning: The max_iter was reached which means the coef_ did not converge\n",
      "  warnings.warn(\n",
      "c:\\Users\\harsh\\anaconda3\\Lib\\site-packages\\sklearn\\linear_model\\_logistic.py:1183: FutureWarning: `penalty='none'`has been deprecated in 1.2 and will be removed in 1.4. To keep the past behaviour, set `penalty=None`.\n",
      "  warnings.warn(\n",
      "c:\\Users\\harsh\\anaconda3\\Lib\\site-packages\\sklearn\\linear_model\\_logistic.py:1193: UserWarning: Setting penalty=None will ignore the C and l1_ratio parameters\n",
      "  warnings.warn(\n"
     ]
    },
    {
     "name": "stdout",
     "output_type": "stream",
     "text": [
      "[CV 2/3] END ...C=0.1, penalty=none, solver=sag;, score=0.990 total time=   0.1s\n"
     ]
    },
    {
     "name": "stderr",
     "output_type": "stream",
     "text": [
      "c:\\Users\\harsh\\anaconda3\\Lib\\site-packages\\sklearn\\linear_model\\_sag.py:350: ConvergenceWarning: The max_iter was reached which means the coef_ did not converge\n",
      "  warnings.warn(\n",
      "c:\\Users\\harsh\\anaconda3\\Lib\\site-packages\\sklearn\\linear_model\\_logistic.py:1183: FutureWarning: `penalty='none'`has been deprecated in 1.2 and will be removed in 1.4. To keep the past behaviour, set `penalty=None`.\n",
      "  warnings.warn(\n",
      "c:\\Users\\harsh\\anaconda3\\Lib\\site-packages\\sklearn\\linear_model\\_logistic.py:1193: UserWarning: Setting penalty=None will ignore the C and l1_ratio parameters\n",
      "  warnings.warn(\n"
     ]
    },
    {
     "name": "stdout",
     "output_type": "stream",
     "text": [
      "[CV 3/3] END ...C=0.1, penalty=none, solver=sag;, score=0.991 total time=   0.2s\n"
     ]
    },
    {
     "name": "stderr",
     "output_type": "stream",
     "text": [
      "c:\\Users\\harsh\\anaconda3\\Lib\\site-packages\\sklearn\\linear_model\\_sag.py:350: ConvergenceWarning: The max_iter was reached which means the coef_ did not converge\n",
      "  warnings.warn(\n",
      "c:\\Users\\harsh\\anaconda3\\Lib\\site-packages\\sklearn\\linear_model\\_logistic.py:1183: FutureWarning: `penalty='none'`has been deprecated in 1.2 and will be removed in 1.4. To keep the past behaviour, set `penalty=None`.\n",
      "  warnings.warn(\n",
      "c:\\Users\\harsh\\anaconda3\\Lib\\site-packages\\sklearn\\linear_model\\_logistic.py:1193: UserWarning: Setting penalty=None will ignore the C and l1_ratio parameters\n",
      "  warnings.warn(\n"
     ]
    },
    {
     "name": "stdout",
     "output_type": "stream",
     "text": [
      "[CV 1/3] END ..C=0.1, penalty=none, solver=saga;, score=0.988 total time=   0.2s\n"
     ]
    },
    {
     "name": "stderr",
     "output_type": "stream",
     "text": [
      "c:\\Users\\harsh\\anaconda3\\Lib\\site-packages\\sklearn\\linear_model\\_sag.py:350: ConvergenceWarning: The max_iter was reached which means the coef_ did not converge\n",
      "  warnings.warn(\n",
      "c:\\Users\\harsh\\anaconda3\\Lib\\site-packages\\sklearn\\linear_model\\_logistic.py:1183: FutureWarning: `penalty='none'`has been deprecated in 1.2 and will be removed in 1.4. To keep the past behaviour, set `penalty=None`.\n",
      "  warnings.warn(\n",
      "c:\\Users\\harsh\\anaconda3\\Lib\\site-packages\\sklearn\\linear_model\\_logistic.py:1193: UserWarning: Setting penalty=None will ignore the C and l1_ratio parameters\n",
      "  warnings.warn(\n"
     ]
    },
    {
     "name": "stdout",
     "output_type": "stream",
     "text": [
      "[CV 2/3] END ..C=0.1, penalty=none, solver=saga;, score=0.988 total time=   0.2s\n"
     ]
    },
    {
     "name": "stderr",
     "output_type": "stream",
     "text": [
      "c:\\Users\\harsh\\anaconda3\\Lib\\site-packages\\sklearn\\linear_model\\_sag.py:350: ConvergenceWarning: The max_iter was reached which means the coef_ did not converge\n",
      "  warnings.warn(\n"
     ]
    },
    {
     "name": "stdout",
     "output_type": "stream",
     "text": [
      "[CV 3/3] END ..C=0.1, penalty=none, solver=saga;, score=0.989 total time=   0.2s\n",
      "[CV 1/3] END ...C=1, penalty=l1, solver=newton-cg;, score=nan total time=   0.0s\n",
      "[CV 2/3] END ...C=1, penalty=l1, solver=newton-cg;, score=nan total time=   0.0s\n",
      "[CV 3/3] END ...C=1, penalty=l1, solver=newton-cg;, score=nan total time=   0.0s\n",
      "[CV 1/3] END .......C=1, penalty=l1, solver=lbfgs;, score=nan total time=   0.0s\n",
      "[CV 2/3] END .......C=1, penalty=l1, solver=lbfgs;, score=nan total time=   0.0s\n",
      "[CV 3/3] END .......C=1, penalty=l1, solver=lbfgs;, score=nan total time=   0.0s\n",
      "[CV 1/3] END .C=1, penalty=l1, solver=liblinear;, score=0.992 total time=   0.0s\n",
      "[CV 2/3] END .C=1, penalty=l1, solver=liblinear;, score=0.995 total time=   0.0s\n",
      "[CV 3/3] END .C=1, penalty=l1, solver=liblinear;, score=0.993 total time=   0.0s\n",
      "[CV 1/3] END .........C=1, penalty=l1, solver=sag;, score=nan total time=   0.0s\n",
      "[CV 2/3] END .........C=1, penalty=l1, solver=sag;, score=nan total time=   0.0s\n",
      "[CV 3/3] END .........C=1, penalty=l1, solver=sag;, score=nan total time=   0.0s\n"
     ]
    },
    {
     "name": "stderr",
     "output_type": "stream",
     "text": [
      "c:\\Users\\harsh\\anaconda3\\Lib\\site-packages\\sklearn\\linear_model\\_sag.py:350: ConvergenceWarning: The max_iter was reached which means the coef_ did not converge\n",
      "  warnings.warn(\n"
     ]
    },
    {
     "name": "stdout",
     "output_type": "stream",
     "text": [
      "[CV 1/3] END ......C=1, penalty=l1, solver=saga;, score=0.988 total time=   0.3s\n"
     ]
    },
    {
     "name": "stderr",
     "output_type": "stream",
     "text": [
      "c:\\Users\\harsh\\anaconda3\\Lib\\site-packages\\sklearn\\linear_model\\_sag.py:350: ConvergenceWarning: The max_iter was reached which means the coef_ did not converge\n",
      "  warnings.warn(\n"
     ]
    },
    {
     "name": "stdout",
     "output_type": "stream",
     "text": [
      "[CV 2/3] END ......C=1, penalty=l1, solver=saga;, score=0.988 total time=   0.3s\n"
     ]
    },
    {
     "name": "stderr",
     "output_type": "stream",
     "text": [
      "c:\\Users\\harsh\\anaconda3\\Lib\\site-packages\\sklearn\\linear_model\\_sag.py:350: ConvergenceWarning: The max_iter was reached which means the coef_ did not converge\n",
      "  warnings.warn(\n"
     ]
    },
    {
     "name": "stdout",
     "output_type": "stream",
     "text": [
      "[CV 3/3] END ......C=1, penalty=l1, solver=saga;, score=0.989 total time=   0.3s\n",
      "[CV 1/3] END .C=1, penalty=l2, solver=newton-cg;, score=0.992 total time=   0.0s\n",
      "[CV 2/3] END .C=1, penalty=l2, solver=newton-cg;, score=0.993 total time=   0.0s\n",
      "[CV 3/3] END .C=1, penalty=l2, solver=newton-cg;, score=0.992 total time=   0.0s\n",
      "[CV 1/3] END .....C=1, penalty=l2, solver=lbfgs;, score=0.992 total time=   0.0s\n",
      "[CV 2/3] END .....C=1, penalty=l2, solver=lbfgs;, score=0.993 total time=   0.0s\n",
      "[CV 3/3] END .....C=1, penalty=l2, solver=lbfgs;, score=0.992 total time=   0.0s\n"
     ]
    },
    {
     "name": "stderr",
     "output_type": "stream",
     "text": [
      "c:\\Users\\harsh\\anaconda3\\Lib\\site-packages\\sklearn\\linear_model\\_logistic.py:460: ConvergenceWarning: lbfgs failed to converge (status=1):\n",
      "STOP: TOTAL NO. of ITERATIONS REACHED LIMIT.\n",
      "\n",
      "Increase the number of iterations (max_iter) or scale the data as shown in:\n",
      "    https://scikit-learn.org/stable/modules/preprocessing.html\n",
      "Please also refer to the documentation for alternative solver options:\n",
      "    https://scikit-learn.org/stable/modules/linear_model.html#logistic-regression\n",
      "  n_iter_i = _check_optimize_result(\n",
      "c:\\Users\\harsh\\anaconda3\\Lib\\site-packages\\sklearn\\linear_model\\_logistic.py:460: ConvergenceWarning: lbfgs failed to converge (status=1):\n",
      "STOP: TOTAL NO. of ITERATIONS REACHED LIMIT.\n",
      "\n",
      "Increase the number of iterations (max_iter) or scale the data as shown in:\n",
      "    https://scikit-learn.org/stable/modules/preprocessing.html\n",
      "Please also refer to the documentation for alternative solver options:\n",
      "    https://scikit-learn.org/stable/modules/linear_model.html#logistic-regression\n",
      "  n_iter_i = _check_optimize_result(\n"
     ]
    },
    {
     "name": "stdout",
     "output_type": "stream",
     "text": [
      "[CV 1/3] END .C=1, penalty=l2, solver=liblinear;, score=0.992 total time=   0.0s\n",
      "[CV 2/3] END .C=1, penalty=l2, solver=liblinear;, score=0.994 total time=   0.0s\n",
      "[CV 3/3] END .C=1, penalty=l2, solver=liblinear;, score=0.992 total time=   0.0s\n"
     ]
    },
    {
     "name": "stderr",
     "output_type": "stream",
     "text": [
      "c:\\Users\\harsh\\anaconda3\\Lib\\site-packages\\sklearn\\linear_model\\_sag.py:350: ConvergenceWarning: The max_iter was reached which means the coef_ did not converge\n",
      "  warnings.warn(\n"
     ]
    },
    {
     "name": "stdout",
     "output_type": "stream",
     "text": [
      "[CV 1/3] END .......C=1, penalty=l2, solver=sag;, score=0.990 total time=   0.1s\n"
     ]
    },
    {
     "name": "stderr",
     "output_type": "stream",
     "text": [
      "c:\\Users\\harsh\\anaconda3\\Lib\\site-packages\\sklearn\\linear_model\\_sag.py:350: ConvergenceWarning: The max_iter was reached which means the coef_ did not converge\n",
      "  warnings.warn(\n"
     ]
    },
    {
     "name": "stdout",
     "output_type": "stream",
     "text": [
      "[CV 2/3] END .......C=1, penalty=l2, solver=sag;, score=0.990 total time=   0.2s\n"
     ]
    },
    {
     "name": "stderr",
     "output_type": "stream",
     "text": [
      "c:\\Users\\harsh\\anaconda3\\Lib\\site-packages\\sklearn\\linear_model\\_sag.py:350: ConvergenceWarning: The max_iter was reached which means the coef_ did not converge\n",
      "  warnings.warn(\n"
     ]
    },
    {
     "name": "stdout",
     "output_type": "stream",
     "text": [
      "[CV 3/3] END .......C=1, penalty=l2, solver=sag;, score=0.991 total time=   0.1s\n"
     ]
    },
    {
     "name": "stderr",
     "output_type": "stream",
     "text": [
      "c:\\Users\\harsh\\anaconda3\\Lib\\site-packages\\sklearn\\linear_model\\_sag.py:350: ConvergenceWarning: The max_iter was reached which means the coef_ did not converge\n",
      "  warnings.warn(\n"
     ]
    },
    {
     "name": "stdout",
     "output_type": "stream",
     "text": [
      "[CV 1/3] END ......C=1, penalty=l2, solver=saga;, score=0.988 total time=   0.2s\n"
     ]
    },
    {
     "name": "stderr",
     "output_type": "stream",
     "text": [
      "c:\\Users\\harsh\\anaconda3\\Lib\\site-packages\\sklearn\\linear_model\\_sag.py:350: ConvergenceWarning: The max_iter was reached which means the coef_ did not converge\n",
      "  warnings.warn(\n"
     ]
    },
    {
     "name": "stdout",
     "output_type": "stream",
     "text": [
      "[CV 2/3] END ......C=1, penalty=l2, solver=saga;, score=0.988 total time=   0.2s\n"
     ]
    },
    {
     "name": "stderr",
     "output_type": "stream",
     "text": [
      "c:\\Users\\harsh\\anaconda3\\Lib\\site-packages\\sklearn\\linear_model\\_sag.py:350: ConvergenceWarning: The max_iter was reached which means the coef_ did not converge\n",
      "  warnings.warn(\n",
      "c:\\Users\\harsh\\anaconda3\\Lib\\site-packages\\sklearn\\linear_model\\_logistic.py:1183: FutureWarning: `penalty='none'`has been deprecated in 1.2 and will be removed in 1.4. To keep the past behaviour, set `penalty=None`.\n",
      "  warnings.warn(\n"
     ]
    },
    {
     "name": "stdout",
     "output_type": "stream",
     "text": [
      "[CV 3/3] END ......C=1, penalty=l2, solver=saga;, score=0.989 total time=   0.2s\n",
      "[CV 1/3] END C=1, penalty=elasticnet, solver=newton-cg;, score=nan total time=   0.0s\n",
      "[CV 2/3] END C=1, penalty=elasticnet, solver=newton-cg;, score=nan total time=   0.0s\n",
      "[CV 3/3] END C=1, penalty=elasticnet, solver=newton-cg;, score=nan total time=   0.0s\n",
      "[CV 1/3] END C=1, penalty=elasticnet, solver=lbfgs;, score=nan total time=   0.0s\n",
      "[CV 2/3] END C=1, penalty=elasticnet, solver=lbfgs;, score=nan total time=   0.0s\n",
      "[CV 3/3] END C=1, penalty=elasticnet, solver=lbfgs;, score=nan total time=   0.0s\n",
      "[CV 1/3] END C=1, penalty=elasticnet, solver=liblinear;, score=nan total time=   0.0s\n",
      "[CV 2/3] END C=1, penalty=elasticnet, solver=liblinear;, score=nan total time=   0.0s\n",
      "[CV 3/3] END C=1, penalty=elasticnet, solver=liblinear;, score=nan total time=   0.0s\n",
      "[CV 1/3] END .C=1, penalty=elasticnet, solver=sag;, score=nan total time=   0.0s\n",
      "[CV 2/3] END .C=1, penalty=elasticnet, solver=sag;, score=nan total time=   0.0s\n",
      "[CV 3/3] END .C=1, penalty=elasticnet, solver=sag;, score=nan total time=   0.0s\n",
      "[CV 1/3] END C=1, penalty=elasticnet, solver=saga;, score=nan total time=   0.0s\n",
      "[CV 2/3] END C=1, penalty=elasticnet, solver=saga;, score=nan total time=   0.0s\n",
      "[CV 3/3] END C=1, penalty=elasticnet, solver=saga;, score=nan total time=   0.0s\n"
     ]
    },
    {
     "name": "stderr",
     "output_type": "stream",
     "text": [
      "c:\\Users\\harsh\\anaconda3\\Lib\\site-packages\\scipy\\optimize\\_linesearch.py:457: LineSearchWarning: The line search algorithm did not converge\n",
      "  warn('The line search algorithm did not converge', LineSearchWarning)\n",
      "c:\\Users\\harsh\\anaconda3\\Lib\\site-packages\\scipy\\optimize\\_linesearch.py:306: LineSearchWarning: The line search algorithm did not converge\n",
      "  warn('The line search algorithm did not converge', LineSearchWarning)\n",
      "c:\\Users\\harsh\\anaconda3\\Lib\\site-packages\\sklearn\\utils\\optimize.py:211: ConvergenceWarning: newton-cg failed to converge. Increase the number of iterations.\n",
      "  warnings.warn(\n",
      "c:\\Users\\harsh\\anaconda3\\Lib\\site-packages\\sklearn\\linear_model\\_logistic.py:1183: FutureWarning: `penalty='none'`has been deprecated in 1.2 and will be removed in 1.4. To keep the past behaviour, set `penalty=None`.\n",
      "  warnings.warn(\n",
      "c:\\Users\\harsh\\anaconda3\\Lib\\site-packages\\scipy\\optimize\\_linesearch.py:306: LineSearchWarning: The line search algorithm did not converge\n",
      "  warn('The line search algorithm did not converge', LineSearchWarning)\n",
      "c:\\Users\\harsh\\anaconda3\\Lib\\site-packages\\sklearn\\utils\\optimize.py:204: UserWarning: Line Search failed\n",
      "  warnings.warn(\"Line Search failed\")\n",
      "c:\\Users\\harsh\\anaconda3\\Lib\\site-packages\\sklearn\\linear_model\\_logistic.py:1183: FutureWarning: `penalty='none'`has been deprecated in 1.2 and will be removed in 1.4. To keep the past behaviour, set `penalty=None`.\n",
      "  warnings.warn(\n"
     ]
    },
    {
     "name": "stdout",
     "output_type": "stream",
     "text": [
      "[CV 1/3] END C=1, penalty=none, solver=newton-cg;, score=0.561 total time=   4.0s\n",
      "[CV 2/3] END C=1, penalty=none, solver=newton-cg;, score=0.994 total time=   0.0s\n"
     ]
    },
    {
     "name": "stderr",
     "output_type": "stream",
     "text": [
      "c:\\Users\\harsh\\anaconda3\\Lib\\site-packages\\scipy\\optimize\\_linesearch.py:457: LineSearchWarning: The line search algorithm did not converge\n",
      "  warn('The line search algorithm did not converge', LineSearchWarning)\n",
      "c:\\Users\\harsh\\anaconda3\\Lib\\site-packages\\scipy\\optimize\\_linesearch.py:306: LineSearchWarning: The line search algorithm did not converge\n",
      "  warn('The line search algorithm did not converge', LineSearchWarning)\n",
      "c:\\Users\\harsh\\anaconda3\\Lib\\site-packages\\sklearn\\utils\\optimize.py:211: ConvergenceWarning: newton-cg failed to converge. Increase the number of iterations.\n",
      "  warnings.warn(\n",
      "c:\\Users\\harsh\\anaconda3\\Lib\\site-packages\\sklearn\\linear_model\\_logistic.py:1183: FutureWarning: `penalty='none'`has been deprecated in 1.2 and will be removed in 1.4. To keep the past behaviour, set `penalty=None`.\n",
      "  warnings.warn(\n",
      "c:\\Users\\harsh\\anaconda3\\Lib\\site-packages\\sklearn\\linear_model\\_logistic.py:460: ConvergenceWarning: lbfgs failed to converge (status=1):\n",
      "STOP: TOTAL NO. of ITERATIONS REACHED LIMIT.\n",
      "\n",
      "Increase the number of iterations (max_iter) or scale the data as shown in:\n",
      "    https://scikit-learn.org/stable/modules/preprocessing.html\n",
      "Please also refer to the documentation for alternative solver options:\n",
      "    https://scikit-learn.org/stable/modules/linear_model.html#logistic-regression\n",
      "  n_iter_i = _check_optimize_result(\n",
      "c:\\Users\\harsh\\anaconda3\\Lib\\site-packages\\sklearn\\linear_model\\_logistic.py:1183: FutureWarning: `penalty='none'`has been deprecated in 1.2 and will be removed in 1.4. To keep the past behaviour, set `penalty=None`.\n",
      "  warnings.warn(\n",
      "c:\\Users\\harsh\\anaconda3\\Lib\\site-packages\\sklearn\\linear_model\\_logistic.py:460: ConvergenceWarning: lbfgs failed to converge (status=1):\n",
      "STOP: TOTAL NO. of ITERATIONS REACHED LIMIT.\n",
      "\n",
      "Increase the number of iterations (max_iter) or scale the data as shown in:\n",
      "    https://scikit-learn.org/stable/modules/preprocessing.html\n",
      "Please also refer to the documentation for alternative solver options:\n",
      "    https://scikit-learn.org/stable/modules/linear_model.html#logistic-regression\n",
      "  n_iter_i = _check_optimize_result(\n",
      "c:\\Users\\harsh\\anaconda3\\Lib\\site-packages\\sklearn\\linear_model\\_logistic.py:1183: FutureWarning: `penalty='none'`has been deprecated in 1.2 and will be removed in 1.4. To keep the past behaviour, set `penalty=None`.\n",
      "  warnings.warn(\n",
      "c:\\Users\\harsh\\anaconda3\\Lib\\site-packages\\sklearn\\linear_model\\_logistic.py:460: ConvergenceWarning: lbfgs failed to converge (status=1):\n",
      "STOP: TOTAL NO. of ITERATIONS REACHED LIMIT.\n",
      "\n",
      "Increase the number of iterations (max_iter) or scale the data as shown in:\n",
      "    https://scikit-learn.org/stable/modules/preprocessing.html\n",
      "Please also refer to the documentation for alternative solver options:\n",
      "    https://scikit-learn.org/stable/modules/linear_model.html#logistic-regression\n",
      "  n_iter_i = _check_optimize_result(\n",
      "c:\\Users\\harsh\\anaconda3\\Lib\\site-packages\\sklearn\\linear_model\\_logistic.py:1183: FutureWarning: `penalty='none'`has been deprecated in 1.2 and will be removed in 1.4. To keep the past behaviour, set `penalty=None`.\n",
      "  warnings.warn(\n"
     ]
    },
    {
     "name": "stdout",
     "output_type": "stream",
     "text": [
      "[CV 3/3] END C=1, penalty=none, solver=newton-cg;, score=0.561 total time=   3.2s\n",
      "[CV 1/3] END ...C=1, penalty=none, solver=lbfgs;, score=0.992 total time=   0.0s\n",
      "[CV 2/3] END ...C=1, penalty=none, solver=lbfgs;, score=0.993 total time=   0.0s\n",
      "[CV 3/3] END ...C=1, penalty=none, solver=lbfgs;, score=0.992 total time=   0.0s\n",
      "[CV 1/3] END .C=1, penalty=none, solver=liblinear;, score=nan total time=   0.0s\n",
      "[CV 2/3] END .C=1, penalty=none, solver=liblinear;, score=nan total time=   0.0s\n",
      "[CV 3/3] END .C=1, penalty=none, solver=liblinear;, score=nan total time=   0.0s\n"
     ]
    },
    {
     "name": "stderr",
     "output_type": "stream",
     "text": [
      "c:\\Users\\harsh\\anaconda3\\Lib\\site-packages\\sklearn\\linear_model\\_sag.py:350: ConvergenceWarning: The max_iter was reached which means the coef_ did not converge\n",
      "  warnings.warn(\n",
      "c:\\Users\\harsh\\anaconda3\\Lib\\site-packages\\sklearn\\linear_model\\_logistic.py:1183: FutureWarning: `penalty='none'`has been deprecated in 1.2 and will be removed in 1.4. To keep the past behaviour, set `penalty=None`.\n",
      "  warnings.warn(\n"
     ]
    },
    {
     "name": "stdout",
     "output_type": "stream",
     "text": [
      "[CV 1/3] END .....C=1, penalty=none, solver=sag;, score=0.990 total time=   0.1s\n"
     ]
    },
    {
     "name": "stderr",
     "output_type": "stream",
     "text": [
      "c:\\Users\\harsh\\anaconda3\\Lib\\site-packages\\sklearn\\linear_model\\_sag.py:350: ConvergenceWarning: The max_iter was reached which means the coef_ did not converge\n",
      "  warnings.warn(\n",
      "c:\\Users\\harsh\\anaconda3\\Lib\\site-packages\\sklearn\\linear_model\\_logistic.py:1183: FutureWarning: `penalty='none'`has been deprecated in 1.2 and will be removed in 1.4. To keep the past behaviour, set `penalty=None`.\n",
      "  warnings.warn(\n"
     ]
    },
    {
     "name": "stdout",
     "output_type": "stream",
     "text": [
      "[CV 2/3] END .....C=1, penalty=none, solver=sag;, score=0.990 total time=   0.2s\n"
     ]
    },
    {
     "name": "stderr",
     "output_type": "stream",
     "text": [
      "c:\\Users\\harsh\\anaconda3\\Lib\\site-packages\\sklearn\\linear_model\\_sag.py:350: ConvergenceWarning: The max_iter was reached which means the coef_ did not converge\n",
      "  warnings.warn(\n",
      "c:\\Users\\harsh\\anaconda3\\Lib\\site-packages\\sklearn\\linear_model\\_logistic.py:1183: FutureWarning: `penalty='none'`has been deprecated in 1.2 and will be removed in 1.4. To keep the past behaviour, set `penalty=None`.\n",
      "  warnings.warn(\n"
     ]
    },
    {
     "name": "stdout",
     "output_type": "stream",
     "text": [
      "[CV 3/3] END .....C=1, penalty=none, solver=sag;, score=0.991 total time=   0.1s\n"
     ]
    },
    {
     "name": "stderr",
     "output_type": "stream",
     "text": [
      "c:\\Users\\harsh\\anaconda3\\Lib\\site-packages\\sklearn\\linear_model\\_sag.py:350: ConvergenceWarning: The max_iter was reached which means the coef_ did not converge\n",
      "  warnings.warn(\n",
      "c:\\Users\\harsh\\anaconda3\\Lib\\site-packages\\sklearn\\linear_model\\_logistic.py:1183: FutureWarning: `penalty='none'`has been deprecated in 1.2 and will be removed in 1.4. To keep the past behaviour, set `penalty=None`.\n",
      "  warnings.warn(\n"
     ]
    },
    {
     "name": "stdout",
     "output_type": "stream",
     "text": [
      "[CV 1/3] END ....C=1, penalty=none, solver=saga;, score=0.988 total time=   0.1s\n"
     ]
    },
    {
     "name": "stderr",
     "output_type": "stream",
     "text": [
      "c:\\Users\\harsh\\anaconda3\\Lib\\site-packages\\sklearn\\linear_model\\_sag.py:350: ConvergenceWarning: The max_iter was reached which means the coef_ did not converge\n",
      "  warnings.warn(\n",
      "c:\\Users\\harsh\\anaconda3\\Lib\\site-packages\\sklearn\\linear_model\\_logistic.py:1183: FutureWarning: `penalty='none'`has been deprecated in 1.2 and will be removed in 1.4. To keep the past behaviour, set `penalty=None`.\n",
      "  warnings.warn(\n"
     ]
    },
    {
     "name": "stdout",
     "output_type": "stream",
     "text": [
      "[CV 2/3] END ....C=1, penalty=none, solver=saga;, score=0.988 total time=   0.2s\n"
     ]
    },
    {
     "name": "stderr",
     "output_type": "stream",
     "text": [
      "c:\\Users\\harsh\\anaconda3\\Lib\\site-packages\\sklearn\\linear_model\\_sag.py:350: ConvergenceWarning: The max_iter was reached which means the coef_ did not converge\n",
      "  warnings.warn(\n"
     ]
    },
    {
     "name": "stdout",
     "output_type": "stream",
     "text": [
      "[CV 3/3] END ....C=1, penalty=none, solver=saga;, score=0.989 total time=   0.2s\n",
      "[CV 1/3] END ..C=10, penalty=l1, solver=newton-cg;, score=nan total time=   0.0s\n",
      "[CV 2/3] END ..C=10, penalty=l1, solver=newton-cg;, score=nan total time=   0.0s\n",
      "[CV 3/3] END ..C=10, penalty=l1, solver=newton-cg;, score=nan total time=   0.0s\n",
      "[CV 1/3] END ......C=10, penalty=l1, solver=lbfgs;, score=nan total time=   0.0s\n",
      "[CV 2/3] END ......C=10, penalty=l1, solver=lbfgs;, score=nan total time=   0.0s\n",
      "[CV 3/3] END ......C=10, penalty=l1, solver=lbfgs;, score=nan total time=   0.0s\n",
      "[CV 1/3] END C=10, penalty=l1, solver=liblinear;, score=0.992 total time=   0.5s\n",
      "[CV 2/3] END C=10, penalty=l1, solver=liblinear;, score=0.995 total time=   2.1s\n",
      "[CV 3/3] END C=10, penalty=l1, solver=liblinear;, score=0.992 total time=   0.4s\n",
      "[CV 1/3] END ........C=10, penalty=l1, solver=sag;, score=nan total time=   0.0s\n",
      "[CV 2/3] END ........C=10, penalty=l1, solver=sag;, score=nan total time=   0.0s\n",
      "[CV 3/3] END ........C=10, penalty=l1, solver=sag;, score=nan total time=   0.0s\n"
     ]
    },
    {
     "name": "stderr",
     "output_type": "stream",
     "text": [
      "c:\\Users\\harsh\\anaconda3\\Lib\\site-packages\\sklearn\\linear_model\\_sag.py:350: ConvergenceWarning: The max_iter was reached which means the coef_ did not converge\n",
      "  warnings.warn(\n"
     ]
    },
    {
     "name": "stdout",
     "output_type": "stream",
     "text": [
      "[CV 1/3] END .....C=10, penalty=l1, solver=saga;, score=0.988 total time=   0.3s\n"
     ]
    },
    {
     "name": "stderr",
     "output_type": "stream",
     "text": [
      "c:\\Users\\harsh\\anaconda3\\Lib\\site-packages\\sklearn\\linear_model\\_sag.py:350: ConvergenceWarning: The max_iter was reached which means the coef_ did not converge\n",
      "  warnings.warn(\n"
     ]
    },
    {
     "name": "stdout",
     "output_type": "stream",
     "text": [
      "[CV 2/3] END .....C=10, penalty=l1, solver=saga;, score=0.988 total time=   0.3s\n"
     ]
    },
    {
     "name": "stderr",
     "output_type": "stream",
     "text": [
      "c:\\Users\\harsh\\anaconda3\\Lib\\site-packages\\sklearn\\linear_model\\_sag.py:350: ConvergenceWarning: The max_iter was reached which means the coef_ did not converge\n",
      "  warnings.warn(\n"
     ]
    },
    {
     "name": "stdout",
     "output_type": "stream",
     "text": [
      "[CV 3/3] END .....C=10, penalty=l1, solver=saga;, score=0.989 total time=   0.3s\n",
      "[CV 1/3] END C=10, penalty=l2, solver=newton-cg;, score=0.992 total time=   0.0s\n",
      "[CV 2/3] END C=10, penalty=l2, solver=newton-cg;, score=0.993 total time=   0.0s\n",
      "[CV 3/3] END C=10, penalty=l2, solver=newton-cg;, score=0.991 total time=   0.0s\n",
      "[CV 1/3] END ....C=10, penalty=l2, solver=lbfgs;, score=0.992 total time=   0.0s\n"
     ]
    },
    {
     "name": "stderr",
     "output_type": "stream",
     "text": [
      "c:\\Users\\harsh\\anaconda3\\Lib\\site-packages\\sklearn\\linear_model\\_logistic.py:460: ConvergenceWarning: lbfgs failed to converge (status=1):\n",
      "STOP: TOTAL NO. of ITERATIONS REACHED LIMIT.\n",
      "\n",
      "Increase the number of iterations (max_iter) or scale the data as shown in:\n",
      "    https://scikit-learn.org/stable/modules/preprocessing.html\n",
      "Please also refer to the documentation for alternative solver options:\n",
      "    https://scikit-learn.org/stable/modules/linear_model.html#logistic-regression\n",
      "  n_iter_i = _check_optimize_result(\n",
      "c:\\Users\\harsh\\anaconda3\\Lib\\site-packages\\sklearn\\linear_model\\_logistic.py:460: ConvergenceWarning: lbfgs failed to converge (status=1):\n",
      "STOP: TOTAL NO. of ITERATIONS REACHED LIMIT.\n",
      "\n",
      "Increase the number of iterations (max_iter) or scale the data as shown in:\n",
      "    https://scikit-learn.org/stable/modules/preprocessing.html\n",
      "Please also refer to the documentation for alternative solver options:\n",
      "    https://scikit-learn.org/stable/modules/linear_model.html#logistic-regression\n",
      "  n_iter_i = _check_optimize_result(\n",
      "c:\\Users\\harsh\\anaconda3\\Lib\\site-packages\\sklearn\\linear_model\\_logistic.py:460: ConvergenceWarning: lbfgs failed to converge (status=1):\n",
      "STOP: TOTAL NO. of ITERATIONS REACHED LIMIT.\n",
      "\n",
      "Increase the number of iterations (max_iter) or scale the data as shown in:\n",
      "    https://scikit-learn.org/stable/modules/preprocessing.html\n",
      "Please also refer to the documentation for alternative solver options:\n",
      "    https://scikit-learn.org/stable/modules/linear_model.html#logistic-regression\n",
      "  n_iter_i = _check_optimize_result(\n"
     ]
    },
    {
     "name": "stdout",
     "output_type": "stream",
     "text": [
      "[CV 2/3] END ....C=10, penalty=l2, solver=lbfgs;, score=0.993 total time=   0.0s\n",
      "[CV 3/3] END ....C=10, penalty=l2, solver=lbfgs;, score=0.991 total time=   0.0s\n",
      "[CV 1/3] END C=10, penalty=l2, solver=liblinear;, score=0.992 total time=   0.1s\n",
      "[CV 2/3] END C=10, penalty=l2, solver=liblinear;, score=0.994 total time=   0.0s\n",
      "[CV 3/3] END C=10, penalty=l2, solver=liblinear;, score=0.992 total time=   0.1s\n"
     ]
    },
    {
     "name": "stderr",
     "output_type": "stream",
     "text": [
      "c:\\Users\\harsh\\anaconda3\\Lib\\site-packages\\sklearn\\linear_model\\_sag.py:350: ConvergenceWarning: The max_iter was reached which means the coef_ did not converge\n",
      "  warnings.warn(\n"
     ]
    },
    {
     "name": "stdout",
     "output_type": "stream",
     "text": [
      "[CV 1/3] END ......C=10, penalty=l2, solver=sag;, score=0.990 total time=   0.1s\n"
     ]
    },
    {
     "name": "stderr",
     "output_type": "stream",
     "text": [
      "c:\\Users\\harsh\\anaconda3\\Lib\\site-packages\\sklearn\\linear_model\\_sag.py:350: ConvergenceWarning: The max_iter was reached which means the coef_ did not converge\n",
      "  warnings.warn(\n"
     ]
    },
    {
     "name": "stdout",
     "output_type": "stream",
     "text": [
      "[CV 2/3] END ......C=10, penalty=l2, solver=sag;, score=0.990 total time=   0.1s\n"
     ]
    },
    {
     "name": "stderr",
     "output_type": "stream",
     "text": [
      "c:\\Users\\harsh\\anaconda3\\Lib\\site-packages\\sklearn\\linear_model\\_sag.py:350: ConvergenceWarning: The max_iter was reached which means the coef_ did not converge\n",
      "  warnings.warn(\n"
     ]
    },
    {
     "name": "stdout",
     "output_type": "stream",
     "text": [
      "[CV 3/3] END ......C=10, penalty=l2, solver=sag;, score=0.991 total time=   0.1s\n"
     ]
    },
    {
     "name": "stderr",
     "output_type": "stream",
     "text": [
      "c:\\Users\\harsh\\anaconda3\\Lib\\site-packages\\sklearn\\linear_model\\_sag.py:350: ConvergenceWarning: The max_iter was reached which means the coef_ did not converge\n",
      "  warnings.warn(\n"
     ]
    },
    {
     "name": "stdout",
     "output_type": "stream",
     "text": [
      "[CV 1/3] END .....C=10, penalty=l2, solver=saga;, score=0.988 total time=   0.2s\n"
     ]
    },
    {
     "name": "stderr",
     "output_type": "stream",
     "text": [
      "c:\\Users\\harsh\\anaconda3\\Lib\\site-packages\\sklearn\\linear_model\\_sag.py:350: ConvergenceWarning: The max_iter was reached which means the coef_ did not converge\n",
      "  warnings.warn(\n"
     ]
    },
    {
     "name": "stdout",
     "output_type": "stream",
     "text": [
      "[CV 2/3] END .....C=10, penalty=l2, solver=saga;, score=0.988 total time=   0.2s\n"
     ]
    },
    {
     "name": "stderr",
     "output_type": "stream",
     "text": [
      "c:\\Users\\harsh\\anaconda3\\Lib\\site-packages\\sklearn\\linear_model\\_sag.py:350: ConvergenceWarning: The max_iter was reached which means the coef_ did not converge\n",
      "  warnings.warn(\n",
      "c:\\Users\\harsh\\anaconda3\\Lib\\site-packages\\sklearn\\linear_model\\_logistic.py:1183: FutureWarning: `penalty='none'`has been deprecated in 1.2 and will be removed in 1.4. To keep the past behaviour, set `penalty=None`.\n",
      "  warnings.warn(\n",
      "c:\\Users\\harsh\\anaconda3\\Lib\\site-packages\\sklearn\\linear_model\\_logistic.py:1193: UserWarning: Setting penalty=None will ignore the C and l1_ratio parameters\n",
      "  warnings.warn(\n"
     ]
    },
    {
     "name": "stdout",
     "output_type": "stream",
     "text": [
      "[CV 3/3] END .....C=10, penalty=l2, solver=saga;, score=0.989 total time=   0.2s\n",
      "[CV 1/3] END C=10, penalty=elasticnet, solver=newton-cg;, score=nan total time=   0.0s\n",
      "[CV 2/3] END C=10, penalty=elasticnet, solver=newton-cg;, score=nan total time=   0.0s\n",
      "[CV 3/3] END C=10, penalty=elasticnet, solver=newton-cg;, score=nan total time=   0.0s\n",
      "[CV 1/3] END C=10, penalty=elasticnet, solver=lbfgs;, score=nan total time=   0.0s\n",
      "[CV 2/3] END C=10, penalty=elasticnet, solver=lbfgs;, score=nan total time=   0.0s\n",
      "[CV 3/3] END C=10, penalty=elasticnet, solver=lbfgs;, score=nan total time=   0.0s\n",
      "[CV 1/3] END C=10, penalty=elasticnet, solver=liblinear;, score=nan total time=   0.0s\n",
      "[CV 2/3] END C=10, penalty=elasticnet, solver=liblinear;, score=nan total time=   0.0s\n",
      "[CV 3/3] END C=10, penalty=elasticnet, solver=liblinear;, score=nan total time=   0.0s\n",
      "[CV 1/3] END C=10, penalty=elasticnet, solver=sag;, score=nan total time=   0.0s\n",
      "[CV 2/3] END C=10, penalty=elasticnet, solver=sag;, score=nan total time=   0.0s\n",
      "[CV 3/3] END C=10, penalty=elasticnet, solver=sag;, score=nan total time=   0.0s\n",
      "[CV 1/3] END C=10, penalty=elasticnet, solver=saga;, score=nan total time=   0.0s\n",
      "[CV 2/3] END C=10, penalty=elasticnet, solver=saga;, score=nan total time=   0.0s\n",
      "[CV 3/3] END C=10, penalty=elasticnet, solver=saga;, score=nan total time=   0.0s\n"
     ]
    },
    {
     "name": "stderr",
     "output_type": "stream",
     "text": [
      "c:\\Users\\harsh\\anaconda3\\Lib\\site-packages\\scipy\\optimize\\_linesearch.py:457: LineSearchWarning: The line search algorithm did not converge\n",
      "  warn('The line search algorithm did not converge', LineSearchWarning)\n",
      "c:\\Users\\harsh\\anaconda3\\Lib\\site-packages\\scipy\\optimize\\_linesearch.py:306: LineSearchWarning: The line search algorithm did not converge\n",
      "  warn('The line search algorithm did not converge', LineSearchWarning)\n",
      "c:\\Users\\harsh\\anaconda3\\Lib\\site-packages\\sklearn\\utils\\optimize.py:211: ConvergenceWarning: newton-cg failed to converge. Increase the number of iterations.\n",
      "  warnings.warn(\n",
      "c:\\Users\\harsh\\anaconda3\\Lib\\site-packages\\sklearn\\linear_model\\_logistic.py:1183: FutureWarning: `penalty='none'`has been deprecated in 1.2 and will be removed in 1.4. To keep the past behaviour, set `penalty=None`.\n",
      "  warnings.warn(\n",
      "c:\\Users\\harsh\\anaconda3\\Lib\\site-packages\\sklearn\\linear_model\\_logistic.py:1193: UserWarning: Setting penalty=None will ignore the C and l1_ratio parameters\n",
      "  warnings.warn(\n",
      "c:\\Users\\harsh\\anaconda3\\Lib\\site-packages\\scipy\\optimize\\_linesearch.py:306: LineSearchWarning: The line search algorithm did not converge\n",
      "  warn('The line search algorithm did not converge', LineSearchWarning)\n",
      "c:\\Users\\harsh\\anaconda3\\Lib\\site-packages\\sklearn\\utils\\optimize.py:204: UserWarning: Line Search failed\n",
      "  warnings.warn(\"Line Search failed\")\n",
      "c:\\Users\\harsh\\anaconda3\\Lib\\site-packages\\sklearn\\linear_model\\_logistic.py:1183: FutureWarning: `penalty='none'`has been deprecated in 1.2 and will be removed in 1.4. To keep the past behaviour, set `penalty=None`.\n",
      "  warnings.warn(\n",
      "c:\\Users\\harsh\\anaconda3\\Lib\\site-packages\\sklearn\\linear_model\\_logistic.py:1193: UserWarning: Setting penalty=None will ignore the C and l1_ratio parameters\n",
      "  warnings.warn(\n"
     ]
    },
    {
     "name": "stdout",
     "output_type": "stream",
     "text": [
      "[CV 1/3] END C=10, penalty=none, solver=newton-cg;, score=0.561 total time=   4.0s\n",
      "[CV 2/3] END C=10, penalty=none, solver=newton-cg;, score=0.994 total time=   0.0s\n"
     ]
    },
    {
     "name": "stderr",
     "output_type": "stream",
     "text": [
      "c:\\Users\\harsh\\anaconda3\\Lib\\site-packages\\scipy\\optimize\\_linesearch.py:457: LineSearchWarning: The line search algorithm did not converge\n",
      "  warn('The line search algorithm did not converge', LineSearchWarning)\n",
      "c:\\Users\\harsh\\anaconda3\\Lib\\site-packages\\scipy\\optimize\\_linesearch.py:306: LineSearchWarning: The line search algorithm did not converge\n",
      "  warn('The line search algorithm did not converge', LineSearchWarning)\n",
      "c:\\Users\\harsh\\anaconda3\\Lib\\site-packages\\sklearn\\utils\\optimize.py:211: ConvergenceWarning: newton-cg failed to converge. Increase the number of iterations.\n",
      "  warnings.warn(\n",
      "c:\\Users\\harsh\\anaconda3\\Lib\\site-packages\\sklearn\\linear_model\\_logistic.py:1183: FutureWarning: `penalty='none'`has been deprecated in 1.2 and will be removed in 1.4. To keep the past behaviour, set `penalty=None`.\n",
      "  warnings.warn(\n",
      "c:\\Users\\harsh\\anaconda3\\Lib\\site-packages\\sklearn\\linear_model\\_logistic.py:1193: UserWarning: Setting penalty=None will ignore the C and l1_ratio parameters\n",
      "  warnings.warn(\n",
      "c:\\Users\\harsh\\anaconda3\\Lib\\site-packages\\sklearn\\linear_model\\_logistic.py:460: ConvergenceWarning: lbfgs failed to converge (status=1):\n",
      "STOP: TOTAL NO. of ITERATIONS REACHED LIMIT.\n",
      "\n",
      "Increase the number of iterations (max_iter) or scale the data as shown in:\n",
      "    https://scikit-learn.org/stable/modules/preprocessing.html\n",
      "Please also refer to the documentation for alternative solver options:\n",
      "    https://scikit-learn.org/stable/modules/linear_model.html#logistic-regression\n",
      "  n_iter_i = _check_optimize_result(\n",
      "c:\\Users\\harsh\\anaconda3\\Lib\\site-packages\\sklearn\\linear_model\\_logistic.py:1183: FutureWarning: `penalty='none'`has been deprecated in 1.2 and will be removed in 1.4. To keep the past behaviour, set `penalty=None`.\n",
      "  warnings.warn(\n",
      "c:\\Users\\harsh\\anaconda3\\Lib\\site-packages\\sklearn\\linear_model\\_logistic.py:1193: UserWarning: Setting penalty=None will ignore the C and l1_ratio parameters\n",
      "  warnings.warn(\n",
      "c:\\Users\\harsh\\anaconda3\\Lib\\site-packages\\sklearn\\linear_model\\_logistic.py:460: ConvergenceWarning: lbfgs failed to converge (status=1):\n",
      "STOP: TOTAL NO. of ITERATIONS REACHED LIMIT.\n",
      "\n",
      "Increase the number of iterations (max_iter) or scale the data as shown in:\n",
      "    https://scikit-learn.org/stable/modules/preprocessing.html\n",
      "Please also refer to the documentation for alternative solver options:\n",
      "    https://scikit-learn.org/stable/modules/linear_model.html#logistic-regression\n",
      "  n_iter_i = _check_optimize_result(\n",
      "c:\\Users\\harsh\\anaconda3\\Lib\\site-packages\\sklearn\\linear_model\\_logistic.py:1183: FutureWarning: `penalty='none'`has been deprecated in 1.2 and will be removed in 1.4. To keep the past behaviour, set `penalty=None`.\n",
      "  warnings.warn(\n",
      "c:\\Users\\harsh\\anaconda3\\Lib\\site-packages\\sklearn\\linear_model\\_logistic.py:1193: UserWarning: Setting penalty=None will ignore the C and l1_ratio parameters\n",
      "  warnings.warn(\n",
      "c:\\Users\\harsh\\anaconda3\\Lib\\site-packages\\sklearn\\linear_model\\_logistic.py:460: ConvergenceWarning: lbfgs failed to converge (status=1):\n",
      "STOP: TOTAL NO. of ITERATIONS REACHED LIMIT.\n",
      "\n",
      "Increase the number of iterations (max_iter) or scale the data as shown in:\n",
      "    https://scikit-learn.org/stable/modules/preprocessing.html\n",
      "Please also refer to the documentation for alternative solver options:\n",
      "    https://scikit-learn.org/stable/modules/linear_model.html#logistic-regression\n",
      "  n_iter_i = _check_optimize_result(\n",
      "c:\\Users\\harsh\\anaconda3\\Lib\\site-packages\\sklearn\\linear_model\\_logistic.py:1183: FutureWarning: `penalty='none'`has been deprecated in 1.2 and will be removed in 1.4. To keep the past behaviour, set `penalty=None`.\n",
      "  warnings.warn(\n",
      "c:\\Users\\harsh\\anaconda3\\Lib\\site-packages\\sklearn\\linear_model\\_logistic.py:1193: UserWarning: Setting penalty=None will ignore the C and l1_ratio parameters\n",
      "  warnings.warn(\n"
     ]
    },
    {
     "name": "stdout",
     "output_type": "stream",
     "text": [
      "[CV 3/3] END C=10, penalty=none, solver=newton-cg;, score=0.561 total time=   3.3s\n",
      "[CV 1/3] END ..C=10, penalty=none, solver=lbfgs;, score=0.992 total time=   0.0s\n",
      "[CV 2/3] END ..C=10, penalty=none, solver=lbfgs;, score=0.993 total time=   0.0s\n",
      "[CV 3/3] END ..C=10, penalty=none, solver=lbfgs;, score=0.992 total time=   0.0s\n",
      "[CV 1/3] END C=10, penalty=none, solver=liblinear;, score=nan total time=   0.0s\n",
      "[CV 2/3] END C=10, penalty=none, solver=liblinear;, score=nan total time=   0.0s\n",
      "[CV 3/3] END C=10, penalty=none, solver=liblinear;, score=nan total time=   0.0s\n"
     ]
    },
    {
     "name": "stderr",
     "output_type": "stream",
     "text": [
      "c:\\Users\\harsh\\anaconda3\\Lib\\site-packages\\sklearn\\linear_model\\_sag.py:350: ConvergenceWarning: The max_iter was reached which means the coef_ did not converge\n",
      "  warnings.warn(\n",
      "c:\\Users\\harsh\\anaconda3\\Lib\\site-packages\\sklearn\\linear_model\\_logistic.py:1183: FutureWarning: `penalty='none'`has been deprecated in 1.2 and will be removed in 1.4. To keep the past behaviour, set `penalty=None`.\n",
      "  warnings.warn(\n",
      "c:\\Users\\harsh\\anaconda3\\Lib\\site-packages\\sklearn\\linear_model\\_logistic.py:1193: UserWarning: Setting penalty=None will ignore the C and l1_ratio parameters\n",
      "  warnings.warn(\n"
     ]
    },
    {
     "name": "stdout",
     "output_type": "stream",
     "text": [
      "[CV 1/3] END ....C=10, penalty=none, solver=sag;, score=0.990 total time=   0.2s\n"
     ]
    },
    {
     "name": "stderr",
     "output_type": "stream",
     "text": [
      "c:\\Users\\harsh\\anaconda3\\Lib\\site-packages\\sklearn\\linear_model\\_sag.py:350: ConvergenceWarning: The max_iter was reached which means the coef_ did not converge\n",
      "  warnings.warn(\n",
      "c:\\Users\\harsh\\anaconda3\\Lib\\site-packages\\sklearn\\linear_model\\_logistic.py:1183: FutureWarning: `penalty='none'`has been deprecated in 1.2 and will be removed in 1.4. To keep the past behaviour, set `penalty=None`.\n",
      "  warnings.warn(\n",
      "c:\\Users\\harsh\\anaconda3\\Lib\\site-packages\\sklearn\\linear_model\\_logistic.py:1193: UserWarning: Setting penalty=None will ignore the C and l1_ratio parameters\n",
      "  warnings.warn(\n"
     ]
    },
    {
     "name": "stdout",
     "output_type": "stream",
     "text": [
      "[CV 2/3] END ....C=10, penalty=none, solver=sag;, score=0.990 total time=   0.1s\n"
     ]
    },
    {
     "name": "stderr",
     "output_type": "stream",
     "text": [
      "c:\\Users\\harsh\\anaconda3\\Lib\\site-packages\\sklearn\\linear_model\\_sag.py:350: ConvergenceWarning: The max_iter was reached which means the coef_ did not converge\n",
      "  warnings.warn(\n",
      "c:\\Users\\harsh\\anaconda3\\Lib\\site-packages\\sklearn\\linear_model\\_logistic.py:1183: FutureWarning: `penalty='none'`has been deprecated in 1.2 and will be removed in 1.4. To keep the past behaviour, set `penalty=None`.\n",
      "  warnings.warn(\n",
      "c:\\Users\\harsh\\anaconda3\\Lib\\site-packages\\sklearn\\linear_model\\_logistic.py:1193: UserWarning: Setting penalty=None will ignore the C and l1_ratio parameters\n",
      "  warnings.warn(\n"
     ]
    },
    {
     "name": "stdout",
     "output_type": "stream",
     "text": [
      "[CV 3/3] END ....C=10, penalty=none, solver=sag;, score=0.991 total time=   0.2s\n"
     ]
    },
    {
     "name": "stderr",
     "output_type": "stream",
     "text": [
      "c:\\Users\\harsh\\anaconda3\\Lib\\site-packages\\sklearn\\linear_model\\_sag.py:350: ConvergenceWarning: The max_iter was reached which means the coef_ did not converge\n",
      "  warnings.warn(\n",
      "c:\\Users\\harsh\\anaconda3\\Lib\\site-packages\\sklearn\\linear_model\\_logistic.py:1183: FutureWarning: `penalty='none'`has been deprecated in 1.2 and will be removed in 1.4. To keep the past behaviour, set `penalty=None`.\n",
      "  warnings.warn(\n",
      "c:\\Users\\harsh\\anaconda3\\Lib\\site-packages\\sklearn\\linear_model\\_logistic.py:1193: UserWarning: Setting penalty=None will ignore the C and l1_ratio parameters\n",
      "  warnings.warn(\n"
     ]
    },
    {
     "name": "stdout",
     "output_type": "stream",
     "text": [
      "[CV 1/3] END ...C=10, penalty=none, solver=saga;, score=0.988 total time=   0.2s\n"
     ]
    },
    {
     "name": "stderr",
     "output_type": "stream",
     "text": [
      "c:\\Users\\harsh\\anaconda3\\Lib\\site-packages\\sklearn\\linear_model\\_sag.py:350: ConvergenceWarning: The max_iter was reached which means the coef_ did not converge\n",
      "  warnings.warn(\n",
      "c:\\Users\\harsh\\anaconda3\\Lib\\site-packages\\sklearn\\linear_model\\_logistic.py:1183: FutureWarning: `penalty='none'`has been deprecated in 1.2 and will be removed in 1.4. To keep the past behaviour, set `penalty=None`.\n",
      "  warnings.warn(\n",
      "c:\\Users\\harsh\\anaconda3\\Lib\\site-packages\\sklearn\\linear_model\\_logistic.py:1193: UserWarning: Setting penalty=None will ignore the C and l1_ratio parameters\n",
      "  warnings.warn(\n"
     ]
    },
    {
     "name": "stdout",
     "output_type": "stream",
     "text": [
      "[CV 2/3] END ...C=10, penalty=none, solver=saga;, score=0.988 total time=   0.2s\n"
     ]
    },
    {
     "name": "stderr",
     "output_type": "stream",
     "text": [
      "c:\\Users\\harsh\\anaconda3\\Lib\\site-packages\\sklearn\\linear_model\\_sag.py:350: ConvergenceWarning: The max_iter was reached which means the coef_ did not converge\n",
      "  warnings.warn(\n"
     ]
    },
    {
     "name": "stdout",
     "output_type": "stream",
     "text": [
      "[CV 3/3] END ...C=10, penalty=none, solver=saga;, score=0.989 total time=   0.2s\n",
      "[CV 1/3] END .C=100, penalty=l1, solver=newton-cg;, score=nan total time=   0.0s\n",
      "[CV 2/3] END .C=100, penalty=l1, solver=newton-cg;, score=nan total time=   0.0s\n",
      "[CV 3/3] END .C=100, penalty=l1, solver=newton-cg;, score=nan total time=   0.0s\n",
      "[CV 1/3] END .....C=100, penalty=l1, solver=lbfgs;, score=nan total time=   0.0s\n",
      "[CV 2/3] END .....C=100, penalty=l1, solver=lbfgs;, score=nan total time=   0.0s\n",
      "[CV 3/3] END .....C=100, penalty=l1, solver=lbfgs;, score=nan total time=   0.0s\n",
      "[CV 1/3] END C=100, penalty=l1, solver=liblinear;, score=0.992 total time=   0.8s\n",
      "[CV 2/3] END C=100, penalty=l1, solver=liblinear;, score=0.995 total time=   1.0s\n",
      "[CV 3/3] END C=100, penalty=l1, solver=liblinear;, score=0.990 total time=   2.9s\n",
      "[CV 1/3] END .......C=100, penalty=l1, solver=sag;, score=nan total time=   0.0s\n",
      "[CV 2/3] END .......C=100, penalty=l1, solver=sag;, score=nan total time=   0.0s\n",
      "[CV 3/3] END .......C=100, penalty=l1, solver=sag;, score=nan total time=   0.0s\n"
     ]
    },
    {
     "name": "stderr",
     "output_type": "stream",
     "text": [
      "c:\\Users\\harsh\\anaconda3\\Lib\\site-packages\\sklearn\\linear_model\\_sag.py:350: ConvergenceWarning: The max_iter was reached which means the coef_ did not converge\n",
      "  warnings.warn(\n"
     ]
    },
    {
     "name": "stdout",
     "output_type": "stream",
     "text": [
      "[CV 1/3] END ....C=100, penalty=l1, solver=saga;, score=0.988 total time=   0.3s\n"
     ]
    },
    {
     "name": "stderr",
     "output_type": "stream",
     "text": [
      "c:\\Users\\harsh\\anaconda3\\Lib\\site-packages\\sklearn\\linear_model\\_sag.py:350: ConvergenceWarning: The max_iter was reached which means the coef_ did not converge\n",
      "  warnings.warn(\n"
     ]
    },
    {
     "name": "stdout",
     "output_type": "stream",
     "text": [
      "[CV 2/3] END ....C=100, penalty=l1, solver=saga;, score=0.988 total time=   0.3s\n"
     ]
    },
    {
     "name": "stderr",
     "output_type": "stream",
     "text": [
      "c:\\Users\\harsh\\anaconda3\\Lib\\site-packages\\sklearn\\linear_model\\_sag.py:350: ConvergenceWarning: The max_iter was reached which means the coef_ did not converge\n",
      "  warnings.warn(\n"
     ]
    },
    {
     "name": "stdout",
     "output_type": "stream",
     "text": [
      "[CV 3/3] END ....C=100, penalty=l1, solver=saga;, score=0.989 total time=   0.3s\n",
      "[CV 1/3] END C=100, penalty=l2, solver=newton-cg;, score=0.991 total time=   0.1s\n"
     ]
    },
    {
     "name": "stderr",
     "output_type": "stream",
     "text": [
      "c:\\Users\\harsh\\anaconda3\\Lib\\site-packages\\scipy\\optimize\\_linesearch.py:306: LineSearchWarning: The line search algorithm did not converge\n",
      "  warn('The line search algorithm did not converge', LineSearchWarning)\n",
      "c:\\Users\\harsh\\anaconda3\\Lib\\site-packages\\sklearn\\utils\\optimize.py:204: UserWarning: Line Search failed\n",
      "  warnings.warn(\"Line Search failed\")\n"
     ]
    },
    {
     "name": "stdout",
     "output_type": "stream",
     "text": [
      "[CV 2/3] END C=100, penalty=l2, solver=newton-cg;, score=0.993 total time=   0.0s\n",
      "[CV 3/3] END C=100, penalty=l2, solver=newton-cg;, score=0.991 total time=   0.1s\n"
     ]
    },
    {
     "name": "stderr",
     "output_type": "stream",
     "text": [
      "c:\\Users\\harsh\\anaconda3\\Lib\\site-packages\\sklearn\\linear_model\\_logistic.py:460: ConvergenceWarning: lbfgs failed to converge (status=1):\n",
      "STOP: TOTAL NO. of ITERATIONS REACHED LIMIT.\n",
      "\n",
      "Increase the number of iterations (max_iter) or scale the data as shown in:\n",
      "    https://scikit-learn.org/stable/modules/preprocessing.html\n",
      "Please also refer to the documentation for alternative solver options:\n",
      "    https://scikit-learn.org/stable/modules/linear_model.html#logistic-regression\n",
      "  n_iter_i = _check_optimize_result(\n",
      "c:\\Users\\harsh\\anaconda3\\Lib\\site-packages\\sklearn\\linear_model\\_logistic.py:460: ConvergenceWarning: lbfgs failed to converge (status=1):\n",
      "STOP: TOTAL NO. of ITERATIONS REACHED LIMIT.\n",
      "\n",
      "Increase the number of iterations (max_iter) or scale the data as shown in:\n",
      "    https://scikit-learn.org/stable/modules/preprocessing.html\n",
      "Please also refer to the documentation for alternative solver options:\n",
      "    https://scikit-learn.org/stable/modules/linear_model.html#logistic-regression\n",
      "  n_iter_i = _check_optimize_result(\n",
      "c:\\Users\\harsh\\anaconda3\\Lib\\site-packages\\sklearn\\linear_model\\_logistic.py:460: ConvergenceWarning: lbfgs failed to converge (status=1):\n",
      "STOP: TOTAL NO. of ITERATIONS REACHED LIMIT.\n",
      "\n",
      "Increase the number of iterations (max_iter) or scale the data as shown in:\n",
      "    https://scikit-learn.org/stable/modules/preprocessing.html\n",
      "Please also refer to the documentation for alternative solver options:\n",
      "    https://scikit-learn.org/stable/modules/linear_model.html#logistic-regression\n",
      "  n_iter_i = _check_optimize_result(\n"
     ]
    },
    {
     "name": "stdout",
     "output_type": "stream",
     "text": [
      "[CV 1/3] END ...C=100, penalty=l2, solver=lbfgs;, score=0.992 total time=   0.0s\n",
      "[CV 2/3] END ...C=100, penalty=l2, solver=lbfgs;, score=0.993 total time=   0.0s\n",
      "[CV 3/3] END ...C=100, penalty=l2, solver=lbfgs;, score=0.992 total time=   0.0s\n",
      "[CV 1/3] END C=100, penalty=l2, solver=liblinear;, score=0.991 total time=   0.7s\n",
      "[CV 2/3] END C=100, penalty=l2, solver=liblinear;, score=0.993 total time=   0.4s\n",
      "[CV 3/3] END C=100, penalty=l2, solver=liblinear;, score=0.991 total time=   0.5s\n"
     ]
    },
    {
     "name": "stderr",
     "output_type": "stream",
     "text": [
      "c:\\Users\\harsh\\anaconda3\\Lib\\site-packages\\sklearn\\linear_model\\_sag.py:350: ConvergenceWarning: The max_iter was reached which means the coef_ did not converge\n",
      "  warnings.warn(\n"
     ]
    },
    {
     "name": "stdout",
     "output_type": "stream",
     "text": [
      "[CV 1/3] END .....C=100, penalty=l2, solver=sag;, score=0.990 total time=   0.1s\n"
     ]
    },
    {
     "name": "stderr",
     "output_type": "stream",
     "text": [
      "c:\\Users\\harsh\\anaconda3\\Lib\\site-packages\\sklearn\\linear_model\\_sag.py:350: ConvergenceWarning: The max_iter was reached which means the coef_ did not converge\n",
      "  warnings.warn(\n"
     ]
    },
    {
     "name": "stdout",
     "output_type": "stream",
     "text": [
      "[CV 2/3] END .....C=100, penalty=l2, solver=sag;, score=0.990 total time=   0.1s\n"
     ]
    },
    {
     "name": "stderr",
     "output_type": "stream",
     "text": [
      "c:\\Users\\harsh\\anaconda3\\Lib\\site-packages\\sklearn\\linear_model\\_sag.py:350: ConvergenceWarning: The max_iter was reached which means the coef_ did not converge\n",
      "  warnings.warn(\n"
     ]
    },
    {
     "name": "stdout",
     "output_type": "stream",
     "text": [
      "[CV 3/3] END .....C=100, penalty=l2, solver=sag;, score=0.991 total time=   0.1s\n"
     ]
    },
    {
     "name": "stderr",
     "output_type": "stream",
     "text": [
      "c:\\Users\\harsh\\anaconda3\\Lib\\site-packages\\sklearn\\linear_model\\_sag.py:350: ConvergenceWarning: The max_iter was reached which means the coef_ did not converge\n",
      "  warnings.warn(\n"
     ]
    },
    {
     "name": "stdout",
     "output_type": "stream",
     "text": [
      "[CV 1/3] END ....C=100, penalty=l2, solver=saga;, score=0.988 total time=   0.2s\n"
     ]
    },
    {
     "name": "stderr",
     "output_type": "stream",
     "text": [
      "c:\\Users\\harsh\\anaconda3\\Lib\\site-packages\\sklearn\\linear_model\\_sag.py:350: ConvergenceWarning: The max_iter was reached which means the coef_ did not converge\n",
      "  warnings.warn(\n"
     ]
    },
    {
     "name": "stdout",
     "output_type": "stream",
     "text": [
      "[CV 2/3] END ....C=100, penalty=l2, solver=saga;, score=0.988 total time=   0.2s\n"
     ]
    },
    {
     "name": "stderr",
     "output_type": "stream",
     "text": [
      "c:\\Users\\harsh\\anaconda3\\Lib\\site-packages\\sklearn\\linear_model\\_sag.py:350: ConvergenceWarning: The max_iter was reached which means the coef_ did not converge\n",
      "  warnings.warn(\n",
      "c:\\Users\\harsh\\anaconda3\\Lib\\site-packages\\sklearn\\linear_model\\_logistic.py:1183: FutureWarning: `penalty='none'`has been deprecated in 1.2 and will be removed in 1.4. To keep the past behaviour, set `penalty=None`.\n",
      "  warnings.warn(\n",
      "c:\\Users\\harsh\\anaconda3\\Lib\\site-packages\\sklearn\\linear_model\\_logistic.py:1193: UserWarning: Setting penalty=None will ignore the C and l1_ratio parameters\n",
      "  warnings.warn(\n"
     ]
    },
    {
     "name": "stdout",
     "output_type": "stream",
     "text": [
      "[CV 3/3] END ....C=100, penalty=l2, solver=saga;, score=0.989 total time=   0.2s\n",
      "[CV 1/3] END C=100, penalty=elasticnet, solver=newton-cg;, score=nan total time=   0.0s\n",
      "[CV 2/3] END C=100, penalty=elasticnet, solver=newton-cg;, score=nan total time=   0.0s\n",
      "[CV 3/3] END C=100, penalty=elasticnet, solver=newton-cg;, score=nan total time=   0.0s\n",
      "[CV 1/3] END C=100, penalty=elasticnet, solver=lbfgs;, score=nan total time=   0.0s\n",
      "[CV 2/3] END C=100, penalty=elasticnet, solver=lbfgs;, score=nan total time=   0.0s\n",
      "[CV 3/3] END C=100, penalty=elasticnet, solver=lbfgs;, score=nan total time=   0.0s\n",
      "[CV 1/3] END C=100, penalty=elasticnet, solver=liblinear;, score=nan total time=   0.0s\n",
      "[CV 2/3] END C=100, penalty=elasticnet, solver=liblinear;, score=nan total time=   0.0s\n",
      "[CV 3/3] END C=100, penalty=elasticnet, solver=liblinear;, score=nan total time=   0.0s\n",
      "[CV 1/3] END C=100, penalty=elasticnet, solver=sag;, score=nan total time=   0.0s\n",
      "[CV 2/3] END C=100, penalty=elasticnet, solver=sag;, score=nan total time=   0.0s\n",
      "[CV 3/3] END C=100, penalty=elasticnet, solver=sag;, score=nan total time=   0.0s\n",
      "[CV 1/3] END C=100, penalty=elasticnet, solver=saga;, score=nan total time=   0.0s\n",
      "[CV 2/3] END C=100, penalty=elasticnet, solver=saga;, score=nan total time=   0.0s\n",
      "[CV 3/3] END C=100, penalty=elasticnet, solver=saga;, score=nan total time=   0.0s\n"
     ]
    },
    {
     "name": "stderr",
     "output_type": "stream",
     "text": [
      "c:\\Users\\harsh\\anaconda3\\Lib\\site-packages\\scipy\\optimize\\_linesearch.py:457: LineSearchWarning: The line search algorithm did not converge\n",
      "  warn('The line search algorithm did not converge', LineSearchWarning)\n",
      "c:\\Users\\harsh\\anaconda3\\Lib\\site-packages\\scipy\\optimize\\_linesearch.py:306: LineSearchWarning: The line search algorithm did not converge\n",
      "  warn('The line search algorithm did not converge', LineSearchWarning)\n",
      "c:\\Users\\harsh\\anaconda3\\Lib\\site-packages\\sklearn\\utils\\optimize.py:211: ConvergenceWarning: newton-cg failed to converge. Increase the number of iterations.\n",
      "  warnings.warn(\n",
      "c:\\Users\\harsh\\anaconda3\\Lib\\site-packages\\sklearn\\linear_model\\_logistic.py:1183: FutureWarning: `penalty='none'`has been deprecated in 1.2 and will be removed in 1.4. To keep the past behaviour, set `penalty=None`.\n",
      "  warnings.warn(\n",
      "c:\\Users\\harsh\\anaconda3\\Lib\\site-packages\\sklearn\\linear_model\\_logistic.py:1193: UserWarning: Setting penalty=None will ignore the C and l1_ratio parameters\n",
      "  warnings.warn(\n",
      "c:\\Users\\harsh\\anaconda3\\Lib\\site-packages\\scipy\\optimize\\_linesearch.py:306: LineSearchWarning: The line search algorithm did not converge\n",
      "  warn('The line search algorithm did not converge', LineSearchWarning)\n",
      "c:\\Users\\harsh\\anaconda3\\Lib\\site-packages\\sklearn\\utils\\optimize.py:204: UserWarning: Line Search failed\n",
      "  warnings.warn(\"Line Search failed\")\n",
      "c:\\Users\\harsh\\anaconda3\\Lib\\site-packages\\sklearn\\linear_model\\_logistic.py:1183: FutureWarning: `penalty='none'`has been deprecated in 1.2 and will be removed in 1.4. To keep the past behaviour, set `penalty=None`.\n",
      "  warnings.warn(\n",
      "c:\\Users\\harsh\\anaconda3\\Lib\\site-packages\\sklearn\\linear_model\\_logistic.py:1193: UserWarning: Setting penalty=None will ignore the C and l1_ratio parameters\n",
      "  warnings.warn(\n"
     ]
    },
    {
     "name": "stdout",
     "output_type": "stream",
     "text": [
      "[CV 1/3] END C=100, penalty=none, solver=newton-cg;, score=0.561 total time=   4.0s\n",
      "[CV 2/3] END C=100, penalty=none, solver=newton-cg;, score=0.994 total time=   0.0s\n"
     ]
    },
    {
     "name": "stderr",
     "output_type": "stream",
     "text": [
      "c:\\Users\\harsh\\anaconda3\\Lib\\site-packages\\scipy\\optimize\\_linesearch.py:457: LineSearchWarning: The line search algorithm did not converge\n",
      "  warn('The line search algorithm did not converge', LineSearchWarning)\n",
      "c:\\Users\\harsh\\anaconda3\\Lib\\site-packages\\scipy\\optimize\\_linesearch.py:306: LineSearchWarning: The line search algorithm did not converge\n",
      "  warn('The line search algorithm did not converge', LineSearchWarning)\n",
      "c:\\Users\\harsh\\anaconda3\\Lib\\site-packages\\sklearn\\utils\\optimize.py:211: ConvergenceWarning: newton-cg failed to converge. Increase the number of iterations.\n",
      "  warnings.warn(\n",
      "c:\\Users\\harsh\\anaconda3\\Lib\\site-packages\\sklearn\\linear_model\\_logistic.py:1183: FutureWarning: `penalty='none'`has been deprecated in 1.2 and will be removed in 1.4. To keep the past behaviour, set `penalty=None`.\n",
      "  warnings.warn(\n",
      "c:\\Users\\harsh\\anaconda3\\Lib\\site-packages\\sklearn\\linear_model\\_logistic.py:1193: UserWarning: Setting penalty=None will ignore the C and l1_ratio parameters\n",
      "  warnings.warn(\n",
      "c:\\Users\\harsh\\anaconda3\\Lib\\site-packages\\sklearn\\linear_model\\_logistic.py:460: ConvergenceWarning: lbfgs failed to converge (status=1):\n",
      "STOP: TOTAL NO. of ITERATIONS REACHED LIMIT.\n",
      "\n",
      "Increase the number of iterations (max_iter) or scale the data as shown in:\n",
      "    https://scikit-learn.org/stable/modules/preprocessing.html\n",
      "Please also refer to the documentation for alternative solver options:\n",
      "    https://scikit-learn.org/stable/modules/linear_model.html#logistic-regression\n",
      "  n_iter_i = _check_optimize_result(\n",
      "c:\\Users\\harsh\\anaconda3\\Lib\\site-packages\\sklearn\\linear_model\\_logistic.py:1183: FutureWarning: `penalty='none'`has been deprecated in 1.2 and will be removed in 1.4. To keep the past behaviour, set `penalty=None`.\n",
      "  warnings.warn(\n",
      "c:\\Users\\harsh\\anaconda3\\Lib\\site-packages\\sklearn\\linear_model\\_logistic.py:1193: UserWarning: Setting penalty=None will ignore the C and l1_ratio parameters\n",
      "  warnings.warn(\n",
      "c:\\Users\\harsh\\anaconda3\\Lib\\site-packages\\sklearn\\linear_model\\_logistic.py:460: ConvergenceWarning: lbfgs failed to converge (status=1):\n",
      "STOP: TOTAL NO. of ITERATIONS REACHED LIMIT.\n",
      "\n",
      "Increase the number of iterations (max_iter) or scale the data as shown in:\n",
      "    https://scikit-learn.org/stable/modules/preprocessing.html\n",
      "Please also refer to the documentation for alternative solver options:\n",
      "    https://scikit-learn.org/stable/modules/linear_model.html#logistic-regression\n",
      "  n_iter_i = _check_optimize_result(\n",
      "c:\\Users\\harsh\\anaconda3\\Lib\\site-packages\\sklearn\\linear_model\\_logistic.py:1183: FutureWarning: `penalty='none'`has been deprecated in 1.2 and will be removed in 1.4. To keep the past behaviour, set `penalty=None`.\n",
      "  warnings.warn(\n",
      "c:\\Users\\harsh\\anaconda3\\Lib\\site-packages\\sklearn\\linear_model\\_logistic.py:1193: UserWarning: Setting penalty=None will ignore the C and l1_ratio parameters\n",
      "  warnings.warn(\n",
      "c:\\Users\\harsh\\anaconda3\\Lib\\site-packages\\sklearn\\linear_model\\_logistic.py:460: ConvergenceWarning: lbfgs failed to converge (status=1):\n",
      "STOP: TOTAL NO. of ITERATIONS REACHED LIMIT.\n",
      "\n",
      "Increase the number of iterations (max_iter) or scale the data as shown in:\n",
      "    https://scikit-learn.org/stable/modules/preprocessing.html\n",
      "Please also refer to the documentation for alternative solver options:\n",
      "    https://scikit-learn.org/stable/modules/linear_model.html#logistic-regression\n",
      "  n_iter_i = _check_optimize_result(\n",
      "c:\\Users\\harsh\\anaconda3\\Lib\\site-packages\\sklearn\\linear_model\\_logistic.py:1183: FutureWarning: `penalty='none'`has been deprecated in 1.2 and will be removed in 1.4. To keep the past behaviour, set `penalty=None`.\n",
      "  warnings.warn(\n",
      "c:\\Users\\harsh\\anaconda3\\Lib\\site-packages\\sklearn\\linear_model\\_logistic.py:1193: UserWarning: Setting penalty=None will ignore the C and l1_ratio parameters\n",
      "  warnings.warn(\n"
     ]
    },
    {
     "name": "stdout",
     "output_type": "stream",
     "text": [
      "[CV 3/3] END C=100, penalty=none, solver=newton-cg;, score=0.561 total time=   3.2s\n",
      "[CV 1/3] END .C=100, penalty=none, solver=lbfgs;, score=0.992 total time=   0.0s\n",
      "[CV 2/3] END .C=100, penalty=none, solver=lbfgs;, score=0.993 total time=   0.0s\n",
      "[CV 3/3] END .C=100, penalty=none, solver=lbfgs;, score=0.992 total time=   0.0s\n",
      "[CV 1/3] END C=100, penalty=none, solver=liblinear;, score=nan total time=   0.0s\n",
      "[CV 2/3] END C=100, penalty=none, solver=liblinear;, score=nan total time=   0.0s\n",
      "[CV 3/3] END C=100, penalty=none, solver=liblinear;, score=nan total time=   0.0s\n"
     ]
    },
    {
     "name": "stderr",
     "output_type": "stream",
     "text": [
      "c:\\Users\\harsh\\anaconda3\\Lib\\site-packages\\sklearn\\linear_model\\_sag.py:350: ConvergenceWarning: The max_iter was reached which means the coef_ did not converge\n",
      "  warnings.warn(\n",
      "c:\\Users\\harsh\\anaconda3\\Lib\\site-packages\\sklearn\\linear_model\\_logistic.py:1183: FutureWarning: `penalty='none'`has been deprecated in 1.2 and will be removed in 1.4. To keep the past behaviour, set `penalty=None`.\n",
      "  warnings.warn(\n",
      "c:\\Users\\harsh\\anaconda3\\Lib\\site-packages\\sklearn\\linear_model\\_logistic.py:1193: UserWarning: Setting penalty=None will ignore the C and l1_ratio parameters\n",
      "  warnings.warn(\n"
     ]
    },
    {
     "name": "stdout",
     "output_type": "stream",
     "text": [
      "[CV 1/3] END ...C=100, penalty=none, solver=sag;, score=0.990 total time=   0.1s\n"
     ]
    },
    {
     "name": "stderr",
     "output_type": "stream",
     "text": [
      "c:\\Users\\harsh\\anaconda3\\Lib\\site-packages\\sklearn\\linear_model\\_sag.py:350: ConvergenceWarning: The max_iter was reached which means the coef_ did not converge\n",
      "  warnings.warn(\n",
      "c:\\Users\\harsh\\anaconda3\\Lib\\site-packages\\sklearn\\linear_model\\_logistic.py:1183: FutureWarning: `penalty='none'`has been deprecated in 1.2 and will be removed in 1.4. To keep the past behaviour, set `penalty=None`.\n",
      "  warnings.warn(\n",
      "c:\\Users\\harsh\\anaconda3\\Lib\\site-packages\\sklearn\\linear_model\\_logistic.py:1193: UserWarning: Setting penalty=None will ignore the C and l1_ratio parameters\n",
      "  warnings.warn(\n"
     ]
    },
    {
     "name": "stdout",
     "output_type": "stream",
     "text": [
      "[CV 2/3] END ...C=100, penalty=none, solver=sag;, score=0.990 total time=   0.1s\n"
     ]
    },
    {
     "name": "stderr",
     "output_type": "stream",
     "text": [
      "c:\\Users\\harsh\\anaconda3\\Lib\\site-packages\\sklearn\\linear_model\\_sag.py:350: ConvergenceWarning: The max_iter was reached which means the coef_ did not converge\n",
      "  warnings.warn(\n",
      "c:\\Users\\harsh\\anaconda3\\Lib\\site-packages\\sklearn\\linear_model\\_logistic.py:1183: FutureWarning: `penalty='none'`has been deprecated in 1.2 and will be removed in 1.4. To keep the past behaviour, set `penalty=None`.\n",
      "  warnings.warn(\n",
      "c:\\Users\\harsh\\anaconda3\\Lib\\site-packages\\sklearn\\linear_model\\_logistic.py:1193: UserWarning: Setting penalty=None will ignore the C and l1_ratio parameters\n",
      "  warnings.warn(\n"
     ]
    },
    {
     "name": "stdout",
     "output_type": "stream",
     "text": [
      "[CV 3/3] END ...C=100, penalty=none, solver=sag;, score=0.991 total time=   0.2s\n"
     ]
    },
    {
     "name": "stderr",
     "output_type": "stream",
     "text": [
      "c:\\Users\\harsh\\anaconda3\\Lib\\site-packages\\sklearn\\linear_model\\_sag.py:350: ConvergenceWarning: The max_iter was reached which means the coef_ did not converge\n",
      "  warnings.warn(\n",
      "c:\\Users\\harsh\\anaconda3\\Lib\\site-packages\\sklearn\\linear_model\\_logistic.py:1183: FutureWarning: `penalty='none'`has been deprecated in 1.2 and will be removed in 1.4. To keep the past behaviour, set `penalty=None`.\n",
      "  warnings.warn(\n",
      "c:\\Users\\harsh\\anaconda3\\Lib\\site-packages\\sklearn\\linear_model\\_logistic.py:1193: UserWarning: Setting penalty=None will ignore the C and l1_ratio parameters\n",
      "  warnings.warn(\n"
     ]
    },
    {
     "name": "stdout",
     "output_type": "stream",
     "text": [
      "[CV 1/3] END ..C=100, penalty=none, solver=saga;, score=0.988 total time=   0.2s\n"
     ]
    },
    {
     "name": "stderr",
     "output_type": "stream",
     "text": [
      "c:\\Users\\harsh\\anaconda3\\Lib\\site-packages\\sklearn\\linear_model\\_sag.py:350: ConvergenceWarning: The max_iter was reached which means the coef_ did not converge\n",
      "  warnings.warn(\n",
      "c:\\Users\\harsh\\anaconda3\\Lib\\site-packages\\sklearn\\linear_model\\_logistic.py:1183: FutureWarning: `penalty='none'`has been deprecated in 1.2 and will be removed in 1.4. To keep the past behaviour, set `penalty=None`.\n",
      "  warnings.warn(\n",
      "c:\\Users\\harsh\\anaconda3\\Lib\\site-packages\\sklearn\\linear_model\\_logistic.py:1193: UserWarning: Setting penalty=None will ignore the C and l1_ratio parameters\n",
      "  warnings.warn(\n"
     ]
    },
    {
     "name": "stdout",
     "output_type": "stream",
     "text": [
      "[CV 2/3] END ..C=100, penalty=none, solver=saga;, score=0.988 total time=   0.2s\n"
     ]
    },
    {
     "name": "stderr",
     "output_type": "stream",
     "text": [
      "c:\\Users\\harsh\\anaconda3\\Lib\\site-packages\\sklearn\\linear_model\\_sag.py:350: ConvergenceWarning: The max_iter was reached which means the coef_ did not converge\n",
      "  warnings.warn(\n",
      "c:\\Users\\harsh\\anaconda3\\Lib\\site-packages\\sklearn\\model_selection\\_validation.py:425: FitFailedWarning: \n",
      "135 fits failed out of a total of 300.\n",
      "The score on these train-test partitions for these parameters will be set to nan.\n",
      "If these failures are not expected, you can try to debug them by setting error_score='raise'.\n",
      "\n",
      "Below are more details about the failures:\n",
      "--------------------------------------------------------------------------------\n",
      "15 fits failed with the following error:\n",
      "Traceback (most recent call last):\n",
      "  File \"c:\\Users\\harsh\\anaconda3\\Lib\\site-packages\\sklearn\\model_selection\\_validation.py\", line 729, in _fit_and_score\n",
      "    estimator.fit(X_train, y_train, **fit_params)\n",
      "  File \"c:\\Users\\harsh\\anaconda3\\Lib\\site-packages\\sklearn\\base.py\", line 1152, in wrapper\n",
      "    return fit_method(estimator, *args, **kwargs)\n",
      "           ^^^^^^^^^^^^^^^^^^^^^^^^^^^^^^^^^^^^^^\n",
      "  File \"c:\\Users\\harsh\\anaconda3\\Lib\\site-packages\\sklearn\\linear_model\\_logistic.py\", line 1169, in fit\n",
      "    solver = _check_solver(self.solver, self.penalty, self.dual)\n",
      "             ^^^^^^^^^^^^^^^^^^^^^^^^^^^^^^^^^^^^^^^^^^^^^^^^^^^\n",
      "  File \"c:\\Users\\harsh\\anaconda3\\Lib\\site-packages\\sklearn\\linear_model\\_logistic.py\", line 56, in _check_solver\n",
      "    raise ValueError(\n",
      "ValueError: Solver newton-cg supports only 'l2' or 'none' penalties, got l1 penalty.\n",
      "\n",
      "--------------------------------------------------------------------------------\n",
      "15 fits failed with the following error:\n",
      "Traceback (most recent call last):\n",
      "  File \"c:\\Users\\harsh\\anaconda3\\Lib\\site-packages\\sklearn\\model_selection\\_validation.py\", line 729, in _fit_and_score\n",
      "    estimator.fit(X_train, y_train, **fit_params)\n",
      "  File \"c:\\Users\\harsh\\anaconda3\\Lib\\site-packages\\sklearn\\base.py\", line 1152, in wrapper\n",
      "    return fit_method(estimator, *args, **kwargs)\n",
      "           ^^^^^^^^^^^^^^^^^^^^^^^^^^^^^^^^^^^^^^\n",
      "  File \"c:\\Users\\harsh\\anaconda3\\Lib\\site-packages\\sklearn\\linear_model\\_logistic.py\", line 1169, in fit\n",
      "    solver = _check_solver(self.solver, self.penalty, self.dual)\n",
      "             ^^^^^^^^^^^^^^^^^^^^^^^^^^^^^^^^^^^^^^^^^^^^^^^^^^^\n",
      "  File \"c:\\Users\\harsh\\anaconda3\\Lib\\site-packages\\sklearn\\linear_model\\_logistic.py\", line 56, in _check_solver\n",
      "    raise ValueError(\n",
      "ValueError: Solver lbfgs supports only 'l2' or 'none' penalties, got l1 penalty.\n",
      "\n",
      "--------------------------------------------------------------------------------\n",
      "15 fits failed with the following error:\n",
      "Traceback (most recent call last):\n",
      "  File \"c:\\Users\\harsh\\anaconda3\\Lib\\site-packages\\sklearn\\model_selection\\_validation.py\", line 729, in _fit_and_score\n",
      "    estimator.fit(X_train, y_train, **fit_params)\n",
      "  File \"c:\\Users\\harsh\\anaconda3\\Lib\\site-packages\\sklearn\\base.py\", line 1152, in wrapper\n",
      "    return fit_method(estimator, *args, **kwargs)\n",
      "           ^^^^^^^^^^^^^^^^^^^^^^^^^^^^^^^^^^^^^^\n",
      "  File \"c:\\Users\\harsh\\anaconda3\\Lib\\site-packages\\sklearn\\linear_model\\_logistic.py\", line 1169, in fit\n",
      "    solver = _check_solver(self.solver, self.penalty, self.dual)\n",
      "             ^^^^^^^^^^^^^^^^^^^^^^^^^^^^^^^^^^^^^^^^^^^^^^^^^^^\n",
      "  File \"c:\\Users\\harsh\\anaconda3\\Lib\\site-packages\\sklearn\\linear_model\\_logistic.py\", line 56, in _check_solver\n",
      "    raise ValueError(\n",
      "ValueError: Solver sag supports only 'l2' or 'none' penalties, got l1 penalty.\n",
      "\n",
      "--------------------------------------------------------------------------------\n",
      "15 fits failed with the following error:\n",
      "Traceback (most recent call last):\n",
      "  File \"c:\\Users\\harsh\\anaconda3\\Lib\\site-packages\\sklearn\\model_selection\\_validation.py\", line 729, in _fit_and_score\n",
      "    estimator.fit(X_train, y_train, **fit_params)\n",
      "  File \"c:\\Users\\harsh\\anaconda3\\Lib\\site-packages\\sklearn\\base.py\", line 1152, in wrapper\n",
      "    return fit_method(estimator, *args, **kwargs)\n",
      "           ^^^^^^^^^^^^^^^^^^^^^^^^^^^^^^^^^^^^^^\n",
      "  File \"c:\\Users\\harsh\\anaconda3\\Lib\\site-packages\\sklearn\\linear_model\\_logistic.py\", line 1169, in fit\n",
      "    solver = _check_solver(self.solver, self.penalty, self.dual)\n",
      "             ^^^^^^^^^^^^^^^^^^^^^^^^^^^^^^^^^^^^^^^^^^^^^^^^^^^\n",
      "  File \"c:\\Users\\harsh\\anaconda3\\Lib\\site-packages\\sklearn\\linear_model\\_logistic.py\", line 56, in _check_solver\n",
      "    raise ValueError(\n",
      "ValueError: Solver newton-cg supports only 'l2' or 'none' penalties, got elasticnet penalty.\n",
      "\n",
      "--------------------------------------------------------------------------------\n",
      "15 fits failed with the following error:\n",
      "Traceback (most recent call last):\n",
      "  File \"c:\\Users\\harsh\\anaconda3\\Lib\\site-packages\\sklearn\\model_selection\\_validation.py\", line 729, in _fit_and_score\n",
      "    estimator.fit(X_train, y_train, **fit_params)\n",
      "  File \"c:\\Users\\harsh\\anaconda3\\Lib\\site-packages\\sklearn\\base.py\", line 1152, in wrapper\n",
      "    return fit_method(estimator, *args, **kwargs)\n",
      "           ^^^^^^^^^^^^^^^^^^^^^^^^^^^^^^^^^^^^^^\n",
      "  File \"c:\\Users\\harsh\\anaconda3\\Lib\\site-packages\\sklearn\\linear_model\\_logistic.py\", line 1169, in fit\n",
      "    solver = _check_solver(self.solver, self.penalty, self.dual)\n",
      "             ^^^^^^^^^^^^^^^^^^^^^^^^^^^^^^^^^^^^^^^^^^^^^^^^^^^\n",
      "  File \"c:\\Users\\harsh\\anaconda3\\Lib\\site-packages\\sklearn\\linear_model\\_logistic.py\", line 56, in _check_solver\n",
      "    raise ValueError(\n",
      "ValueError: Solver lbfgs supports only 'l2' or 'none' penalties, got elasticnet penalty.\n",
      "\n",
      "--------------------------------------------------------------------------------\n",
      "15 fits failed with the following error:\n",
      "Traceback (most recent call last):\n",
      "  File \"c:\\Users\\harsh\\anaconda3\\Lib\\site-packages\\sklearn\\model_selection\\_validation.py\", line 729, in _fit_and_score\n",
      "    estimator.fit(X_train, y_train, **fit_params)\n",
      "  File \"c:\\Users\\harsh\\anaconda3\\Lib\\site-packages\\sklearn\\base.py\", line 1152, in wrapper\n",
      "    return fit_method(estimator, *args, **kwargs)\n",
      "           ^^^^^^^^^^^^^^^^^^^^^^^^^^^^^^^^^^^^^^\n",
      "  File \"c:\\Users\\harsh\\anaconda3\\Lib\\site-packages\\sklearn\\linear_model\\_logistic.py\", line 1169, in fit\n",
      "    solver = _check_solver(self.solver, self.penalty, self.dual)\n",
      "             ^^^^^^^^^^^^^^^^^^^^^^^^^^^^^^^^^^^^^^^^^^^^^^^^^^^\n",
      "  File \"c:\\Users\\harsh\\anaconda3\\Lib\\site-packages\\sklearn\\linear_model\\_logistic.py\", line 66, in _check_solver\n",
      "    raise ValueError(\n",
      "ValueError: Only 'saga' solver supports elasticnet penalty, got solver=liblinear.\n",
      "\n",
      "--------------------------------------------------------------------------------\n",
      "15 fits failed with the following error:\n",
      "Traceback (most recent call last):\n",
      "  File \"c:\\Users\\harsh\\anaconda3\\Lib\\site-packages\\sklearn\\model_selection\\_validation.py\", line 729, in _fit_and_score\n",
      "    estimator.fit(X_train, y_train, **fit_params)\n",
      "  File \"c:\\Users\\harsh\\anaconda3\\Lib\\site-packages\\sklearn\\base.py\", line 1152, in wrapper\n",
      "    return fit_method(estimator, *args, **kwargs)\n",
      "           ^^^^^^^^^^^^^^^^^^^^^^^^^^^^^^^^^^^^^^\n",
      "  File \"c:\\Users\\harsh\\anaconda3\\Lib\\site-packages\\sklearn\\linear_model\\_logistic.py\", line 1169, in fit\n",
      "    solver = _check_solver(self.solver, self.penalty, self.dual)\n",
      "             ^^^^^^^^^^^^^^^^^^^^^^^^^^^^^^^^^^^^^^^^^^^^^^^^^^^\n",
      "  File \"c:\\Users\\harsh\\anaconda3\\Lib\\site-packages\\sklearn\\linear_model\\_logistic.py\", line 56, in _check_solver\n",
      "    raise ValueError(\n",
      "ValueError: Solver sag supports only 'l2' or 'none' penalties, got elasticnet penalty.\n",
      "\n",
      "--------------------------------------------------------------------------------\n",
      "15 fits failed with the following error:\n",
      "Traceback (most recent call last):\n",
      "  File \"c:\\Users\\harsh\\anaconda3\\Lib\\site-packages\\sklearn\\model_selection\\_validation.py\", line 729, in _fit_and_score\n",
      "    estimator.fit(X_train, y_train, **fit_params)\n",
      "  File \"c:\\Users\\harsh\\anaconda3\\Lib\\site-packages\\sklearn\\base.py\", line 1152, in wrapper\n",
      "    return fit_method(estimator, *args, **kwargs)\n",
      "           ^^^^^^^^^^^^^^^^^^^^^^^^^^^^^^^^^^^^^^\n",
      "  File \"c:\\Users\\harsh\\anaconda3\\Lib\\site-packages\\sklearn\\linear_model\\_logistic.py\", line 1179, in fit\n",
      "    raise ValueError(\"l1_ratio must be specified when penalty is elasticnet.\")\n",
      "ValueError: l1_ratio must be specified when penalty is elasticnet.\n",
      "\n",
      "--------------------------------------------------------------------------------\n",
      "15 fits failed with the following error:\n",
      "Traceback (most recent call last):\n",
      "  File \"c:\\Users\\harsh\\anaconda3\\Lib\\site-packages\\sklearn\\model_selection\\_validation.py\", line 729, in _fit_and_score\n",
      "    estimator.fit(X_train, y_train, **fit_params)\n",
      "  File \"c:\\Users\\harsh\\anaconda3\\Lib\\site-packages\\sklearn\\base.py\", line 1152, in wrapper\n",
      "    return fit_method(estimator, *args, **kwargs)\n",
      "           ^^^^^^^^^^^^^^^^^^^^^^^^^^^^^^^^^^^^^^\n",
      "  File \"c:\\Users\\harsh\\anaconda3\\Lib\\site-packages\\sklearn\\linear_model\\_logistic.py\", line 1169, in fit\n",
      "    solver = _check_solver(self.solver, self.penalty, self.dual)\n",
      "             ^^^^^^^^^^^^^^^^^^^^^^^^^^^^^^^^^^^^^^^^^^^^^^^^^^^\n",
      "  File \"c:\\Users\\harsh\\anaconda3\\Lib\\site-packages\\sklearn\\linear_model\\_logistic.py\", line 73, in _check_solver\n",
      "    raise ValueError(\"penalty='none' is not supported for the liblinear solver\")\n",
      "ValueError: penalty='none' is not supported for the liblinear solver\n",
      "\n",
      "  warnings.warn(some_fits_failed_message, FitFailedWarning)\n",
      "c:\\Users\\harsh\\anaconda3\\Lib\\site-packages\\sklearn\\model_selection\\_search.py:979: UserWarning: One or more of the test scores are non-finite: [       nan        nan 0.98064112        nan 0.98064112 0.98518693\n",
      " 0.98518693 0.98510855 0.98518693 0.98503017        nan        nan\n",
      "        nan        nan        nan 0.70499255 0.9921624         nan\n",
      " 0.99012462 0.98800846        nan        nan 0.99239752        nan\n",
      " 0.98793009 0.99067325 0.99067325 0.98996787 0.98949761 0.98745983\n",
      "        nan        nan        nan        nan        nan 0.70499255\n",
      " 0.9921624         nan 0.99012462 0.98800846        nan        nan\n",
      " 0.99325966        nan 0.98824359 0.9924759  0.9924759  0.99255428\n",
      " 0.99012462 0.98808684        nan        nan        nan        nan\n",
      "        nan 0.70499255 0.9921624         nan 0.99012462 0.98800846\n",
      "        nan        nan 0.99271103        nan 0.98800846 0.9921624\n",
      " 0.9921624  0.99231915 0.99012462 0.98800846        nan        nan\n",
      "        nan        nan        nan 0.70499255 0.9921624         nan\n",
      " 0.99012462 0.98800846        nan        nan 0.99200564        nan\n",
      " 0.98800846 0.99192727 0.9921624  0.99192727 0.99012462 0.98800846\n",
      "        nan        nan        nan        nan        nan 0.70499255\n",
      " 0.9921624         nan 0.99012462 0.98800846]\n",
      "  warnings.warn(\n"
     ]
    },
    {
     "name": "stdout",
     "output_type": "stream",
     "text": [
      "[CV 3/3] END ..C=100, penalty=none, solver=saga;, score=0.989 total time=   0.2s\n"
     ]
    },
    {
     "data": {
      "text/html": [
       "<style>#sk-container-id-2 {color: black;}#sk-container-id-2 pre{padding: 0;}#sk-container-id-2 div.sk-toggleable {background-color: white;}#sk-container-id-2 label.sk-toggleable__label {cursor: pointer;display: block;width: 100%;margin-bottom: 0;padding: 0.3em;box-sizing: border-box;text-align: center;}#sk-container-id-2 label.sk-toggleable__label-arrow:before {content: \"▸\";float: left;margin-right: 0.25em;color: #696969;}#sk-container-id-2 label.sk-toggleable__label-arrow:hover:before {color: black;}#sk-container-id-2 div.sk-estimator:hover label.sk-toggleable__label-arrow:before {color: black;}#sk-container-id-2 div.sk-toggleable__content {max-height: 0;max-width: 0;overflow: hidden;text-align: left;background-color: #f0f8ff;}#sk-container-id-2 div.sk-toggleable__content pre {margin: 0.2em;color: black;border-radius: 0.25em;background-color: #f0f8ff;}#sk-container-id-2 input.sk-toggleable__control:checked~div.sk-toggleable__content {max-height: 200px;max-width: 100%;overflow: auto;}#sk-container-id-2 input.sk-toggleable__control:checked~label.sk-toggleable__label-arrow:before {content: \"▾\";}#sk-container-id-2 div.sk-estimator input.sk-toggleable__control:checked~label.sk-toggleable__label {background-color: #d4ebff;}#sk-container-id-2 div.sk-label input.sk-toggleable__control:checked~label.sk-toggleable__label {background-color: #d4ebff;}#sk-container-id-2 input.sk-hidden--visually {border: 0;clip: rect(1px 1px 1px 1px);clip: rect(1px, 1px, 1px, 1px);height: 1px;margin: -1px;overflow: hidden;padding: 0;position: absolute;width: 1px;}#sk-container-id-2 div.sk-estimator {font-family: monospace;background-color: #f0f8ff;border: 1px dotted black;border-radius: 0.25em;box-sizing: border-box;margin-bottom: 0.5em;}#sk-container-id-2 div.sk-estimator:hover {background-color: #d4ebff;}#sk-container-id-2 div.sk-parallel-item::after {content: \"\";width: 100%;border-bottom: 1px solid gray;flex-grow: 1;}#sk-container-id-2 div.sk-label:hover label.sk-toggleable__label {background-color: #d4ebff;}#sk-container-id-2 div.sk-serial::before {content: \"\";position: absolute;border-left: 1px solid gray;box-sizing: border-box;top: 0;bottom: 0;left: 50%;z-index: 0;}#sk-container-id-2 div.sk-serial {display: flex;flex-direction: column;align-items: center;background-color: white;padding-right: 0.2em;padding-left: 0.2em;position: relative;}#sk-container-id-2 div.sk-item {position: relative;z-index: 1;}#sk-container-id-2 div.sk-parallel {display: flex;align-items: stretch;justify-content: center;background-color: white;position: relative;}#sk-container-id-2 div.sk-item::before, #sk-container-id-2 div.sk-parallel-item::before {content: \"\";position: absolute;border-left: 1px solid gray;box-sizing: border-box;top: 0;bottom: 0;left: 50%;z-index: -1;}#sk-container-id-2 div.sk-parallel-item {display: flex;flex-direction: column;z-index: 1;position: relative;background-color: white;}#sk-container-id-2 div.sk-parallel-item:first-child::after {align-self: flex-end;width: 50%;}#sk-container-id-2 div.sk-parallel-item:last-child::after {align-self: flex-start;width: 50%;}#sk-container-id-2 div.sk-parallel-item:only-child::after {width: 0;}#sk-container-id-2 div.sk-dashed-wrapped {border: 1px dashed gray;margin: 0 0.4em 0.5em 0.4em;box-sizing: border-box;padding-bottom: 0.4em;background-color: white;}#sk-container-id-2 div.sk-label label {font-family: monospace;font-weight: bold;display: inline-block;line-height: 1.2em;}#sk-container-id-2 div.sk-label-container {text-align: center;}#sk-container-id-2 div.sk-container {/* jupyter's `normalize.less` sets `[hidden] { display: none; }` but bootstrap.min.css set `[hidden] { display: none !important; }` so we also need the `!important` here to be able to override the default hidden behavior on the sphinx rendered scikit-learn.org. See: https://github.com/scikit-learn/scikit-learn/issues/21755 */display: inline-block !important;position: relative;}#sk-container-id-2 div.sk-text-repr-fallback {display: none;}</style><div id=\"sk-container-id-2\" class=\"sk-top-container\"><div class=\"sk-text-repr-fallback\"><pre>GridSearchCV(cv=3, estimator=LogisticRegression(random_state=245),\n",
       "             param_grid={&#x27;C&#x27;: [0.01, 0.1, 1, 10, 100],\n",
       "                         &#x27;penalty&#x27;: [&#x27;l1&#x27;, &#x27;l2&#x27;, &#x27;elasticnet&#x27;, &#x27;none&#x27;],\n",
       "                         &#x27;solver&#x27;: [&#x27;newton-cg&#x27;, &#x27;lbfgs&#x27;, &#x27;liblinear&#x27;, &#x27;sag&#x27;,\n",
       "                                    &#x27;saga&#x27;]},\n",
       "             verbose=3)</pre><b>In a Jupyter environment, please rerun this cell to show the HTML representation or trust the notebook. <br />On GitHub, the HTML representation is unable to render, please try loading this page with nbviewer.org.</b></div><div class=\"sk-container\" hidden><div class=\"sk-item sk-dashed-wrapped\"><div class=\"sk-label-container\"><div class=\"sk-label sk-toggleable\"><input class=\"sk-toggleable__control sk-hidden--visually\" id=\"sk-estimator-id-2\" type=\"checkbox\" ><label for=\"sk-estimator-id-2\" class=\"sk-toggleable__label sk-toggleable__label-arrow\">GridSearchCV</label><div class=\"sk-toggleable__content\"><pre>GridSearchCV(cv=3, estimator=LogisticRegression(random_state=245),\n",
       "             param_grid={&#x27;C&#x27;: [0.01, 0.1, 1, 10, 100],\n",
       "                         &#x27;penalty&#x27;: [&#x27;l1&#x27;, &#x27;l2&#x27;, &#x27;elasticnet&#x27;, &#x27;none&#x27;],\n",
       "                         &#x27;solver&#x27;: [&#x27;newton-cg&#x27;, &#x27;lbfgs&#x27;, &#x27;liblinear&#x27;, &#x27;sag&#x27;,\n",
       "                                    &#x27;saga&#x27;]},\n",
       "             verbose=3)</pre></div></div></div><div class=\"sk-parallel\"><div class=\"sk-parallel-item\"><div class=\"sk-item\"><div class=\"sk-label-container\"><div class=\"sk-label sk-toggleable\"><input class=\"sk-toggleable__control sk-hidden--visually\" id=\"sk-estimator-id-3\" type=\"checkbox\" ><label for=\"sk-estimator-id-3\" class=\"sk-toggleable__label sk-toggleable__label-arrow\">estimator: LogisticRegression</label><div class=\"sk-toggleable__content\"><pre>LogisticRegression(random_state=245)</pre></div></div></div><div class=\"sk-serial\"><div class=\"sk-item\"><div class=\"sk-estimator sk-toggleable\"><input class=\"sk-toggleable__control sk-hidden--visually\" id=\"sk-estimator-id-4\" type=\"checkbox\" ><label for=\"sk-estimator-id-4\" class=\"sk-toggleable__label sk-toggleable__label-arrow\">LogisticRegression</label><div class=\"sk-toggleable__content\"><pre>LogisticRegression(random_state=245)</pre></div></div></div></div></div></div></div></div></div></div>"
      ],
      "text/plain": [
       "GridSearchCV(cv=3, estimator=LogisticRegression(random_state=245),\n",
       "             param_grid={'C': [0.01, 0.1, 1, 10, 100],\n",
       "                         'penalty': ['l1', 'l2', 'elasticnet', 'none'],\n",
       "                         'solver': ['newton-cg', 'lbfgs', 'liblinear', 'sag',\n",
       "                                    'saga']},\n",
       "             verbose=3)"
      ]
     },
     "execution_count": 55,
     "metadata": {},
     "output_type": "execute_result"
    }
   ],
   "source": [
    "log_scaled_grid = GridSearchCV(LogisticRegression(random_state=245), log_param_grid, cv=cv, n_jobs=n_jobs, verbose=verbose)\n",
    "log_scaled_grid.fit(X_scaled_val, y_scaled_val)"
   ]
  },
  {
   "cell_type": "code",
   "execution_count": 56,
   "id": "6bba940c",
   "metadata": {},
   "outputs": [
    {
     "name": "stdout",
     "output_type": "stream",
     "text": [
      "{'C': 1, 'penalty': 'l1', 'solver': 'liblinear'}\n"
     ]
    }
   ],
   "source": [
    "print(log_scaled_grid.best_params_)"
   ]
  },
  {
   "cell_type": "code",
   "execution_count": 57,
   "id": "b06b35cb",
   "metadata": {},
   "outputs": [
    {
     "data": {
      "text/html": [
       "<style>#sk-container-id-3 {color: black;}#sk-container-id-3 pre{padding: 0;}#sk-container-id-3 div.sk-toggleable {background-color: white;}#sk-container-id-3 label.sk-toggleable__label {cursor: pointer;display: block;width: 100%;margin-bottom: 0;padding: 0.3em;box-sizing: border-box;text-align: center;}#sk-container-id-3 label.sk-toggleable__label-arrow:before {content: \"▸\";float: left;margin-right: 0.25em;color: #696969;}#sk-container-id-3 label.sk-toggleable__label-arrow:hover:before {color: black;}#sk-container-id-3 div.sk-estimator:hover label.sk-toggleable__label-arrow:before {color: black;}#sk-container-id-3 div.sk-toggleable__content {max-height: 0;max-width: 0;overflow: hidden;text-align: left;background-color: #f0f8ff;}#sk-container-id-3 div.sk-toggleable__content pre {margin: 0.2em;color: black;border-radius: 0.25em;background-color: #f0f8ff;}#sk-container-id-3 input.sk-toggleable__control:checked~div.sk-toggleable__content {max-height: 200px;max-width: 100%;overflow: auto;}#sk-container-id-3 input.sk-toggleable__control:checked~label.sk-toggleable__label-arrow:before {content: \"▾\";}#sk-container-id-3 div.sk-estimator input.sk-toggleable__control:checked~label.sk-toggleable__label {background-color: #d4ebff;}#sk-container-id-3 div.sk-label input.sk-toggleable__control:checked~label.sk-toggleable__label {background-color: #d4ebff;}#sk-container-id-3 input.sk-hidden--visually {border: 0;clip: rect(1px 1px 1px 1px);clip: rect(1px, 1px, 1px, 1px);height: 1px;margin: -1px;overflow: hidden;padding: 0;position: absolute;width: 1px;}#sk-container-id-3 div.sk-estimator {font-family: monospace;background-color: #f0f8ff;border: 1px dotted black;border-radius: 0.25em;box-sizing: border-box;margin-bottom: 0.5em;}#sk-container-id-3 div.sk-estimator:hover {background-color: #d4ebff;}#sk-container-id-3 div.sk-parallel-item::after {content: \"\";width: 100%;border-bottom: 1px solid gray;flex-grow: 1;}#sk-container-id-3 div.sk-label:hover label.sk-toggleable__label {background-color: #d4ebff;}#sk-container-id-3 div.sk-serial::before {content: \"\";position: absolute;border-left: 1px solid gray;box-sizing: border-box;top: 0;bottom: 0;left: 50%;z-index: 0;}#sk-container-id-3 div.sk-serial {display: flex;flex-direction: column;align-items: center;background-color: white;padding-right: 0.2em;padding-left: 0.2em;position: relative;}#sk-container-id-3 div.sk-item {position: relative;z-index: 1;}#sk-container-id-3 div.sk-parallel {display: flex;align-items: stretch;justify-content: center;background-color: white;position: relative;}#sk-container-id-3 div.sk-item::before, #sk-container-id-3 div.sk-parallel-item::before {content: \"\";position: absolute;border-left: 1px solid gray;box-sizing: border-box;top: 0;bottom: 0;left: 50%;z-index: -1;}#sk-container-id-3 div.sk-parallel-item {display: flex;flex-direction: column;z-index: 1;position: relative;background-color: white;}#sk-container-id-3 div.sk-parallel-item:first-child::after {align-self: flex-end;width: 50%;}#sk-container-id-3 div.sk-parallel-item:last-child::after {align-self: flex-start;width: 50%;}#sk-container-id-3 div.sk-parallel-item:only-child::after {width: 0;}#sk-container-id-3 div.sk-dashed-wrapped {border: 1px dashed gray;margin: 0 0.4em 0.5em 0.4em;box-sizing: border-box;padding-bottom: 0.4em;background-color: white;}#sk-container-id-3 div.sk-label label {font-family: monospace;font-weight: bold;display: inline-block;line-height: 1.2em;}#sk-container-id-3 div.sk-label-container {text-align: center;}#sk-container-id-3 div.sk-container {/* jupyter's `normalize.less` sets `[hidden] { display: none; }` but bootstrap.min.css set `[hidden] { display: none !important; }` so we also need the `!important` here to be able to override the default hidden behavior on the sphinx rendered scikit-learn.org. See: https://github.com/scikit-learn/scikit-learn/issues/21755 */display: inline-block !important;position: relative;}#sk-container-id-3 div.sk-text-repr-fallback {display: none;}</style><div id=\"sk-container-id-3\" class=\"sk-top-container\"><div class=\"sk-text-repr-fallback\"><pre>LogisticRegression(C=1, penalty=&#x27;l1&#x27;, random_state=245, solver=&#x27;liblinear&#x27;)</pre><b>In a Jupyter environment, please rerun this cell to show the HTML representation or trust the notebook. <br />On GitHub, the HTML representation is unable to render, please try loading this page with nbviewer.org.</b></div><div class=\"sk-container\" hidden><div class=\"sk-item\"><div class=\"sk-estimator sk-toggleable\"><input class=\"sk-toggleable__control sk-hidden--visually\" id=\"sk-estimator-id-5\" type=\"checkbox\" checked><label for=\"sk-estimator-id-5\" class=\"sk-toggleable__label sk-toggleable__label-arrow\">LogisticRegression</label><div class=\"sk-toggleable__content\"><pre>LogisticRegression(C=1, penalty=&#x27;l1&#x27;, random_state=245, solver=&#x27;liblinear&#x27;)</pre></div></div></div></div></div>"
      ],
      "text/plain": [
       "LogisticRegression(C=1, penalty='l1', random_state=245, solver='liblinear')"
      ]
     },
     "execution_count": 57,
     "metadata": {},
     "output_type": "execute_result"
    }
   ],
   "source": [
    "log_scaled = LogisticRegression(**log_scaled_grid.best_params_, random_state=random_state)\n",
    "log_scaled.fit(X_scaled_train, y_scaled_train)"
   ]
  },
  {
   "cell_type": "code",
   "execution_count": 58,
   "id": "fffd27fb",
   "metadata": {},
   "outputs": [
    {
     "name": "stdout",
     "output_type": "stream",
     "text": [
      "              precision    recall  f1-score   support\n",
      "\n",
      "         0.0       1.00      0.99      0.99      7209\n",
      "         1.0       0.99      0.99      0.99      5550\n",
      "\n",
      "    accuracy                           0.99     12759\n",
      "   macro avg       0.99      0.99      0.99     12759\n",
      "weighted avg       0.99      0.99      0.99     12759\n",
      "\n"
     ]
    }
   ],
   "source": [
    "print(classification_report(y_scaled_test, log_scaled.predict(X_scaled_test)))"
   ]
  },
  {
   "cell_type": "code",
   "execution_count": 59,
   "id": "71f320fe",
   "metadata": {},
   "outputs": [
    {
     "name": "stdout",
     "output_type": "stream",
     "text": [
      "              precision    recall  f1-score   support\n",
      "\n",
      "         0.0       1.00      0.99      0.99      7209\n",
      "         1.0       0.99      0.99      0.99      5550\n",
      "\n",
      "    accuracy                           0.99     12759\n",
      "   macro avg       0.99      0.99      0.99     12759\n",
      "weighted avg       0.99      0.99      0.99     12759\n",
      "\n",
      "\n",
      "Model: Logistic Regression {'C': 1, 'penalty': 'l1', 'solver': 'liblinear'}\n",
      "Data size: 12759\n",
      "Accuracy: 0.9933380358962302\n",
      "Precision: 0.9899587591895285\n",
      "Recall: 0.9947747747747748\n",
      "F1: 0.9923609238788532\n",
      "Time per data per iter: 593.9305588212243\n"
     ]
    }
   ],
   "source": [
    "benchmarkAndUpdateResult(\n",
    "        df_known_attacks,\n",
    "        log_scaled,\n",
    "        f\"Logistic Regression {log_scaled_grid.best_params_}\",\n",
    "        \"Known attacks\",\n",
    "        \"All features scaled\",\n",
    "        pipeline_scaled,\n",
    "        scaler=scaler\n",
    "        )"
   ]
  },
  {
   "cell_type": "code",
   "execution_count": 60,
   "id": "ac9d1e3f",
   "metadata": {},
   "outputs": [
    {
     "name": "stdout",
     "output_type": "stream",
     "text": [
      "              precision    recall  f1-score   support\n",
      "\n",
      "           0       0.97      1.00      0.98     15969\n",
      "           1       1.00      0.95      0.97     10440\n",
      "\n",
      "    accuracy                           0.98     26409\n",
      "   macro avg       0.98      0.98      0.98     26409\n",
      "weighted avg       0.98      0.98      0.98     26409\n",
      "\n",
      "\n",
      "Model: Logistic Regression {'C': 1, 'penalty': 'l1', 'solver': 'liblinear'}\n",
      "Data size: 26409\n",
      "Accuracy: 0.9800446817372865\n",
      "Precision: 0.9951053840775147\n",
      "Recall: 0.9542145593869732\n",
      "F1: 0.9742310889443059\n",
      "Time per data per iter: 496.5754098981408\n"
     ]
    }
   ],
   "source": [
    "benchmarkAndUpdateResult(\n",
    "        df_similar_attacks,\n",
    "        log_scaled,\n",
    "        f\"Logistic Regression {log_scaled_grid.best_params_}\",\n",
    "        \"Similar attacks\",\n",
    "        \"All features scaled\",\n",
    "        pipeline_scaled,\n",
    "        scaler=scaler\n",
    "        )"
   ]
  },
  {
   "cell_type": "code",
   "execution_count": 61,
   "id": "c8324fa8",
   "metadata": {},
   "outputs": [
    {
     "name": "stdout",
     "output_type": "stream",
     "text": [
      "              precision    recall  f1-score   support\n",
      "\n",
      "           0       0.77      1.00      0.87     58138\n",
      "           1       0.85      0.04      0.08     17752\n",
      "\n",
      "    accuracy                           0.77     75890\n",
      "   macro avg       0.81      0.52      0.48     75890\n",
      "weighted avg       0.79      0.77      0.69     75890\n",
      "\n",
      "\n",
      "Model: Logistic Regression {'C': 1, 'penalty': 'l1', 'solver': 'liblinear'}\n",
      "Data size: 75890\n",
      "Accuracy: 0.7744762155751745\n",
      "Precision: 0.8450704225352113\n",
      "Recall: 0.04393871113114015\n",
      "F1: 0.08353413654618473\n",
      "Time per data per iter: 420.4474897878508\n"
     ]
    }
   ],
   "source": [
    "benchmarkAndUpdateResult(\n",
    "        df_new_attacks,\n",
    "        log_scaled,\n",
    "        f\"Logistic Regression {log_scaled_grid.best_params_}\",\n",
    "        \"New attacks\",\n",
    "        \"All features scaled\",\n",
    "        pipeline_scaled,\n",
    "        scaler=scaler\n",
    "        )"
   ]
  },
  {
   "cell_type": "code",
   "execution_count": 62,
   "id": "5410da89",
   "metadata": {},
   "outputs": [
    {
     "data": {
      "text/html": [
       "<div>\n",
       "<style scoped>\n",
       "    .dataframe tbody tr th:only-of-type {\n",
       "        vertical-align: middle;\n",
       "    }\n",
       "\n",
       "    .dataframe tbody tr th {\n",
       "        vertical-align: top;\n",
       "    }\n",
       "\n",
       "    .dataframe thead th {\n",
       "        text-align: right;\n",
       "    }\n",
       "</style>\n",
       "<table border=\"1\" class=\"dataframe\">\n",
       "  <thead>\n",
       "    <tr style=\"text-align: right;\">\n",
       "      <th></th>\n",
       "      <th>Model</th>\n",
       "      <th>Dataset</th>\n",
       "      <th>Info</th>\n",
       "      <th>Data size</th>\n",
       "      <th>Accuracy</th>\n",
       "      <th>Precision</th>\n",
       "      <th>Recall</th>\n",
       "      <th>F1</th>\n",
       "      <th>Time per data per iter</th>\n",
       "    </tr>\n",
       "  </thead>\n",
       "  <tbody>\n",
       "    <tr>\n",
       "      <th>0</th>\n",
       "      <td>Logistic Regression {'C': 1, 'penalty': 'l1', 'solver': 'liblinear'}</td>\n",
       "      <td>Known attacks</td>\n",
       "      <td>All features scaled</td>\n",
       "      <td>12759</td>\n",
       "      <td>0.993338</td>\n",
       "      <td>0.989959</td>\n",
       "      <td>0.994775</td>\n",
       "      <td>0.992361</td>\n",
       "      <td>593.930559</td>\n",
       "    </tr>\n",
       "    <tr>\n",
       "      <th>1</th>\n",
       "      <td>Logistic Regression {'C': 1, 'penalty': 'l1', 'solver': 'liblinear'}</td>\n",
       "      <td>Similar attacks</td>\n",
       "      <td>All features scaled</td>\n",
       "      <td>26409</td>\n",
       "      <td>0.980045</td>\n",
       "      <td>0.995105</td>\n",
       "      <td>0.954215</td>\n",
       "      <td>0.974231</td>\n",
       "      <td>496.575410</td>\n",
       "    </tr>\n",
       "    <tr>\n",
       "      <th>2</th>\n",
       "      <td>Logistic Regression {'C': 1, 'penalty': 'l1', 'solver': 'liblinear'}</td>\n",
       "      <td>New attacks</td>\n",
       "      <td>All features scaled</td>\n",
       "      <td>75890</td>\n",
       "      <td>0.774476</td>\n",
       "      <td>0.845070</td>\n",
       "      <td>0.043939</td>\n",
       "      <td>0.083534</td>\n",
       "      <td>420.447490</td>\n",
       "    </tr>\n",
       "  </tbody>\n",
       "</table>\n",
       "</div>"
      ],
      "text/plain": [
       "                                                                  Model          Dataset                 Info  Data size  Accuracy  Precision    Recall        F1  Time per data per iter\n",
       "0  Logistic Regression {'C': 1, 'penalty': 'l1', 'solver': 'liblinear'}    Known attacks  All features scaled      12759  0.993338   0.989959  0.994775  0.992361              593.930559\n",
       "1  Logistic Regression {'C': 1, 'penalty': 'l1', 'solver': 'liblinear'}  Similar attacks  All features scaled      26409  0.980045   0.995105  0.954215  0.974231              496.575410\n",
       "2  Logistic Regression {'C': 1, 'penalty': 'l1', 'solver': 'liblinear'}      New attacks  All features scaled      75890  0.774476   0.845070  0.043939  0.083534              420.447490"
      ]
     },
     "execution_count": 62,
     "metadata": {},
     "output_type": "execute_result"
    }
   ],
   "source": [
    "benchmark_results"
   ]
  },
  {
   "cell_type": "markdown",
   "id": "80532aeb",
   "metadata": {},
   "source": [
    "### Features with |correlation| > 0.1 scaled"
   ]
  },
  {
   "cell_type": "code",
   "execution_count": 63,
   "id": "6960555a",
   "metadata": {},
   "outputs": [
    {
     "data": {
      "text/html": [
       "<div>\n",
       "<style scoped>\n",
       "    .dataframe tbody tr th:only-of-type {\n",
       "        vertical-align: middle;\n",
       "    }\n",
       "\n",
       "    .dataframe tbody tr th {\n",
       "        vertical-align: top;\n",
       "    }\n",
       "\n",
       "    .dataframe thead th {\n",
       "        text-align: right;\n",
       "    }\n",
       "</style>\n",
       "<table border=\"1\" class=\"dataframe\">\n",
       "  <thead>\n",
       "    <tr style=\"text-align: right;\">\n",
       "      <th></th>\n",
       "      <th>ip_len</th>\n",
       "      <th>ip_DF</th>\n",
       "      <th>udp_sport</th>\n",
       "      <th>udp_len</th>\n",
       "      <th>icmp_code</th>\n",
       "      <th>icmp_chk</th>\n",
       "      <th>tcp_sport</th>\n",
       "      <th>tcp_dport</th>\n",
       "      <th>tcp_ack</th>\n",
       "      <th>tcp_ffyn</th>\n",
       "      <th>tcp_fsyn</th>\n",
       "      <th>tcp_fack</th>\n",
       "      <th>fr_length</th>\n",
       "      <th>conn_status</th>\n",
       "      <th>num_bytes_src_dst</th>\n",
       "      <th>num_bytes_dst_src</th>\n",
       "      <th>num_bytes_serv_src_dst</th>\n",
       "      <th>num_bytes_serv_dst_src</th>\n",
       "      <th>num_rst_dst_src</th>\n",
       "      <th>first_serv_packet</th>\n",
       "      <th>class</th>\n",
       "    </tr>\n",
       "  </thead>\n",
       "  <tbody>\n",
       "    <tr>\n",
       "      <th>0</th>\n",
       "      <td>2.357424</td>\n",
       "      <td>-0.756411</td>\n",
       "      <td>-0.411019</td>\n",
       "      <td>-0.37061</td>\n",
       "      <td>-0.135969</td>\n",
       "      <td>-0.138014</td>\n",
       "      <td>-1.137734</td>\n",
       "      <td>1.949417</td>\n",
       "      <td>1.289289</td>\n",
       "      <td>-0.674975</td>\n",
       "      <td>-0.693234</td>\n",
       "      <td>0.121177</td>\n",
       "      <td>2.345335</td>\n",
       "      <td>0.030635</td>\n",
       "      <td>-0.287266</td>\n",
       "      <td>0.906322</td>\n",
       "      <td>-0.178933</td>\n",
       "      <td>1.626457</td>\n",
       "      <td>-0.210164</td>\n",
       "      <td>-0.313641</td>\n",
       "      <td>0.0</td>\n",
       "    </tr>\n",
       "    <tr>\n",
       "      <th>1</th>\n",
       "      <td>2.357424</td>\n",
       "      <td>-0.756411</td>\n",
       "      <td>-0.411019</td>\n",
       "      <td>-0.37061</td>\n",
       "      <td>-0.135969</td>\n",
       "      <td>-0.138014</td>\n",
       "      <td>-1.137734</td>\n",
       "      <td>1.949417</td>\n",
       "      <td>1.289289</td>\n",
       "      <td>-0.674975</td>\n",
       "      <td>-0.693234</td>\n",
       "      <td>0.121177</td>\n",
       "      <td>2.345335</td>\n",
       "      <td>0.030635</td>\n",
       "      <td>-0.287266</td>\n",
       "      <td>0.906322</td>\n",
       "      <td>-0.178933</td>\n",
       "      <td>1.626457</td>\n",
       "      <td>-0.210164</td>\n",
       "      <td>-0.313641</td>\n",
       "      <td>0.0</td>\n",
       "    </tr>\n",
       "    <tr>\n",
       "      <th>2</th>\n",
       "      <td>-0.315216</td>\n",
       "      <td>-0.756411</td>\n",
       "      <td>-0.411019</td>\n",
       "      <td>-0.37061</td>\n",
       "      <td>-0.135969</td>\n",
       "      <td>-0.138014</td>\n",
       "      <td>1.258300</td>\n",
       "      <td>-0.663754</td>\n",
       "      <td>-0.445392</td>\n",
       "      <td>-0.674975</td>\n",
       "      <td>-0.693234</td>\n",
       "      <td>0.121177</td>\n",
       "      <td>-0.315189</td>\n",
       "      <td>-1.146024</td>\n",
       "      <td>-0.582023</td>\n",
       "      <td>-0.680948</td>\n",
       "      <td>-0.468717</td>\n",
       "      <td>-0.600078</td>\n",
       "      <td>-0.210164</td>\n",
       "      <td>3.188363</td>\n",
       "      <td>1.0</td>\n",
       "    </tr>\n",
       "    <tr>\n",
       "      <th>3</th>\n",
       "      <td>-0.252576</td>\n",
       "      <td>1.322033</td>\n",
       "      <td>-0.411019</td>\n",
       "      <td>-0.37061</td>\n",
       "      <td>-0.135969</td>\n",
       "      <td>-0.138014</td>\n",
       "      <td>1.158517</td>\n",
       "      <td>-0.663754</td>\n",
       "      <td>1.391738</td>\n",
       "      <td>-0.674975</td>\n",
       "      <td>-0.693234</td>\n",
       "      <td>0.121177</td>\n",
       "      <td>-0.283641</td>\n",
       "      <td>0.030635</td>\n",
       "      <td>-0.553556</td>\n",
       "      <td>-0.271239</td>\n",
       "      <td>-0.440730</td>\n",
       "      <td>-0.025361</td>\n",
       "      <td>-0.210164</td>\n",
       "      <td>-0.313641</td>\n",
       "      <td>0.0</td>\n",
       "    </tr>\n",
       "    <tr>\n",
       "      <th>4</th>\n",
       "      <td>-0.252576</td>\n",
       "      <td>1.322033</td>\n",
       "      <td>-0.411019</td>\n",
       "      <td>-0.37061</td>\n",
       "      <td>-0.135969</td>\n",
       "      <td>-0.138014</td>\n",
       "      <td>1.099910</td>\n",
       "      <td>-0.663754</td>\n",
       "      <td>1.391442</td>\n",
       "      <td>-0.674975</td>\n",
       "      <td>-0.693234</td>\n",
       "      <td>0.121177</td>\n",
       "      <td>-0.283641</td>\n",
       "      <td>0.030635</td>\n",
       "      <td>-0.286574</td>\n",
       "      <td>0.906322</td>\n",
       "      <td>-0.178253</td>\n",
       "      <td>1.626457</td>\n",
       "      <td>-0.210164</td>\n",
       "      <td>-0.313641</td>\n",
       "      <td>0.0</td>\n",
       "    </tr>\n",
       "  </tbody>\n",
       "</table>\n",
       "</div>"
      ],
      "text/plain": [
       "     ip_len     ip_DF  udp_sport  udp_len  icmp_code  icmp_chk  tcp_sport  tcp_dport   tcp_ack  tcp_ffyn  tcp_fsyn  tcp_fack  fr_length  conn_status  num_bytes_src_dst  num_bytes_dst_src  num_bytes_serv_src_dst  num_bytes_serv_dst_src  num_rst_dst_src  first_serv_packet  class\n",
       "0  2.357424 -0.756411  -0.411019 -0.37061  -0.135969 -0.138014  -1.137734   1.949417  1.289289 -0.674975 -0.693234  0.121177   2.345335     0.030635          -0.287266           0.906322               -0.178933                1.626457        -0.210164          -0.313641    0.0\n",
       "1  2.357424 -0.756411  -0.411019 -0.37061  -0.135969 -0.138014  -1.137734   1.949417  1.289289 -0.674975 -0.693234  0.121177   2.345335     0.030635          -0.287266           0.906322               -0.178933                1.626457        -0.210164          -0.313641    0.0\n",
       "2 -0.315216 -0.756411  -0.411019 -0.37061  -0.135969 -0.138014   1.258300  -0.663754 -0.445392 -0.674975 -0.693234  0.121177  -0.315189    -1.146024          -0.582023          -0.680948               -0.468717               -0.600078        -0.210164           3.188363    1.0\n",
       "3 -0.252576  1.322033  -0.411019 -0.37061  -0.135969 -0.138014   1.158517  -0.663754  1.391738 -0.674975 -0.693234  0.121177  -0.283641     0.030635          -0.553556          -0.271239               -0.440730               -0.025361        -0.210164          -0.313641    0.0\n",
       "4 -0.252576  1.322033  -0.411019 -0.37061  -0.135969 -0.138014   1.099910  -0.663754  1.391442 -0.674975 -0.693234  0.121177  -0.283641     0.030635          -0.286574           0.906322               -0.178253                1.626457        -0.210164          -0.313641    0.0"
      ]
     },
     "execution_count": 63,
     "metadata": {},
     "output_type": "execute_result"
    }
   ],
   "source": [
    "df_corr_gt1_scaled = pipeline_corr_gt1_scaled(df=df, scaler=scaler_gt1, cols=cols_corr_gt1)\n",
    "df_corr_gt1_scaled.head()"
   ]
  },
  {
   "cell_type": "code",
   "execution_count": 64,
   "id": "bcad4811",
   "metadata": {},
   "outputs": [],
   "source": [
    "(\n",
    "    X_corr_gt1_scaled_train,\n",
    "    X_corr_gt1_scaled_val,\n",
    "    X_corr_gt1_scaled_test,\n",
    "    y_corr_gt1_scaled_train,\n",
    "    y_corr_gt1_scaled_val,\n",
    "    y_corr_gt1_scaled_test,\n",
    ") = test_train_val_split(df_corr_gt1_scaled)"
   ]
  },
  {
   "cell_type": "code",
   "execution_count": 65,
   "id": "492507d4",
   "metadata": {},
   "outputs": [
    {
     "name": "stderr",
     "output_type": "stream",
     "text": [
      "c:\\Users\\harsh\\anaconda3\\Lib\\site-packages\\sklearn\\linear_model\\_logistic.py:460: ConvergenceWarning: lbfgs failed to converge (status=1):\n",
      "STOP: TOTAL NO. of ITERATIONS REACHED LIMIT.\n",
      "\n",
      "Increase the number of iterations (max_iter) or scale the data as shown in:\n",
      "    https://scikit-learn.org/stable/modules/preprocessing.html\n",
      "Please also refer to the documentation for alternative solver options:\n",
      "    https://scikit-learn.org/stable/modules/linear_model.html#logistic-regression\n",
      "  n_iter_i = _check_optimize_result(\n"
     ]
    },
    {
     "data": {
      "text/html": [
       "<style>#sk-container-id-4 {color: black;}#sk-container-id-4 pre{padding: 0;}#sk-container-id-4 div.sk-toggleable {background-color: white;}#sk-container-id-4 label.sk-toggleable__label {cursor: pointer;display: block;width: 100%;margin-bottom: 0;padding: 0.3em;box-sizing: border-box;text-align: center;}#sk-container-id-4 label.sk-toggleable__label-arrow:before {content: \"▸\";float: left;margin-right: 0.25em;color: #696969;}#sk-container-id-4 label.sk-toggleable__label-arrow:hover:before {color: black;}#sk-container-id-4 div.sk-estimator:hover label.sk-toggleable__label-arrow:before {color: black;}#sk-container-id-4 div.sk-toggleable__content {max-height: 0;max-width: 0;overflow: hidden;text-align: left;background-color: #f0f8ff;}#sk-container-id-4 div.sk-toggleable__content pre {margin: 0.2em;color: black;border-radius: 0.25em;background-color: #f0f8ff;}#sk-container-id-4 input.sk-toggleable__control:checked~div.sk-toggleable__content {max-height: 200px;max-width: 100%;overflow: auto;}#sk-container-id-4 input.sk-toggleable__control:checked~label.sk-toggleable__label-arrow:before {content: \"▾\";}#sk-container-id-4 div.sk-estimator input.sk-toggleable__control:checked~label.sk-toggleable__label {background-color: #d4ebff;}#sk-container-id-4 div.sk-label input.sk-toggleable__control:checked~label.sk-toggleable__label {background-color: #d4ebff;}#sk-container-id-4 input.sk-hidden--visually {border: 0;clip: rect(1px 1px 1px 1px);clip: rect(1px, 1px, 1px, 1px);height: 1px;margin: -1px;overflow: hidden;padding: 0;position: absolute;width: 1px;}#sk-container-id-4 div.sk-estimator {font-family: monospace;background-color: #f0f8ff;border: 1px dotted black;border-radius: 0.25em;box-sizing: border-box;margin-bottom: 0.5em;}#sk-container-id-4 div.sk-estimator:hover {background-color: #d4ebff;}#sk-container-id-4 div.sk-parallel-item::after {content: \"\";width: 100%;border-bottom: 1px solid gray;flex-grow: 1;}#sk-container-id-4 div.sk-label:hover label.sk-toggleable__label {background-color: #d4ebff;}#sk-container-id-4 div.sk-serial::before {content: \"\";position: absolute;border-left: 1px solid gray;box-sizing: border-box;top: 0;bottom: 0;left: 50%;z-index: 0;}#sk-container-id-4 div.sk-serial {display: flex;flex-direction: column;align-items: center;background-color: white;padding-right: 0.2em;padding-left: 0.2em;position: relative;}#sk-container-id-4 div.sk-item {position: relative;z-index: 1;}#sk-container-id-4 div.sk-parallel {display: flex;align-items: stretch;justify-content: center;background-color: white;position: relative;}#sk-container-id-4 div.sk-item::before, #sk-container-id-4 div.sk-parallel-item::before {content: \"\";position: absolute;border-left: 1px solid gray;box-sizing: border-box;top: 0;bottom: 0;left: 50%;z-index: -1;}#sk-container-id-4 div.sk-parallel-item {display: flex;flex-direction: column;z-index: 1;position: relative;background-color: white;}#sk-container-id-4 div.sk-parallel-item:first-child::after {align-self: flex-end;width: 50%;}#sk-container-id-4 div.sk-parallel-item:last-child::after {align-self: flex-start;width: 50%;}#sk-container-id-4 div.sk-parallel-item:only-child::after {width: 0;}#sk-container-id-4 div.sk-dashed-wrapped {border: 1px dashed gray;margin: 0 0.4em 0.5em 0.4em;box-sizing: border-box;padding-bottom: 0.4em;background-color: white;}#sk-container-id-4 div.sk-label label {font-family: monospace;font-weight: bold;display: inline-block;line-height: 1.2em;}#sk-container-id-4 div.sk-label-container {text-align: center;}#sk-container-id-4 div.sk-container {/* jupyter's `normalize.less` sets `[hidden] { display: none; }` but bootstrap.min.css set `[hidden] { display: none !important; }` so we also need the `!important` here to be able to override the default hidden behavior on the sphinx rendered scikit-learn.org. See: https://github.com/scikit-learn/scikit-learn/issues/21755 */display: inline-block !important;position: relative;}#sk-container-id-4 div.sk-text-repr-fallback {display: none;}</style><div id=\"sk-container-id-4\" class=\"sk-top-container\"><div class=\"sk-text-repr-fallback\"><pre>LogisticRegression(random_state=245)</pre><b>In a Jupyter environment, please rerun this cell to show the HTML representation or trust the notebook. <br />On GitHub, the HTML representation is unable to render, please try loading this page with nbviewer.org.</b></div><div class=\"sk-container\" hidden><div class=\"sk-item\"><div class=\"sk-estimator sk-toggleable\"><input class=\"sk-toggleable__control sk-hidden--visually\" id=\"sk-estimator-id-6\" type=\"checkbox\" checked><label for=\"sk-estimator-id-6\" class=\"sk-toggleable__label sk-toggleable__label-arrow\">LogisticRegression</label><div class=\"sk-toggleable__content\"><pre>LogisticRegression(random_state=245)</pre></div></div></div></div></div>"
      ],
      "text/plain": [
       "LogisticRegression(random_state=245)"
      ]
     },
     "execution_count": 65,
     "metadata": {},
     "output_type": "execute_result"
    }
   ],
   "source": [
    "log_corr_gt1_scaled_baseline = LogisticRegression(random_state=random_state)\n",
    "log_corr_gt1_scaled_baseline.fit(X_corr_gt1_scaled_train, y_corr_gt1_scaled_train)"
   ]
  },
  {
   "cell_type": "code",
   "execution_count": 66,
   "id": "682b08e2",
   "metadata": {},
   "outputs": [
    {
     "name": "stdout",
     "output_type": "stream",
     "text": [
      "              precision    recall  f1-score   support\n",
      "\n",
      "         0.0       0.99      0.98      0.98      7154\n",
      "         1.0       0.97      0.99      0.98      5605\n",
      "\n",
      "    accuracy                           0.98     12759\n",
      "   macro avg       0.98      0.98      0.98     12759\n",
      "weighted avg       0.98      0.98      0.98     12759\n",
      "\n"
     ]
    }
   ],
   "source": [
    "print(classification_report(y_corr_gt1_scaled_val, log_corr_gt1_scaled_baseline.predict(X_corr_gt1_scaled_val)))"
   ]
  },
  {
   "cell_type": "code",
   "execution_count": 67,
   "id": "b9abc488",
   "metadata": {},
   "outputs": [
    {
     "name": "stdout",
     "output_type": "stream",
     "text": [
      "Fitting 3 folds for each of 100 candidates, totalling 300 fits\n",
      "[CV 1/3] END C=0.01, penalty=l1, solver=newton-cg;, score=nan total time=   0.0s\n",
      "[CV 2/3] END C=0.01, penalty=l1, solver=newton-cg;, score=nan total time=   0.0s\n",
      "[CV 3/3] END C=0.01, penalty=l1, solver=newton-cg;, score=nan total time=   0.0s\n",
      "[CV 1/3] END ....C=0.01, penalty=l1, solver=lbfgs;, score=nan total time=   0.0s\n",
      "[CV 2/3] END ....C=0.01, penalty=l1, solver=lbfgs;, score=nan total time=   0.0s\n",
      "[CV 3/3] END ....C=0.01, penalty=l1, solver=lbfgs;, score=nan total time=   0.0s\n",
      "[CV 1/3] END C=0.01, penalty=l1, solver=liblinear;, score=0.978 total time=   0.0s\n",
      "[CV 2/3] END C=0.01, penalty=l1, solver=liblinear;, score=0.980 total time=   0.0s\n",
      "[CV 3/3] END C=0.01, penalty=l1, solver=liblinear;, score=0.976 total time=   0.0s\n",
      "[CV 1/3] END ......C=0.01, penalty=l1, solver=sag;, score=nan total time=   0.0s\n",
      "[CV 2/3] END ......C=0.01, penalty=l1, solver=sag;, score=nan total time=   0.0s\n",
      "[CV 3/3] END ......C=0.01, penalty=l1, solver=sag;, score=nan total time=   0.0s\n",
      "[CV 1/3] END ...C=0.01, penalty=l1, solver=saga;, score=0.977 total time=   0.0s\n"
     ]
    },
    {
     "name": "stderr",
     "output_type": "stream",
     "text": [
      "c:\\Users\\harsh\\anaconda3\\Lib\\site-packages\\sklearn\\linear_model\\_sag.py:350: ConvergenceWarning: The max_iter was reached which means the coef_ did not converge\n",
      "  warnings.warn(\n",
      "c:\\Users\\harsh\\anaconda3\\Lib\\site-packages\\sklearn\\linear_model\\_sag.py:350: ConvergenceWarning: The max_iter was reached which means the coef_ did not converge\n",
      "  warnings.warn(\n"
     ]
    },
    {
     "name": "stdout",
     "output_type": "stream",
     "text": [
      "[CV 2/3] END ...C=0.01, penalty=l1, solver=saga;, score=0.980 total time=   0.1s\n",
      "[CV 3/3] END ...C=0.01, penalty=l1, solver=saga;, score=0.977 total time=   0.1s\n",
      "[CV 1/3] END C=0.01, penalty=l2, solver=newton-cg;, score=0.978 total time=   0.0s\n",
      "[CV 2/3] END C=0.01, penalty=l2, solver=newton-cg;, score=0.980 total time=   0.0s\n",
      "[CV 3/3] END C=0.01, penalty=l2, solver=newton-cg;, score=0.976 total time=   0.0s\n",
      "[CV 1/3] END ..C=0.01, penalty=l2, solver=lbfgs;, score=0.978 total time=   0.0s\n",
      "[CV 2/3] END ..C=0.01, penalty=l2, solver=lbfgs;, score=0.980 total time=   0.0s\n",
      "[CV 3/3] END ..C=0.01, penalty=l2, solver=lbfgs;, score=0.976 total time=   0.0s\n",
      "[CV 1/3] END C=0.01, penalty=l2, solver=liblinear;, score=0.979 total time=   0.0s\n",
      "[CV 2/3] END C=0.01, penalty=l2, solver=liblinear;, score=0.980 total time=   0.0s\n",
      "[CV 3/3] END C=0.01, penalty=l2, solver=liblinear;, score=0.976 total time=   0.0s\n",
      "[CV 1/3] END ....C=0.01, penalty=l2, solver=sag;, score=0.978 total time=   0.0s\n",
      "[CV 2/3] END ....C=0.01, penalty=l2, solver=sag;, score=0.980 total time=   0.0s\n",
      "[CV 3/3] END ....C=0.01, penalty=l2, solver=sag;, score=0.976 total time=   0.0s\n",
      "[CV 1/3] END ...C=0.01, penalty=l2, solver=saga;, score=0.978 total time=   0.0s\n",
      "[CV 2/3] END ...C=0.01, penalty=l2, solver=saga;, score=0.980 total time=   0.0s\n",
      "[CV 3/3] END ...C=0.01, penalty=l2, solver=saga;, score=0.976 total time=   0.0s\n",
      "[CV 1/3] END C=0.01, penalty=elasticnet, solver=newton-cg;, score=nan total time=   0.0s\n",
      "[CV 2/3] END C=0.01, penalty=elasticnet, solver=newton-cg;, score=nan total time=   0.0s\n",
      "[CV 3/3] END C=0.01, penalty=elasticnet, solver=newton-cg;, score=nan total time=   0.0s\n",
      "[CV 1/3] END C=0.01, penalty=elasticnet, solver=lbfgs;, score=nan total time=   0.0s\n",
      "[CV 2/3] END C=0.01, penalty=elasticnet, solver=lbfgs;, score=nan total time=   0.0s\n",
      "[CV 3/3] END C=0.01, penalty=elasticnet, solver=lbfgs;, score=nan total time=   0.0s\n",
      "[CV 1/3] END C=0.01, penalty=elasticnet, solver=liblinear;, score=nan total time=   0.0s\n",
      "[CV 2/3] END C=0.01, penalty=elasticnet, solver=liblinear;, score=nan total time=   0.0s\n",
      "[CV 3/3] END C=0.01, penalty=elasticnet, solver=liblinear;, score=nan total time=   0.0s\n",
      "[CV 1/3] END C=0.01, penalty=elasticnet, solver=sag;, score=nan total time=   0.0s\n",
      "[CV 2/3] END C=0.01, penalty=elasticnet, solver=sag;, score=nan total time=   0.0s\n",
      "[CV 3/3] END C=0.01, penalty=elasticnet, solver=sag;, score=nan total time=   0.0s\n",
      "[CV 1/3] END C=0.01, penalty=elasticnet, solver=saga;, score=nan total time=   0.0s\n",
      "[CV 2/3] END C=0.01, penalty=elasticnet, solver=saga;, score=nan total time=   0.0s\n",
      "[CV 3/3] END C=0.01, penalty=elasticnet, solver=saga;, score=nan total time=   0.0s\n"
     ]
    },
    {
     "name": "stderr",
     "output_type": "stream",
     "text": [
      "c:\\Users\\harsh\\anaconda3\\Lib\\site-packages\\sklearn\\linear_model\\_logistic.py:1183: FutureWarning: `penalty='none'`has been deprecated in 1.2 and will be removed in 1.4. To keep the past behaviour, set `penalty=None`.\n",
      "  warnings.warn(\n",
      "c:\\Users\\harsh\\anaconda3\\Lib\\site-packages\\sklearn\\linear_model\\_logistic.py:1193: UserWarning: Setting penalty=None will ignore the C and l1_ratio parameters\n",
      "  warnings.warn(\n"
     ]
    },
    {
     "name": "stdout",
     "output_type": "stream",
     "text": [
      "[CV 1/3] END C=0.01, penalty=none, solver=newton-cg;, score=0.989 total time=   0.2s\n"
     ]
    },
    {
     "name": "stderr",
     "output_type": "stream",
     "text": [
      "c:\\Users\\harsh\\anaconda3\\Lib\\site-packages\\sklearn\\linear_model\\_logistic.py:1183: FutureWarning: `penalty='none'`has been deprecated in 1.2 and will be removed in 1.4. To keep the past behaviour, set `penalty=None`.\n",
      "  warnings.warn(\n",
      "c:\\Users\\harsh\\anaconda3\\Lib\\site-packages\\sklearn\\linear_model\\_logistic.py:1193: UserWarning: Setting penalty=None will ignore the C and l1_ratio parameters\n",
      "  warnings.warn(\n"
     ]
    },
    {
     "name": "stdout",
     "output_type": "stream",
     "text": [
      "[CV 2/3] END C=0.01, penalty=none, solver=newton-cg;, score=0.994 total time=   0.3s\n"
     ]
    },
    {
     "name": "stderr",
     "output_type": "stream",
     "text": [
      "c:\\Users\\harsh\\anaconda3\\Lib\\site-packages\\sklearn\\linear_model\\_logistic.py:1183: FutureWarning: `penalty='none'`has been deprecated in 1.2 and will be removed in 1.4. To keep the past behaviour, set `penalty=None`.\n",
      "  warnings.warn(\n",
      "c:\\Users\\harsh\\anaconda3\\Lib\\site-packages\\sklearn\\linear_model\\_logistic.py:1193: UserWarning: Setting penalty=None will ignore the C and l1_ratio parameters\n",
      "  warnings.warn(\n"
     ]
    },
    {
     "name": "stdout",
     "output_type": "stream",
     "text": [
      "[CV 3/3] END C=0.01, penalty=none, solver=newton-cg;, score=0.988 total time=   0.3s\n",
      "[CV 1/3] END C=0.01, penalty=none, solver=lbfgs;, score=0.989 total time=   0.0s\n",
      "[CV 2/3] END C=0.01, penalty=none, solver=lbfgs;, score=0.990 total time=   0.0s\n",
      "[CV 3/3] END C=0.01, penalty=none, solver=lbfgs;, score=0.988 total time=   0.0s\n",
      "[CV 1/3] END C=0.01, penalty=none, solver=liblinear;, score=nan total time=   0.0s\n",
      "[CV 2/3] END C=0.01, penalty=none, solver=liblinear;, score=nan total time=   0.0s\n",
      "[CV 3/3] END C=0.01, penalty=none, solver=liblinear;, score=nan total time=   0.0s\n"
     ]
    },
    {
     "name": "stderr",
     "output_type": "stream",
     "text": [
      "c:\\Users\\harsh\\anaconda3\\Lib\\site-packages\\sklearn\\linear_model\\_logistic.py:1183: FutureWarning: `penalty='none'`has been deprecated in 1.2 and will be removed in 1.4. To keep the past behaviour, set `penalty=None`.\n",
      "  warnings.warn(\n",
      "c:\\Users\\harsh\\anaconda3\\Lib\\site-packages\\sklearn\\linear_model\\_logistic.py:1193: UserWarning: Setting penalty=None will ignore the C and l1_ratio parameters\n",
      "  warnings.warn(\n",
      "c:\\Users\\harsh\\anaconda3\\Lib\\site-packages\\sklearn\\linear_model\\_logistic.py:460: ConvergenceWarning: lbfgs failed to converge (status=1):\n",
      "STOP: TOTAL NO. of ITERATIONS REACHED LIMIT.\n",
      "\n",
      "Increase the number of iterations (max_iter) or scale the data as shown in:\n",
      "    https://scikit-learn.org/stable/modules/preprocessing.html\n",
      "Please also refer to the documentation for alternative solver options:\n",
      "    https://scikit-learn.org/stable/modules/linear_model.html#logistic-regression\n",
      "  n_iter_i = _check_optimize_result(\n",
      "c:\\Users\\harsh\\anaconda3\\Lib\\site-packages\\sklearn\\linear_model\\_logistic.py:1183: FutureWarning: `penalty='none'`has been deprecated in 1.2 and will be removed in 1.4. To keep the past behaviour, set `penalty=None`.\n",
      "  warnings.warn(\n",
      "c:\\Users\\harsh\\anaconda3\\Lib\\site-packages\\sklearn\\linear_model\\_logistic.py:1193: UserWarning: Setting penalty=None will ignore the C and l1_ratio parameters\n",
      "  warnings.warn(\n",
      "c:\\Users\\harsh\\anaconda3\\Lib\\site-packages\\sklearn\\linear_model\\_logistic.py:460: ConvergenceWarning: lbfgs failed to converge (status=1):\n",
      "STOP: TOTAL NO. of ITERATIONS REACHED LIMIT.\n",
      "\n",
      "Increase the number of iterations (max_iter) or scale the data as shown in:\n",
      "    https://scikit-learn.org/stable/modules/preprocessing.html\n",
      "Please also refer to the documentation for alternative solver options:\n",
      "    https://scikit-learn.org/stable/modules/linear_model.html#logistic-regression\n",
      "  n_iter_i = _check_optimize_result(\n",
      "c:\\Users\\harsh\\anaconda3\\Lib\\site-packages\\sklearn\\linear_model\\_logistic.py:1183: FutureWarning: `penalty='none'`has been deprecated in 1.2 and will be removed in 1.4. To keep the past behaviour, set `penalty=None`.\n",
      "  warnings.warn(\n",
      "c:\\Users\\harsh\\anaconda3\\Lib\\site-packages\\sklearn\\linear_model\\_logistic.py:1193: UserWarning: Setting penalty=None will ignore the C and l1_ratio parameters\n",
      "  warnings.warn(\n",
      "c:\\Users\\harsh\\anaconda3\\Lib\\site-packages\\sklearn\\linear_model\\_logistic.py:460: ConvergenceWarning: lbfgs failed to converge (status=1):\n",
      "STOP: TOTAL NO. of ITERATIONS REACHED LIMIT.\n",
      "\n",
      "Increase the number of iterations (max_iter) or scale the data as shown in:\n",
      "    https://scikit-learn.org/stable/modules/preprocessing.html\n",
      "Please also refer to the documentation for alternative solver options:\n",
      "    https://scikit-learn.org/stable/modules/linear_model.html#logistic-regression\n",
      "  n_iter_i = _check_optimize_result(\n",
      "c:\\Users\\harsh\\anaconda3\\Lib\\site-packages\\sklearn\\linear_model\\_logistic.py:1183: FutureWarning: `penalty='none'`has been deprecated in 1.2 and will be removed in 1.4. To keep the past behaviour, set `penalty=None`.\n",
      "  warnings.warn(\n",
      "c:\\Users\\harsh\\anaconda3\\Lib\\site-packages\\sklearn\\linear_model\\_logistic.py:1193: UserWarning: Setting penalty=None will ignore the C and l1_ratio parameters\n",
      "  warnings.warn(\n",
      "c:\\Users\\harsh\\anaconda3\\Lib\\site-packages\\sklearn\\linear_model\\_sag.py:350: ConvergenceWarning: The max_iter was reached which means the coef_ did not converge\n",
      "  warnings.warn(\n",
      "c:\\Users\\harsh\\anaconda3\\Lib\\site-packages\\sklearn\\linear_model\\_logistic.py:1183: FutureWarning: `penalty='none'`has been deprecated in 1.2 and will be removed in 1.4. To keep the past behaviour, set `penalty=None`.\n",
      "  warnings.warn(\n",
      "c:\\Users\\harsh\\anaconda3\\Lib\\site-packages\\sklearn\\linear_model\\_logistic.py:1193: UserWarning: Setting penalty=None will ignore the C and l1_ratio parameters\n",
      "  warnings.warn(\n",
      "c:\\Users\\harsh\\anaconda3\\Lib\\site-packages\\sklearn\\linear_model\\_sag.py:350: ConvergenceWarning: The max_iter was reached which means the coef_ did not converge\n",
      "  warnings.warn(\n",
      "c:\\Users\\harsh\\anaconda3\\Lib\\site-packages\\sklearn\\linear_model\\_logistic.py:1183: FutureWarning: `penalty='none'`has been deprecated in 1.2 and will be removed in 1.4. To keep the past behaviour, set `penalty=None`.\n",
      "  warnings.warn(\n",
      "c:\\Users\\harsh\\anaconda3\\Lib\\site-packages\\sklearn\\linear_model\\_logistic.py:1193: UserWarning: Setting penalty=None will ignore the C and l1_ratio parameters\n",
      "  warnings.warn(\n"
     ]
    },
    {
     "name": "stdout",
     "output_type": "stream",
     "text": [
      "[CV 1/3] END ..C=0.01, penalty=none, solver=sag;, score=0.981 total time=   0.0s\n",
      "[CV 2/3] END ..C=0.01, penalty=none, solver=sag;, score=0.982 total time=   0.0s\n"
     ]
    },
    {
     "name": "stderr",
     "output_type": "stream",
     "text": [
      "c:\\Users\\harsh\\anaconda3\\Lib\\site-packages\\sklearn\\linear_model\\_sag.py:350: ConvergenceWarning: The max_iter was reached which means the coef_ did not converge\n",
      "  warnings.warn(\n",
      "c:\\Users\\harsh\\anaconda3\\Lib\\site-packages\\sklearn\\linear_model\\_logistic.py:1183: FutureWarning: `penalty='none'`has been deprecated in 1.2 and will be removed in 1.4. To keep the past behaviour, set `penalty=None`.\n",
      "  warnings.warn(\n",
      "c:\\Users\\harsh\\anaconda3\\Lib\\site-packages\\sklearn\\linear_model\\_logistic.py:1193: UserWarning: Setting penalty=None will ignore the C and l1_ratio parameters\n",
      "  warnings.warn(\n",
      "c:\\Users\\harsh\\anaconda3\\Lib\\site-packages\\sklearn\\linear_model\\_sag.py:350: ConvergenceWarning: The max_iter was reached which means the coef_ did not converge\n",
      "  warnings.warn(\n",
      "c:\\Users\\harsh\\anaconda3\\Lib\\site-packages\\sklearn\\linear_model\\_logistic.py:1183: FutureWarning: `penalty='none'`has been deprecated in 1.2 and will be removed in 1.4. To keep the past behaviour, set `penalty=None`.\n",
      "  warnings.warn(\n",
      "c:\\Users\\harsh\\anaconda3\\Lib\\site-packages\\sklearn\\linear_model\\_logistic.py:1193: UserWarning: Setting penalty=None will ignore the C and l1_ratio parameters\n",
      "  warnings.warn(\n"
     ]
    },
    {
     "name": "stdout",
     "output_type": "stream",
     "text": [
      "[CV 3/3] END ..C=0.01, penalty=none, solver=sag;, score=0.977 total time=   0.0s\n",
      "[CV 1/3] END .C=0.01, penalty=none, solver=saga;, score=0.981 total time=   0.0s\n"
     ]
    },
    {
     "name": "stderr",
     "output_type": "stream",
     "text": [
      "c:\\Users\\harsh\\anaconda3\\Lib\\site-packages\\sklearn\\linear_model\\_sag.py:350: ConvergenceWarning: The max_iter was reached which means the coef_ did not converge\n",
      "  warnings.warn(\n",
      "c:\\Users\\harsh\\anaconda3\\Lib\\site-packages\\sklearn\\linear_model\\_logistic.py:1183: FutureWarning: `penalty='none'`has been deprecated in 1.2 and will be removed in 1.4. To keep the past behaviour, set `penalty=None`.\n",
      "  warnings.warn(\n",
      "c:\\Users\\harsh\\anaconda3\\Lib\\site-packages\\sklearn\\linear_model\\_logistic.py:1193: UserWarning: Setting penalty=None will ignore the C and l1_ratio parameters\n",
      "  warnings.warn(\n",
      "c:\\Users\\harsh\\anaconda3\\Lib\\site-packages\\sklearn\\linear_model\\_sag.py:350: ConvergenceWarning: The max_iter was reached which means the coef_ did not converge\n",
      "  warnings.warn(\n"
     ]
    },
    {
     "name": "stdout",
     "output_type": "stream",
     "text": [
      "[CV 2/3] END .C=0.01, penalty=none, solver=saga;, score=0.981 total time=   0.1s\n",
      "[CV 3/3] END .C=0.01, penalty=none, solver=saga;, score=0.977 total time=   0.0s\n",
      "[CV 1/3] END .C=0.1, penalty=l1, solver=newton-cg;, score=nan total time=   0.0s\n",
      "[CV 2/3] END .C=0.1, penalty=l1, solver=newton-cg;, score=nan total time=   0.0s\n",
      "[CV 3/3] END .C=0.1, penalty=l1, solver=newton-cg;, score=nan total time=   0.0s\n",
      "[CV 1/3] END .....C=0.1, penalty=l1, solver=lbfgs;, score=nan total time=   0.0s\n",
      "[CV 2/3] END .....C=0.1, penalty=l1, solver=lbfgs;, score=nan total time=   0.0s\n",
      "[CV 3/3] END .....C=0.1, penalty=l1, solver=lbfgs;, score=nan total time=   0.0s\n",
      "[CV 1/3] END C=0.1, penalty=l1, solver=liblinear;, score=0.981 total time=   0.0s\n",
      "[CV 2/3] END C=0.1, penalty=l1, solver=liblinear;, score=0.981 total time=   0.0s\n",
      "[CV 3/3] END C=0.1, penalty=l1, solver=liblinear;, score=0.977 total time=   0.0s\n",
      "[CV 1/3] END .......C=0.1, penalty=l1, solver=sag;, score=nan total time=   0.0s\n",
      "[CV 2/3] END .......C=0.1, penalty=l1, solver=sag;, score=nan total time=   0.0s\n",
      "[CV 3/3] END .......C=0.1, penalty=l1, solver=sag;, score=nan total time=   0.0s\n",
      "[CV 1/3] END ....C=0.1, penalty=l1, solver=saga;, score=0.981 total time=   0.1s\n"
     ]
    },
    {
     "name": "stderr",
     "output_type": "stream",
     "text": [
      "c:\\Users\\harsh\\anaconda3\\Lib\\site-packages\\sklearn\\linear_model\\_sag.py:350: ConvergenceWarning: The max_iter was reached which means the coef_ did not converge\n",
      "  warnings.warn(\n",
      "c:\\Users\\harsh\\anaconda3\\Lib\\site-packages\\sklearn\\linear_model\\_sag.py:350: ConvergenceWarning: The max_iter was reached which means the coef_ did not converge\n",
      "  warnings.warn(\n"
     ]
    },
    {
     "name": "stdout",
     "output_type": "stream",
     "text": [
      "[CV 2/3] END ....C=0.1, penalty=l1, solver=saga;, score=0.982 total time=   0.1s\n",
      "[CV 3/3] END ....C=0.1, penalty=l1, solver=saga;, score=0.977 total time=   0.1s\n",
      "[CV 1/3] END C=0.1, penalty=l2, solver=newton-cg;, score=0.981 total time=   0.0s\n"
     ]
    },
    {
     "name": "stderr",
     "output_type": "stream",
     "text": [
      "c:\\Users\\harsh\\anaconda3\\Lib\\site-packages\\sklearn\\linear_model\\_sag.py:350: ConvergenceWarning: The max_iter was reached which means the coef_ did not converge\n",
      "  warnings.warn(\n"
     ]
    },
    {
     "name": "stdout",
     "output_type": "stream",
     "text": [
      "[CV 2/3] END C=0.1, penalty=l2, solver=newton-cg;, score=0.980 total time=   0.0s\n",
      "[CV 3/3] END C=0.1, penalty=l2, solver=newton-cg;, score=0.976 total time=   0.0s\n",
      "[CV 1/3] END ...C=0.1, penalty=l2, solver=lbfgs;, score=0.981 total time=   0.0s\n",
      "[CV 2/3] END ...C=0.1, penalty=l2, solver=lbfgs;, score=0.980 total time=   0.0s\n",
      "[CV 3/3] END ...C=0.1, penalty=l2, solver=lbfgs;, score=0.976 total time=   0.0s\n",
      "[CV 1/3] END C=0.1, penalty=l2, solver=liblinear;, score=0.980 total time=   0.0s\n",
      "[CV 2/3] END C=0.1, penalty=l2, solver=liblinear;, score=0.980 total time=   0.0s\n",
      "[CV 3/3] END C=0.1, penalty=l2, solver=liblinear;, score=0.976 total time=   0.0s\n",
      "[CV 1/3] END .....C=0.1, penalty=l2, solver=sag;, score=0.981 total time=   0.0s\n",
      "[CV 2/3] END .....C=0.1, penalty=l2, solver=sag;, score=0.980 total time=   0.0s\n",
      "[CV 3/3] END .....C=0.1, penalty=l2, solver=sag;, score=0.976 total time=   0.0s\n",
      "[CV 1/3] END ....C=0.1, penalty=l2, solver=saga;, score=0.981 total time=   0.1s\n"
     ]
    },
    {
     "name": "stderr",
     "output_type": "stream",
     "text": [
      "c:\\Users\\harsh\\anaconda3\\Lib\\site-packages\\sklearn\\linear_model\\_sag.py:350: ConvergenceWarning: The max_iter was reached which means the coef_ did not converge\n",
      "  warnings.warn(\n",
      "c:\\Users\\harsh\\anaconda3\\Lib\\site-packages\\sklearn\\linear_model\\_sag.py:350: ConvergenceWarning: The max_iter was reached which means the coef_ did not converge\n",
      "  warnings.warn(\n"
     ]
    },
    {
     "name": "stdout",
     "output_type": "stream",
     "text": [
      "[CV 2/3] END ....C=0.1, penalty=l2, solver=saga;, score=0.980 total time=   0.0s\n",
      "[CV 3/3] END ....C=0.1, penalty=l2, solver=saga;, score=0.976 total time=   0.0s\n",
      "[CV 1/3] END C=0.1, penalty=elasticnet, solver=newton-cg;, score=nan total time=   0.0s\n",
      "[CV 2/3] END C=0.1, penalty=elasticnet, solver=newton-cg;, score=nan total time=   0.0s\n",
      "[CV 3/3] END C=0.1, penalty=elasticnet, solver=newton-cg;, score=nan total time=   0.0s\n",
      "[CV 1/3] END C=0.1, penalty=elasticnet, solver=lbfgs;, score=nan total time=   0.0s\n",
      "[CV 2/3] END C=0.1, penalty=elasticnet, solver=lbfgs;, score=nan total time=   0.0s\n",
      "[CV 3/3] END C=0.1, penalty=elasticnet, solver=lbfgs;, score=nan total time=   0.0s\n",
      "[CV 1/3] END C=0.1, penalty=elasticnet, solver=liblinear;, score=nan total time=   0.0s\n",
      "[CV 2/3] END C=0.1, penalty=elasticnet, solver=liblinear;, score=nan total time=   0.0s\n",
      "[CV 3/3] END C=0.1, penalty=elasticnet, solver=liblinear;, score=nan total time=   0.0s\n",
      "[CV 1/3] END C=0.1, penalty=elasticnet, solver=sag;, score=nan total time=   0.0s\n",
      "[CV 2/3] END C=0.1, penalty=elasticnet, solver=sag;, score=nan total time=   0.0s\n",
      "[CV 3/3] END C=0.1, penalty=elasticnet, solver=sag;, score=nan total time=   0.0s\n",
      "[CV 1/3] END C=0.1, penalty=elasticnet, solver=saga;, score=nan total time=   0.0s\n",
      "[CV 2/3] END C=0.1, penalty=elasticnet, solver=saga;, score=nan total time=   0.0s\n",
      "[CV 3/3] END C=0.1, penalty=elasticnet, solver=saga;, score=nan total time=   0.0s\n"
     ]
    },
    {
     "name": "stderr",
     "output_type": "stream",
     "text": [
      "c:\\Users\\harsh\\anaconda3\\Lib\\site-packages\\sklearn\\linear_model\\_sag.py:350: ConvergenceWarning: The max_iter was reached which means the coef_ did not converge\n",
      "  warnings.warn(\n",
      "c:\\Users\\harsh\\anaconda3\\Lib\\site-packages\\sklearn\\linear_model\\_logistic.py:1183: FutureWarning: `penalty='none'`has been deprecated in 1.2 and will be removed in 1.4. To keep the past behaviour, set `penalty=None`.\n",
      "  warnings.warn(\n",
      "c:\\Users\\harsh\\anaconda3\\Lib\\site-packages\\sklearn\\linear_model\\_logistic.py:1193: UserWarning: Setting penalty=None will ignore the C and l1_ratio parameters\n",
      "  warnings.warn(\n"
     ]
    },
    {
     "name": "stdout",
     "output_type": "stream",
     "text": [
      "[CV 1/3] END C=0.1, penalty=none, solver=newton-cg;, score=0.989 total time=   0.2s\n"
     ]
    },
    {
     "name": "stderr",
     "output_type": "stream",
     "text": [
      "c:\\Users\\harsh\\anaconda3\\Lib\\site-packages\\sklearn\\linear_model\\_logistic.py:1183: FutureWarning: `penalty='none'`has been deprecated in 1.2 and will be removed in 1.4. To keep the past behaviour, set `penalty=None`.\n",
      "  warnings.warn(\n",
      "c:\\Users\\harsh\\anaconda3\\Lib\\site-packages\\sklearn\\linear_model\\_logistic.py:1193: UserWarning: Setting penalty=None will ignore the C and l1_ratio parameters\n",
      "  warnings.warn(\n"
     ]
    },
    {
     "name": "stdout",
     "output_type": "stream",
     "text": [
      "[CV 2/3] END C=0.1, penalty=none, solver=newton-cg;, score=0.994 total time=   0.3s\n"
     ]
    },
    {
     "name": "stderr",
     "output_type": "stream",
     "text": [
      "c:\\Users\\harsh\\anaconda3\\Lib\\site-packages\\sklearn\\linear_model\\_logistic.py:1183: FutureWarning: `penalty='none'`has been deprecated in 1.2 and will be removed in 1.4. To keep the past behaviour, set `penalty=None`.\n",
      "  warnings.warn(\n",
      "c:\\Users\\harsh\\anaconda3\\Lib\\site-packages\\sklearn\\linear_model\\_logistic.py:1193: UserWarning: Setting penalty=None will ignore the C and l1_ratio parameters\n",
      "  warnings.warn(\n"
     ]
    },
    {
     "name": "stdout",
     "output_type": "stream",
     "text": [
      "[CV 3/3] END C=0.1, penalty=none, solver=newton-cg;, score=0.988 total time=   0.3s\n",
      "[CV 1/3] END .C=0.1, penalty=none, solver=lbfgs;, score=0.989 total time=   0.0s\n",
      "[CV 2/3] END .C=0.1, penalty=none, solver=lbfgs;, score=0.990 total time=   0.0s\n",
      "[CV 3/3] END .C=0.1, penalty=none, solver=lbfgs;, score=0.988 total time=   0.0s\n",
      "[CV 1/3] END C=0.1, penalty=none, solver=liblinear;, score=nan total time=   0.0s\n",
      "[CV 2/3] END C=0.1, penalty=none, solver=liblinear;, score=nan total time=   0.0s\n",
      "[CV 3/3] END C=0.1, penalty=none, solver=liblinear;, score=nan total time=   0.0s\n"
     ]
    },
    {
     "name": "stderr",
     "output_type": "stream",
     "text": [
      "c:\\Users\\harsh\\anaconda3\\Lib\\site-packages\\sklearn\\linear_model\\_logistic.py:1183: FutureWarning: `penalty='none'`has been deprecated in 1.2 and will be removed in 1.4. To keep the past behaviour, set `penalty=None`.\n",
      "  warnings.warn(\n",
      "c:\\Users\\harsh\\anaconda3\\Lib\\site-packages\\sklearn\\linear_model\\_logistic.py:1193: UserWarning: Setting penalty=None will ignore the C and l1_ratio parameters\n",
      "  warnings.warn(\n",
      "c:\\Users\\harsh\\anaconda3\\Lib\\site-packages\\sklearn\\linear_model\\_logistic.py:460: ConvergenceWarning: lbfgs failed to converge (status=1):\n",
      "STOP: TOTAL NO. of ITERATIONS REACHED LIMIT.\n",
      "\n",
      "Increase the number of iterations (max_iter) or scale the data as shown in:\n",
      "    https://scikit-learn.org/stable/modules/preprocessing.html\n",
      "Please also refer to the documentation for alternative solver options:\n",
      "    https://scikit-learn.org/stable/modules/linear_model.html#logistic-regression\n",
      "  n_iter_i = _check_optimize_result(\n",
      "c:\\Users\\harsh\\anaconda3\\Lib\\site-packages\\sklearn\\linear_model\\_logistic.py:1183: FutureWarning: `penalty='none'`has been deprecated in 1.2 and will be removed in 1.4. To keep the past behaviour, set `penalty=None`.\n",
      "  warnings.warn(\n",
      "c:\\Users\\harsh\\anaconda3\\Lib\\site-packages\\sklearn\\linear_model\\_logistic.py:1193: UserWarning: Setting penalty=None will ignore the C and l1_ratio parameters\n",
      "  warnings.warn(\n",
      "c:\\Users\\harsh\\anaconda3\\Lib\\site-packages\\sklearn\\linear_model\\_logistic.py:460: ConvergenceWarning: lbfgs failed to converge (status=1):\n",
      "STOP: TOTAL NO. of ITERATIONS REACHED LIMIT.\n",
      "\n",
      "Increase the number of iterations (max_iter) or scale the data as shown in:\n",
      "    https://scikit-learn.org/stable/modules/preprocessing.html\n",
      "Please also refer to the documentation for alternative solver options:\n",
      "    https://scikit-learn.org/stable/modules/linear_model.html#logistic-regression\n",
      "  n_iter_i = _check_optimize_result(\n",
      "c:\\Users\\harsh\\anaconda3\\Lib\\site-packages\\sklearn\\linear_model\\_logistic.py:1183: FutureWarning: `penalty='none'`has been deprecated in 1.2 and will be removed in 1.4. To keep the past behaviour, set `penalty=None`.\n",
      "  warnings.warn(\n",
      "c:\\Users\\harsh\\anaconda3\\Lib\\site-packages\\sklearn\\linear_model\\_logistic.py:1193: UserWarning: Setting penalty=None will ignore the C and l1_ratio parameters\n",
      "  warnings.warn(\n",
      "c:\\Users\\harsh\\anaconda3\\Lib\\site-packages\\sklearn\\linear_model\\_logistic.py:460: ConvergenceWarning: lbfgs failed to converge (status=1):\n",
      "STOP: TOTAL NO. of ITERATIONS REACHED LIMIT.\n",
      "\n",
      "Increase the number of iterations (max_iter) or scale the data as shown in:\n",
      "    https://scikit-learn.org/stable/modules/preprocessing.html\n",
      "Please also refer to the documentation for alternative solver options:\n",
      "    https://scikit-learn.org/stable/modules/linear_model.html#logistic-regression\n",
      "  n_iter_i = _check_optimize_result(\n",
      "c:\\Users\\harsh\\anaconda3\\Lib\\site-packages\\sklearn\\linear_model\\_logistic.py:1183: FutureWarning: `penalty='none'`has been deprecated in 1.2 and will be removed in 1.4. To keep the past behaviour, set `penalty=None`.\n",
      "  warnings.warn(\n",
      "c:\\Users\\harsh\\anaconda3\\Lib\\site-packages\\sklearn\\linear_model\\_logistic.py:1193: UserWarning: Setting penalty=None will ignore the C and l1_ratio parameters\n",
      "  warnings.warn(\n",
      "c:\\Users\\harsh\\anaconda3\\Lib\\site-packages\\sklearn\\linear_model\\_sag.py:350: ConvergenceWarning: The max_iter was reached which means the coef_ did not converge\n",
      "  warnings.warn(\n",
      "c:\\Users\\harsh\\anaconda3\\Lib\\site-packages\\sklearn\\linear_model\\_logistic.py:1183: FutureWarning: `penalty='none'`has been deprecated in 1.2 and will be removed in 1.4. To keep the past behaviour, set `penalty=None`.\n",
      "  warnings.warn(\n",
      "c:\\Users\\harsh\\anaconda3\\Lib\\site-packages\\sklearn\\linear_model\\_logistic.py:1193: UserWarning: Setting penalty=None will ignore the C and l1_ratio parameters\n",
      "  warnings.warn(\n",
      "c:\\Users\\harsh\\anaconda3\\Lib\\site-packages\\sklearn\\linear_model\\_sag.py:350: ConvergenceWarning: The max_iter was reached which means the coef_ did not converge\n",
      "  warnings.warn(\n",
      "c:\\Users\\harsh\\anaconda3\\Lib\\site-packages\\sklearn\\linear_model\\_logistic.py:1183: FutureWarning: `penalty='none'`has been deprecated in 1.2 and will be removed in 1.4. To keep the past behaviour, set `penalty=None`.\n",
      "  warnings.warn(\n",
      "c:\\Users\\harsh\\anaconda3\\Lib\\site-packages\\sklearn\\linear_model\\_logistic.py:1193: UserWarning: Setting penalty=None will ignore the C and l1_ratio parameters\n",
      "  warnings.warn(\n"
     ]
    },
    {
     "name": "stdout",
     "output_type": "stream",
     "text": [
      "[CV 1/3] END ...C=0.1, penalty=none, solver=sag;, score=0.981 total time=   0.0s\n",
      "[CV 2/3] END ...C=0.1, penalty=none, solver=sag;, score=0.982 total time=   0.0s\n"
     ]
    },
    {
     "name": "stderr",
     "output_type": "stream",
     "text": [
      "c:\\Users\\harsh\\anaconda3\\Lib\\site-packages\\sklearn\\linear_model\\_sag.py:350: ConvergenceWarning: The max_iter was reached which means the coef_ did not converge\n",
      "  warnings.warn(\n",
      "c:\\Users\\harsh\\anaconda3\\Lib\\site-packages\\sklearn\\linear_model\\_logistic.py:1183: FutureWarning: `penalty='none'`has been deprecated in 1.2 and will be removed in 1.4. To keep the past behaviour, set `penalty=None`.\n",
      "  warnings.warn(\n",
      "c:\\Users\\harsh\\anaconda3\\Lib\\site-packages\\sklearn\\linear_model\\_logistic.py:1193: UserWarning: Setting penalty=None will ignore the C and l1_ratio parameters\n",
      "  warnings.warn(\n",
      "c:\\Users\\harsh\\anaconda3\\Lib\\site-packages\\sklearn\\linear_model\\_sag.py:350: ConvergenceWarning: The max_iter was reached which means the coef_ did not converge\n",
      "  warnings.warn(\n",
      "c:\\Users\\harsh\\anaconda3\\Lib\\site-packages\\sklearn\\linear_model\\_logistic.py:1183: FutureWarning: `penalty='none'`has been deprecated in 1.2 and will be removed in 1.4. To keep the past behaviour, set `penalty=None`.\n",
      "  warnings.warn(\n",
      "c:\\Users\\harsh\\anaconda3\\Lib\\site-packages\\sklearn\\linear_model\\_logistic.py:1193: UserWarning: Setting penalty=None will ignore the C and l1_ratio parameters\n",
      "  warnings.warn(\n"
     ]
    },
    {
     "name": "stdout",
     "output_type": "stream",
     "text": [
      "[CV 3/3] END ...C=0.1, penalty=none, solver=sag;, score=0.977 total time=   0.0s\n",
      "[CV 1/3] END ..C=0.1, penalty=none, solver=saga;, score=0.981 total time=   0.0s\n"
     ]
    },
    {
     "name": "stderr",
     "output_type": "stream",
     "text": [
      "c:\\Users\\harsh\\anaconda3\\Lib\\site-packages\\sklearn\\linear_model\\_sag.py:350: ConvergenceWarning: The max_iter was reached which means the coef_ did not converge\n",
      "  warnings.warn(\n",
      "c:\\Users\\harsh\\anaconda3\\Lib\\site-packages\\sklearn\\linear_model\\_logistic.py:1183: FutureWarning: `penalty='none'`has been deprecated in 1.2 and will be removed in 1.4. To keep the past behaviour, set `penalty=None`.\n",
      "  warnings.warn(\n",
      "c:\\Users\\harsh\\anaconda3\\Lib\\site-packages\\sklearn\\linear_model\\_logistic.py:1193: UserWarning: Setting penalty=None will ignore the C and l1_ratio parameters\n",
      "  warnings.warn(\n",
      "c:\\Users\\harsh\\anaconda3\\Lib\\site-packages\\sklearn\\linear_model\\_sag.py:350: ConvergenceWarning: The max_iter was reached which means the coef_ did not converge\n",
      "  warnings.warn(\n"
     ]
    },
    {
     "name": "stdout",
     "output_type": "stream",
     "text": [
      "[CV 2/3] END ..C=0.1, penalty=none, solver=saga;, score=0.981 total time=   0.1s\n",
      "[CV 3/3] END ..C=0.1, penalty=none, solver=saga;, score=0.977 total time=   0.0s\n",
      "[CV 1/3] END ...C=1, penalty=l1, solver=newton-cg;, score=nan total time=   0.0s\n",
      "[CV 2/3] END ...C=1, penalty=l1, solver=newton-cg;, score=nan total time=   0.0s\n",
      "[CV 3/3] END ...C=1, penalty=l1, solver=newton-cg;, score=nan total time=   0.0s\n",
      "[CV 1/3] END .......C=1, penalty=l1, solver=lbfgs;, score=nan total time=   0.0s\n",
      "[CV 2/3] END .......C=1, penalty=l1, solver=lbfgs;, score=nan total time=   0.0s\n",
      "[CV 3/3] END .......C=1, penalty=l1, solver=lbfgs;, score=nan total time=   0.0s\n",
      "[CV 1/3] END .C=1, penalty=l1, solver=liblinear;, score=0.981 total time=   0.0s\n",
      "[CV 2/3] END .C=1, penalty=l1, solver=liblinear;, score=0.983 total time=   0.0s\n",
      "[CV 3/3] END .C=1, penalty=l1, solver=liblinear;, score=0.977 total time=   0.0s\n",
      "[CV 1/3] END .........C=1, penalty=l1, solver=sag;, score=nan total time=   0.0s\n",
      "[CV 2/3] END .........C=1, penalty=l1, solver=sag;, score=nan total time=   0.0s\n",
      "[CV 3/3] END .........C=1, penalty=l1, solver=sag;, score=nan total time=   0.0s\n",
      "[CV 1/3] END ......C=1, penalty=l1, solver=saga;, score=0.981 total time=   0.1s\n"
     ]
    },
    {
     "name": "stderr",
     "output_type": "stream",
     "text": [
      "c:\\Users\\harsh\\anaconda3\\Lib\\site-packages\\sklearn\\linear_model\\_sag.py:350: ConvergenceWarning: The max_iter was reached which means the coef_ did not converge\n",
      "  warnings.warn(\n",
      "c:\\Users\\harsh\\anaconda3\\Lib\\site-packages\\sklearn\\linear_model\\_sag.py:350: ConvergenceWarning: The max_iter was reached which means the coef_ did not converge\n",
      "  warnings.warn(\n"
     ]
    },
    {
     "name": "stdout",
     "output_type": "stream",
     "text": [
      "[CV 2/3] END ......C=1, penalty=l1, solver=saga;, score=0.982 total time=   0.1s\n"
     ]
    },
    {
     "name": "stderr",
     "output_type": "stream",
     "text": [
      "c:\\Users\\harsh\\anaconda3\\Lib\\site-packages\\sklearn\\linear_model\\_sag.py:350: ConvergenceWarning: The max_iter was reached which means the coef_ did not converge\n",
      "  warnings.warn(\n"
     ]
    },
    {
     "name": "stdout",
     "output_type": "stream",
     "text": [
      "[CV 3/3] END ......C=1, penalty=l1, solver=saga;, score=0.977 total time=   0.1s\n",
      "[CV 1/3] END .C=1, penalty=l2, solver=newton-cg;, score=0.981 total time=   0.0s\n",
      "[CV 2/3] END .C=1, penalty=l2, solver=newton-cg;, score=0.982 total time=   0.0s\n",
      "[CV 3/3] END .C=1, penalty=l2, solver=newton-cg;, score=0.977 total time=   0.0s\n",
      "[CV 1/3] END .....C=1, penalty=l2, solver=lbfgs;, score=0.981 total time=   0.0s\n",
      "[CV 2/3] END .....C=1, penalty=l2, solver=lbfgs;, score=0.982 total time=   0.0s\n",
      "[CV 3/3] END .....C=1, penalty=l2, solver=lbfgs;, score=0.977 total time=   0.0s\n",
      "[CV 1/3] END .C=1, penalty=l2, solver=liblinear;, score=0.981 total time=   0.0s\n",
      "[CV 2/3] END .C=1, penalty=l2, solver=liblinear;, score=0.982 total time=   0.0s\n",
      "[CV 3/3] END .C=1, penalty=l2, solver=liblinear;, score=0.977 total time=   0.0s\n"
     ]
    },
    {
     "name": "stderr",
     "output_type": "stream",
     "text": [
      "c:\\Users\\harsh\\anaconda3\\Lib\\site-packages\\sklearn\\linear_model\\_sag.py:350: ConvergenceWarning: The max_iter was reached which means the coef_ did not converge\n",
      "  warnings.warn(\n",
      "c:\\Users\\harsh\\anaconda3\\Lib\\site-packages\\sklearn\\linear_model\\_sag.py:350: ConvergenceWarning: The max_iter was reached which means the coef_ did not converge\n",
      "  warnings.warn(\n"
     ]
    },
    {
     "name": "stdout",
     "output_type": "stream",
     "text": [
      "[CV 1/3] END .......C=1, penalty=l2, solver=sag;, score=0.981 total time=   0.1s\n",
      "[CV 2/3] END .......C=1, penalty=l2, solver=sag;, score=0.982 total time=   0.1s\n"
     ]
    },
    {
     "name": "stderr",
     "output_type": "stream",
     "text": [
      "c:\\Users\\harsh\\anaconda3\\Lib\\site-packages\\sklearn\\linear_model\\_sag.py:350: ConvergenceWarning: The max_iter was reached which means the coef_ did not converge\n",
      "  warnings.warn(\n",
      "c:\\Users\\harsh\\anaconda3\\Lib\\site-packages\\sklearn\\linear_model\\_sag.py:350: ConvergenceWarning: The max_iter was reached which means the coef_ did not converge\n",
      "  warnings.warn(\n"
     ]
    },
    {
     "name": "stdout",
     "output_type": "stream",
     "text": [
      "[CV 3/3] END .......C=1, penalty=l2, solver=sag;, score=0.977 total time=   0.1s\n",
      "[CV 1/3] END ......C=1, penalty=l2, solver=saga;, score=0.981 total time=   0.1s\n"
     ]
    },
    {
     "name": "stderr",
     "output_type": "stream",
     "text": [
      "c:\\Users\\harsh\\anaconda3\\Lib\\site-packages\\sklearn\\linear_model\\_sag.py:350: ConvergenceWarning: The max_iter was reached which means the coef_ did not converge\n",
      "  warnings.warn(\n",
      "c:\\Users\\harsh\\anaconda3\\Lib\\site-packages\\sklearn\\linear_model\\_sag.py:350: ConvergenceWarning: The max_iter was reached which means the coef_ did not converge\n",
      "  warnings.warn(\n",
      "c:\\Users\\harsh\\anaconda3\\Lib\\site-packages\\sklearn\\linear_model\\_logistic.py:1183: FutureWarning: `penalty='none'`has been deprecated in 1.2 and will be removed in 1.4. To keep the past behaviour, set `penalty=None`.\n",
      "  warnings.warn(\n"
     ]
    },
    {
     "name": "stdout",
     "output_type": "stream",
     "text": [
      "[CV 2/3] END ......C=1, penalty=l2, solver=saga;, score=0.981 total time=   0.1s\n",
      "[CV 3/3] END ......C=1, penalty=l2, solver=saga;, score=0.977 total time=   0.1s\n",
      "[CV 1/3] END C=1, penalty=elasticnet, solver=newton-cg;, score=nan total time=   0.0s\n",
      "[CV 2/3] END C=1, penalty=elasticnet, solver=newton-cg;, score=nan total time=   0.0s\n",
      "[CV 3/3] END C=1, penalty=elasticnet, solver=newton-cg;, score=nan total time=   0.0s\n",
      "[CV 1/3] END C=1, penalty=elasticnet, solver=lbfgs;, score=nan total time=   0.0s\n",
      "[CV 2/3] END C=1, penalty=elasticnet, solver=lbfgs;, score=nan total time=   0.0s\n",
      "[CV 3/3] END C=1, penalty=elasticnet, solver=lbfgs;, score=nan total time=   0.0s\n",
      "[CV 1/3] END C=1, penalty=elasticnet, solver=liblinear;, score=nan total time=   0.0s\n",
      "[CV 2/3] END C=1, penalty=elasticnet, solver=liblinear;, score=nan total time=   0.0s\n",
      "[CV 3/3] END C=1, penalty=elasticnet, solver=liblinear;, score=nan total time=   0.0s\n",
      "[CV 1/3] END .C=1, penalty=elasticnet, solver=sag;, score=nan total time=   0.0s\n",
      "[CV 2/3] END .C=1, penalty=elasticnet, solver=sag;, score=nan total time=   0.0s\n",
      "[CV 3/3] END .C=1, penalty=elasticnet, solver=sag;, score=nan total time=   0.0s\n",
      "[CV 1/3] END C=1, penalty=elasticnet, solver=saga;, score=nan total time=   0.0s\n",
      "[CV 2/3] END C=1, penalty=elasticnet, solver=saga;, score=nan total time=   0.0s\n",
      "[CV 3/3] END C=1, penalty=elasticnet, solver=saga;, score=nan total time=   0.0s\n",
      "[CV 1/3] END C=1, penalty=none, solver=newton-cg;, score=0.989 total time=   0.2s\n"
     ]
    },
    {
     "name": "stderr",
     "output_type": "stream",
     "text": [
      "c:\\Users\\harsh\\anaconda3\\Lib\\site-packages\\sklearn\\linear_model\\_logistic.py:1183: FutureWarning: `penalty='none'`has been deprecated in 1.2 and will be removed in 1.4. To keep the past behaviour, set `penalty=None`.\n",
      "  warnings.warn(\n"
     ]
    },
    {
     "name": "stdout",
     "output_type": "stream",
     "text": [
      "[CV 2/3] END C=1, penalty=none, solver=newton-cg;, score=0.994 total time=   0.3s\n"
     ]
    },
    {
     "name": "stderr",
     "output_type": "stream",
     "text": [
      "c:\\Users\\harsh\\anaconda3\\Lib\\site-packages\\sklearn\\linear_model\\_logistic.py:1183: FutureWarning: `penalty='none'`has been deprecated in 1.2 and will be removed in 1.4. To keep the past behaviour, set `penalty=None`.\n",
      "  warnings.warn(\n"
     ]
    },
    {
     "name": "stdout",
     "output_type": "stream",
     "text": [
      "[CV 3/3] END C=1, penalty=none, solver=newton-cg;, score=0.988 total time=   0.3s\n",
      "[CV 1/3] END ...C=1, penalty=none, solver=lbfgs;, score=0.989 total time=   0.0s\n",
      "[CV 2/3] END ...C=1, penalty=none, solver=lbfgs;, score=0.990 total time=   0.0s\n",
      "[CV 3/3] END ...C=1, penalty=none, solver=lbfgs;, score=0.988 total time=   0.0s\n",
      "[CV 1/3] END .C=1, penalty=none, solver=liblinear;, score=nan total time=   0.0s\n",
      "[CV 2/3] END .C=1, penalty=none, solver=liblinear;, score=nan total time=   0.0s\n",
      "[CV 3/3] END .C=1, penalty=none, solver=liblinear;, score=nan total time=   0.0s\n"
     ]
    },
    {
     "name": "stderr",
     "output_type": "stream",
     "text": [
      "c:\\Users\\harsh\\anaconda3\\Lib\\site-packages\\sklearn\\linear_model\\_logistic.py:1183: FutureWarning: `penalty='none'`has been deprecated in 1.2 and will be removed in 1.4. To keep the past behaviour, set `penalty=None`.\n",
      "  warnings.warn(\n",
      "c:\\Users\\harsh\\anaconda3\\Lib\\site-packages\\sklearn\\linear_model\\_logistic.py:460: ConvergenceWarning: lbfgs failed to converge (status=1):\n",
      "STOP: TOTAL NO. of ITERATIONS REACHED LIMIT.\n",
      "\n",
      "Increase the number of iterations (max_iter) or scale the data as shown in:\n",
      "    https://scikit-learn.org/stable/modules/preprocessing.html\n",
      "Please also refer to the documentation for alternative solver options:\n",
      "    https://scikit-learn.org/stable/modules/linear_model.html#logistic-regression\n",
      "  n_iter_i = _check_optimize_result(\n",
      "c:\\Users\\harsh\\anaconda3\\Lib\\site-packages\\sklearn\\linear_model\\_logistic.py:1183: FutureWarning: `penalty='none'`has been deprecated in 1.2 and will be removed in 1.4. To keep the past behaviour, set `penalty=None`.\n",
      "  warnings.warn(\n",
      "c:\\Users\\harsh\\anaconda3\\Lib\\site-packages\\sklearn\\linear_model\\_logistic.py:460: ConvergenceWarning: lbfgs failed to converge (status=1):\n",
      "STOP: TOTAL NO. of ITERATIONS REACHED LIMIT.\n",
      "\n",
      "Increase the number of iterations (max_iter) or scale the data as shown in:\n",
      "    https://scikit-learn.org/stable/modules/preprocessing.html\n",
      "Please also refer to the documentation for alternative solver options:\n",
      "    https://scikit-learn.org/stable/modules/linear_model.html#logistic-regression\n",
      "  n_iter_i = _check_optimize_result(\n",
      "c:\\Users\\harsh\\anaconda3\\Lib\\site-packages\\sklearn\\linear_model\\_logistic.py:1183: FutureWarning: `penalty='none'`has been deprecated in 1.2 and will be removed in 1.4. To keep the past behaviour, set `penalty=None`.\n",
      "  warnings.warn(\n",
      "c:\\Users\\harsh\\anaconda3\\Lib\\site-packages\\sklearn\\linear_model\\_logistic.py:460: ConvergenceWarning: lbfgs failed to converge (status=1):\n",
      "STOP: TOTAL NO. of ITERATIONS REACHED LIMIT.\n",
      "\n",
      "Increase the number of iterations (max_iter) or scale the data as shown in:\n",
      "    https://scikit-learn.org/stable/modules/preprocessing.html\n",
      "Please also refer to the documentation for alternative solver options:\n",
      "    https://scikit-learn.org/stable/modules/linear_model.html#logistic-regression\n",
      "  n_iter_i = _check_optimize_result(\n",
      "c:\\Users\\harsh\\anaconda3\\Lib\\site-packages\\sklearn\\linear_model\\_logistic.py:1183: FutureWarning: `penalty='none'`has been deprecated in 1.2 and will be removed in 1.4. To keep the past behaviour, set `penalty=None`.\n",
      "  warnings.warn(\n",
      "c:\\Users\\harsh\\anaconda3\\Lib\\site-packages\\sklearn\\linear_model\\_sag.py:350: ConvergenceWarning: The max_iter was reached which means the coef_ did not converge\n",
      "  warnings.warn(\n",
      "c:\\Users\\harsh\\anaconda3\\Lib\\site-packages\\sklearn\\linear_model\\_logistic.py:1183: FutureWarning: `penalty='none'`has been deprecated in 1.2 and will be removed in 1.4. To keep the past behaviour, set `penalty=None`.\n",
      "  warnings.warn(\n",
      "c:\\Users\\harsh\\anaconda3\\Lib\\site-packages\\sklearn\\linear_model\\_sag.py:350: ConvergenceWarning: The max_iter was reached which means the coef_ did not converge\n",
      "  warnings.warn(\n",
      "c:\\Users\\harsh\\anaconda3\\Lib\\site-packages\\sklearn\\linear_model\\_logistic.py:1183: FutureWarning: `penalty='none'`has been deprecated in 1.2 and will be removed in 1.4. To keep the past behaviour, set `penalty=None`.\n",
      "  warnings.warn(\n"
     ]
    },
    {
     "name": "stdout",
     "output_type": "stream",
     "text": [
      "[CV 1/3] END .....C=1, penalty=none, solver=sag;, score=0.981 total time=   0.0s\n",
      "[CV 2/3] END .....C=1, penalty=none, solver=sag;, score=0.982 total time=   0.0s\n"
     ]
    },
    {
     "name": "stderr",
     "output_type": "stream",
     "text": [
      "c:\\Users\\harsh\\anaconda3\\Lib\\site-packages\\sklearn\\linear_model\\_sag.py:350: ConvergenceWarning: The max_iter was reached which means the coef_ did not converge\n",
      "  warnings.warn(\n",
      "c:\\Users\\harsh\\anaconda3\\Lib\\site-packages\\sklearn\\linear_model\\_logistic.py:1183: FutureWarning: `penalty='none'`has been deprecated in 1.2 and will be removed in 1.4. To keep the past behaviour, set `penalty=None`.\n",
      "  warnings.warn(\n",
      "c:\\Users\\harsh\\anaconda3\\Lib\\site-packages\\sklearn\\linear_model\\_sag.py:350: ConvergenceWarning: The max_iter was reached which means the coef_ did not converge\n",
      "  warnings.warn(\n",
      "c:\\Users\\harsh\\anaconda3\\Lib\\site-packages\\sklearn\\linear_model\\_logistic.py:1183: FutureWarning: `penalty='none'`has been deprecated in 1.2 and will be removed in 1.4. To keep the past behaviour, set `penalty=None`.\n",
      "  warnings.warn(\n"
     ]
    },
    {
     "name": "stdout",
     "output_type": "stream",
     "text": [
      "[CV 3/3] END .....C=1, penalty=none, solver=sag;, score=0.977 total time=   0.0s\n",
      "[CV 1/3] END ....C=1, penalty=none, solver=saga;, score=0.981 total time=   0.0s\n"
     ]
    },
    {
     "name": "stderr",
     "output_type": "stream",
     "text": [
      "c:\\Users\\harsh\\anaconda3\\Lib\\site-packages\\sklearn\\linear_model\\_sag.py:350: ConvergenceWarning: The max_iter was reached which means the coef_ did not converge\n",
      "  warnings.warn(\n",
      "c:\\Users\\harsh\\anaconda3\\Lib\\site-packages\\sklearn\\linear_model\\_logistic.py:1183: FutureWarning: `penalty='none'`has been deprecated in 1.2 and will be removed in 1.4. To keep the past behaviour, set `penalty=None`.\n",
      "  warnings.warn(\n",
      "c:\\Users\\harsh\\anaconda3\\Lib\\site-packages\\sklearn\\linear_model\\_sag.py:350: ConvergenceWarning: The max_iter was reached which means the coef_ did not converge\n",
      "  warnings.warn(\n"
     ]
    },
    {
     "name": "stdout",
     "output_type": "stream",
     "text": [
      "[CV 2/3] END ....C=1, penalty=none, solver=saga;, score=0.981 total time=   0.0s\n",
      "[CV 3/3] END ....C=1, penalty=none, solver=saga;, score=0.977 total time=   0.0s\n",
      "[CV 1/3] END ..C=10, penalty=l1, solver=newton-cg;, score=nan total time=   0.0s\n",
      "[CV 2/3] END ..C=10, penalty=l1, solver=newton-cg;, score=nan total time=   0.0s\n",
      "[CV 3/3] END ..C=10, penalty=l1, solver=newton-cg;, score=nan total time=   0.0s\n",
      "[CV 1/3] END ......C=10, penalty=l1, solver=lbfgs;, score=nan total time=   0.0s\n",
      "[CV 2/3] END ......C=10, penalty=l1, solver=lbfgs;, score=nan total time=   0.0s\n",
      "[CV 3/3] END ......C=10, penalty=l1, solver=lbfgs;, score=nan total time=   0.0s\n",
      "[CV 1/3] END C=10, penalty=l1, solver=liblinear;, score=0.989 total time=   0.7s\n",
      "[CV 2/3] END C=10, penalty=l1, solver=liblinear;, score=0.991 total time=   0.8s\n",
      "[CV 3/3] END C=10, penalty=l1, solver=liblinear;, score=0.988 total time=   0.8s\n",
      "[CV 1/3] END ........C=10, penalty=l1, solver=sag;, score=nan total time=   0.0s\n",
      "[CV 2/3] END ........C=10, penalty=l1, solver=sag;, score=nan total time=   0.0s\n",
      "[CV 3/3] END ........C=10, penalty=l1, solver=sag;, score=nan total time=   0.0s\n"
     ]
    },
    {
     "name": "stderr",
     "output_type": "stream",
     "text": [
      "c:\\Users\\harsh\\anaconda3\\Lib\\site-packages\\sklearn\\linear_model\\_sag.py:350: ConvergenceWarning: The max_iter was reached which means the coef_ did not converge\n",
      "  warnings.warn(\n"
     ]
    },
    {
     "name": "stdout",
     "output_type": "stream",
     "text": [
      "[CV 1/3] END .....C=10, penalty=l1, solver=saga;, score=0.981 total time=   0.1s\n"
     ]
    },
    {
     "name": "stderr",
     "output_type": "stream",
     "text": [
      "c:\\Users\\harsh\\anaconda3\\Lib\\site-packages\\sklearn\\linear_model\\_sag.py:350: ConvergenceWarning: The max_iter was reached which means the coef_ did not converge\n",
      "  warnings.warn(\n",
      "c:\\Users\\harsh\\anaconda3\\Lib\\site-packages\\sklearn\\linear_model\\_sag.py:350: ConvergenceWarning: The max_iter was reached which means the coef_ did not converge\n",
      "  warnings.warn(\n"
     ]
    },
    {
     "name": "stdout",
     "output_type": "stream",
     "text": [
      "[CV 2/3] END .....C=10, penalty=l1, solver=saga;, score=0.981 total time=   0.1s\n",
      "[CV 3/3] END .....C=10, penalty=l1, solver=saga;, score=0.977 total time=   0.1s\n",
      "[CV 1/3] END C=10, penalty=l2, solver=newton-cg;, score=0.982 total time=   0.0s\n",
      "[CV 2/3] END C=10, penalty=l2, solver=newton-cg;, score=0.984 total time=   0.0s\n",
      "[CV 3/3] END C=10, penalty=l2, solver=newton-cg;, score=0.978 total time=   0.0s\n"
     ]
    },
    {
     "name": "stderr",
     "output_type": "stream",
     "text": [
      "c:\\Users\\harsh\\anaconda3\\Lib\\site-packages\\sklearn\\linear_model\\_logistic.py:460: ConvergenceWarning: lbfgs failed to converge (status=1):\n",
      "STOP: TOTAL NO. of ITERATIONS REACHED LIMIT.\n",
      "\n",
      "Increase the number of iterations (max_iter) or scale the data as shown in:\n",
      "    https://scikit-learn.org/stable/modules/preprocessing.html\n",
      "Please also refer to the documentation for alternative solver options:\n",
      "    https://scikit-learn.org/stable/modules/linear_model.html#logistic-regression\n",
      "  n_iter_i = _check_optimize_result(\n",
      "c:\\Users\\harsh\\anaconda3\\Lib\\site-packages\\sklearn\\linear_model\\_logistic.py:460: ConvergenceWarning: lbfgs failed to converge (status=1):\n",
      "STOP: TOTAL NO. of ITERATIONS REACHED LIMIT.\n",
      "\n",
      "Increase the number of iterations (max_iter) or scale the data as shown in:\n",
      "    https://scikit-learn.org/stable/modules/preprocessing.html\n",
      "Please also refer to the documentation for alternative solver options:\n",
      "    https://scikit-learn.org/stable/modules/linear_model.html#logistic-regression\n",
      "  n_iter_i = _check_optimize_result(\n",
      "c:\\Users\\harsh\\anaconda3\\Lib\\site-packages\\sklearn\\linear_model\\_logistic.py:460: ConvergenceWarning: lbfgs failed to converge (status=1):\n",
      "STOP: TOTAL NO. of ITERATIONS REACHED LIMIT.\n",
      "\n",
      "Increase the number of iterations (max_iter) or scale the data as shown in:\n",
      "    https://scikit-learn.org/stable/modules/preprocessing.html\n",
      "Please also refer to the documentation for alternative solver options:\n",
      "    https://scikit-learn.org/stable/modules/linear_model.html#logistic-regression\n",
      "  n_iter_i = _check_optimize_result(\n"
     ]
    },
    {
     "name": "stdout",
     "output_type": "stream",
     "text": [
      "[CV 1/3] END ....C=10, penalty=l2, solver=lbfgs;, score=0.982 total time=   0.0s\n",
      "[CV 2/3] END ....C=10, penalty=l2, solver=lbfgs;, score=0.984 total time=   0.0s\n",
      "[CV 3/3] END ....C=10, penalty=l2, solver=lbfgs;, score=0.978 total time=   0.0s\n",
      "[CV 1/3] END C=10, penalty=l2, solver=liblinear;, score=0.982 total time=   0.0s\n",
      "[CV 2/3] END C=10, penalty=l2, solver=liblinear;, score=0.983 total time=   0.0s\n",
      "[CV 3/3] END C=10, penalty=l2, solver=liblinear;, score=0.978 total time=   0.0s\n",
      "[CV 1/3] END ......C=10, penalty=l2, solver=sag;, score=0.981 total time=   0.0s\n"
     ]
    },
    {
     "name": "stderr",
     "output_type": "stream",
     "text": [
      "c:\\Users\\harsh\\anaconda3\\Lib\\site-packages\\sklearn\\linear_model\\_sag.py:350: ConvergenceWarning: The max_iter was reached which means the coef_ did not converge\n",
      "  warnings.warn(\n",
      "c:\\Users\\harsh\\anaconda3\\Lib\\site-packages\\sklearn\\linear_model\\_sag.py:350: ConvergenceWarning: The max_iter was reached which means the coef_ did not converge\n",
      "  warnings.warn(\n"
     ]
    },
    {
     "name": "stdout",
     "output_type": "stream",
     "text": [
      "[CV 2/3] END ......C=10, penalty=l2, solver=sag;, score=0.982 total time=   0.0s\n",
      "[CV 3/3] END ......C=10, penalty=l2, solver=sag;, score=0.977 total time=   0.0s\n"
     ]
    },
    {
     "name": "stderr",
     "output_type": "stream",
     "text": [
      "c:\\Users\\harsh\\anaconda3\\Lib\\site-packages\\sklearn\\linear_model\\_sag.py:350: ConvergenceWarning: The max_iter was reached which means the coef_ did not converge\n",
      "  warnings.warn(\n",
      "c:\\Users\\harsh\\anaconda3\\Lib\\site-packages\\sklearn\\linear_model\\_sag.py:350: ConvergenceWarning: The max_iter was reached which means the coef_ did not converge\n",
      "  warnings.warn(\n"
     ]
    },
    {
     "name": "stdout",
     "output_type": "stream",
     "text": [
      "[CV 1/3] END .....C=10, penalty=l2, solver=saga;, score=0.981 total time=   0.0s\n",
      "[CV 2/3] END .....C=10, penalty=l2, solver=saga;, score=0.981 total time=   0.1s\n"
     ]
    },
    {
     "name": "stderr",
     "output_type": "stream",
     "text": [
      "c:\\Users\\harsh\\anaconda3\\Lib\\site-packages\\sklearn\\linear_model\\_sag.py:350: ConvergenceWarning: The max_iter was reached which means the coef_ did not converge\n",
      "  warnings.warn(\n",
      "c:\\Users\\harsh\\anaconda3\\Lib\\site-packages\\sklearn\\linear_model\\_sag.py:350: ConvergenceWarning: The max_iter was reached which means the coef_ did not converge\n",
      "  warnings.warn(\n",
      "c:\\Users\\harsh\\anaconda3\\Lib\\site-packages\\sklearn\\linear_model\\_logistic.py:1183: FutureWarning: `penalty='none'`has been deprecated in 1.2 and will be removed in 1.4. To keep the past behaviour, set `penalty=None`.\n",
      "  warnings.warn(\n",
      "c:\\Users\\harsh\\anaconda3\\Lib\\site-packages\\sklearn\\linear_model\\_logistic.py:1193: UserWarning: Setting penalty=None will ignore the C and l1_ratio parameters\n",
      "  warnings.warn(\n"
     ]
    },
    {
     "name": "stdout",
     "output_type": "stream",
     "text": [
      "[CV 3/3] END .....C=10, penalty=l2, solver=saga;, score=0.977 total time=   0.0s\n",
      "[CV 1/3] END C=10, penalty=elasticnet, solver=newton-cg;, score=nan total time=   0.0s\n",
      "[CV 2/3] END C=10, penalty=elasticnet, solver=newton-cg;, score=nan total time=   0.0s\n",
      "[CV 3/3] END C=10, penalty=elasticnet, solver=newton-cg;, score=nan total time=   0.0s\n",
      "[CV 1/3] END C=10, penalty=elasticnet, solver=lbfgs;, score=nan total time=   0.0s\n",
      "[CV 2/3] END C=10, penalty=elasticnet, solver=lbfgs;, score=nan total time=   0.0s\n",
      "[CV 3/3] END C=10, penalty=elasticnet, solver=lbfgs;, score=nan total time=   0.0s\n",
      "[CV 1/3] END C=10, penalty=elasticnet, solver=liblinear;, score=nan total time=   0.0s\n",
      "[CV 2/3] END C=10, penalty=elasticnet, solver=liblinear;, score=nan total time=   0.0s\n",
      "[CV 3/3] END C=10, penalty=elasticnet, solver=liblinear;, score=nan total time=   0.0s\n",
      "[CV 1/3] END C=10, penalty=elasticnet, solver=sag;, score=nan total time=   0.0s\n",
      "[CV 2/3] END C=10, penalty=elasticnet, solver=sag;, score=nan total time=   0.0s\n",
      "[CV 3/3] END C=10, penalty=elasticnet, solver=sag;, score=nan total time=   0.0s\n",
      "[CV 1/3] END C=10, penalty=elasticnet, solver=saga;, score=nan total time=   0.0s\n",
      "[CV 2/3] END C=10, penalty=elasticnet, solver=saga;, score=nan total time=   0.0s\n",
      "[CV 3/3] END C=10, penalty=elasticnet, solver=saga;, score=nan total time=   0.0s\n",
      "[CV 1/3] END C=10, penalty=none, solver=newton-cg;, score=0.989 total time=   0.2s\n"
     ]
    },
    {
     "name": "stderr",
     "output_type": "stream",
     "text": [
      "c:\\Users\\harsh\\anaconda3\\Lib\\site-packages\\sklearn\\linear_model\\_logistic.py:1183: FutureWarning: `penalty='none'`has been deprecated in 1.2 and will be removed in 1.4. To keep the past behaviour, set `penalty=None`.\n",
      "  warnings.warn(\n",
      "c:\\Users\\harsh\\anaconda3\\Lib\\site-packages\\sklearn\\linear_model\\_logistic.py:1193: UserWarning: Setting penalty=None will ignore the C and l1_ratio parameters\n",
      "  warnings.warn(\n"
     ]
    },
    {
     "name": "stdout",
     "output_type": "stream",
     "text": [
      "[CV 2/3] END C=10, penalty=none, solver=newton-cg;, score=0.994 total time=   0.3s\n"
     ]
    },
    {
     "name": "stderr",
     "output_type": "stream",
     "text": [
      "c:\\Users\\harsh\\anaconda3\\Lib\\site-packages\\sklearn\\linear_model\\_logistic.py:1183: FutureWarning: `penalty='none'`has been deprecated in 1.2 and will be removed in 1.4. To keep the past behaviour, set `penalty=None`.\n",
      "  warnings.warn(\n",
      "c:\\Users\\harsh\\anaconda3\\Lib\\site-packages\\sklearn\\linear_model\\_logistic.py:1193: UserWarning: Setting penalty=None will ignore the C and l1_ratio parameters\n",
      "  warnings.warn(\n"
     ]
    },
    {
     "name": "stdout",
     "output_type": "stream",
     "text": [
      "[CV 3/3] END C=10, penalty=none, solver=newton-cg;, score=0.988 total time=   0.3s\n",
      "[CV 1/3] END ..C=10, penalty=none, solver=lbfgs;, score=0.989 total time=   0.0s\n",
      "[CV 2/3] END ..C=10, penalty=none, solver=lbfgs;, score=0.990 total time=   0.0s\n",
      "[CV 3/3] END ..C=10, penalty=none, solver=lbfgs;, score=0.988 total time=   0.0s\n",
      "[CV 1/3] END C=10, penalty=none, solver=liblinear;, score=nan total time=   0.0s\n",
      "[CV 2/3] END C=10, penalty=none, solver=liblinear;, score=nan total time=   0.0s\n",
      "[CV 3/3] END C=10, penalty=none, solver=liblinear;, score=nan total time=   0.0s\n"
     ]
    },
    {
     "name": "stderr",
     "output_type": "stream",
     "text": [
      "c:\\Users\\harsh\\anaconda3\\Lib\\site-packages\\sklearn\\linear_model\\_logistic.py:1183: FutureWarning: `penalty='none'`has been deprecated in 1.2 and will be removed in 1.4. To keep the past behaviour, set `penalty=None`.\n",
      "  warnings.warn(\n",
      "c:\\Users\\harsh\\anaconda3\\Lib\\site-packages\\sklearn\\linear_model\\_logistic.py:1193: UserWarning: Setting penalty=None will ignore the C and l1_ratio parameters\n",
      "  warnings.warn(\n",
      "c:\\Users\\harsh\\anaconda3\\Lib\\site-packages\\sklearn\\linear_model\\_logistic.py:460: ConvergenceWarning: lbfgs failed to converge (status=1):\n",
      "STOP: TOTAL NO. of ITERATIONS REACHED LIMIT.\n",
      "\n",
      "Increase the number of iterations (max_iter) or scale the data as shown in:\n",
      "    https://scikit-learn.org/stable/modules/preprocessing.html\n",
      "Please also refer to the documentation for alternative solver options:\n",
      "    https://scikit-learn.org/stable/modules/linear_model.html#logistic-regression\n",
      "  n_iter_i = _check_optimize_result(\n",
      "c:\\Users\\harsh\\anaconda3\\Lib\\site-packages\\sklearn\\linear_model\\_logistic.py:1183: FutureWarning: `penalty='none'`has been deprecated in 1.2 and will be removed in 1.4. To keep the past behaviour, set `penalty=None`.\n",
      "  warnings.warn(\n",
      "c:\\Users\\harsh\\anaconda3\\Lib\\site-packages\\sklearn\\linear_model\\_logistic.py:1193: UserWarning: Setting penalty=None will ignore the C and l1_ratio parameters\n",
      "  warnings.warn(\n",
      "c:\\Users\\harsh\\anaconda3\\Lib\\site-packages\\sklearn\\linear_model\\_logistic.py:460: ConvergenceWarning: lbfgs failed to converge (status=1):\n",
      "STOP: TOTAL NO. of ITERATIONS REACHED LIMIT.\n",
      "\n",
      "Increase the number of iterations (max_iter) or scale the data as shown in:\n",
      "    https://scikit-learn.org/stable/modules/preprocessing.html\n",
      "Please also refer to the documentation for alternative solver options:\n",
      "    https://scikit-learn.org/stable/modules/linear_model.html#logistic-regression\n",
      "  n_iter_i = _check_optimize_result(\n",
      "c:\\Users\\harsh\\anaconda3\\Lib\\site-packages\\sklearn\\linear_model\\_logistic.py:1183: FutureWarning: `penalty='none'`has been deprecated in 1.2 and will be removed in 1.4. To keep the past behaviour, set `penalty=None`.\n",
      "  warnings.warn(\n",
      "c:\\Users\\harsh\\anaconda3\\Lib\\site-packages\\sklearn\\linear_model\\_logistic.py:1193: UserWarning: Setting penalty=None will ignore the C and l1_ratio parameters\n",
      "  warnings.warn(\n",
      "c:\\Users\\harsh\\anaconda3\\Lib\\site-packages\\sklearn\\linear_model\\_logistic.py:460: ConvergenceWarning: lbfgs failed to converge (status=1):\n",
      "STOP: TOTAL NO. of ITERATIONS REACHED LIMIT.\n",
      "\n",
      "Increase the number of iterations (max_iter) or scale the data as shown in:\n",
      "    https://scikit-learn.org/stable/modules/preprocessing.html\n",
      "Please also refer to the documentation for alternative solver options:\n",
      "    https://scikit-learn.org/stable/modules/linear_model.html#logistic-regression\n",
      "  n_iter_i = _check_optimize_result(\n",
      "c:\\Users\\harsh\\anaconda3\\Lib\\site-packages\\sklearn\\linear_model\\_logistic.py:1183: FutureWarning: `penalty='none'`has been deprecated in 1.2 and will be removed in 1.4. To keep the past behaviour, set `penalty=None`.\n",
      "  warnings.warn(\n",
      "c:\\Users\\harsh\\anaconda3\\Lib\\site-packages\\sklearn\\linear_model\\_logistic.py:1193: UserWarning: Setting penalty=None will ignore the C and l1_ratio parameters\n",
      "  warnings.warn(\n",
      "c:\\Users\\harsh\\anaconda3\\Lib\\site-packages\\sklearn\\linear_model\\_sag.py:350: ConvergenceWarning: The max_iter was reached which means the coef_ did not converge\n",
      "  warnings.warn(\n",
      "c:\\Users\\harsh\\anaconda3\\Lib\\site-packages\\sklearn\\linear_model\\_logistic.py:1183: FutureWarning: `penalty='none'`has been deprecated in 1.2 and will be removed in 1.4. To keep the past behaviour, set `penalty=None`.\n",
      "  warnings.warn(\n",
      "c:\\Users\\harsh\\anaconda3\\Lib\\site-packages\\sklearn\\linear_model\\_logistic.py:1193: UserWarning: Setting penalty=None will ignore the C and l1_ratio parameters\n",
      "  warnings.warn(\n",
      "c:\\Users\\harsh\\anaconda3\\Lib\\site-packages\\sklearn\\linear_model\\_sag.py:350: ConvergenceWarning: The max_iter was reached which means the coef_ did not converge\n",
      "  warnings.warn(\n",
      "c:\\Users\\harsh\\anaconda3\\Lib\\site-packages\\sklearn\\linear_model\\_logistic.py:1183: FutureWarning: `penalty='none'`has been deprecated in 1.2 and will be removed in 1.4. To keep the past behaviour, set `penalty=None`.\n",
      "  warnings.warn(\n",
      "c:\\Users\\harsh\\anaconda3\\Lib\\site-packages\\sklearn\\linear_model\\_logistic.py:1193: UserWarning: Setting penalty=None will ignore the C and l1_ratio parameters\n",
      "  warnings.warn(\n"
     ]
    },
    {
     "name": "stdout",
     "output_type": "stream",
     "text": [
      "[CV 1/3] END ....C=10, penalty=none, solver=sag;, score=0.981 total time=   0.0s\n",
      "[CV 2/3] END ....C=10, penalty=none, solver=sag;, score=0.982 total time=   0.0s\n"
     ]
    },
    {
     "name": "stderr",
     "output_type": "stream",
     "text": [
      "c:\\Users\\harsh\\anaconda3\\Lib\\site-packages\\sklearn\\linear_model\\_sag.py:350: ConvergenceWarning: The max_iter was reached which means the coef_ did not converge\n",
      "  warnings.warn(\n",
      "c:\\Users\\harsh\\anaconda3\\Lib\\site-packages\\sklearn\\linear_model\\_logistic.py:1183: FutureWarning: `penalty='none'`has been deprecated in 1.2 and will be removed in 1.4. To keep the past behaviour, set `penalty=None`.\n",
      "  warnings.warn(\n",
      "c:\\Users\\harsh\\anaconda3\\Lib\\site-packages\\sklearn\\linear_model\\_logistic.py:1193: UserWarning: Setting penalty=None will ignore the C and l1_ratio parameters\n",
      "  warnings.warn(\n",
      "c:\\Users\\harsh\\anaconda3\\Lib\\site-packages\\sklearn\\linear_model\\_sag.py:350: ConvergenceWarning: The max_iter was reached which means the coef_ did not converge\n",
      "  warnings.warn(\n",
      "c:\\Users\\harsh\\anaconda3\\Lib\\site-packages\\sklearn\\linear_model\\_logistic.py:1183: FutureWarning: `penalty='none'`has been deprecated in 1.2 and will be removed in 1.4. To keep the past behaviour, set `penalty=None`.\n",
      "  warnings.warn(\n",
      "c:\\Users\\harsh\\anaconda3\\Lib\\site-packages\\sklearn\\linear_model\\_logistic.py:1193: UserWarning: Setting penalty=None will ignore the C and l1_ratio parameters\n",
      "  warnings.warn(\n"
     ]
    },
    {
     "name": "stdout",
     "output_type": "stream",
     "text": [
      "[CV 3/3] END ....C=10, penalty=none, solver=sag;, score=0.977 total time=   0.0s\n",
      "[CV 1/3] END ...C=10, penalty=none, solver=saga;, score=0.981 total time=   0.1s\n"
     ]
    },
    {
     "name": "stderr",
     "output_type": "stream",
     "text": [
      "c:\\Users\\harsh\\anaconda3\\Lib\\site-packages\\sklearn\\linear_model\\_sag.py:350: ConvergenceWarning: The max_iter was reached which means the coef_ did not converge\n",
      "  warnings.warn(\n",
      "c:\\Users\\harsh\\anaconda3\\Lib\\site-packages\\sklearn\\linear_model\\_logistic.py:1183: FutureWarning: `penalty='none'`has been deprecated in 1.2 and will be removed in 1.4. To keep the past behaviour, set `penalty=None`.\n",
      "  warnings.warn(\n",
      "c:\\Users\\harsh\\anaconda3\\Lib\\site-packages\\sklearn\\linear_model\\_logistic.py:1193: UserWarning: Setting penalty=None will ignore the C and l1_ratio parameters\n",
      "  warnings.warn(\n",
      "c:\\Users\\harsh\\anaconda3\\Lib\\site-packages\\sklearn\\linear_model\\_sag.py:350: ConvergenceWarning: The max_iter was reached which means the coef_ did not converge\n",
      "  warnings.warn(\n"
     ]
    },
    {
     "name": "stdout",
     "output_type": "stream",
     "text": [
      "[CV 2/3] END ...C=10, penalty=none, solver=saga;, score=0.981 total time=   0.1s\n",
      "[CV 3/3] END ...C=10, penalty=none, solver=saga;, score=0.977 total time=   0.0s\n",
      "[CV 1/3] END .C=100, penalty=l1, solver=newton-cg;, score=nan total time=   0.0s\n",
      "[CV 2/3] END .C=100, penalty=l1, solver=newton-cg;, score=nan total time=   0.0s\n",
      "[CV 3/3] END .C=100, penalty=l1, solver=newton-cg;, score=nan total time=   0.0s\n",
      "[CV 1/3] END .....C=100, penalty=l1, solver=lbfgs;, score=nan total time=   0.0s\n",
      "[CV 2/3] END .....C=100, penalty=l1, solver=lbfgs;, score=nan total time=   0.0s\n",
      "[CV 3/3] END .....C=100, penalty=l1, solver=lbfgs;, score=nan total time=   0.0s\n",
      "[CV 1/3] END C=100, penalty=l1, solver=liblinear;, score=0.989 total time=   0.9s\n",
      "[CV 2/3] END C=100, penalty=l1, solver=liblinear;, score=0.992 total time=   0.8s\n",
      "[CV 3/3] END C=100, penalty=l1, solver=liblinear;, score=0.988 total time=   0.9s\n",
      "[CV 1/3] END .......C=100, penalty=l1, solver=sag;, score=nan total time=   0.0s\n",
      "[CV 2/3] END .......C=100, penalty=l1, solver=sag;, score=nan total time=   0.0s\n",
      "[CV 3/3] END .......C=100, penalty=l1, solver=sag;, score=nan total time=   0.0s\n",
      "[CV 1/3] END ....C=100, penalty=l1, solver=saga;, score=0.981 total time=   0.1s\n"
     ]
    },
    {
     "name": "stderr",
     "output_type": "stream",
     "text": [
      "c:\\Users\\harsh\\anaconda3\\Lib\\site-packages\\sklearn\\linear_model\\_sag.py:350: ConvergenceWarning: The max_iter was reached which means the coef_ did not converge\n",
      "  warnings.warn(\n",
      "c:\\Users\\harsh\\anaconda3\\Lib\\site-packages\\sklearn\\linear_model\\_sag.py:350: ConvergenceWarning: The max_iter was reached which means the coef_ did not converge\n",
      "  warnings.warn(\n"
     ]
    },
    {
     "name": "stdout",
     "output_type": "stream",
     "text": [
      "[CV 2/3] END ....C=100, penalty=l1, solver=saga;, score=0.981 total time=   0.1s\n"
     ]
    },
    {
     "name": "stderr",
     "output_type": "stream",
     "text": [
      "c:\\Users\\harsh\\anaconda3\\Lib\\site-packages\\sklearn\\linear_model\\_sag.py:350: ConvergenceWarning: The max_iter was reached which means the coef_ did not converge\n",
      "  warnings.warn(\n"
     ]
    },
    {
     "name": "stdout",
     "output_type": "stream",
     "text": [
      "[CV 3/3] END ....C=100, penalty=l1, solver=saga;, score=0.977 total time=   0.1s\n",
      "[CV 1/3] END C=100, penalty=l2, solver=newton-cg;, score=0.987 total time=   0.0s\n",
      "[CV 2/3] END C=100, penalty=l2, solver=newton-cg;, score=0.987 total time=   0.0s\n",
      "[CV 3/3] END C=100, penalty=l2, solver=newton-cg;, score=0.982 total time=   0.0s\n",
      "[CV 1/3] END ...C=100, penalty=l2, solver=lbfgs;, score=0.985 total time=   0.0s\n",
      "[CV 2/3] END ...C=100, penalty=l2, solver=lbfgs;, score=0.986 total time=   0.0s\n",
      "[CV 3/3] END ...C=100, penalty=l2, solver=lbfgs;, score=0.981 total time=   0.0s\n"
     ]
    },
    {
     "name": "stderr",
     "output_type": "stream",
     "text": [
      "c:\\Users\\harsh\\anaconda3\\Lib\\site-packages\\sklearn\\linear_model\\_logistic.py:460: ConvergenceWarning: lbfgs failed to converge (status=1):\n",
      "STOP: TOTAL NO. of ITERATIONS REACHED LIMIT.\n",
      "\n",
      "Increase the number of iterations (max_iter) or scale the data as shown in:\n",
      "    https://scikit-learn.org/stable/modules/preprocessing.html\n",
      "Please also refer to the documentation for alternative solver options:\n",
      "    https://scikit-learn.org/stable/modules/linear_model.html#logistic-regression\n",
      "  n_iter_i = _check_optimize_result(\n",
      "c:\\Users\\harsh\\anaconda3\\Lib\\site-packages\\sklearn\\linear_model\\_logistic.py:460: ConvergenceWarning: lbfgs failed to converge (status=1):\n",
      "STOP: TOTAL NO. of ITERATIONS REACHED LIMIT.\n",
      "\n",
      "Increase the number of iterations (max_iter) or scale the data as shown in:\n",
      "    https://scikit-learn.org/stable/modules/preprocessing.html\n",
      "Please also refer to the documentation for alternative solver options:\n",
      "    https://scikit-learn.org/stable/modules/linear_model.html#logistic-regression\n",
      "  n_iter_i = _check_optimize_result(\n",
      "c:\\Users\\harsh\\anaconda3\\Lib\\site-packages\\sklearn\\linear_model\\_logistic.py:460: ConvergenceWarning: lbfgs failed to converge (status=1):\n",
      "STOP: TOTAL NO. of ITERATIONS REACHED LIMIT.\n",
      "\n",
      "Increase the number of iterations (max_iter) or scale the data as shown in:\n",
      "    https://scikit-learn.org/stable/modules/preprocessing.html\n",
      "Please also refer to the documentation for alternative solver options:\n",
      "    https://scikit-learn.org/stable/modules/linear_model.html#logistic-regression\n",
      "  n_iter_i = _check_optimize_result(\n"
     ]
    },
    {
     "name": "stdout",
     "output_type": "stream",
     "text": [
      "[CV 1/3] END C=100, penalty=l2, solver=liblinear;, score=0.987 total time=   0.1s\n",
      "[CV 2/3] END C=100, penalty=l2, solver=liblinear;, score=0.987 total time=   0.0s\n",
      "[CV 3/3] END C=100, penalty=l2, solver=liblinear;, score=0.982 total time=   0.1s\n",
      "[CV 1/3] END .....C=100, penalty=l2, solver=sag;, score=0.981 total time=   0.0s\n"
     ]
    },
    {
     "name": "stderr",
     "output_type": "stream",
     "text": [
      "c:\\Users\\harsh\\anaconda3\\Lib\\site-packages\\sklearn\\linear_model\\_sag.py:350: ConvergenceWarning: The max_iter was reached which means the coef_ did not converge\n",
      "  warnings.warn(\n",
      "c:\\Users\\harsh\\anaconda3\\Lib\\site-packages\\sklearn\\linear_model\\_sag.py:350: ConvergenceWarning: The max_iter was reached which means the coef_ did not converge\n",
      "  warnings.warn(\n"
     ]
    },
    {
     "name": "stdout",
     "output_type": "stream",
     "text": [
      "[CV 2/3] END .....C=100, penalty=l2, solver=sag;, score=0.982 total time=   0.0s\n",
      "[CV 3/3] END .....C=100, penalty=l2, solver=sag;, score=0.977 total time=   0.0s\n"
     ]
    },
    {
     "name": "stderr",
     "output_type": "stream",
     "text": [
      "c:\\Users\\harsh\\anaconda3\\Lib\\site-packages\\sklearn\\linear_model\\_sag.py:350: ConvergenceWarning: The max_iter was reached which means the coef_ did not converge\n",
      "  warnings.warn(\n",
      "c:\\Users\\harsh\\anaconda3\\Lib\\site-packages\\sklearn\\linear_model\\_sag.py:350: ConvergenceWarning: The max_iter was reached which means the coef_ did not converge\n",
      "  warnings.warn(\n"
     ]
    },
    {
     "name": "stdout",
     "output_type": "stream",
     "text": [
      "[CV 1/3] END ....C=100, penalty=l2, solver=saga;, score=0.981 total time=   0.0s\n",
      "[CV 2/3] END ....C=100, penalty=l2, solver=saga;, score=0.981 total time=   0.0s\n"
     ]
    },
    {
     "name": "stderr",
     "output_type": "stream",
     "text": [
      "c:\\Users\\harsh\\anaconda3\\Lib\\site-packages\\sklearn\\linear_model\\_sag.py:350: ConvergenceWarning: The max_iter was reached which means the coef_ did not converge\n",
      "  warnings.warn(\n",
      "c:\\Users\\harsh\\anaconda3\\Lib\\site-packages\\sklearn\\linear_model\\_sag.py:350: ConvergenceWarning: The max_iter was reached which means the coef_ did not converge\n",
      "  warnings.warn(\n",
      "c:\\Users\\harsh\\anaconda3\\Lib\\site-packages\\sklearn\\linear_model\\_logistic.py:1183: FutureWarning: `penalty='none'`has been deprecated in 1.2 and will be removed in 1.4. To keep the past behaviour, set `penalty=None`.\n",
      "  warnings.warn(\n",
      "c:\\Users\\harsh\\anaconda3\\Lib\\site-packages\\sklearn\\linear_model\\_logistic.py:1193: UserWarning: Setting penalty=None will ignore the C and l1_ratio parameters\n",
      "  warnings.warn(\n"
     ]
    },
    {
     "name": "stdout",
     "output_type": "stream",
     "text": [
      "[CV 3/3] END ....C=100, penalty=l2, solver=saga;, score=0.977 total time=   0.0s\n",
      "[CV 1/3] END C=100, penalty=elasticnet, solver=newton-cg;, score=nan total time=   0.0s\n",
      "[CV 2/3] END C=100, penalty=elasticnet, solver=newton-cg;, score=nan total time=   0.0s\n",
      "[CV 3/3] END C=100, penalty=elasticnet, solver=newton-cg;, score=nan total time=   0.0s\n",
      "[CV 1/3] END C=100, penalty=elasticnet, solver=lbfgs;, score=nan total time=   0.0s\n",
      "[CV 2/3] END C=100, penalty=elasticnet, solver=lbfgs;, score=nan total time=   0.0s\n",
      "[CV 3/3] END C=100, penalty=elasticnet, solver=lbfgs;, score=nan total time=   0.0s\n",
      "[CV 1/3] END C=100, penalty=elasticnet, solver=liblinear;, score=nan total time=   0.0s\n",
      "[CV 2/3] END C=100, penalty=elasticnet, solver=liblinear;, score=nan total time=   0.0s\n",
      "[CV 3/3] END C=100, penalty=elasticnet, solver=liblinear;, score=nan total time=   0.0s\n",
      "[CV 1/3] END C=100, penalty=elasticnet, solver=sag;, score=nan total time=   0.0s\n",
      "[CV 2/3] END C=100, penalty=elasticnet, solver=sag;, score=nan total time=   0.0s\n",
      "[CV 3/3] END C=100, penalty=elasticnet, solver=sag;, score=nan total time=   0.0s\n",
      "[CV 1/3] END C=100, penalty=elasticnet, solver=saga;, score=nan total time=   0.0s\n",
      "[CV 2/3] END C=100, penalty=elasticnet, solver=saga;, score=nan total time=   0.0s\n",
      "[CV 3/3] END C=100, penalty=elasticnet, solver=saga;, score=nan total time=   0.0s\n",
      "[CV 1/3] END C=100, penalty=none, solver=newton-cg;, score=0.989 total time=   0.2s\n"
     ]
    },
    {
     "name": "stderr",
     "output_type": "stream",
     "text": [
      "c:\\Users\\harsh\\anaconda3\\Lib\\site-packages\\sklearn\\linear_model\\_logistic.py:1183: FutureWarning: `penalty='none'`has been deprecated in 1.2 and will be removed in 1.4. To keep the past behaviour, set `penalty=None`.\n",
      "  warnings.warn(\n",
      "c:\\Users\\harsh\\anaconda3\\Lib\\site-packages\\sklearn\\linear_model\\_logistic.py:1193: UserWarning: Setting penalty=None will ignore the C and l1_ratio parameters\n",
      "  warnings.warn(\n"
     ]
    },
    {
     "name": "stdout",
     "output_type": "stream",
     "text": [
      "[CV 2/3] END C=100, penalty=none, solver=newton-cg;, score=0.994 total time=   0.3s\n"
     ]
    },
    {
     "name": "stderr",
     "output_type": "stream",
     "text": [
      "c:\\Users\\harsh\\anaconda3\\Lib\\site-packages\\sklearn\\linear_model\\_logistic.py:1183: FutureWarning: `penalty='none'`has been deprecated in 1.2 and will be removed in 1.4. To keep the past behaviour, set `penalty=None`.\n",
      "  warnings.warn(\n",
      "c:\\Users\\harsh\\anaconda3\\Lib\\site-packages\\sklearn\\linear_model\\_logistic.py:1193: UserWarning: Setting penalty=None will ignore the C and l1_ratio parameters\n",
      "  warnings.warn(\n"
     ]
    },
    {
     "name": "stdout",
     "output_type": "stream",
     "text": [
      "[CV 3/3] END C=100, penalty=none, solver=newton-cg;, score=0.988 total time=   0.3s\n",
      "[CV 1/3] END .C=100, penalty=none, solver=lbfgs;, score=0.989 total time=   0.0s\n",
      "[CV 2/3] END .C=100, penalty=none, solver=lbfgs;, score=0.990 total time=   0.0s\n",
      "[CV 3/3] END .C=100, penalty=none, solver=lbfgs;, score=0.988 total time=   0.0s\n",
      "[CV 1/3] END C=100, penalty=none, solver=liblinear;, score=nan total time=   0.0s\n",
      "[CV 2/3] END C=100, penalty=none, solver=liblinear;, score=nan total time=   0.0s\n",
      "[CV 3/3] END C=100, penalty=none, solver=liblinear;, score=nan total time=   0.0s\n"
     ]
    },
    {
     "name": "stderr",
     "output_type": "stream",
     "text": [
      "c:\\Users\\harsh\\anaconda3\\Lib\\site-packages\\sklearn\\linear_model\\_logistic.py:1183: FutureWarning: `penalty='none'`has been deprecated in 1.2 and will be removed in 1.4. To keep the past behaviour, set `penalty=None`.\n",
      "  warnings.warn(\n",
      "c:\\Users\\harsh\\anaconda3\\Lib\\site-packages\\sklearn\\linear_model\\_logistic.py:1193: UserWarning: Setting penalty=None will ignore the C and l1_ratio parameters\n",
      "  warnings.warn(\n",
      "c:\\Users\\harsh\\anaconda3\\Lib\\site-packages\\sklearn\\linear_model\\_logistic.py:460: ConvergenceWarning: lbfgs failed to converge (status=1):\n",
      "STOP: TOTAL NO. of ITERATIONS REACHED LIMIT.\n",
      "\n",
      "Increase the number of iterations (max_iter) or scale the data as shown in:\n",
      "    https://scikit-learn.org/stable/modules/preprocessing.html\n",
      "Please also refer to the documentation for alternative solver options:\n",
      "    https://scikit-learn.org/stable/modules/linear_model.html#logistic-regression\n",
      "  n_iter_i = _check_optimize_result(\n",
      "c:\\Users\\harsh\\anaconda3\\Lib\\site-packages\\sklearn\\linear_model\\_logistic.py:1183: FutureWarning: `penalty='none'`has been deprecated in 1.2 and will be removed in 1.4. To keep the past behaviour, set `penalty=None`.\n",
      "  warnings.warn(\n",
      "c:\\Users\\harsh\\anaconda3\\Lib\\site-packages\\sklearn\\linear_model\\_logistic.py:1193: UserWarning: Setting penalty=None will ignore the C and l1_ratio parameters\n",
      "  warnings.warn(\n",
      "c:\\Users\\harsh\\anaconda3\\Lib\\site-packages\\sklearn\\linear_model\\_logistic.py:460: ConvergenceWarning: lbfgs failed to converge (status=1):\n",
      "STOP: TOTAL NO. of ITERATIONS REACHED LIMIT.\n",
      "\n",
      "Increase the number of iterations (max_iter) or scale the data as shown in:\n",
      "    https://scikit-learn.org/stable/modules/preprocessing.html\n",
      "Please also refer to the documentation for alternative solver options:\n",
      "    https://scikit-learn.org/stable/modules/linear_model.html#logistic-regression\n",
      "  n_iter_i = _check_optimize_result(\n",
      "c:\\Users\\harsh\\anaconda3\\Lib\\site-packages\\sklearn\\linear_model\\_logistic.py:1183: FutureWarning: `penalty='none'`has been deprecated in 1.2 and will be removed in 1.4. To keep the past behaviour, set `penalty=None`.\n",
      "  warnings.warn(\n",
      "c:\\Users\\harsh\\anaconda3\\Lib\\site-packages\\sklearn\\linear_model\\_logistic.py:1193: UserWarning: Setting penalty=None will ignore the C and l1_ratio parameters\n",
      "  warnings.warn(\n",
      "c:\\Users\\harsh\\anaconda3\\Lib\\site-packages\\sklearn\\linear_model\\_logistic.py:460: ConvergenceWarning: lbfgs failed to converge (status=1):\n",
      "STOP: TOTAL NO. of ITERATIONS REACHED LIMIT.\n",
      "\n",
      "Increase the number of iterations (max_iter) or scale the data as shown in:\n",
      "    https://scikit-learn.org/stable/modules/preprocessing.html\n",
      "Please also refer to the documentation for alternative solver options:\n",
      "    https://scikit-learn.org/stable/modules/linear_model.html#logistic-regression\n",
      "  n_iter_i = _check_optimize_result(\n",
      "c:\\Users\\harsh\\anaconda3\\Lib\\site-packages\\sklearn\\linear_model\\_logistic.py:1183: FutureWarning: `penalty='none'`has been deprecated in 1.2 and will be removed in 1.4. To keep the past behaviour, set `penalty=None`.\n",
      "  warnings.warn(\n",
      "c:\\Users\\harsh\\anaconda3\\Lib\\site-packages\\sklearn\\linear_model\\_logistic.py:1193: UserWarning: Setting penalty=None will ignore the C and l1_ratio parameters\n",
      "  warnings.warn(\n",
      "c:\\Users\\harsh\\anaconda3\\Lib\\site-packages\\sklearn\\linear_model\\_sag.py:350: ConvergenceWarning: The max_iter was reached which means the coef_ did not converge\n",
      "  warnings.warn(\n",
      "c:\\Users\\harsh\\anaconda3\\Lib\\site-packages\\sklearn\\linear_model\\_logistic.py:1183: FutureWarning: `penalty='none'`has been deprecated in 1.2 and will be removed in 1.4. To keep the past behaviour, set `penalty=None`.\n",
      "  warnings.warn(\n",
      "c:\\Users\\harsh\\anaconda3\\Lib\\site-packages\\sklearn\\linear_model\\_logistic.py:1193: UserWarning: Setting penalty=None will ignore the C and l1_ratio parameters\n",
      "  warnings.warn(\n",
      "c:\\Users\\harsh\\anaconda3\\Lib\\site-packages\\sklearn\\linear_model\\_sag.py:350: ConvergenceWarning: The max_iter was reached which means the coef_ did not converge\n",
      "  warnings.warn(\n",
      "c:\\Users\\harsh\\anaconda3\\Lib\\site-packages\\sklearn\\linear_model\\_logistic.py:1183: FutureWarning: `penalty='none'`has been deprecated in 1.2 and will be removed in 1.4. To keep the past behaviour, set `penalty=None`.\n",
      "  warnings.warn(\n",
      "c:\\Users\\harsh\\anaconda3\\Lib\\site-packages\\sklearn\\linear_model\\_logistic.py:1193: UserWarning: Setting penalty=None will ignore the C and l1_ratio parameters\n",
      "  warnings.warn(\n"
     ]
    },
    {
     "name": "stdout",
     "output_type": "stream",
     "text": [
      "[CV 1/3] END ...C=100, penalty=none, solver=sag;, score=0.981 total time=   0.0s\n",
      "[CV 2/3] END ...C=100, penalty=none, solver=sag;, score=0.982 total time=   0.0s\n"
     ]
    },
    {
     "name": "stderr",
     "output_type": "stream",
     "text": [
      "c:\\Users\\harsh\\anaconda3\\Lib\\site-packages\\sklearn\\linear_model\\_sag.py:350: ConvergenceWarning: The max_iter was reached which means the coef_ did not converge\n",
      "  warnings.warn(\n",
      "c:\\Users\\harsh\\anaconda3\\Lib\\site-packages\\sklearn\\linear_model\\_logistic.py:1183: FutureWarning: `penalty='none'`has been deprecated in 1.2 and will be removed in 1.4. To keep the past behaviour, set `penalty=None`.\n",
      "  warnings.warn(\n",
      "c:\\Users\\harsh\\anaconda3\\Lib\\site-packages\\sklearn\\linear_model\\_logistic.py:1193: UserWarning: Setting penalty=None will ignore the C and l1_ratio parameters\n",
      "  warnings.warn(\n",
      "c:\\Users\\harsh\\anaconda3\\Lib\\site-packages\\sklearn\\linear_model\\_sag.py:350: ConvergenceWarning: The max_iter was reached which means the coef_ did not converge\n",
      "  warnings.warn(\n",
      "c:\\Users\\harsh\\anaconda3\\Lib\\site-packages\\sklearn\\linear_model\\_logistic.py:1183: FutureWarning: `penalty='none'`has been deprecated in 1.2 and will be removed in 1.4. To keep the past behaviour, set `penalty=None`.\n",
      "  warnings.warn(\n",
      "c:\\Users\\harsh\\anaconda3\\Lib\\site-packages\\sklearn\\linear_model\\_logistic.py:1193: UserWarning: Setting penalty=None will ignore the C and l1_ratio parameters\n",
      "  warnings.warn(\n"
     ]
    },
    {
     "name": "stdout",
     "output_type": "stream",
     "text": [
      "[CV 3/3] END ...C=100, penalty=none, solver=sag;, score=0.977 total time=   0.0s\n",
      "[CV 1/3] END ..C=100, penalty=none, solver=saga;, score=0.981 total time=   0.0s\n"
     ]
    },
    {
     "name": "stderr",
     "output_type": "stream",
     "text": [
      "c:\\Users\\harsh\\anaconda3\\Lib\\site-packages\\sklearn\\linear_model\\_sag.py:350: ConvergenceWarning: The max_iter was reached which means the coef_ did not converge\n",
      "  warnings.warn(\n",
      "c:\\Users\\harsh\\anaconda3\\Lib\\site-packages\\sklearn\\linear_model\\_logistic.py:1183: FutureWarning: `penalty='none'`has been deprecated in 1.2 and will be removed in 1.4. To keep the past behaviour, set `penalty=None`.\n",
      "  warnings.warn(\n",
      "c:\\Users\\harsh\\anaconda3\\Lib\\site-packages\\sklearn\\linear_model\\_logistic.py:1193: UserWarning: Setting penalty=None will ignore the C and l1_ratio parameters\n",
      "  warnings.warn(\n",
      "c:\\Users\\harsh\\anaconda3\\Lib\\site-packages\\sklearn\\linear_model\\_sag.py:350: ConvergenceWarning: The max_iter was reached which means the coef_ did not converge\n",
      "  warnings.warn(\n",
      "c:\\Users\\harsh\\anaconda3\\Lib\\site-packages\\sklearn\\model_selection\\_validation.py:425: FitFailedWarning: \n",
      "135 fits failed out of a total of 300.\n",
      "The score on these train-test partitions for these parameters will be set to nan.\n",
      "If these failures are not expected, you can try to debug them by setting error_score='raise'.\n",
      "\n",
      "Below are more details about the failures:\n",
      "--------------------------------------------------------------------------------\n",
      "15 fits failed with the following error:\n",
      "Traceback (most recent call last):\n",
      "  File \"c:\\Users\\harsh\\anaconda3\\Lib\\site-packages\\sklearn\\model_selection\\_validation.py\", line 729, in _fit_and_score\n",
      "    estimator.fit(X_train, y_train, **fit_params)\n",
      "  File \"c:\\Users\\harsh\\anaconda3\\Lib\\site-packages\\sklearn\\base.py\", line 1152, in wrapper\n",
      "    return fit_method(estimator, *args, **kwargs)\n",
      "           ^^^^^^^^^^^^^^^^^^^^^^^^^^^^^^^^^^^^^^\n",
      "  File \"c:\\Users\\harsh\\anaconda3\\Lib\\site-packages\\sklearn\\linear_model\\_logistic.py\", line 1169, in fit\n",
      "    solver = _check_solver(self.solver, self.penalty, self.dual)\n",
      "             ^^^^^^^^^^^^^^^^^^^^^^^^^^^^^^^^^^^^^^^^^^^^^^^^^^^\n",
      "  File \"c:\\Users\\harsh\\anaconda3\\Lib\\site-packages\\sklearn\\linear_model\\_logistic.py\", line 56, in _check_solver\n",
      "    raise ValueError(\n",
      "ValueError: Solver newton-cg supports only 'l2' or 'none' penalties, got l1 penalty.\n",
      "\n",
      "--------------------------------------------------------------------------------\n",
      "15 fits failed with the following error:\n",
      "Traceback (most recent call last):\n",
      "  File \"c:\\Users\\harsh\\anaconda3\\Lib\\site-packages\\sklearn\\model_selection\\_validation.py\", line 729, in _fit_and_score\n",
      "    estimator.fit(X_train, y_train, **fit_params)\n",
      "  File \"c:\\Users\\harsh\\anaconda3\\Lib\\site-packages\\sklearn\\base.py\", line 1152, in wrapper\n",
      "    return fit_method(estimator, *args, **kwargs)\n",
      "           ^^^^^^^^^^^^^^^^^^^^^^^^^^^^^^^^^^^^^^\n",
      "  File \"c:\\Users\\harsh\\anaconda3\\Lib\\site-packages\\sklearn\\linear_model\\_logistic.py\", line 1169, in fit\n",
      "    solver = _check_solver(self.solver, self.penalty, self.dual)\n",
      "             ^^^^^^^^^^^^^^^^^^^^^^^^^^^^^^^^^^^^^^^^^^^^^^^^^^^\n",
      "  File \"c:\\Users\\harsh\\anaconda3\\Lib\\site-packages\\sklearn\\linear_model\\_logistic.py\", line 56, in _check_solver\n",
      "    raise ValueError(\n",
      "ValueError: Solver lbfgs supports only 'l2' or 'none' penalties, got l1 penalty.\n",
      "\n",
      "--------------------------------------------------------------------------------\n",
      "15 fits failed with the following error:\n",
      "Traceback (most recent call last):\n",
      "  File \"c:\\Users\\harsh\\anaconda3\\Lib\\site-packages\\sklearn\\model_selection\\_validation.py\", line 729, in _fit_and_score\n",
      "    estimator.fit(X_train, y_train, **fit_params)\n",
      "  File \"c:\\Users\\harsh\\anaconda3\\Lib\\site-packages\\sklearn\\base.py\", line 1152, in wrapper\n",
      "    return fit_method(estimator, *args, **kwargs)\n",
      "           ^^^^^^^^^^^^^^^^^^^^^^^^^^^^^^^^^^^^^^\n",
      "  File \"c:\\Users\\harsh\\anaconda3\\Lib\\site-packages\\sklearn\\linear_model\\_logistic.py\", line 1169, in fit\n",
      "    solver = _check_solver(self.solver, self.penalty, self.dual)\n",
      "             ^^^^^^^^^^^^^^^^^^^^^^^^^^^^^^^^^^^^^^^^^^^^^^^^^^^\n",
      "  File \"c:\\Users\\harsh\\anaconda3\\Lib\\site-packages\\sklearn\\linear_model\\_logistic.py\", line 56, in _check_solver\n",
      "    raise ValueError(\n",
      "ValueError: Solver sag supports only 'l2' or 'none' penalties, got l1 penalty.\n",
      "\n",
      "--------------------------------------------------------------------------------\n",
      "15 fits failed with the following error:\n",
      "Traceback (most recent call last):\n",
      "  File \"c:\\Users\\harsh\\anaconda3\\Lib\\site-packages\\sklearn\\model_selection\\_validation.py\", line 729, in _fit_and_score\n",
      "    estimator.fit(X_train, y_train, **fit_params)\n",
      "  File \"c:\\Users\\harsh\\anaconda3\\Lib\\site-packages\\sklearn\\base.py\", line 1152, in wrapper\n",
      "    return fit_method(estimator, *args, **kwargs)\n",
      "           ^^^^^^^^^^^^^^^^^^^^^^^^^^^^^^^^^^^^^^\n",
      "  File \"c:\\Users\\harsh\\anaconda3\\Lib\\site-packages\\sklearn\\linear_model\\_logistic.py\", line 1169, in fit\n",
      "    solver = _check_solver(self.solver, self.penalty, self.dual)\n",
      "             ^^^^^^^^^^^^^^^^^^^^^^^^^^^^^^^^^^^^^^^^^^^^^^^^^^^\n",
      "  File \"c:\\Users\\harsh\\anaconda3\\Lib\\site-packages\\sklearn\\linear_model\\_logistic.py\", line 56, in _check_solver\n",
      "    raise ValueError(\n",
      "ValueError: Solver newton-cg supports only 'l2' or 'none' penalties, got elasticnet penalty.\n",
      "\n",
      "--------------------------------------------------------------------------------\n",
      "15 fits failed with the following error:\n",
      "Traceback (most recent call last):\n",
      "  File \"c:\\Users\\harsh\\anaconda3\\Lib\\site-packages\\sklearn\\model_selection\\_validation.py\", line 729, in _fit_and_score\n",
      "    estimator.fit(X_train, y_train, **fit_params)\n",
      "  File \"c:\\Users\\harsh\\anaconda3\\Lib\\site-packages\\sklearn\\base.py\", line 1152, in wrapper\n",
      "    return fit_method(estimator, *args, **kwargs)\n",
      "           ^^^^^^^^^^^^^^^^^^^^^^^^^^^^^^^^^^^^^^\n",
      "  File \"c:\\Users\\harsh\\anaconda3\\Lib\\site-packages\\sklearn\\linear_model\\_logistic.py\", line 1169, in fit\n",
      "    solver = _check_solver(self.solver, self.penalty, self.dual)\n",
      "             ^^^^^^^^^^^^^^^^^^^^^^^^^^^^^^^^^^^^^^^^^^^^^^^^^^^\n",
      "  File \"c:\\Users\\harsh\\anaconda3\\Lib\\site-packages\\sklearn\\linear_model\\_logistic.py\", line 56, in _check_solver\n",
      "    raise ValueError(\n",
      "ValueError: Solver lbfgs supports only 'l2' or 'none' penalties, got elasticnet penalty.\n",
      "\n",
      "--------------------------------------------------------------------------------\n",
      "15 fits failed with the following error:\n",
      "Traceback (most recent call last):\n",
      "  File \"c:\\Users\\harsh\\anaconda3\\Lib\\site-packages\\sklearn\\model_selection\\_validation.py\", line 729, in _fit_and_score\n",
      "    estimator.fit(X_train, y_train, **fit_params)\n",
      "  File \"c:\\Users\\harsh\\anaconda3\\Lib\\site-packages\\sklearn\\base.py\", line 1152, in wrapper\n",
      "    return fit_method(estimator, *args, **kwargs)\n",
      "           ^^^^^^^^^^^^^^^^^^^^^^^^^^^^^^^^^^^^^^\n",
      "  File \"c:\\Users\\harsh\\anaconda3\\Lib\\site-packages\\sklearn\\linear_model\\_logistic.py\", line 1169, in fit\n",
      "    solver = _check_solver(self.solver, self.penalty, self.dual)\n",
      "             ^^^^^^^^^^^^^^^^^^^^^^^^^^^^^^^^^^^^^^^^^^^^^^^^^^^\n",
      "  File \"c:\\Users\\harsh\\anaconda3\\Lib\\site-packages\\sklearn\\linear_model\\_logistic.py\", line 66, in _check_solver\n",
      "    raise ValueError(\n",
      "ValueError: Only 'saga' solver supports elasticnet penalty, got solver=liblinear.\n",
      "\n",
      "--------------------------------------------------------------------------------\n",
      "15 fits failed with the following error:\n",
      "Traceback (most recent call last):\n",
      "  File \"c:\\Users\\harsh\\anaconda3\\Lib\\site-packages\\sklearn\\model_selection\\_validation.py\", line 729, in _fit_and_score\n",
      "    estimator.fit(X_train, y_train, **fit_params)\n",
      "  File \"c:\\Users\\harsh\\anaconda3\\Lib\\site-packages\\sklearn\\base.py\", line 1152, in wrapper\n",
      "    return fit_method(estimator, *args, **kwargs)\n",
      "           ^^^^^^^^^^^^^^^^^^^^^^^^^^^^^^^^^^^^^^\n",
      "  File \"c:\\Users\\harsh\\anaconda3\\Lib\\site-packages\\sklearn\\linear_model\\_logistic.py\", line 1169, in fit\n",
      "    solver = _check_solver(self.solver, self.penalty, self.dual)\n",
      "             ^^^^^^^^^^^^^^^^^^^^^^^^^^^^^^^^^^^^^^^^^^^^^^^^^^^\n",
      "  File \"c:\\Users\\harsh\\anaconda3\\Lib\\site-packages\\sklearn\\linear_model\\_logistic.py\", line 56, in _check_solver\n",
      "    raise ValueError(\n",
      "ValueError: Solver sag supports only 'l2' or 'none' penalties, got elasticnet penalty.\n",
      "\n",
      "--------------------------------------------------------------------------------\n",
      "15 fits failed with the following error:\n",
      "Traceback (most recent call last):\n",
      "  File \"c:\\Users\\harsh\\anaconda3\\Lib\\site-packages\\sklearn\\model_selection\\_validation.py\", line 729, in _fit_and_score\n",
      "    estimator.fit(X_train, y_train, **fit_params)\n",
      "  File \"c:\\Users\\harsh\\anaconda3\\Lib\\site-packages\\sklearn\\base.py\", line 1152, in wrapper\n",
      "    return fit_method(estimator, *args, **kwargs)\n",
      "           ^^^^^^^^^^^^^^^^^^^^^^^^^^^^^^^^^^^^^^\n",
      "  File \"c:\\Users\\harsh\\anaconda3\\Lib\\site-packages\\sklearn\\linear_model\\_logistic.py\", line 1179, in fit\n",
      "    raise ValueError(\"l1_ratio must be specified when penalty is elasticnet.\")\n",
      "ValueError: l1_ratio must be specified when penalty is elasticnet.\n",
      "\n",
      "--------------------------------------------------------------------------------\n",
      "15 fits failed with the following error:\n",
      "Traceback (most recent call last):\n",
      "  File \"c:\\Users\\harsh\\anaconda3\\Lib\\site-packages\\sklearn\\model_selection\\_validation.py\", line 729, in _fit_and_score\n",
      "    estimator.fit(X_train, y_train, **fit_params)\n",
      "  File \"c:\\Users\\harsh\\anaconda3\\Lib\\site-packages\\sklearn\\base.py\", line 1152, in wrapper\n",
      "    return fit_method(estimator, *args, **kwargs)\n",
      "           ^^^^^^^^^^^^^^^^^^^^^^^^^^^^^^^^^^^^^^\n",
      "  File \"c:\\Users\\harsh\\anaconda3\\Lib\\site-packages\\sklearn\\linear_model\\_logistic.py\", line 1169, in fit\n",
      "    solver = _check_solver(self.solver, self.penalty, self.dual)\n",
      "             ^^^^^^^^^^^^^^^^^^^^^^^^^^^^^^^^^^^^^^^^^^^^^^^^^^^\n",
      "  File \"c:\\Users\\harsh\\anaconda3\\Lib\\site-packages\\sklearn\\linear_model\\_logistic.py\", line 73, in _check_solver\n",
      "    raise ValueError(\"penalty='none' is not supported for the liblinear solver\")\n",
      "ValueError: penalty='none' is not supported for the liblinear solver\n",
      "\n",
      "  warnings.warn(some_fits_failed_message, FitFailedWarning)\n",
      "c:\\Users\\harsh\\anaconda3\\Lib\\site-packages\\sklearn\\model_selection\\_search.py:979: UserWarning: One or more of the test scores are non-finite: [       nan        nan 0.97797633        nan 0.97813308 0.97805471\n",
      " 0.97805471 0.97805471 0.97805471 0.97805471        nan        nan\n",
      "        nan        nan        nan 0.99059487 0.98902735        nan\n",
      " 0.98024924 0.97985736        nan        nan 0.97977898        nan\n",
      " 0.97977898 0.97891684 0.97891684 0.97868171 0.97891684 0.97891684\n",
      "        nan        nan        nan        nan        nan 0.99059487\n",
      " 0.98902735        nan 0.98024924 0.97985736        nan        nan\n",
      " 0.98040599        nan 0.98009248 0.98017086 0.98017086 0.98017086\n",
      " 0.98009248 0.97985736        nan        nan        nan        nan\n",
      "        nan 0.99059487 0.98902735        nan 0.98024924 0.97985736\n",
      "        nan        nan 0.98957599        nan 0.97985736 0.98111137\n",
      " 0.98111137 0.98087624 0.98024924 0.97985736        nan        nan\n",
      "        nan        nan        nan 0.99059487 0.98902735        nan\n",
      " 0.98024924 0.97985736        nan        nan 0.98949761        nan\n",
      " 0.97985736 0.98550043 0.98408966 0.98550043 0.98024924 0.97985736\n",
      "        nan        nan        nan        nan        nan 0.99059487\n",
      " 0.98902735        nan 0.98024924 0.97985736]\n",
      "  warnings.warn(\n",
      "c:\\Users\\harsh\\anaconda3\\Lib\\site-packages\\sklearn\\linear_model\\_logistic.py:1183: FutureWarning: `penalty='none'`has been deprecated in 1.2 and will be removed in 1.4. To keep the past behaviour, set `penalty=None`.\n",
      "  warnings.warn(\n",
      "c:\\Users\\harsh\\anaconda3\\Lib\\site-packages\\sklearn\\linear_model\\_logistic.py:1193: UserWarning: Setting penalty=None will ignore the C and l1_ratio parameters\n",
      "  warnings.warn(\n"
     ]
    },
    {
     "name": "stdout",
     "output_type": "stream",
     "text": [
      "[CV 2/3] END ..C=100, penalty=none, solver=saga;, score=0.981 total time=   0.0s\n",
      "[CV 3/3] END ..C=100, penalty=none, solver=saga;, score=0.977 total time=   0.0s\n"
     ]
    },
    {
     "data": {
      "text/html": [
       "<style>#sk-container-id-5 {color: black;}#sk-container-id-5 pre{padding: 0;}#sk-container-id-5 div.sk-toggleable {background-color: white;}#sk-container-id-5 label.sk-toggleable__label {cursor: pointer;display: block;width: 100%;margin-bottom: 0;padding: 0.3em;box-sizing: border-box;text-align: center;}#sk-container-id-5 label.sk-toggleable__label-arrow:before {content: \"▸\";float: left;margin-right: 0.25em;color: #696969;}#sk-container-id-5 label.sk-toggleable__label-arrow:hover:before {color: black;}#sk-container-id-5 div.sk-estimator:hover label.sk-toggleable__label-arrow:before {color: black;}#sk-container-id-5 div.sk-toggleable__content {max-height: 0;max-width: 0;overflow: hidden;text-align: left;background-color: #f0f8ff;}#sk-container-id-5 div.sk-toggleable__content pre {margin: 0.2em;color: black;border-radius: 0.25em;background-color: #f0f8ff;}#sk-container-id-5 input.sk-toggleable__control:checked~div.sk-toggleable__content {max-height: 200px;max-width: 100%;overflow: auto;}#sk-container-id-5 input.sk-toggleable__control:checked~label.sk-toggleable__label-arrow:before {content: \"▾\";}#sk-container-id-5 div.sk-estimator input.sk-toggleable__control:checked~label.sk-toggleable__label {background-color: #d4ebff;}#sk-container-id-5 div.sk-label input.sk-toggleable__control:checked~label.sk-toggleable__label {background-color: #d4ebff;}#sk-container-id-5 input.sk-hidden--visually {border: 0;clip: rect(1px 1px 1px 1px);clip: rect(1px, 1px, 1px, 1px);height: 1px;margin: -1px;overflow: hidden;padding: 0;position: absolute;width: 1px;}#sk-container-id-5 div.sk-estimator {font-family: monospace;background-color: #f0f8ff;border: 1px dotted black;border-radius: 0.25em;box-sizing: border-box;margin-bottom: 0.5em;}#sk-container-id-5 div.sk-estimator:hover {background-color: #d4ebff;}#sk-container-id-5 div.sk-parallel-item::after {content: \"\";width: 100%;border-bottom: 1px solid gray;flex-grow: 1;}#sk-container-id-5 div.sk-label:hover label.sk-toggleable__label {background-color: #d4ebff;}#sk-container-id-5 div.sk-serial::before {content: \"\";position: absolute;border-left: 1px solid gray;box-sizing: border-box;top: 0;bottom: 0;left: 50%;z-index: 0;}#sk-container-id-5 div.sk-serial {display: flex;flex-direction: column;align-items: center;background-color: white;padding-right: 0.2em;padding-left: 0.2em;position: relative;}#sk-container-id-5 div.sk-item {position: relative;z-index: 1;}#sk-container-id-5 div.sk-parallel {display: flex;align-items: stretch;justify-content: center;background-color: white;position: relative;}#sk-container-id-5 div.sk-item::before, #sk-container-id-5 div.sk-parallel-item::before {content: \"\";position: absolute;border-left: 1px solid gray;box-sizing: border-box;top: 0;bottom: 0;left: 50%;z-index: -1;}#sk-container-id-5 div.sk-parallel-item {display: flex;flex-direction: column;z-index: 1;position: relative;background-color: white;}#sk-container-id-5 div.sk-parallel-item:first-child::after {align-self: flex-end;width: 50%;}#sk-container-id-5 div.sk-parallel-item:last-child::after {align-self: flex-start;width: 50%;}#sk-container-id-5 div.sk-parallel-item:only-child::after {width: 0;}#sk-container-id-5 div.sk-dashed-wrapped {border: 1px dashed gray;margin: 0 0.4em 0.5em 0.4em;box-sizing: border-box;padding-bottom: 0.4em;background-color: white;}#sk-container-id-5 div.sk-label label {font-family: monospace;font-weight: bold;display: inline-block;line-height: 1.2em;}#sk-container-id-5 div.sk-label-container {text-align: center;}#sk-container-id-5 div.sk-container {/* jupyter's `normalize.less` sets `[hidden] { display: none; }` but bootstrap.min.css set `[hidden] { display: none !important; }` so we also need the `!important` here to be able to override the default hidden behavior on the sphinx rendered scikit-learn.org. See: https://github.com/scikit-learn/scikit-learn/issues/21755 */display: inline-block !important;position: relative;}#sk-container-id-5 div.sk-text-repr-fallback {display: none;}</style><div id=\"sk-container-id-5\" class=\"sk-top-container\"><div class=\"sk-text-repr-fallback\"><pre>GridSearchCV(cv=3, estimator=LogisticRegression(random_state=245),\n",
       "             param_grid={&#x27;C&#x27;: [0.01, 0.1, 1, 10, 100],\n",
       "                         &#x27;penalty&#x27;: [&#x27;l1&#x27;, &#x27;l2&#x27;, &#x27;elasticnet&#x27;, &#x27;none&#x27;],\n",
       "                         &#x27;solver&#x27;: [&#x27;newton-cg&#x27;, &#x27;lbfgs&#x27;, &#x27;liblinear&#x27;, &#x27;sag&#x27;,\n",
       "                                    &#x27;saga&#x27;]},\n",
       "             verbose=3)</pre><b>In a Jupyter environment, please rerun this cell to show the HTML representation or trust the notebook. <br />On GitHub, the HTML representation is unable to render, please try loading this page with nbviewer.org.</b></div><div class=\"sk-container\" hidden><div class=\"sk-item sk-dashed-wrapped\"><div class=\"sk-label-container\"><div class=\"sk-label sk-toggleable\"><input class=\"sk-toggleable__control sk-hidden--visually\" id=\"sk-estimator-id-7\" type=\"checkbox\" ><label for=\"sk-estimator-id-7\" class=\"sk-toggleable__label sk-toggleable__label-arrow\">GridSearchCV</label><div class=\"sk-toggleable__content\"><pre>GridSearchCV(cv=3, estimator=LogisticRegression(random_state=245),\n",
       "             param_grid={&#x27;C&#x27;: [0.01, 0.1, 1, 10, 100],\n",
       "                         &#x27;penalty&#x27;: [&#x27;l1&#x27;, &#x27;l2&#x27;, &#x27;elasticnet&#x27;, &#x27;none&#x27;],\n",
       "                         &#x27;solver&#x27;: [&#x27;newton-cg&#x27;, &#x27;lbfgs&#x27;, &#x27;liblinear&#x27;, &#x27;sag&#x27;,\n",
       "                                    &#x27;saga&#x27;]},\n",
       "             verbose=3)</pre></div></div></div><div class=\"sk-parallel\"><div class=\"sk-parallel-item\"><div class=\"sk-item\"><div class=\"sk-label-container\"><div class=\"sk-label sk-toggleable\"><input class=\"sk-toggleable__control sk-hidden--visually\" id=\"sk-estimator-id-8\" type=\"checkbox\" ><label for=\"sk-estimator-id-8\" class=\"sk-toggleable__label sk-toggleable__label-arrow\">estimator: LogisticRegression</label><div class=\"sk-toggleable__content\"><pre>LogisticRegression(random_state=245)</pre></div></div></div><div class=\"sk-serial\"><div class=\"sk-item\"><div class=\"sk-estimator sk-toggleable\"><input class=\"sk-toggleable__control sk-hidden--visually\" id=\"sk-estimator-id-9\" type=\"checkbox\" ><label for=\"sk-estimator-id-9\" class=\"sk-toggleable__label sk-toggleable__label-arrow\">LogisticRegression</label><div class=\"sk-toggleable__content\"><pre>LogisticRegression(random_state=245)</pre></div></div></div></div></div></div></div></div></div></div>"
      ],
      "text/plain": [
       "GridSearchCV(cv=3, estimator=LogisticRegression(random_state=245),\n",
       "             param_grid={'C': [0.01, 0.1, 1, 10, 100],\n",
       "                         'penalty': ['l1', 'l2', 'elasticnet', 'none'],\n",
       "                         'solver': ['newton-cg', 'lbfgs', 'liblinear', 'sag',\n",
       "                                    'saga']},\n",
       "             verbose=3)"
      ]
     },
     "execution_count": 67,
     "metadata": {},
     "output_type": "execute_result"
    }
   ],
   "source": [
    "log_corr_gt1_scaled_grid = GridSearchCV(LogisticRegression(random_state=random_state), log_param_grid, cv=cv, n_jobs=n_jobs, verbose=verbose)\n",
    "log_corr_gt1_scaled_grid.fit(X_corr_gt1_scaled_val, y_corr_gt1_scaled_val)"
   ]
  },
  {
   "cell_type": "code",
   "execution_count": 68,
   "id": "b739cf66",
   "metadata": {},
   "outputs": [
    {
     "name": "stdout",
     "output_type": "stream",
     "text": [
      "{'C': 0.01, 'penalty': 'none', 'solver': 'newton-cg'}\n"
     ]
    }
   ],
   "source": [
    "print(log_corr_gt1_scaled_grid.best_params_)"
   ]
  },
  {
   "cell_type": "code",
   "execution_count": 69,
   "id": "448cb20f",
   "metadata": {},
   "outputs": [
    {
     "name": "stderr",
     "output_type": "stream",
     "text": [
      "c:\\Users\\harsh\\anaconda3\\Lib\\site-packages\\sklearn\\linear_model\\_logistic.py:1183: FutureWarning: `penalty='none'`has been deprecated in 1.2 and will be removed in 1.4. To keep the past behaviour, set `penalty=None`.\n",
      "  warnings.warn(\n",
      "c:\\Users\\harsh\\anaconda3\\Lib\\site-packages\\sklearn\\linear_model\\_logistic.py:1193: UserWarning: Setting penalty=None will ignore the C and l1_ratio parameters\n",
      "  warnings.warn(\n",
      "c:\\Users\\harsh\\anaconda3\\Lib\\site-packages\\sklearn\\utils\\optimize.py:211: ConvergenceWarning: newton-cg failed to converge. Increase the number of iterations.\n",
      "  warnings.warn(\n"
     ]
    },
    {
     "data": {
      "text/html": [
       "<style>#sk-container-id-6 {color: black;}#sk-container-id-6 pre{padding: 0;}#sk-container-id-6 div.sk-toggleable {background-color: white;}#sk-container-id-6 label.sk-toggleable__label {cursor: pointer;display: block;width: 100%;margin-bottom: 0;padding: 0.3em;box-sizing: border-box;text-align: center;}#sk-container-id-6 label.sk-toggleable__label-arrow:before {content: \"▸\";float: left;margin-right: 0.25em;color: #696969;}#sk-container-id-6 label.sk-toggleable__label-arrow:hover:before {color: black;}#sk-container-id-6 div.sk-estimator:hover label.sk-toggleable__label-arrow:before {color: black;}#sk-container-id-6 div.sk-toggleable__content {max-height: 0;max-width: 0;overflow: hidden;text-align: left;background-color: #f0f8ff;}#sk-container-id-6 div.sk-toggleable__content pre {margin: 0.2em;color: black;border-radius: 0.25em;background-color: #f0f8ff;}#sk-container-id-6 input.sk-toggleable__control:checked~div.sk-toggleable__content {max-height: 200px;max-width: 100%;overflow: auto;}#sk-container-id-6 input.sk-toggleable__control:checked~label.sk-toggleable__label-arrow:before {content: \"▾\";}#sk-container-id-6 div.sk-estimator input.sk-toggleable__control:checked~label.sk-toggleable__label {background-color: #d4ebff;}#sk-container-id-6 div.sk-label input.sk-toggleable__control:checked~label.sk-toggleable__label {background-color: #d4ebff;}#sk-container-id-6 input.sk-hidden--visually {border: 0;clip: rect(1px 1px 1px 1px);clip: rect(1px, 1px, 1px, 1px);height: 1px;margin: -1px;overflow: hidden;padding: 0;position: absolute;width: 1px;}#sk-container-id-6 div.sk-estimator {font-family: monospace;background-color: #f0f8ff;border: 1px dotted black;border-radius: 0.25em;box-sizing: border-box;margin-bottom: 0.5em;}#sk-container-id-6 div.sk-estimator:hover {background-color: #d4ebff;}#sk-container-id-6 div.sk-parallel-item::after {content: \"\";width: 100%;border-bottom: 1px solid gray;flex-grow: 1;}#sk-container-id-6 div.sk-label:hover label.sk-toggleable__label {background-color: #d4ebff;}#sk-container-id-6 div.sk-serial::before {content: \"\";position: absolute;border-left: 1px solid gray;box-sizing: border-box;top: 0;bottom: 0;left: 50%;z-index: 0;}#sk-container-id-6 div.sk-serial {display: flex;flex-direction: column;align-items: center;background-color: white;padding-right: 0.2em;padding-left: 0.2em;position: relative;}#sk-container-id-6 div.sk-item {position: relative;z-index: 1;}#sk-container-id-6 div.sk-parallel {display: flex;align-items: stretch;justify-content: center;background-color: white;position: relative;}#sk-container-id-6 div.sk-item::before, #sk-container-id-6 div.sk-parallel-item::before {content: \"\";position: absolute;border-left: 1px solid gray;box-sizing: border-box;top: 0;bottom: 0;left: 50%;z-index: -1;}#sk-container-id-6 div.sk-parallel-item {display: flex;flex-direction: column;z-index: 1;position: relative;background-color: white;}#sk-container-id-6 div.sk-parallel-item:first-child::after {align-self: flex-end;width: 50%;}#sk-container-id-6 div.sk-parallel-item:last-child::after {align-self: flex-start;width: 50%;}#sk-container-id-6 div.sk-parallel-item:only-child::after {width: 0;}#sk-container-id-6 div.sk-dashed-wrapped {border: 1px dashed gray;margin: 0 0.4em 0.5em 0.4em;box-sizing: border-box;padding-bottom: 0.4em;background-color: white;}#sk-container-id-6 div.sk-label label {font-family: monospace;font-weight: bold;display: inline-block;line-height: 1.2em;}#sk-container-id-6 div.sk-label-container {text-align: center;}#sk-container-id-6 div.sk-container {/* jupyter's `normalize.less` sets `[hidden] { display: none; }` but bootstrap.min.css set `[hidden] { display: none !important; }` so we also need the `!important` here to be able to override the default hidden behavior on the sphinx rendered scikit-learn.org. See: https://github.com/scikit-learn/scikit-learn/issues/21755 */display: inline-block !important;position: relative;}#sk-container-id-6 div.sk-text-repr-fallback {display: none;}</style><div id=\"sk-container-id-6\" class=\"sk-top-container\"><div class=\"sk-text-repr-fallback\"><pre>LogisticRegression(C=0.01, penalty=&#x27;none&#x27;, random_state=245, solver=&#x27;newton-cg&#x27;)</pre><b>In a Jupyter environment, please rerun this cell to show the HTML representation or trust the notebook. <br />On GitHub, the HTML representation is unable to render, please try loading this page with nbviewer.org.</b></div><div class=\"sk-container\" hidden><div class=\"sk-item\"><div class=\"sk-estimator sk-toggleable\"><input class=\"sk-toggleable__control sk-hidden--visually\" id=\"sk-estimator-id-10\" type=\"checkbox\" checked><label for=\"sk-estimator-id-10\" class=\"sk-toggleable__label sk-toggleable__label-arrow\">LogisticRegression</label><div class=\"sk-toggleable__content\"><pre>LogisticRegression(C=0.01, penalty=&#x27;none&#x27;, random_state=245, solver=&#x27;newton-cg&#x27;)</pre></div></div></div></div></div>"
      ],
      "text/plain": [
       "LogisticRegression(C=0.01, penalty='none', random_state=245, solver='newton-cg')"
      ]
     },
     "execution_count": 69,
     "metadata": {},
     "output_type": "execute_result"
    }
   ],
   "source": [
    "log_corr_gt1_scaled = LogisticRegression(**log_corr_gt1_scaled_grid.best_params_, random_state=random_state)\n",
    "log_corr_gt1_scaled.fit(X_corr_gt1_scaled_train, y_corr_gt1_scaled_train)"
   ]
  },
  {
   "cell_type": "code",
   "execution_count": 70,
   "id": "a49230c6",
   "metadata": {},
   "outputs": [
    {
     "name": "stdout",
     "output_type": "stream",
     "text": [
      "              precision    recall  f1-score   support\n",
      "\n",
      "         0.0       0.99      0.99      0.99      7209\n",
      "         1.0       0.98      0.99      0.99      5550\n",
      "\n",
      "    accuracy                           0.99     12759\n",
      "   macro avg       0.99      0.99      0.99     12759\n",
      "weighted avg       0.99      0.99      0.99     12759\n",
      "\n"
     ]
    }
   ],
   "source": [
    "print(classification_report(y_corr_gt1_scaled_test, log_corr_gt1_scaled.predict(X_corr_gt1_scaled_test)))"
   ]
  },
  {
   "cell_type": "code",
   "execution_count": 71,
   "id": "cfe60707",
   "metadata": {},
   "outputs": [
    {
     "name": "stdout",
     "output_type": "stream",
     "text": [
      "              precision    recall  f1-score   support\n",
      "\n",
      "         0.0       0.99      0.99      0.99      7209\n",
      "         1.0       0.98      0.99      0.99      5550\n",
      "\n",
      "    accuracy                           0.99     12759\n",
      "   macro avg       0.99      0.99      0.99     12759\n",
      "weighted avg       0.99      0.99      0.99     12759\n",
      "\n",
      "\n",
      "Model: Logistic Regression {'C': 0.01, 'penalty': 'none', 'solver': 'newton-cg'}\n",
      "Data size: 12759\n",
      "Accuracy: 0.9896543616270868\n",
      "Precision: 0.983232251159472\n",
      "Recall: 0.9931531531531531\n",
      "F1: 0.9881678020795984\n",
      "Time per data per iter: 439.86362567599343\n"
     ]
    }
   ],
   "source": [
    "benchmarkAndUpdateResult(\n",
    "        df_known_attacks,\n",
    "        log_corr_gt1_scaled,\n",
    "        f\"Logistic Regression {log_corr_gt1_scaled_grid.best_params_}\",\n",
    "        \"Known attacks\",\n",
    "        \"|correlation| > 0.1 features scaled\",\n",
    "        pipeline_corr_gt1_scaled,\n",
    "        scaler=scaler_gt1,\n",
    "        cols=cols_corr_gt1\n",
    "        )"
   ]
  },
  {
   "cell_type": "code",
   "execution_count": 72,
   "id": "22192867",
   "metadata": {},
   "outputs": [
    {
     "name": "stdout",
     "output_type": "stream",
     "text": [
      "              precision    recall  f1-score   support\n",
      "\n",
      "           0       0.98      0.99      0.99     15969\n",
      "           1       0.99      0.97      0.98     10440\n",
      "\n",
      "    accuracy                           0.98     26409\n",
      "   macro avg       0.98      0.98      0.98     26409\n",
      "weighted avg       0.98      0.98      0.98     26409\n",
      "\n",
      "\n",
      "Model: Logistic Regression {'C': 0.01, 'penalty': 'none', 'solver': 'newton-cg'}\n",
      "Data size: 26409\n",
      "Accuracy: 0.9841341966753758\n",
      "Precision: 0.987639902676399\n",
      "Recall: 0.9720306513409962\n",
      "F1: 0.9797731112720252\n",
      "Time per data per iter: 338.08777310765265\n"
     ]
    }
   ],
   "source": [
    "benchmarkAndUpdateResult(\n",
    "        df_similar_attacks,\n",
    "        log_corr_gt1_scaled,\n",
    "        f\"Logistic Regression {log_corr_gt1_scaled_grid.best_params_}\",\n",
    "        \"Similar attacks\",\n",
    "        \"|correlation| > 0.1 features scaled\",\n",
    "        pipeline_corr_gt1_scaled,\n",
    "        scaler=scaler_gt1,\n",
    "        cols=cols_corr_gt1\n",
    "        )"
   ]
  },
  {
   "cell_type": "code",
   "execution_count": 73,
   "id": "d422ce47",
   "metadata": {},
   "outputs": [
    {
     "name": "stdout",
     "output_type": "stream",
     "text": [
      "              precision    recall  f1-score   support\n",
      "\n",
      "           0       0.78      0.99      0.88     58138\n",
      "           1       0.82      0.10      0.18     17752\n",
      "\n",
      "    accuracy                           0.78     75890\n",
      "   macro avg       0.80      0.55      0.53     75890\n",
      "weighted avg       0.79      0.78      0.71     75890\n",
      "\n",
      "\n",
      "Model: Logistic Regression{'C': 0.01, 'penalty': 'none', 'solver': 'newton-cg'}\n",
      "Data size: 75890\n",
      "Accuracy: 0.7846751877717749\n",
      "Precision: 0.8219990871748061\n",
      "Recall: 0.10145335736818387\n",
      "F1: 0.18061475204332347\n",
      "Time per data per iter: 286.5265515878245\n"
     ]
    }
   ],
   "source": [
    "benchmarkAndUpdateResult(\n",
    "        df_new_attacks,\n",
    "        log_corr_gt1_scaled,\n",
    "        f\"Logistic Regression{log_corr_gt1_scaled_grid.best_params_}\",\n",
    "        \"New attacks\",\n",
    "        \"|correlation| > 0.1 features scaled\",\n",
    "        pipeline_corr_gt1_scaled,\n",
    "        scaler=scaler_gt1,\n",
    "        cols=cols_corr_gt1\n",
    "        )"
   ]
  },
  {
   "cell_type": "code",
   "execution_count": 74,
   "id": "6167a868",
   "metadata": {},
   "outputs": [
    {
     "data": {
      "text/html": [
       "<div>\n",
       "<style scoped>\n",
       "    .dataframe tbody tr th:only-of-type {\n",
       "        vertical-align: middle;\n",
       "    }\n",
       "\n",
       "    .dataframe tbody tr th {\n",
       "        vertical-align: top;\n",
       "    }\n",
       "\n",
       "    .dataframe thead th {\n",
       "        text-align: right;\n",
       "    }\n",
       "</style>\n",
       "<table border=\"1\" class=\"dataframe\">\n",
       "  <thead>\n",
       "    <tr style=\"text-align: right;\">\n",
       "      <th></th>\n",
       "      <th>Model</th>\n",
       "      <th>Dataset</th>\n",
       "      <th>Info</th>\n",
       "      <th>Data size</th>\n",
       "      <th>Accuracy</th>\n",
       "      <th>Precision</th>\n",
       "      <th>Recall</th>\n",
       "      <th>F1</th>\n",
       "      <th>Time per data per iter</th>\n",
       "    </tr>\n",
       "  </thead>\n",
       "  <tbody>\n",
       "    <tr>\n",
       "      <th>0</th>\n",
       "      <td>Logistic Regression {'C': 1, 'penalty': 'l1', 'solver': 'liblinear'}</td>\n",
       "      <td>Known attacks</td>\n",
       "      <td>All features scaled</td>\n",
       "      <td>12759</td>\n",
       "      <td>0.993338</td>\n",
       "      <td>0.989959</td>\n",
       "      <td>0.994775</td>\n",
       "      <td>0.992361</td>\n",
       "      <td>593.930559</td>\n",
       "    </tr>\n",
       "    <tr>\n",
       "      <th>1</th>\n",
       "      <td>Logistic Regression {'C': 1, 'penalty': 'l1', 'solver': 'liblinear'}</td>\n",
       "      <td>Similar attacks</td>\n",
       "      <td>All features scaled</td>\n",
       "      <td>26409</td>\n",
       "      <td>0.980045</td>\n",
       "      <td>0.995105</td>\n",
       "      <td>0.954215</td>\n",
       "      <td>0.974231</td>\n",
       "      <td>496.575410</td>\n",
       "    </tr>\n",
       "    <tr>\n",
       "      <th>2</th>\n",
       "      <td>Logistic Regression {'C': 1, 'penalty': 'l1', 'solver': 'liblinear'}</td>\n",
       "      <td>New attacks</td>\n",
       "      <td>All features scaled</td>\n",
       "      <td>75890</td>\n",
       "      <td>0.774476</td>\n",
       "      <td>0.845070</td>\n",
       "      <td>0.043939</td>\n",
       "      <td>0.083534</td>\n",
       "      <td>420.447490</td>\n",
       "    </tr>\n",
       "    <tr>\n",
       "      <th>3</th>\n",
       "      <td>Logistic Regression {'C': 0.01, 'penalty': 'none', 'solver': 'newton-cg'}</td>\n",
       "      <td>Known attacks</td>\n",
       "      <td>|correlation| &gt; 0.1 features scaled</td>\n",
       "      <td>12759</td>\n",
       "      <td>0.989654</td>\n",
       "      <td>0.983232</td>\n",
       "      <td>0.993153</td>\n",
       "      <td>0.988168</td>\n",
       "      <td>439.863626</td>\n",
       "    </tr>\n",
       "    <tr>\n",
       "      <th>4</th>\n",
       "      <td>Logistic Regression {'C': 0.01, 'penalty': 'none', 'solver': 'newton-cg'}</td>\n",
       "      <td>Similar attacks</td>\n",
       "      <td>|correlation| &gt; 0.1 features scaled</td>\n",
       "      <td>26409</td>\n",
       "      <td>0.984134</td>\n",
       "      <td>0.987640</td>\n",
       "      <td>0.972031</td>\n",
       "      <td>0.979773</td>\n",
       "      <td>338.087773</td>\n",
       "    </tr>\n",
       "    <tr>\n",
       "      <th>5</th>\n",
       "      <td>Logistic Regression{'C': 0.01, 'penalty': 'none', 'solver': 'newton-cg'}</td>\n",
       "      <td>New attacks</td>\n",
       "      <td>|correlation| &gt; 0.1 features scaled</td>\n",
       "      <td>75890</td>\n",
       "      <td>0.784675</td>\n",
       "      <td>0.821999</td>\n",
       "      <td>0.101453</td>\n",
       "      <td>0.180615</td>\n",
       "      <td>286.526552</td>\n",
       "    </tr>\n",
       "  </tbody>\n",
       "</table>\n",
       "</div>"
      ],
      "text/plain": [
       "                                                                       Model          Dataset                                 Info  Data size  Accuracy  Precision    Recall        F1  Time per data per iter\n",
       "0       Logistic Regression {'C': 1, 'penalty': 'l1', 'solver': 'liblinear'}    Known attacks                  All features scaled      12759  0.993338   0.989959  0.994775  0.992361              593.930559\n",
       "1       Logistic Regression {'C': 1, 'penalty': 'l1', 'solver': 'liblinear'}  Similar attacks                  All features scaled      26409  0.980045   0.995105  0.954215  0.974231              496.575410\n",
       "2       Logistic Regression {'C': 1, 'penalty': 'l1', 'solver': 'liblinear'}      New attacks                  All features scaled      75890  0.774476   0.845070  0.043939  0.083534              420.447490\n",
       "3  Logistic Regression {'C': 0.01, 'penalty': 'none', 'solver': 'newton-cg'}    Known attacks  |correlation| > 0.1 features scaled      12759  0.989654   0.983232  0.993153  0.988168              439.863626\n",
       "4  Logistic Regression {'C': 0.01, 'penalty': 'none', 'solver': 'newton-cg'}  Similar attacks  |correlation| > 0.1 features scaled      26409  0.984134   0.987640  0.972031  0.979773              338.087773\n",
       "5   Logistic Regression{'C': 0.01, 'penalty': 'none', 'solver': 'newton-cg'}      New attacks  |correlation| > 0.1 features scaled      75890  0.784675   0.821999  0.101453  0.180615              286.526552"
      ]
     },
     "execution_count": 74,
     "metadata": {},
     "output_type": "execute_result"
    }
   ],
   "source": [
    "benchmark_results"
   ]
  },
  {
   "cell_type": "markdown",
   "id": "17974b68",
   "metadata": {},
   "source": [
    "### All features with 95% PCA"
   ]
  },
  {
   "cell_type": "code",
   "execution_count": 75,
   "id": "065da356",
   "metadata": {},
   "outputs": [
    {
     "data": {
      "text/html": [
       "<div>\n",
       "<style scoped>\n",
       "    .dataframe tbody tr th:only-of-type {\n",
       "        vertical-align: middle;\n",
       "    }\n",
       "\n",
       "    .dataframe tbody tr th {\n",
       "        vertical-align: top;\n",
       "    }\n",
       "\n",
       "    .dataframe thead th {\n",
       "        text-align: right;\n",
       "    }\n",
       "</style>\n",
       "<table border=\"1\" class=\"dataframe\">\n",
       "  <thead>\n",
       "    <tr style=\"text-align: right;\">\n",
       "      <th></th>\n",
       "      <th>0</th>\n",
       "      <th>1</th>\n",
       "      <th>2</th>\n",
       "      <th>3</th>\n",
       "      <th>4</th>\n",
       "      <th>5</th>\n",
       "      <th>6</th>\n",
       "      <th>7</th>\n",
       "      <th>8</th>\n",
       "      <th>9</th>\n",
       "      <th>10</th>\n",
       "      <th>11</th>\n",
       "      <th>12</th>\n",
       "      <th>13</th>\n",
       "      <th>14</th>\n",
       "      <th>15</th>\n",
       "      <th>16</th>\n",
       "      <th>17</th>\n",
       "      <th>18</th>\n",
       "      <th>19</th>\n",
       "      <th>20</th>\n",
       "      <th>21</th>\n",
       "      <th>22</th>\n",
       "      <th>23</th>\n",
       "      <th>24</th>\n",
       "      <th>25</th>\n",
       "      <th>26</th>\n",
       "      <th>class</th>\n",
       "    </tr>\n",
       "  </thead>\n",
       "  <tbody>\n",
       "    <tr>\n",
       "      <th>0</th>\n",
       "      <td>-1.516735</td>\n",
       "      <td>-1.070537</td>\n",
       "      <td>4.199741</td>\n",
       "      <td>-1.394049</td>\n",
       "      <td>0.957756</td>\n",
       "      <td>0.583451</td>\n",
       "      <td>1.314415</td>\n",
       "      <td>0.300038</td>\n",
       "      <td>-0.100427</td>\n",
       "      <td>-0.074686</td>\n",
       "      <td>0.018951</td>\n",
       "      <td>-0.068260</td>\n",
       "      <td>-0.085588</td>\n",
       "      <td>-0.029476</td>\n",
       "      <td>-0.045298</td>\n",
       "      <td>0.029734</td>\n",
       "      <td>0.115908</td>\n",
       "      <td>0.130896</td>\n",
       "      <td>-0.111055</td>\n",
       "      <td>-0.021935</td>\n",
       "      <td>-0.102228</td>\n",
       "      <td>0.114430</td>\n",
       "      <td>0.068183</td>\n",
       "      <td>-0.159354</td>\n",
       "      <td>0.227031</td>\n",
       "      <td>-0.697531</td>\n",
       "      <td>0.338713</td>\n",
       "      <td>0.0</td>\n",
       "    </tr>\n",
       "    <tr>\n",
       "      <th>1</th>\n",
       "      <td>-1.516680</td>\n",
       "      <td>-1.070594</td>\n",
       "      <td>4.199846</td>\n",
       "      <td>-1.393880</td>\n",
       "      <td>0.957351</td>\n",
       "      <td>0.583922</td>\n",
       "      <td>1.314396</td>\n",
       "      <td>0.300622</td>\n",
       "      <td>-0.100220</td>\n",
       "      <td>-0.074792</td>\n",
       "      <td>0.018950</td>\n",
       "      <td>-0.068254</td>\n",
       "      <td>-0.085581</td>\n",
       "      <td>-0.029455</td>\n",
       "      <td>-0.045232</td>\n",
       "      <td>0.029740</td>\n",
       "      <td>0.115972</td>\n",
       "      <td>0.130898</td>\n",
       "      <td>-0.111276</td>\n",
       "      <td>-0.022129</td>\n",
       "      <td>-0.102981</td>\n",
       "      <td>0.114281</td>\n",
       "      <td>0.068581</td>\n",
       "      <td>-0.159547</td>\n",
       "      <td>0.227155</td>\n",
       "      <td>-0.697391</td>\n",
       "      <td>0.338751</td>\n",
       "      <td>0.0</td>\n",
       "    </tr>\n",
       "    <tr>\n",
       "      <th>2</th>\n",
       "      <td>-2.194275</td>\n",
       "      <td>0.599526</td>\n",
       "      <td>-2.547375</td>\n",
       "      <td>1.784875</td>\n",
       "      <td>4.735872</td>\n",
       "      <td>2.335350</td>\n",
       "      <td>-1.259882</td>\n",
       "      <td>0.229815</td>\n",
       "      <td>-6.911835</td>\n",
       "      <td>-8.327002</td>\n",
       "      <td>-2.483018</td>\n",
       "      <td>0.013701</td>\n",
       "      <td>-2.341332</td>\n",
       "      <td>-1.531040</td>\n",
       "      <td>-0.593786</td>\n",
       "      <td>1.307459</td>\n",
       "      <td>5.735253</td>\n",
       "      <td>2.203422</td>\n",
       "      <td>1.863483</td>\n",
       "      <td>0.821762</td>\n",
       "      <td>-1.594002</td>\n",
       "      <td>-2.386889</td>\n",
       "      <td>2.089085</td>\n",
       "      <td>8.092894</td>\n",
       "      <td>1.559132</td>\n",
       "      <td>0.200839</td>\n",
       "      <td>-1.005800</td>\n",
       "      <td>1.0</td>\n",
       "    </tr>\n",
       "    <tr>\n",
       "      <th>3</th>\n",
       "      <td>-1.795953</td>\n",
       "      <td>-0.176684</td>\n",
       "      <td>-0.057415</td>\n",
       "      <td>0.785596</td>\n",
       "      <td>-0.009620</td>\n",
       "      <td>-1.722739</td>\n",
       "      <td>-0.344424</td>\n",
       "      <td>0.030185</td>\n",
       "      <td>0.169341</td>\n",
       "      <td>0.000372</td>\n",
       "      <td>-0.112997</td>\n",
       "      <td>-0.017776</td>\n",
       "      <td>-0.066358</td>\n",
       "      <td>0.030031</td>\n",
       "      <td>-0.103921</td>\n",
       "      <td>-0.081910</td>\n",
       "      <td>-0.207825</td>\n",
       "      <td>-0.091106</td>\n",
       "      <td>0.108699</td>\n",
       "      <td>0.166714</td>\n",
       "      <td>-0.022175</td>\n",
       "      <td>-0.519474</td>\n",
       "      <td>0.144395</td>\n",
       "      <td>0.563761</td>\n",
       "      <td>-0.508144</td>\n",
       "      <td>1.405539</td>\n",
       "      <td>0.976435</td>\n",
       "      <td>0.0</td>\n",
       "    </tr>\n",
       "    <tr>\n",
       "      <th>4</th>\n",
       "      <td>-1.698577</td>\n",
       "      <td>-0.885367</td>\n",
       "      <td>1.251274</td>\n",
       "      <td>1.889236</td>\n",
       "      <td>-0.672711</td>\n",
       "      <td>-1.345817</td>\n",
       "      <td>-0.983839</td>\n",
       "      <td>0.260147</td>\n",
       "      <td>0.271514</td>\n",
       "      <td>0.089606</td>\n",
       "      <td>-0.036208</td>\n",
       "      <td>-0.054843</td>\n",
       "      <td>0.004780</td>\n",
       "      <td>-0.013959</td>\n",
       "      <td>-0.135784</td>\n",
       "      <td>-0.008889</td>\n",
       "      <td>-0.014911</td>\n",
       "      <td>0.071884</td>\n",
       "      <td>-0.026465</td>\n",
       "      <td>0.074480</td>\n",
       "      <td>-0.111767</td>\n",
       "      <td>-0.359301</td>\n",
       "      <td>0.286965</td>\n",
       "      <td>0.171620</td>\n",
       "      <td>-0.189821</td>\n",
       "      <td>-0.418918</td>\n",
       "      <td>-0.024381</td>\n",
       "      <td>0.0</td>\n",
       "    </tr>\n",
       "  </tbody>\n",
       "</table>\n",
       "</div>"
      ],
      "text/plain": [
       "          0         1         2         3         4         5         6         7         8         9        10        11        12        13        14        15        16        17        18        19        20        21        22        23        24        25        26  class\n",
       "0 -1.516735 -1.070537  4.199741 -1.394049  0.957756  0.583451  1.314415  0.300038 -0.100427 -0.074686  0.018951 -0.068260 -0.085588 -0.029476 -0.045298  0.029734  0.115908  0.130896 -0.111055 -0.021935 -0.102228  0.114430  0.068183 -0.159354  0.227031 -0.697531  0.338713    0.0\n",
       "1 -1.516680 -1.070594  4.199846 -1.393880  0.957351  0.583922  1.314396  0.300622 -0.100220 -0.074792  0.018950 -0.068254 -0.085581 -0.029455 -0.045232  0.029740  0.115972  0.130898 -0.111276 -0.022129 -0.102981  0.114281  0.068581 -0.159547  0.227155 -0.697391  0.338751    0.0\n",
       "2 -2.194275  0.599526 -2.547375  1.784875  4.735872  2.335350 -1.259882  0.229815 -6.911835 -8.327002 -2.483018  0.013701 -2.341332 -1.531040 -0.593786  1.307459  5.735253  2.203422  1.863483  0.821762 -1.594002 -2.386889  2.089085  8.092894  1.559132  0.200839 -1.005800    1.0\n",
       "3 -1.795953 -0.176684 -0.057415  0.785596 -0.009620 -1.722739 -0.344424  0.030185  0.169341  0.000372 -0.112997 -0.017776 -0.066358  0.030031 -0.103921 -0.081910 -0.207825 -0.091106  0.108699  0.166714 -0.022175 -0.519474  0.144395  0.563761 -0.508144  1.405539  0.976435    0.0\n",
       "4 -1.698577 -0.885367  1.251274  1.889236 -0.672711 -1.345817 -0.983839  0.260147  0.271514  0.089606 -0.036208 -0.054843  0.004780 -0.013959 -0.135784 -0.008889 -0.014911  0.071884 -0.026465  0.074480 -0.111767 -0.359301  0.286965  0.171620 -0.189821 -0.418918 -0.024381    0.0"
      ]
     },
     "execution_count": 75,
     "metadata": {},
     "output_type": "execute_result"
    }
   ],
   "source": [
    "df_pca = pipeline_pca(df=df, scaler=scaler, pca=pca)\n",
    "df_pca.head()"
   ]
  },
  {
   "cell_type": "code",
   "execution_count": 76,
   "id": "3ab7927b",
   "metadata": {},
   "outputs": [],
   "source": [
    "(\n",
    "    X_pca_train,\n",
    "    X_pca_val,\n",
    "    X_pca_test,\n",
    "    y_pca_train,\n",
    "    y_pca_val,\n",
    "    y_pca_test,\n",
    ") = test_train_val_split(df_pca)"
   ]
  },
  {
   "cell_type": "code",
   "execution_count": 77,
   "id": "f072be7e",
   "metadata": {},
   "outputs": [
    {
     "name": "stderr",
     "output_type": "stream",
     "text": [
      "c:\\Users\\harsh\\anaconda3\\Lib\\site-packages\\sklearn\\linear_model\\_logistic.py:460: ConvergenceWarning: lbfgs failed to converge (status=1):\n",
      "STOP: TOTAL NO. of ITERATIONS REACHED LIMIT.\n",
      "\n",
      "Increase the number of iterations (max_iter) or scale the data as shown in:\n",
      "    https://scikit-learn.org/stable/modules/preprocessing.html\n",
      "Please also refer to the documentation for alternative solver options:\n",
      "    https://scikit-learn.org/stable/modules/linear_model.html#logistic-regression\n",
      "  n_iter_i = _check_optimize_result(\n"
     ]
    },
    {
     "data": {
      "text/html": [
       "<style>#sk-container-id-7 {color: black;}#sk-container-id-7 pre{padding: 0;}#sk-container-id-7 div.sk-toggleable {background-color: white;}#sk-container-id-7 label.sk-toggleable__label {cursor: pointer;display: block;width: 100%;margin-bottom: 0;padding: 0.3em;box-sizing: border-box;text-align: center;}#sk-container-id-7 label.sk-toggleable__label-arrow:before {content: \"▸\";float: left;margin-right: 0.25em;color: #696969;}#sk-container-id-7 label.sk-toggleable__label-arrow:hover:before {color: black;}#sk-container-id-7 div.sk-estimator:hover label.sk-toggleable__label-arrow:before {color: black;}#sk-container-id-7 div.sk-toggleable__content {max-height: 0;max-width: 0;overflow: hidden;text-align: left;background-color: #f0f8ff;}#sk-container-id-7 div.sk-toggleable__content pre {margin: 0.2em;color: black;border-radius: 0.25em;background-color: #f0f8ff;}#sk-container-id-7 input.sk-toggleable__control:checked~div.sk-toggleable__content {max-height: 200px;max-width: 100%;overflow: auto;}#sk-container-id-7 input.sk-toggleable__control:checked~label.sk-toggleable__label-arrow:before {content: \"▾\";}#sk-container-id-7 div.sk-estimator input.sk-toggleable__control:checked~label.sk-toggleable__label {background-color: #d4ebff;}#sk-container-id-7 div.sk-label input.sk-toggleable__control:checked~label.sk-toggleable__label {background-color: #d4ebff;}#sk-container-id-7 input.sk-hidden--visually {border: 0;clip: rect(1px 1px 1px 1px);clip: rect(1px, 1px, 1px, 1px);height: 1px;margin: -1px;overflow: hidden;padding: 0;position: absolute;width: 1px;}#sk-container-id-7 div.sk-estimator {font-family: monospace;background-color: #f0f8ff;border: 1px dotted black;border-radius: 0.25em;box-sizing: border-box;margin-bottom: 0.5em;}#sk-container-id-7 div.sk-estimator:hover {background-color: #d4ebff;}#sk-container-id-7 div.sk-parallel-item::after {content: \"\";width: 100%;border-bottom: 1px solid gray;flex-grow: 1;}#sk-container-id-7 div.sk-label:hover label.sk-toggleable__label {background-color: #d4ebff;}#sk-container-id-7 div.sk-serial::before {content: \"\";position: absolute;border-left: 1px solid gray;box-sizing: border-box;top: 0;bottom: 0;left: 50%;z-index: 0;}#sk-container-id-7 div.sk-serial {display: flex;flex-direction: column;align-items: center;background-color: white;padding-right: 0.2em;padding-left: 0.2em;position: relative;}#sk-container-id-7 div.sk-item {position: relative;z-index: 1;}#sk-container-id-7 div.sk-parallel {display: flex;align-items: stretch;justify-content: center;background-color: white;position: relative;}#sk-container-id-7 div.sk-item::before, #sk-container-id-7 div.sk-parallel-item::before {content: \"\";position: absolute;border-left: 1px solid gray;box-sizing: border-box;top: 0;bottom: 0;left: 50%;z-index: -1;}#sk-container-id-7 div.sk-parallel-item {display: flex;flex-direction: column;z-index: 1;position: relative;background-color: white;}#sk-container-id-7 div.sk-parallel-item:first-child::after {align-self: flex-end;width: 50%;}#sk-container-id-7 div.sk-parallel-item:last-child::after {align-self: flex-start;width: 50%;}#sk-container-id-7 div.sk-parallel-item:only-child::after {width: 0;}#sk-container-id-7 div.sk-dashed-wrapped {border: 1px dashed gray;margin: 0 0.4em 0.5em 0.4em;box-sizing: border-box;padding-bottom: 0.4em;background-color: white;}#sk-container-id-7 div.sk-label label {font-family: monospace;font-weight: bold;display: inline-block;line-height: 1.2em;}#sk-container-id-7 div.sk-label-container {text-align: center;}#sk-container-id-7 div.sk-container {/* jupyter's `normalize.less` sets `[hidden] { display: none; }` but bootstrap.min.css set `[hidden] { display: none !important; }` so we also need the `!important` here to be able to override the default hidden behavior on the sphinx rendered scikit-learn.org. See: https://github.com/scikit-learn/scikit-learn/issues/21755 */display: inline-block !important;position: relative;}#sk-container-id-7 div.sk-text-repr-fallback {display: none;}</style><div id=\"sk-container-id-7\" class=\"sk-top-container\"><div class=\"sk-text-repr-fallback\"><pre>LogisticRegression(random_state=245)</pre><b>In a Jupyter environment, please rerun this cell to show the HTML representation or trust the notebook. <br />On GitHub, the HTML representation is unable to render, please try loading this page with nbviewer.org.</b></div><div class=\"sk-container\" hidden><div class=\"sk-item\"><div class=\"sk-estimator sk-toggleable\"><input class=\"sk-toggleable__control sk-hidden--visually\" id=\"sk-estimator-id-11\" type=\"checkbox\" checked><label for=\"sk-estimator-id-11\" class=\"sk-toggleable__label sk-toggleable__label-arrow\">LogisticRegression</label><div class=\"sk-toggleable__content\"><pre>LogisticRegression(random_state=245)</pre></div></div></div></div></div>"
      ],
      "text/plain": [
       "LogisticRegression(random_state=245)"
      ]
     },
     "execution_count": 77,
     "metadata": {},
     "output_type": "execute_result"
    }
   ],
   "source": [
    "log_pca_baseline = LogisticRegression(random_state=random_state)\n",
    "log_pca_baseline.fit(X_pca_train, y_pca_train)"
   ]
  },
  {
   "cell_type": "code",
   "execution_count": 78,
   "id": "7b710668",
   "metadata": {},
   "outputs": [
    {
     "name": "stdout",
     "output_type": "stream",
     "text": [
      "              precision    recall  f1-score   support\n",
      "\n",
      "         0.0       0.98      0.97      0.97      7154\n",
      "         1.0       0.96      0.97      0.97      5605\n",
      "\n",
      "    accuracy                           0.97     12759\n",
      "   macro avg       0.97      0.97      0.97     12759\n",
      "weighted avg       0.97      0.97      0.97     12759\n",
      "\n"
     ]
    }
   ],
   "source": [
    "print(classification_report(y_pca_val, log_pca_baseline.predict(X_pca_val)))"
   ]
  },
  {
   "cell_type": "code",
   "execution_count": 79,
   "id": "7dd9156f",
   "metadata": {},
   "outputs": [
    {
     "name": "stdout",
     "output_type": "stream",
     "text": [
      "Fitting 3 folds for each of 100 candidates, totalling 300 fits\n",
      "[CV 1/3] END C=0.01, penalty=l1, solver=newton-cg;, score=nan total time=   0.0s\n",
      "[CV 2/3] END C=0.01, penalty=l1, solver=newton-cg;, score=nan total time=   0.0s\n",
      "[CV 3/3] END C=0.01, penalty=l1, solver=newton-cg;, score=nan total time=   0.0s\n",
      "[CV 1/3] END ....C=0.01, penalty=l1, solver=lbfgs;, score=nan total time=   0.0s\n",
      "[CV 2/3] END ....C=0.01, penalty=l1, solver=lbfgs;, score=nan total time=   0.0s\n",
      "[CV 3/3] END ....C=0.01, penalty=l1, solver=lbfgs;, score=nan total time=   0.0s\n",
      "[CV 1/3] END C=0.01, penalty=l1, solver=liblinear;, score=0.949 total time=   0.0s\n",
      "[CV 2/3] END C=0.01, penalty=l1, solver=liblinear;, score=0.948 total time=   0.0s\n",
      "[CV 3/3] END C=0.01, penalty=l1, solver=liblinear;, score=0.955 total time=   0.0s\n",
      "[CV 1/3] END ......C=0.01, penalty=l1, solver=sag;, score=nan total time=   0.0s\n",
      "[CV 2/3] END ......C=0.01, penalty=l1, solver=sag;, score=nan total time=   0.0s\n",
      "[CV 3/3] END ......C=0.01, penalty=l1, solver=sag;, score=nan total time=   0.0s\n"
     ]
    },
    {
     "name": "stderr",
     "output_type": "stream",
     "text": [
      "c:\\Users\\harsh\\anaconda3\\Lib\\site-packages\\sklearn\\linear_model\\_sag.py:350: ConvergenceWarning: The max_iter was reached which means the coef_ did not converge\n",
      "  warnings.warn(\n",
      "c:\\Users\\harsh\\anaconda3\\Lib\\site-packages\\sklearn\\linear_model\\_sag.py:350: ConvergenceWarning: The max_iter was reached which means the coef_ did not converge\n",
      "  warnings.warn(\n"
     ]
    },
    {
     "name": "stdout",
     "output_type": "stream",
     "text": [
      "[CV 1/3] END ...C=0.01, penalty=l1, solver=saga;, score=0.954 total time=   0.1s\n",
      "[CV 2/3] END ...C=0.01, penalty=l1, solver=saga;, score=0.956 total time=   0.1s\n"
     ]
    },
    {
     "name": "stderr",
     "output_type": "stream",
     "text": [
      "c:\\Users\\harsh\\anaconda3\\Lib\\site-packages\\sklearn\\linear_model\\_sag.py:350: ConvergenceWarning: The max_iter was reached which means the coef_ did not converge\n",
      "  warnings.warn(\n"
     ]
    },
    {
     "name": "stdout",
     "output_type": "stream",
     "text": [
      "[CV 3/3] END ...C=0.01, penalty=l1, solver=saga;, score=0.957 total time=   0.1s\n",
      "[CV 1/3] END C=0.01, penalty=l2, solver=newton-cg;, score=0.963 total time=   0.0s\n",
      "[CV 2/3] END C=0.01, penalty=l2, solver=newton-cg;, score=0.960 total time=   0.0s\n",
      "[CV 3/3] END C=0.01, penalty=l2, solver=newton-cg;, score=0.967 total time=   0.0s\n",
      "[CV 1/3] END ..C=0.01, penalty=l2, solver=lbfgs;, score=0.963 total time=   0.0s\n",
      "[CV 2/3] END ..C=0.01, penalty=l2, solver=lbfgs;, score=0.960 total time=   0.0s\n",
      "[CV 3/3] END ..C=0.01, penalty=l2, solver=lbfgs;, score=0.967 total time=   0.0s\n",
      "[CV 1/3] END C=0.01, penalty=l2, solver=liblinear;, score=0.960 total time=   0.0s\n",
      "[CV 2/3] END C=0.01, penalty=l2, solver=liblinear;, score=0.955 total time=   0.0s\n",
      "[CV 3/3] END C=0.01, penalty=l2, solver=liblinear;, score=0.964 total time=   0.0s\n",
      "[CV 1/3] END ....C=0.01, penalty=l2, solver=sag;, score=0.963 total time=   0.0s\n",
      "[CV 2/3] END ....C=0.01, penalty=l2, solver=sag;, score=0.960 total time=   0.0s\n",
      "[CV 3/3] END ....C=0.01, penalty=l2, solver=sag;, score=0.967 total time=   0.0s\n",
      "[CV 1/3] END ...C=0.01, penalty=l2, solver=saga;, score=0.962 total time=   0.1s\n"
     ]
    },
    {
     "name": "stderr",
     "output_type": "stream",
     "text": [
      "c:\\Users\\harsh\\anaconda3\\Lib\\site-packages\\sklearn\\linear_model\\_sag.py:350: ConvergenceWarning: The max_iter was reached which means the coef_ did not converge\n",
      "  warnings.warn(\n",
      "c:\\Users\\harsh\\anaconda3\\Lib\\site-packages\\sklearn\\linear_model\\_sag.py:350: ConvergenceWarning: The max_iter was reached which means the coef_ did not converge\n",
      "  warnings.warn(\n"
     ]
    },
    {
     "name": "stdout",
     "output_type": "stream",
     "text": [
      "[CV 2/3] END ...C=0.01, penalty=l2, solver=saga;, score=0.960 total time=   0.1s\n"
     ]
    },
    {
     "name": "stderr",
     "output_type": "stream",
     "text": [
      "c:\\Users\\harsh\\anaconda3\\Lib\\site-packages\\sklearn\\linear_model\\_sag.py:350: ConvergenceWarning: The max_iter was reached which means the coef_ did not converge\n",
      "  warnings.warn(\n",
      "c:\\Users\\harsh\\anaconda3\\Lib\\site-packages\\sklearn\\linear_model\\_logistic.py:1183: FutureWarning: `penalty='none'`has been deprecated in 1.2 and will be removed in 1.4. To keep the past behaviour, set `penalty=None`.\n",
      "  warnings.warn(\n",
      "c:\\Users\\harsh\\anaconda3\\Lib\\site-packages\\sklearn\\linear_model\\_logistic.py:1193: UserWarning: Setting penalty=None will ignore the C and l1_ratio parameters\n",
      "  warnings.warn(\n",
      "c:\\Users\\harsh\\anaconda3\\Lib\\site-packages\\scipy\\optimize\\_linesearch.py:306: LineSearchWarning: The line search algorithm did not converge\n",
      "  warn('The line search algorithm did not converge', LineSearchWarning)\n",
      "c:\\Users\\harsh\\anaconda3\\Lib\\site-packages\\sklearn\\utils\\optimize.py:204: UserWarning: Line Search failed\n",
      "  warnings.warn(\"Line Search failed\")\n",
      "c:\\Users\\harsh\\anaconda3\\Lib\\site-packages\\sklearn\\linear_model\\_logistic.py:1183: FutureWarning: `penalty='none'`has been deprecated in 1.2 and will be removed in 1.4. To keep the past behaviour, set `penalty=None`.\n",
      "  warnings.warn(\n",
      "c:\\Users\\harsh\\anaconda3\\Lib\\site-packages\\sklearn\\linear_model\\_logistic.py:1193: UserWarning: Setting penalty=None will ignore the C and l1_ratio parameters\n",
      "  warnings.warn(\n",
      "c:\\Users\\harsh\\anaconda3\\Lib\\site-packages\\scipy\\optimize\\_linesearch.py:306: LineSearchWarning: The line search algorithm did not converge\n",
      "  warn('The line search algorithm did not converge', LineSearchWarning)\n",
      "c:\\Users\\harsh\\anaconda3\\Lib\\site-packages\\sklearn\\utils\\optimize.py:204: UserWarning: Line Search failed\n",
      "  warnings.warn(\"Line Search failed\")\n",
      "c:\\Users\\harsh\\anaconda3\\Lib\\site-packages\\sklearn\\linear_model\\_logistic.py:1183: FutureWarning: `penalty='none'`has been deprecated in 1.2 and will be removed in 1.4. To keep the past behaviour, set `penalty=None`.\n",
      "  warnings.warn(\n",
      "c:\\Users\\harsh\\anaconda3\\Lib\\site-packages\\sklearn\\linear_model\\_logistic.py:1193: UserWarning: Setting penalty=None will ignore the C and l1_ratio parameters\n",
      "  warnings.warn(\n"
     ]
    },
    {
     "name": "stdout",
     "output_type": "stream",
     "text": [
      "[CV 3/3] END ...C=0.01, penalty=l2, solver=saga;, score=0.967 total time=   0.1s\n",
      "[CV 1/3] END C=0.01, penalty=elasticnet, solver=newton-cg;, score=nan total time=   0.0s\n",
      "[CV 2/3] END C=0.01, penalty=elasticnet, solver=newton-cg;, score=nan total time=   0.0s\n",
      "[CV 3/3] END C=0.01, penalty=elasticnet, solver=newton-cg;, score=nan total time=   0.0s\n",
      "[CV 1/3] END C=0.01, penalty=elasticnet, solver=lbfgs;, score=nan total time=   0.0s\n",
      "[CV 2/3] END C=0.01, penalty=elasticnet, solver=lbfgs;, score=nan total time=   0.0s\n",
      "[CV 3/3] END C=0.01, penalty=elasticnet, solver=lbfgs;, score=nan total time=   0.0s\n",
      "[CV 1/3] END C=0.01, penalty=elasticnet, solver=liblinear;, score=nan total time=   0.0s\n",
      "[CV 2/3] END C=0.01, penalty=elasticnet, solver=liblinear;, score=nan total time=   0.0s\n",
      "[CV 3/3] END C=0.01, penalty=elasticnet, solver=liblinear;, score=nan total time=   0.0s\n",
      "[CV 1/3] END C=0.01, penalty=elasticnet, solver=sag;, score=nan total time=   0.0s\n",
      "[CV 2/3] END C=0.01, penalty=elasticnet, solver=sag;, score=nan total time=   0.0s\n",
      "[CV 3/3] END C=0.01, penalty=elasticnet, solver=sag;, score=nan total time=   0.0s\n",
      "[CV 1/3] END C=0.01, penalty=elasticnet, solver=saga;, score=nan total time=   0.0s\n",
      "[CV 2/3] END C=0.01, penalty=elasticnet, solver=saga;, score=nan total time=   0.0s\n",
      "[CV 3/3] END C=0.01, penalty=elasticnet, solver=saga;, score=nan total time=   0.0s\n",
      "[CV 1/3] END C=0.01, penalty=none, solver=newton-cg;, score=0.975 total time=   0.0s\n",
      "[CV 2/3] END C=0.01, penalty=none, solver=newton-cg;, score=0.973 total time=   0.0s\n",
      "[CV 3/3] END C=0.01, penalty=none, solver=newton-cg;, score=0.972 total time=   0.0s\n",
      "[CV 1/3] END C=0.01, penalty=none, solver=lbfgs;, score=0.977 total time=   0.0s\n",
      "[CV 2/3] END C=0.01, penalty=none, solver=lbfgs;, score=0.978 total time=   0.0s\n",
      "[CV 3/3] END C=0.01, penalty=none, solver=lbfgs;, score=0.972 total time=   0.0s\n",
      "[CV 1/3] END C=0.01, penalty=none, solver=liblinear;, score=nan total time=   0.0s\n",
      "[CV 2/3] END C=0.01, penalty=none, solver=liblinear;, score=nan total time=   0.0s\n",
      "[CV 3/3] END C=0.01, penalty=none, solver=liblinear;, score=nan total time=   0.0s\n"
     ]
    },
    {
     "name": "stderr",
     "output_type": "stream",
     "text": [
      "c:\\Users\\harsh\\anaconda3\\Lib\\site-packages\\sklearn\\linear_model\\_logistic.py:1183: FutureWarning: `penalty='none'`has been deprecated in 1.2 and will be removed in 1.4. To keep the past behaviour, set `penalty=None`.\n",
      "  warnings.warn(\n",
      "c:\\Users\\harsh\\anaconda3\\Lib\\site-packages\\sklearn\\linear_model\\_logistic.py:1193: UserWarning: Setting penalty=None will ignore the C and l1_ratio parameters\n",
      "  warnings.warn(\n",
      "c:\\Users\\harsh\\anaconda3\\Lib\\site-packages\\sklearn\\linear_model\\_logistic.py:460: ConvergenceWarning: lbfgs failed to converge (status=1):\n",
      "STOP: TOTAL NO. of ITERATIONS REACHED LIMIT.\n",
      "\n",
      "Increase the number of iterations (max_iter) or scale the data as shown in:\n",
      "    https://scikit-learn.org/stable/modules/preprocessing.html\n",
      "Please also refer to the documentation for alternative solver options:\n",
      "    https://scikit-learn.org/stable/modules/linear_model.html#logistic-regression\n",
      "  n_iter_i = _check_optimize_result(\n",
      "c:\\Users\\harsh\\anaconda3\\Lib\\site-packages\\sklearn\\linear_model\\_logistic.py:1183: FutureWarning: `penalty='none'`has been deprecated in 1.2 and will be removed in 1.4. To keep the past behaviour, set `penalty=None`.\n",
      "  warnings.warn(\n",
      "c:\\Users\\harsh\\anaconda3\\Lib\\site-packages\\sklearn\\linear_model\\_logistic.py:1193: UserWarning: Setting penalty=None will ignore the C and l1_ratio parameters\n",
      "  warnings.warn(\n",
      "c:\\Users\\harsh\\anaconda3\\Lib\\site-packages\\sklearn\\linear_model\\_logistic.py:460: ConvergenceWarning: lbfgs failed to converge (status=1):\n",
      "STOP: TOTAL NO. of ITERATIONS REACHED LIMIT.\n",
      "\n",
      "Increase the number of iterations (max_iter) or scale the data as shown in:\n",
      "    https://scikit-learn.org/stable/modules/preprocessing.html\n",
      "Please also refer to the documentation for alternative solver options:\n",
      "    https://scikit-learn.org/stable/modules/linear_model.html#logistic-regression\n",
      "  n_iter_i = _check_optimize_result(\n",
      "c:\\Users\\harsh\\anaconda3\\Lib\\site-packages\\sklearn\\linear_model\\_logistic.py:1183: FutureWarning: `penalty='none'`has been deprecated in 1.2 and will be removed in 1.4. To keep the past behaviour, set `penalty=None`.\n",
      "  warnings.warn(\n",
      "c:\\Users\\harsh\\anaconda3\\Lib\\site-packages\\sklearn\\linear_model\\_logistic.py:1193: UserWarning: Setting penalty=None will ignore the C and l1_ratio parameters\n",
      "  warnings.warn(\n",
      "c:\\Users\\harsh\\anaconda3\\Lib\\site-packages\\sklearn\\linear_model\\_logistic.py:1183: FutureWarning: `penalty='none'`has been deprecated in 1.2 and will be removed in 1.4. To keep the past behaviour, set `penalty=None`.\n",
      "  warnings.warn(\n",
      "c:\\Users\\harsh\\anaconda3\\Lib\\site-packages\\sklearn\\linear_model\\_logistic.py:1193: UserWarning: Setting penalty=None will ignore the C and l1_ratio parameters\n",
      "  warnings.warn(\n",
      "c:\\Users\\harsh\\anaconda3\\Lib\\site-packages\\sklearn\\linear_model\\_sag.py:350: ConvergenceWarning: The max_iter was reached which means the coef_ did not converge\n",
      "  warnings.warn(\n",
      "c:\\Users\\harsh\\anaconda3\\Lib\\site-packages\\sklearn\\linear_model\\_logistic.py:1183: FutureWarning: `penalty='none'`has been deprecated in 1.2 and will be removed in 1.4. To keep the past behaviour, set `penalty=None`.\n",
      "  warnings.warn(\n",
      "c:\\Users\\harsh\\anaconda3\\Lib\\site-packages\\sklearn\\linear_model\\_logistic.py:1193: UserWarning: Setting penalty=None will ignore the C and l1_ratio parameters\n",
      "  warnings.warn(\n",
      "c:\\Users\\harsh\\anaconda3\\Lib\\site-packages\\sklearn\\linear_model\\_sag.py:350: ConvergenceWarning: The max_iter was reached which means the coef_ did not converge\n",
      "  warnings.warn(\n",
      "c:\\Users\\harsh\\anaconda3\\Lib\\site-packages\\sklearn\\linear_model\\_logistic.py:1183: FutureWarning: `penalty='none'`has been deprecated in 1.2 and will be removed in 1.4. To keep the past behaviour, set `penalty=None`.\n",
      "  warnings.warn(\n",
      "c:\\Users\\harsh\\anaconda3\\Lib\\site-packages\\sklearn\\linear_model\\_logistic.py:1193: UserWarning: Setting penalty=None will ignore the C and l1_ratio parameters\n",
      "  warnings.warn(\n"
     ]
    },
    {
     "name": "stdout",
     "output_type": "stream",
     "text": [
      "[CV 1/3] END ..C=0.01, penalty=none, solver=sag;, score=0.972 total time=   0.1s\n",
      "[CV 2/3] END ..C=0.01, penalty=none, solver=sag;, score=0.968 total time=   0.0s\n"
     ]
    },
    {
     "name": "stderr",
     "output_type": "stream",
     "text": [
      "c:\\Users\\harsh\\anaconda3\\Lib\\site-packages\\sklearn\\linear_model\\_sag.py:350: ConvergenceWarning: The max_iter was reached which means the coef_ did not converge\n",
      "  warnings.warn(\n",
      "c:\\Users\\harsh\\anaconda3\\Lib\\site-packages\\sklearn\\linear_model\\_logistic.py:1183: FutureWarning: `penalty='none'`has been deprecated in 1.2 and will be removed in 1.4. To keep the past behaviour, set `penalty=None`.\n",
      "  warnings.warn(\n",
      "c:\\Users\\harsh\\anaconda3\\Lib\\site-packages\\sklearn\\linear_model\\_logistic.py:1193: UserWarning: Setting penalty=None will ignore the C and l1_ratio parameters\n",
      "  warnings.warn(\n",
      "c:\\Users\\harsh\\anaconda3\\Lib\\site-packages\\sklearn\\linear_model\\_sag.py:350: ConvergenceWarning: The max_iter was reached which means the coef_ did not converge\n",
      "  warnings.warn(\n",
      "c:\\Users\\harsh\\anaconda3\\Lib\\site-packages\\sklearn\\linear_model\\_logistic.py:1183: FutureWarning: `penalty='none'`has been deprecated in 1.2 and will be removed in 1.4. To keep the past behaviour, set `penalty=None`.\n",
      "  warnings.warn(\n",
      "c:\\Users\\harsh\\anaconda3\\Lib\\site-packages\\sklearn\\linear_model\\_logistic.py:1193: UserWarning: Setting penalty=None will ignore the C and l1_ratio parameters\n",
      "  warnings.warn(\n"
     ]
    },
    {
     "name": "stdout",
     "output_type": "stream",
     "text": [
      "[CV 3/3] END ..C=0.01, penalty=none, solver=sag;, score=0.970 total time=   0.1s\n",
      "[CV 1/3] END .C=0.01, penalty=none, solver=saga;, score=0.970 total time=   0.1s\n"
     ]
    },
    {
     "name": "stderr",
     "output_type": "stream",
     "text": [
      "c:\\Users\\harsh\\anaconda3\\Lib\\site-packages\\sklearn\\linear_model\\_sag.py:350: ConvergenceWarning: The max_iter was reached which means the coef_ did not converge\n",
      "  warnings.warn(\n",
      "c:\\Users\\harsh\\anaconda3\\Lib\\site-packages\\sklearn\\linear_model\\_logistic.py:1183: FutureWarning: `penalty='none'`has been deprecated in 1.2 and will be removed in 1.4. To keep the past behaviour, set `penalty=None`.\n",
      "  warnings.warn(\n",
      "c:\\Users\\harsh\\anaconda3\\Lib\\site-packages\\sklearn\\linear_model\\_logistic.py:1193: UserWarning: Setting penalty=None will ignore the C and l1_ratio parameters\n",
      "  warnings.warn(\n",
      "c:\\Users\\harsh\\anaconda3\\Lib\\site-packages\\sklearn\\linear_model\\_sag.py:350: ConvergenceWarning: The max_iter was reached which means the coef_ did not converge\n",
      "  warnings.warn(\n"
     ]
    },
    {
     "name": "stdout",
     "output_type": "stream",
     "text": [
      "[CV 2/3] END .C=0.01, penalty=none, solver=saga;, score=0.966 total time=   0.1s\n",
      "[CV 3/3] END .C=0.01, penalty=none, solver=saga;, score=0.969 total time=   0.1s\n",
      "[CV 1/3] END .C=0.1, penalty=l1, solver=newton-cg;, score=nan total time=   0.0s\n",
      "[CV 2/3] END .C=0.1, penalty=l1, solver=newton-cg;, score=nan total time=   0.0s\n",
      "[CV 3/3] END .C=0.1, penalty=l1, solver=newton-cg;, score=nan total time=   0.0s\n",
      "[CV 1/3] END .....C=0.1, penalty=l1, solver=lbfgs;, score=nan total time=   0.0s\n",
      "[CV 2/3] END .....C=0.1, penalty=l1, solver=lbfgs;, score=nan total time=   0.0s\n",
      "[CV 3/3] END .....C=0.1, penalty=l1, solver=lbfgs;, score=nan total time=   0.0s\n",
      "[CV 1/3] END C=0.1, penalty=l1, solver=liblinear;, score=0.971 total time=   0.0s\n",
      "[CV 2/3] END C=0.1, penalty=l1, solver=liblinear;, score=0.966 total time=   0.0s\n",
      "[CV 3/3] END C=0.1, penalty=l1, solver=liblinear;, score=0.970 total time=   0.0s\n",
      "[CV 1/3] END .......C=0.1, penalty=l1, solver=sag;, score=nan total time=   0.0s\n",
      "[CV 2/3] END .......C=0.1, penalty=l1, solver=sag;, score=nan total time=   0.0s\n",
      "[CV 3/3] END .......C=0.1, penalty=l1, solver=sag;, score=nan total time=   0.0s\n"
     ]
    },
    {
     "name": "stderr",
     "output_type": "stream",
     "text": [
      "c:\\Users\\harsh\\anaconda3\\Lib\\site-packages\\sklearn\\linear_model\\_sag.py:350: ConvergenceWarning: The max_iter was reached which means the coef_ did not converge\n",
      "  warnings.warn(\n"
     ]
    },
    {
     "name": "stdout",
     "output_type": "stream",
     "text": [
      "[CV 1/3] END ....C=0.1, penalty=l1, solver=saga;, score=0.968 total time=   0.1s\n"
     ]
    },
    {
     "name": "stderr",
     "output_type": "stream",
     "text": [
      "c:\\Users\\harsh\\anaconda3\\Lib\\site-packages\\sklearn\\linear_model\\_sag.py:350: ConvergenceWarning: The max_iter was reached which means the coef_ did not converge\n",
      "  warnings.warn(\n"
     ]
    },
    {
     "name": "stdout",
     "output_type": "stream",
     "text": [
      "[CV 2/3] END ....C=0.1, penalty=l1, solver=saga;, score=0.963 total time=   0.1s\n"
     ]
    },
    {
     "name": "stderr",
     "output_type": "stream",
     "text": [
      "c:\\Users\\harsh\\anaconda3\\Lib\\site-packages\\sklearn\\linear_model\\_sag.py:350: ConvergenceWarning: The max_iter was reached which means the coef_ did not converge\n",
      "  warnings.warn(\n"
     ]
    },
    {
     "name": "stdout",
     "output_type": "stream",
     "text": [
      "[CV 3/3] END ....C=0.1, penalty=l1, solver=saga;, score=0.969 total time=   0.2s\n",
      "[CV 1/3] END C=0.1, penalty=l2, solver=newton-cg;, score=0.972 total time=   0.0s\n",
      "[CV 2/3] END C=0.1, penalty=l2, solver=newton-cg;, score=0.968 total time=   0.0s\n",
      "[CV 3/3] END C=0.1, penalty=l2, solver=newton-cg;, score=0.970 total time=   0.0s\n",
      "[CV 1/3] END ...C=0.1, penalty=l2, solver=lbfgs;, score=0.972 total time=   0.0s\n",
      "[CV 2/3] END ...C=0.1, penalty=l2, solver=lbfgs;, score=0.968 total time=   0.0s\n",
      "[CV 3/3] END ...C=0.1, penalty=l2, solver=lbfgs;, score=0.970 total time=   0.0s\n",
      "[CV 1/3] END C=0.1, penalty=l2, solver=liblinear;, score=0.971 total time=   0.0s\n",
      "[CV 2/3] END C=0.1, penalty=l2, solver=liblinear;, score=0.967 total time=   0.0s\n",
      "[CV 3/3] END C=0.1, penalty=l2, solver=liblinear;, score=0.970 total time=   0.0s\n"
     ]
    },
    {
     "name": "stderr",
     "output_type": "stream",
     "text": [
      "c:\\Users\\harsh\\anaconda3\\Lib\\site-packages\\sklearn\\linear_model\\_sag.py:350: ConvergenceWarning: The max_iter was reached which means the coef_ did not converge\n",
      "  warnings.warn(\n",
      "c:\\Users\\harsh\\anaconda3\\Lib\\site-packages\\sklearn\\linear_model\\_sag.py:350: ConvergenceWarning: The max_iter was reached which means the coef_ did not converge\n",
      "  warnings.warn(\n"
     ]
    },
    {
     "name": "stdout",
     "output_type": "stream",
     "text": [
      "[CV 1/3] END .....C=0.1, penalty=l2, solver=sag;, score=0.971 total time=   0.1s\n",
      "[CV 2/3] END .....C=0.1, penalty=l2, solver=sag;, score=0.967 total time=   0.1s\n"
     ]
    },
    {
     "name": "stderr",
     "output_type": "stream",
     "text": [
      "c:\\Users\\harsh\\anaconda3\\Lib\\site-packages\\sklearn\\linear_model\\_sag.py:350: ConvergenceWarning: The max_iter was reached which means the coef_ did not converge\n",
      "  warnings.warn(\n",
      "c:\\Users\\harsh\\anaconda3\\Lib\\site-packages\\sklearn\\linear_model\\_sag.py:350: ConvergenceWarning: The max_iter was reached which means the coef_ did not converge\n",
      "  warnings.warn(\n"
     ]
    },
    {
     "name": "stdout",
     "output_type": "stream",
     "text": [
      "[CV 3/3] END .....C=0.1, penalty=l2, solver=sag;, score=0.971 total time=   0.1s\n",
      "[CV 1/3] END ....C=0.1, penalty=l2, solver=saga;, score=0.970 total time=   0.1s\n"
     ]
    },
    {
     "name": "stderr",
     "output_type": "stream",
     "text": [
      "c:\\Users\\harsh\\anaconda3\\Lib\\site-packages\\sklearn\\linear_model\\_sag.py:350: ConvergenceWarning: The max_iter was reached which means the coef_ did not converge\n",
      "  warnings.warn(\n",
      "c:\\Users\\harsh\\anaconda3\\Lib\\site-packages\\sklearn\\linear_model\\_sag.py:350: ConvergenceWarning: The max_iter was reached which means the coef_ did not converge\n",
      "  warnings.warn(\n",
      "c:\\Users\\harsh\\anaconda3\\Lib\\site-packages\\sklearn\\linear_model\\_logistic.py:1183: FutureWarning: `penalty='none'`has been deprecated in 1.2 and will be removed in 1.4. To keep the past behaviour, set `penalty=None`.\n",
      "  warnings.warn(\n",
      "c:\\Users\\harsh\\anaconda3\\Lib\\site-packages\\sklearn\\linear_model\\_logistic.py:1193: UserWarning: Setting penalty=None will ignore the C and l1_ratio parameters\n",
      "  warnings.warn(\n"
     ]
    },
    {
     "name": "stdout",
     "output_type": "stream",
     "text": [
      "[CV 2/3] END ....C=0.1, penalty=l2, solver=saga;, score=0.967 total time=   0.1s\n",
      "[CV 3/3] END ....C=0.1, penalty=l2, solver=saga;, score=0.970 total time=   0.1s\n",
      "[CV 1/3] END C=0.1, penalty=elasticnet, solver=newton-cg;, score=nan total time=   0.0s\n",
      "[CV 2/3] END C=0.1, penalty=elasticnet, solver=newton-cg;, score=nan total time=   0.0s\n",
      "[CV 3/3] END C=0.1, penalty=elasticnet, solver=newton-cg;, score=nan total time=   0.0s\n",
      "[CV 1/3] END C=0.1, penalty=elasticnet, solver=lbfgs;, score=nan total time=   0.0s\n",
      "[CV 2/3] END C=0.1, penalty=elasticnet, solver=lbfgs;, score=nan total time=   0.0s\n",
      "[CV 3/3] END C=0.1, penalty=elasticnet, solver=lbfgs;, score=nan total time=   0.0s\n",
      "[CV 1/3] END C=0.1, penalty=elasticnet, solver=liblinear;, score=nan total time=   0.0s\n",
      "[CV 2/3] END C=0.1, penalty=elasticnet, solver=liblinear;, score=nan total time=   0.0s\n",
      "[CV 3/3] END C=0.1, penalty=elasticnet, solver=liblinear;, score=nan total time=   0.0s\n",
      "[CV 1/3] END C=0.1, penalty=elasticnet, solver=sag;, score=nan total time=   0.0s\n",
      "[CV 2/3] END C=0.1, penalty=elasticnet, solver=sag;, score=nan total time=   0.0s\n",
      "[CV 3/3] END C=0.1, penalty=elasticnet, solver=sag;, score=nan total time=   0.0s\n",
      "[CV 1/3] END C=0.1, penalty=elasticnet, solver=saga;, score=nan total time=   0.0s\n",
      "[CV 2/3] END C=0.1, penalty=elasticnet, solver=saga;, score=nan total time=   0.0s\n",
      "[CV 3/3] END C=0.1, penalty=elasticnet, solver=saga;, score=nan total time=   0.0s\n"
     ]
    },
    {
     "name": "stderr",
     "output_type": "stream",
     "text": [
      "c:\\Users\\harsh\\anaconda3\\Lib\\site-packages\\scipy\\optimize\\_linesearch.py:306: LineSearchWarning: The line search algorithm did not converge\n",
      "  warn('The line search algorithm did not converge', LineSearchWarning)\n",
      "c:\\Users\\harsh\\anaconda3\\Lib\\site-packages\\sklearn\\utils\\optimize.py:204: UserWarning: Line Search failed\n",
      "  warnings.warn(\"Line Search failed\")\n",
      "c:\\Users\\harsh\\anaconda3\\Lib\\site-packages\\sklearn\\linear_model\\_logistic.py:1183: FutureWarning: `penalty='none'`has been deprecated in 1.2 and will be removed in 1.4. To keep the past behaviour, set `penalty=None`.\n",
      "  warnings.warn(\n",
      "c:\\Users\\harsh\\anaconda3\\Lib\\site-packages\\sklearn\\linear_model\\_logistic.py:1193: UserWarning: Setting penalty=None will ignore the C and l1_ratio parameters\n",
      "  warnings.warn(\n",
      "c:\\Users\\harsh\\anaconda3\\Lib\\site-packages\\scipy\\optimize\\_linesearch.py:306: LineSearchWarning: The line search algorithm did not converge\n",
      "  warn('The line search algorithm did not converge', LineSearchWarning)\n",
      "c:\\Users\\harsh\\anaconda3\\Lib\\site-packages\\sklearn\\utils\\optimize.py:204: UserWarning: Line Search failed\n",
      "  warnings.warn(\"Line Search failed\")\n",
      "c:\\Users\\harsh\\anaconda3\\Lib\\site-packages\\sklearn\\linear_model\\_logistic.py:1183: FutureWarning: `penalty='none'`has been deprecated in 1.2 and will be removed in 1.4. To keep the past behaviour, set `penalty=None`.\n",
      "  warnings.warn(\n",
      "c:\\Users\\harsh\\anaconda3\\Lib\\site-packages\\sklearn\\linear_model\\_logistic.py:1193: UserWarning: Setting penalty=None will ignore the C and l1_ratio parameters\n",
      "  warnings.warn(\n",
      "c:\\Users\\harsh\\anaconda3\\Lib\\site-packages\\sklearn\\linear_model\\_logistic.py:1183: FutureWarning: `penalty='none'`has been deprecated in 1.2 and will be removed in 1.4. To keep the past behaviour, set `penalty=None`.\n",
      "  warnings.warn(\n",
      "c:\\Users\\harsh\\anaconda3\\Lib\\site-packages\\sklearn\\linear_model\\_logistic.py:1193: UserWarning: Setting penalty=None will ignore the C and l1_ratio parameters\n",
      "  warnings.warn(\n",
      "c:\\Users\\harsh\\anaconda3\\Lib\\site-packages\\sklearn\\linear_model\\_logistic.py:460: ConvergenceWarning: lbfgs failed to converge (status=1):\n",
      "STOP: TOTAL NO. of ITERATIONS REACHED LIMIT.\n",
      "\n",
      "Increase the number of iterations (max_iter) or scale the data as shown in:\n",
      "    https://scikit-learn.org/stable/modules/preprocessing.html\n",
      "Please also refer to the documentation for alternative solver options:\n",
      "    https://scikit-learn.org/stable/modules/linear_model.html#logistic-regression\n",
      "  n_iter_i = _check_optimize_result(\n",
      "c:\\Users\\harsh\\anaconda3\\Lib\\site-packages\\sklearn\\linear_model\\_logistic.py:1183: FutureWarning: `penalty='none'`has been deprecated in 1.2 and will be removed in 1.4. To keep the past behaviour, set `penalty=None`.\n",
      "  warnings.warn(\n",
      "c:\\Users\\harsh\\anaconda3\\Lib\\site-packages\\sklearn\\linear_model\\_logistic.py:1193: UserWarning: Setting penalty=None will ignore the C and l1_ratio parameters\n",
      "  warnings.warn(\n"
     ]
    },
    {
     "name": "stdout",
     "output_type": "stream",
     "text": [
      "[CV 1/3] END C=0.1, penalty=none, solver=newton-cg;, score=0.975 total time=   0.0s\n",
      "[CV 2/3] END C=0.1, penalty=none, solver=newton-cg;, score=0.973 total time=   0.0s\n",
      "[CV 3/3] END C=0.1, penalty=none, solver=newton-cg;, score=0.972 total time=   0.0s\n",
      "[CV 1/3] END .C=0.1, penalty=none, solver=lbfgs;, score=0.977 total time=   0.0s\n"
     ]
    },
    {
     "name": "stderr",
     "output_type": "stream",
     "text": [
      "c:\\Users\\harsh\\anaconda3\\Lib\\site-packages\\sklearn\\linear_model\\_logistic.py:460: ConvergenceWarning: lbfgs failed to converge (status=1):\n",
      "STOP: TOTAL NO. of ITERATIONS REACHED LIMIT.\n",
      "\n",
      "Increase the number of iterations (max_iter) or scale the data as shown in:\n",
      "    https://scikit-learn.org/stable/modules/preprocessing.html\n",
      "Please also refer to the documentation for alternative solver options:\n",
      "    https://scikit-learn.org/stable/modules/linear_model.html#logistic-regression\n",
      "  n_iter_i = _check_optimize_result(\n",
      "c:\\Users\\harsh\\anaconda3\\Lib\\site-packages\\sklearn\\linear_model\\_logistic.py:1183: FutureWarning: `penalty='none'`has been deprecated in 1.2 and will be removed in 1.4. To keep the past behaviour, set `penalty=None`.\n",
      "  warnings.warn(\n",
      "c:\\Users\\harsh\\anaconda3\\Lib\\site-packages\\sklearn\\linear_model\\_logistic.py:1193: UserWarning: Setting penalty=None will ignore the C and l1_ratio parameters\n",
      "  warnings.warn(\n",
      "c:\\Users\\harsh\\anaconda3\\Lib\\site-packages\\sklearn\\linear_model\\_logistic.py:1183: FutureWarning: `penalty='none'`has been deprecated in 1.2 and will be removed in 1.4. To keep the past behaviour, set `penalty=None`.\n",
      "  warnings.warn(\n",
      "c:\\Users\\harsh\\anaconda3\\Lib\\site-packages\\sklearn\\linear_model\\_logistic.py:1193: UserWarning: Setting penalty=None will ignore the C and l1_ratio parameters\n",
      "  warnings.warn(\n"
     ]
    },
    {
     "name": "stdout",
     "output_type": "stream",
     "text": [
      "[CV 2/3] END .C=0.1, penalty=none, solver=lbfgs;, score=0.978 total time=   0.0s\n",
      "[CV 3/3] END .C=0.1, penalty=none, solver=lbfgs;, score=0.972 total time=   0.0s\n",
      "[CV 1/3] END C=0.1, penalty=none, solver=liblinear;, score=nan total time=   0.0s\n",
      "[CV 2/3] END C=0.1, penalty=none, solver=liblinear;, score=nan total time=   0.0s\n",
      "[CV 3/3] END C=0.1, penalty=none, solver=liblinear;, score=nan total time=   0.0s\n"
     ]
    },
    {
     "name": "stderr",
     "output_type": "stream",
     "text": [
      "c:\\Users\\harsh\\anaconda3\\Lib\\site-packages\\sklearn\\linear_model\\_sag.py:350: ConvergenceWarning: The max_iter was reached which means the coef_ did not converge\n",
      "  warnings.warn(\n",
      "c:\\Users\\harsh\\anaconda3\\Lib\\site-packages\\sklearn\\linear_model\\_logistic.py:1183: FutureWarning: `penalty='none'`has been deprecated in 1.2 and will be removed in 1.4. To keep the past behaviour, set `penalty=None`.\n",
      "  warnings.warn(\n",
      "c:\\Users\\harsh\\anaconda3\\Lib\\site-packages\\sklearn\\linear_model\\_logistic.py:1193: UserWarning: Setting penalty=None will ignore the C and l1_ratio parameters\n",
      "  warnings.warn(\n",
      "c:\\Users\\harsh\\anaconda3\\Lib\\site-packages\\sklearn\\linear_model\\_sag.py:350: ConvergenceWarning: The max_iter was reached which means the coef_ did not converge\n",
      "  warnings.warn(\n",
      "c:\\Users\\harsh\\anaconda3\\Lib\\site-packages\\sklearn\\linear_model\\_logistic.py:1183: FutureWarning: `penalty='none'`has been deprecated in 1.2 and will be removed in 1.4. To keep the past behaviour, set `penalty=None`.\n",
      "  warnings.warn(\n",
      "c:\\Users\\harsh\\anaconda3\\Lib\\site-packages\\sklearn\\linear_model\\_logistic.py:1193: UserWarning: Setting penalty=None will ignore the C and l1_ratio parameters\n",
      "  warnings.warn(\n"
     ]
    },
    {
     "name": "stdout",
     "output_type": "stream",
     "text": [
      "[CV 1/3] END ...C=0.1, penalty=none, solver=sag;, score=0.972 total time=   0.1s\n",
      "[CV 2/3] END ...C=0.1, penalty=none, solver=sag;, score=0.968 total time=   0.1s\n"
     ]
    },
    {
     "name": "stderr",
     "output_type": "stream",
     "text": [
      "c:\\Users\\harsh\\anaconda3\\Lib\\site-packages\\sklearn\\linear_model\\_sag.py:350: ConvergenceWarning: The max_iter was reached which means the coef_ did not converge\n",
      "  warnings.warn(\n",
      "c:\\Users\\harsh\\anaconda3\\Lib\\site-packages\\sklearn\\linear_model\\_logistic.py:1183: FutureWarning: `penalty='none'`has been deprecated in 1.2 and will be removed in 1.4. To keep the past behaviour, set `penalty=None`.\n",
      "  warnings.warn(\n",
      "c:\\Users\\harsh\\anaconda3\\Lib\\site-packages\\sklearn\\linear_model\\_logistic.py:1193: UserWarning: Setting penalty=None will ignore the C and l1_ratio parameters\n",
      "  warnings.warn(\n",
      "c:\\Users\\harsh\\anaconda3\\Lib\\site-packages\\sklearn\\linear_model\\_sag.py:350: ConvergenceWarning: The max_iter was reached which means the coef_ did not converge\n",
      "  warnings.warn(\n",
      "c:\\Users\\harsh\\anaconda3\\Lib\\site-packages\\sklearn\\linear_model\\_logistic.py:1183: FutureWarning: `penalty='none'`has been deprecated in 1.2 and will be removed in 1.4. To keep the past behaviour, set `penalty=None`.\n",
      "  warnings.warn(\n",
      "c:\\Users\\harsh\\anaconda3\\Lib\\site-packages\\sklearn\\linear_model\\_logistic.py:1193: UserWarning: Setting penalty=None will ignore the C and l1_ratio parameters\n",
      "  warnings.warn(\n"
     ]
    },
    {
     "name": "stdout",
     "output_type": "stream",
     "text": [
      "[CV 3/3] END ...C=0.1, penalty=none, solver=sag;, score=0.970 total time=   0.1s\n",
      "[CV 1/3] END ..C=0.1, penalty=none, solver=saga;, score=0.970 total time=   0.1s\n"
     ]
    },
    {
     "name": "stderr",
     "output_type": "stream",
     "text": [
      "c:\\Users\\harsh\\anaconda3\\Lib\\site-packages\\sklearn\\linear_model\\_sag.py:350: ConvergenceWarning: The max_iter was reached which means the coef_ did not converge\n",
      "  warnings.warn(\n",
      "c:\\Users\\harsh\\anaconda3\\Lib\\site-packages\\sklearn\\linear_model\\_logistic.py:1183: FutureWarning: `penalty='none'`has been deprecated in 1.2 and will be removed in 1.4. To keep the past behaviour, set `penalty=None`.\n",
      "  warnings.warn(\n",
      "c:\\Users\\harsh\\anaconda3\\Lib\\site-packages\\sklearn\\linear_model\\_logistic.py:1193: UserWarning: Setting penalty=None will ignore the C and l1_ratio parameters\n",
      "  warnings.warn(\n",
      "c:\\Users\\harsh\\anaconda3\\Lib\\site-packages\\sklearn\\linear_model\\_sag.py:350: ConvergenceWarning: The max_iter was reached which means the coef_ did not converge\n",
      "  warnings.warn(\n"
     ]
    },
    {
     "name": "stdout",
     "output_type": "stream",
     "text": [
      "[CV 2/3] END ..C=0.1, penalty=none, solver=saga;, score=0.966 total time=   0.1s\n",
      "[CV 3/3] END ..C=0.1, penalty=none, solver=saga;, score=0.969 total time=   0.1s\n",
      "[CV 1/3] END ...C=1, penalty=l1, solver=newton-cg;, score=nan total time=   0.0s\n",
      "[CV 2/3] END ...C=1, penalty=l1, solver=newton-cg;, score=nan total time=   0.0s\n",
      "[CV 3/3] END ...C=1, penalty=l1, solver=newton-cg;, score=nan total time=   0.0s\n",
      "[CV 1/3] END .......C=1, penalty=l1, solver=lbfgs;, score=nan total time=   0.0s\n",
      "[CV 2/3] END .......C=1, penalty=l1, solver=lbfgs;, score=nan total time=   0.0s\n",
      "[CV 3/3] END .......C=1, penalty=l1, solver=lbfgs;, score=nan total time=   0.0s\n",
      "[CV 1/3] END .C=1, penalty=l1, solver=liblinear;, score=0.975 total time=   0.0s\n",
      "[CV 2/3] END .C=1, penalty=l1, solver=liblinear;, score=0.973 total time=   0.0s\n",
      "[CV 3/3] END .C=1, penalty=l1, solver=liblinear;, score=0.972 total time=   0.0s\n",
      "[CV 1/3] END .........C=1, penalty=l1, solver=sag;, score=nan total time=   0.0s\n",
      "[CV 2/3] END .........C=1, penalty=l1, solver=sag;, score=nan total time=   0.0s\n",
      "[CV 3/3] END .........C=1, penalty=l1, solver=sag;, score=nan total time=   0.0s\n"
     ]
    },
    {
     "name": "stderr",
     "output_type": "stream",
     "text": [
      "c:\\Users\\harsh\\anaconda3\\Lib\\site-packages\\sklearn\\linear_model\\_sag.py:350: ConvergenceWarning: The max_iter was reached which means the coef_ did not converge\n",
      "  warnings.warn(\n"
     ]
    },
    {
     "name": "stdout",
     "output_type": "stream",
     "text": [
      "[CV 1/3] END ......C=1, penalty=l1, solver=saga;, score=0.970 total time=   0.1s\n"
     ]
    },
    {
     "name": "stderr",
     "output_type": "stream",
     "text": [
      "c:\\Users\\harsh\\anaconda3\\Lib\\site-packages\\sklearn\\linear_model\\_sag.py:350: ConvergenceWarning: The max_iter was reached which means the coef_ did not converge\n",
      "  warnings.warn(\n"
     ]
    },
    {
     "name": "stdout",
     "output_type": "stream",
     "text": [
      "[CV 2/3] END ......C=1, penalty=l1, solver=saga;, score=0.966 total time=   0.1s\n"
     ]
    },
    {
     "name": "stderr",
     "output_type": "stream",
     "text": [
      "c:\\Users\\harsh\\anaconda3\\Lib\\site-packages\\sklearn\\linear_model\\_sag.py:350: ConvergenceWarning: The max_iter was reached which means the coef_ did not converge\n",
      "  warnings.warn(\n"
     ]
    },
    {
     "name": "stdout",
     "output_type": "stream",
     "text": [
      "[CV 3/3] END ......C=1, penalty=l1, solver=saga;, score=0.969 total time=   0.1s\n",
      "[CV 1/3] END .C=1, penalty=l2, solver=newton-cg;, score=0.975 total time=   0.0s\n",
      "[CV 2/3] END .C=1, penalty=l2, solver=newton-cg;, score=0.973 total time=   0.0s\n",
      "[CV 3/3] END .C=1, penalty=l2, solver=newton-cg;, score=0.972 total time=   0.0s\n",
      "[CV 1/3] END .....C=1, penalty=l2, solver=lbfgs;, score=0.975 total time=   0.0s\n",
      "[CV 2/3] END .....C=1, penalty=l2, solver=lbfgs;, score=0.973 total time=   0.0s\n",
      "[CV 3/3] END .....C=1, penalty=l2, solver=lbfgs;, score=0.972 total time=   0.0s\n"
     ]
    },
    {
     "name": "stderr",
     "output_type": "stream",
     "text": [
      "c:\\Users\\harsh\\anaconda3\\Lib\\site-packages\\sklearn\\linear_model\\_logistic.py:460: ConvergenceWarning: lbfgs failed to converge (status=1):\n",
      "STOP: TOTAL NO. of ITERATIONS REACHED LIMIT.\n",
      "\n",
      "Increase the number of iterations (max_iter) or scale the data as shown in:\n",
      "    https://scikit-learn.org/stable/modules/preprocessing.html\n",
      "Please also refer to the documentation for alternative solver options:\n",
      "    https://scikit-learn.org/stable/modules/linear_model.html#logistic-regression\n",
      "  n_iter_i = _check_optimize_result(\n",
      "c:\\Users\\harsh\\anaconda3\\Lib\\site-packages\\sklearn\\linear_model\\_logistic.py:460: ConvergenceWarning: lbfgs failed to converge (status=1):\n",
      "STOP: TOTAL NO. of ITERATIONS REACHED LIMIT.\n",
      "\n",
      "Increase the number of iterations (max_iter) or scale the data as shown in:\n",
      "    https://scikit-learn.org/stable/modules/preprocessing.html\n",
      "Please also refer to the documentation for alternative solver options:\n",
      "    https://scikit-learn.org/stable/modules/linear_model.html#logistic-regression\n",
      "  n_iter_i = _check_optimize_result(\n"
     ]
    },
    {
     "name": "stdout",
     "output_type": "stream",
     "text": [
      "[CV 1/3] END .C=1, penalty=l2, solver=liblinear;, score=0.973 total time=   0.0s\n",
      "[CV 2/3] END .C=1, penalty=l2, solver=liblinear;, score=0.973 total time=   0.0s\n",
      "[CV 3/3] END .C=1, penalty=l2, solver=liblinear;, score=0.972 total time=   0.0s\n"
     ]
    },
    {
     "name": "stderr",
     "output_type": "stream",
     "text": [
      "c:\\Users\\harsh\\anaconda3\\Lib\\site-packages\\sklearn\\linear_model\\_sag.py:350: ConvergenceWarning: The max_iter was reached which means the coef_ did not converge\n",
      "  warnings.warn(\n",
      "c:\\Users\\harsh\\anaconda3\\Lib\\site-packages\\sklearn\\linear_model\\_sag.py:350: ConvergenceWarning: The max_iter was reached which means the coef_ did not converge\n",
      "  warnings.warn(\n"
     ]
    },
    {
     "name": "stdout",
     "output_type": "stream",
     "text": [
      "[CV 1/3] END .......C=1, penalty=l2, solver=sag;, score=0.972 total time=   0.0s\n",
      "[CV 2/3] END .......C=1, penalty=l2, solver=sag;, score=0.968 total time=   0.0s\n"
     ]
    },
    {
     "name": "stderr",
     "output_type": "stream",
     "text": [
      "c:\\Users\\harsh\\anaconda3\\Lib\\site-packages\\sklearn\\linear_model\\_sag.py:350: ConvergenceWarning: The max_iter was reached which means the coef_ did not converge\n",
      "  warnings.warn(\n",
      "c:\\Users\\harsh\\anaconda3\\Lib\\site-packages\\sklearn\\linear_model\\_sag.py:350: ConvergenceWarning: The max_iter was reached which means the coef_ did not converge\n",
      "  warnings.warn(\n"
     ]
    },
    {
     "name": "stdout",
     "output_type": "stream",
     "text": [
      "[CV 3/3] END .......C=1, penalty=l2, solver=sag;, score=0.970 total time=   0.1s\n",
      "[CV 1/3] END ......C=1, penalty=l2, solver=saga;, score=0.970 total time=   0.1s\n"
     ]
    },
    {
     "name": "stderr",
     "output_type": "stream",
     "text": [
      "c:\\Users\\harsh\\anaconda3\\Lib\\site-packages\\sklearn\\linear_model\\_sag.py:350: ConvergenceWarning: The max_iter was reached which means the coef_ did not converge\n",
      "  warnings.warn(\n",
      "c:\\Users\\harsh\\anaconda3\\Lib\\site-packages\\sklearn\\linear_model\\_sag.py:350: ConvergenceWarning: The max_iter was reached which means the coef_ did not converge\n",
      "  warnings.warn(\n",
      "c:\\Users\\harsh\\anaconda3\\Lib\\site-packages\\sklearn\\linear_model\\_logistic.py:1183: FutureWarning: `penalty='none'`has been deprecated in 1.2 and will be removed in 1.4. To keep the past behaviour, set `penalty=None`.\n",
      "  warnings.warn(\n"
     ]
    },
    {
     "name": "stdout",
     "output_type": "stream",
     "text": [
      "[CV 2/3] END ......C=1, penalty=l2, solver=saga;, score=0.966 total time=   0.1s\n",
      "[CV 3/3] END ......C=1, penalty=l2, solver=saga;, score=0.969 total time=   0.1s\n",
      "[CV 1/3] END C=1, penalty=elasticnet, solver=newton-cg;, score=nan total time=   0.0s\n",
      "[CV 2/3] END C=1, penalty=elasticnet, solver=newton-cg;, score=nan total time=   0.0s\n",
      "[CV 3/3] END C=1, penalty=elasticnet, solver=newton-cg;, score=nan total time=   0.0s\n",
      "[CV 1/3] END C=1, penalty=elasticnet, solver=lbfgs;, score=nan total time=   0.0s\n",
      "[CV 2/3] END C=1, penalty=elasticnet, solver=lbfgs;, score=nan total time=   0.0s\n",
      "[CV 3/3] END C=1, penalty=elasticnet, solver=lbfgs;, score=nan total time=   0.0s\n",
      "[CV 1/3] END C=1, penalty=elasticnet, solver=liblinear;, score=nan total time=   0.0s\n",
      "[CV 2/3] END C=1, penalty=elasticnet, solver=liblinear;, score=nan total time=   0.0s\n",
      "[CV 3/3] END C=1, penalty=elasticnet, solver=liblinear;, score=nan total time=   0.0s\n",
      "[CV 1/3] END .C=1, penalty=elasticnet, solver=sag;, score=nan total time=   0.0s\n",
      "[CV 2/3] END .C=1, penalty=elasticnet, solver=sag;, score=nan total time=   0.0s\n",
      "[CV 3/3] END .C=1, penalty=elasticnet, solver=sag;, score=nan total time=   0.0s\n",
      "[CV 1/3] END C=1, penalty=elasticnet, solver=saga;, score=nan total time=   0.0s\n",
      "[CV 2/3] END C=1, penalty=elasticnet, solver=saga;, score=nan total time=   0.0s\n",
      "[CV 3/3] END C=1, penalty=elasticnet, solver=saga;, score=nan total time=   0.0s\n"
     ]
    },
    {
     "name": "stderr",
     "output_type": "stream",
     "text": [
      "c:\\Users\\harsh\\anaconda3\\Lib\\site-packages\\scipy\\optimize\\_linesearch.py:306: LineSearchWarning: The line search algorithm did not converge\n",
      "  warn('The line search algorithm did not converge', LineSearchWarning)\n",
      "c:\\Users\\harsh\\anaconda3\\Lib\\site-packages\\sklearn\\utils\\optimize.py:204: UserWarning: Line Search failed\n",
      "  warnings.warn(\"Line Search failed\")\n",
      "c:\\Users\\harsh\\anaconda3\\Lib\\site-packages\\sklearn\\linear_model\\_logistic.py:1183: FutureWarning: `penalty='none'`has been deprecated in 1.2 and will be removed in 1.4. To keep the past behaviour, set `penalty=None`.\n",
      "  warnings.warn(\n",
      "c:\\Users\\harsh\\anaconda3\\Lib\\site-packages\\scipy\\optimize\\_linesearch.py:306: LineSearchWarning: The line search algorithm did not converge\n",
      "  warn('The line search algorithm did not converge', LineSearchWarning)\n",
      "c:\\Users\\harsh\\anaconda3\\Lib\\site-packages\\sklearn\\utils\\optimize.py:204: UserWarning: Line Search failed\n",
      "  warnings.warn(\"Line Search failed\")\n",
      "c:\\Users\\harsh\\anaconda3\\Lib\\site-packages\\sklearn\\linear_model\\_logistic.py:1183: FutureWarning: `penalty='none'`has been deprecated in 1.2 and will be removed in 1.4. To keep the past behaviour, set `penalty=None`.\n",
      "  warnings.warn(\n",
      "c:\\Users\\harsh\\anaconda3\\Lib\\site-packages\\sklearn\\linear_model\\_logistic.py:1183: FutureWarning: `penalty='none'`has been deprecated in 1.2 and will be removed in 1.4. To keep the past behaviour, set `penalty=None`.\n",
      "  warnings.warn(\n",
      "c:\\Users\\harsh\\anaconda3\\Lib\\site-packages\\sklearn\\linear_model\\_logistic.py:460: ConvergenceWarning: lbfgs failed to converge (status=1):\n",
      "STOP: TOTAL NO. of ITERATIONS REACHED LIMIT.\n",
      "\n",
      "Increase the number of iterations (max_iter) or scale the data as shown in:\n",
      "    https://scikit-learn.org/stable/modules/preprocessing.html\n",
      "Please also refer to the documentation for alternative solver options:\n",
      "    https://scikit-learn.org/stable/modules/linear_model.html#logistic-regression\n",
      "  n_iter_i = _check_optimize_result(\n",
      "c:\\Users\\harsh\\anaconda3\\Lib\\site-packages\\sklearn\\linear_model\\_logistic.py:1183: FutureWarning: `penalty='none'`has been deprecated in 1.2 and will be removed in 1.4. To keep the past behaviour, set `penalty=None`.\n",
      "  warnings.warn(\n"
     ]
    },
    {
     "name": "stdout",
     "output_type": "stream",
     "text": [
      "[CV 1/3] END C=1, penalty=none, solver=newton-cg;, score=0.975 total time=   0.0s\n",
      "[CV 2/3] END C=1, penalty=none, solver=newton-cg;, score=0.973 total time=   0.0s\n",
      "[CV 3/3] END C=1, penalty=none, solver=newton-cg;, score=0.972 total time=   0.0s\n",
      "[CV 1/3] END ...C=1, penalty=none, solver=lbfgs;, score=0.977 total time=   0.0s\n"
     ]
    },
    {
     "name": "stderr",
     "output_type": "stream",
     "text": [
      "c:\\Users\\harsh\\anaconda3\\Lib\\site-packages\\sklearn\\linear_model\\_logistic.py:460: ConvergenceWarning: lbfgs failed to converge (status=1):\n",
      "STOP: TOTAL NO. of ITERATIONS REACHED LIMIT.\n",
      "\n",
      "Increase the number of iterations (max_iter) or scale the data as shown in:\n",
      "    https://scikit-learn.org/stable/modules/preprocessing.html\n",
      "Please also refer to the documentation for alternative solver options:\n",
      "    https://scikit-learn.org/stable/modules/linear_model.html#logistic-regression\n",
      "  n_iter_i = _check_optimize_result(\n",
      "c:\\Users\\harsh\\anaconda3\\Lib\\site-packages\\sklearn\\linear_model\\_logistic.py:1183: FutureWarning: `penalty='none'`has been deprecated in 1.2 and will be removed in 1.4. To keep the past behaviour, set `penalty=None`.\n",
      "  warnings.warn(\n",
      "c:\\Users\\harsh\\anaconda3\\Lib\\site-packages\\sklearn\\linear_model\\_logistic.py:1183: FutureWarning: `penalty='none'`has been deprecated in 1.2 and will be removed in 1.4. To keep the past behaviour, set `penalty=None`.\n",
      "  warnings.warn(\n"
     ]
    },
    {
     "name": "stdout",
     "output_type": "stream",
     "text": [
      "[CV 2/3] END ...C=1, penalty=none, solver=lbfgs;, score=0.978 total time=   0.0s\n",
      "[CV 3/3] END ...C=1, penalty=none, solver=lbfgs;, score=0.972 total time=   0.0s\n",
      "[CV 1/3] END .C=1, penalty=none, solver=liblinear;, score=nan total time=   0.0s\n",
      "[CV 2/3] END .C=1, penalty=none, solver=liblinear;, score=nan total time=   0.0s\n",
      "[CV 3/3] END .C=1, penalty=none, solver=liblinear;, score=nan total time=   0.0s\n"
     ]
    },
    {
     "name": "stderr",
     "output_type": "stream",
     "text": [
      "c:\\Users\\harsh\\anaconda3\\Lib\\site-packages\\sklearn\\linear_model\\_sag.py:350: ConvergenceWarning: The max_iter was reached which means the coef_ did not converge\n",
      "  warnings.warn(\n",
      "c:\\Users\\harsh\\anaconda3\\Lib\\site-packages\\sklearn\\linear_model\\_logistic.py:1183: FutureWarning: `penalty='none'`has been deprecated in 1.2 and will be removed in 1.4. To keep the past behaviour, set `penalty=None`.\n",
      "  warnings.warn(\n",
      "c:\\Users\\harsh\\anaconda3\\Lib\\site-packages\\sklearn\\linear_model\\_sag.py:350: ConvergenceWarning: The max_iter was reached which means the coef_ did not converge\n",
      "  warnings.warn(\n",
      "c:\\Users\\harsh\\anaconda3\\Lib\\site-packages\\sklearn\\linear_model\\_logistic.py:1183: FutureWarning: `penalty='none'`has been deprecated in 1.2 and will be removed in 1.4. To keep the past behaviour, set `penalty=None`.\n",
      "  warnings.warn(\n"
     ]
    },
    {
     "name": "stdout",
     "output_type": "stream",
     "text": [
      "[CV 1/3] END .....C=1, penalty=none, solver=sag;, score=0.972 total time=   0.1s\n",
      "[CV 2/3] END .....C=1, penalty=none, solver=sag;, score=0.968 total time=   0.1s\n"
     ]
    },
    {
     "name": "stderr",
     "output_type": "stream",
     "text": [
      "c:\\Users\\harsh\\anaconda3\\Lib\\site-packages\\sklearn\\linear_model\\_sag.py:350: ConvergenceWarning: The max_iter was reached which means the coef_ did not converge\n",
      "  warnings.warn(\n",
      "c:\\Users\\harsh\\anaconda3\\Lib\\site-packages\\sklearn\\linear_model\\_logistic.py:1183: FutureWarning: `penalty='none'`has been deprecated in 1.2 and will be removed in 1.4. To keep the past behaviour, set `penalty=None`.\n",
      "  warnings.warn(\n",
      "c:\\Users\\harsh\\anaconda3\\Lib\\site-packages\\sklearn\\linear_model\\_sag.py:350: ConvergenceWarning: The max_iter was reached which means the coef_ did not converge\n",
      "  warnings.warn(\n",
      "c:\\Users\\harsh\\anaconda3\\Lib\\site-packages\\sklearn\\linear_model\\_logistic.py:1183: FutureWarning: `penalty='none'`has been deprecated in 1.2 and will be removed in 1.4. To keep the past behaviour, set `penalty=None`.\n",
      "  warnings.warn(\n"
     ]
    },
    {
     "name": "stdout",
     "output_type": "stream",
     "text": [
      "[CV 3/3] END .....C=1, penalty=none, solver=sag;, score=0.970 total time=   0.1s\n",
      "[CV 1/3] END ....C=1, penalty=none, solver=saga;, score=0.970 total time=   0.1s\n"
     ]
    },
    {
     "name": "stderr",
     "output_type": "stream",
     "text": [
      "c:\\Users\\harsh\\anaconda3\\Lib\\site-packages\\sklearn\\linear_model\\_sag.py:350: ConvergenceWarning: The max_iter was reached which means the coef_ did not converge\n",
      "  warnings.warn(\n",
      "c:\\Users\\harsh\\anaconda3\\Lib\\site-packages\\sklearn\\linear_model\\_logistic.py:1183: FutureWarning: `penalty='none'`has been deprecated in 1.2 and will be removed in 1.4. To keep the past behaviour, set `penalty=None`.\n",
      "  warnings.warn(\n"
     ]
    },
    {
     "name": "stdout",
     "output_type": "stream",
     "text": [
      "[CV 2/3] END ....C=1, penalty=none, solver=saga;, score=0.966 total time=   0.1s\n"
     ]
    },
    {
     "name": "stderr",
     "output_type": "stream",
     "text": [
      "c:\\Users\\harsh\\anaconda3\\Lib\\site-packages\\sklearn\\linear_model\\_sag.py:350: ConvergenceWarning: The max_iter was reached which means the coef_ did not converge\n",
      "  warnings.warn(\n"
     ]
    },
    {
     "name": "stdout",
     "output_type": "stream",
     "text": [
      "[CV 3/3] END ....C=1, penalty=none, solver=saga;, score=0.969 total time=   0.1s\n",
      "[CV 1/3] END ..C=10, penalty=l1, solver=newton-cg;, score=nan total time=   0.0s\n",
      "[CV 2/3] END ..C=10, penalty=l1, solver=newton-cg;, score=nan total time=   0.0s\n",
      "[CV 3/3] END ..C=10, penalty=l1, solver=newton-cg;, score=nan total time=   0.0s\n",
      "[CV 1/3] END ......C=10, penalty=l1, solver=lbfgs;, score=nan total time=   0.0s\n",
      "[CV 2/3] END ......C=10, penalty=l1, solver=lbfgs;, score=nan total time=   0.0s\n",
      "[CV 3/3] END ......C=10, penalty=l1, solver=lbfgs;, score=nan total time=   0.0s\n",
      "[CV 1/3] END C=10, penalty=l1, solver=liblinear;, score=0.977 total time=   0.6s\n",
      "[CV 2/3] END C=10, penalty=l1, solver=liblinear;, score=0.978 total time=   0.5s\n",
      "[CV 3/3] END C=10, penalty=l1, solver=liblinear;, score=0.972 total time=   0.0s\n",
      "[CV 1/3] END ........C=10, penalty=l1, solver=sag;, score=nan total time=   0.0s\n",
      "[CV 2/3] END ........C=10, penalty=l1, solver=sag;, score=nan total time=   0.0s\n",
      "[CV 3/3] END ........C=10, penalty=l1, solver=sag;, score=nan total time=   0.0s\n"
     ]
    },
    {
     "name": "stderr",
     "output_type": "stream",
     "text": [
      "c:\\Users\\harsh\\anaconda3\\Lib\\site-packages\\sklearn\\linear_model\\_sag.py:350: ConvergenceWarning: The max_iter was reached which means the coef_ did not converge\n",
      "  warnings.warn(\n"
     ]
    },
    {
     "name": "stdout",
     "output_type": "stream",
     "text": [
      "[CV 1/3] END .....C=10, penalty=l1, solver=saga;, score=0.970 total time=   0.1s\n"
     ]
    },
    {
     "name": "stderr",
     "output_type": "stream",
     "text": [
      "c:\\Users\\harsh\\anaconda3\\Lib\\site-packages\\sklearn\\linear_model\\_sag.py:350: ConvergenceWarning: The max_iter was reached which means the coef_ did not converge\n",
      "  warnings.warn(\n"
     ]
    },
    {
     "name": "stdout",
     "output_type": "stream",
     "text": [
      "[CV 2/3] END .....C=10, penalty=l1, solver=saga;, score=0.966 total time=   0.1s\n"
     ]
    },
    {
     "name": "stderr",
     "output_type": "stream",
     "text": [
      "c:\\Users\\harsh\\anaconda3\\Lib\\site-packages\\sklearn\\linear_model\\_sag.py:350: ConvergenceWarning: The max_iter was reached which means the coef_ did not converge\n",
      "  warnings.warn(\n",
      "c:\\Users\\harsh\\anaconda3\\Lib\\site-packages\\scipy\\optimize\\_linesearch.py:306: LineSearchWarning: The line search algorithm did not converge\n",
      "  warn('The line search algorithm did not converge', LineSearchWarning)\n",
      "c:\\Users\\harsh\\anaconda3\\Lib\\site-packages\\sklearn\\utils\\optimize.py:204: UserWarning: Line Search failed\n",
      "  warnings.warn(\"Line Search failed\")\n"
     ]
    },
    {
     "name": "stdout",
     "output_type": "stream",
     "text": [
      "[CV 3/3] END .....C=10, penalty=l1, solver=saga;, score=0.969 total time=   0.2s\n",
      "[CV 1/3] END C=10, penalty=l2, solver=newton-cg;, score=0.976 total time=   0.0s\n",
      "[CV 2/3] END C=10, penalty=l2, solver=newton-cg;, score=0.973 total time=   0.0s\n",
      "[CV 3/3] END C=10, penalty=l2, solver=newton-cg;, score=0.972 total time=   0.0s\n"
     ]
    },
    {
     "name": "stderr",
     "output_type": "stream",
     "text": [
      "c:\\Users\\harsh\\anaconda3\\Lib\\site-packages\\sklearn\\linear_model\\_logistic.py:460: ConvergenceWarning: lbfgs failed to converge (status=1):\n",
      "STOP: TOTAL NO. of ITERATIONS REACHED LIMIT.\n",
      "\n",
      "Increase the number of iterations (max_iter) or scale the data as shown in:\n",
      "    https://scikit-learn.org/stable/modules/preprocessing.html\n",
      "Please also refer to the documentation for alternative solver options:\n",
      "    https://scikit-learn.org/stable/modules/linear_model.html#logistic-regression\n",
      "  n_iter_i = _check_optimize_result(\n",
      "c:\\Users\\harsh\\anaconda3\\Lib\\site-packages\\sklearn\\linear_model\\_logistic.py:460: ConvergenceWarning: lbfgs failed to converge (status=1):\n",
      "STOP: TOTAL NO. of ITERATIONS REACHED LIMIT.\n",
      "\n",
      "Increase the number of iterations (max_iter) or scale the data as shown in:\n",
      "    https://scikit-learn.org/stable/modules/preprocessing.html\n",
      "Please also refer to the documentation for alternative solver options:\n",
      "    https://scikit-learn.org/stable/modules/linear_model.html#logistic-regression\n",
      "  n_iter_i = _check_optimize_result(\n",
      "c:\\Users\\harsh\\anaconda3\\Lib\\site-packages\\sklearn\\linear_model\\_logistic.py:460: ConvergenceWarning: lbfgs failed to converge (status=1):\n",
      "STOP: TOTAL NO. of ITERATIONS REACHED LIMIT.\n",
      "\n",
      "Increase the number of iterations (max_iter) or scale the data as shown in:\n",
      "    https://scikit-learn.org/stable/modules/preprocessing.html\n",
      "Please also refer to the documentation for alternative solver options:\n",
      "    https://scikit-learn.org/stable/modules/linear_model.html#logistic-regression\n",
      "  n_iter_i = _check_optimize_result(\n"
     ]
    },
    {
     "name": "stdout",
     "output_type": "stream",
     "text": [
      "[CV 1/3] END ....C=10, penalty=l2, solver=lbfgs;, score=0.976 total time=   0.0s\n",
      "[CV 2/3] END ....C=10, penalty=l2, solver=lbfgs;, score=0.973 total time=   0.0s\n",
      "[CV 3/3] END ....C=10, penalty=l2, solver=lbfgs;, score=0.972 total time=   0.0s\n",
      "[CV 1/3] END C=10, penalty=l2, solver=liblinear;, score=0.976 total time=   0.0s\n",
      "[CV 2/3] END C=10, penalty=l2, solver=liblinear;, score=0.973 total time=   0.0s\n",
      "[CV 3/3] END C=10, penalty=l2, solver=liblinear;, score=0.972 total time=   0.0s\n"
     ]
    },
    {
     "name": "stderr",
     "output_type": "stream",
     "text": [
      "c:\\Users\\harsh\\anaconda3\\Lib\\site-packages\\sklearn\\linear_model\\_sag.py:350: ConvergenceWarning: The max_iter was reached which means the coef_ did not converge\n",
      "  warnings.warn(\n",
      "c:\\Users\\harsh\\anaconda3\\Lib\\site-packages\\sklearn\\linear_model\\_sag.py:350: ConvergenceWarning: The max_iter was reached which means the coef_ did not converge\n",
      "  warnings.warn(\n"
     ]
    },
    {
     "name": "stdout",
     "output_type": "stream",
     "text": [
      "[CV 1/3] END ......C=10, penalty=l2, solver=sag;, score=0.972 total time=   0.0s\n",
      "[CV 2/3] END ......C=10, penalty=l2, solver=sag;, score=0.968 total time=   0.0s\n"
     ]
    },
    {
     "name": "stderr",
     "output_type": "stream",
     "text": [
      "c:\\Users\\harsh\\anaconda3\\Lib\\site-packages\\sklearn\\linear_model\\_sag.py:350: ConvergenceWarning: The max_iter was reached which means the coef_ did not converge\n",
      "  warnings.warn(\n",
      "c:\\Users\\harsh\\anaconda3\\Lib\\site-packages\\sklearn\\linear_model\\_sag.py:350: ConvergenceWarning: The max_iter was reached which means the coef_ did not converge\n",
      "  warnings.warn(\n"
     ]
    },
    {
     "name": "stdout",
     "output_type": "stream",
     "text": [
      "[CV 3/3] END ......C=10, penalty=l2, solver=sag;, score=0.970 total time=   0.0s\n",
      "[CV 1/3] END .....C=10, penalty=l2, solver=saga;, score=0.970 total time=   0.1s\n"
     ]
    },
    {
     "name": "stderr",
     "output_type": "stream",
     "text": [
      "c:\\Users\\harsh\\anaconda3\\Lib\\site-packages\\sklearn\\linear_model\\_sag.py:350: ConvergenceWarning: The max_iter was reached which means the coef_ did not converge\n",
      "  warnings.warn(\n",
      "c:\\Users\\harsh\\anaconda3\\Lib\\site-packages\\sklearn\\linear_model\\_sag.py:350: ConvergenceWarning: The max_iter was reached which means the coef_ did not converge\n",
      "  warnings.warn(\n",
      "c:\\Users\\harsh\\anaconda3\\Lib\\site-packages\\sklearn\\linear_model\\_logistic.py:1183: FutureWarning: `penalty='none'`has been deprecated in 1.2 and will be removed in 1.4. To keep the past behaviour, set `penalty=None`.\n",
      "  warnings.warn(\n",
      "c:\\Users\\harsh\\anaconda3\\Lib\\site-packages\\sklearn\\linear_model\\_logistic.py:1193: UserWarning: Setting penalty=None will ignore the C and l1_ratio parameters\n",
      "  warnings.warn(\n"
     ]
    },
    {
     "name": "stdout",
     "output_type": "stream",
     "text": [
      "[CV 2/3] END .....C=10, penalty=l2, solver=saga;, score=0.966 total time=   0.1s\n",
      "[CV 3/3] END .....C=10, penalty=l2, solver=saga;, score=0.969 total time=   0.1s\n",
      "[CV 1/3] END C=10, penalty=elasticnet, solver=newton-cg;, score=nan total time=   0.0s\n",
      "[CV 2/3] END C=10, penalty=elasticnet, solver=newton-cg;, score=nan total time=   0.0s\n",
      "[CV 3/3] END C=10, penalty=elasticnet, solver=newton-cg;, score=nan total time=   0.0s\n",
      "[CV 1/3] END C=10, penalty=elasticnet, solver=lbfgs;, score=nan total time=   0.0s\n",
      "[CV 2/3] END C=10, penalty=elasticnet, solver=lbfgs;, score=nan total time=   0.0s\n",
      "[CV 3/3] END C=10, penalty=elasticnet, solver=lbfgs;, score=nan total time=   0.0s\n",
      "[CV 1/3] END C=10, penalty=elasticnet, solver=liblinear;, score=nan total time=   0.0s\n",
      "[CV 2/3] END C=10, penalty=elasticnet, solver=liblinear;, score=nan total time=   0.0s\n",
      "[CV 3/3] END C=10, penalty=elasticnet, solver=liblinear;, score=nan total time=   0.0s\n",
      "[CV 1/3] END C=10, penalty=elasticnet, solver=sag;, score=nan total time=   0.0s\n",
      "[CV 2/3] END C=10, penalty=elasticnet, solver=sag;, score=nan total time=   0.0s\n",
      "[CV 3/3] END C=10, penalty=elasticnet, solver=sag;, score=nan total time=   0.0s\n",
      "[CV 1/3] END C=10, penalty=elasticnet, solver=saga;, score=nan total time=   0.0s\n",
      "[CV 2/3] END C=10, penalty=elasticnet, solver=saga;, score=nan total time=   0.0s\n",
      "[CV 3/3] END C=10, penalty=elasticnet, solver=saga;, score=nan total time=   0.0s\n"
     ]
    },
    {
     "name": "stderr",
     "output_type": "stream",
     "text": [
      "c:\\Users\\harsh\\anaconda3\\Lib\\site-packages\\scipy\\optimize\\_linesearch.py:306: LineSearchWarning: The line search algorithm did not converge\n",
      "  warn('The line search algorithm did not converge', LineSearchWarning)\n",
      "c:\\Users\\harsh\\anaconda3\\Lib\\site-packages\\sklearn\\utils\\optimize.py:204: UserWarning: Line Search failed\n",
      "  warnings.warn(\"Line Search failed\")\n",
      "c:\\Users\\harsh\\anaconda3\\Lib\\site-packages\\sklearn\\linear_model\\_logistic.py:1183: FutureWarning: `penalty='none'`has been deprecated in 1.2 and will be removed in 1.4. To keep the past behaviour, set `penalty=None`.\n",
      "  warnings.warn(\n",
      "c:\\Users\\harsh\\anaconda3\\Lib\\site-packages\\sklearn\\linear_model\\_logistic.py:1193: UserWarning: Setting penalty=None will ignore the C and l1_ratio parameters\n",
      "  warnings.warn(\n",
      "c:\\Users\\harsh\\anaconda3\\Lib\\site-packages\\scipy\\optimize\\_linesearch.py:306: LineSearchWarning: The line search algorithm did not converge\n",
      "  warn('The line search algorithm did not converge', LineSearchWarning)\n",
      "c:\\Users\\harsh\\anaconda3\\Lib\\site-packages\\sklearn\\utils\\optimize.py:204: UserWarning: Line Search failed\n",
      "  warnings.warn(\"Line Search failed\")\n",
      "c:\\Users\\harsh\\anaconda3\\Lib\\site-packages\\sklearn\\linear_model\\_logistic.py:1183: FutureWarning: `penalty='none'`has been deprecated in 1.2 and will be removed in 1.4. To keep the past behaviour, set `penalty=None`.\n",
      "  warnings.warn(\n",
      "c:\\Users\\harsh\\anaconda3\\Lib\\site-packages\\sklearn\\linear_model\\_logistic.py:1193: UserWarning: Setting penalty=None will ignore the C and l1_ratio parameters\n",
      "  warnings.warn(\n",
      "c:\\Users\\harsh\\anaconda3\\Lib\\site-packages\\sklearn\\linear_model\\_logistic.py:1183: FutureWarning: `penalty='none'`has been deprecated in 1.2 and will be removed in 1.4. To keep the past behaviour, set `penalty=None`.\n",
      "  warnings.warn(\n",
      "c:\\Users\\harsh\\anaconda3\\Lib\\site-packages\\sklearn\\linear_model\\_logistic.py:1193: UserWarning: Setting penalty=None will ignore the C and l1_ratio parameters\n",
      "  warnings.warn(\n",
      "c:\\Users\\harsh\\anaconda3\\Lib\\site-packages\\sklearn\\linear_model\\_logistic.py:460: ConvergenceWarning: lbfgs failed to converge (status=1):\n",
      "STOP: TOTAL NO. of ITERATIONS REACHED LIMIT.\n",
      "\n",
      "Increase the number of iterations (max_iter) or scale the data as shown in:\n",
      "    https://scikit-learn.org/stable/modules/preprocessing.html\n",
      "Please also refer to the documentation for alternative solver options:\n",
      "    https://scikit-learn.org/stable/modules/linear_model.html#logistic-regression\n",
      "  n_iter_i = _check_optimize_result(\n",
      "c:\\Users\\harsh\\anaconda3\\Lib\\site-packages\\sklearn\\linear_model\\_logistic.py:1183: FutureWarning: `penalty='none'`has been deprecated in 1.2 and will be removed in 1.4. To keep the past behaviour, set `penalty=None`.\n",
      "  warnings.warn(\n",
      "c:\\Users\\harsh\\anaconda3\\Lib\\site-packages\\sklearn\\linear_model\\_logistic.py:1193: UserWarning: Setting penalty=None will ignore the C and l1_ratio parameters\n",
      "  warnings.warn(\n"
     ]
    },
    {
     "name": "stdout",
     "output_type": "stream",
     "text": [
      "[CV 1/3] END C=10, penalty=none, solver=newton-cg;, score=0.975 total time=   0.0s\n",
      "[CV 2/3] END C=10, penalty=none, solver=newton-cg;, score=0.973 total time=   0.0s\n",
      "[CV 3/3] END C=10, penalty=none, solver=newton-cg;, score=0.972 total time=   0.0s\n",
      "[CV 1/3] END ..C=10, penalty=none, solver=lbfgs;, score=0.977 total time=   0.0s\n"
     ]
    },
    {
     "name": "stderr",
     "output_type": "stream",
     "text": [
      "c:\\Users\\harsh\\anaconda3\\Lib\\site-packages\\sklearn\\linear_model\\_logistic.py:460: ConvergenceWarning: lbfgs failed to converge (status=1):\n",
      "STOP: TOTAL NO. of ITERATIONS REACHED LIMIT.\n",
      "\n",
      "Increase the number of iterations (max_iter) or scale the data as shown in:\n",
      "    https://scikit-learn.org/stable/modules/preprocessing.html\n",
      "Please also refer to the documentation for alternative solver options:\n",
      "    https://scikit-learn.org/stable/modules/linear_model.html#logistic-regression\n",
      "  n_iter_i = _check_optimize_result(\n",
      "c:\\Users\\harsh\\anaconda3\\Lib\\site-packages\\sklearn\\linear_model\\_logistic.py:1183: FutureWarning: `penalty='none'`has been deprecated in 1.2 and will be removed in 1.4. To keep the past behaviour, set `penalty=None`.\n",
      "  warnings.warn(\n",
      "c:\\Users\\harsh\\anaconda3\\Lib\\site-packages\\sklearn\\linear_model\\_logistic.py:1193: UserWarning: Setting penalty=None will ignore the C and l1_ratio parameters\n",
      "  warnings.warn(\n",
      "c:\\Users\\harsh\\anaconda3\\Lib\\site-packages\\sklearn\\linear_model\\_logistic.py:1183: FutureWarning: `penalty='none'`has been deprecated in 1.2 and will be removed in 1.4. To keep the past behaviour, set `penalty=None`.\n",
      "  warnings.warn(\n",
      "c:\\Users\\harsh\\anaconda3\\Lib\\site-packages\\sklearn\\linear_model\\_logistic.py:1193: UserWarning: Setting penalty=None will ignore the C and l1_ratio parameters\n",
      "  warnings.warn(\n"
     ]
    },
    {
     "name": "stdout",
     "output_type": "stream",
     "text": [
      "[CV 2/3] END ..C=10, penalty=none, solver=lbfgs;, score=0.978 total time=   0.0s\n",
      "[CV 3/3] END ..C=10, penalty=none, solver=lbfgs;, score=0.972 total time=   0.0s\n",
      "[CV 1/3] END C=10, penalty=none, solver=liblinear;, score=nan total time=   0.0s\n",
      "[CV 2/3] END C=10, penalty=none, solver=liblinear;, score=nan total time=   0.0s\n",
      "[CV 3/3] END C=10, penalty=none, solver=liblinear;, score=nan total time=   0.0s\n"
     ]
    },
    {
     "name": "stderr",
     "output_type": "stream",
     "text": [
      "c:\\Users\\harsh\\anaconda3\\Lib\\site-packages\\sklearn\\linear_model\\_sag.py:350: ConvergenceWarning: The max_iter was reached which means the coef_ did not converge\n",
      "  warnings.warn(\n",
      "c:\\Users\\harsh\\anaconda3\\Lib\\site-packages\\sklearn\\linear_model\\_logistic.py:1183: FutureWarning: `penalty='none'`has been deprecated in 1.2 and will be removed in 1.4. To keep the past behaviour, set `penalty=None`.\n",
      "  warnings.warn(\n",
      "c:\\Users\\harsh\\anaconda3\\Lib\\site-packages\\sklearn\\linear_model\\_logistic.py:1193: UserWarning: Setting penalty=None will ignore the C and l1_ratio parameters\n",
      "  warnings.warn(\n",
      "c:\\Users\\harsh\\anaconda3\\Lib\\site-packages\\sklearn\\linear_model\\_sag.py:350: ConvergenceWarning: The max_iter was reached which means the coef_ did not converge\n",
      "  warnings.warn(\n",
      "c:\\Users\\harsh\\anaconda3\\Lib\\site-packages\\sklearn\\linear_model\\_logistic.py:1183: FutureWarning: `penalty='none'`has been deprecated in 1.2 and will be removed in 1.4. To keep the past behaviour, set `penalty=None`.\n",
      "  warnings.warn(\n",
      "c:\\Users\\harsh\\anaconda3\\Lib\\site-packages\\sklearn\\linear_model\\_logistic.py:1193: UserWarning: Setting penalty=None will ignore the C and l1_ratio parameters\n",
      "  warnings.warn(\n"
     ]
    },
    {
     "name": "stdout",
     "output_type": "stream",
     "text": [
      "[CV 1/3] END ....C=10, penalty=none, solver=sag;, score=0.972 total time=   0.0s\n",
      "[CV 2/3] END ....C=10, penalty=none, solver=sag;, score=0.968 total time=   0.0s\n"
     ]
    },
    {
     "name": "stderr",
     "output_type": "stream",
     "text": [
      "c:\\Users\\harsh\\anaconda3\\Lib\\site-packages\\sklearn\\linear_model\\_sag.py:350: ConvergenceWarning: The max_iter was reached which means the coef_ did not converge\n",
      "  warnings.warn(\n",
      "c:\\Users\\harsh\\anaconda3\\Lib\\site-packages\\sklearn\\linear_model\\_logistic.py:1183: FutureWarning: `penalty='none'`has been deprecated in 1.2 and will be removed in 1.4. To keep the past behaviour, set `penalty=None`.\n",
      "  warnings.warn(\n",
      "c:\\Users\\harsh\\anaconda3\\Lib\\site-packages\\sklearn\\linear_model\\_logistic.py:1193: UserWarning: Setting penalty=None will ignore the C and l1_ratio parameters\n",
      "  warnings.warn(\n",
      "c:\\Users\\harsh\\anaconda3\\Lib\\site-packages\\sklearn\\linear_model\\_sag.py:350: ConvergenceWarning: The max_iter was reached which means the coef_ did not converge\n",
      "  warnings.warn(\n",
      "c:\\Users\\harsh\\anaconda3\\Lib\\site-packages\\sklearn\\linear_model\\_logistic.py:1183: FutureWarning: `penalty='none'`has been deprecated in 1.2 and will be removed in 1.4. To keep the past behaviour, set `penalty=None`.\n",
      "  warnings.warn(\n",
      "c:\\Users\\harsh\\anaconda3\\Lib\\site-packages\\sklearn\\linear_model\\_logistic.py:1193: UserWarning: Setting penalty=None will ignore the C and l1_ratio parameters\n",
      "  warnings.warn(\n"
     ]
    },
    {
     "name": "stdout",
     "output_type": "stream",
     "text": [
      "[CV 3/3] END ....C=10, penalty=none, solver=sag;, score=0.970 total time=   0.1s\n",
      "[CV 1/3] END ...C=10, penalty=none, solver=saga;, score=0.970 total time=   0.1s\n"
     ]
    },
    {
     "name": "stderr",
     "output_type": "stream",
     "text": [
      "c:\\Users\\harsh\\anaconda3\\Lib\\site-packages\\sklearn\\linear_model\\_sag.py:350: ConvergenceWarning: The max_iter was reached which means the coef_ did not converge\n",
      "  warnings.warn(\n",
      "c:\\Users\\harsh\\anaconda3\\Lib\\site-packages\\sklearn\\linear_model\\_logistic.py:1183: FutureWarning: `penalty='none'`has been deprecated in 1.2 and will be removed in 1.4. To keep the past behaviour, set `penalty=None`.\n",
      "  warnings.warn(\n",
      "c:\\Users\\harsh\\anaconda3\\Lib\\site-packages\\sklearn\\linear_model\\_logistic.py:1193: UserWarning: Setting penalty=None will ignore the C and l1_ratio parameters\n",
      "  warnings.warn(\n",
      "c:\\Users\\harsh\\anaconda3\\Lib\\site-packages\\sklearn\\linear_model\\_sag.py:350: ConvergenceWarning: The max_iter was reached which means the coef_ did not converge\n",
      "  warnings.warn(\n"
     ]
    },
    {
     "name": "stdout",
     "output_type": "stream",
     "text": [
      "[CV 2/3] END ...C=10, penalty=none, solver=saga;, score=0.966 total time=   0.1s\n",
      "[CV 3/3] END ...C=10, penalty=none, solver=saga;, score=0.969 total time=   0.1s\n",
      "[CV 1/3] END .C=100, penalty=l1, solver=newton-cg;, score=nan total time=   0.0s\n",
      "[CV 2/3] END .C=100, penalty=l1, solver=newton-cg;, score=nan total time=   0.0s\n",
      "[CV 3/3] END .C=100, penalty=l1, solver=newton-cg;, score=nan total time=   0.0s\n",
      "[CV 1/3] END .....C=100, penalty=l1, solver=lbfgs;, score=nan total time=   0.0s\n",
      "[CV 2/3] END .....C=100, penalty=l1, solver=lbfgs;, score=nan total time=   0.0s\n",
      "[CV 3/3] END .....C=100, penalty=l1, solver=lbfgs;, score=nan total time=   0.0s\n",
      "[CV 1/3] END C=100, penalty=l1, solver=liblinear;, score=0.977 total time=   0.5s\n",
      "[CV 2/3] END C=100, penalty=l1, solver=liblinear;, score=0.978 total time=   0.5s\n",
      "[CV 3/3] END C=100, penalty=l1, solver=liblinear;, score=0.972 total time=   0.0s\n",
      "[CV 1/3] END .......C=100, penalty=l1, solver=sag;, score=nan total time=   0.0s\n",
      "[CV 2/3] END .......C=100, penalty=l1, solver=sag;, score=nan total time=   0.0s\n",
      "[CV 3/3] END .......C=100, penalty=l1, solver=sag;, score=nan total time=   0.0s\n"
     ]
    },
    {
     "name": "stderr",
     "output_type": "stream",
     "text": [
      "c:\\Users\\harsh\\anaconda3\\Lib\\site-packages\\sklearn\\linear_model\\_sag.py:350: ConvergenceWarning: The max_iter was reached which means the coef_ did not converge\n",
      "  warnings.warn(\n"
     ]
    },
    {
     "name": "stdout",
     "output_type": "stream",
     "text": [
      "[CV 1/3] END ....C=100, penalty=l1, solver=saga;, score=0.970 total time=   0.1s\n"
     ]
    },
    {
     "name": "stderr",
     "output_type": "stream",
     "text": [
      "c:\\Users\\harsh\\anaconda3\\Lib\\site-packages\\sklearn\\linear_model\\_sag.py:350: ConvergenceWarning: The max_iter was reached which means the coef_ did not converge\n",
      "  warnings.warn(\n"
     ]
    },
    {
     "name": "stdout",
     "output_type": "stream",
     "text": [
      "[CV 2/3] END ....C=100, penalty=l1, solver=saga;, score=0.966 total time=   0.1s\n"
     ]
    },
    {
     "name": "stderr",
     "output_type": "stream",
     "text": [
      "c:\\Users\\harsh\\anaconda3\\Lib\\site-packages\\sklearn\\linear_model\\_sag.py:350: ConvergenceWarning: The max_iter was reached which means the coef_ did not converge\n",
      "  warnings.warn(\n",
      "c:\\Users\\harsh\\anaconda3\\Lib\\site-packages\\scipy\\optimize\\_linesearch.py:306: LineSearchWarning: The line search algorithm did not converge\n",
      "  warn('The line search algorithm did not converge', LineSearchWarning)\n",
      "c:\\Users\\harsh\\anaconda3\\Lib\\site-packages\\sklearn\\utils\\optimize.py:204: UserWarning: Line Search failed\n",
      "  warnings.warn(\"Line Search failed\")\n",
      "c:\\Users\\harsh\\anaconda3\\Lib\\site-packages\\scipy\\optimize\\_linesearch.py:306: LineSearchWarning: The line search algorithm did not converge\n",
      "  warn('The line search algorithm did not converge', LineSearchWarning)\n",
      "c:\\Users\\harsh\\anaconda3\\Lib\\site-packages\\sklearn\\utils\\optimize.py:204: UserWarning: Line Search failed\n",
      "  warnings.warn(\"Line Search failed\")\n"
     ]
    },
    {
     "name": "stdout",
     "output_type": "stream",
     "text": [
      "[CV 3/3] END ....C=100, penalty=l1, solver=saga;, score=0.969 total time=   0.2s\n",
      "[CV 1/3] END C=100, penalty=l2, solver=newton-cg;, score=0.975 total time=   0.0s\n",
      "[CV 2/3] END C=100, penalty=l2, solver=newton-cg;, score=0.973 total time=   0.0s\n",
      "[CV 3/3] END C=100, penalty=l2, solver=newton-cg;, score=0.972 total time=   0.0s\n"
     ]
    },
    {
     "name": "stderr",
     "output_type": "stream",
     "text": [
      "c:\\Users\\harsh\\anaconda3\\Lib\\site-packages\\sklearn\\linear_model\\_logistic.py:460: ConvergenceWarning: lbfgs failed to converge (status=1):\n",
      "STOP: TOTAL NO. of ITERATIONS REACHED LIMIT.\n",
      "\n",
      "Increase the number of iterations (max_iter) or scale the data as shown in:\n",
      "    https://scikit-learn.org/stable/modules/preprocessing.html\n",
      "Please also refer to the documentation for alternative solver options:\n",
      "    https://scikit-learn.org/stable/modules/linear_model.html#logistic-regression\n",
      "  n_iter_i = _check_optimize_result(\n",
      "c:\\Users\\harsh\\anaconda3\\Lib\\site-packages\\sklearn\\linear_model\\_logistic.py:460: ConvergenceWarning: lbfgs failed to converge (status=1):\n",
      "STOP: TOTAL NO. of ITERATIONS REACHED LIMIT.\n",
      "\n",
      "Increase the number of iterations (max_iter) or scale the data as shown in:\n",
      "    https://scikit-learn.org/stable/modules/preprocessing.html\n",
      "Please also refer to the documentation for alternative solver options:\n",
      "    https://scikit-learn.org/stable/modules/linear_model.html#logistic-regression\n",
      "  n_iter_i = _check_optimize_result(\n",
      "c:\\Users\\harsh\\anaconda3\\Lib\\site-packages\\sklearn\\linear_model\\_logistic.py:460: ConvergenceWarning: lbfgs failed to converge (status=1):\n",
      "STOP: TOTAL NO. of ITERATIONS REACHED LIMIT.\n",
      "\n",
      "Increase the number of iterations (max_iter) or scale the data as shown in:\n",
      "    https://scikit-learn.org/stable/modules/preprocessing.html\n",
      "Please also refer to the documentation for alternative solver options:\n",
      "    https://scikit-learn.org/stable/modules/linear_model.html#logistic-regression\n",
      "  n_iter_i = _check_optimize_result(\n"
     ]
    },
    {
     "name": "stdout",
     "output_type": "stream",
     "text": [
      "[CV 1/3] END ...C=100, penalty=l2, solver=lbfgs;, score=0.977 total time=   0.0s\n",
      "[CV 2/3] END ...C=100, penalty=l2, solver=lbfgs;, score=0.976 total time=   0.0s\n",
      "[CV 3/3] END ...C=100, penalty=l2, solver=lbfgs;, score=0.972 total time=   0.0s\n",
      "[CV 1/3] END C=100, penalty=l2, solver=liblinear;, score=0.976 total time=   0.1s\n"
     ]
    },
    {
     "name": "stderr",
     "output_type": "stream",
     "text": [
      "c:\\Users\\harsh\\anaconda3\\Lib\\site-packages\\sklearn\\svm\\_base.py:1250: ConvergenceWarning: Liblinear failed to converge, increase the number of iterations.\n",
      "  warnings.warn(\n",
      "c:\\Users\\harsh\\anaconda3\\Lib\\site-packages\\sklearn\\linear_model\\_sag.py:350: ConvergenceWarning: The max_iter was reached which means the coef_ did not converge\n",
      "  warnings.warn(\n"
     ]
    },
    {
     "name": "stdout",
     "output_type": "stream",
     "text": [
      "[CV 2/3] END C=100, penalty=l2, solver=liblinear;, score=0.976 total time=   0.3s\n",
      "[CV 3/3] END C=100, penalty=l2, solver=liblinear;, score=0.972 total time=   0.0s\n",
      "[CV 1/3] END .....C=100, penalty=l2, solver=sag;, score=0.972 total time=   0.0s\n",
      "[CV 2/3] END .....C=100, penalty=l2, solver=sag;, score=0.968 total time=   0.1s\n"
     ]
    },
    {
     "name": "stderr",
     "output_type": "stream",
     "text": [
      "c:\\Users\\harsh\\anaconda3\\Lib\\site-packages\\sklearn\\linear_model\\_sag.py:350: ConvergenceWarning: The max_iter was reached which means the coef_ did not converge\n",
      "  warnings.warn(\n",
      "c:\\Users\\harsh\\anaconda3\\Lib\\site-packages\\sklearn\\linear_model\\_sag.py:350: ConvergenceWarning: The max_iter was reached which means the coef_ did not converge\n",
      "  warnings.warn(\n"
     ]
    },
    {
     "name": "stdout",
     "output_type": "stream",
     "text": [
      "[CV 3/3] END .....C=100, penalty=l2, solver=sag;, score=0.970 total time=   0.0s\n",
      "[CV 1/3] END ....C=100, penalty=l2, solver=saga;, score=0.970 total time=   0.1s\n"
     ]
    },
    {
     "name": "stderr",
     "output_type": "stream",
     "text": [
      "c:\\Users\\harsh\\anaconda3\\Lib\\site-packages\\sklearn\\linear_model\\_sag.py:350: ConvergenceWarning: The max_iter was reached which means the coef_ did not converge\n",
      "  warnings.warn(\n",
      "c:\\Users\\harsh\\anaconda3\\Lib\\site-packages\\sklearn\\linear_model\\_sag.py:350: ConvergenceWarning: The max_iter was reached which means the coef_ did not converge\n",
      "  warnings.warn(\n"
     ]
    },
    {
     "name": "stdout",
     "output_type": "stream",
     "text": [
      "[CV 2/3] END ....C=100, penalty=l2, solver=saga;, score=0.966 total time=   0.1s\n",
      "[CV 3/3] END ....C=100, penalty=l2, solver=saga;, score=0.969 total time=   0.1s\n",
      "[CV 1/3] END C=100, penalty=elasticnet, solver=newton-cg;, score=nan total time=   0.0s\n",
      "[CV 2/3] END C=100, penalty=elasticnet, solver=newton-cg;, score=nan total time=   0.0s\n",
      "[CV 3/3] END C=100, penalty=elasticnet, solver=newton-cg;, score=nan total time=   0.0s\n",
      "[CV 1/3] END C=100, penalty=elasticnet, solver=lbfgs;, score=nan total time=   0.0s\n",
      "[CV 2/3] END C=100, penalty=elasticnet, solver=lbfgs;, score=nan total time=   0.0s\n",
      "[CV 3/3] END C=100, penalty=elasticnet, solver=lbfgs;, score=nan total time=   0.0s\n",
      "[CV 1/3] END C=100, penalty=elasticnet, solver=liblinear;, score=nan total time=   0.0s\n",
      "[CV 2/3] END C=100, penalty=elasticnet, solver=liblinear;, score=nan total time=   0.0s\n",
      "[CV 3/3] END C=100, penalty=elasticnet, solver=liblinear;, score=nan total time=   0.0s\n",
      "[CV 1/3] END C=100, penalty=elasticnet, solver=sag;, score=nan total time=   0.0s\n",
      "[CV 2/3] END C=100, penalty=elasticnet, solver=sag;, score=nan total time=   0.0s\n",
      "[CV 3/3] END C=100, penalty=elasticnet, solver=sag;, score=nan total time=   0.0s\n",
      "[CV 1/3] END C=100, penalty=elasticnet, solver=saga;, score=nan total time=   0.0s\n",
      "[CV 2/3] END C=100, penalty=elasticnet, solver=saga;, score=nan total time=   0.0s\n",
      "[CV 3/3] END C=100, penalty=elasticnet, solver=saga;, score=nan total time=   0.0s\n"
     ]
    },
    {
     "name": "stderr",
     "output_type": "stream",
     "text": [
      "c:\\Users\\harsh\\anaconda3\\Lib\\site-packages\\sklearn\\linear_model\\_sag.py:350: ConvergenceWarning: The max_iter was reached which means the coef_ did not converge\n",
      "  warnings.warn(\n",
      "c:\\Users\\harsh\\anaconda3\\Lib\\site-packages\\sklearn\\linear_model\\_logistic.py:1183: FutureWarning: `penalty='none'`has been deprecated in 1.2 and will be removed in 1.4. To keep the past behaviour, set `penalty=None`.\n",
      "  warnings.warn(\n",
      "c:\\Users\\harsh\\anaconda3\\Lib\\site-packages\\sklearn\\linear_model\\_logistic.py:1193: UserWarning: Setting penalty=None will ignore the C and l1_ratio parameters\n",
      "  warnings.warn(\n",
      "c:\\Users\\harsh\\anaconda3\\Lib\\site-packages\\scipy\\optimize\\_linesearch.py:306: LineSearchWarning: The line search algorithm did not converge\n",
      "  warn('The line search algorithm did not converge', LineSearchWarning)\n",
      "c:\\Users\\harsh\\anaconda3\\Lib\\site-packages\\sklearn\\utils\\optimize.py:204: UserWarning: Line Search failed\n",
      "  warnings.warn(\"Line Search failed\")\n",
      "c:\\Users\\harsh\\anaconda3\\Lib\\site-packages\\sklearn\\linear_model\\_logistic.py:1183: FutureWarning: `penalty='none'`has been deprecated in 1.2 and will be removed in 1.4. To keep the past behaviour, set `penalty=None`.\n",
      "  warnings.warn(\n",
      "c:\\Users\\harsh\\anaconda3\\Lib\\site-packages\\sklearn\\linear_model\\_logistic.py:1193: UserWarning: Setting penalty=None will ignore the C and l1_ratio parameters\n",
      "  warnings.warn(\n",
      "c:\\Users\\harsh\\anaconda3\\Lib\\site-packages\\scipy\\optimize\\_linesearch.py:306: LineSearchWarning: The line search algorithm did not converge\n",
      "  warn('The line search algorithm did not converge', LineSearchWarning)\n",
      "c:\\Users\\harsh\\anaconda3\\Lib\\site-packages\\sklearn\\utils\\optimize.py:204: UserWarning: Line Search failed\n",
      "  warnings.warn(\"Line Search failed\")\n",
      "c:\\Users\\harsh\\anaconda3\\Lib\\site-packages\\sklearn\\linear_model\\_logistic.py:1183: FutureWarning: `penalty='none'`has been deprecated in 1.2 and will be removed in 1.4. To keep the past behaviour, set `penalty=None`.\n",
      "  warnings.warn(\n",
      "c:\\Users\\harsh\\anaconda3\\Lib\\site-packages\\sklearn\\linear_model\\_logistic.py:1193: UserWarning: Setting penalty=None will ignore the C and l1_ratio parameters\n",
      "  warnings.warn(\n",
      "c:\\Users\\harsh\\anaconda3\\Lib\\site-packages\\sklearn\\linear_model\\_logistic.py:1183: FutureWarning: `penalty='none'`has been deprecated in 1.2 and will be removed in 1.4. To keep the past behaviour, set `penalty=None`.\n",
      "  warnings.warn(\n",
      "c:\\Users\\harsh\\anaconda3\\Lib\\site-packages\\sklearn\\linear_model\\_logistic.py:1193: UserWarning: Setting penalty=None will ignore the C and l1_ratio parameters\n",
      "  warnings.warn(\n"
     ]
    },
    {
     "name": "stdout",
     "output_type": "stream",
     "text": [
      "[CV 1/3] END C=100, penalty=none, solver=newton-cg;, score=0.975 total time=   0.0s\n",
      "[CV 2/3] END C=100, penalty=none, solver=newton-cg;, score=0.973 total time=   0.0s\n",
      "[CV 3/3] END C=100, penalty=none, solver=newton-cg;, score=0.972 total time=   0.0s\n",
      "[CV 1/3] END .C=100, penalty=none, solver=lbfgs;, score=0.977 total time=   0.0s\n"
     ]
    },
    {
     "name": "stderr",
     "output_type": "stream",
     "text": [
      "c:\\Users\\harsh\\anaconda3\\Lib\\site-packages\\sklearn\\linear_model\\_logistic.py:460: ConvergenceWarning: lbfgs failed to converge (status=1):\n",
      "STOP: TOTAL NO. of ITERATIONS REACHED LIMIT.\n",
      "\n",
      "Increase the number of iterations (max_iter) or scale the data as shown in:\n",
      "    https://scikit-learn.org/stable/modules/preprocessing.html\n",
      "Please also refer to the documentation for alternative solver options:\n",
      "    https://scikit-learn.org/stable/modules/linear_model.html#logistic-regression\n",
      "  n_iter_i = _check_optimize_result(\n",
      "c:\\Users\\harsh\\anaconda3\\Lib\\site-packages\\sklearn\\linear_model\\_logistic.py:1183: FutureWarning: `penalty='none'`has been deprecated in 1.2 and will be removed in 1.4. To keep the past behaviour, set `penalty=None`.\n",
      "  warnings.warn(\n",
      "c:\\Users\\harsh\\anaconda3\\Lib\\site-packages\\sklearn\\linear_model\\_logistic.py:1193: UserWarning: Setting penalty=None will ignore the C and l1_ratio parameters\n",
      "  warnings.warn(\n",
      "c:\\Users\\harsh\\anaconda3\\Lib\\site-packages\\sklearn\\linear_model\\_logistic.py:460: ConvergenceWarning: lbfgs failed to converge (status=1):\n",
      "STOP: TOTAL NO. of ITERATIONS REACHED LIMIT.\n",
      "\n",
      "Increase the number of iterations (max_iter) or scale the data as shown in:\n",
      "    https://scikit-learn.org/stable/modules/preprocessing.html\n",
      "Please also refer to the documentation for alternative solver options:\n",
      "    https://scikit-learn.org/stable/modules/linear_model.html#logistic-regression\n",
      "  n_iter_i = _check_optimize_result(\n",
      "c:\\Users\\harsh\\anaconda3\\Lib\\site-packages\\sklearn\\linear_model\\_logistic.py:1183: FutureWarning: `penalty='none'`has been deprecated in 1.2 and will be removed in 1.4. To keep the past behaviour, set `penalty=None`.\n",
      "  warnings.warn(\n",
      "c:\\Users\\harsh\\anaconda3\\Lib\\site-packages\\sklearn\\linear_model\\_logistic.py:1193: UserWarning: Setting penalty=None will ignore the C and l1_ratio parameters\n",
      "  warnings.warn(\n",
      "c:\\Users\\harsh\\anaconda3\\Lib\\site-packages\\sklearn\\linear_model\\_logistic.py:1183: FutureWarning: `penalty='none'`has been deprecated in 1.2 and will be removed in 1.4. To keep the past behaviour, set `penalty=None`.\n",
      "  warnings.warn(\n",
      "c:\\Users\\harsh\\anaconda3\\Lib\\site-packages\\sklearn\\linear_model\\_logistic.py:1193: UserWarning: Setting penalty=None will ignore the C and l1_ratio parameters\n",
      "  warnings.warn(\n"
     ]
    },
    {
     "name": "stdout",
     "output_type": "stream",
     "text": [
      "[CV 2/3] END .C=100, penalty=none, solver=lbfgs;, score=0.978 total time=   0.0s\n",
      "[CV 3/3] END .C=100, penalty=none, solver=lbfgs;, score=0.972 total time=   0.0s\n",
      "[CV 1/3] END C=100, penalty=none, solver=liblinear;, score=nan total time=   0.0s\n",
      "[CV 2/3] END C=100, penalty=none, solver=liblinear;, score=nan total time=   0.0s\n",
      "[CV 3/3] END C=100, penalty=none, solver=liblinear;, score=nan total time=   0.0s\n"
     ]
    },
    {
     "name": "stderr",
     "output_type": "stream",
     "text": [
      "c:\\Users\\harsh\\anaconda3\\Lib\\site-packages\\sklearn\\linear_model\\_sag.py:350: ConvergenceWarning: The max_iter was reached which means the coef_ did not converge\n",
      "  warnings.warn(\n",
      "c:\\Users\\harsh\\anaconda3\\Lib\\site-packages\\sklearn\\linear_model\\_logistic.py:1183: FutureWarning: `penalty='none'`has been deprecated in 1.2 and will be removed in 1.4. To keep the past behaviour, set `penalty=None`.\n",
      "  warnings.warn(\n",
      "c:\\Users\\harsh\\anaconda3\\Lib\\site-packages\\sklearn\\linear_model\\_logistic.py:1193: UserWarning: Setting penalty=None will ignore the C and l1_ratio parameters\n",
      "  warnings.warn(\n",
      "c:\\Users\\harsh\\anaconda3\\Lib\\site-packages\\sklearn\\linear_model\\_sag.py:350: ConvergenceWarning: The max_iter was reached which means the coef_ did not converge\n",
      "  warnings.warn(\n",
      "c:\\Users\\harsh\\anaconda3\\Lib\\site-packages\\sklearn\\linear_model\\_logistic.py:1183: FutureWarning: `penalty='none'`has been deprecated in 1.2 and will be removed in 1.4. To keep the past behaviour, set `penalty=None`.\n",
      "  warnings.warn(\n",
      "c:\\Users\\harsh\\anaconda3\\Lib\\site-packages\\sklearn\\linear_model\\_logistic.py:1193: UserWarning: Setting penalty=None will ignore the C and l1_ratio parameters\n",
      "  warnings.warn(\n"
     ]
    },
    {
     "name": "stdout",
     "output_type": "stream",
     "text": [
      "[CV 1/3] END ...C=100, penalty=none, solver=sag;, score=0.972 total time=   0.0s\n",
      "[CV 2/3] END ...C=100, penalty=none, solver=sag;, score=0.968 total time=   0.0s\n"
     ]
    },
    {
     "name": "stderr",
     "output_type": "stream",
     "text": [
      "c:\\Users\\harsh\\anaconda3\\Lib\\site-packages\\sklearn\\linear_model\\_sag.py:350: ConvergenceWarning: The max_iter was reached which means the coef_ did not converge\n",
      "  warnings.warn(\n",
      "c:\\Users\\harsh\\anaconda3\\Lib\\site-packages\\sklearn\\linear_model\\_logistic.py:1183: FutureWarning: `penalty='none'`has been deprecated in 1.2 and will be removed in 1.4. To keep the past behaviour, set `penalty=None`.\n",
      "  warnings.warn(\n",
      "c:\\Users\\harsh\\anaconda3\\Lib\\site-packages\\sklearn\\linear_model\\_logistic.py:1193: UserWarning: Setting penalty=None will ignore the C and l1_ratio parameters\n",
      "  warnings.warn(\n",
      "c:\\Users\\harsh\\anaconda3\\Lib\\site-packages\\sklearn\\linear_model\\_sag.py:350: ConvergenceWarning: The max_iter was reached which means the coef_ did not converge\n",
      "  warnings.warn(\n",
      "c:\\Users\\harsh\\anaconda3\\Lib\\site-packages\\sklearn\\linear_model\\_logistic.py:1183: FutureWarning: `penalty='none'`has been deprecated in 1.2 and will be removed in 1.4. To keep the past behaviour, set `penalty=None`.\n",
      "  warnings.warn(\n",
      "c:\\Users\\harsh\\anaconda3\\Lib\\site-packages\\sklearn\\linear_model\\_logistic.py:1193: UserWarning: Setting penalty=None will ignore the C and l1_ratio parameters\n",
      "  warnings.warn(\n"
     ]
    },
    {
     "name": "stdout",
     "output_type": "stream",
     "text": [
      "[CV 3/3] END ...C=100, penalty=none, solver=sag;, score=0.970 total time=   0.0s\n",
      "[CV 1/3] END ..C=100, penalty=none, solver=saga;, score=0.970 total time=   0.1s\n"
     ]
    },
    {
     "name": "stderr",
     "output_type": "stream",
     "text": [
      "c:\\Users\\harsh\\anaconda3\\Lib\\site-packages\\sklearn\\linear_model\\_sag.py:350: ConvergenceWarning: The max_iter was reached which means the coef_ did not converge\n",
      "  warnings.warn(\n",
      "c:\\Users\\harsh\\anaconda3\\Lib\\site-packages\\sklearn\\linear_model\\_logistic.py:1183: FutureWarning: `penalty='none'`has been deprecated in 1.2 and will be removed in 1.4. To keep the past behaviour, set `penalty=None`.\n",
      "  warnings.warn(\n",
      "c:\\Users\\harsh\\anaconda3\\Lib\\site-packages\\sklearn\\linear_model\\_logistic.py:1193: UserWarning: Setting penalty=None will ignore the C and l1_ratio parameters\n",
      "  warnings.warn(\n",
      "c:\\Users\\harsh\\anaconda3\\Lib\\site-packages\\sklearn\\linear_model\\_sag.py:350: ConvergenceWarning: The max_iter was reached which means the coef_ did not converge\n",
      "  warnings.warn(\n",
      "c:\\Users\\harsh\\anaconda3\\Lib\\site-packages\\sklearn\\model_selection\\_validation.py:425: FitFailedWarning: \n",
      "135 fits failed out of a total of 300.\n",
      "The score on these train-test partitions for these parameters will be set to nan.\n",
      "If these failures are not expected, you can try to debug them by setting error_score='raise'.\n",
      "\n",
      "Below are more details about the failures:\n",
      "--------------------------------------------------------------------------------\n",
      "15 fits failed with the following error:\n",
      "Traceback (most recent call last):\n",
      "  File \"c:\\Users\\harsh\\anaconda3\\Lib\\site-packages\\sklearn\\model_selection\\_validation.py\", line 729, in _fit_and_score\n",
      "    estimator.fit(X_train, y_train, **fit_params)\n",
      "  File \"c:\\Users\\harsh\\anaconda3\\Lib\\site-packages\\sklearn\\base.py\", line 1152, in wrapper\n",
      "    return fit_method(estimator, *args, **kwargs)\n",
      "           ^^^^^^^^^^^^^^^^^^^^^^^^^^^^^^^^^^^^^^\n",
      "  File \"c:\\Users\\harsh\\anaconda3\\Lib\\site-packages\\sklearn\\linear_model\\_logistic.py\", line 1169, in fit\n",
      "    solver = _check_solver(self.solver, self.penalty, self.dual)\n",
      "             ^^^^^^^^^^^^^^^^^^^^^^^^^^^^^^^^^^^^^^^^^^^^^^^^^^^\n",
      "  File \"c:\\Users\\harsh\\anaconda3\\Lib\\site-packages\\sklearn\\linear_model\\_logistic.py\", line 56, in _check_solver\n",
      "    raise ValueError(\n",
      "ValueError: Solver newton-cg supports only 'l2' or 'none' penalties, got l1 penalty.\n",
      "\n",
      "--------------------------------------------------------------------------------\n",
      "15 fits failed with the following error:\n",
      "Traceback (most recent call last):\n",
      "  File \"c:\\Users\\harsh\\anaconda3\\Lib\\site-packages\\sklearn\\model_selection\\_validation.py\", line 729, in _fit_and_score\n",
      "    estimator.fit(X_train, y_train, **fit_params)\n",
      "  File \"c:\\Users\\harsh\\anaconda3\\Lib\\site-packages\\sklearn\\base.py\", line 1152, in wrapper\n",
      "    return fit_method(estimator, *args, **kwargs)\n",
      "           ^^^^^^^^^^^^^^^^^^^^^^^^^^^^^^^^^^^^^^\n",
      "  File \"c:\\Users\\harsh\\anaconda3\\Lib\\site-packages\\sklearn\\linear_model\\_logistic.py\", line 1169, in fit\n",
      "    solver = _check_solver(self.solver, self.penalty, self.dual)\n",
      "             ^^^^^^^^^^^^^^^^^^^^^^^^^^^^^^^^^^^^^^^^^^^^^^^^^^^\n",
      "  File \"c:\\Users\\harsh\\anaconda3\\Lib\\site-packages\\sklearn\\linear_model\\_logistic.py\", line 56, in _check_solver\n",
      "    raise ValueError(\n",
      "ValueError: Solver lbfgs supports only 'l2' or 'none' penalties, got l1 penalty.\n",
      "\n",
      "--------------------------------------------------------------------------------\n",
      "15 fits failed with the following error:\n",
      "Traceback (most recent call last):\n",
      "  File \"c:\\Users\\harsh\\anaconda3\\Lib\\site-packages\\sklearn\\model_selection\\_validation.py\", line 729, in _fit_and_score\n",
      "    estimator.fit(X_train, y_train, **fit_params)\n",
      "  File \"c:\\Users\\harsh\\anaconda3\\Lib\\site-packages\\sklearn\\base.py\", line 1152, in wrapper\n",
      "    return fit_method(estimator, *args, **kwargs)\n",
      "           ^^^^^^^^^^^^^^^^^^^^^^^^^^^^^^^^^^^^^^\n",
      "  File \"c:\\Users\\harsh\\anaconda3\\Lib\\site-packages\\sklearn\\linear_model\\_logistic.py\", line 1169, in fit\n",
      "    solver = _check_solver(self.solver, self.penalty, self.dual)\n",
      "             ^^^^^^^^^^^^^^^^^^^^^^^^^^^^^^^^^^^^^^^^^^^^^^^^^^^\n",
      "  File \"c:\\Users\\harsh\\anaconda3\\Lib\\site-packages\\sklearn\\linear_model\\_logistic.py\", line 56, in _check_solver\n",
      "    raise ValueError(\n",
      "ValueError: Solver sag supports only 'l2' or 'none' penalties, got l1 penalty.\n",
      "\n",
      "--------------------------------------------------------------------------------\n",
      "15 fits failed with the following error:\n",
      "Traceback (most recent call last):\n",
      "  File \"c:\\Users\\harsh\\anaconda3\\Lib\\site-packages\\sklearn\\model_selection\\_validation.py\", line 729, in _fit_and_score\n",
      "    estimator.fit(X_train, y_train, **fit_params)\n",
      "  File \"c:\\Users\\harsh\\anaconda3\\Lib\\site-packages\\sklearn\\base.py\", line 1152, in wrapper\n",
      "    return fit_method(estimator, *args, **kwargs)\n",
      "           ^^^^^^^^^^^^^^^^^^^^^^^^^^^^^^^^^^^^^^\n",
      "  File \"c:\\Users\\harsh\\anaconda3\\Lib\\site-packages\\sklearn\\linear_model\\_logistic.py\", line 1169, in fit\n",
      "    solver = _check_solver(self.solver, self.penalty, self.dual)\n",
      "             ^^^^^^^^^^^^^^^^^^^^^^^^^^^^^^^^^^^^^^^^^^^^^^^^^^^\n",
      "  File \"c:\\Users\\harsh\\anaconda3\\Lib\\site-packages\\sklearn\\linear_model\\_logistic.py\", line 56, in _check_solver\n",
      "    raise ValueError(\n",
      "ValueError: Solver newton-cg supports only 'l2' or 'none' penalties, got elasticnet penalty.\n",
      "\n",
      "--------------------------------------------------------------------------------\n",
      "15 fits failed with the following error:\n",
      "Traceback (most recent call last):\n",
      "  File \"c:\\Users\\harsh\\anaconda3\\Lib\\site-packages\\sklearn\\model_selection\\_validation.py\", line 729, in _fit_and_score\n",
      "    estimator.fit(X_train, y_train, **fit_params)\n",
      "  File \"c:\\Users\\harsh\\anaconda3\\Lib\\site-packages\\sklearn\\base.py\", line 1152, in wrapper\n",
      "    return fit_method(estimator, *args, **kwargs)\n",
      "           ^^^^^^^^^^^^^^^^^^^^^^^^^^^^^^^^^^^^^^\n",
      "  File \"c:\\Users\\harsh\\anaconda3\\Lib\\site-packages\\sklearn\\linear_model\\_logistic.py\", line 1169, in fit\n",
      "    solver = _check_solver(self.solver, self.penalty, self.dual)\n",
      "             ^^^^^^^^^^^^^^^^^^^^^^^^^^^^^^^^^^^^^^^^^^^^^^^^^^^\n",
      "  File \"c:\\Users\\harsh\\anaconda3\\Lib\\site-packages\\sklearn\\linear_model\\_logistic.py\", line 56, in _check_solver\n",
      "    raise ValueError(\n",
      "ValueError: Solver lbfgs supports only 'l2' or 'none' penalties, got elasticnet penalty.\n",
      "\n",
      "--------------------------------------------------------------------------------\n",
      "15 fits failed with the following error:\n",
      "Traceback (most recent call last):\n",
      "  File \"c:\\Users\\harsh\\anaconda3\\Lib\\site-packages\\sklearn\\model_selection\\_validation.py\", line 729, in _fit_and_score\n",
      "    estimator.fit(X_train, y_train, **fit_params)\n",
      "  File \"c:\\Users\\harsh\\anaconda3\\Lib\\site-packages\\sklearn\\base.py\", line 1152, in wrapper\n",
      "    return fit_method(estimator, *args, **kwargs)\n",
      "           ^^^^^^^^^^^^^^^^^^^^^^^^^^^^^^^^^^^^^^\n",
      "  File \"c:\\Users\\harsh\\anaconda3\\Lib\\site-packages\\sklearn\\linear_model\\_logistic.py\", line 1169, in fit\n",
      "    solver = _check_solver(self.solver, self.penalty, self.dual)\n",
      "             ^^^^^^^^^^^^^^^^^^^^^^^^^^^^^^^^^^^^^^^^^^^^^^^^^^^\n",
      "  File \"c:\\Users\\harsh\\anaconda3\\Lib\\site-packages\\sklearn\\linear_model\\_logistic.py\", line 66, in _check_solver\n",
      "    raise ValueError(\n",
      "ValueError: Only 'saga' solver supports elasticnet penalty, got solver=liblinear.\n",
      "\n",
      "--------------------------------------------------------------------------------\n",
      "15 fits failed with the following error:\n",
      "Traceback (most recent call last):\n",
      "  File \"c:\\Users\\harsh\\anaconda3\\Lib\\site-packages\\sklearn\\model_selection\\_validation.py\", line 729, in _fit_and_score\n",
      "    estimator.fit(X_train, y_train, **fit_params)\n",
      "  File \"c:\\Users\\harsh\\anaconda3\\Lib\\site-packages\\sklearn\\base.py\", line 1152, in wrapper\n",
      "    return fit_method(estimator, *args, **kwargs)\n",
      "           ^^^^^^^^^^^^^^^^^^^^^^^^^^^^^^^^^^^^^^\n",
      "  File \"c:\\Users\\harsh\\anaconda3\\Lib\\site-packages\\sklearn\\linear_model\\_logistic.py\", line 1169, in fit\n",
      "    solver = _check_solver(self.solver, self.penalty, self.dual)\n",
      "             ^^^^^^^^^^^^^^^^^^^^^^^^^^^^^^^^^^^^^^^^^^^^^^^^^^^\n",
      "  File \"c:\\Users\\harsh\\anaconda3\\Lib\\site-packages\\sklearn\\linear_model\\_logistic.py\", line 56, in _check_solver\n",
      "    raise ValueError(\n",
      "ValueError: Solver sag supports only 'l2' or 'none' penalties, got elasticnet penalty.\n",
      "\n",
      "--------------------------------------------------------------------------------\n",
      "15 fits failed with the following error:\n",
      "Traceback (most recent call last):\n",
      "  File \"c:\\Users\\harsh\\anaconda3\\Lib\\site-packages\\sklearn\\model_selection\\_validation.py\", line 729, in _fit_and_score\n",
      "    estimator.fit(X_train, y_train, **fit_params)\n",
      "  File \"c:\\Users\\harsh\\anaconda3\\Lib\\site-packages\\sklearn\\base.py\", line 1152, in wrapper\n",
      "    return fit_method(estimator, *args, **kwargs)\n",
      "           ^^^^^^^^^^^^^^^^^^^^^^^^^^^^^^^^^^^^^^\n",
      "  File \"c:\\Users\\harsh\\anaconda3\\Lib\\site-packages\\sklearn\\linear_model\\_logistic.py\", line 1179, in fit\n",
      "    raise ValueError(\"l1_ratio must be specified when penalty is elasticnet.\")\n",
      "ValueError: l1_ratio must be specified when penalty is elasticnet.\n",
      "\n",
      "--------------------------------------------------------------------------------\n",
      "15 fits failed with the following error:\n",
      "Traceback (most recent call last):\n",
      "  File \"c:\\Users\\harsh\\anaconda3\\Lib\\site-packages\\sklearn\\model_selection\\_validation.py\", line 729, in _fit_and_score\n",
      "    estimator.fit(X_train, y_train, **fit_params)\n",
      "  File \"c:\\Users\\harsh\\anaconda3\\Lib\\site-packages\\sklearn\\base.py\", line 1152, in wrapper\n",
      "    return fit_method(estimator, *args, **kwargs)\n",
      "           ^^^^^^^^^^^^^^^^^^^^^^^^^^^^^^^^^^^^^^\n",
      "  File \"c:\\Users\\harsh\\anaconda3\\Lib\\site-packages\\sklearn\\linear_model\\_logistic.py\", line 1169, in fit\n",
      "    solver = _check_solver(self.solver, self.penalty, self.dual)\n",
      "             ^^^^^^^^^^^^^^^^^^^^^^^^^^^^^^^^^^^^^^^^^^^^^^^^^^^\n",
      "  File \"c:\\Users\\harsh\\anaconda3\\Lib\\site-packages\\sklearn\\linear_model\\_logistic.py\", line 73, in _check_solver\n",
      "    raise ValueError(\"penalty='none' is not supported for the liblinear solver\")\n",
      "ValueError: penalty='none' is not supported for the liblinear solver\n",
      "\n",
      "  warnings.warn(some_fits_failed_message, FitFailedWarning)\n",
      "c:\\Users\\harsh\\anaconda3\\Lib\\site-packages\\sklearn\\model_selection\\_search.py:979: UserWarning: One or more of the test scores are non-finite: [       nan        nan 0.95062309        nan 0.95563916 0.96308488\n",
      " 0.96308488 0.95979309 0.96308488 0.96292813        nan        nan\n",
      "        nan        nan        nan 0.97335214 0.97562505        nan\n",
      " 0.97006035 0.96833608        nan        nan 0.96927659        nan\n",
      " 0.9666118  0.9702171  0.9702171  0.96919821 0.96966847 0.96864958\n",
      "        nan        nan        nan        nan        nan 0.97335214\n",
      " 0.97562505        nan 0.97006035 0.96833608        nan        nan\n",
      " 0.97358727        nan 0.96810095 0.97319539 0.97319539 0.97264676\n",
      " 0.97013873 0.96841445        nan        nan        nan        nan\n",
      "        nan 0.97335214 0.97562505        nan 0.97006035 0.96833608\n",
      "        nan        nan 0.9754683         nan 0.96833608 0.9735089\n",
      " 0.97366565 0.97366565 0.97006035 0.96833608        nan        nan\n",
      "        nan        nan        nan 0.97335214 0.97562505        nan\n",
      " 0.97006035 0.96833608        nan        nan 0.97562505        nan\n",
      " 0.96833608 0.97335214 0.97476291 0.97468454 0.97006035 0.96833608\n",
      "        nan        nan        nan        nan        nan 0.97335214\n",
      " 0.97562505        nan 0.97006035 0.96833608]\n",
      "  warnings.warn(\n",
      "c:\\Users\\harsh\\anaconda3\\Lib\\site-packages\\sklearn\\linear_model\\_logistic.py:1183: FutureWarning: `penalty='none'`has been deprecated in 1.2 and will be removed in 1.4. To keep the past behaviour, set `penalty=None`.\n",
      "  warnings.warn(\n",
      "c:\\Users\\harsh\\anaconda3\\Lib\\site-packages\\sklearn\\linear_model\\_logistic.py:1193: UserWarning: Setting penalty=None will ignore the C and l1_ratio parameters\n",
      "  warnings.warn(\n"
     ]
    },
    {
     "name": "stdout",
     "output_type": "stream",
     "text": [
      "[CV 2/3] END ..C=100, penalty=none, solver=saga;, score=0.966 total time=   0.1s\n",
      "[CV 3/3] END ..C=100, penalty=none, solver=saga;, score=0.969 total time=   0.1s\n"
     ]
    },
    {
     "name": "stderr",
     "output_type": "stream",
     "text": [
      "c:\\Users\\harsh\\anaconda3\\Lib\\site-packages\\sklearn\\linear_model\\_logistic.py:460: ConvergenceWarning: lbfgs failed to converge (status=1):\n",
      "STOP: TOTAL NO. of ITERATIONS REACHED LIMIT.\n",
      "\n",
      "Increase the number of iterations (max_iter) or scale the data as shown in:\n",
      "    https://scikit-learn.org/stable/modules/preprocessing.html\n",
      "Please also refer to the documentation for alternative solver options:\n",
      "    https://scikit-learn.org/stable/modules/linear_model.html#logistic-regression\n",
      "  n_iter_i = _check_optimize_result(\n"
     ]
    },
    {
     "data": {
      "text/html": [
       "<style>#sk-container-id-8 {color: black;}#sk-container-id-8 pre{padding: 0;}#sk-container-id-8 div.sk-toggleable {background-color: white;}#sk-container-id-8 label.sk-toggleable__label {cursor: pointer;display: block;width: 100%;margin-bottom: 0;padding: 0.3em;box-sizing: border-box;text-align: center;}#sk-container-id-8 label.sk-toggleable__label-arrow:before {content: \"▸\";float: left;margin-right: 0.25em;color: #696969;}#sk-container-id-8 label.sk-toggleable__label-arrow:hover:before {color: black;}#sk-container-id-8 div.sk-estimator:hover label.sk-toggleable__label-arrow:before {color: black;}#sk-container-id-8 div.sk-toggleable__content {max-height: 0;max-width: 0;overflow: hidden;text-align: left;background-color: #f0f8ff;}#sk-container-id-8 div.sk-toggleable__content pre {margin: 0.2em;color: black;border-radius: 0.25em;background-color: #f0f8ff;}#sk-container-id-8 input.sk-toggleable__control:checked~div.sk-toggleable__content {max-height: 200px;max-width: 100%;overflow: auto;}#sk-container-id-8 input.sk-toggleable__control:checked~label.sk-toggleable__label-arrow:before {content: \"▾\";}#sk-container-id-8 div.sk-estimator input.sk-toggleable__control:checked~label.sk-toggleable__label {background-color: #d4ebff;}#sk-container-id-8 div.sk-label input.sk-toggleable__control:checked~label.sk-toggleable__label {background-color: #d4ebff;}#sk-container-id-8 input.sk-hidden--visually {border: 0;clip: rect(1px 1px 1px 1px);clip: rect(1px, 1px, 1px, 1px);height: 1px;margin: -1px;overflow: hidden;padding: 0;position: absolute;width: 1px;}#sk-container-id-8 div.sk-estimator {font-family: monospace;background-color: #f0f8ff;border: 1px dotted black;border-radius: 0.25em;box-sizing: border-box;margin-bottom: 0.5em;}#sk-container-id-8 div.sk-estimator:hover {background-color: #d4ebff;}#sk-container-id-8 div.sk-parallel-item::after {content: \"\";width: 100%;border-bottom: 1px solid gray;flex-grow: 1;}#sk-container-id-8 div.sk-label:hover label.sk-toggleable__label {background-color: #d4ebff;}#sk-container-id-8 div.sk-serial::before {content: \"\";position: absolute;border-left: 1px solid gray;box-sizing: border-box;top: 0;bottom: 0;left: 50%;z-index: 0;}#sk-container-id-8 div.sk-serial {display: flex;flex-direction: column;align-items: center;background-color: white;padding-right: 0.2em;padding-left: 0.2em;position: relative;}#sk-container-id-8 div.sk-item {position: relative;z-index: 1;}#sk-container-id-8 div.sk-parallel {display: flex;align-items: stretch;justify-content: center;background-color: white;position: relative;}#sk-container-id-8 div.sk-item::before, #sk-container-id-8 div.sk-parallel-item::before {content: \"\";position: absolute;border-left: 1px solid gray;box-sizing: border-box;top: 0;bottom: 0;left: 50%;z-index: -1;}#sk-container-id-8 div.sk-parallel-item {display: flex;flex-direction: column;z-index: 1;position: relative;background-color: white;}#sk-container-id-8 div.sk-parallel-item:first-child::after {align-self: flex-end;width: 50%;}#sk-container-id-8 div.sk-parallel-item:last-child::after {align-self: flex-start;width: 50%;}#sk-container-id-8 div.sk-parallel-item:only-child::after {width: 0;}#sk-container-id-8 div.sk-dashed-wrapped {border: 1px dashed gray;margin: 0 0.4em 0.5em 0.4em;box-sizing: border-box;padding-bottom: 0.4em;background-color: white;}#sk-container-id-8 div.sk-label label {font-family: monospace;font-weight: bold;display: inline-block;line-height: 1.2em;}#sk-container-id-8 div.sk-label-container {text-align: center;}#sk-container-id-8 div.sk-container {/* jupyter's `normalize.less` sets `[hidden] { display: none; }` but bootstrap.min.css set `[hidden] { display: none !important; }` so we also need the `!important` here to be able to override the default hidden behavior on the sphinx rendered scikit-learn.org. See: https://github.com/scikit-learn/scikit-learn/issues/21755 */display: inline-block !important;position: relative;}#sk-container-id-8 div.sk-text-repr-fallback {display: none;}</style><div id=\"sk-container-id-8\" class=\"sk-top-container\"><div class=\"sk-text-repr-fallback\"><pre>GridSearchCV(cv=3, estimator=LogisticRegression(random_state=245),\n",
       "             param_grid={&#x27;C&#x27;: [0.01, 0.1, 1, 10, 100],\n",
       "                         &#x27;penalty&#x27;: [&#x27;l1&#x27;, &#x27;l2&#x27;, &#x27;elasticnet&#x27;, &#x27;none&#x27;],\n",
       "                         &#x27;solver&#x27;: [&#x27;newton-cg&#x27;, &#x27;lbfgs&#x27;, &#x27;liblinear&#x27;, &#x27;sag&#x27;,\n",
       "                                    &#x27;saga&#x27;]},\n",
       "             verbose=3)</pre><b>In a Jupyter environment, please rerun this cell to show the HTML representation or trust the notebook. <br />On GitHub, the HTML representation is unable to render, please try loading this page with nbviewer.org.</b></div><div class=\"sk-container\" hidden><div class=\"sk-item sk-dashed-wrapped\"><div class=\"sk-label-container\"><div class=\"sk-label sk-toggleable\"><input class=\"sk-toggleable__control sk-hidden--visually\" id=\"sk-estimator-id-12\" type=\"checkbox\" ><label for=\"sk-estimator-id-12\" class=\"sk-toggleable__label sk-toggleable__label-arrow\">GridSearchCV</label><div class=\"sk-toggleable__content\"><pre>GridSearchCV(cv=3, estimator=LogisticRegression(random_state=245),\n",
       "             param_grid={&#x27;C&#x27;: [0.01, 0.1, 1, 10, 100],\n",
       "                         &#x27;penalty&#x27;: [&#x27;l1&#x27;, &#x27;l2&#x27;, &#x27;elasticnet&#x27;, &#x27;none&#x27;],\n",
       "                         &#x27;solver&#x27;: [&#x27;newton-cg&#x27;, &#x27;lbfgs&#x27;, &#x27;liblinear&#x27;, &#x27;sag&#x27;,\n",
       "                                    &#x27;saga&#x27;]},\n",
       "             verbose=3)</pre></div></div></div><div class=\"sk-parallel\"><div class=\"sk-parallel-item\"><div class=\"sk-item\"><div class=\"sk-label-container\"><div class=\"sk-label sk-toggleable\"><input class=\"sk-toggleable__control sk-hidden--visually\" id=\"sk-estimator-id-13\" type=\"checkbox\" ><label for=\"sk-estimator-id-13\" class=\"sk-toggleable__label sk-toggleable__label-arrow\">estimator: LogisticRegression</label><div class=\"sk-toggleable__content\"><pre>LogisticRegression(random_state=245)</pre></div></div></div><div class=\"sk-serial\"><div class=\"sk-item\"><div class=\"sk-estimator sk-toggleable\"><input class=\"sk-toggleable__control sk-hidden--visually\" id=\"sk-estimator-id-14\" type=\"checkbox\" ><label for=\"sk-estimator-id-14\" class=\"sk-toggleable__label sk-toggleable__label-arrow\">LogisticRegression</label><div class=\"sk-toggleable__content\"><pre>LogisticRegression(random_state=245)</pre></div></div></div></div></div></div></div></div></div></div>"
      ],
      "text/plain": [
       "GridSearchCV(cv=3, estimator=LogisticRegression(random_state=245),\n",
       "             param_grid={'C': [0.01, 0.1, 1, 10, 100],\n",
       "                         'penalty': ['l1', 'l2', 'elasticnet', 'none'],\n",
       "                         'solver': ['newton-cg', 'lbfgs', 'liblinear', 'sag',\n",
       "                                    'saga']},\n",
       "             verbose=3)"
      ]
     },
     "execution_count": 79,
     "metadata": {},
     "output_type": "execute_result"
    }
   ],
   "source": [
    "log_pca_grid = GridSearchCV(LogisticRegression(random_state=random_state), log_param_grid, cv=cv, n_jobs=n_jobs, verbose=verbose)\n",
    "log_pca_grid.fit(X_pca_val, y_pca_val)"
   ]
  },
  {
   "cell_type": "code",
   "execution_count": 80,
   "id": "751b3e64",
   "metadata": {},
   "outputs": [
    {
     "name": "stdout",
     "output_type": "stream",
     "text": [
      "{'C': 0.01, 'penalty': 'none', 'solver': 'lbfgs'}\n"
     ]
    }
   ],
   "source": [
    "print(log_pca_grid.best_params_)"
   ]
  },
  {
   "cell_type": "code",
   "execution_count": 81,
   "id": "b3440983",
   "metadata": {},
   "outputs": [
    {
     "name": "stderr",
     "output_type": "stream",
     "text": [
      "c:\\Users\\harsh\\anaconda3\\Lib\\site-packages\\sklearn\\linear_model\\_logistic.py:1183: FutureWarning: `penalty='none'`has been deprecated in 1.2 and will be removed in 1.4. To keep the past behaviour, set `penalty=None`.\n",
      "  warnings.warn(\n",
      "c:\\Users\\harsh\\anaconda3\\Lib\\site-packages\\sklearn\\linear_model\\_logistic.py:1193: UserWarning: Setting penalty=None will ignore the C and l1_ratio parameters\n",
      "  warnings.warn(\n"
     ]
    },
    {
     "data": {
      "text/html": [
       "<style>#sk-container-id-9 {color: black;}#sk-container-id-9 pre{padding: 0;}#sk-container-id-9 div.sk-toggleable {background-color: white;}#sk-container-id-9 label.sk-toggleable__label {cursor: pointer;display: block;width: 100%;margin-bottom: 0;padding: 0.3em;box-sizing: border-box;text-align: center;}#sk-container-id-9 label.sk-toggleable__label-arrow:before {content: \"▸\";float: left;margin-right: 0.25em;color: #696969;}#sk-container-id-9 label.sk-toggleable__label-arrow:hover:before {color: black;}#sk-container-id-9 div.sk-estimator:hover label.sk-toggleable__label-arrow:before {color: black;}#sk-container-id-9 div.sk-toggleable__content {max-height: 0;max-width: 0;overflow: hidden;text-align: left;background-color: #f0f8ff;}#sk-container-id-9 div.sk-toggleable__content pre {margin: 0.2em;color: black;border-radius: 0.25em;background-color: #f0f8ff;}#sk-container-id-9 input.sk-toggleable__control:checked~div.sk-toggleable__content {max-height: 200px;max-width: 100%;overflow: auto;}#sk-container-id-9 input.sk-toggleable__control:checked~label.sk-toggleable__label-arrow:before {content: \"▾\";}#sk-container-id-9 div.sk-estimator input.sk-toggleable__control:checked~label.sk-toggleable__label {background-color: #d4ebff;}#sk-container-id-9 div.sk-label input.sk-toggleable__control:checked~label.sk-toggleable__label {background-color: #d4ebff;}#sk-container-id-9 input.sk-hidden--visually {border: 0;clip: rect(1px 1px 1px 1px);clip: rect(1px, 1px, 1px, 1px);height: 1px;margin: -1px;overflow: hidden;padding: 0;position: absolute;width: 1px;}#sk-container-id-9 div.sk-estimator {font-family: monospace;background-color: #f0f8ff;border: 1px dotted black;border-radius: 0.25em;box-sizing: border-box;margin-bottom: 0.5em;}#sk-container-id-9 div.sk-estimator:hover {background-color: #d4ebff;}#sk-container-id-9 div.sk-parallel-item::after {content: \"\";width: 100%;border-bottom: 1px solid gray;flex-grow: 1;}#sk-container-id-9 div.sk-label:hover label.sk-toggleable__label {background-color: #d4ebff;}#sk-container-id-9 div.sk-serial::before {content: \"\";position: absolute;border-left: 1px solid gray;box-sizing: border-box;top: 0;bottom: 0;left: 50%;z-index: 0;}#sk-container-id-9 div.sk-serial {display: flex;flex-direction: column;align-items: center;background-color: white;padding-right: 0.2em;padding-left: 0.2em;position: relative;}#sk-container-id-9 div.sk-item {position: relative;z-index: 1;}#sk-container-id-9 div.sk-parallel {display: flex;align-items: stretch;justify-content: center;background-color: white;position: relative;}#sk-container-id-9 div.sk-item::before, #sk-container-id-9 div.sk-parallel-item::before {content: \"\";position: absolute;border-left: 1px solid gray;box-sizing: border-box;top: 0;bottom: 0;left: 50%;z-index: -1;}#sk-container-id-9 div.sk-parallel-item {display: flex;flex-direction: column;z-index: 1;position: relative;background-color: white;}#sk-container-id-9 div.sk-parallel-item:first-child::after {align-self: flex-end;width: 50%;}#sk-container-id-9 div.sk-parallel-item:last-child::after {align-self: flex-start;width: 50%;}#sk-container-id-9 div.sk-parallel-item:only-child::after {width: 0;}#sk-container-id-9 div.sk-dashed-wrapped {border: 1px dashed gray;margin: 0 0.4em 0.5em 0.4em;box-sizing: border-box;padding-bottom: 0.4em;background-color: white;}#sk-container-id-9 div.sk-label label {font-family: monospace;font-weight: bold;display: inline-block;line-height: 1.2em;}#sk-container-id-9 div.sk-label-container {text-align: center;}#sk-container-id-9 div.sk-container {/* jupyter's `normalize.less` sets `[hidden] { display: none; }` but bootstrap.min.css set `[hidden] { display: none !important; }` so we also need the `!important` here to be able to override the default hidden behavior on the sphinx rendered scikit-learn.org. See: https://github.com/scikit-learn/scikit-learn/issues/21755 */display: inline-block !important;position: relative;}#sk-container-id-9 div.sk-text-repr-fallback {display: none;}</style><div id=\"sk-container-id-9\" class=\"sk-top-container\"><div class=\"sk-text-repr-fallback\"><pre>LogisticRegression(C=0.01, penalty=&#x27;none&#x27;, random_state=245)</pre><b>In a Jupyter environment, please rerun this cell to show the HTML representation or trust the notebook. <br />On GitHub, the HTML representation is unable to render, please try loading this page with nbviewer.org.</b></div><div class=\"sk-container\" hidden><div class=\"sk-item\"><div class=\"sk-estimator sk-toggleable\"><input class=\"sk-toggleable__control sk-hidden--visually\" id=\"sk-estimator-id-15\" type=\"checkbox\" checked><label for=\"sk-estimator-id-15\" class=\"sk-toggleable__label sk-toggleable__label-arrow\">LogisticRegression</label><div class=\"sk-toggleable__content\"><pre>LogisticRegression(C=0.01, penalty=&#x27;none&#x27;, random_state=245)</pre></div></div></div></div></div>"
      ],
      "text/plain": [
       "LogisticRegression(C=0.01, penalty='none', random_state=245)"
      ]
     },
     "execution_count": 81,
     "metadata": {},
     "output_type": "execute_result"
    }
   ],
   "source": [
    "log_pca = LogisticRegression(**log_pca_grid.best_params_, random_state=random_state)\n",
    "log_pca.fit(X_pca_train, y_pca_train)"
   ]
  },
  {
   "cell_type": "code",
   "execution_count": 82,
   "id": "6211c133",
   "metadata": {},
   "outputs": [
    {
     "name": "stdout",
     "output_type": "stream",
     "text": [
      "              precision    recall  f1-score   support\n",
      "\n",
      "         0.0       0.98      0.98      0.98      7209\n",
      "         1.0       0.97      0.98      0.97      5550\n",
      "\n",
      "    accuracy                           0.98     12759\n",
      "   macro avg       0.98      0.98      0.98     12759\n",
      "weighted avg       0.98      0.98      0.98     12759\n",
      "\n"
     ]
    }
   ],
   "source": [
    "print(classification_report(y_pca_test, log_pca.predict(X_pca_test)))"
   ]
  },
  {
   "cell_type": "code",
   "execution_count": 83,
   "id": "841a8087",
   "metadata": {},
   "outputs": [
    {
     "name": "stdout",
     "output_type": "stream",
     "text": [
      "              precision    recall  f1-score   support\n",
      "\n",
      "         0.0       0.98      0.98      0.98      7209\n",
      "         1.0       0.97      0.98      0.97      5550\n",
      "\n",
      "    accuracy                           0.98     12759\n",
      "   macro avg       0.98      0.98      0.98     12759\n",
      "weighted avg       0.98      0.98      0.98     12759\n",
      "\n",
      "\n",
      "Model: Logistic Regression {'C': 0.01, 'penalty': 'none', 'solver': 'lbfgs'}\n",
      "Data size: 12759\n",
      "Accuracy: 0.9770358178540638\n",
      "Precision: 0.9709729439168607\n",
      "Recall: 0.9763963963963964\n",
      "F1: 0.9736771179588536\n",
      "Time per data per iter: 927.9120620738302\n"
     ]
    }
   ],
   "source": [
    "benchmarkAndUpdateResult(\n",
    "        df_known_attacks,\n",
    "        log_pca,\n",
    "        f\"Logistic Regression {log_pca_grid.best_params_}\",\n",
    "        \"Known attacks\",\n",
    "        \"All features with 95% PCA\",\n",
    "        pipeline_pca,\n",
    "        scaler=scaler,\n",
    "        pca=pca\n",
    "        )"
   ]
  },
  {
   "cell_type": "code",
   "execution_count": 84,
   "id": "8f69f22e",
   "metadata": {},
   "outputs": [
    {
     "name": "stdout",
     "output_type": "stream",
     "text": [
      "              precision    recall  f1-score   support\n",
      "\n",
      "           0       0.98      0.99      0.99     15969\n",
      "           1       0.98      0.98      0.98     10440\n",
      "\n",
      "    accuracy                           0.98     26409\n",
      "   macro avg       0.98      0.98      0.98     26409\n",
      "weighted avg       0.98      0.98      0.98     26409\n",
      "\n",
      "\n",
      "Model: Logistic Regressiion {'C': 0.01, 'penalty': 'none', 'solver': 'lbfgs'}\n",
      "Data size: 26409\n",
      "Accuracy: 0.9828467567874588\n",
      "Precision: 0.9808377467501204\n",
      "Recall: 0.9756704980842912\n",
      "F1: 0.9782472989195679\n",
      "Time per data per iter: 894.3954712408649\n"
     ]
    }
   ],
   "source": [
    "benchmarkAndUpdateResult(\n",
    "        df_similar_attacks,\n",
    "        log_pca,\n",
    "        f\"Logistic Regressiion {log_pca_grid.best_params_}\",\n",
    "        \"Similar attacks\",\n",
    "        \"All features with 95% PCA\",\n",
    "        pipeline_pca,\n",
    "        scaler=scaler,\n",
    "        pca=pca\n",
    "        )"
   ]
  },
  {
   "cell_type": "code",
   "execution_count": 85,
   "id": "84f80179",
   "metadata": {},
   "outputs": [
    {
     "name": "stdout",
     "output_type": "stream",
     "text": [
      "              precision    recall  f1-score   support\n",
      "\n",
      "           0       0.77      0.99      0.87     58138\n",
      "           1       0.51      0.04      0.07     17752\n",
      "\n",
      "    accuracy                           0.77     75890\n",
      "   macro avg       0.64      0.51      0.47     75890\n",
      "weighted avg       0.71      0.77      0.68     75890\n",
      "\n",
      "\n",
      "Model: Logistic Regression {'C': 0.01, 'penalty': 'none', 'solver': 'lbfgs'}\n",
      "Data size: 75890\n",
      "Accuracy: 0.7664909737778364\n",
      "Precision: 0.5117157974300831\n",
      "Recall: 0.03813654799459216\n",
      "F1: 0.07098296199213629\n",
      "Time per data per iter: 909.4849123731717\n"
     ]
    }
   ],
   "source": [
    "benchmarkAndUpdateResult(\n",
    "        df_new_attacks,\n",
    "        log_pca,\n",
    "        f\"Logistic Regression {log_pca_grid.best_params_}\",\n",
    "        \"New attacks\",\n",
    "        \"All features with 95% PCA\",\n",
    "        pipeline_pca,\n",
    "        scaler=scaler,\n",
    "        pca=pca\n",
    "        )"
   ]
  },
  {
   "cell_type": "code",
   "execution_count": 86,
   "id": "9f34af51",
   "metadata": {},
   "outputs": [
    {
     "data": {
      "text/html": [
       "<div>\n",
       "<style scoped>\n",
       "    .dataframe tbody tr th:only-of-type {\n",
       "        vertical-align: middle;\n",
       "    }\n",
       "\n",
       "    .dataframe tbody tr th {\n",
       "        vertical-align: top;\n",
       "    }\n",
       "\n",
       "    .dataframe thead th {\n",
       "        text-align: right;\n",
       "    }\n",
       "</style>\n",
       "<table border=\"1\" class=\"dataframe\">\n",
       "  <thead>\n",
       "    <tr style=\"text-align: right;\">\n",
       "      <th></th>\n",
       "      <th>Model</th>\n",
       "      <th>Dataset</th>\n",
       "      <th>Info</th>\n",
       "      <th>Data size</th>\n",
       "      <th>Accuracy</th>\n",
       "      <th>Precision</th>\n",
       "      <th>Recall</th>\n",
       "      <th>F1</th>\n",
       "      <th>Time per data per iter</th>\n",
       "    </tr>\n",
       "  </thead>\n",
       "  <tbody>\n",
       "    <tr>\n",
       "      <th>0</th>\n",
       "      <td>Logistic Regression {'C': 1, 'penalty': 'l1', 'solver': 'liblinear'}</td>\n",
       "      <td>Known attacks</td>\n",
       "      <td>All features scaled</td>\n",
       "      <td>12759</td>\n",
       "      <td>0.993338</td>\n",
       "      <td>0.989959</td>\n",
       "      <td>0.994775</td>\n",
       "      <td>0.992361</td>\n",
       "      <td>593.930559</td>\n",
       "    </tr>\n",
       "    <tr>\n",
       "      <th>1</th>\n",
       "      <td>Logistic Regression {'C': 1, 'penalty': 'l1', 'solver': 'liblinear'}</td>\n",
       "      <td>Similar attacks</td>\n",
       "      <td>All features scaled</td>\n",
       "      <td>26409</td>\n",
       "      <td>0.980045</td>\n",
       "      <td>0.995105</td>\n",
       "      <td>0.954215</td>\n",
       "      <td>0.974231</td>\n",
       "      <td>496.575410</td>\n",
       "    </tr>\n",
       "    <tr>\n",
       "      <th>2</th>\n",
       "      <td>Logistic Regression {'C': 1, 'penalty': 'l1', 'solver': 'liblinear'}</td>\n",
       "      <td>New attacks</td>\n",
       "      <td>All features scaled</td>\n",
       "      <td>75890</td>\n",
       "      <td>0.774476</td>\n",
       "      <td>0.845070</td>\n",
       "      <td>0.043939</td>\n",
       "      <td>0.083534</td>\n",
       "      <td>420.447490</td>\n",
       "    </tr>\n",
       "    <tr>\n",
       "      <th>3</th>\n",
       "      <td>Logistic Regression {'C': 0.01, 'penalty': 'none', 'solver': 'newton-cg'}</td>\n",
       "      <td>Known attacks</td>\n",
       "      <td>|correlation| &gt; 0.1 features scaled</td>\n",
       "      <td>12759</td>\n",
       "      <td>0.989654</td>\n",
       "      <td>0.983232</td>\n",
       "      <td>0.993153</td>\n",
       "      <td>0.988168</td>\n",
       "      <td>439.863626</td>\n",
       "    </tr>\n",
       "    <tr>\n",
       "      <th>4</th>\n",
       "      <td>Logistic Regression {'C': 0.01, 'penalty': 'none', 'solver': 'newton-cg'}</td>\n",
       "      <td>Similar attacks</td>\n",
       "      <td>|correlation| &gt; 0.1 features scaled</td>\n",
       "      <td>26409</td>\n",
       "      <td>0.984134</td>\n",
       "      <td>0.987640</td>\n",
       "      <td>0.972031</td>\n",
       "      <td>0.979773</td>\n",
       "      <td>338.087773</td>\n",
       "    </tr>\n",
       "    <tr>\n",
       "      <th>5</th>\n",
       "      <td>Logistic Regression{'C': 0.01, 'penalty': 'none', 'solver': 'newton-cg'}</td>\n",
       "      <td>New attacks</td>\n",
       "      <td>|correlation| &gt; 0.1 features scaled</td>\n",
       "      <td>75890</td>\n",
       "      <td>0.784675</td>\n",
       "      <td>0.821999</td>\n",
       "      <td>0.101453</td>\n",
       "      <td>0.180615</td>\n",
       "      <td>286.526552</td>\n",
       "    </tr>\n",
       "    <tr>\n",
       "      <th>6</th>\n",
       "      <td>Logistic Regression {'C': 0.01, 'penalty': 'none', 'solver': 'lbfgs'}</td>\n",
       "      <td>Known attacks</td>\n",
       "      <td>All features with 95% PCA</td>\n",
       "      <td>12759</td>\n",
       "      <td>0.977036</td>\n",
       "      <td>0.970973</td>\n",
       "      <td>0.976396</td>\n",
       "      <td>0.973677</td>\n",
       "      <td>927.912062</td>\n",
       "    </tr>\n",
       "    <tr>\n",
       "      <th>7</th>\n",
       "      <td>Logistic Regressiion {'C': 0.01, 'penalty': 'none', 'solver': 'lbfgs'}</td>\n",
       "      <td>Similar attacks</td>\n",
       "      <td>All features with 95% PCA</td>\n",
       "      <td>26409</td>\n",
       "      <td>0.982847</td>\n",
       "      <td>0.980838</td>\n",
       "      <td>0.975670</td>\n",
       "      <td>0.978247</td>\n",
       "      <td>894.395471</td>\n",
       "    </tr>\n",
       "    <tr>\n",
       "      <th>8</th>\n",
       "      <td>Logistic Regression {'C': 0.01, 'penalty': 'none', 'solver': 'lbfgs'}</td>\n",
       "      <td>New attacks</td>\n",
       "      <td>All features with 95% PCA</td>\n",
       "      <td>75890</td>\n",
       "      <td>0.766491</td>\n",
       "      <td>0.511716</td>\n",
       "      <td>0.038137</td>\n",
       "      <td>0.070983</td>\n",
       "      <td>909.484912</td>\n",
       "    </tr>\n",
       "  </tbody>\n",
       "</table>\n",
       "</div>"
      ],
      "text/plain": [
       "                                                                       Model          Dataset                                 Info  Data size  Accuracy  Precision    Recall        F1  Time per data per iter\n",
       "0       Logistic Regression {'C': 1, 'penalty': 'l1', 'solver': 'liblinear'}    Known attacks                  All features scaled      12759  0.993338   0.989959  0.994775  0.992361              593.930559\n",
       "1       Logistic Regression {'C': 1, 'penalty': 'l1', 'solver': 'liblinear'}  Similar attacks                  All features scaled      26409  0.980045   0.995105  0.954215  0.974231              496.575410\n",
       "2       Logistic Regression {'C': 1, 'penalty': 'l1', 'solver': 'liblinear'}      New attacks                  All features scaled      75890  0.774476   0.845070  0.043939  0.083534              420.447490\n",
       "3  Logistic Regression {'C': 0.01, 'penalty': 'none', 'solver': 'newton-cg'}    Known attacks  |correlation| > 0.1 features scaled      12759  0.989654   0.983232  0.993153  0.988168              439.863626\n",
       "4  Logistic Regression {'C': 0.01, 'penalty': 'none', 'solver': 'newton-cg'}  Similar attacks  |correlation| > 0.1 features scaled      26409  0.984134   0.987640  0.972031  0.979773              338.087773\n",
       "5   Logistic Regression{'C': 0.01, 'penalty': 'none', 'solver': 'newton-cg'}      New attacks  |correlation| > 0.1 features scaled      75890  0.784675   0.821999  0.101453  0.180615              286.526552\n",
       "6      Logistic Regression {'C': 0.01, 'penalty': 'none', 'solver': 'lbfgs'}    Known attacks            All features with 95% PCA      12759  0.977036   0.970973  0.976396  0.973677              927.912062\n",
       "7     Logistic Regressiion {'C': 0.01, 'penalty': 'none', 'solver': 'lbfgs'}  Similar attacks            All features with 95% PCA      26409  0.982847   0.980838  0.975670  0.978247              894.395471\n",
       "8      Logistic Regression {'C': 0.01, 'penalty': 'none', 'solver': 'lbfgs'}      New attacks            All features with 95% PCA      75890  0.766491   0.511716  0.038137  0.070983              909.484912"
      ]
     },
     "execution_count": 86,
     "metadata": {},
     "output_type": "execute_result"
    }
   ],
   "source": [
    "benchmark_results"
   ]
  },
  {
   "cell_type": "markdown",
   "id": "76925a3e",
   "metadata": {},
   "source": [
    "### Features with |correlation| > 0.1 with 95% PCA"
   ]
  },
  {
   "cell_type": "code",
   "execution_count": 87,
   "id": "024ad27d",
   "metadata": {},
   "outputs": [
    {
     "data": {
      "text/html": [
       "<div>\n",
       "<style scoped>\n",
       "    .dataframe tbody tr th:only-of-type {\n",
       "        vertical-align: middle;\n",
       "    }\n",
       "\n",
       "    .dataframe tbody tr th {\n",
       "        vertical-align: top;\n",
       "    }\n",
       "\n",
       "    .dataframe thead th {\n",
       "        text-align: right;\n",
       "    }\n",
       "</style>\n",
       "<table border=\"1\" class=\"dataframe\">\n",
       "  <thead>\n",
       "    <tr style=\"text-align: right;\">\n",
       "      <th></th>\n",
       "      <th>0</th>\n",
       "      <th>1</th>\n",
       "      <th>2</th>\n",
       "      <th>3</th>\n",
       "      <th>4</th>\n",
       "      <th>5</th>\n",
       "      <th>6</th>\n",
       "      <th>7</th>\n",
       "      <th>8</th>\n",
       "      <th>9</th>\n",
       "      <th>class</th>\n",
       "    </tr>\n",
       "  </thead>\n",
       "  <tbody>\n",
       "    <tr>\n",
       "      <th>0</th>\n",
       "      <td>-0.543609</td>\n",
       "      <td>4.230357</td>\n",
       "      <td>1.869249</td>\n",
       "      <td>-0.251843</td>\n",
       "      <td>0.788871</td>\n",
       "      <td>0.190714</td>\n",
       "      <td>0.364347</td>\n",
       "      <td>-0.114097</td>\n",
       "      <td>0.499856</td>\n",
       "      <td>-0.081331</td>\n",
       "      <td>0.0</td>\n",
       "    </tr>\n",
       "    <tr>\n",
       "      <th>1</th>\n",
       "      <td>-0.543609</td>\n",
       "      <td>4.230357</td>\n",
       "      <td>1.869249</td>\n",
       "      <td>-0.251843</td>\n",
       "      <td>0.788871</td>\n",
       "      <td>0.190714</td>\n",
       "      <td>0.364347</td>\n",
       "      <td>-0.114097</td>\n",
       "      <td>0.499856</td>\n",
       "      <td>-0.081331</td>\n",
       "      <td>0.0</td>\n",
       "    </tr>\n",
       "    <tr>\n",
       "      <th>2</th>\n",
       "      <td>-1.994167</td>\n",
       "      <td>-1.461920</td>\n",
       "      <td>-0.938954</td>\n",
       "      <td>0.293926</td>\n",
       "      <td>1.364275</td>\n",
       "      <td>-0.010223</td>\n",
       "      <td>0.649041</td>\n",
       "      <td>-0.738695</td>\n",
       "      <td>-0.118310</td>\n",
       "      <td>0.030188</td>\n",
       "      <td>1.0</td>\n",
       "    </tr>\n",
       "    <tr>\n",
       "      <th>3</th>\n",
       "      <td>-1.350594</td>\n",
       "      <td>0.261992</td>\n",
       "      <td>-0.964845</td>\n",
       "      <td>1.102809</td>\n",
       "      <td>-0.889646</td>\n",
       "      <td>-1.028780</td>\n",
       "      <td>-0.107525</td>\n",
       "      <td>0.580810</td>\n",
       "      <td>-1.068071</td>\n",
       "      <td>0.201405</td>\n",
       "      <td>0.0</td>\n",
       "    </tr>\n",
       "    <tr>\n",
       "      <th>4</th>\n",
       "      <td>-0.704318</td>\n",
       "      <td>1.340008</td>\n",
       "      <td>-1.522401</td>\n",
       "      <td>1.729258</td>\n",
       "      <td>-1.340019</td>\n",
       "      <td>-0.612810</td>\n",
       "      <td>-0.126361</td>\n",
       "      <td>0.481897</td>\n",
       "      <td>0.016040</td>\n",
       "      <td>-0.037508</td>\n",
       "      <td>0.0</td>\n",
       "    </tr>\n",
       "  </tbody>\n",
       "</table>\n",
       "</div>"
      ],
      "text/plain": [
       "          0         1         2         3         4         5         6         7         8         9  class\n",
       "0 -0.543609  4.230357  1.869249 -0.251843  0.788871  0.190714  0.364347 -0.114097  0.499856 -0.081331    0.0\n",
       "1 -0.543609  4.230357  1.869249 -0.251843  0.788871  0.190714  0.364347 -0.114097  0.499856 -0.081331    0.0\n",
       "2 -1.994167 -1.461920 -0.938954  0.293926  1.364275 -0.010223  0.649041 -0.738695 -0.118310  0.030188    1.0\n",
       "3 -1.350594  0.261992 -0.964845  1.102809 -0.889646 -1.028780 -0.107525  0.580810 -1.068071  0.201405    0.0\n",
       "4 -0.704318  1.340008 -1.522401  1.729258 -1.340019 -0.612810 -0.126361  0.481897  0.016040 -0.037508    0.0"
      ]
     },
     "execution_count": 87,
     "metadata": {},
     "output_type": "execute_result"
    }
   ],
   "source": [
    "df_corr_gt1_pca = pipeline_corr_gt1_pca(df=df, scaler=scaler_gt1, cols=cols_corr_gt1, pca=pca_corr_gt1)\n",
    "df_corr_gt1_pca.head()"
   ]
  },
  {
   "cell_type": "code",
   "execution_count": 88,
   "id": "9006bc85",
   "metadata": {},
   "outputs": [],
   "source": [
    "(\n",
    "    X_corr_gt1_pca_train,\n",
    "    X_corr_gt1_pca_val,\n",
    "    X_corr_gt1_pca_test,\n",
    "    y_corr_gt1_pca_train,\n",
    "    y_corr_gt1_pca_val,\n",
    "    y_corr_gt1_pca_test,\n",
    ") = test_train_val_split(df_corr_gt1_pca)"
   ]
  },
  {
   "cell_type": "code",
   "execution_count": 89,
   "id": "6111b00a",
   "metadata": {},
   "outputs": [
    {
     "data": {
      "text/html": [
       "<style>#sk-container-id-10 {color: black;}#sk-container-id-10 pre{padding: 0;}#sk-container-id-10 div.sk-toggleable {background-color: white;}#sk-container-id-10 label.sk-toggleable__label {cursor: pointer;display: block;width: 100%;margin-bottom: 0;padding: 0.3em;box-sizing: border-box;text-align: center;}#sk-container-id-10 label.sk-toggleable__label-arrow:before {content: \"▸\";float: left;margin-right: 0.25em;color: #696969;}#sk-container-id-10 label.sk-toggleable__label-arrow:hover:before {color: black;}#sk-container-id-10 div.sk-estimator:hover label.sk-toggleable__label-arrow:before {color: black;}#sk-container-id-10 div.sk-toggleable__content {max-height: 0;max-width: 0;overflow: hidden;text-align: left;background-color: #f0f8ff;}#sk-container-id-10 div.sk-toggleable__content pre {margin: 0.2em;color: black;border-radius: 0.25em;background-color: #f0f8ff;}#sk-container-id-10 input.sk-toggleable__control:checked~div.sk-toggleable__content {max-height: 200px;max-width: 100%;overflow: auto;}#sk-container-id-10 input.sk-toggleable__control:checked~label.sk-toggleable__label-arrow:before {content: \"▾\";}#sk-container-id-10 div.sk-estimator input.sk-toggleable__control:checked~label.sk-toggleable__label {background-color: #d4ebff;}#sk-container-id-10 div.sk-label input.sk-toggleable__control:checked~label.sk-toggleable__label {background-color: #d4ebff;}#sk-container-id-10 input.sk-hidden--visually {border: 0;clip: rect(1px 1px 1px 1px);clip: rect(1px, 1px, 1px, 1px);height: 1px;margin: -1px;overflow: hidden;padding: 0;position: absolute;width: 1px;}#sk-container-id-10 div.sk-estimator {font-family: monospace;background-color: #f0f8ff;border: 1px dotted black;border-radius: 0.25em;box-sizing: border-box;margin-bottom: 0.5em;}#sk-container-id-10 div.sk-estimator:hover {background-color: #d4ebff;}#sk-container-id-10 div.sk-parallel-item::after {content: \"\";width: 100%;border-bottom: 1px solid gray;flex-grow: 1;}#sk-container-id-10 div.sk-label:hover label.sk-toggleable__label {background-color: #d4ebff;}#sk-container-id-10 div.sk-serial::before {content: \"\";position: absolute;border-left: 1px solid gray;box-sizing: border-box;top: 0;bottom: 0;left: 50%;z-index: 0;}#sk-container-id-10 div.sk-serial {display: flex;flex-direction: column;align-items: center;background-color: white;padding-right: 0.2em;padding-left: 0.2em;position: relative;}#sk-container-id-10 div.sk-item {position: relative;z-index: 1;}#sk-container-id-10 div.sk-parallel {display: flex;align-items: stretch;justify-content: center;background-color: white;position: relative;}#sk-container-id-10 div.sk-item::before, #sk-container-id-10 div.sk-parallel-item::before {content: \"\";position: absolute;border-left: 1px solid gray;box-sizing: border-box;top: 0;bottom: 0;left: 50%;z-index: -1;}#sk-container-id-10 div.sk-parallel-item {display: flex;flex-direction: column;z-index: 1;position: relative;background-color: white;}#sk-container-id-10 div.sk-parallel-item:first-child::after {align-self: flex-end;width: 50%;}#sk-container-id-10 div.sk-parallel-item:last-child::after {align-self: flex-start;width: 50%;}#sk-container-id-10 div.sk-parallel-item:only-child::after {width: 0;}#sk-container-id-10 div.sk-dashed-wrapped {border: 1px dashed gray;margin: 0 0.4em 0.5em 0.4em;box-sizing: border-box;padding-bottom: 0.4em;background-color: white;}#sk-container-id-10 div.sk-label label {font-family: monospace;font-weight: bold;display: inline-block;line-height: 1.2em;}#sk-container-id-10 div.sk-label-container {text-align: center;}#sk-container-id-10 div.sk-container {/* jupyter's `normalize.less` sets `[hidden] { display: none; }` but bootstrap.min.css set `[hidden] { display: none !important; }` so we also need the `!important` here to be able to override the default hidden behavior on the sphinx rendered scikit-learn.org. See: https://github.com/scikit-learn/scikit-learn/issues/21755 */display: inline-block !important;position: relative;}#sk-container-id-10 div.sk-text-repr-fallback {display: none;}</style><div id=\"sk-container-id-10\" class=\"sk-top-container\"><div class=\"sk-text-repr-fallback\"><pre>LogisticRegression(random_state=245)</pre><b>In a Jupyter environment, please rerun this cell to show the HTML representation or trust the notebook. <br />On GitHub, the HTML representation is unable to render, please try loading this page with nbviewer.org.</b></div><div class=\"sk-container\" hidden><div class=\"sk-item\"><div class=\"sk-estimator sk-toggleable\"><input class=\"sk-toggleable__control sk-hidden--visually\" id=\"sk-estimator-id-16\" type=\"checkbox\" checked><label for=\"sk-estimator-id-16\" class=\"sk-toggleable__label sk-toggleable__label-arrow\">LogisticRegression</label><div class=\"sk-toggleable__content\"><pre>LogisticRegression(random_state=245)</pre></div></div></div></div></div>"
      ],
      "text/plain": [
       "LogisticRegression(random_state=245)"
      ]
     },
     "execution_count": 89,
     "metadata": {},
     "output_type": "execute_result"
    }
   ],
   "source": [
    "log_corr_gt1_pca_baseline = LogisticRegression(random_state=random_state)\n",
    "log_corr_gt1_pca_baseline.fit(X_corr_gt1_pca_train, y_corr_gt1_pca_train)"
   ]
  },
  {
   "cell_type": "code",
   "execution_count": 90,
   "id": "24f7b183",
   "metadata": {},
   "outputs": [
    {
     "name": "stdout",
     "output_type": "stream",
     "text": [
      "              precision    recall  f1-score   support\n",
      "\n",
      "         0.0       0.98      0.98      0.98      7154\n",
      "         1.0       0.97      0.97      0.97      5605\n",
      "\n",
      "    accuracy                           0.98     12759\n",
      "   macro avg       0.98      0.98      0.98     12759\n",
      "weighted avg       0.98      0.98      0.98     12759\n",
      "\n"
     ]
    }
   ],
   "source": [
    "print(classification_report(y_corr_gt1_pca_val, log_corr_gt1_pca_baseline.predict(X_corr_gt1_pca_val)))"
   ]
  },
  {
   "cell_type": "code",
   "execution_count": 91,
   "id": "1c249af2",
   "metadata": {},
   "outputs": [
    {
     "name": "stdout",
     "output_type": "stream",
     "text": [
      "Fitting 3 folds for each of 100 candidates, totalling 300 fits\n",
      "[CV 1/3] END C=0.01, penalty=l1, solver=newton-cg;, score=nan total time=   0.0s\n",
      "[CV 2/3] END C=0.01, penalty=l1, solver=newton-cg;, score=nan total time=   0.0s\n",
      "[CV 3/3] END C=0.01, penalty=l1, solver=newton-cg;, score=nan total time=   0.0s\n",
      "[CV 1/3] END ....C=0.01, penalty=l1, solver=lbfgs;, score=nan total time=   0.0s\n",
      "[CV 2/3] END ....C=0.01, penalty=l1, solver=lbfgs;, score=nan total time=   0.0s\n",
      "[CV 3/3] END ....C=0.01, penalty=l1, solver=lbfgs;, score=nan total time=   0.0s\n",
      "[CV 1/3] END C=0.01, penalty=l1, solver=liblinear;, score=0.948 total time=   0.0s\n",
      "[CV 2/3] END C=0.01, penalty=l1, solver=liblinear;, score=0.941 total time=   0.0s\n",
      "[CV 3/3] END C=0.01, penalty=l1, solver=liblinear;, score=0.949 total time=   0.0s\n",
      "[CV 1/3] END ......C=0.01, penalty=l1, solver=sag;, score=nan total time=   0.0s\n",
      "[CV 2/3] END ......C=0.01, penalty=l1, solver=sag;, score=nan total time=   0.0s\n",
      "[CV 3/3] END ......C=0.01, penalty=l1, solver=sag;, score=nan total time=   0.0s\n",
      "[CV 1/3] END ...C=0.01, penalty=l1, solver=saga;, score=0.957 total time=   0.0s\n",
      "[CV 2/3] END ...C=0.01, penalty=l1, solver=saga;, score=0.952 total time=   0.0s\n",
      "[CV 3/3] END ...C=0.01, penalty=l1, solver=saga;, score=0.958 total time=   0.0s\n",
      "[CV 1/3] END C=0.01, penalty=l2, solver=newton-cg;, score=0.954 total time=   0.0s\n",
      "[CV 2/3] END C=0.01, penalty=l2, solver=newton-cg;, score=0.954 total time=   0.0s\n",
      "[CV 3/3] END C=0.01, penalty=l2, solver=newton-cg;, score=0.956 total time=   0.0s\n",
      "[CV 1/3] END ..C=0.01, penalty=l2, solver=lbfgs;, score=0.954 total time=   0.0s\n",
      "[CV 2/3] END ..C=0.01, penalty=l2, solver=lbfgs;, score=0.954 total time=   0.0s\n",
      "[CV 3/3] END ..C=0.01, penalty=l2, solver=lbfgs;, score=0.956 total time=   0.0s\n",
      "[CV 1/3] END C=0.01, penalty=l2, solver=liblinear;, score=0.949 total time=   0.0s\n",
      "[CV 2/3] END C=0.01, penalty=l2, solver=liblinear;, score=0.940 total time=   0.0s\n",
      "[CV 3/3] END C=0.01, penalty=l2, solver=liblinear;, score=0.950 total time=   0.0s\n",
      "[CV 1/3] END ....C=0.01, penalty=l2, solver=sag;, score=0.954 total time=   0.0s\n",
      "[CV 2/3] END ....C=0.01, penalty=l2, solver=sag;, score=0.954 total time=   0.0s\n",
      "[CV 3/3] END ....C=0.01, penalty=l2, solver=sag;, score=0.956 total time=   0.0s\n",
      "[CV 1/3] END ...C=0.01, penalty=l2, solver=saga;, score=0.954 total time=   0.0s\n",
      "[CV 2/3] END ...C=0.01, penalty=l2, solver=saga;, score=0.954 total time=   0.0s\n",
      "[CV 3/3] END ...C=0.01, penalty=l2, solver=saga;, score=0.956 total time=   0.0s\n",
      "[CV 1/3] END C=0.01, penalty=elasticnet, solver=newton-cg;, score=nan total time=   0.0s\n",
      "[CV 2/3] END C=0.01, penalty=elasticnet, solver=newton-cg;, score=nan total time=   0.0s\n",
      "[CV 3/3] END C=0.01, penalty=elasticnet, solver=newton-cg;, score=nan total time=   0.0s\n",
      "[CV 1/3] END C=0.01, penalty=elasticnet, solver=lbfgs;, score=nan total time=   0.0s\n",
      "[CV 2/3] END C=0.01, penalty=elasticnet, solver=lbfgs;, score=nan total time=   0.0s\n",
      "[CV 3/3] END C=0.01, penalty=elasticnet, solver=lbfgs;, score=nan total time=   0.0s\n",
      "[CV 1/3] END C=0.01, penalty=elasticnet, solver=liblinear;, score=nan total time=   0.0s\n",
      "[CV 2/3] END C=0.01, penalty=elasticnet, solver=liblinear;, score=nan total time=   0.0s\n",
      "[CV 3/3] END C=0.01, penalty=elasticnet, solver=liblinear;, score=nan total time=   0.0s\n",
      "[CV 1/3] END C=0.01, penalty=elasticnet, solver=sag;, score=nan total time=   0.0s\n",
      "[CV 2/3] END C=0.01, penalty=elasticnet, solver=sag;, score=nan total time=   0.0s\n",
      "[CV 3/3] END C=0.01, penalty=elasticnet, solver=sag;, score=nan total time=   0.0s\n",
      "[CV 1/3] END C=0.01, penalty=elasticnet, solver=saga;, score=nan total time=   0.0s\n",
      "[CV 2/3] END C=0.01, penalty=elasticnet, solver=saga;, score=nan total time=   0.0s\n",
      "[CV 3/3] END C=0.01, penalty=elasticnet, solver=saga;, score=nan total time=   0.0s\n",
      "[CV 1/3] END C=0.01, penalty=none, solver=newton-cg;, score=0.976 total time=   0.0s\n",
      "[CV 2/3] END C=0.01, penalty=none, solver=newton-cg;, score=0.978 total time=   0.0s\n",
      "[CV 3/3] END C=0.01, penalty=none, solver=newton-cg;, score=0.975 total time=   0.0s\n",
      "[CV 1/3] END C=0.01, penalty=none, solver=lbfgs;, score=0.976 total time=   0.0s\n",
      "[CV 2/3] END C=0.01, penalty=none, solver=lbfgs;, score=0.978 total time=   0.0s\n"
     ]
    },
    {
     "name": "stderr",
     "output_type": "stream",
     "text": [
      "c:\\Users\\harsh\\anaconda3\\Lib\\site-packages\\sklearn\\linear_model\\_logistic.py:1183: FutureWarning: `penalty='none'`has been deprecated in 1.2 and will be removed in 1.4. To keep the past behaviour, set `penalty=None`.\n",
      "  warnings.warn(\n",
      "c:\\Users\\harsh\\anaconda3\\Lib\\site-packages\\sklearn\\linear_model\\_logistic.py:1193: UserWarning: Setting penalty=None will ignore the C and l1_ratio parameters\n",
      "  warnings.warn(\n",
      "c:\\Users\\harsh\\anaconda3\\Lib\\site-packages\\sklearn\\linear_model\\_logistic.py:1183: FutureWarning: `penalty='none'`has been deprecated in 1.2 and will be removed in 1.4. To keep the past behaviour, set `penalty=None`.\n",
      "  warnings.warn(\n",
      "c:\\Users\\harsh\\anaconda3\\Lib\\site-packages\\sklearn\\linear_model\\_logistic.py:1193: UserWarning: Setting penalty=None will ignore the C and l1_ratio parameters\n",
      "  warnings.warn(\n",
      "c:\\Users\\harsh\\anaconda3\\Lib\\site-packages\\sklearn\\linear_model\\_logistic.py:1183: FutureWarning: `penalty='none'`has been deprecated in 1.2 and will be removed in 1.4. To keep the past behaviour, set `penalty=None`.\n",
      "  warnings.warn(\n",
      "c:\\Users\\harsh\\anaconda3\\Lib\\site-packages\\sklearn\\linear_model\\_logistic.py:1193: UserWarning: Setting penalty=None will ignore the C and l1_ratio parameters\n",
      "  warnings.warn(\n",
      "c:\\Users\\harsh\\anaconda3\\Lib\\site-packages\\sklearn\\linear_model\\_logistic.py:1183: FutureWarning: `penalty='none'`has been deprecated in 1.2 and will be removed in 1.4. To keep the past behaviour, set `penalty=None`.\n",
      "  warnings.warn(\n",
      "c:\\Users\\harsh\\anaconda3\\Lib\\site-packages\\sklearn\\linear_model\\_logistic.py:1193: UserWarning: Setting penalty=None will ignore the C and l1_ratio parameters\n",
      "  warnings.warn(\n",
      "c:\\Users\\harsh\\anaconda3\\Lib\\site-packages\\sklearn\\linear_model\\_logistic.py:1183: FutureWarning: `penalty='none'`has been deprecated in 1.2 and will be removed in 1.4. To keep the past behaviour, set `penalty=None`.\n",
      "  warnings.warn(\n",
      "c:\\Users\\harsh\\anaconda3\\Lib\\site-packages\\sklearn\\linear_model\\_logistic.py:1193: UserWarning: Setting penalty=None will ignore the C and l1_ratio parameters\n",
      "  warnings.warn(\n",
      "c:\\Users\\harsh\\anaconda3\\Lib\\site-packages\\sklearn\\linear_model\\_logistic.py:1183: FutureWarning: `penalty='none'`has been deprecated in 1.2 and will be removed in 1.4. To keep the past behaviour, set `penalty=None`.\n",
      "  warnings.warn(\n",
      "c:\\Users\\harsh\\anaconda3\\Lib\\site-packages\\sklearn\\linear_model\\_logistic.py:1193: UserWarning: Setting penalty=None will ignore the C and l1_ratio parameters\n",
      "  warnings.warn(\n"
     ]
    },
    {
     "name": "stdout",
     "output_type": "stream",
     "text": [
      "[CV 3/3] END C=0.01, penalty=none, solver=lbfgs;, score=0.975 total time=   0.0s\n",
      "[CV 1/3] END C=0.01, penalty=none, solver=liblinear;, score=nan total time=   0.0s\n",
      "[CV 2/3] END C=0.01, penalty=none, solver=liblinear;, score=nan total time=   0.0s\n",
      "[CV 3/3] END C=0.01, penalty=none, solver=liblinear;, score=nan total time=   0.0s\n",
      "[CV 1/3] END ..C=0.01, penalty=none, solver=sag;, score=0.975 total time=   0.0s\n",
      "[CV 2/3] END ..C=0.01, penalty=none, solver=sag;, score=0.976 total time=   0.0s\n"
     ]
    },
    {
     "name": "stderr",
     "output_type": "stream",
     "text": [
      "c:\\Users\\harsh\\anaconda3\\Lib\\site-packages\\sklearn\\linear_model\\_logistic.py:1183: FutureWarning: `penalty='none'`has been deprecated in 1.2 and will be removed in 1.4. To keep the past behaviour, set `penalty=None`.\n",
      "  warnings.warn(\n",
      "c:\\Users\\harsh\\anaconda3\\Lib\\site-packages\\sklearn\\linear_model\\_logistic.py:1193: UserWarning: Setting penalty=None will ignore the C and l1_ratio parameters\n",
      "  warnings.warn(\n",
      "c:\\Users\\harsh\\anaconda3\\Lib\\site-packages\\sklearn\\linear_model\\_sag.py:350: ConvergenceWarning: The max_iter was reached which means the coef_ did not converge\n",
      "  warnings.warn(\n",
      "c:\\Users\\harsh\\anaconda3\\Lib\\site-packages\\sklearn\\linear_model\\_logistic.py:1183: FutureWarning: `penalty='none'`has been deprecated in 1.2 and will be removed in 1.4. To keep the past behaviour, set `penalty=None`.\n",
      "  warnings.warn(\n",
      "c:\\Users\\harsh\\anaconda3\\Lib\\site-packages\\sklearn\\linear_model\\_logistic.py:1193: UserWarning: Setting penalty=None will ignore the C and l1_ratio parameters\n",
      "  warnings.warn(\n",
      "c:\\Users\\harsh\\anaconda3\\Lib\\site-packages\\sklearn\\linear_model\\_sag.py:350: ConvergenceWarning: The max_iter was reached which means the coef_ did not converge\n",
      "  warnings.warn(\n",
      "c:\\Users\\harsh\\anaconda3\\Lib\\site-packages\\sklearn\\linear_model\\_logistic.py:1183: FutureWarning: `penalty='none'`has been deprecated in 1.2 and will be removed in 1.4. To keep the past behaviour, set `penalty=None`.\n",
      "  warnings.warn(\n",
      "c:\\Users\\harsh\\anaconda3\\Lib\\site-packages\\sklearn\\linear_model\\_logistic.py:1193: UserWarning: Setting penalty=None will ignore the C and l1_ratio parameters\n",
      "  warnings.warn(\n",
      "c:\\Users\\harsh\\anaconda3\\Lib\\site-packages\\sklearn\\linear_model\\_sag.py:350: ConvergenceWarning: The max_iter was reached which means the coef_ did not converge\n",
      "  warnings.warn(\n",
      "c:\\Users\\harsh\\anaconda3\\Lib\\site-packages\\sklearn\\linear_model\\_logistic.py:1183: FutureWarning: `penalty='none'`has been deprecated in 1.2 and will be removed in 1.4. To keep the past behaviour, set `penalty=None`.\n",
      "  warnings.warn(\n",
      "c:\\Users\\harsh\\anaconda3\\Lib\\site-packages\\sklearn\\linear_model\\_logistic.py:1193: UserWarning: Setting penalty=None will ignore the C and l1_ratio parameters\n",
      "  warnings.warn(\n",
      "c:\\Users\\harsh\\anaconda3\\Lib\\site-packages\\sklearn\\linear_model\\_sag.py:350: ConvergenceWarning: The max_iter was reached which means the coef_ did not converge\n",
      "  warnings.warn(\n",
      "c:\\Users\\harsh\\anaconda3\\Lib\\site-packages\\sklearn\\linear_model\\_logistic.py:1183: FutureWarning: `penalty='none'`has been deprecated in 1.2 and will be removed in 1.4. To keep the past behaviour, set `penalty=None`.\n",
      "  warnings.warn(\n",
      "c:\\Users\\harsh\\anaconda3\\Lib\\site-packages\\sklearn\\linear_model\\_logistic.py:1193: UserWarning: Setting penalty=None will ignore the C and l1_ratio parameters\n",
      "  warnings.warn(\n",
      "c:\\Users\\harsh\\anaconda3\\Lib\\site-packages\\sklearn\\linear_model\\_sag.py:350: ConvergenceWarning: The max_iter was reached which means the coef_ did not converge\n",
      "  warnings.warn(\n",
      "c:\\Users\\harsh\\anaconda3\\Lib\\site-packages\\sklearn\\linear_model\\_logistic.py:1183: FutureWarning: `penalty='none'`has been deprecated in 1.2 and will be removed in 1.4. To keep the past behaviour, set `penalty=None`.\n",
      "  warnings.warn(\n",
      "c:\\Users\\harsh\\anaconda3\\Lib\\site-packages\\sklearn\\linear_model\\_logistic.py:1193: UserWarning: Setting penalty=None will ignore the C and l1_ratio parameters\n",
      "  warnings.warn(\n"
     ]
    },
    {
     "name": "stdout",
     "output_type": "stream",
     "text": [
      "[CV 3/3] END ..C=0.01, penalty=none, solver=sag;, score=0.974 total time=   0.0s\n",
      "[CV 1/3] END .C=0.01, penalty=none, solver=saga;, score=0.976 total time=   0.0s\n",
      "[CV 2/3] END .C=0.01, penalty=none, solver=saga;, score=0.975 total time=   0.0s\n"
     ]
    },
    {
     "name": "stderr",
     "output_type": "stream",
     "text": [
      "c:\\Users\\harsh\\anaconda3\\Lib\\site-packages\\sklearn\\linear_model\\_sag.py:350: ConvergenceWarning: The max_iter was reached which means the coef_ did not converge\n",
      "  warnings.warn(\n"
     ]
    },
    {
     "name": "stdout",
     "output_type": "stream",
     "text": [
      "[CV 3/3] END .C=0.01, penalty=none, solver=saga;, score=0.972 total time=   0.0s\n",
      "[CV 1/3] END .C=0.1, penalty=l1, solver=newton-cg;, score=nan total time=   0.0s\n",
      "[CV 2/3] END .C=0.1, penalty=l1, solver=newton-cg;, score=nan total time=   0.0s\n",
      "[CV 3/3] END .C=0.1, penalty=l1, solver=newton-cg;, score=nan total time=   0.0s\n",
      "[CV 1/3] END .....C=0.1, penalty=l1, solver=lbfgs;, score=nan total time=   0.0s\n",
      "[CV 2/3] END .....C=0.1, penalty=l1, solver=lbfgs;, score=nan total time=   0.0s\n",
      "[CV 3/3] END .....C=0.1, penalty=l1, solver=lbfgs;, score=nan total time=   0.0s\n",
      "[CV 1/3] END C=0.1, penalty=l1, solver=liblinear;, score=0.976 total time=   0.0s\n",
      "[CV 2/3] END C=0.1, penalty=l1, solver=liblinear;, score=0.975 total time=   0.0s\n",
      "[CV 3/3] END C=0.1, penalty=l1, solver=liblinear;, score=0.974 total time=   0.0s\n",
      "[CV 1/3] END .......C=0.1, penalty=l1, solver=sag;, score=nan total time=   0.0s\n",
      "[CV 2/3] END .......C=0.1, penalty=l1, solver=sag;, score=nan total time=   0.0s\n",
      "[CV 3/3] END .......C=0.1, penalty=l1, solver=sag;, score=nan total time=   0.0s\n"
     ]
    },
    {
     "name": "stderr",
     "output_type": "stream",
     "text": [
      "c:\\Users\\harsh\\anaconda3\\Lib\\site-packages\\sklearn\\linear_model\\_sag.py:350: ConvergenceWarning: The max_iter was reached which means the coef_ did not converge\n",
      "  warnings.warn(\n",
      "c:\\Users\\harsh\\anaconda3\\Lib\\site-packages\\sklearn\\linear_model\\_sag.py:350: ConvergenceWarning: The max_iter was reached which means the coef_ did not converge\n",
      "  warnings.warn(\n"
     ]
    },
    {
     "name": "stdout",
     "output_type": "stream",
     "text": [
      "[CV 1/3] END ....C=0.1, penalty=l1, solver=saga;, score=0.975 total time=   0.0s\n",
      "[CV 2/3] END ....C=0.1, penalty=l1, solver=saga;, score=0.971 total time=   0.0s\n"
     ]
    },
    {
     "name": "stderr",
     "output_type": "stream",
     "text": [
      "c:\\Users\\harsh\\anaconda3\\Lib\\site-packages\\sklearn\\linear_model\\_sag.py:350: ConvergenceWarning: The max_iter was reached which means the coef_ did not converge\n",
      "  warnings.warn(\n"
     ]
    },
    {
     "name": "stdout",
     "output_type": "stream",
     "text": [
      "[CV 3/3] END ....C=0.1, penalty=l1, solver=saga;, score=0.971 total time=   0.0s\n",
      "[CV 1/3] END C=0.1, penalty=l2, solver=newton-cg;, score=0.972 total time=   0.0s\n",
      "[CV 2/3] END C=0.1, penalty=l2, solver=newton-cg;, score=0.970 total time=   0.0s\n",
      "[CV 3/3] END C=0.1, penalty=l2, solver=newton-cg;, score=0.970 total time=   0.0s\n",
      "[CV 1/3] END ...C=0.1, penalty=l2, solver=lbfgs;, score=0.972 total time=   0.0s\n",
      "[CV 2/3] END ...C=0.1, penalty=l2, solver=lbfgs;, score=0.970 total time=   0.0s\n",
      "[CV 3/3] END ...C=0.1, penalty=l2, solver=lbfgs;, score=0.970 total time=   0.0s\n",
      "[CV 1/3] END C=0.1, penalty=l2, solver=liblinear;, score=0.967 total time=   0.0s\n",
      "[CV 2/3] END C=0.1, penalty=l2, solver=liblinear;, score=0.966 total time=   0.0s\n",
      "[CV 3/3] END C=0.1, penalty=l2, solver=liblinear;, score=0.967 total time=   0.0s\n",
      "[CV 1/3] END .....C=0.1, penalty=l2, solver=sag;, score=0.972 total time=   0.0s\n",
      "[CV 2/3] END .....C=0.1, penalty=l2, solver=sag;, score=0.970 total time=   0.0s\n"
     ]
    },
    {
     "name": "stderr",
     "output_type": "stream",
     "text": [
      "c:\\Users\\harsh\\anaconda3\\Lib\\site-packages\\sklearn\\linear_model\\_sag.py:350: ConvergenceWarning: The max_iter was reached which means the coef_ did not converge\n",
      "  warnings.warn(\n",
      "c:\\Users\\harsh\\anaconda3\\Lib\\site-packages\\sklearn\\linear_model\\_sag.py:350: ConvergenceWarning: The max_iter was reached which means the coef_ did not converge\n",
      "  warnings.warn(\n",
      "c:\\Users\\harsh\\anaconda3\\Lib\\site-packages\\sklearn\\linear_model\\_sag.py:350: ConvergenceWarning: The max_iter was reached which means the coef_ did not converge\n",
      "  warnings.warn(\n"
     ]
    },
    {
     "name": "stdout",
     "output_type": "stream",
     "text": [
      "[CV 3/3] END .....C=0.1, penalty=l2, solver=sag;, score=0.970 total time=   0.0s\n",
      "[CV 1/3] END ....C=0.1, penalty=l2, solver=saga;, score=0.972 total time=   0.0s\n",
      "[CV 2/3] END ....C=0.1, penalty=l2, solver=saga;, score=0.969 total time=   0.0s\n"
     ]
    },
    {
     "name": "stderr",
     "output_type": "stream",
     "text": [
      "c:\\Users\\harsh\\anaconda3\\Lib\\site-packages\\sklearn\\linear_model\\_sag.py:350: ConvergenceWarning: The max_iter was reached which means the coef_ did not converge\n",
      "  warnings.warn(\n",
      "c:\\Users\\harsh\\anaconda3\\Lib\\site-packages\\sklearn\\linear_model\\_sag.py:350: ConvergenceWarning: The max_iter was reached which means the coef_ did not converge\n",
      "  warnings.warn(\n",
      "c:\\Users\\harsh\\anaconda3\\Lib\\site-packages\\sklearn\\linear_model\\_logistic.py:1183: FutureWarning: `penalty='none'`has been deprecated in 1.2 and will be removed in 1.4. To keep the past behaviour, set `penalty=None`.\n",
      "  warnings.warn(\n",
      "c:\\Users\\harsh\\anaconda3\\Lib\\site-packages\\sklearn\\linear_model\\_logistic.py:1193: UserWarning: Setting penalty=None will ignore the C and l1_ratio parameters\n",
      "  warnings.warn(\n",
      "c:\\Users\\harsh\\anaconda3\\Lib\\site-packages\\sklearn\\linear_model\\_logistic.py:1183: FutureWarning: `penalty='none'`has been deprecated in 1.2 and will be removed in 1.4. To keep the past behaviour, set `penalty=None`.\n",
      "  warnings.warn(\n",
      "c:\\Users\\harsh\\anaconda3\\Lib\\site-packages\\sklearn\\linear_model\\_logistic.py:1193: UserWarning: Setting penalty=None will ignore the C and l1_ratio parameters\n",
      "  warnings.warn(\n"
     ]
    },
    {
     "name": "stdout",
     "output_type": "stream",
     "text": [
      "[CV 3/3] END ....C=0.1, penalty=l2, solver=saga;, score=0.970 total time=   0.0s\n",
      "[CV 1/3] END C=0.1, penalty=elasticnet, solver=newton-cg;, score=nan total time=   0.0s\n",
      "[CV 2/3] END C=0.1, penalty=elasticnet, solver=newton-cg;, score=nan total time=   0.0s\n",
      "[CV 3/3] END C=0.1, penalty=elasticnet, solver=newton-cg;, score=nan total time=   0.0s\n",
      "[CV 1/3] END C=0.1, penalty=elasticnet, solver=lbfgs;, score=nan total time=   0.0s\n",
      "[CV 2/3] END C=0.1, penalty=elasticnet, solver=lbfgs;, score=nan total time=   0.0s\n",
      "[CV 3/3] END C=0.1, penalty=elasticnet, solver=lbfgs;, score=nan total time=   0.0s\n",
      "[CV 1/3] END C=0.1, penalty=elasticnet, solver=liblinear;, score=nan total time=   0.0s\n",
      "[CV 2/3] END C=0.1, penalty=elasticnet, solver=liblinear;, score=nan total time=   0.0s\n",
      "[CV 3/3] END C=0.1, penalty=elasticnet, solver=liblinear;, score=nan total time=   0.0s\n",
      "[CV 1/3] END C=0.1, penalty=elasticnet, solver=sag;, score=nan total time=   0.0s\n",
      "[CV 2/3] END C=0.1, penalty=elasticnet, solver=sag;, score=nan total time=   0.0s\n",
      "[CV 3/3] END C=0.1, penalty=elasticnet, solver=sag;, score=nan total time=   0.0s\n",
      "[CV 1/3] END C=0.1, penalty=elasticnet, solver=saga;, score=nan total time=   0.0s\n",
      "[CV 2/3] END C=0.1, penalty=elasticnet, solver=saga;, score=nan total time=   0.0s\n",
      "[CV 3/3] END C=0.1, penalty=elasticnet, solver=saga;, score=nan total time=   0.0s\n",
      "[CV 1/3] END C=0.1, penalty=none, solver=newton-cg;, score=0.976 total time=   0.0s\n",
      "[CV 2/3] END C=0.1, penalty=none, solver=newton-cg;, score=0.978 total time=   0.0s\n",
      "[CV 3/3] END C=0.1, penalty=none, solver=newton-cg;, score=0.975 total time=   0.0s\n",
      "[CV 1/3] END .C=0.1, penalty=none, solver=lbfgs;, score=0.976 total time=   0.0s\n",
      "[CV 2/3] END .C=0.1, penalty=none, solver=lbfgs;, score=0.978 total time=   0.0s\n"
     ]
    },
    {
     "name": "stderr",
     "output_type": "stream",
     "text": [
      "c:\\Users\\harsh\\anaconda3\\Lib\\site-packages\\sklearn\\linear_model\\_logistic.py:1183: FutureWarning: `penalty='none'`has been deprecated in 1.2 and will be removed in 1.4. To keep the past behaviour, set `penalty=None`.\n",
      "  warnings.warn(\n",
      "c:\\Users\\harsh\\anaconda3\\Lib\\site-packages\\sklearn\\linear_model\\_logistic.py:1193: UserWarning: Setting penalty=None will ignore the C and l1_ratio parameters\n",
      "  warnings.warn(\n",
      "c:\\Users\\harsh\\anaconda3\\Lib\\site-packages\\sklearn\\linear_model\\_logistic.py:1183: FutureWarning: `penalty='none'`has been deprecated in 1.2 and will be removed in 1.4. To keep the past behaviour, set `penalty=None`.\n",
      "  warnings.warn(\n",
      "c:\\Users\\harsh\\anaconda3\\Lib\\site-packages\\sklearn\\linear_model\\_logistic.py:1193: UserWarning: Setting penalty=None will ignore the C and l1_ratio parameters\n",
      "  warnings.warn(\n",
      "c:\\Users\\harsh\\anaconda3\\Lib\\site-packages\\sklearn\\linear_model\\_logistic.py:1183: FutureWarning: `penalty='none'`has been deprecated in 1.2 and will be removed in 1.4. To keep the past behaviour, set `penalty=None`.\n",
      "  warnings.warn(\n",
      "c:\\Users\\harsh\\anaconda3\\Lib\\site-packages\\sklearn\\linear_model\\_logistic.py:1193: UserWarning: Setting penalty=None will ignore the C and l1_ratio parameters\n",
      "  warnings.warn(\n",
      "c:\\Users\\harsh\\anaconda3\\Lib\\site-packages\\sklearn\\linear_model\\_logistic.py:1183: FutureWarning: `penalty='none'`has been deprecated in 1.2 and will be removed in 1.4. To keep the past behaviour, set `penalty=None`.\n",
      "  warnings.warn(\n",
      "c:\\Users\\harsh\\anaconda3\\Lib\\site-packages\\sklearn\\linear_model\\_logistic.py:1193: UserWarning: Setting penalty=None will ignore the C and l1_ratio parameters\n",
      "  warnings.warn(\n",
      "c:\\Users\\harsh\\anaconda3\\Lib\\site-packages\\sklearn\\linear_model\\_logistic.py:1183: FutureWarning: `penalty='none'`has been deprecated in 1.2 and will be removed in 1.4. To keep the past behaviour, set `penalty=None`.\n",
      "  warnings.warn(\n",
      "c:\\Users\\harsh\\anaconda3\\Lib\\site-packages\\sklearn\\linear_model\\_logistic.py:1193: UserWarning: Setting penalty=None will ignore the C and l1_ratio parameters\n",
      "  warnings.warn(\n"
     ]
    },
    {
     "name": "stdout",
     "output_type": "stream",
     "text": [
      "[CV 3/3] END .C=0.1, penalty=none, solver=lbfgs;, score=0.975 total time=   0.0s\n",
      "[CV 1/3] END C=0.1, penalty=none, solver=liblinear;, score=nan total time=   0.0s\n",
      "[CV 2/3] END C=0.1, penalty=none, solver=liblinear;, score=nan total time=   0.0s\n",
      "[CV 3/3] END C=0.1, penalty=none, solver=liblinear;, score=nan total time=   0.0s\n",
      "[CV 1/3] END ...C=0.1, penalty=none, solver=sag;, score=0.975 total time=   0.0s\n",
      "[CV 2/3] END ...C=0.1, penalty=none, solver=sag;, score=0.976 total time=   0.0s\n"
     ]
    },
    {
     "name": "stderr",
     "output_type": "stream",
     "text": [
      "c:\\Users\\harsh\\anaconda3\\Lib\\site-packages\\sklearn\\linear_model\\_sag.py:350: ConvergenceWarning: The max_iter was reached which means the coef_ did not converge\n",
      "  warnings.warn(\n",
      "c:\\Users\\harsh\\anaconda3\\Lib\\site-packages\\sklearn\\linear_model\\_logistic.py:1183: FutureWarning: `penalty='none'`has been deprecated in 1.2 and will be removed in 1.4. To keep the past behaviour, set `penalty=None`.\n",
      "  warnings.warn(\n",
      "c:\\Users\\harsh\\anaconda3\\Lib\\site-packages\\sklearn\\linear_model\\_logistic.py:1193: UserWarning: Setting penalty=None will ignore the C and l1_ratio parameters\n",
      "  warnings.warn(\n",
      "c:\\Users\\harsh\\anaconda3\\Lib\\site-packages\\sklearn\\linear_model\\_sag.py:350: ConvergenceWarning: The max_iter was reached which means the coef_ did not converge\n",
      "  warnings.warn(\n",
      "c:\\Users\\harsh\\anaconda3\\Lib\\site-packages\\sklearn\\linear_model\\_logistic.py:1183: FutureWarning: `penalty='none'`has been deprecated in 1.2 and will be removed in 1.4. To keep the past behaviour, set `penalty=None`.\n",
      "  warnings.warn(\n",
      "c:\\Users\\harsh\\anaconda3\\Lib\\site-packages\\sklearn\\linear_model\\_logistic.py:1193: UserWarning: Setting penalty=None will ignore the C and l1_ratio parameters\n",
      "  warnings.warn(\n",
      "c:\\Users\\harsh\\anaconda3\\Lib\\site-packages\\sklearn\\linear_model\\_sag.py:350: ConvergenceWarning: The max_iter was reached which means the coef_ did not converge\n",
      "  warnings.warn(\n",
      "c:\\Users\\harsh\\anaconda3\\Lib\\site-packages\\sklearn\\linear_model\\_logistic.py:1183: FutureWarning: `penalty='none'`has been deprecated in 1.2 and will be removed in 1.4. To keep the past behaviour, set `penalty=None`.\n",
      "  warnings.warn(\n",
      "c:\\Users\\harsh\\anaconda3\\Lib\\site-packages\\sklearn\\linear_model\\_logistic.py:1193: UserWarning: Setting penalty=None will ignore the C and l1_ratio parameters\n",
      "  warnings.warn(\n"
     ]
    },
    {
     "name": "stdout",
     "output_type": "stream",
     "text": [
      "[CV 3/3] END ...C=0.1, penalty=none, solver=sag;, score=0.974 total time=   0.0s\n",
      "[CV 1/3] END ..C=0.1, penalty=none, solver=saga;, score=0.976 total time=   0.0s\n",
      "[CV 2/3] END ..C=0.1, penalty=none, solver=saga;, score=0.975 total time=   0.0s\n"
     ]
    },
    {
     "name": "stderr",
     "output_type": "stream",
     "text": [
      "c:\\Users\\harsh\\anaconda3\\Lib\\site-packages\\sklearn\\linear_model\\_sag.py:350: ConvergenceWarning: The max_iter was reached which means the coef_ did not converge\n",
      "  warnings.warn(\n",
      "c:\\Users\\harsh\\anaconda3\\Lib\\site-packages\\sklearn\\linear_model\\_logistic.py:1183: FutureWarning: `penalty='none'`has been deprecated in 1.2 and will be removed in 1.4. To keep the past behaviour, set `penalty=None`.\n",
      "  warnings.warn(\n",
      "c:\\Users\\harsh\\anaconda3\\Lib\\site-packages\\sklearn\\linear_model\\_logistic.py:1193: UserWarning: Setting penalty=None will ignore the C and l1_ratio parameters\n",
      "  warnings.warn(\n",
      "c:\\Users\\harsh\\anaconda3\\Lib\\site-packages\\sklearn\\linear_model\\_sag.py:350: ConvergenceWarning: The max_iter was reached which means the coef_ did not converge\n",
      "  warnings.warn(\n",
      "c:\\Users\\harsh\\anaconda3\\Lib\\site-packages\\sklearn\\linear_model\\_logistic.py:1183: FutureWarning: `penalty='none'`has been deprecated in 1.2 and will be removed in 1.4. To keep the past behaviour, set `penalty=None`.\n",
      "  warnings.warn(\n",
      "c:\\Users\\harsh\\anaconda3\\Lib\\site-packages\\sklearn\\linear_model\\_logistic.py:1193: UserWarning: Setting penalty=None will ignore the C and l1_ratio parameters\n",
      "  warnings.warn(\n",
      "c:\\Users\\harsh\\anaconda3\\Lib\\site-packages\\sklearn\\linear_model\\_sag.py:350: ConvergenceWarning: The max_iter was reached which means the coef_ did not converge\n",
      "  warnings.warn(\n"
     ]
    },
    {
     "name": "stdout",
     "output_type": "stream",
     "text": [
      "[CV 3/3] END ..C=0.1, penalty=none, solver=saga;, score=0.972 total time=   0.0s\n",
      "[CV 1/3] END ...C=1, penalty=l1, solver=newton-cg;, score=nan total time=   0.0s\n",
      "[CV 2/3] END ...C=1, penalty=l1, solver=newton-cg;, score=nan total time=   0.0s\n",
      "[CV 3/3] END ...C=1, penalty=l1, solver=newton-cg;, score=nan total time=   0.0s\n",
      "[CV 1/3] END .......C=1, penalty=l1, solver=lbfgs;, score=nan total time=   0.0s\n",
      "[CV 2/3] END .......C=1, penalty=l1, solver=lbfgs;, score=nan total time=   0.0s\n",
      "[CV 3/3] END .......C=1, penalty=l1, solver=lbfgs;, score=nan total time=   0.0s\n",
      "[CV 1/3] END .C=1, penalty=l1, solver=liblinear;, score=0.976 total time=   0.0s\n",
      "[CV 2/3] END .C=1, penalty=l1, solver=liblinear;, score=0.979 total time=   0.0s\n",
      "[CV 3/3] END .C=1, penalty=l1, solver=liblinear;, score=0.975 total time=   0.0s\n",
      "[CV 1/3] END .........C=1, penalty=l1, solver=sag;, score=nan total time=   0.0s\n",
      "[CV 2/3] END .........C=1, penalty=l1, solver=sag;, score=nan total time=   0.0s\n",
      "[CV 3/3] END .........C=1, penalty=l1, solver=sag;, score=nan total time=   0.0s\n",
      "[CV 1/3] END ......C=1, penalty=l1, solver=saga;, score=0.976 total time=   0.0s\n"
     ]
    },
    {
     "name": "stderr",
     "output_type": "stream",
     "text": [
      "c:\\Users\\harsh\\anaconda3\\Lib\\site-packages\\sklearn\\linear_model\\_sag.py:350: ConvergenceWarning: The max_iter was reached which means the coef_ did not converge\n",
      "  warnings.warn(\n",
      "c:\\Users\\harsh\\anaconda3\\Lib\\site-packages\\sklearn\\linear_model\\_sag.py:350: ConvergenceWarning: The max_iter was reached which means the coef_ did not converge\n",
      "  warnings.warn(\n"
     ]
    },
    {
     "name": "stdout",
     "output_type": "stream",
     "text": [
      "[CV 2/3] END ......C=1, penalty=l1, solver=saga;, score=0.975 total time=   0.0s\n",
      "[CV 3/3] END ......C=1, penalty=l1, solver=saga;, score=0.972 total time=   0.0s\n",
      "[CV 1/3] END .C=1, penalty=l2, solver=newton-cg;, score=0.975 total time=   0.0s\n",
      "[CV 2/3] END .C=1, penalty=l2, solver=newton-cg;, score=0.978 total time=   0.0s\n"
     ]
    },
    {
     "name": "stderr",
     "output_type": "stream",
     "text": [
      "c:\\Users\\harsh\\anaconda3\\Lib\\site-packages\\sklearn\\linear_model\\_sag.py:350: ConvergenceWarning: The max_iter was reached which means the coef_ did not converge\n",
      "  warnings.warn(\n"
     ]
    },
    {
     "name": "stdout",
     "output_type": "stream",
     "text": [
      "[CV 3/3] END .C=1, penalty=l2, solver=newton-cg;, score=0.975 total time=   0.0s\n",
      "[CV 1/3] END .....C=1, penalty=l2, solver=lbfgs;, score=0.975 total time=   0.0s\n",
      "[CV 2/3] END .....C=1, penalty=l2, solver=lbfgs;, score=0.978 total time=   0.0s\n",
      "[CV 3/3] END .....C=1, penalty=l2, solver=lbfgs;, score=0.975 total time=   0.0s\n",
      "[CV 1/3] END .C=1, penalty=l2, solver=liblinear;, score=0.976 total time=   0.0s\n",
      "[CV 2/3] END .C=1, penalty=l2, solver=liblinear;, score=0.976 total time=   0.0s\n",
      "[CV 3/3] END .C=1, penalty=l2, solver=liblinear;, score=0.975 total time=   0.0s\n"
     ]
    },
    {
     "name": "stderr",
     "output_type": "stream",
     "text": [
      "c:\\Users\\harsh\\anaconda3\\Lib\\site-packages\\sklearn\\linear_model\\_sag.py:350: ConvergenceWarning: The max_iter was reached which means the coef_ did not converge\n",
      "  warnings.warn(\n",
      "c:\\Users\\harsh\\anaconda3\\Lib\\site-packages\\sklearn\\linear_model\\_sag.py:350: ConvergenceWarning: The max_iter was reached which means the coef_ did not converge\n",
      "  warnings.warn(\n",
      "c:\\Users\\harsh\\anaconda3\\Lib\\site-packages\\sklearn\\linear_model\\_sag.py:350: ConvergenceWarning: The max_iter was reached which means the coef_ did not converge\n",
      "  warnings.warn(\n"
     ]
    },
    {
     "name": "stdout",
     "output_type": "stream",
     "text": [
      "[CV 1/3] END .......C=1, penalty=l2, solver=sag;, score=0.976 total time=   0.0s\n",
      "[CV 2/3] END .......C=1, penalty=l2, solver=sag;, score=0.976 total time=   0.0s\n",
      "[CV 3/3] END .......C=1, penalty=l2, solver=sag;, score=0.973 total time=   0.0s\n"
     ]
    },
    {
     "name": "stderr",
     "output_type": "stream",
     "text": [
      "c:\\Users\\harsh\\anaconda3\\Lib\\site-packages\\sklearn\\linear_model\\_sag.py:350: ConvergenceWarning: The max_iter was reached which means the coef_ did not converge\n",
      "  warnings.warn(\n",
      "c:\\Users\\harsh\\anaconda3\\Lib\\site-packages\\sklearn\\linear_model\\_sag.py:350: ConvergenceWarning: The max_iter was reached which means the coef_ did not converge\n",
      "  warnings.warn(\n",
      "c:\\Users\\harsh\\anaconda3\\Lib\\site-packages\\sklearn\\linear_model\\_sag.py:350: ConvergenceWarning: The max_iter was reached which means the coef_ did not converge\n",
      "  warnings.warn(\n",
      "c:\\Users\\harsh\\anaconda3\\Lib\\site-packages\\sklearn\\linear_model\\_logistic.py:1183: FutureWarning: `penalty='none'`has been deprecated in 1.2 and will be removed in 1.4. To keep the past behaviour, set `penalty=None`.\n",
      "  warnings.warn(\n"
     ]
    },
    {
     "name": "stdout",
     "output_type": "stream",
     "text": [
      "[CV 1/3] END ......C=1, penalty=l2, solver=saga;, score=0.976 total time=   0.0s\n",
      "[CV 2/3] END ......C=1, penalty=l2, solver=saga;, score=0.975 total time=   0.0s\n",
      "[CV 3/3] END ......C=1, penalty=l2, solver=saga;, score=0.972 total time=   0.0s\n",
      "[CV 1/3] END C=1, penalty=elasticnet, solver=newton-cg;, score=nan total time=   0.0s\n",
      "[CV 2/3] END C=1, penalty=elasticnet, solver=newton-cg;, score=nan total time=   0.0s\n",
      "[CV 3/3] END C=1, penalty=elasticnet, solver=newton-cg;, score=nan total time=   0.0s\n",
      "[CV 1/3] END C=1, penalty=elasticnet, solver=lbfgs;, score=nan total time=   0.0s\n",
      "[CV 2/3] END C=1, penalty=elasticnet, solver=lbfgs;, score=nan total time=   0.0s\n",
      "[CV 3/3] END C=1, penalty=elasticnet, solver=lbfgs;, score=nan total time=   0.0s\n",
      "[CV 1/3] END C=1, penalty=elasticnet, solver=liblinear;, score=nan total time=   0.0s\n",
      "[CV 2/3] END C=1, penalty=elasticnet, solver=liblinear;, score=nan total time=   0.0s\n",
      "[CV 3/3] END C=1, penalty=elasticnet, solver=liblinear;, score=nan total time=   0.0s\n",
      "[CV 1/3] END .C=1, penalty=elasticnet, solver=sag;, score=nan total time=   0.0s\n",
      "[CV 2/3] END .C=1, penalty=elasticnet, solver=sag;, score=nan total time=   0.0s\n",
      "[CV 3/3] END .C=1, penalty=elasticnet, solver=sag;, score=nan total time=   0.0s\n",
      "[CV 1/3] END C=1, penalty=elasticnet, solver=saga;, score=nan total time=   0.0s\n",
      "[CV 2/3] END C=1, penalty=elasticnet, solver=saga;, score=nan total time=   0.0s\n",
      "[CV 3/3] END C=1, penalty=elasticnet, solver=saga;, score=nan total time=   0.0s\n",
      "[CV 1/3] END C=1, penalty=none, solver=newton-cg;, score=0.976 total time=   0.0s\n",
      "[CV 2/3] END C=1, penalty=none, solver=newton-cg;, score=0.978 total time=   0.0s\n",
      "[CV 3/3] END C=1, penalty=none, solver=newton-cg;, score=0.975 total time=   0.0s\n",
      "[CV 1/3] END ...C=1, penalty=none, solver=lbfgs;, score=0.976 total time=   0.0s\n",
      "[CV 2/3] END ...C=1, penalty=none, solver=lbfgs;, score=0.978 total time=   0.0s\n",
      "[CV 3/3] END ...C=1, penalty=none, solver=lbfgs;, score=0.975 total time=   0.0s\n",
      "[CV 1/3] END .C=1, penalty=none, solver=liblinear;, score=nan total time=   0.0s\n",
      "[CV 2/3] END .C=1, penalty=none, solver=liblinear;, score=nan total time=   0.0s\n",
      "[CV 3/3] END .C=1, penalty=none, solver=liblinear;, score=nan total time=   0.0s\n"
     ]
    },
    {
     "name": "stderr",
     "output_type": "stream",
     "text": [
      "c:\\Users\\harsh\\anaconda3\\Lib\\site-packages\\sklearn\\linear_model\\_logistic.py:1183: FutureWarning: `penalty='none'`has been deprecated in 1.2 and will be removed in 1.4. To keep the past behaviour, set `penalty=None`.\n",
      "  warnings.warn(\n",
      "c:\\Users\\harsh\\anaconda3\\Lib\\site-packages\\sklearn\\linear_model\\_logistic.py:1183: FutureWarning: `penalty='none'`has been deprecated in 1.2 and will be removed in 1.4. To keep the past behaviour, set `penalty=None`.\n",
      "  warnings.warn(\n",
      "c:\\Users\\harsh\\anaconda3\\Lib\\site-packages\\sklearn\\linear_model\\_logistic.py:1183: FutureWarning: `penalty='none'`has been deprecated in 1.2 and will be removed in 1.4. To keep the past behaviour, set `penalty=None`.\n",
      "  warnings.warn(\n",
      "c:\\Users\\harsh\\anaconda3\\Lib\\site-packages\\sklearn\\linear_model\\_logistic.py:1183: FutureWarning: `penalty='none'`has been deprecated in 1.2 and will be removed in 1.4. To keep the past behaviour, set `penalty=None`.\n",
      "  warnings.warn(\n",
      "c:\\Users\\harsh\\anaconda3\\Lib\\site-packages\\sklearn\\linear_model\\_logistic.py:1183: FutureWarning: `penalty='none'`has been deprecated in 1.2 and will be removed in 1.4. To keep the past behaviour, set `penalty=None`.\n",
      "  warnings.warn(\n",
      "c:\\Users\\harsh\\anaconda3\\Lib\\site-packages\\sklearn\\linear_model\\_logistic.py:1183: FutureWarning: `penalty='none'`has been deprecated in 1.2 and will be removed in 1.4. To keep the past behaviour, set `penalty=None`.\n",
      "  warnings.warn(\n",
      "c:\\Users\\harsh\\anaconda3\\Lib\\site-packages\\sklearn\\linear_model\\_sag.py:350: ConvergenceWarning: The max_iter was reached which means the coef_ did not converge\n",
      "  warnings.warn(\n",
      "c:\\Users\\harsh\\anaconda3\\Lib\\site-packages\\sklearn\\linear_model\\_logistic.py:1183: FutureWarning: `penalty='none'`has been deprecated in 1.2 and will be removed in 1.4. To keep the past behaviour, set `penalty=None`.\n",
      "  warnings.warn(\n",
      "c:\\Users\\harsh\\anaconda3\\Lib\\site-packages\\sklearn\\linear_model\\_sag.py:350: ConvergenceWarning: The max_iter was reached which means the coef_ did not converge\n",
      "  warnings.warn(\n",
      "c:\\Users\\harsh\\anaconda3\\Lib\\site-packages\\sklearn\\linear_model\\_logistic.py:1183: FutureWarning: `penalty='none'`has been deprecated in 1.2 and will be removed in 1.4. To keep the past behaviour, set `penalty=None`.\n",
      "  warnings.warn(\n",
      "c:\\Users\\harsh\\anaconda3\\Lib\\site-packages\\sklearn\\linear_model\\_sag.py:350: ConvergenceWarning: The max_iter was reached which means the coef_ did not converge\n",
      "  warnings.warn(\n",
      "c:\\Users\\harsh\\anaconda3\\Lib\\site-packages\\sklearn\\linear_model\\_logistic.py:1183: FutureWarning: `penalty='none'`has been deprecated in 1.2 and will be removed in 1.4. To keep the past behaviour, set `penalty=None`.\n",
      "  warnings.warn(\n"
     ]
    },
    {
     "name": "stdout",
     "output_type": "stream",
     "text": [
      "[CV 1/3] END .....C=1, penalty=none, solver=sag;, score=0.975 total time=   0.0s\n",
      "[CV 2/3] END .....C=1, penalty=none, solver=sag;, score=0.976 total time=   0.0s\n",
      "[CV 3/3] END .....C=1, penalty=none, solver=sag;, score=0.974 total time=   0.0s\n"
     ]
    },
    {
     "name": "stderr",
     "output_type": "stream",
     "text": [
      "c:\\Users\\harsh\\anaconda3\\Lib\\site-packages\\sklearn\\linear_model\\_sag.py:350: ConvergenceWarning: The max_iter was reached which means the coef_ did not converge\n",
      "  warnings.warn(\n",
      "c:\\Users\\harsh\\anaconda3\\Lib\\site-packages\\sklearn\\linear_model\\_logistic.py:1183: FutureWarning: `penalty='none'`has been deprecated in 1.2 and will be removed in 1.4. To keep the past behaviour, set `penalty=None`.\n",
      "  warnings.warn(\n",
      "c:\\Users\\harsh\\anaconda3\\Lib\\site-packages\\sklearn\\linear_model\\_sag.py:350: ConvergenceWarning: The max_iter was reached which means the coef_ did not converge\n",
      "  warnings.warn(\n",
      "c:\\Users\\harsh\\anaconda3\\Lib\\site-packages\\sklearn\\linear_model\\_logistic.py:1183: FutureWarning: `penalty='none'`has been deprecated in 1.2 and will be removed in 1.4. To keep the past behaviour, set `penalty=None`.\n",
      "  warnings.warn(\n",
      "c:\\Users\\harsh\\anaconda3\\Lib\\site-packages\\sklearn\\linear_model\\_sag.py:350: ConvergenceWarning: The max_iter was reached which means the coef_ did not converge\n",
      "  warnings.warn(\n"
     ]
    },
    {
     "name": "stdout",
     "output_type": "stream",
     "text": [
      "[CV 1/3] END ....C=1, penalty=none, solver=saga;, score=0.976 total time=   0.0s\n",
      "[CV 2/3] END ....C=1, penalty=none, solver=saga;, score=0.975 total time=   0.0s\n",
      "[CV 3/3] END ....C=1, penalty=none, solver=saga;, score=0.972 total time=   0.0s\n",
      "[CV 1/3] END ..C=10, penalty=l1, solver=newton-cg;, score=nan total time=   0.0s\n",
      "[CV 2/3] END ..C=10, penalty=l1, solver=newton-cg;, score=nan total time=   0.0s\n",
      "[CV 3/3] END ..C=10, penalty=l1, solver=newton-cg;, score=nan total time=   0.0s\n",
      "[CV 1/3] END ......C=10, penalty=l1, solver=lbfgs;, score=nan total time=   0.0s\n",
      "[CV 2/3] END ......C=10, penalty=l1, solver=lbfgs;, score=nan total time=   0.0s\n",
      "[CV 3/3] END ......C=10, penalty=l1, solver=lbfgs;, score=nan total time=   0.0s\n",
      "[CV 1/3] END C=10, penalty=l1, solver=liblinear;, score=0.975 total time=   0.1s\n",
      "[CV 2/3] END C=10, penalty=l1, solver=liblinear;, score=0.978 total time=   0.1s\n",
      "[CV 3/3] END C=10, penalty=l1, solver=liblinear;, score=0.975 total time=   0.1s\n",
      "[CV 1/3] END ........C=10, penalty=l1, solver=sag;, score=nan total time=   0.0s\n",
      "[CV 2/3] END ........C=10, penalty=l1, solver=sag;, score=nan total time=   0.0s\n",
      "[CV 3/3] END ........C=10, penalty=l1, solver=sag;, score=nan total time=   0.0s\n"
     ]
    },
    {
     "name": "stderr",
     "output_type": "stream",
     "text": [
      "c:\\Users\\harsh\\anaconda3\\Lib\\site-packages\\sklearn\\linear_model\\_sag.py:350: ConvergenceWarning: The max_iter was reached which means the coef_ did not converge\n",
      "  warnings.warn(\n",
      "c:\\Users\\harsh\\anaconda3\\Lib\\site-packages\\sklearn\\linear_model\\_sag.py:350: ConvergenceWarning: The max_iter was reached which means the coef_ did not converge\n",
      "  warnings.warn(\n"
     ]
    },
    {
     "name": "stdout",
     "output_type": "stream",
     "text": [
      "[CV 1/3] END .....C=10, penalty=l1, solver=saga;, score=0.976 total time=   0.0s\n",
      "[CV 2/3] END .....C=10, penalty=l1, solver=saga;, score=0.975 total time=   0.0s\n"
     ]
    },
    {
     "name": "stderr",
     "output_type": "stream",
     "text": [
      "c:\\Users\\harsh\\anaconda3\\Lib\\site-packages\\sklearn\\linear_model\\_sag.py:350: ConvergenceWarning: The max_iter was reached which means the coef_ did not converge\n",
      "  warnings.warn(\n"
     ]
    },
    {
     "name": "stdout",
     "output_type": "stream",
     "text": [
      "[CV 3/3] END .....C=10, penalty=l1, solver=saga;, score=0.972 total time=   0.0s\n",
      "[CV 1/3] END C=10, penalty=l2, solver=newton-cg;, score=0.975 total time=   0.0s\n",
      "[CV 2/3] END C=10, penalty=l2, solver=newton-cg;, score=0.979 total time=   0.0s\n",
      "[CV 3/3] END C=10, penalty=l2, solver=newton-cg;, score=0.975 total time=   0.0s\n",
      "[CV 1/3] END ....C=10, penalty=l2, solver=lbfgs;, score=0.975 total time=   0.0s\n",
      "[CV 2/3] END ....C=10, penalty=l2, solver=lbfgs;, score=0.979 total time=   0.0s\n",
      "[CV 3/3] END ....C=10, penalty=l2, solver=lbfgs;, score=0.975 total time=   0.0s\n",
      "[CV 1/3] END C=10, penalty=l2, solver=liblinear;, score=0.976 total time=   0.0s\n",
      "[CV 2/3] END C=10, penalty=l2, solver=liblinear;, score=0.979 total time=   0.0s\n",
      "[CV 3/3] END C=10, penalty=l2, solver=liblinear;, score=0.975 total time=   0.0s\n",
      "[CV 1/3] END ......C=10, penalty=l2, solver=sag;, score=0.975 total time=   0.0s\n"
     ]
    },
    {
     "name": "stderr",
     "output_type": "stream",
     "text": [
      "c:\\Users\\harsh\\anaconda3\\Lib\\site-packages\\sklearn\\linear_model\\_sag.py:350: ConvergenceWarning: The max_iter was reached which means the coef_ did not converge\n",
      "  warnings.warn(\n",
      "c:\\Users\\harsh\\anaconda3\\Lib\\site-packages\\sklearn\\linear_model\\_sag.py:350: ConvergenceWarning: The max_iter was reached which means the coef_ did not converge\n",
      "  warnings.warn(\n",
      "c:\\Users\\harsh\\anaconda3\\Lib\\site-packages\\sklearn\\linear_model\\_sag.py:350: ConvergenceWarning: The max_iter was reached which means the coef_ did not converge\n",
      "  warnings.warn(\n"
     ]
    },
    {
     "name": "stdout",
     "output_type": "stream",
     "text": [
      "[CV 2/3] END ......C=10, penalty=l2, solver=sag;, score=0.976 total time=   0.0s\n",
      "[CV 3/3] END ......C=10, penalty=l2, solver=sag;, score=0.974 total time=   0.0s\n",
      "[CV 1/3] END .....C=10, penalty=l2, solver=saga;, score=0.976 total time=   0.0s\n"
     ]
    },
    {
     "name": "stderr",
     "output_type": "stream",
     "text": [
      "c:\\Users\\harsh\\anaconda3\\Lib\\site-packages\\sklearn\\linear_model\\_sag.py:350: ConvergenceWarning: The max_iter was reached which means the coef_ did not converge\n",
      "  warnings.warn(\n",
      "c:\\Users\\harsh\\anaconda3\\Lib\\site-packages\\sklearn\\linear_model\\_sag.py:350: ConvergenceWarning: The max_iter was reached which means the coef_ did not converge\n",
      "  warnings.warn(\n",
      "c:\\Users\\harsh\\anaconda3\\Lib\\site-packages\\sklearn\\linear_model\\_sag.py:350: ConvergenceWarning: The max_iter was reached which means the coef_ did not converge\n",
      "  warnings.warn(\n",
      "c:\\Users\\harsh\\anaconda3\\Lib\\site-packages\\sklearn\\linear_model\\_logistic.py:1183: FutureWarning: `penalty='none'`has been deprecated in 1.2 and will be removed in 1.4. To keep the past behaviour, set `penalty=None`.\n",
      "  warnings.warn(\n",
      "c:\\Users\\harsh\\anaconda3\\Lib\\site-packages\\sklearn\\linear_model\\_logistic.py:1193: UserWarning: Setting penalty=None will ignore the C and l1_ratio parameters\n",
      "  warnings.warn(\n"
     ]
    },
    {
     "name": "stdout",
     "output_type": "stream",
     "text": [
      "[CV 2/3] END .....C=10, penalty=l2, solver=saga;, score=0.975 total time=   0.0s\n",
      "[CV 3/3] END .....C=10, penalty=l2, solver=saga;, score=0.972 total time=   0.0s\n",
      "[CV 1/3] END C=10, penalty=elasticnet, solver=newton-cg;, score=nan total time=   0.0s\n",
      "[CV 2/3] END C=10, penalty=elasticnet, solver=newton-cg;, score=nan total time=   0.0s\n",
      "[CV 3/3] END C=10, penalty=elasticnet, solver=newton-cg;, score=nan total time=   0.0s\n",
      "[CV 1/3] END C=10, penalty=elasticnet, solver=lbfgs;, score=nan total time=   0.0s\n",
      "[CV 2/3] END C=10, penalty=elasticnet, solver=lbfgs;, score=nan total time=   0.0s\n",
      "[CV 3/3] END C=10, penalty=elasticnet, solver=lbfgs;, score=nan total time=   0.0s\n",
      "[CV 1/3] END C=10, penalty=elasticnet, solver=liblinear;, score=nan total time=   0.0s\n",
      "[CV 2/3] END C=10, penalty=elasticnet, solver=liblinear;, score=nan total time=   0.0s\n",
      "[CV 3/3] END C=10, penalty=elasticnet, solver=liblinear;, score=nan total time=   0.0s\n",
      "[CV 1/3] END C=10, penalty=elasticnet, solver=sag;, score=nan total time=   0.0s\n",
      "[CV 2/3] END C=10, penalty=elasticnet, solver=sag;, score=nan total time=   0.0s\n",
      "[CV 3/3] END C=10, penalty=elasticnet, solver=sag;, score=nan total time=   0.0s\n",
      "[CV 1/3] END C=10, penalty=elasticnet, solver=saga;, score=nan total time=   0.0s\n",
      "[CV 2/3] END C=10, penalty=elasticnet, solver=saga;, score=nan total time=   0.0s\n",
      "[CV 3/3] END C=10, penalty=elasticnet, solver=saga;, score=nan total time=   0.0s\n",
      "[CV 1/3] END C=10, penalty=none, solver=newton-cg;, score=0.976 total time=   0.0s\n",
      "[CV 2/3] END C=10, penalty=none, solver=newton-cg;, score=0.978 total time=   0.0s\n"
     ]
    },
    {
     "name": "stderr",
     "output_type": "stream",
     "text": [
      "c:\\Users\\harsh\\anaconda3\\Lib\\site-packages\\sklearn\\linear_model\\_logistic.py:1183: FutureWarning: `penalty='none'`has been deprecated in 1.2 and will be removed in 1.4. To keep the past behaviour, set `penalty=None`.\n",
      "  warnings.warn(\n",
      "c:\\Users\\harsh\\anaconda3\\Lib\\site-packages\\sklearn\\linear_model\\_logistic.py:1193: UserWarning: Setting penalty=None will ignore the C and l1_ratio parameters\n",
      "  warnings.warn(\n",
      "c:\\Users\\harsh\\anaconda3\\Lib\\site-packages\\sklearn\\linear_model\\_logistic.py:1183: FutureWarning: `penalty='none'`has been deprecated in 1.2 and will be removed in 1.4. To keep the past behaviour, set `penalty=None`.\n",
      "  warnings.warn(\n",
      "c:\\Users\\harsh\\anaconda3\\Lib\\site-packages\\sklearn\\linear_model\\_logistic.py:1193: UserWarning: Setting penalty=None will ignore the C and l1_ratio parameters\n",
      "  warnings.warn(\n",
      "c:\\Users\\harsh\\anaconda3\\Lib\\site-packages\\sklearn\\linear_model\\_logistic.py:1183: FutureWarning: `penalty='none'`has been deprecated in 1.2 and will be removed in 1.4. To keep the past behaviour, set `penalty=None`.\n",
      "  warnings.warn(\n",
      "c:\\Users\\harsh\\anaconda3\\Lib\\site-packages\\sklearn\\linear_model\\_logistic.py:1193: UserWarning: Setting penalty=None will ignore the C and l1_ratio parameters\n",
      "  warnings.warn(\n",
      "c:\\Users\\harsh\\anaconda3\\Lib\\site-packages\\sklearn\\linear_model\\_logistic.py:1183: FutureWarning: `penalty='none'`has been deprecated in 1.2 and will be removed in 1.4. To keep the past behaviour, set `penalty=None`.\n",
      "  warnings.warn(\n",
      "c:\\Users\\harsh\\anaconda3\\Lib\\site-packages\\sklearn\\linear_model\\_logistic.py:1193: UserWarning: Setting penalty=None will ignore the C and l1_ratio parameters\n",
      "  warnings.warn(\n",
      "c:\\Users\\harsh\\anaconda3\\Lib\\site-packages\\sklearn\\linear_model\\_logistic.py:1183: FutureWarning: `penalty='none'`has been deprecated in 1.2 and will be removed in 1.4. To keep the past behaviour, set `penalty=None`.\n",
      "  warnings.warn(\n",
      "c:\\Users\\harsh\\anaconda3\\Lib\\site-packages\\sklearn\\linear_model\\_logistic.py:1193: UserWarning: Setting penalty=None will ignore the C and l1_ratio parameters\n",
      "  warnings.warn(\n",
      "c:\\Users\\harsh\\anaconda3\\Lib\\site-packages\\sklearn\\linear_model\\_logistic.py:1183: FutureWarning: `penalty='none'`has been deprecated in 1.2 and will be removed in 1.4. To keep the past behaviour, set `penalty=None`.\n",
      "  warnings.warn(\n",
      "c:\\Users\\harsh\\anaconda3\\Lib\\site-packages\\sklearn\\linear_model\\_logistic.py:1193: UserWarning: Setting penalty=None will ignore the C and l1_ratio parameters\n",
      "  warnings.warn(\n"
     ]
    },
    {
     "name": "stdout",
     "output_type": "stream",
     "text": [
      "[CV 3/3] END C=10, penalty=none, solver=newton-cg;, score=0.975 total time=   0.0s\n",
      "[CV 1/3] END ..C=10, penalty=none, solver=lbfgs;, score=0.976 total time=   0.0s\n",
      "[CV 2/3] END ..C=10, penalty=none, solver=lbfgs;, score=0.978 total time=   0.0s\n",
      "[CV 3/3] END ..C=10, penalty=none, solver=lbfgs;, score=0.975 total time=   0.0s\n",
      "[CV 1/3] END C=10, penalty=none, solver=liblinear;, score=nan total time=   0.0s\n",
      "[CV 2/3] END C=10, penalty=none, solver=liblinear;, score=nan total time=   0.0s\n",
      "[CV 3/3] END C=10, penalty=none, solver=liblinear;, score=nan total time=   0.0s\n"
     ]
    },
    {
     "name": "stderr",
     "output_type": "stream",
     "text": [
      "c:\\Users\\harsh\\anaconda3\\Lib\\site-packages\\sklearn\\linear_model\\_sag.py:350: ConvergenceWarning: The max_iter was reached which means the coef_ did not converge\n",
      "  warnings.warn(\n",
      "c:\\Users\\harsh\\anaconda3\\Lib\\site-packages\\sklearn\\linear_model\\_logistic.py:1183: FutureWarning: `penalty='none'`has been deprecated in 1.2 and will be removed in 1.4. To keep the past behaviour, set `penalty=None`.\n",
      "  warnings.warn(\n",
      "c:\\Users\\harsh\\anaconda3\\Lib\\site-packages\\sklearn\\linear_model\\_logistic.py:1193: UserWarning: Setting penalty=None will ignore the C and l1_ratio parameters\n",
      "  warnings.warn(\n",
      "c:\\Users\\harsh\\anaconda3\\Lib\\site-packages\\sklearn\\linear_model\\_sag.py:350: ConvergenceWarning: The max_iter was reached which means the coef_ did not converge\n",
      "  warnings.warn(\n",
      "c:\\Users\\harsh\\anaconda3\\Lib\\site-packages\\sklearn\\linear_model\\_logistic.py:1183: FutureWarning: `penalty='none'`has been deprecated in 1.2 and will be removed in 1.4. To keep the past behaviour, set `penalty=None`.\n",
      "  warnings.warn(\n",
      "c:\\Users\\harsh\\anaconda3\\Lib\\site-packages\\sklearn\\linear_model\\_logistic.py:1193: UserWarning: Setting penalty=None will ignore the C and l1_ratio parameters\n",
      "  warnings.warn(\n",
      "c:\\Users\\harsh\\anaconda3\\Lib\\site-packages\\sklearn\\linear_model\\_sag.py:350: ConvergenceWarning: The max_iter was reached which means the coef_ did not converge\n",
      "  warnings.warn(\n",
      "c:\\Users\\harsh\\anaconda3\\Lib\\site-packages\\sklearn\\linear_model\\_logistic.py:1183: FutureWarning: `penalty='none'`has been deprecated in 1.2 and will be removed in 1.4. To keep the past behaviour, set `penalty=None`.\n",
      "  warnings.warn(\n",
      "c:\\Users\\harsh\\anaconda3\\Lib\\site-packages\\sklearn\\linear_model\\_logistic.py:1193: UserWarning: Setting penalty=None will ignore the C and l1_ratio parameters\n",
      "  warnings.warn(\n"
     ]
    },
    {
     "name": "stdout",
     "output_type": "stream",
     "text": [
      "[CV 1/3] END ....C=10, penalty=none, solver=sag;, score=0.975 total time=   0.0s\n",
      "[CV 2/3] END ....C=10, penalty=none, solver=sag;, score=0.976 total time=   0.0s\n",
      "[CV 3/3] END ....C=10, penalty=none, solver=sag;, score=0.974 total time=   0.0s\n"
     ]
    },
    {
     "name": "stderr",
     "output_type": "stream",
     "text": [
      "c:\\Users\\harsh\\anaconda3\\Lib\\site-packages\\sklearn\\linear_model\\_sag.py:350: ConvergenceWarning: The max_iter was reached which means the coef_ did not converge\n",
      "  warnings.warn(\n",
      "c:\\Users\\harsh\\anaconda3\\Lib\\site-packages\\sklearn\\linear_model\\_logistic.py:1183: FutureWarning: `penalty='none'`has been deprecated in 1.2 and will be removed in 1.4. To keep the past behaviour, set `penalty=None`.\n",
      "  warnings.warn(\n",
      "c:\\Users\\harsh\\anaconda3\\Lib\\site-packages\\sklearn\\linear_model\\_logistic.py:1193: UserWarning: Setting penalty=None will ignore the C and l1_ratio parameters\n",
      "  warnings.warn(\n",
      "c:\\Users\\harsh\\anaconda3\\Lib\\site-packages\\sklearn\\linear_model\\_sag.py:350: ConvergenceWarning: The max_iter was reached which means the coef_ did not converge\n",
      "  warnings.warn(\n",
      "c:\\Users\\harsh\\anaconda3\\Lib\\site-packages\\sklearn\\linear_model\\_logistic.py:1183: FutureWarning: `penalty='none'`has been deprecated in 1.2 and will be removed in 1.4. To keep the past behaviour, set `penalty=None`.\n",
      "  warnings.warn(\n",
      "c:\\Users\\harsh\\anaconda3\\Lib\\site-packages\\sklearn\\linear_model\\_logistic.py:1193: UserWarning: Setting penalty=None will ignore the C and l1_ratio parameters\n",
      "  warnings.warn(\n",
      "c:\\Users\\harsh\\anaconda3\\Lib\\site-packages\\sklearn\\linear_model\\_sag.py:350: ConvergenceWarning: The max_iter was reached which means the coef_ did not converge\n",
      "  warnings.warn(\n"
     ]
    },
    {
     "name": "stdout",
     "output_type": "stream",
     "text": [
      "[CV 1/3] END ...C=10, penalty=none, solver=saga;, score=0.976 total time=   0.0s\n",
      "[CV 2/3] END ...C=10, penalty=none, solver=saga;, score=0.975 total time=   0.0s\n",
      "[CV 3/3] END ...C=10, penalty=none, solver=saga;, score=0.972 total time=   0.0s\n",
      "[CV 1/3] END .C=100, penalty=l1, solver=newton-cg;, score=nan total time=   0.0s\n",
      "[CV 2/3] END .C=100, penalty=l1, solver=newton-cg;, score=nan total time=   0.0s\n",
      "[CV 3/3] END .C=100, penalty=l1, solver=newton-cg;, score=nan total time=   0.0s\n",
      "[CV 1/3] END .....C=100, penalty=l1, solver=lbfgs;, score=nan total time=   0.0s\n",
      "[CV 2/3] END .....C=100, penalty=l1, solver=lbfgs;, score=nan total time=   0.0s\n",
      "[CV 3/3] END .....C=100, penalty=l1, solver=lbfgs;, score=nan total time=   0.0s\n",
      "[CV 1/3] END C=100, penalty=l1, solver=liblinear;, score=0.976 total time=   0.1s\n",
      "[CV 2/3] END C=100, penalty=l1, solver=liblinear;, score=0.978 total time=   0.1s\n",
      "[CV 3/3] END C=100, penalty=l1, solver=liblinear;, score=0.975 total time=   0.1s\n",
      "[CV 1/3] END .......C=100, penalty=l1, solver=sag;, score=nan total time=   0.0s\n",
      "[CV 2/3] END .......C=100, penalty=l1, solver=sag;, score=nan total time=   0.0s\n",
      "[CV 3/3] END .......C=100, penalty=l1, solver=sag;, score=nan total time=   0.0s\n"
     ]
    },
    {
     "name": "stderr",
     "output_type": "stream",
     "text": [
      "c:\\Users\\harsh\\anaconda3\\Lib\\site-packages\\sklearn\\linear_model\\_sag.py:350: ConvergenceWarning: The max_iter was reached which means the coef_ did not converge\n",
      "  warnings.warn(\n",
      "c:\\Users\\harsh\\anaconda3\\Lib\\site-packages\\sklearn\\linear_model\\_sag.py:350: ConvergenceWarning: The max_iter was reached which means the coef_ did not converge\n",
      "  warnings.warn(\n"
     ]
    },
    {
     "name": "stdout",
     "output_type": "stream",
     "text": [
      "[CV 1/3] END ....C=100, penalty=l1, solver=saga;, score=0.976 total time=   0.0s\n",
      "[CV 2/3] END ....C=100, penalty=l1, solver=saga;, score=0.975 total time=   0.0s\n"
     ]
    },
    {
     "name": "stderr",
     "output_type": "stream",
     "text": [
      "c:\\Users\\harsh\\anaconda3\\Lib\\site-packages\\sklearn\\linear_model\\_sag.py:350: ConvergenceWarning: The max_iter was reached which means the coef_ did not converge\n",
      "  warnings.warn(\n"
     ]
    },
    {
     "name": "stdout",
     "output_type": "stream",
     "text": [
      "[CV 3/3] END ....C=100, penalty=l1, solver=saga;, score=0.972 total time=   0.0s\n",
      "[CV 1/3] END C=100, penalty=l2, solver=newton-cg;, score=0.976 total time=   0.0s\n",
      "[CV 2/3] END C=100, penalty=l2, solver=newton-cg;, score=0.978 total time=   0.0s\n",
      "[CV 3/3] END C=100, penalty=l2, solver=newton-cg;, score=0.975 total time=   0.0s\n",
      "[CV 1/3] END ...C=100, penalty=l2, solver=lbfgs;, score=0.976 total time=   0.0s\n",
      "[CV 2/3] END ...C=100, penalty=l2, solver=lbfgs;, score=0.978 total time=   0.0s\n",
      "[CV 3/3] END ...C=100, penalty=l2, solver=lbfgs;, score=0.975 total time=   0.0s\n",
      "[CV 1/3] END C=100, penalty=l2, solver=liblinear;, score=0.975 total time=   0.0s\n",
      "[CV 2/3] END C=100, penalty=l2, solver=liblinear;, score=0.978 total time=   0.0s\n",
      "[CV 3/3] END C=100, penalty=l2, solver=liblinear;, score=0.975 total time=   0.0s\n",
      "[CV 1/3] END .....C=100, penalty=l2, solver=sag;, score=0.975 total time=   0.0s\n"
     ]
    },
    {
     "name": "stderr",
     "output_type": "stream",
     "text": [
      "c:\\Users\\harsh\\anaconda3\\Lib\\site-packages\\sklearn\\linear_model\\_sag.py:350: ConvergenceWarning: The max_iter was reached which means the coef_ did not converge\n",
      "  warnings.warn(\n",
      "c:\\Users\\harsh\\anaconda3\\Lib\\site-packages\\sklearn\\linear_model\\_sag.py:350: ConvergenceWarning: The max_iter was reached which means the coef_ did not converge\n",
      "  warnings.warn(\n",
      "c:\\Users\\harsh\\anaconda3\\Lib\\site-packages\\sklearn\\linear_model\\_sag.py:350: ConvergenceWarning: The max_iter was reached which means the coef_ did not converge\n",
      "  warnings.warn(\n"
     ]
    },
    {
     "name": "stdout",
     "output_type": "stream",
     "text": [
      "[CV 2/3] END .....C=100, penalty=l2, solver=sag;, score=0.976 total time=   0.0s\n",
      "[CV 3/3] END .....C=100, penalty=l2, solver=sag;, score=0.974 total time=   0.0s\n"
     ]
    },
    {
     "name": "stderr",
     "output_type": "stream",
     "text": [
      "c:\\Users\\harsh\\anaconda3\\Lib\\site-packages\\sklearn\\linear_model\\_sag.py:350: ConvergenceWarning: The max_iter was reached which means the coef_ did not converge\n",
      "  warnings.warn(\n",
      "c:\\Users\\harsh\\anaconda3\\Lib\\site-packages\\sklearn\\linear_model\\_sag.py:350: ConvergenceWarning: The max_iter was reached which means the coef_ did not converge\n",
      "  warnings.warn(\n",
      "c:\\Users\\harsh\\anaconda3\\Lib\\site-packages\\sklearn\\linear_model\\_sag.py:350: ConvergenceWarning: The max_iter was reached which means the coef_ did not converge\n",
      "  warnings.warn(\n",
      "c:\\Users\\harsh\\anaconda3\\Lib\\site-packages\\sklearn\\linear_model\\_logistic.py:1183: FutureWarning: `penalty='none'`has been deprecated in 1.2 and will be removed in 1.4. To keep the past behaviour, set `penalty=None`.\n",
      "  warnings.warn(\n",
      "c:\\Users\\harsh\\anaconda3\\Lib\\site-packages\\sklearn\\linear_model\\_logistic.py:1193: UserWarning: Setting penalty=None will ignore the C and l1_ratio parameters\n",
      "  warnings.warn(\n"
     ]
    },
    {
     "name": "stdout",
     "output_type": "stream",
     "text": [
      "[CV 1/3] END ....C=100, penalty=l2, solver=saga;, score=0.976 total time=   0.0s\n",
      "[CV 2/3] END ....C=100, penalty=l2, solver=saga;, score=0.975 total time=   0.0s\n",
      "[CV 3/3] END ....C=100, penalty=l2, solver=saga;, score=0.972 total time=   0.0s\n",
      "[CV 1/3] END C=100, penalty=elasticnet, solver=newton-cg;, score=nan total time=   0.0s\n",
      "[CV 2/3] END C=100, penalty=elasticnet, solver=newton-cg;, score=nan total time=   0.0s\n",
      "[CV 3/3] END C=100, penalty=elasticnet, solver=newton-cg;, score=nan total time=   0.0s\n",
      "[CV 1/3] END C=100, penalty=elasticnet, solver=lbfgs;, score=nan total time=   0.0s\n",
      "[CV 2/3] END C=100, penalty=elasticnet, solver=lbfgs;, score=nan total time=   0.0s\n",
      "[CV 3/3] END C=100, penalty=elasticnet, solver=lbfgs;, score=nan total time=   0.0s\n",
      "[CV 1/3] END C=100, penalty=elasticnet, solver=liblinear;, score=nan total time=   0.0s\n",
      "[CV 2/3] END C=100, penalty=elasticnet, solver=liblinear;, score=nan total time=   0.0s\n",
      "[CV 3/3] END C=100, penalty=elasticnet, solver=liblinear;, score=nan total time=   0.0s\n",
      "[CV 1/3] END C=100, penalty=elasticnet, solver=sag;, score=nan total time=   0.0s\n",
      "[CV 2/3] END C=100, penalty=elasticnet, solver=sag;, score=nan total time=   0.0s\n",
      "[CV 3/3] END C=100, penalty=elasticnet, solver=sag;, score=nan total time=   0.0s\n",
      "[CV 1/3] END C=100, penalty=elasticnet, solver=saga;, score=nan total time=   0.0s\n",
      "[CV 2/3] END C=100, penalty=elasticnet, solver=saga;, score=nan total time=   0.0s\n",
      "[CV 3/3] END C=100, penalty=elasticnet, solver=saga;, score=nan total time=   0.0s\n",
      "[CV 1/3] END C=100, penalty=none, solver=newton-cg;, score=0.976 total time=   0.0s\n",
      "[CV 2/3] END C=100, penalty=none, solver=newton-cg;, score=0.978 total time=   0.0s\n",
      "[CV 3/3] END C=100, penalty=none, solver=newton-cg;, score=0.975 total time=   0.0s\n",
      "[CV 1/3] END .C=100, penalty=none, solver=lbfgs;, score=0.976 total time=   0.0s\n",
      "[CV 2/3] END .C=100, penalty=none, solver=lbfgs;, score=0.978 total time=   0.0s\n",
      "[CV 3/3] END .C=100, penalty=none, solver=lbfgs;, score=0.975 total time=   0.0s\n",
      "[CV 1/3] END C=100, penalty=none, solver=liblinear;, score=nan total time=   0.0s\n",
      "[CV 2/3] END C=100, penalty=none, solver=liblinear;, score=nan total time=   0.0s\n",
      "[CV 3/3] END C=100, penalty=none, solver=liblinear;, score=nan total time=   0.0s\n"
     ]
    },
    {
     "name": "stderr",
     "output_type": "stream",
     "text": [
      "c:\\Users\\harsh\\anaconda3\\Lib\\site-packages\\sklearn\\linear_model\\_logistic.py:1183: FutureWarning: `penalty='none'`has been deprecated in 1.2 and will be removed in 1.4. To keep the past behaviour, set `penalty=None`.\n",
      "  warnings.warn(\n",
      "c:\\Users\\harsh\\anaconda3\\Lib\\site-packages\\sklearn\\linear_model\\_logistic.py:1193: UserWarning: Setting penalty=None will ignore the C and l1_ratio parameters\n",
      "  warnings.warn(\n",
      "c:\\Users\\harsh\\anaconda3\\Lib\\site-packages\\sklearn\\linear_model\\_logistic.py:1183: FutureWarning: `penalty='none'`has been deprecated in 1.2 and will be removed in 1.4. To keep the past behaviour, set `penalty=None`.\n",
      "  warnings.warn(\n",
      "c:\\Users\\harsh\\anaconda3\\Lib\\site-packages\\sklearn\\linear_model\\_logistic.py:1193: UserWarning: Setting penalty=None will ignore the C and l1_ratio parameters\n",
      "  warnings.warn(\n",
      "c:\\Users\\harsh\\anaconda3\\Lib\\site-packages\\sklearn\\linear_model\\_logistic.py:1183: FutureWarning: `penalty='none'`has been deprecated in 1.2 and will be removed in 1.4. To keep the past behaviour, set `penalty=None`.\n",
      "  warnings.warn(\n",
      "c:\\Users\\harsh\\anaconda3\\Lib\\site-packages\\sklearn\\linear_model\\_logistic.py:1193: UserWarning: Setting penalty=None will ignore the C and l1_ratio parameters\n",
      "  warnings.warn(\n",
      "c:\\Users\\harsh\\anaconda3\\Lib\\site-packages\\sklearn\\linear_model\\_logistic.py:1183: FutureWarning: `penalty='none'`has been deprecated in 1.2 and will be removed in 1.4. To keep the past behaviour, set `penalty=None`.\n",
      "  warnings.warn(\n",
      "c:\\Users\\harsh\\anaconda3\\Lib\\site-packages\\sklearn\\linear_model\\_logistic.py:1193: UserWarning: Setting penalty=None will ignore the C and l1_ratio parameters\n",
      "  warnings.warn(\n",
      "c:\\Users\\harsh\\anaconda3\\Lib\\site-packages\\sklearn\\linear_model\\_logistic.py:1183: FutureWarning: `penalty='none'`has been deprecated in 1.2 and will be removed in 1.4. To keep the past behaviour, set `penalty=None`.\n",
      "  warnings.warn(\n",
      "c:\\Users\\harsh\\anaconda3\\Lib\\site-packages\\sklearn\\linear_model\\_logistic.py:1193: UserWarning: Setting penalty=None will ignore the C and l1_ratio parameters\n",
      "  warnings.warn(\n",
      "c:\\Users\\harsh\\anaconda3\\Lib\\site-packages\\sklearn\\linear_model\\_logistic.py:1183: FutureWarning: `penalty='none'`has been deprecated in 1.2 and will be removed in 1.4. To keep the past behaviour, set `penalty=None`.\n",
      "  warnings.warn(\n",
      "c:\\Users\\harsh\\anaconda3\\Lib\\site-packages\\sklearn\\linear_model\\_logistic.py:1193: UserWarning: Setting penalty=None will ignore the C and l1_ratio parameters\n",
      "  warnings.warn(\n",
      "c:\\Users\\harsh\\anaconda3\\Lib\\site-packages\\sklearn\\linear_model\\_sag.py:350: ConvergenceWarning: The max_iter was reached which means the coef_ did not converge\n",
      "  warnings.warn(\n",
      "c:\\Users\\harsh\\anaconda3\\Lib\\site-packages\\sklearn\\linear_model\\_logistic.py:1183: FutureWarning: `penalty='none'`has been deprecated in 1.2 and will be removed in 1.4. To keep the past behaviour, set `penalty=None`.\n",
      "  warnings.warn(\n",
      "c:\\Users\\harsh\\anaconda3\\Lib\\site-packages\\sklearn\\linear_model\\_logistic.py:1193: UserWarning: Setting penalty=None will ignore the C and l1_ratio parameters\n",
      "  warnings.warn(\n",
      "c:\\Users\\harsh\\anaconda3\\Lib\\site-packages\\sklearn\\linear_model\\_sag.py:350: ConvergenceWarning: The max_iter was reached which means the coef_ did not converge\n",
      "  warnings.warn(\n",
      "c:\\Users\\harsh\\anaconda3\\Lib\\site-packages\\sklearn\\linear_model\\_logistic.py:1183: FutureWarning: `penalty='none'`has been deprecated in 1.2 and will be removed in 1.4. To keep the past behaviour, set `penalty=None`.\n",
      "  warnings.warn(\n",
      "c:\\Users\\harsh\\anaconda3\\Lib\\site-packages\\sklearn\\linear_model\\_logistic.py:1193: UserWarning: Setting penalty=None will ignore the C and l1_ratio parameters\n",
      "  warnings.warn(\n",
      "c:\\Users\\harsh\\anaconda3\\Lib\\site-packages\\sklearn\\linear_model\\_sag.py:350: ConvergenceWarning: The max_iter was reached which means the coef_ did not converge\n",
      "  warnings.warn(\n",
      "c:\\Users\\harsh\\anaconda3\\Lib\\site-packages\\sklearn\\linear_model\\_logistic.py:1183: FutureWarning: `penalty='none'`has been deprecated in 1.2 and will be removed in 1.4. To keep the past behaviour, set `penalty=None`.\n",
      "  warnings.warn(\n",
      "c:\\Users\\harsh\\anaconda3\\Lib\\site-packages\\sklearn\\linear_model\\_logistic.py:1193: UserWarning: Setting penalty=None will ignore the C and l1_ratio parameters\n",
      "  warnings.warn(\n"
     ]
    },
    {
     "name": "stdout",
     "output_type": "stream",
     "text": [
      "[CV 1/3] END ...C=100, penalty=none, solver=sag;, score=0.975 total time=   0.0s\n",
      "[CV 2/3] END ...C=100, penalty=none, solver=sag;, score=0.976 total time=   0.0s\n",
      "[CV 3/3] END ...C=100, penalty=none, solver=sag;, score=0.974 total time=   0.0s\n"
     ]
    },
    {
     "name": "stderr",
     "output_type": "stream",
     "text": [
      "c:\\Users\\harsh\\anaconda3\\Lib\\site-packages\\sklearn\\linear_model\\_sag.py:350: ConvergenceWarning: The max_iter was reached which means the coef_ did not converge\n",
      "  warnings.warn(\n",
      "c:\\Users\\harsh\\anaconda3\\Lib\\site-packages\\sklearn\\linear_model\\_logistic.py:1183: FutureWarning: `penalty='none'`has been deprecated in 1.2 and will be removed in 1.4. To keep the past behaviour, set `penalty=None`.\n",
      "  warnings.warn(\n",
      "c:\\Users\\harsh\\anaconda3\\Lib\\site-packages\\sklearn\\linear_model\\_logistic.py:1193: UserWarning: Setting penalty=None will ignore the C and l1_ratio parameters\n",
      "  warnings.warn(\n",
      "c:\\Users\\harsh\\anaconda3\\Lib\\site-packages\\sklearn\\linear_model\\_sag.py:350: ConvergenceWarning: The max_iter was reached which means the coef_ did not converge\n",
      "  warnings.warn(\n",
      "c:\\Users\\harsh\\anaconda3\\Lib\\site-packages\\sklearn\\linear_model\\_logistic.py:1183: FutureWarning: `penalty='none'`has been deprecated in 1.2 and will be removed in 1.4. To keep the past behaviour, set `penalty=None`.\n",
      "  warnings.warn(\n",
      "c:\\Users\\harsh\\anaconda3\\Lib\\site-packages\\sklearn\\linear_model\\_logistic.py:1193: UserWarning: Setting penalty=None will ignore the C and l1_ratio parameters\n",
      "  warnings.warn(\n",
      "c:\\Users\\harsh\\anaconda3\\Lib\\site-packages\\sklearn\\linear_model\\_sag.py:350: ConvergenceWarning: The max_iter was reached which means the coef_ did not converge\n",
      "  warnings.warn(\n",
      "c:\\Users\\harsh\\anaconda3\\Lib\\site-packages\\sklearn\\model_selection\\_validation.py:425: FitFailedWarning: \n",
      "135 fits failed out of a total of 300.\n",
      "The score on these train-test partitions for these parameters will be set to nan.\n",
      "If these failures are not expected, you can try to debug them by setting error_score='raise'.\n",
      "\n",
      "Below are more details about the failures:\n",
      "--------------------------------------------------------------------------------\n",
      "15 fits failed with the following error:\n",
      "Traceback (most recent call last):\n",
      "  File \"c:\\Users\\harsh\\anaconda3\\Lib\\site-packages\\sklearn\\model_selection\\_validation.py\", line 729, in _fit_and_score\n",
      "    estimator.fit(X_train, y_train, **fit_params)\n",
      "  File \"c:\\Users\\harsh\\anaconda3\\Lib\\site-packages\\sklearn\\base.py\", line 1152, in wrapper\n",
      "    return fit_method(estimator, *args, **kwargs)\n",
      "           ^^^^^^^^^^^^^^^^^^^^^^^^^^^^^^^^^^^^^^\n",
      "  File \"c:\\Users\\harsh\\anaconda3\\Lib\\site-packages\\sklearn\\linear_model\\_logistic.py\", line 1169, in fit\n",
      "    solver = _check_solver(self.solver, self.penalty, self.dual)\n",
      "             ^^^^^^^^^^^^^^^^^^^^^^^^^^^^^^^^^^^^^^^^^^^^^^^^^^^\n",
      "  File \"c:\\Users\\harsh\\anaconda3\\Lib\\site-packages\\sklearn\\linear_model\\_logistic.py\", line 56, in _check_solver\n",
      "    raise ValueError(\n",
      "ValueError: Solver newton-cg supports only 'l2' or 'none' penalties, got l1 penalty.\n",
      "\n",
      "--------------------------------------------------------------------------------\n",
      "15 fits failed with the following error:\n",
      "Traceback (most recent call last):\n",
      "  File \"c:\\Users\\harsh\\anaconda3\\Lib\\site-packages\\sklearn\\model_selection\\_validation.py\", line 729, in _fit_and_score\n",
      "    estimator.fit(X_train, y_train, **fit_params)\n",
      "  File \"c:\\Users\\harsh\\anaconda3\\Lib\\site-packages\\sklearn\\base.py\", line 1152, in wrapper\n",
      "    return fit_method(estimator, *args, **kwargs)\n",
      "           ^^^^^^^^^^^^^^^^^^^^^^^^^^^^^^^^^^^^^^\n",
      "  File \"c:\\Users\\harsh\\anaconda3\\Lib\\site-packages\\sklearn\\linear_model\\_logistic.py\", line 1169, in fit\n",
      "    solver = _check_solver(self.solver, self.penalty, self.dual)\n",
      "             ^^^^^^^^^^^^^^^^^^^^^^^^^^^^^^^^^^^^^^^^^^^^^^^^^^^\n",
      "  File \"c:\\Users\\harsh\\anaconda3\\Lib\\site-packages\\sklearn\\linear_model\\_logistic.py\", line 56, in _check_solver\n",
      "    raise ValueError(\n",
      "ValueError: Solver lbfgs supports only 'l2' or 'none' penalties, got l1 penalty.\n",
      "\n",
      "--------------------------------------------------------------------------------\n",
      "15 fits failed with the following error:\n",
      "Traceback (most recent call last):\n",
      "  File \"c:\\Users\\harsh\\anaconda3\\Lib\\site-packages\\sklearn\\model_selection\\_validation.py\", line 729, in _fit_and_score\n",
      "    estimator.fit(X_train, y_train, **fit_params)\n",
      "  File \"c:\\Users\\harsh\\anaconda3\\Lib\\site-packages\\sklearn\\base.py\", line 1152, in wrapper\n",
      "    return fit_method(estimator, *args, **kwargs)\n",
      "           ^^^^^^^^^^^^^^^^^^^^^^^^^^^^^^^^^^^^^^\n",
      "  File \"c:\\Users\\harsh\\anaconda3\\Lib\\site-packages\\sklearn\\linear_model\\_logistic.py\", line 1169, in fit\n",
      "    solver = _check_solver(self.solver, self.penalty, self.dual)\n",
      "             ^^^^^^^^^^^^^^^^^^^^^^^^^^^^^^^^^^^^^^^^^^^^^^^^^^^\n",
      "  File \"c:\\Users\\harsh\\anaconda3\\Lib\\site-packages\\sklearn\\linear_model\\_logistic.py\", line 56, in _check_solver\n",
      "    raise ValueError(\n",
      "ValueError: Solver sag supports only 'l2' or 'none' penalties, got l1 penalty.\n",
      "\n",
      "--------------------------------------------------------------------------------\n",
      "15 fits failed with the following error:\n",
      "Traceback (most recent call last):\n",
      "  File \"c:\\Users\\harsh\\anaconda3\\Lib\\site-packages\\sklearn\\model_selection\\_validation.py\", line 729, in _fit_and_score\n",
      "    estimator.fit(X_train, y_train, **fit_params)\n",
      "  File \"c:\\Users\\harsh\\anaconda3\\Lib\\site-packages\\sklearn\\base.py\", line 1152, in wrapper\n",
      "    return fit_method(estimator, *args, **kwargs)\n",
      "           ^^^^^^^^^^^^^^^^^^^^^^^^^^^^^^^^^^^^^^\n",
      "  File \"c:\\Users\\harsh\\anaconda3\\Lib\\site-packages\\sklearn\\linear_model\\_logistic.py\", line 1169, in fit\n",
      "    solver = _check_solver(self.solver, self.penalty, self.dual)\n",
      "             ^^^^^^^^^^^^^^^^^^^^^^^^^^^^^^^^^^^^^^^^^^^^^^^^^^^\n",
      "  File \"c:\\Users\\harsh\\anaconda3\\Lib\\site-packages\\sklearn\\linear_model\\_logistic.py\", line 56, in _check_solver\n",
      "    raise ValueError(\n",
      "ValueError: Solver newton-cg supports only 'l2' or 'none' penalties, got elasticnet penalty.\n",
      "\n",
      "--------------------------------------------------------------------------------\n",
      "15 fits failed with the following error:\n",
      "Traceback (most recent call last):\n",
      "  File \"c:\\Users\\harsh\\anaconda3\\Lib\\site-packages\\sklearn\\model_selection\\_validation.py\", line 729, in _fit_and_score\n",
      "    estimator.fit(X_train, y_train, **fit_params)\n",
      "  File \"c:\\Users\\harsh\\anaconda3\\Lib\\site-packages\\sklearn\\base.py\", line 1152, in wrapper\n",
      "    return fit_method(estimator, *args, **kwargs)\n",
      "           ^^^^^^^^^^^^^^^^^^^^^^^^^^^^^^^^^^^^^^\n",
      "  File \"c:\\Users\\harsh\\anaconda3\\Lib\\site-packages\\sklearn\\linear_model\\_logistic.py\", line 1169, in fit\n",
      "    solver = _check_solver(self.solver, self.penalty, self.dual)\n",
      "             ^^^^^^^^^^^^^^^^^^^^^^^^^^^^^^^^^^^^^^^^^^^^^^^^^^^\n",
      "  File \"c:\\Users\\harsh\\anaconda3\\Lib\\site-packages\\sklearn\\linear_model\\_logistic.py\", line 56, in _check_solver\n",
      "    raise ValueError(\n",
      "ValueError: Solver lbfgs supports only 'l2' or 'none' penalties, got elasticnet penalty.\n",
      "\n",
      "--------------------------------------------------------------------------------\n",
      "15 fits failed with the following error:\n",
      "Traceback (most recent call last):\n",
      "  File \"c:\\Users\\harsh\\anaconda3\\Lib\\site-packages\\sklearn\\model_selection\\_validation.py\", line 729, in _fit_and_score\n",
      "    estimator.fit(X_train, y_train, **fit_params)\n",
      "  File \"c:\\Users\\harsh\\anaconda3\\Lib\\site-packages\\sklearn\\base.py\", line 1152, in wrapper\n",
      "    return fit_method(estimator, *args, **kwargs)\n",
      "           ^^^^^^^^^^^^^^^^^^^^^^^^^^^^^^^^^^^^^^\n",
      "  File \"c:\\Users\\harsh\\anaconda3\\Lib\\site-packages\\sklearn\\linear_model\\_logistic.py\", line 1169, in fit\n",
      "    solver = _check_solver(self.solver, self.penalty, self.dual)\n",
      "             ^^^^^^^^^^^^^^^^^^^^^^^^^^^^^^^^^^^^^^^^^^^^^^^^^^^\n",
      "  File \"c:\\Users\\harsh\\anaconda3\\Lib\\site-packages\\sklearn\\linear_model\\_logistic.py\", line 66, in _check_solver\n",
      "    raise ValueError(\n",
      "ValueError: Only 'saga' solver supports elasticnet penalty, got solver=liblinear.\n",
      "\n",
      "--------------------------------------------------------------------------------\n",
      "15 fits failed with the following error:\n",
      "Traceback (most recent call last):\n",
      "  File \"c:\\Users\\harsh\\anaconda3\\Lib\\site-packages\\sklearn\\model_selection\\_validation.py\", line 729, in _fit_and_score\n",
      "    estimator.fit(X_train, y_train, **fit_params)\n",
      "  File \"c:\\Users\\harsh\\anaconda3\\Lib\\site-packages\\sklearn\\base.py\", line 1152, in wrapper\n",
      "    return fit_method(estimator, *args, **kwargs)\n",
      "           ^^^^^^^^^^^^^^^^^^^^^^^^^^^^^^^^^^^^^^\n",
      "  File \"c:\\Users\\harsh\\anaconda3\\Lib\\site-packages\\sklearn\\linear_model\\_logistic.py\", line 1169, in fit\n",
      "    solver = _check_solver(self.solver, self.penalty, self.dual)\n",
      "             ^^^^^^^^^^^^^^^^^^^^^^^^^^^^^^^^^^^^^^^^^^^^^^^^^^^\n",
      "  File \"c:\\Users\\harsh\\anaconda3\\Lib\\site-packages\\sklearn\\linear_model\\_logistic.py\", line 56, in _check_solver\n",
      "    raise ValueError(\n",
      "ValueError: Solver sag supports only 'l2' or 'none' penalties, got elasticnet penalty.\n",
      "\n",
      "--------------------------------------------------------------------------------\n",
      "15 fits failed with the following error:\n",
      "Traceback (most recent call last):\n",
      "  File \"c:\\Users\\harsh\\anaconda3\\Lib\\site-packages\\sklearn\\model_selection\\_validation.py\", line 729, in _fit_and_score\n",
      "    estimator.fit(X_train, y_train, **fit_params)\n",
      "  File \"c:\\Users\\harsh\\anaconda3\\Lib\\site-packages\\sklearn\\base.py\", line 1152, in wrapper\n",
      "    return fit_method(estimator, *args, **kwargs)\n",
      "           ^^^^^^^^^^^^^^^^^^^^^^^^^^^^^^^^^^^^^^\n",
      "  File \"c:\\Users\\harsh\\anaconda3\\Lib\\site-packages\\sklearn\\linear_model\\_logistic.py\", line 1179, in fit\n",
      "    raise ValueError(\"l1_ratio must be specified when penalty is elasticnet.\")\n",
      "ValueError: l1_ratio must be specified when penalty is elasticnet.\n",
      "\n",
      "--------------------------------------------------------------------------------\n",
      "15 fits failed with the following error:\n",
      "Traceback (most recent call last):\n",
      "  File \"c:\\Users\\harsh\\anaconda3\\Lib\\site-packages\\sklearn\\model_selection\\_validation.py\", line 729, in _fit_and_score\n",
      "    estimator.fit(X_train, y_train, **fit_params)\n",
      "  File \"c:\\Users\\harsh\\anaconda3\\Lib\\site-packages\\sklearn\\base.py\", line 1152, in wrapper\n",
      "    return fit_method(estimator, *args, **kwargs)\n",
      "           ^^^^^^^^^^^^^^^^^^^^^^^^^^^^^^^^^^^^^^\n",
      "  File \"c:\\Users\\harsh\\anaconda3\\Lib\\site-packages\\sklearn\\linear_model\\_logistic.py\", line 1169, in fit\n",
      "    solver = _check_solver(self.solver, self.penalty, self.dual)\n",
      "             ^^^^^^^^^^^^^^^^^^^^^^^^^^^^^^^^^^^^^^^^^^^^^^^^^^^\n",
      "  File \"c:\\Users\\harsh\\anaconda3\\Lib\\site-packages\\sklearn\\linear_model\\_logistic.py\", line 73, in _check_solver\n",
      "    raise ValueError(\"penalty='none' is not supported for the liblinear solver\")\n",
      "ValueError: penalty='none' is not supported for the liblinear solver\n",
      "\n",
      "  warnings.warn(some_fits_failed_message, FitFailedWarning)\n",
      "c:\\Users\\harsh\\anaconda3\\Lib\\site-packages\\sklearn\\model_selection\\_search.py:979: UserWarning: One or more of the test scores are non-finite: [       nan        nan 0.94576377        nan 0.95571753 0.95477702\n",
      " 0.95477702 0.94639078 0.95477702 0.95477702        nan        nan\n",
      "        nan        nan        nan 0.97625206 0.97625206        nan\n",
      " 0.97523317 0.97429266        nan        nan 0.97484129        nan\n",
      " 0.97225488 0.97092249 0.97092249 0.96700368 0.97084411 0.97037385\n",
      "        nan        nan        nan        nan        nan 0.97625206\n",
      " 0.97625206        nan 0.97523317 0.97429266        nan        nan\n",
      " 0.97664394        nan 0.97429266 0.97625206 0.97625206 0.97562505\n",
      " 0.97507642 0.97437103        nan        nan        nan        nan\n",
      "        nan 0.97625206 0.97625206        nan 0.97523317 0.97429266\n",
      "        nan        nan 0.97617368        nan 0.97421428 0.97633043\n",
      " 0.97633043 0.97648719 0.97515479 0.97421428        nan        nan\n",
      "        nan        nan        nan 0.97625206 0.97625206        nan\n",
      " 0.97523317 0.97429266        nan        nan 0.97625206        nan\n",
      " 0.97421428 0.97625206 0.97625206 0.97617368 0.97523317 0.97421428\n",
      "        nan        nan        nan        nan        nan 0.97625206\n",
      " 0.97625206        nan 0.97523317 0.97429266]\n",
      "  warnings.warn(\n"
     ]
    },
    {
     "name": "stdout",
     "output_type": "stream",
     "text": [
      "[CV 1/3] END ..C=100, penalty=none, solver=saga;, score=0.976 total time=   0.0s\n",
      "[CV 2/3] END ..C=100, penalty=none, solver=saga;, score=0.975 total time=   0.0s\n",
      "[CV 3/3] END ..C=100, penalty=none, solver=saga;, score=0.972 total time=   0.0s\n"
     ]
    },
    {
     "data": {
      "text/html": [
       "<style>#sk-container-id-11 {color: black;}#sk-container-id-11 pre{padding: 0;}#sk-container-id-11 div.sk-toggleable {background-color: white;}#sk-container-id-11 label.sk-toggleable__label {cursor: pointer;display: block;width: 100%;margin-bottom: 0;padding: 0.3em;box-sizing: border-box;text-align: center;}#sk-container-id-11 label.sk-toggleable__label-arrow:before {content: \"▸\";float: left;margin-right: 0.25em;color: #696969;}#sk-container-id-11 label.sk-toggleable__label-arrow:hover:before {color: black;}#sk-container-id-11 div.sk-estimator:hover label.sk-toggleable__label-arrow:before {color: black;}#sk-container-id-11 div.sk-toggleable__content {max-height: 0;max-width: 0;overflow: hidden;text-align: left;background-color: #f0f8ff;}#sk-container-id-11 div.sk-toggleable__content pre {margin: 0.2em;color: black;border-radius: 0.25em;background-color: #f0f8ff;}#sk-container-id-11 input.sk-toggleable__control:checked~div.sk-toggleable__content {max-height: 200px;max-width: 100%;overflow: auto;}#sk-container-id-11 input.sk-toggleable__control:checked~label.sk-toggleable__label-arrow:before {content: \"▾\";}#sk-container-id-11 div.sk-estimator input.sk-toggleable__control:checked~label.sk-toggleable__label {background-color: #d4ebff;}#sk-container-id-11 div.sk-label input.sk-toggleable__control:checked~label.sk-toggleable__label {background-color: #d4ebff;}#sk-container-id-11 input.sk-hidden--visually {border: 0;clip: rect(1px 1px 1px 1px);clip: rect(1px, 1px, 1px, 1px);height: 1px;margin: -1px;overflow: hidden;padding: 0;position: absolute;width: 1px;}#sk-container-id-11 div.sk-estimator {font-family: monospace;background-color: #f0f8ff;border: 1px dotted black;border-radius: 0.25em;box-sizing: border-box;margin-bottom: 0.5em;}#sk-container-id-11 div.sk-estimator:hover {background-color: #d4ebff;}#sk-container-id-11 div.sk-parallel-item::after {content: \"\";width: 100%;border-bottom: 1px solid gray;flex-grow: 1;}#sk-container-id-11 div.sk-label:hover label.sk-toggleable__label {background-color: #d4ebff;}#sk-container-id-11 div.sk-serial::before {content: \"\";position: absolute;border-left: 1px solid gray;box-sizing: border-box;top: 0;bottom: 0;left: 50%;z-index: 0;}#sk-container-id-11 div.sk-serial {display: flex;flex-direction: column;align-items: center;background-color: white;padding-right: 0.2em;padding-left: 0.2em;position: relative;}#sk-container-id-11 div.sk-item {position: relative;z-index: 1;}#sk-container-id-11 div.sk-parallel {display: flex;align-items: stretch;justify-content: center;background-color: white;position: relative;}#sk-container-id-11 div.sk-item::before, #sk-container-id-11 div.sk-parallel-item::before {content: \"\";position: absolute;border-left: 1px solid gray;box-sizing: border-box;top: 0;bottom: 0;left: 50%;z-index: -1;}#sk-container-id-11 div.sk-parallel-item {display: flex;flex-direction: column;z-index: 1;position: relative;background-color: white;}#sk-container-id-11 div.sk-parallel-item:first-child::after {align-self: flex-end;width: 50%;}#sk-container-id-11 div.sk-parallel-item:last-child::after {align-self: flex-start;width: 50%;}#sk-container-id-11 div.sk-parallel-item:only-child::after {width: 0;}#sk-container-id-11 div.sk-dashed-wrapped {border: 1px dashed gray;margin: 0 0.4em 0.5em 0.4em;box-sizing: border-box;padding-bottom: 0.4em;background-color: white;}#sk-container-id-11 div.sk-label label {font-family: monospace;font-weight: bold;display: inline-block;line-height: 1.2em;}#sk-container-id-11 div.sk-label-container {text-align: center;}#sk-container-id-11 div.sk-container {/* jupyter's `normalize.less` sets `[hidden] { display: none; }` but bootstrap.min.css set `[hidden] { display: none !important; }` so we also need the `!important` here to be able to override the default hidden behavior on the sphinx rendered scikit-learn.org. See: https://github.com/scikit-learn/scikit-learn/issues/21755 */display: inline-block !important;position: relative;}#sk-container-id-11 div.sk-text-repr-fallback {display: none;}</style><div id=\"sk-container-id-11\" class=\"sk-top-container\"><div class=\"sk-text-repr-fallback\"><pre>GridSearchCV(cv=3, estimator=LogisticRegression(random_state=245),\n",
       "             param_grid={&#x27;C&#x27;: [0.01, 0.1, 1, 10, 100],\n",
       "                         &#x27;penalty&#x27;: [&#x27;l1&#x27;, &#x27;l2&#x27;, &#x27;elasticnet&#x27;, &#x27;none&#x27;],\n",
       "                         &#x27;solver&#x27;: [&#x27;newton-cg&#x27;, &#x27;lbfgs&#x27;, &#x27;liblinear&#x27;, &#x27;sag&#x27;,\n",
       "                                    &#x27;saga&#x27;]},\n",
       "             verbose=3)</pre><b>In a Jupyter environment, please rerun this cell to show the HTML representation or trust the notebook. <br />On GitHub, the HTML representation is unable to render, please try loading this page with nbviewer.org.</b></div><div class=\"sk-container\" hidden><div class=\"sk-item sk-dashed-wrapped\"><div class=\"sk-label-container\"><div class=\"sk-label sk-toggleable\"><input class=\"sk-toggleable__control sk-hidden--visually\" id=\"sk-estimator-id-17\" type=\"checkbox\" ><label for=\"sk-estimator-id-17\" class=\"sk-toggleable__label sk-toggleable__label-arrow\">GridSearchCV</label><div class=\"sk-toggleable__content\"><pre>GridSearchCV(cv=3, estimator=LogisticRegression(random_state=245),\n",
       "             param_grid={&#x27;C&#x27;: [0.01, 0.1, 1, 10, 100],\n",
       "                         &#x27;penalty&#x27;: [&#x27;l1&#x27;, &#x27;l2&#x27;, &#x27;elasticnet&#x27;, &#x27;none&#x27;],\n",
       "                         &#x27;solver&#x27;: [&#x27;newton-cg&#x27;, &#x27;lbfgs&#x27;, &#x27;liblinear&#x27;, &#x27;sag&#x27;,\n",
       "                                    &#x27;saga&#x27;]},\n",
       "             verbose=3)</pre></div></div></div><div class=\"sk-parallel\"><div class=\"sk-parallel-item\"><div class=\"sk-item\"><div class=\"sk-label-container\"><div class=\"sk-label sk-toggleable\"><input class=\"sk-toggleable__control sk-hidden--visually\" id=\"sk-estimator-id-18\" type=\"checkbox\" ><label for=\"sk-estimator-id-18\" class=\"sk-toggleable__label sk-toggleable__label-arrow\">estimator: LogisticRegression</label><div class=\"sk-toggleable__content\"><pre>LogisticRegression(random_state=245)</pre></div></div></div><div class=\"sk-serial\"><div class=\"sk-item\"><div class=\"sk-estimator sk-toggleable\"><input class=\"sk-toggleable__control sk-hidden--visually\" id=\"sk-estimator-id-19\" type=\"checkbox\" ><label for=\"sk-estimator-id-19\" class=\"sk-toggleable__label sk-toggleable__label-arrow\">LogisticRegression</label><div class=\"sk-toggleable__content\"><pre>LogisticRegression(random_state=245)</pre></div></div></div></div></div></div></div></div></div></div>"
      ],
      "text/plain": [
       "GridSearchCV(cv=3, estimator=LogisticRegression(random_state=245),\n",
       "             param_grid={'C': [0.01, 0.1, 1, 10, 100],\n",
       "                         'penalty': ['l1', 'l2', 'elasticnet', 'none'],\n",
       "                         'solver': ['newton-cg', 'lbfgs', 'liblinear', 'sag',\n",
       "                                    'saga']},\n",
       "             verbose=3)"
      ]
     },
     "execution_count": 91,
     "metadata": {},
     "output_type": "execute_result"
    }
   ],
   "source": [
    "log_corr_gt1_pca_grid = GridSearchCV(LogisticRegression(random_state=random_state), log_param_grid, cv=cv, n_jobs=n_jobs, verbose=verbose)\n",
    "log_corr_gt1_pca_grid.fit(X_corr_gt1_pca_val, y_corr_gt1_pca_val)"
   ]
  },
  {
   "cell_type": "code",
   "execution_count": 92,
   "id": "21ef3bad",
   "metadata": {},
   "outputs": [
    {
     "name": "stdout",
     "output_type": "stream",
     "text": [
      "{'C': 1, 'penalty': 'l1', 'solver': 'liblinear'}\n"
     ]
    }
   ],
   "source": [
    "print(log_corr_gt1_pca_grid.best_params_)"
   ]
  },
  {
   "cell_type": "code",
   "execution_count": 93,
   "id": "396870a0",
   "metadata": {},
   "outputs": [
    {
     "data": {
      "text/html": [
       "<style>#sk-container-id-12 {color: black;}#sk-container-id-12 pre{padding: 0;}#sk-container-id-12 div.sk-toggleable {background-color: white;}#sk-container-id-12 label.sk-toggleable__label {cursor: pointer;display: block;width: 100%;margin-bottom: 0;padding: 0.3em;box-sizing: border-box;text-align: center;}#sk-container-id-12 label.sk-toggleable__label-arrow:before {content: \"▸\";float: left;margin-right: 0.25em;color: #696969;}#sk-container-id-12 label.sk-toggleable__label-arrow:hover:before {color: black;}#sk-container-id-12 div.sk-estimator:hover label.sk-toggleable__label-arrow:before {color: black;}#sk-container-id-12 div.sk-toggleable__content {max-height: 0;max-width: 0;overflow: hidden;text-align: left;background-color: #f0f8ff;}#sk-container-id-12 div.sk-toggleable__content pre {margin: 0.2em;color: black;border-radius: 0.25em;background-color: #f0f8ff;}#sk-container-id-12 input.sk-toggleable__control:checked~div.sk-toggleable__content {max-height: 200px;max-width: 100%;overflow: auto;}#sk-container-id-12 input.sk-toggleable__control:checked~label.sk-toggleable__label-arrow:before {content: \"▾\";}#sk-container-id-12 div.sk-estimator input.sk-toggleable__control:checked~label.sk-toggleable__label {background-color: #d4ebff;}#sk-container-id-12 div.sk-label input.sk-toggleable__control:checked~label.sk-toggleable__label {background-color: #d4ebff;}#sk-container-id-12 input.sk-hidden--visually {border: 0;clip: rect(1px 1px 1px 1px);clip: rect(1px, 1px, 1px, 1px);height: 1px;margin: -1px;overflow: hidden;padding: 0;position: absolute;width: 1px;}#sk-container-id-12 div.sk-estimator {font-family: monospace;background-color: #f0f8ff;border: 1px dotted black;border-radius: 0.25em;box-sizing: border-box;margin-bottom: 0.5em;}#sk-container-id-12 div.sk-estimator:hover {background-color: #d4ebff;}#sk-container-id-12 div.sk-parallel-item::after {content: \"\";width: 100%;border-bottom: 1px solid gray;flex-grow: 1;}#sk-container-id-12 div.sk-label:hover label.sk-toggleable__label {background-color: #d4ebff;}#sk-container-id-12 div.sk-serial::before {content: \"\";position: absolute;border-left: 1px solid gray;box-sizing: border-box;top: 0;bottom: 0;left: 50%;z-index: 0;}#sk-container-id-12 div.sk-serial {display: flex;flex-direction: column;align-items: center;background-color: white;padding-right: 0.2em;padding-left: 0.2em;position: relative;}#sk-container-id-12 div.sk-item {position: relative;z-index: 1;}#sk-container-id-12 div.sk-parallel {display: flex;align-items: stretch;justify-content: center;background-color: white;position: relative;}#sk-container-id-12 div.sk-item::before, #sk-container-id-12 div.sk-parallel-item::before {content: \"\";position: absolute;border-left: 1px solid gray;box-sizing: border-box;top: 0;bottom: 0;left: 50%;z-index: -1;}#sk-container-id-12 div.sk-parallel-item {display: flex;flex-direction: column;z-index: 1;position: relative;background-color: white;}#sk-container-id-12 div.sk-parallel-item:first-child::after {align-self: flex-end;width: 50%;}#sk-container-id-12 div.sk-parallel-item:last-child::after {align-self: flex-start;width: 50%;}#sk-container-id-12 div.sk-parallel-item:only-child::after {width: 0;}#sk-container-id-12 div.sk-dashed-wrapped {border: 1px dashed gray;margin: 0 0.4em 0.5em 0.4em;box-sizing: border-box;padding-bottom: 0.4em;background-color: white;}#sk-container-id-12 div.sk-label label {font-family: monospace;font-weight: bold;display: inline-block;line-height: 1.2em;}#sk-container-id-12 div.sk-label-container {text-align: center;}#sk-container-id-12 div.sk-container {/* jupyter's `normalize.less` sets `[hidden] { display: none; }` but bootstrap.min.css set `[hidden] { display: none !important; }` so we also need the `!important` here to be able to override the default hidden behavior on the sphinx rendered scikit-learn.org. See: https://github.com/scikit-learn/scikit-learn/issues/21755 */display: inline-block !important;position: relative;}#sk-container-id-12 div.sk-text-repr-fallback {display: none;}</style><div id=\"sk-container-id-12\" class=\"sk-top-container\"><div class=\"sk-text-repr-fallback\"><pre>LogisticRegression(C=1, penalty=&#x27;l1&#x27;, random_state=245, solver=&#x27;liblinear&#x27;)</pre><b>In a Jupyter environment, please rerun this cell to show the HTML representation or trust the notebook. <br />On GitHub, the HTML representation is unable to render, please try loading this page with nbviewer.org.</b></div><div class=\"sk-container\" hidden><div class=\"sk-item\"><div class=\"sk-estimator sk-toggleable\"><input class=\"sk-toggleable__control sk-hidden--visually\" id=\"sk-estimator-id-20\" type=\"checkbox\" checked><label for=\"sk-estimator-id-20\" class=\"sk-toggleable__label sk-toggleable__label-arrow\">LogisticRegression</label><div class=\"sk-toggleable__content\"><pre>LogisticRegression(C=1, penalty=&#x27;l1&#x27;, random_state=245, solver=&#x27;liblinear&#x27;)</pre></div></div></div></div></div>"
      ],
      "text/plain": [
       "LogisticRegression(C=1, penalty='l1', random_state=245, solver='liblinear')"
      ]
     },
     "execution_count": 93,
     "metadata": {},
     "output_type": "execute_result"
    }
   ],
   "source": [
    "log_corr_gt1_pca = LogisticRegression(**log_corr_gt1_pca_grid.best_params_, random_state=random_state)\n",
    "log_corr_gt1_pca.fit(X_corr_gt1_pca_train, y_corr_gt1_pca_train)"
   ]
  },
  {
   "cell_type": "code",
   "execution_count": 94,
   "id": "80a49c32",
   "metadata": {},
   "outputs": [
    {
     "name": "stdout",
     "output_type": "stream",
     "text": [
      "              precision    recall  f1-score   support\n",
      "\n",
      "         0.0       0.98      0.98      0.98      7209\n",
      "         1.0       0.97      0.98      0.98      5550\n",
      "\n",
      "    accuracy                           0.98     12759\n",
      "   macro avg       0.98      0.98      0.98     12759\n",
      "weighted avg       0.98      0.98      0.98     12759\n",
      "\n"
     ]
    }
   ],
   "source": [
    "print(classification_report(y_corr_gt1_pca_test, log_corr_gt1_pca.predict(X_corr_gt1_pca_test)))"
   ]
  },
  {
   "cell_type": "code",
   "execution_count": 95,
   "id": "5ba8a401",
   "metadata": {},
   "outputs": [
    {
     "name": "stdout",
     "output_type": "stream",
     "text": [
      "              precision    recall  f1-score   support\n",
      "\n",
      "         0.0       0.98      0.98      0.98      7209\n",
      "         1.0       0.97      0.98      0.98      5550\n",
      "\n",
      "    accuracy                           0.98     12759\n",
      "   macro avg       0.98      0.98      0.98     12759\n",
      "weighted avg       0.98      0.98      0.98     12759\n",
      "\n",
      "\n",
      "Model: Logisitc Regression {'C': 1, 'penalty': 'l1', 'solver': 'liblinear'}\n",
      "Data size: 12759\n",
      "Accuracy: 0.9784465867230974\n",
      "Precision: 0.9737740255074546\n",
      "Recall: 0.9767567567567568\n",
      "F1: 0.9752631105514078\n",
      "Time per data per iter: 565.6266165059958\n"
     ]
    }
   ],
   "source": [
    "benchmarkAndUpdateResult(\n",
    "        df_known_attacks,\n",
    "        log_corr_gt1_pca,\n",
    "        f\"Logisitc Regression {log_corr_gt1_pca_grid.best_params_}\",\n",
    "        \"Known attacks\",\n",
    "        \"|correlation| > 0.1 features with 95% PCA\",\n",
    "        pipeline_corr_gt1_pca,\n",
    "        scaler=scaler_gt1,\n",
    "        cols=cols_corr_gt1,\n",
    "        pca=pca_corr_gt1\n",
    "        )"
   ]
  },
  {
   "cell_type": "code",
   "execution_count": 96,
   "id": "aec96012",
   "metadata": {},
   "outputs": [
    {
     "name": "stdout",
     "output_type": "stream",
     "text": [
      "              precision    recall  f1-score   support\n",
      "\n",
      "           0       0.98      0.99      0.98     15969\n",
      "           1       0.98      0.97      0.98     10440\n",
      "\n",
      "    accuracy                           0.98     26409\n",
      "   macro avg       0.98      0.98      0.98     26409\n",
      "weighted avg       0.98      0.98      0.98     26409\n",
      "\n",
      "\n",
      "Model: Logistic Regression {'C': 1, 'penalty': 'l1', 'solver': 'liblinear'}\n",
      "Data size: 26409\n",
      "Accuracy: 0.9817486462948237\n",
      "Precision: 0.9805056938814901\n",
      "Recall: 0.9731800766283525\n",
      "F1: 0.9768291510431689\n",
      "Time per data per iter: 415.227005944943\n"
     ]
    }
   ],
   "source": [
    "benchmarkAndUpdateResult(\n",
    "        df_similar_attacks,\n",
    "        log_corr_gt1_pca,\n",
    "        f\"Logistic Regression {log_corr_gt1_pca_grid.best_params_}\",\n",
    "        \"Similar attacks\",\n",
    "        \"|correlation| > 0.1 features with 95% PCA\",\n",
    "        pipeline_corr_gt1_pca,\n",
    "        scaler=scaler_gt1,\n",
    "        cols=cols_corr_gt1,\n",
    "        pca=pca_corr_gt1\n",
    "        )"
   ]
  },
  {
   "cell_type": "code",
   "execution_count": 97,
   "id": "8728980e",
   "metadata": {},
   "outputs": [
    {
     "name": "stdout",
     "output_type": "stream",
     "text": [
      "              precision    recall  f1-score   support\n",
      "\n",
      "           0       0.77      0.99      0.87     58138\n",
      "           1       0.55      0.03      0.06     17752\n",
      "\n",
      "    accuracy                           0.77     75890\n",
      "   macro avg       0.66      0.51      0.46     75890\n",
      "weighted avg       0.72      0.77      0.68     75890\n",
      "\n",
      "\n",
      "Model: Logistic Regression {'C': 1, 'penalty': 'l1', 'solver': 'liblinear'}\n",
      "Data size: 75890\n",
      "Accuracy: 0.7673606535775465\n",
      "Precision: 0.5457979225684608\n",
      "Recall: 0.0325597115817936\n",
      "F1: 0.06145340492265163\n",
      "Time per data per iter: 420.4991434971669\n"
     ]
    }
   ],
   "source": [
    "benchmarkAndUpdateResult(\n",
    "        df_new_attacks,\n",
    "        log_corr_gt1_pca,\n",
    "        f\"Logistic Regression {log_corr_gt1_pca_grid.best_params_}\",\n",
    "        \"New attacks\",\n",
    "        \"|correlation| > 0.1 features with 95% PCA\",\n",
    "        pipeline_corr_gt1_pca,\n",
    "        scaler=scaler_gt1,\n",
    "        cols=cols_corr_gt1,\n",
    "        pca=pca_corr_gt1\n",
    "        )"
   ]
  },
  {
   "cell_type": "code",
   "execution_count": 98,
   "id": "5bdfc189",
   "metadata": {},
   "outputs": [
    {
     "data": {
      "text/html": [
       "<div>\n",
       "<style scoped>\n",
       "    .dataframe tbody tr th:only-of-type {\n",
       "        vertical-align: middle;\n",
       "    }\n",
       "\n",
       "    .dataframe tbody tr th {\n",
       "        vertical-align: top;\n",
       "    }\n",
       "\n",
       "    .dataframe thead th {\n",
       "        text-align: right;\n",
       "    }\n",
       "</style>\n",
       "<table border=\"1\" class=\"dataframe\">\n",
       "  <thead>\n",
       "    <tr style=\"text-align: right;\">\n",
       "      <th></th>\n",
       "      <th>Model</th>\n",
       "      <th>Dataset</th>\n",
       "      <th>Info</th>\n",
       "      <th>Data size</th>\n",
       "      <th>Accuracy</th>\n",
       "      <th>Precision</th>\n",
       "      <th>Recall</th>\n",
       "      <th>F1</th>\n",
       "      <th>Time per data per iter</th>\n",
       "    </tr>\n",
       "  </thead>\n",
       "  <tbody>\n",
       "    <tr>\n",
       "      <th>0</th>\n",
       "      <td>Logistic Regression {'C': 1, 'penalty': 'l1', 'solver': 'liblinear'}</td>\n",
       "      <td>Known attacks</td>\n",
       "      <td>All features scaled</td>\n",
       "      <td>12759</td>\n",
       "      <td>0.993338</td>\n",
       "      <td>0.989959</td>\n",
       "      <td>0.994775</td>\n",
       "      <td>0.992361</td>\n",
       "      <td>593.930559</td>\n",
       "    </tr>\n",
       "    <tr>\n",
       "      <th>1</th>\n",
       "      <td>Logistic Regression {'C': 1, 'penalty': 'l1', 'solver': 'liblinear'}</td>\n",
       "      <td>Similar attacks</td>\n",
       "      <td>All features scaled</td>\n",
       "      <td>26409</td>\n",
       "      <td>0.980045</td>\n",
       "      <td>0.995105</td>\n",
       "      <td>0.954215</td>\n",
       "      <td>0.974231</td>\n",
       "      <td>496.575410</td>\n",
       "    </tr>\n",
       "    <tr>\n",
       "      <th>2</th>\n",
       "      <td>Logistic Regression {'C': 1, 'penalty': 'l1', 'solver': 'liblinear'}</td>\n",
       "      <td>New attacks</td>\n",
       "      <td>All features scaled</td>\n",
       "      <td>75890</td>\n",
       "      <td>0.774476</td>\n",
       "      <td>0.845070</td>\n",
       "      <td>0.043939</td>\n",
       "      <td>0.083534</td>\n",
       "      <td>420.447490</td>\n",
       "    </tr>\n",
       "    <tr>\n",
       "      <th>3</th>\n",
       "      <td>Logistic Regression {'C': 0.01, 'penalty': 'none', 'solver': 'newton-cg'}</td>\n",
       "      <td>Known attacks</td>\n",
       "      <td>|correlation| &gt; 0.1 features scaled</td>\n",
       "      <td>12759</td>\n",
       "      <td>0.989654</td>\n",
       "      <td>0.983232</td>\n",
       "      <td>0.993153</td>\n",
       "      <td>0.988168</td>\n",
       "      <td>439.863626</td>\n",
       "    </tr>\n",
       "    <tr>\n",
       "      <th>4</th>\n",
       "      <td>Logistic Regression {'C': 0.01, 'penalty': 'none', 'solver': 'newton-cg'}</td>\n",
       "      <td>Similar attacks</td>\n",
       "      <td>|correlation| &gt; 0.1 features scaled</td>\n",
       "      <td>26409</td>\n",
       "      <td>0.984134</td>\n",
       "      <td>0.987640</td>\n",
       "      <td>0.972031</td>\n",
       "      <td>0.979773</td>\n",
       "      <td>338.087773</td>\n",
       "    </tr>\n",
       "    <tr>\n",
       "      <th>5</th>\n",
       "      <td>Logistic Regression{'C': 0.01, 'penalty': 'none', 'solver': 'newton-cg'}</td>\n",
       "      <td>New attacks</td>\n",
       "      <td>|correlation| &gt; 0.1 features scaled</td>\n",
       "      <td>75890</td>\n",
       "      <td>0.784675</td>\n",
       "      <td>0.821999</td>\n",
       "      <td>0.101453</td>\n",
       "      <td>0.180615</td>\n",
       "      <td>286.526552</td>\n",
       "    </tr>\n",
       "    <tr>\n",
       "      <th>6</th>\n",
       "      <td>Logistic Regression {'C': 0.01, 'penalty': 'none', 'solver': 'lbfgs'}</td>\n",
       "      <td>Known attacks</td>\n",
       "      <td>All features with 95% PCA</td>\n",
       "      <td>12759</td>\n",
       "      <td>0.977036</td>\n",
       "      <td>0.970973</td>\n",
       "      <td>0.976396</td>\n",
       "      <td>0.973677</td>\n",
       "      <td>927.912062</td>\n",
       "    </tr>\n",
       "    <tr>\n",
       "      <th>7</th>\n",
       "      <td>Logistic Regressiion {'C': 0.01, 'penalty': 'none', 'solver': 'lbfgs'}</td>\n",
       "      <td>Similar attacks</td>\n",
       "      <td>All features with 95% PCA</td>\n",
       "      <td>26409</td>\n",
       "      <td>0.982847</td>\n",
       "      <td>0.980838</td>\n",
       "      <td>0.975670</td>\n",
       "      <td>0.978247</td>\n",
       "      <td>894.395471</td>\n",
       "    </tr>\n",
       "    <tr>\n",
       "      <th>8</th>\n",
       "      <td>Logistic Regression {'C': 0.01, 'penalty': 'none', 'solver': 'lbfgs'}</td>\n",
       "      <td>New attacks</td>\n",
       "      <td>All features with 95% PCA</td>\n",
       "      <td>75890</td>\n",
       "      <td>0.766491</td>\n",
       "      <td>0.511716</td>\n",
       "      <td>0.038137</td>\n",
       "      <td>0.070983</td>\n",
       "      <td>909.484912</td>\n",
       "    </tr>\n",
       "    <tr>\n",
       "      <th>9</th>\n",
       "      <td>Logisitc Regression {'C': 1, 'penalty': 'l1', 'solver': 'liblinear'}</td>\n",
       "      <td>Known attacks</td>\n",
       "      <td>|correlation| &gt; 0.1 features with 95% PCA</td>\n",
       "      <td>12759</td>\n",
       "      <td>0.978447</td>\n",
       "      <td>0.973774</td>\n",
       "      <td>0.976757</td>\n",
       "      <td>0.975263</td>\n",
       "      <td>565.626617</td>\n",
       "    </tr>\n",
       "    <tr>\n",
       "      <th>10</th>\n",
       "      <td>Logistic Regression {'C': 1, 'penalty': 'l1', 'solver': 'liblinear'}</td>\n",
       "      <td>Similar attacks</td>\n",
       "      <td>|correlation| &gt; 0.1 features with 95% PCA</td>\n",
       "      <td>26409</td>\n",
       "      <td>0.981749</td>\n",
       "      <td>0.980506</td>\n",
       "      <td>0.973180</td>\n",
       "      <td>0.976829</td>\n",
       "      <td>415.227006</td>\n",
       "    </tr>\n",
       "    <tr>\n",
       "      <th>11</th>\n",
       "      <td>Logistic Regression {'C': 1, 'penalty': 'l1', 'solver': 'liblinear'}</td>\n",
       "      <td>New attacks</td>\n",
       "      <td>|correlation| &gt; 0.1 features with 95% PCA</td>\n",
       "      <td>75890</td>\n",
       "      <td>0.767361</td>\n",
       "      <td>0.545798</td>\n",
       "      <td>0.032560</td>\n",
       "      <td>0.061453</td>\n",
       "      <td>420.499143</td>\n",
       "    </tr>\n",
       "  </tbody>\n",
       "</table>\n",
       "</div>"
      ],
      "text/plain": [
       "                                                                        Model          Dataset                                       Info  Data size  Accuracy  Precision    Recall        F1  Time per data per iter\n",
       "0        Logistic Regression {'C': 1, 'penalty': 'l1', 'solver': 'liblinear'}    Known attacks                        All features scaled      12759  0.993338   0.989959  0.994775  0.992361              593.930559\n",
       "1        Logistic Regression {'C': 1, 'penalty': 'l1', 'solver': 'liblinear'}  Similar attacks                        All features scaled      26409  0.980045   0.995105  0.954215  0.974231              496.575410\n",
       "2        Logistic Regression {'C': 1, 'penalty': 'l1', 'solver': 'liblinear'}      New attacks                        All features scaled      75890  0.774476   0.845070  0.043939  0.083534              420.447490\n",
       "3   Logistic Regression {'C': 0.01, 'penalty': 'none', 'solver': 'newton-cg'}    Known attacks        |correlation| > 0.1 features scaled      12759  0.989654   0.983232  0.993153  0.988168              439.863626\n",
       "4   Logistic Regression {'C': 0.01, 'penalty': 'none', 'solver': 'newton-cg'}  Similar attacks        |correlation| > 0.1 features scaled      26409  0.984134   0.987640  0.972031  0.979773              338.087773\n",
       "5    Logistic Regression{'C': 0.01, 'penalty': 'none', 'solver': 'newton-cg'}      New attacks        |correlation| > 0.1 features scaled      75890  0.784675   0.821999  0.101453  0.180615              286.526552\n",
       "6       Logistic Regression {'C': 0.01, 'penalty': 'none', 'solver': 'lbfgs'}    Known attacks                  All features with 95% PCA      12759  0.977036   0.970973  0.976396  0.973677              927.912062\n",
       "7      Logistic Regressiion {'C': 0.01, 'penalty': 'none', 'solver': 'lbfgs'}  Similar attacks                  All features with 95% PCA      26409  0.982847   0.980838  0.975670  0.978247              894.395471\n",
       "8       Logistic Regression {'C': 0.01, 'penalty': 'none', 'solver': 'lbfgs'}      New attacks                  All features with 95% PCA      75890  0.766491   0.511716  0.038137  0.070983              909.484912\n",
       "9        Logisitc Regression {'C': 1, 'penalty': 'l1', 'solver': 'liblinear'}    Known attacks  |correlation| > 0.1 features with 95% PCA      12759  0.978447   0.973774  0.976757  0.975263              565.626617\n",
       "10       Logistic Regression {'C': 1, 'penalty': 'l1', 'solver': 'liblinear'}  Similar attacks  |correlation| > 0.1 features with 95% PCA      26409  0.981749   0.980506  0.973180  0.976829              415.227006\n",
       "11       Logistic Regression {'C': 1, 'penalty': 'l1', 'solver': 'liblinear'}      New attacks  |correlation| > 0.1 features with 95% PCA      75890  0.767361   0.545798  0.032560  0.061453              420.499143"
      ]
     },
     "execution_count": 98,
     "metadata": {},
     "output_type": "execute_result"
    }
   ],
   "source": [
    "benchmark_results"
   ]
  }
 ],
 "metadata": {
  "kernelspec": {
   "display_name": "Python 3 (ipykernel)",
   "language": "python",
   "name": "python3"
  },
  "language_info": {
   "codemirror_mode": {
    "name": "ipython",
    "version": 3
   },
   "file_extension": ".py",
   "mimetype": "text/x-python",
   "name": "python",
   "nbconvert_exporter": "python",
   "pygments_lexer": "ipython3",
   "version": "3.11.4"
  }
 },
 "nbformat": 4,
 "nbformat_minor": 5
}
