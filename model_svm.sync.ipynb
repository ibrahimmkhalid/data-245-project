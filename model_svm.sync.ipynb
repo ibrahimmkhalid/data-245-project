{
 "cells": [
  {
   "cell_type": "code",
   "execution_count": 4,
   "id": "3b3d64ce",
   "metadata": {},
   "outputs": [],
   "source": [
    "try:\n",
    "    from google.colab import drive\n",
    "    drive.mount('/content/drive')\n",
    "    IN_COLAB = True\n",
    "except:\n",
    "    IN_COLAB = False"
   ]
  },
  {
   "cell_type": "code",
   "execution_count": null,
   "id": "80633f7f",
   "metadata": {},
   "outputs": [],
   "source": [
    "if IN_COLAB:\n",
    "    !git clone https://github.com/rapidsai/rapidsai-csp-utils.git\n",
    "    !python rapidsai-csp-utils/colab/pip-install.py\n",
    "    pass"
   ]
  },
  {
   "cell_type": "code",
   "execution_count": null,
   "id": "ebe5fae8",
   "metadata": {},
   "outputs": [],
   "source": [
    "import pandas as pd\n",
    "import numpy as np\n",
    "import time\n",
    "from sklearn.metrics import accuracy_score, precision_score, recall_score, f1_score\n",
    "\n",
    "pd.set_option(\"display.width\", 10000)\n",
    "\n",
    "TESTING = True\n",
    "TESTING_SIZE = 0.001\n",
    "BENCMARK_ITER_N = 1\n",
    "random_state = 245\n",
    "\n",
    "benchmark_results = pd.DataFrame(\n",
    "    columns=[\n",
    "        \"Model\",\n",
    "        \"Dataset\",\n",
    "        \"Info\",\n",
    "        \"Data size\",\n",
    "        \"Accuracy\",\n",
    "        \"Precision\",\n",
    "        \"Recall\",\n",
    "        \"F1\",\n",
    "        \"Time per data per iter\",\n",
    "    ]\n",
    ")\n",
    "\n",
    "\n",
    "def benchmarkAndUpdateResult(X_test, y_test, model, model_name, dataset_name, info=\"\"):\n",
    "    \"\"\"\n",
    "    Benchmark the model and update the results dataframe\n",
    "\n",
    "    Parameters\n",
    "    ----------\n",
    "    X_test : The test data\n",
    "    y_test : The actual test labels\n",
    "    model : The model to be benchmarked, must have the predict method\n",
    "    model_name : The name of the model\n",
    "    dataset_name : The name of the dataset\n",
    "    info : Additional information about the model\n",
    "    \"\"\"\n",
    "    global benchmark_results\n",
    "    data_size = np.shape(X_test)[0]\n",
    "    y_pred = model.predict(X_test)\n",
    "    accuracy = accuracy_score(y_test, y_pred)\n",
    "    precision = precision_score(y_test, y_pred)\n",
    "    recall = recall_score(y_test, y_pred)\n",
    "    f1 = f1_score(y_test, y_pred)\n",
    "    iter_n = BENCMARK_ITER_N\n",
    "    start = time.time()\n",
    "    for _ in range(iter_n):  # benchmark\n",
    "        for j in range(data_size):  # simulating real time data\n",
    "            model.predict(X_test[j : j + 1])\n",
    "    end = time.time()\n",
    "    time_per_data_per_iter = (end - start) / data_size / iter_n\n",
    "    benchmark_results.loc[len(benchmark_results)] = [\n",
    "        model_name,\n",
    "        dataset_name,\n",
    "        info,\n",
    "        data_size,\n",
    "        accuracy,\n",
    "        precision,\n",
    "        recall,\n",
    "        f1,\n",
    "        time_per_data_per_iter,\n",
    "    ]\n",
    "    print(f\"Model: {model_name}\")\n",
    "    print(f\"Data size: {data_size}\")\n",
    "    print(f\"Accuracy: {accuracy}\")\n",
    "    print(f\"Precision: {precision}\")\n",
    "    print(f\"Recall: {recall}\")\n",
    "    print(f\"F1: {f1}\")\n",
    "    print(f\"Time per data per iter: {time_per_data_per_iter}\")"
   ]
  },
  {
   "cell_type": "code",
   "execution_count": 2,
   "id": "63d81448",
   "metadata": {},
   "outputs": [],
   "source": [
    "# sample binary classification, replace wiht the actual code for the project\n",
    "if IN_COLAB:\n",
    "    from cuml.svm import SVC\n",
    "    import cudf\n",
    "    %load_ext cudf.pandas\n",
    "else:\n",
    "    from sklearn.svm import SVC\n",
    "from sklearn.model_selection import train_test_split\n",
    "import pandas as pd\n",
    "import matplotlib.pyplot as plt\n",
    "import seaborn as sns\n",
    "from sklearn.decomposition import PCA\n",
    "from sklearn.preprocessing import StandardScaler\n",
    "from sklearn.model_selection import GridSearchCV"
   ]
  },
  {
   "cell_type": "code",
   "execution_count": 3,
   "id": "5db8635f",
   "metadata": {},
   "outputs": [],
   "source": [
    "if IN_COLAB:\n",
    "    prepend_path = \"/content/drive/MyDrive/Syncable/sjsu/data-245/DATA 245 Project Files/data\"\n",
    "else:\n",
    "    prepend_path = \"./data\"\n",
    "known_attacks_path = f\"{prepend_path}/probe_known_attacks_small.csv\"\n",
    "similar_attacks_path = f\"{prepend_path}/probe_similar_attacks_small.csv\"\n",
    "new_attacks_path = f\"{prepend_path}/probe_new_attacks_small.csv\""
   ]
  },
  {
   "cell_type": "code",
   "execution_count": 4,
   "id": "332640bb",
   "metadata": {},
   "outputs": [],
   "source": [
    "df = pd.read_csv(known_attacks_path, low_memory=False)"
   ]
  },
  {
   "cell_type": "code",
   "execution_count": 5,
   "id": "18297501",
   "metadata": {},
   "outputs": [
    {
     "data": {
      "text/plain": [
       "(85, 51)"
      ]
     },
     "execution_count": 5,
     "metadata": {},
     "output_type": "execute_result"
    }
   ],
   "source": [
    "if TESTING:\n",
    "    df = df.sample(frac=TESTING_SIZE, random_state=random_state)\n",
    "    df.reset_index(drop=True, inplace=True)\n",
    "df.shape"
   ]
  },
  {
   "cell_type": "code",
   "execution_count": 6,
   "id": "4cdd9813",
   "metadata": {},
   "outputs": [
    {
     "data": {
      "text/plain": [
       "Index(['ip_type', 'ip_len', 'ip_id', 'ip_offset', 'ip_RF', 'ip_DF', 'ip_MF', 'ip_proto', 'ip_checksum', 'udp_sport', 'udp_dport', 'udp_len', 'udp_chk', 'icmp_type', 'icmp_code', 'icmp_chk', 'tcp_sport', 'tcp_dport', 'tcp_seq', 'tcp_ack', 'tcp_ffyn', 'tcp_fsyn', 'tcp_frst', 'tcp_fpush', 'tcp_fack', 'tcp_furg', 'fr_length', 'conn_status', 'count_fr_src_dst', 'count_fr_dst_src', 'count_serv_src_dst', 'count_serv_dst_src', 'num_bytes_src_dst', 'num_bytes_dst_src', 'num_bytes_serv_src_dst', 'num_bytes_serv_dst_src', 'num_pushed_src_dst', 'num_pushed_dst_src', 'num_syn_fin_src_dst', 'num_syn_fin_dst_src', 'num_fin_src_dst', 'num_fin_dst_src', 'num_ack_src_dst', 'num_ack_dst_src', 'num_syn_src_dst', 'num_syn_dst_src', 'num_rst_src_dst', 'num_rst_dst_src', 'first_packet', 'first_serv_packet', 'class'], dtype='object')"
      ]
     },
     "execution_count": 6,
     "metadata": {},
     "output_type": "execute_result"
    }
   ],
   "source": [
    "df.columns"
   ]
  },
  {
   "cell_type": "code",
   "execution_count": 7,
   "id": "31c9ed06",
   "metadata": {},
   "outputs": [
    {
     "data": {
      "text/html": [
       "<div>\n",
       "<style scoped>\n",
       "    .dataframe tbody tr th:only-of-type {\n",
       "        vertical-align: middle;\n",
       "    }\n",
       "\n",
       "    .dataframe tbody tr th {\n",
       "        vertical-align: top;\n",
       "    }\n",
       "\n",
       "    .dataframe thead th {\n",
       "        text-align: right;\n",
       "    }\n",
       "</style>\n",
       "<table border=\"1\" class=\"dataframe\">\n",
       "  <thead>\n",
       "    <tr style=\"text-align: right;\">\n",
       "      <th></th>\n",
       "      <th>ip_type</th>\n",
       "      <th>ip_len</th>\n",
       "      <th>ip_id</th>\n",
       "      <th>ip_offset</th>\n",
       "      <th>ip_RF</th>\n",
       "      <th>ip_DF</th>\n",
       "      <th>ip_MF</th>\n",
       "      <th>ip_proto</th>\n",
       "      <th>ip_checksum</th>\n",
       "      <th>udp_sport</th>\n",
       "      <th>...</th>\n",
       "      <th>num_fin_dst_src</th>\n",
       "      <th>num_ack_src_dst</th>\n",
       "      <th>num_ack_dst_src</th>\n",
       "      <th>num_syn_src_dst</th>\n",
       "      <th>num_syn_dst_src</th>\n",
       "      <th>num_rst_src_dst</th>\n",
       "      <th>num_rst_dst_src</th>\n",
       "      <th>first_packet</th>\n",
       "      <th>first_serv_packet</th>\n",
       "      <th>class</th>\n",
       "    </tr>\n",
       "  </thead>\n",
       "  <tbody>\n",
       "    <tr>\n",
       "      <th>0</th>\n",
       "      <td>0</td>\n",
       "      <td>90</td>\n",
       "      <td>0</td>\n",
       "      <td>0</td>\n",
       "      <td>0</td>\n",
       "      <td>1</td>\n",
       "      <td>0</td>\n",
       "      <td>17</td>\n",
       "      <td>47118</td>\n",
       "      <td>46978</td>\n",
       "      <td>...</td>\n",
       "      <td>1</td>\n",
       "      <td>160</td>\n",
       "      <td>312</td>\n",
       "      <td>1</td>\n",
       "      <td>1</td>\n",
       "      <td>0</td>\n",
       "      <td>0</td>\n",
       "      <td>0</td>\n",
       "      <td>0</td>\n",
       "      <td>normal</td>\n",
       "    </tr>\n",
       "    <tr>\n",
       "      <th>1</th>\n",
       "      <td>0</td>\n",
       "      <td>74</td>\n",
       "      <td>0</td>\n",
       "      <td>0</td>\n",
       "      <td>0</td>\n",
       "      <td>1</td>\n",
       "      <td>0</td>\n",
       "      <td>17</td>\n",
       "      <td>47134</td>\n",
       "      <td>39806</td>\n",
       "      <td>...</td>\n",
       "      <td>2</td>\n",
       "      <td>189</td>\n",
       "      <td>300</td>\n",
       "      <td>2</td>\n",
       "      <td>2</td>\n",
       "      <td>0</td>\n",
       "      <td>0</td>\n",
       "      <td>0</td>\n",
       "      <td>0</td>\n",
       "      <td>normal</td>\n",
       "    </tr>\n",
       "    <tr>\n",
       "      <th>2</th>\n",
       "      <td>0</td>\n",
       "      <td>52</td>\n",
       "      <td>60702</td>\n",
       "      <td>0</td>\n",
       "      <td>0</td>\n",
       "      <td>1</td>\n",
       "      <td>0</td>\n",
       "      <td>6</td>\n",
       "      <td>52022</td>\n",
       "      <td>0</td>\n",
       "      <td>...</td>\n",
       "      <td>1</td>\n",
       "      <td>257</td>\n",
       "      <td>389</td>\n",
       "      <td>2</td>\n",
       "      <td>2</td>\n",
       "      <td>0</td>\n",
       "      <td>0</td>\n",
       "      <td>0</td>\n",
       "      <td>0</td>\n",
       "      <td>normal</td>\n",
       "    </tr>\n",
       "    <tr>\n",
       "      <th>3</th>\n",
       "      <td>0</td>\n",
       "      <td>40</td>\n",
       "      <td>3309</td>\n",
       "      <td>0</td>\n",
       "      <td>0</td>\n",
       "      <td>0</td>\n",
       "      <td>0</td>\n",
       "      <td>6</td>\n",
       "      <td>62806</td>\n",
       "      <td>0</td>\n",
       "      <td>...</td>\n",
       "      <td>0</td>\n",
       "      <td>0</td>\n",
       "      <td>4</td>\n",
       "      <td>0</td>\n",
       "      <td>0</td>\n",
       "      <td>0</td>\n",
       "      <td>4</td>\n",
       "      <td>0</td>\n",
       "      <td>0</td>\n",
       "      <td>attack</td>\n",
       "    </tr>\n",
       "    <tr>\n",
       "      <th>4</th>\n",
       "      <td>0</td>\n",
       "      <td>552</td>\n",
       "      <td>32493</td>\n",
       "      <td>0</td>\n",
       "      <td>0</td>\n",
       "      <td>0</td>\n",
       "      <td>0</td>\n",
       "      <td>6</td>\n",
       "      <td>30593</td>\n",
       "      <td>0</td>\n",
       "      <td>...</td>\n",
       "      <td>2</td>\n",
       "      <td>280</td>\n",
       "      <td>494</td>\n",
       "      <td>3</td>\n",
       "      <td>3</td>\n",
       "      <td>0</td>\n",
       "      <td>0</td>\n",
       "      <td>0</td>\n",
       "      <td>0</td>\n",
       "      <td>normal</td>\n",
       "    </tr>\n",
       "  </tbody>\n",
       "</table>\n",
       "<p>5 rows × 51 columns</p>\n",
       "</div>"
      ],
      "text/plain": [
       "   ip_type  ip_len  ip_id  ip_offset  ip_RF  ip_DF  ip_MF  ip_proto  ip_checksum  udp_sport  ...  num_fin_dst_src  num_ack_src_dst  num_ack_dst_src  num_syn_src_dst  num_syn_dst_src  num_rst_src_dst  num_rst_dst_src  first_packet  first_serv_packet   class\n",
       "0        0      90      0          0      0      1      0        17        47118      46978  ...                1              160              312                1                1                0                0             0                  0  normal\n",
       "1        0      74      0          0      0      1      0        17        47134      39806  ...                2              189              300                2                2                0                0             0                  0  normal\n",
       "2        0      52  60702          0      0      1      0         6        52022          0  ...                1              257              389                2                2                0                0             0                  0  normal\n",
       "3        0      40   3309          0      0      0      0         6        62806          0  ...                0                0                4                0                0                0                4             0                  0  attack\n",
       "4        0     552  32493          0      0      0      0         6        30593          0  ...                2              280              494                3                3                0                0             0                  0  normal\n",
       "\n",
       "[5 rows x 51 columns]"
      ]
     },
     "execution_count": 7,
     "metadata": {},
     "output_type": "execute_result"
    }
   ],
   "source": [
    "df.head()"
   ]
  },
  {
   "cell_type": "code",
   "execution_count": 8,
   "id": "36bc9fd8",
   "metadata": {},
   "outputs": [
    {
     "data": {
      "text/html": [
       "<div>\n",
       "<style scoped>\n",
       "    .dataframe tbody tr th:only-of-type {\n",
       "        vertical-align: middle;\n",
       "    }\n",
       "\n",
       "    .dataframe tbody tr th {\n",
       "        vertical-align: top;\n",
       "    }\n",
       "\n",
       "    .dataframe thead th {\n",
       "        text-align: right;\n",
       "    }\n",
       "</style>\n",
       "<table border=\"1\" class=\"dataframe\">\n",
       "  <thead>\n",
       "    <tr style=\"text-align: right;\">\n",
       "      <th></th>\n",
       "      <th>ip_type</th>\n",
       "      <th>ip_len</th>\n",
       "      <th>ip_id</th>\n",
       "      <th>ip_offset</th>\n",
       "      <th>ip_RF</th>\n",
       "      <th>ip_DF</th>\n",
       "      <th>ip_MF</th>\n",
       "      <th>ip_proto</th>\n",
       "      <th>ip_checksum</th>\n",
       "      <th>udp_sport</th>\n",
       "      <th>...</th>\n",
       "      <th>num_fin_dst_src</th>\n",
       "      <th>num_ack_src_dst</th>\n",
       "      <th>num_ack_dst_src</th>\n",
       "      <th>num_syn_src_dst</th>\n",
       "      <th>num_syn_dst_src</th>\n",
       "      <th>num_rst_src_dst</th>\n",
       "      <th>num_rst_dst_src</th>\n",
       "      <th>first_packet</th>\n",
       "      <th>first_serv_packet</th>\n",
       "      <th>class</th>\n",
       "    </tr>\n",
       "  </thead>\n",
       "  <tbody>\n",
       "    <tr>\n",
       "      <th>count</th>\n",
       "      <td>85.000000</td>\n",
       "      <td>85.000000</td>\n",
       "      <td>85.000000</td>\n",
       "      <td>85.0</td>\n",
       "      <td>85.0</td>\n",
       "      <td>85.000000</td>\n",
       "      <td>85.0</td>\n",
       "      <td>85.000000</td>\n",
       "      <td>85.000000</td>\n",
       "      <td>85.000000</td>\n",
       "      <td>...</td>\n",
       "      <td>85.000000</td>\n",
       "      <td>85.000000</td>\n",
       "      <td>85.000000</td>\n",
       "      <td>85.000000</td>\n",
       "      <td>85.000000</td>\n",
       "      <td>85.000000</td>\n",
       "      <td>85.000000</td>\n",
       "      <td>85.0</td>\n",
       "      <td>85.000000</td>\n",
       "      <td>85</td>\n",
       "    </tr>\n",
       "    <tr>\n",
       "      <th>unique</th>\n",
       "      <td>NaN</td>\n",
       "      <td>NaN</td>\n",
       "      <td>NaN</td>\n",
       "      <td>NaN</td>\n",
       "      <td>NaN</td>\n",
       "      <td>NaN</td>\n",
       "      <td>NaN</td>\n",
       "      <td>NaN</td>\n",
       "      <td>NaN</td>\n",
       "      <td>NaN</td>\n",
       "      <td>...</td>\n",
       "      <td>NaN</td>\n",
       "      <td>NaN</td>\n",
       "      <td>NaN</td>\n",
       "      <td>NaN</td>\n",
       "      <td>NaN</td>\n",
       "      <td>NaN</td>\n",
       "      <td>NaN</td>\n",
       "      <td>NaN</td>\n",
       "      <td>NaN</td>\n",
       "      <td>2</td>\n",
       "    </tr>\n",
       "    <tr>\n",
       "      <th>top</th>\n",
       "      <td>NaN</td>\n",
       "      <td>NaN</td>\n",
       "      <td>NaN</td>\n",
       "      <td>NaN</td>\n",
       "      <td>NaN</td>\n",
       "      <td>NaN</td>\n",
       "      <td>NaN</td>\n",
       "      <td>NaN</td>\n",
       "      <td>NaN</td>\n",
       "      <td>NaN</td>\n",
       "      <td>...</td>\n",
       "      <td>NaN</td>\n",
       "      <td>NaN</td>\n",
       "      <td>NaN</td>\n",
       "      <td>NaN</td>\n",
       "      <td>NaN</td>\n",
       "      <td>NaN</td>\n",
       "      <td>NaN</td>\n",
       "      <td>NaN</td>\n",
       "      <td>NaN</td>\n",
       "      <td>normal</td>\n",
       "    </tr>\n",
       "    <tr>\n",
       "      <th>freq</th>\n",
       "      <td>NaN</td>\n",
       "      <td>NaN</td>\n",
       "      <td>NaN</td>\n",
       "      <td>NaN</td>\n",
       "      <td>NaN</td>\n",
       "      <td>NaN</td>\n",
       "      <td>NaN</td>\n",
       "      <td>NaN</td>\n",
       "      <td>NaN</td>\n",
       "      <td>NaN</td>\n",
       "      <td>...</td>\n",
       "      <td>NaN</td>\n",
       "      <td>NaN</td>\n",
       "      <td>NaN</td>\n",
       "      <td>NaN</td>\n",
       "      <td>NaN</td>\n",
       "      <td>NaN</td>\n",
       "      <td>NaN</td>\n",
       "      <td>NaN</td>\n",
       "      <td>NaN</td>\n",
       "      <td>47</td>\n",
       "    </tr>\n",
       "    <tr>\n",
       "      <th>mean</th>\n",
       "      <td>0.470588</td>\n",
       "      <td>108.388235</td>\n",
       "      <td>31657.552941</td>\n",
       "      <td>0.0</td>\n",
       "      <td>0.0</td>\n",
       "      <td>0.364706</td>\n",
       "      <td>0.0</td>\n",
       "      <td>7.752941</td>\n",
       "      <td>33899.529412</td>\n",
       "      <td>7275.917647</td>\n",
       "      <td>...</td>\n",
       "      <td>0.470588</td>\n",
       "      <td>101.788235</td>\n",
       "      <td>232.388235</td>\n",
       "      <td>43.117647</td>\n",
       "      <td>21.458824</td>\n",
       "      <td>0.858824</td>\n",
       "      <td>134.223529</td>\n",
       "      <td>0.0</td>\n",
       "      <td>0.058824</td>\n",
       "      <td>NaN</td>\n",
       "    </tr>\n",
       "    <tr>\n",
       "      <th>std</th>\n",
       "      <td>4.338609</td>\n",
       "      <td>206.957903</td>\n",
       "      <td>18743.854364</td>\n",
       "      <td>0.0</td>\n",
       "      <td>0.0</td>\n",
       "      <td>0.484204</td>\n",
       "      <td>0.0</td>\n",
       "      <td>4.165922</td>\n",
       "      <td>16974.614660</td>\n",
       "      <td>18270.583999</td>\n",
       "      <td>...</td>\n",
       "      <td>0.795646</td>\n",
       "      <td>178.733380</td>\n",
       "      <td>279.443243</td>\n",
       "      <td>151.586877</td>\n",
       "      <td>184.463092</td>\n",
       "      <td>3.552842</td>\n",
       "      <td>243.131621</td>\n",
       "      <td>0.0</td>\n",
       "      <td>0.236691</td>\n",
       "      <td>NaN</td>\n",
       "    </tr>\n",
       "    <tr>\n",
       "      <th>min</th>\n",
       "      <td>0.000000</td>\n",
       "      <td>28.000000</td>\n",
       "      <td>0.000000</td>\n",
       "      <td>0.0</td>\n",
       "      <td>0.0</td>\n",
       "      <td>0.000000</td>\n",
       "      <td>0.0</td>\n",
       "      <td>1.000000</td>\n",
       "      <td>2546.000000</td>\n",
       "      <td>0.000000</td>\n",
       "      <td>...</td>\n",
       "      <td>0.000000</td>\n",
       "      <td>0.000000</td>\n",
       "      <td>0.000000</td>\n",
       "      <td>0.000000</td>\n",
       "      <td>0.000000</td>\n",
       "      <td>0.000000</td>\n",
       "      <td>0.000000</td>\n",
       "      <td>0.0</td>\n",
       "      <td>0.000000</td>\n",
       "      <td>NaN</td>\n",
       "    </tr>\n",
       "    <tr>\n",
       "      <th>25%</th>\n",
       "      <td>0.000000</td>\n",
       "      <td>40.000000</td>\n",
       "      <td>17275.000000</td>\n",
       "      <td>0.0</td>\n",
       "      <td>0.0</td>\n",
       "      <td>0.000000</td>\n",
       "      <td>0.0</td>\n",
       "      <td>6.000000</td>\n",
       "      <td>20146.000000</td>\n",
       "      <td>0.000000</td>\n",
       "      <td>...</td>\n",
       "      <td>0.000000</td>\n",
       "      <td>1.000000</td>\n",
       "      <td>4.000000</td>\n",
       "      <td>1.000000</td>\n",
       "      <td>0.000000</td>\n",
       "      <td>0.000000</td>\n",
       "      <td>0.000000</td>\n",
       "      <td>0.0</td>\n",
       "      <td>0.000000</td>\n",
       "      <td>NaN</td>\n",
       "    </tr>\n",
       "    <tr>\n",
       "      <th>50%</th>\n",
       "      <td>0.000000</td>\n",
       "      <td>44.000000</td>\n",
       "      <td>32054.000000</td>\n",
       "      <td>0.0</td>\n",
       "      <td>0.0</td>\n",
       "      <td>0.000000</td>\n",
       "      <td>0.0</td>\n",
       "      <td>6.000000</td>\n",
       "      <td>32698.000000</td>\n",
       "      <td>0.000000</td>\n",
       "      <td>...</td>\n",
       "      <td>0.000000</td>\n",
       "      <td>10.000000</td>\n",
       "      <td>150.000000</td>\n",
       "      <td>1.000000</td>\n",
       "      <td>0.000000</td>\n",
       "      <td>0.000000</td>\n",
       "      <td>2.000000</td>\n",
       "      <td>0.0</td>\n",
       "      <td>0.000000</td>\n",
       "      <td>NaN</td>\n",
       "    </tr>\n",
       "    <tr>\n",
       "      <th>75%</th>\n",
       "      <td>0.000000</td>\n",
       "      <td>60.000000</td>\n",
       "      <td>46056.000000</td>\n",
       "      <td>0.0</td>\n",
       "      <td>0.0</td>\n",
       "      <td>1.000000</td>\n",
       "      <td>0.0</td>\n",
       "      <td>6.000000</td>\n",
       "      <td>47117.000000</td>\n",
       "      <td>0.000000</td>\n",
       "      <td>...</td>\n",
       "      <td>1.000000</td>\n",
       "      <td>156.000000</td>\n",
       "      <td>395.000000</td>\n",
       "      <td>3.000000</td>\n",
       "      <td>2.000000</td>\n",
       "      <td>0.000000</td>\n",
       "      <td>202.000000</td>\n",
       "      <td>0.0</td>\n",
       "      <td>0.000000</td>\n",
       "      <td>NaN</td>\n",
       "    </tr>\n",
       "    <tr>\n",
       "      <th>max</th>\n",
       "      <td>40.000000</td>\n",
       "      <td>1500.000000</td>\n",
       "      <td>64489.000000</td>\n",
       "      <td>0.0</td>\n",
       "      <td>0.0</td>\n",
       "      <td>1.000000</td>\n",
       "      <td>0.0</td>\n",
       "      <td>17.000000</td>\n",
       "      <td>64905.000000</td>\n",
       "      <td>60118.000000</td>\n",
       "      <td>...</td>\n",
       "      <td>3.000000</td>\n",
       "      <td>964.000000</td>\n",
       "      <td>1388.000000</td>\n",
       "      <td>986.000000</td>\n",
       "      <td>1702.000000</td>\n",
       "      <td>28.000000</td>\n",
       "      <td>908.000000</td>\n",
       "      <td>0.0</td>\n",
       "      <td>1.000000</td>\n",
       "      <td>NaN</td>\n",
       "    </tr>\n",
       "  </tbody>\n",
       "</table>\n",
       "<p>11 rows × 51 columns</p>\n",
       "</div>"
      ],
      "text/plain": [
       "          ip_type       ip_len         ip_id  ip_offset  ip_RF      ip_DF  ip_MF   ip_proto   ip_checksum     udp_sport  ...  num_fin_dst_src  num_ack_src_dst  num_ack_dst_src  num_syn_src_dst  num_syn_dst_src  num_rst_src_dst  num_rst_dst_src  first_packet  first_serv_packet   class\n",
       "count   85.000000    85.000000     85.000000       85.0   85.0  85.000000   85.0  85.000000     85.000000     85.000000  ...        85.000000        85.000000        85.000000        85.000000        85.000000        85.000000        85.000000          85.0          85.000000      85\n",
       "unique        NaN          NaN           NaN        NaN    NaN        NaN    NaN        NaN           NaN           NaN  ...              NaN              NaN              NaN              NaN              NaN              NaN              NaN           NaN                NaN       2\n",
       "top           NaN          NaN           NaN        NaN    NaN        NaN    NaN        NaN           NaN           NaN  ...              NaN              NaN              NaN              NaN              NaN              NaN              NaN           NaN                NaN  normal\n",
       "freq          NaN          NaN           NaN        NaN    NaN        NaN    NaN        NaN           NaN           NaN  ...              NaN              NaN              NaN              NaN              NaN              NaN              NaN           NaN                NaN      47\n",
       "mean     0.470588   108.388235  31657.552941        0.0    0.0   0.364706    0.0   7.752941  33899.529412   7275.917647  ...         0.470588       101.788235       232.388235        43.117647        21.458824         0.858824       134.223529           0.0           0.058824     NaN\n",
       "std      4.338609   206.957903  18743.854364        0.0    0.0   0.484204    0.0   4.165922  16974.614660  18270.583999  ...         0.795646       178.733380       279.443243       151.586877       184.463092         3.552842       243.131621           0.0           0.236691     NaN\n",
       "min      0.000000    28.000000      0.000000        0.0    0.0   0.000000    0.0   1.000000   2546.000000      0.000000  ...         0.000000         0.000000         0.000000         0.000000         0.000000         0.000000         0.000000           0.0           0.000000     NaN\n",
       "25%      0.000000    40.000000  17275.000000        0.0    0.0   0.000000    0.0   6.000000  20146.000000      0.000000  ...         0.000000         1.000000         4.000000         1.000000         0.000000         0.000000         0.000000           0.0           0.000000     NaN\n",
       "50%      0.000000    44.000000  32054.000000        0.0    0.0   0.000000    0.0   6.000000  32698.000000      0.000000  ...         0.000000        10.000000       150.000000         1.000000         0.000000         0.000000         2.000000           0.0           0.000000     NaN\n",
       "75%      0.000000    60.000000  46056.000000        0.0    0.0   1.000000    0.0   6.000000  47117.000000      0.000000  ...         1.000000       156.000000       395.000000         3.000000         2.000000         0.000000       202.000000           0.0           0.000000     NaN\n",
       "max     40.000000  1500.000000  64489.000000        0.0    0.0   1.000000    0.0  17.000000  64905.000000  60118.000000  ...         3.000000       964.000000      1388.000000       986.000000      1702.000000        28.000000       908.000000           0.0           1.000000     NaN\n",
       "\n",
       "[11 rows x 51 columns]"
      ]
     },
     "execution_count": 8,
     "metadata": {},
     "output_type": "execute_result"
    }
   ],
   "source": [
    "df.describe(include=\"all\")"
   ]
  },
  {
   "cell_type": "markdown",
   "id": "7c6098a7",
   "metadata": {},
   "source": [
    "It seems as though ip_RF, ip_MF, and ip_offset do not contain any valuable information. They can be removed"
   ]
  },
  {
   "cell_type": "code",
   "execution_count": 9,
   "id": "61b3a361",
   "metadata": {},
   "outputs": [],
   "source": [
    "df = df.drop(columns=[\"ip_RF\", \"ip_MF\", \"ip_offset\"])"
   ]
  },
  {
   "cell_type": "code",
   "execution_count": 10,
   "id": "368b6fc2",
   "metadata": {},
   "outputs": [
    {
     "data": {
      "text/plain": [
       "Index(['ip_type', 'ip_len', 'ip_id', 'ip_DF', 'ip_proto', 'ip_checksum', 'udp_sport', 'udp_dport', 'udp_len', 'udp_chk', 'icmp_type', 'icmp_code', 'icmp_chk', 'tcp_sport', 'tcp_dport', 'tcp_seq', 'tcp_ack', 'tcp_ffyn', 'tcp_fsyn', 'tcp_frst', 'tcp_fpush', 'tcp_fack', 'tcp_furg', 'fr_length', 'conn_status', 'count_fr_src_dst', 'count_fr_dst_src', 'count_serv_src_dst', 'count_serv_dst_src', 'num_bytes_src_dst', 'num_bytes_dst_src', 'num_bytes_serv_src_dst', 'num_bytes_serv_dst_src', 'num_pushed_src_dst', 'num_pushed_dst_src', 'num_syn_fin_src_dst', 'num_syn_fin_dst_src', 'num_fin_src_dst', 'num_fin_dst_src', 'num_ack_src_dst', 'num_ack_dst_src', 'num_syn_src_dst', 'num_syn_dst_src', 'num_rst_src_dst', 'num_rst_dst_src', 'first_packet', 'first_serv_packet', 'class'], dtype='object')"
      ]
     },
     "execution_count": 10,
     "metadata": {},
     "output_type": "execute_result"
    }
   ],
   "source": [
    "df.columns"
   ]
  },
  {
   "cell_type": "code",
   "execution_count": 11,
   "id": "45c257fa",
   "metadata": {},
   "outputs": [
    {
     "name": "stdout",
     "output_type": "stream",
     "text": [
      "class\n",
      "normal    47\n",
      "attack    38\n",
      "Name: count, dtype: int64\n",
      "class\n",
      "normal    55.294118\n",
      "attack    44.705882\n",
      "Name: proportion, dtype: float64\n"
     ]
    }
   ],
   "source": [
    "print(df[\"class\"].value_counts())\n",
    "print(df[\"class\"].value_counts(normalize=True) * 100)"
   ]
  },
  {
   "cell_type": "code",
   "execution_count": 12,
   "id": "b57a7bfb",
   "metadata": {},
   "outputs": [
    {
     "data": {
      "text/plain": [
       "ip_type                    int64\n",
       "ip_len                     int64\n",
       "ip_id                      int64\n",
       "ip_DF                      int64\n",
       "ip_proto                   int64\n",
       "ip_checksum                int64\n",
       "udp_sport                  int64\n",
       "udp_dport                  int64\n",
       "udp_len                    int64\n",
       "udp_chk                    int64\n",
       "icmp_type                  int64\n",
       "icmp_code                  int64\n",
       "icmp_chk                   int64\n",
       "tcp_sport                  int64\n",
       "tcp_dport                  int64\n",
       "tcp_seq                    int64\n",
       "tcp_ack                    int64\n",
       "tcp_ffyn                   int64\n",
       "tcp_fsyn                   int64\n",
       "tcp_frst                   int64\n",
       "tcp_fpush                  int64\n",
       "tcp_fack                   int64\n",
       "tcp_furg                   int64\n",
       "fr_length                  int64\n",
       "conn_status                int64\n",
       "count_fr_src_dst           int64\n",
       "count_fr_dst_src           int64\n",
       "count_serv_src_dst         int64\n",
       "count_serv_dst_src         int64\n",
       "num_bytes_src_dst          int64\n",
       "num_bytes_dst_src          int64\n",
       "num_bytes_serv_src_dst     int64\n",
       "num_bytes_serv_dst_src     int64\n",
       "num_pushed_src_dst         int64\n",
       "num_pushed_dst_src         int64\n",
       "num_syn_fin_src_dst        int64\n",
       "num_syn_fin_dst_src        int64\n",
       "num_fin_src_dst            int64\n",
       "num_fin_dst_src            int64\n",
       "num_ack_src_dst            int64\n",
       "num_ack_dst_src            int64\n",
       "num_syn_src_dst            int64\n",
       "num_syn_dst_src            int64\n",
       "num_rst_src_dst            int64\n",
       "num_rst_dst_src            int64\n",
       "first_packet               int64\n",
       "first_serv_packet          int64\n",
       "class                     object\n",
       "dtype: object"
      ]
     },
     "execution_count": 12,
     "metadata": {},
     "output_type": "execute_result"
    }
   ],
   "source": [
    "df.dtypes"
   ]
  },
  {
   "cell_type": "code",
   "execution_count": 13,
   "id": "15fcff91",
   "metadata": {},
   "outputs": [
    {
     "data": {
      "text/plain": [
       "ip_type\n",
       "0     84\n",
       "40     1\n",
       "Name: count, dtype: int64"
      ]
     },
     "execution_count": 13,
     "metadata": {},
     "output_type": "execute_result"
    }
   ],
   "source": [
    "df[\"ip_type\"].value_counts()"
   ]
  },
  {
   "cell_type": "code",
   "execution_count": 14,
   "id": "9b8ce454",
   "metadata": {},
   "outputs": [],
   "source": [
    "df[\"class\"] = df[\"class\"].replace({\"normal\": 0, \"attack\": 1})"
   ]
  },
  {
   "cell_type": "code",
   "execution_count": null,
   "id": "19ff0f74",
   "metadata": {},
   "outputs": [],
   "source": [
    "df = df.astype(float)"
   ]
  },
  {
   "cell_type": "code",
   "execution_count": 15,
   "id": "56842aaf",
   "metadata": {},
   "outputs": [],
   "source": [
    "corr = df.corr()"
   ]
  },
  {
   "cell_type": "code",
   "execution_count": 16,
   "id": "c239308b",
   "metadata": {},
   "outputs": [
    {
     "data": {
      "image/png": "[encoded data removed]",
      "text/plain": [
       "<Figure size 1500x1200 with 2 Axes>"
      ]
     },
     "metadata": {},
     "output_type": "display_data"
    }
   ],
   "source": [
    "plt.figure(figsize=(15, 12))\n",
    "sns.heatmap(corr, cmap=\"Blues\")\n",
    "plt.show()"
   ]
  },
  {
   "cell_type": "code",
   "execution_count": 17,
   "id": "8b03645b",
   "metadata": {},
   "outputs": [
    {
     "data": {
      "text/plain": [
       "class                     1.000000\n",
       "tcp_sport                 0.561654\n",
       "num_rst_dst_src           0.412605\n",
       "num_fin_src_dst           0.373727\n",
       "first_serv_packet         0.278034\n",
       "tcp_ffyn                  0.238745\n",
       "num_syn_fin_src_dst       0.215573\n",
       "num_pushed_src_dst        0.151350\n",
       "count_serv_src_dst        0.114928\n",
       "tcp_seq                   0.078503\n",
       "num_syn_src_dst           0.031488\n",
       "count_fr_dst_src          0.031201\n",
       "num_rst_src_dst           0.029242\n",
       "ip_id                     0.008978\n",
       "tcp_fsyn                  0.000359\n",
       "tcp_furg                 -0.002882\n",
       "ip_checksum              -0.010512\n",
       "udp_dport                -0.013002\n",
       "tcp_fpush                -0.016549\n",
       "count_fr_src_dst         -0.020264\n",
       "udp_sport                -0.039822\n",
       "count_serv_dst_src       -0.064564\n",
       "ip_proto                 -0.066346\n",
       "num_ack_dst_src          -0.070508\n",
       "icmp_chk                 -0.098108\n",
       "icmp_type                -0.098108\n",
       "icmp_code                -0.098108\n",
       "num_syn_fin_dst_src      -0.098108\n",
       "ip_type                  -0.098108\n",
       "num_syn_dst_src          -0.100448\n",
       "udp_chk                  -0.101794\n",
       "num_bytes_serv_src_dst   -0.198311\n",
       "tcp_frst                 -0.213452\n",
       "udp_len                  -0.268323\n",
       "num_ack_src_dst          -0.278064\n",
       "fr_length                -0.278179\n",
       "ip_len                   -0.288769\n",
       "num_bytes_src_dst        -0.345053\n",
       "ip_DF                    -0.386330\n",
       "tcp_dport                -0.397405\n",
       "tcp_ack                  -0.423177\n",
       "conn_status              -0.455464\n",
       "num_bytes_serv_dst_src   -0.498757\n",
       "num_fin_dst_src          -0.534975\n",
       "num_bytes_dst_src        -0.546861\n",
       "tcp_fack                 -0.574877\n",
       "num_pushed_dst_src             NaN\n",
       "first_packet                   NaN\n",
       "Name: class, dtype: float64"
      ]
     },
     "execution_count": 17,
     "metadata": {},
     "output_type": "execute_result"
    }
   ],
   "source": [
    "corr[\"class\"].sort_values(ascending=False)"
   ]
  },
  {
   "cell_type": "markdown",
   "id": "ba0f28df",
   "metadata": {},
   "source": [
    "The target feature does not seem to have very strong correlations with any particular feature."
   ]
  },
  {
   "cell_type": "code",
   "execution_count": 18,
   "id": "80670942",
   "metadata": {},
   "outputs": [],
   "source": [
    "# remove all features with an absolute correlation of less than 0.1\n",
    "cols_corr_gt1 = corr[\"class\"][abs(corr[\"class\"]) > 0.1].index"
   ]
  },
  {
   "cell_type": "code",
   "execution_count": 19,
   "id": "b91cff26",
   "metadata": {},
   "outputs": [
    {
     "name": "stdout",
     "output_type": "stream",
     "text": [
      "Index(['ip_len', 'ip_DF', 'udp_len', 'udp_chk', 'tcp_sport', 'tcp_dport', 'tcp_ack', 'tcp_ffyn', 'tcp_frst', 'tcp_fack', 'fr_length', 'conn_status', 'count_serv_src_dst', 'num_bytes_src_dst', 'num_bytes_dst_src', 'num_bytes_serv_src_dst', 'num_bytes_serv_dst_src', 'num_pushed_src_dst', 'num_syn_fin_src_dst', 'num_fin_src_dst', 'num_fin_dst_src', 'num_ack_src_dst', 'num_syn_dst_src', 'num_rst_dst_src', 'first_serv_packet', 'class'], dtype='object')\n",
      "26\n"
     ]
    }
   ],
   "source": [
    "print(cols_corr_gt1)\n",
    "print(len(cols_corr_gt1))"
   ]
  },
  {
   "cell_type": "code",
   "execution_count": 20,
   "id": "0378af67",
   "metadata": {},
   "outputs": [
    {
     "data": {
      "image/png": "[encoded data removed]",
      "text/plain": [
       "<Figure size 640x480 with 1 Axes>"
      ]
     },
     "metadata": {},
     "output_type": "display_data"
    }
   ],
   "source": [
    "X = df.drop(columns=[\"class\"])\n",
    "\n",
    "scaler = StandardScaler()\n",
    "X_scaled = scaler.fit_transform(X)\n",
    "\n",
    "pca = PCA(n_components=len(df.columns) - 1)\n",
    "X_pca = pca.fit_transform(X_scaled)\n",
    "\n",
    "pca_cumsum = pca.explained_variance_ratio_.cumsum()\n",
    "plt.plot(pca_cumsum)\n",
    "plt.xlabel(\"Number of components\")\n",
    "plt.ylabel(\"Cumulative explained variance\")\n",
    "plt.title(\"Cumulative explained variance vs Number of components\")\n",
    "plt.grid()\n",
    "plt.xticks(range(0, len(df.columns) - 1, 2))\n",
    "plt.show()"
   ]
  },
  {
   "cell_type": "markdown",
   "id": "8efeeab5",
   "metadata": {},
   "source": [
    "- at n=21, we have 85% of the variance explained\n",
    "- at n=24, we have 90% of the variance explained\n",
    "- at n=27, we have 95% of the variance explained"
   ]
  },
  {
   "cell_type": "code",
   "execution_count": 21,
   "id": "3689f280",
   "metadata": {},
   "outputs": [
    {
     "data": {
      "image/png": "[encoded data removed]",
      "text/plain": [
       "<Figure size 640x480 with 1 Axes>"
      ]
     },
     "metadata": {},
     "output_type": "display_data"
    }
   ],
   "source": [
    "X_gt1 = df[cols_corr_gt1]\n",
    "\n",
    "scaler_gt1 = StandardScaler()\n",
    "X_gt1_scaled = scaler_gt1.fit_transform(X_gt1)\n",
    "\n",
    "pca = PCA(n_components=len(cols_corr_gt1))\n",
    "X_gt1_pca = pca.fit_transform(X_gt1_scaled)\n",
    "\n",
    "pca_cumsum = pca.explained_variance_ratio_.cumsum()\n",
    "plt.plot(pca_cumsum)\n",
    "plt.xlabel(\"Number of components with |correlation| > 0.1\")\n",
    "plt.ylabel(\"Cumulative explained variance\")\n",
    "plt.title(\n",
    "    \"Cumulative explained variance vs Number of components with |correlation| > 0.1\"\n",
    ")\n",
    "plt.grid()\n",
    "plt.xticks(range(0, len(cols_corr_gt1), 2))\n",
    "plt.show()"
   ]
  },
  {
   "cell_type": "markdown",
   "id": "64added9",
   "metadata": {},
   "source": [
    "- at n=10 of the selected features, we have 95% of the variance explained"
   ]
  },
  {
   "cell_type": "code",
   "execution_count": 22,
   "id": "2ab087e5",
   "metadata": {},
   "outputs": [
    {
     "data": {
      "text/html": [
       "<div>\n",
       "<style scoped>\n",
       "    .dataframe tbody tr th:only-of-type {\n",
       "        vertical-align: middle;\n",
       "    }\n",
       "\n",
       "    .dataframe tbody tr th {\n",
       "        vertical-align: top;\n",
       "    }\n",
       "\n",
       "    .dataframe thead th {\n",
       "        text-align: right;\n",
       "    }\n",
       "</style>\n",
       "<table border=\"1\" class=\"dataframe\">\n",
       "  <thead>\n",
       "    <tr style=\"text-align: right;\">\n",
       "      <th></th>\n",
       "      <th>ip_len</th>\n",
       "      <th>ip_DF</th>\n",
       "      <th>udp_len</th>\n",
       "      <th>udp_chk</th>\n",
       "      <th>tcp_sport</th>\n",
       "      <th>tcp_dport</th>\n",
       "      <th>tcp_ack</th>\n",
       "      <th>tcp_ffyn</th>\n",
       "      <th>tcp_frst</th>\n",
       "      <th>tcp_fack</th>\n",
       "      <th>...</th>\n",
       "      <th>num_bytes_serv_dst_src</th>\n",
       "      <th>num_pushed_src_dst</th>\n",
       "      <th>num_syn_fin_src_dst</th>\n",
       "      <th>num_fin_src_dst</th>\n",
       "      <th>num_fin_dst_src</th>\n",
       "      <th>num_ack_src_dst</th>\n",
       "      <th>num_syn_dst_src</th>\n",
       "      <th>num_rst_dst_src</th>\n",
       "      <th>first_serv_packet</th>\n",
       "      <th>class</th>\n",
       "    </tr>\n",
       "  </thead>\n",
       "  <tbody>\n",
       "    <tr>\n",
       "      <th>0</th>\n",
       "      <td>90</td>\n",
       "      <td>1</td>\n",
       "      <td>70</td>\n",
       "      <td>36224</td>\n",
       "      <td>0</td>\n",
       "      <td>0</td>\n",
       "      <td>0</td>\n",
       "      <td>2</td>\n",
       "      <td>2</td>\n",
       "      <td>2</td>\n",
       "      <td>...</td>\n",
       "      <td>53498</td>\n",
       "      <td>1</td>\n",
       "      <td>0</td>\n",
       "      <td>1</td>\n",
       "      <td>1</td>\n",
       "      <td>160</td>\n",
       "      <td>1</td>\n",
       "      <td>0</td>\n",
       "      <td>0</td>\n",
       "      <td>0</td>\n",
       "    </tr>\n",
       "    <tr>\n",
       "      <th>1</th>\n",
       "      <td>74</td>\n",
       "      <td>1</td>\n",
       "      <td>54</td>\n",
       "      <td>40008</td>\n",
       "      <td>0</td>\n",
       "      <td>0</td>\n",
       "      <td>0</td>\n",
       "      <td>2</td>\n",
       "      <td>2</td>\n",
       "      <td>2</td>\n",
       "      <td>...</td>\n",
       "      <td>9892</td>\n",
       "      <td>2</td>\n",
       "      <td>0</td>\n",
       "      <td>2</td>\n",
       "      <td>2</td>\n",
       "      <td>189</td>\n",
       "      <td>2</td>\n",
       "      <td>0</td>\n",
       "      <td>0</td>\n",
       "      <td>0</td>\n",
       "    </tr>\n",
       "    <tr>\n",
       "      <th>2</th>\n",
       "      <td>52</td>\n",
       "      <td>1</td>\n",
       "      <td>0</td>\n",
       "      <td>0</td>\n",
       "      <td>38686</td>\n",
       "      <td>80</td>\n",
       "      <td>229426048</td>\n",
       "      <td>0</td>\n",
       "      <td>0</td>\n",
       "      <td>1</td>\n",
       "      <td>...</td>\n",
       "      <td>102911</td>\n",
       "      <td>2</td>\n",
       "      <td>0</td>\n",
       "      <td>16</td>\n",
       "      <td>1</td>\n",
       "      <td>257</td>\n",
       "      <td>2</td>\n",
       "      <td>0</td>\n",
       "      <td>0</td>\n",
       "      <td>0</td>\n",
       "    </tr>\n",
       "    <tr>\n",
       "      <th>3</th>\n",
       "      <td>40</td>\n",
       "      <td>0</td>\n",
       "      <td>0</td>\n",
       "      <td>0</td>\n",
       "      <td>43694</td>\n",
       "      <td>38292</td>\n",
       "      <td>0</td>\n",
       "      <td>1</td>\n",
       "      <td>0</td>\n",
       "      <td>0</td>\n",
       "      <td>...</td>\n",
       "      <td>0</td>\n",
       "      <td>0</td>\n",
       "      <td>0</td>\n",
       "      <td>5</td>\n",
       "      <td>0</td>\n",
       "      <td>0</td>\n",
       "      <td>0</td>\n",
       "      <td>4</td>\n",
       "      <td>0</td>\n",
       "      <td>1</td>\n",
       "    </tr>\n",
       "    <tr>\n",
       "      <th>4</th>\n",
       "      <td>552</td>\n",
       "      <td>0</td>\n",
       "      <td>0</td>\n",
       "      <td>0</td>\n",
       "      <td>80</td>\n",
       "      <td>46765</td>\n",
       "      <td>2394833563</td>\n",
       "      <td>0</td>\n",
       "      <td>0</td>\n",
       "      <td>1</td>\n",
       "      <td>...</td>\n",
       "      <td>65535</td>\n",
       "      <td>9</td>\n",
       "      <td>0</td>\n",
       "      <td>2</td>\n",
       "      <td>2</td>\n",
       "      <td>280</td>\n",
       "      <td>3</td>\n",
       "      <td>0</td>\n",
       "      <td>0</td>\n",
       "      <td>0</td>\n",
       "    </tr>\n",
       "  </tbody>\n",
       "</table>\n",
       "<p>5 rows × 26 columns</p>\n",
       "</div>"
      ],
      "text/plain": [
       "   ip_len  ip_DF  udp_len  udp_chk  tcp_sport  tcp_dport     tcp_ack  tcp_ffyn  tcp_frst  tcp_fack  ...  num_bytes_serv_dst_src  num_pushed_src_dst  num_syn_fin_src_dst  num_fin_src_dst  num_fin_dst_src  num_ack_src_dst  num_syn_dst_src  num_rst_dst_src  first_serv_packet  class\n",
       "0      90      1       70    36224          0          0           0         2         2         2  ...                   53498                   1                    0                1                1              160                1                0                  0      0\n",
       "1      74      1       54    40008          0          0           0         2         2         2  ...                    9892                   2                    0                2                2              189                2                0                  0      0\n",
       "2      52      1        0        0      38686         80   229426048         0         0         1  ...                  102911                   2                    0               16                1              257                2                0                  0      0\n",
       "3      40      0        0        0      43694      38292           0         1         0         0  ...                       0                   0                    0                5                0                0                0                4                  0      1\n",
       "4     552      0        0        0         80      46765  2394833563         0         0         1  ...                   65535                   9                    0                2                2              280                3                0                  0      0\n",
       "\n",
       "[5 rows x 26 columns]"
      ]
     },
     "execution_count": 22,
     "metadata": {},
     "output_type": "execute_result"
    }
   ],
   "source": [
    "df_corr_gt1 = pd.DataFrame(df[cols_corr_gt1])\n",
    "df_corr_gt1[\"class\"] = df[\"class\"]\n",
    "df_corr_gt1.head()"
   ]
  },
  {
   "cell_type": "code",
   "execution_count": 23,
   "id": "a7bf6826",
   "metadata": {},
   "outputs": [],
   "source": [
    "df_corr_gt1 = df_corr_gt1.to_numpy()"
   ]
  },
  {
   "cell_type": "code",
   "execution_count": null,
   "id": "11401237",
   "metadata": {},
   "outputs": [],
   "source": [
    "X_corr_gt1_train, X_corr_gt1_test, y_corr_gt1_train, y_corr_gt1_test = train_test_split(\n",
    "    df_corr_gt1[:, :-1],\n",
    "    df_corr_gt1[:, -1],\n",
    "    test_size=0.2,\n",
    "    random_state=random_state,\n",
    ")"
   ]
  },
  {
   "cell_type": "code",
   "execution_count": 24,
   "id": "3293da2a",
   "metadata": {},
   "outputs": [
    {
     "data": {
      "text/plain": [
       "{'C': array([1.e-03, 1.e-02, 1.e-01, 1.e+00, 1.e+01, 1.e+02, 1.e+03, 1.e+04]),\n",
       " 'kernel': ['linear', 'poly', 'rbf', 'sigmoid'],\n",
       " 'gamma': ['scale', 'auto']}"
      ]
     },
     "execution_count": 24,
     "metadata": {},
     "output_type": "execute_result"
    }
   ],
   "source": [
    "model_params = {\n",
    "        \"C\": np.logspace(-3, 4, 8),\n",
    "        \"kernel\": [\"linear\", \"poly\", \"rbf\", \"sigmoid\"],\n",
    "        \"gamma\": [\"scale\", \"auto\"],\n",
    "        }\n",
    "model_params"
   ]
  },
  {
   "cell_type": "code",
   "execution_count": 25,
   "id": "92dd277d",
   "metadata": {},
   "outputs": [],
   "source": [
    "verbose = 0\n",
    "cv = 3\n",
    "n_jobs = -1"
   ]
  },
  {
   "cell_type": "code",
   "execution_count": null,
   "id": "17122412",
   "metadata": {},
   "outputs": [],
   "source": [
    "model_corr_gt1 = GridSearchCV(SVC(), model_params, cv=cv, n_jobs=n_jobs, verbose=verbose)\n",
    "model_corr_gt1.fit(X_corr_gt1_train, y_corr_gt1_train)"
   ]
  },
  {
   "cell_type": "code",
   "execution_count": null,
   "id": "ee0596b1",
   "metadata": {},
   "outputs": [],
   "source": [
    "model_corr_gt1.best_params_"
   ]
  },
  {
   "cell_type": "code",
   "execution_count": null,
   "id": "32f12812",
   "metadata": {},
   "outputs": [],
   "source": [
    "benchmarkAndUpdateResult(\n",
    "    X_corr_gt1_test,\n",
    "    y_corr_gt1_test,\n",
    "    model_corr_gt1,\n",
    "    f\"SVM {model_corr_gt1.best_params_}\",\n",
    "    \"Known attacks\",\n",
    "    \"|correlation| > 0.1 features unscaled\",\n",
    ")"
   ]
  },
  {
   "cell_type": "code",
   "execution_count": null,
   "id": "1268a3fe",
   "metadata": {},
   "outputs": [],
   "source": [
    "df_corr_gt1_scaled = df_corr_gt1[:, :-1]\n",
    "df_corr_gt1_scaler = StandardScaler()\n",
    "df_corr_gt1_scaled = df_corr_gt1_scaler.fit_transform(df_corr_gt1_scaled)\n",
    "df_corr_gt1_scaled = pd.DataFrame(\n",
    "    df_corr_gt1_scaled, columns=cols_corr_gt1\n",
    ")\n",
    "df_corr_gt1_scaled[\"class\"] = df[\"class\"]\n",
    "df_corr_gt1_scaled.head()"
   ]
  },
  {
   "cell_type": "code",
   "execution_count": null,
   "id": "1536b504",
   "metadata": {},
   "outputs": [],
   "source": [
    "df_corr_gt1_scaled = df_corr_gt1_scaled.to_numpy()"
   ]
  },
  {
   "cell_type": "code",
   "execution_count": null,
   "id": "eed5624c",
   "metadata": {},
   "outputs": [],
   "source": [
    "(\n",
    "    X_corr_gt1_scaled_train,\n",
    "    X_corr_gt1_scaled_test,\n",
    "    y_corr_gt1_scaled_train,\n",
    "    y_corr_gt1_scaled_test,\n",
    ") = train_test_split(\n",
    "    df_corr_gt1_scaled[:, :-1],\n",
    "    df_corr_gt1_scaled[:, -1],\n",
    "    test_size=0.2,\n",
    "    random_state=random_state,\n",
    ")"
   ]
  },
  {
   "cell_type": "code",
   "execution_count": null,
   "id": "7c1c129d",
   "metadata": {},
   "outputs": [],
   "source": [
    "model_corr_gt1_scaled = GridSearchCV(SVC(), model_params, cv=cv, n_jobs=n_jobs, verbose=verbose)\n",
    "model_corr_gt1_scaled.fit(X_corr_gt1_scaled_train, y_corr_gt1_scaled_train)"
   ]
  },
  {
   "cell_type": "code",
   "execution_count": null,
   "id": "9b9e5d0b",
   "metadata": {},
   "outputs": [],
   "source": [
    "model_corr_gt1_scaled.best_params_"
   ]
  },
  {
   "cell_type": "code",
   "execution_count": null,
   "id": "3bb9a82c",
   "metadata": {},
   "outputs": [],
   "source": [
    "benchmarkAndUpdateResult(\n",
    "    X_corr_gt1_scaled_test,\n",
    "    y_corr_gt1_scaled_test,\n",
    "    model_corr_gt1_scaled,\n",
    "    f\"SVM {model_corr_gt1_scaled.best_params_}\",\n",
    "    \"Known attacks\",\n",
    "    \"|correlation| > 0.1 features scaled\",\n",
    ")"
   ]
  },
  {
   "cell_type": "code",
   "execution_count": null,
   "id": "19e484d7",
   "metadata": {},
   "outputs": [],
   "source": [
    "df_full = pd.DataFrame(df.drop(columns=[\"class\"]))\n",
    "df_full[\"class\"] = df[\"class\"]\n",
    "df_full.head()"
   ]
  },
  {
   "cell_type": "code",
   "execution_count": null,
   "id": "c4aa5f4c",
   "metadata": {},
   "outputs": [],
   "source": [
    "df_full = df_full.to_numpy()"
   ]
  },
  {
   "cell_type": "code",
   "execution_count": null,
   "id": "f9f53399",
   "metadata": {},
   "outputs": [],
   "source": [
    "X_full_train, X_full_test, y_full_train, y_full_test = train_test_split(\n",
    "    df_full[:, :-1],\n",
    "    df_full[:, -1],\n",
    "    test_size=0.2,\n",
    "    random_state=random_state,\n",
    ")"
   ]
  },
  {
   "cell_type": "code",
   "execution_count": null,
   "id": "6fb507df",
   "metadata": {},
   "outputs": [],
   "source": [
    "model_full = GridSearchCV(SVC(), model_params, cv=cv, n_jobs=n_jobs, verbose=verbose)\n",
    "model_full.fit(X_full_train, y_full_train)"
   ]
  },
  {
   "cell_type": "code",
   "execution_count": null,
   "id": "e399e4a2",
   "metadata": {},
   "outputs": [],
   "source": [
    "model_full.best_params_"
   ]
  },
  {
   "cell_type": "code",
   "execution_count": null,
   "id": "a833eba1",
   "metadata": {},
   "outputs": [],
   "source": [
    "benchmarkAndUpdateResult(\n",
    "    X_full_test,\n",
    "    y_full_test,\n",
    "    model_full,\n",
    "    f\"SVM {model_full.best_params_}\",\n",
    "    \"Known attacks\",\n",
    "    \"All features unscaled\",\n",
    ")"
   ]
  },
  {
   "cell_type": "code",
   "execution_count": null,
   "id": "034f107f",
   "metadata": {},
   "outputs": [],
   "source": [
    "df_full_scaled = df.drop(columns=[\"class\"])\n",
    "df_full_scaler = StandardScaler()\n",
    "df_full_scaled = df_full_scaler.fit_transform(df_full_scaled)\n",
    "df_full_scaled = pd.DataFrame(df_full_scaled, columns=df.drop(columns=\"class\").columns)\n",
    "df_full_scaled[\"class\"] = df[\"class\"]\n",
    "df_full_scaled.head()"
   ]
  },
  {
   "cell_type": "code",
   "execution_count": null,
   "id": "c87def00",
   "metadata": {},
   "outputs": [],
   "source": [
    "df_full_scaled = df_full_scaled.to_numpy()"
   ]
  },
  {
   "cell_type": "code",
   "execution_count": null,
   "id": "a451956a",
   "metadata": {},
   "outputs": [],
   "source": [
    "X_full_scaled_train, X_full_scaled_test, y_full_scaled_train, y_full_scaled_test = (\n",
    "    train_test_split(\n",
    "        df_full_scaled[:, :-1],\n",
    "        df_full_scaled[:, -1],\n",
    "        test_size=0.2,\n",
    "        random_state=random_state,\n",
    "    )\n",
    ")"
   ]
  },
  {
   "cell_type": "code",
   "execution_count": null,
   "id": "2bb5121c",
   "metadata": {},
   "outputs": [],
   "source": [
    "model_full_scaled = GridSearchCV(SVC(), model_params, cv=cv, n_jobs=n_jobs, verbose=verbose)\n",
    "model_full_scaled.fit(X_full_scaled_train, y_full_scaled_train)"
   ]
  },
  {
   "cell_type": "code",
   "execution_count": null,
   "id": "a66f074f",
   "metadata": {},
   "outputs": [],
   "source": [
    "model_full_scaled.best_params_"
   ]
  },
  {
   "cell_type": "code",
   "execution_count": null,
   "id": "df1b110b",
   "metadata": {},
   "outputs": [],
   "source": [
    "benchmarkAndUpdateResult(\n",
    "    X_full_scaled_test,\n",
    "    y_full_scaled_test,\n",
    "    model_full_scaled,\n",
    "    f\"SVM {model_full_scaled.best_params_}\",\n",
    "    \"Known attacks\",\n",
    "    \"All features scaled\",\n",
    ")"
   ]
  },
  {
   "cell_type": "code",
   "execution_count": null,
   "id": "a2311d97",
   "metadata": {},
   "outputs": [],
   "source": [
    "df_full_pca_95 = pd.DataFrame(X_pca[:, :27])\n",
    "df_full_pca_95[\"class\"] = df[\"class\"]\n",
    "df_full_pca_95.head()"
   ]
  },
  {
   "cell_type": "code",
   "execution_count": null,
   "id": "68214d4f",
   "metadata": {},
   "outputs": [],
   "source": [
    "df_full_pca_95 = df_full_pca_95.to_numpy()"
   ]
  },
  {
   "cell_type": "code",
   "execution_count": null,
   "id": "39590c1f",
   "metadata": {},
   "outputs": [],
   "source": [
    "X_full_pca_train, X_full_pca_test, y_full_pca_train, y_full_pca_test = train_test_split(\n",
    "    df_full_pca_95[:, :-1],\n",
    "    df_full_pca_95[:, -1],\n",
    "    test_size=0.2,\n",
    "    random_state=random_state,\n",
    ")"
   ]
  },
  {
   "cell_type": "code",
   "execution_count": null,
   "id": "c1b9e4e4",
   "metadata": {},
   "outputs": [],
   "source": [
    "model_full_pca = GridSearchCV(SVC(), model_params, cv=cv, n_jobs=n_jobs, verbose=verbose)\n",
    "model_full_pca.fit(X_full_pca_train, y_full_pca_train)"
   ]
  },
  {
   "cell_type": "code",
   "execution_count": null,
   "id": "b85c0ecb",
   "metadata": {},
   "outputs": [],
   "source": [
    "model_full_pca.best_params_"
   ]
  },
  {
   "cell_type": "code",
   "execution_count": null,
   "id": "361cafa2",
   "metadata": {},
   "outputs": [],
   "source": [
    "benchmarkAndUpdateResult(\n",
    "    X_full_pca_test,\n",
    "    y_full_pca_test,\n",
    "    model_full_pca,\n",
    "    f\"SVM {model_full_pca.best_params_}\",\n",
    "    \"Known attacks\",\n",
    "    \"PCA 95% on all features\",\n",
    ")"
   ]
  },
  {
   "cell_type": "code",
   "execution_count": null,
   "id": "6c17ef5f",
   "metadata": {},
   "outputs": [],
   "source": [
    "df_corr_gt1_pca_95 = pd.DataFrame(X_gt1_pca[:, :10])\n",
    "df_corr_gt1_pca_95[\"class\"] = df[\"class\"]\n",
    "df_corr_gt1_pca_95.head()"
   ]
  },
  {
   "cell_type": "code",
   "execution_count": null,
   "id": "84efc4d0",
   "metadata": {},
   "outputs": [],
   "source": [
    "df_corr_gt1_pca_95 = df_corr_gt1_pca_95.to_numpy()"
   ]
  },
  {
   "cell_type": "code",
   "execution_count": null,
   "id": "e6605932",
   "metadata": {},
   "outputs": [],
   "source": [
    "X_corr_gt1_pca_train, X_corr_gt1_pca_test, y_corr_gt1_pca_train, y_corr_gt1_pca_test = (\n",
    "    train_test_split(\n",
    "        df_corr_gt1_pca_95[:, :-1],\n",
    "        df_corr_gt1_pca_95[:, -1],\n",
    "        test_size=0.2,\n",
    "        random_state=random_state,\n",
    "    )\n",
    ")"
   ]
  },
  {
   "cell_type": "code",
   "execution_count": null,
   "id": "47ac357c",
   "metadata": {},
   "outputs": [],
   "source": [
    "model_corr_gt1_pca = GridSearchCV(SVC(), model_params, cv=cv, n_jobs=n_jobs, verbose=verbose)\n",
    "model_corr_gt1_pca.fit(X_corr_gt1_pca_train, y_corr_gt1_pca_train)"
   ]
  },
  {
   "cell_type": "code",
   "execution_count": null,
   "id": "fd35b520",
   "metadata": {},
   "outputs": [],
   "source": [
    "model_corr_gt1_pca.best_params_"
   ]
  },
  {
   "cell_type": "code",
   "execution_count": null,
   "id": "f42c6684",
   "metadata": {},
   "outputs": [],
   "source": [
    "benchmarkAndUpdateResult(\n",
    "    X_corr_gt1_pca_test,\n",
    "    y_corr_gt1_pca_test,\n",
    "    model_corr_gt1_pca,\n",
    "    f\"SVM {model_corr_gt1_pca.best_params_}\",\n",
    "    \"Known attacks\",\n",
    "    \"PCA 95% on features with |correlation| > 0.1\",\n",
    ")"
   ]
  },
  {
   "cell_type": "code",
   "execution_count": null,
   "id": "c5945850",
   "metadata": {},
   "outputs": [],
   "source": [
    "benchmark_results"
   ]
  },
  {
   "cell_type": "markdown",
   "id": "6d391fd1",
   "metadata": {},
   "source": [
    "- Best model in terms of accuracy and time: SVM with features with |correlation| > 0.1 and scaled\n",
    "- Testing this model on the similar attacks dataset"
   ]
  },
  {
   "cell_type": "code",
   "execution_count": null,
   "id": "f79be431",
   "metadata": {},
   "outputs": [],
   "source": [
    "df_similar_attacks = pd.read_csv(similar_attacks_path, low_memory=False)"
   ]
  },
  {
   "cell_type": "code",
   "execution_count": null,
   "id": "d9a6c205",
   "metadata": {},
   "outputs": [],
   "source": [
    "df_similar_attacks = df_similar_attacks.drop(columns=[\"ip_RF\", \"ip_MF\", \"ip_offset\"])\n",
    "df_similar_attacks[\"class\"] = df_similar_attacks[\"class\"].replace(\n",
    "    {\"normal\": 0, \"attack\": 1}\n",
    ")\n",
    "df_similar_attacks = pd.DataFrame(df_similar_attacks[cols_corr_gt1])\n",
    "df_similar_attacks_scaled = df_corr_gt1_scaler.transform(\n",
    "    df_similar_attacks.drop(columns=\"class\")\n",
    ")\n",
    "df_similar_attacks_scaled = pd.DataFrame(\n",
    "    df_similar_attacks_scaled, columns=df_similar_attacks.drop(columns=\"class\").columns\n",
    ")\n",
    "df_similar_attacks_scaled[\"class\"] = df_similar_attacks[\"class\"]\n",
    "df_similar_attacks_scaled.head()"
   ]
  },
  {
   "cell_type": "code",
   "execution_count": null,
   "id": "8b558c6c",
   "metadata": {},
   "outputs": [],
   "source": [
    "X_similar_attacks = df_similar_attacks_scaled.drop(columns=[\"class\"]).to_numpy()\n",
    "y_similar_attacks = df_similar_attacks_scaled[\"class\"].to_numpy()"
   ]
  },
  {
   "cell_type": "code",
   "execution_count": null,
   "id": "9393598f",
   "metadata": {},
   "outputs": [],
   "source": [
    "benchmarkAndUpdateResult(\n",
    "    X_similar_attacks,\n",
    "    y_similar_attacks,\n",
    "    model_corr_gt1_scaled,\n",
    "    f\"SVM {model_corr_gt1_scaled.best_params_}\",\n",
    "    \"Similar attacks\",\n",
    "    \"|correlation| > 0.1 features scaled\",\n",
    ")"
   ]
  },
  {
   "cell_type": "code",
   "execution_count": null,
   "id": "0652d9c9",
   "metadata": {},
   "outputs": [],
   "source": [
    "benchmark_results"
   ]
  },
  {
   "cell_type": "code",
   "execution_count": null,
   "id": "eb034c0c",
   "metadata": {},
   "outputs": [],
   "source": [
    "df_new_attacks = pd.read_csv(new_attacks_path, low_memory=False)"
   ]
  },
  {
   "cell_type": "code",
   "execution_count": null,
   "id": "cef12103",
   "metadata": {},
   "outputs": [],
   "source": [
    "df_new_attacks = df_new_attacks.drop(columns=[\"ip_RF\", \"ip_MF\", \"ip_offset\"])\n",
    "df_new_attacks[\"class\"] = df_new_attacks[\"class\"].replace({\"normal\": 0, \"attack\": 1})\n",
    "df_new_attacks = pd.DataFrame(df_new_attacks[cols_corr_gt1])\n",
    "df_new_attacks_scaled = df_corr_gt1_scaler.transform(\n",
    "    df_new_attacks.drop(columns=\"class\")\n",
    ")\n",
    "df_new_attacks_scaled = pd.DataFrame(\n",
    "    df_new_attacks_scaled, columns=df_new_attacks.drop(columns=\"class\").columns\n",
    ")\n",
    "df_new_attacks_scaled[\"class\"] = df_new_attacks[\"class\"]\n",
    "df_new_attacks_scaled.head()"
   ]
  },
  {
   "cell_type": "code",
   "execution_count": null,
   "id": "734d3b98",
   "metadata": {},
   "outputs": [],
   "source": [
    "X_new_attacks = df_new_attacks_scaled.drop(columns=[\"class\"]).to_numpy()\n",
    "y_new_attacks = df_new_attacks_scaled[\"class\"].to_numpy()"
   ]
  },
  {
   "cell_type": "code",
   "execution_count": null,
   "id": "c697097e",
   "metadata": {},
   "outputs": [],
   "source": [
    "benchmarkAndUpdateResult(\n",
    "    X_new_attacks,\n",
    "    y_new_attacks,\n",
    "    model_corr_gt1_scaled,\n",
    "    f\"SVM {model_corr_gt1_scaled.best_params_}\",\n",
    "    \"New attacks\",\n",
    "    \"|correlation| > 0.1 features scaled\",\n",
    ")"
   ]
  },
  {
   "cell_type": "code",
   "execution_count": null,
   "id": "f03920dc",
   "metadata": {},
   "outputs": [],
   "source": [
    "benchmark_results"
   ]
  }
 ],
 "metadata": {
  "kernelspec": {
   "display_name": "Python 3 (ipykernel)",
   "language": "python",
   "name": "python3"
  },
  "language_info": {
   "codemirror_mode": {
    "name": "ipython",
    "version": 3
   },
   "file_extension": ".py",
   "mimetype": "text/x-python",
   "name": "python",
   "nbconvert_exporter": "python",
   "pygments_lexer": "ipython3",
   "version": "3.10.12"
  }
 },
 "nbformat": 4,
 "nbformat_minor": 5
}
